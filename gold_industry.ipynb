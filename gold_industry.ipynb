{
 "cells": [
  {
   "cell_type": "markdown",
   "metadata": {},
   "source": [
    "# Проект - Восстановление золота из руды"
   ]
  },
  {
   "cell_type": "markdown",
   "metadata": {},
   "source": [
    "Подготовим модели машинного обучения для «Цифры». Компания разрабатывает решения для эффективной работы промышленных предприятий.\n",
    "\n",
    "\n",
    "Модель необходима для  оптимизизации производство, чтобы не запускать предприятие с убыточными характеристиками.\n",
    "\n",
    "Описание данных  \n",
    "Технологический процесс  \n",
    "- Rougher feed — исходное сырье  \n",
    "- Rougher additions (или reagent additions) — флотационные реагенты: Xanthate, Sulphate, Depressant   \n",
    "- Xanthate — ксантогенат (промотер, или активатор флотации);  \n",
    "- Sulphate — сульфат (на данном производстве сульфид натрия);    \n",
    "- Depressant — депрессант (силикат натрия).  \n",
    "- Rougher process (англ. «грубый процесс») — флотация  \n",
    "- Rougher tails — отвальные хвосты  \n",
    "- Float banks — флотационная установка  \n",
    "- Cleaner process — очистка  \n",
    "- Rougher Au — черновой концентрат золота  \n",
    "- Final Au — финальный концентрат золота  \n",
    "\n",
    "Параметры этапов  \n",
    "- air amount — объём воздуха  \n",
    "- fluid levels — уровень жидкости  \n",
    "- feed size — размер гранул сырья  \n",
    "- feed rate — скорость подачи  \n",
    "\n",
    "Возможные значения для блока [этап]:  \n",
    "- rougher — флотация  \n",
    "- primary_cleaner — первичная очистка  \n",
    "- secondary_cleaner — вторичная очистка  \n",
    "- final — финальные характеристики  \n",
    "Возможные значения для блока [тип_параметра]:  \n",
    "- input — параметры сырья  \n",
    "- output — параметры продукта  \n",
    "- state — параметры, характеризующие текущее состояние этапа  \n",
    "- calculation — расчётные характеристики  \n",
    "\n",
    "Цель: \n",
    "\n",
    "-  Построить модель для предсказания коэффициента восстановления золота из золотосодержащей руды\n",
    "\n",
    "Задачи:\n",
    "\n",
    "1. Подготовить данные;\n",
    "2. Провести исследовательский анализ данных;\n",
    "3. Построить и обучить модель.\n",
    "\n",
    "**Данное исследование разделим на несколько частей**\n",
    "\n",
    "***Часть 1. Изучение общей информации и подготовка данных:***\n",
    "* [1.1 Регион 1.Изученеие файлов с данными, получение общей информации, загрузка библиотек.](#1-bullet)\n",
    "* [1.2 Обработка данных. Добавление и удаление столбцов](#2-bullet)\n",
    "* [1.3 Работа с пропусками](#3-bullet)   \n",
    "\n",
    "***Часть 2.Анализ данных:***  \n",
    "* [2.1 Коцентрация металлов (Au, Ag, Pb).Графики распределения](#4-bullet)\n",
    "* [2.2 Распределение размеров гранул исходного сырья](#5-bullet)\n",
    "* [2.3 Суммарная концентрация металлов на разных стадиях](#6-bullet)\n",
    "\n",
    "\n",
    "\n",
    "***Часть 3.Модель:***  \n",
    "* [3.1 Функция  sMAPE](#7-bullet)\n",
    "* [3.2 Масштабирование данных](#8-bullet)\n",
    "* [3.3 Модель линейной регрессии](#9-bullet)\n",
    "* [3.4 Модель дерево решений](#10-bullet)\n",
    "* [3.5 Выводы ](#11-bullet)\n",
    " \n",
    "  \n",
    "\n",
    "\n"
   ]
  },
  {
   "cell_type": "markdown",
   "metadata": {},
   "source": [
    "## Подготовка данных"
   ]
  },
  {
   "cell_type": "markdown",
   "metadata": {},
   "source": [
    "<a id='1-bullet'></a>"
   ]
  },
  {
   "cell_type": "code",
   "execution_count": 1,
   "metadata": {},
   "outputs": [],
   "source": [
    "import pandas as pd\n",
    "import numpy as np\n",
    "import matplotlib.pyplot as plt\n",
    "import seaborn as sns\n",
    "from scipy import stats as st\n",
    "from sklearn import linear_model\n",
    "from sklearn import metrics\n",
    "from sklearn.metrics import mean_squared_error\n",
    "from sklearn.model_selection import train_test_split\n",
    "from sklearn.preprocessing import StandardScaler\n",
    "from sklearn.linear_model import LinearRegression\n",
    "from sklearn.tree import DecisionTreeRegressor\n",
    "from sklearn.metrics import mean_absolute_error\n",
    "from sklearn.model_selection import cross_val_score\n",
    "from sklearn.metrics import make_scorer\n",
    "from sklearn.model_selection import GridSearchCV\n",
    "from sklearn.dummy import DummyRegressor"
   ]
  },
  {
   "cell_type": "code",
   "execution_count": 2,
   "metadata": {},
   "outputs": [],
   "source": [
    "data_train = pd.read_csv('/datasets/gold_industry_train.csv')\n",
    "data_test = pd.read_csv('/datasets/gold_industry_test.csv')\n",
    "data_full = pd.read_csv('/datasets/gold_industry_full.csv')"
   ]
  },
  {
   "cell_type": "code",
   "execution_count": 3,
   "metadata": {},
   "outputs": [
    {
     "name": "stdout",
     "output_type": "stream",
     "text": [
      "<class 'pandas.core.frame.DataFrame'>\n",
      "RangeIndex: 14579 entries, 0 to 14578\n",
      "Data columns (total 87 columns):\n",
      " #   Column                                              Non-Null Count  Dtype  \n",
      "---  ------                                              --------------  -----  \n",
      " 0   date                                                14579 non-null  object \n",
      " 1   rougher.input.feed_au                               14579 non-null  float64\n",
      " 2   rougher.input.feed_ag                               14579 non-null  float64\n",
      " 3   rougher.input.feed_pb                               14507 non-null  float64\n",
      " 4   rougher.input.feed_sol                              14502 non-null  float64\n",
      " 5   rougher.input.feed_rate                             14572 non-null  float64\n",
      " 6   rougher.input.feed_size                             14478 non-null  float64\n",
      " 7   rougher.input.floatbank10_sulfate                   14548 non-null  float64\n",
      " 8   rougher.input.floatbank10_xanthate                  14572 non-null  float64\n",
      " 9   rougher.state.floatbank10_a_air                     14579 non-null  float64\n",
      " 10  rougher.state.floatbank10_a_level                   14579 non-null  float64\n",
      " 11  rougher.state.floatbank10_b_air                     14579 non-null  float64\n",
      " 12  rougher.state.floatbank10_b_level                   14579 non-null  float64\n",
      " 13  rougher.state.floatbank10_c_air                     14579 non-null  float64\n",
      " 14  rougher.state.floatbank10_c_level                   14579 non-null  float64\n",
      " 15  rougher.state.floatbank10_d_air                     14579 non-null  float64\n",
      " 16  rougher.state.floatbank10_d_level                   14579 non-null  float64\n",
      " 17  rougher.state.floatbank10_e_air                     14150 non-null  float64\n",
      " 18  rougher.state.floatbank10_e_level                   14579 non-null  float64\n",
      " 19  rougher.state.floatbank10_f_air                     14579 non-null  float64\n",
      " 20  rougher.state.floatbank10_f_level                   14579 non-null  float64\n",
      " 21  rougher.input.floatbank11_sulfate                   14543 non-null  float64\n",
      " 22  rougher.input.floatbank11_xanthate                  14172 non-null  float64\n",
      " 23  rougher.calculation.sulfate_to_au_concentrate       14578 non-null  float64\n",
      " 24  rougher.calculation.floatbank10_sulfate_to_au_feed  14578 non-null  float64\n",
      " 25  rougher.calculation.floatbank11_sulfate_to_au_feed  14578 non-null  float64\n",
      " 26  rougher.calculation.au_pb_ratio                     14579 non-null  float64\n",
      " 27  rougher.output.concentrate_au                       14579 non-null  float64\n",
      " 28  rougher.output.concentrate_ag                       14579 non-null  float64\n",
      " 29  rougher.output.concentrate_pb                       14579 non-null  float64\n",
      " 30  rougher.output.concentrate_sol                      14561 non-null  float64\n",
      " 31  rougher.output.recovery                             14579 non-null  float64\n",
      " 32  rougher.output.tail_au                              14579 non-null  float64\n",
      " 33  rougher.output.tail_ag                              14578 non-null  float64\n",
      " 34  rougher.output.tail_pb                              14579 non-null  float64\n",
      " 35  rougher.output.tail_sol                             14579 non-null  float64\n",
      " 36  primary_cleaner.input.sulfate                       14556 non-null  float64\n",
      " 37  primary_cleaner.input.depressant                    14551 non-null  float64\n",
      " 38  primary_cleaner.input.feed_size                     14579 non-null  float64\n",
      " 39  primary_cleaner.input.xanthate                      14518 non-null  float64\n",
      " 40  primary_cleaner.state.floatbank8_a_air              14576 non-null  float64\n",
      " 41  primary_cleaner.state.floatbank8_a_level            14579 non-null  float64\n",
      " 42  primary_cleaner.state.floatbank8_b_air              14576 non-null  float64\n",
      " 43  primary_cleaner.state.floatbank8_b_level            14579 non-null  float64\n",
      " 44  primary_cleaner.state.floatbank8_c_air              14579 non-null  float64\n",
      " 45  primary_cleaner.state.floatbank8_c_level            14579 non-null  float64\n",
      " 46  primary_cleaner.state.floatbank8_d_air              14578 non-null  float64\n",
      " 47  primary_cleaner.state.floatbank8_d_level            14579 non-null  float64\n",
      " 48  primary_cleaner.output.concentrate_au               14579 non-null  float64\n",
      " 49  primary_cleaner.output.concentrate_ag               14579 non-null  float64\n",
      " 50  primary_cleaner.output.concentrate_pb               14491 non-null  float64\n",
      " 51  primary_cleaner.output.concentrate_sol              14314 non-null  float64\n",
      " 52  primary_cleaner.output.tail_au                      14579 non-null  float64\n",
      " 53  primary_cleaner.output.tail_ag                      14575 non-null  float64\n",
      " 54  primary_cleaner.output.tail_pb                      14573 non-null  float64\n",
      " 55  primary_cleaner.output.tail_sol                     14534 non-null  float64\n",
      " 56  secondary_cleaner.state.floatbank2_a_air            14485 non-null  float64\n",
      " 57  secondary_cleaner.state.floatbank2_a_level          14579 non-null  float64\n",
      " 58  secondary_cleaner.state.floatbank2_b_air            14557 non-null  float64\n",
      " 59  secondary_cleaner.state.floatbank2_b_level          14579 non-null  float64\n",
      " 60  secondary_cleaner.state.floatbank3_a_air            14567 non-null  float64\n",
      " 61  secondary_cleaner.state.floatbank3_a_level          14579 non-null  float64\n",
      " 62  secondary_cleaner.state.floatbank3_b_air            14579 non-null  float64\n",
      " 63  secondary_cleaner.state.floatbank3_b_level          14579 non-null  float64\n",
      " 64  secondary_cleaner.state.floatbank4_a_air            14574 non-null  float64\n",
      " 65  secondary_cleaner.state.floatbank4_a_level          14579 non-null  float64\n",
      " 66  secondary_cleaner.state.floatbank4_b_air            14579 non-null  float64\n",
      " 67  secondary_cleaner.state.floatbank4_b_level          14579 non-null  float64\n",
      " 68  secondary_cleaner.state.floatbank5_a_air            14579 non-null  float64\n",
      " 69  secondary_cleaner.state.floatbank5_a_level          14579 non-null  float64\n",
      " 70  secondary_cleaner.state.floatbank5_b_air            14579 non-null  float64\n",
      " 71  secondary_cleaner.state.floatbank5_b_level          14579 non-null  float64\n",
      " 72  secondary_cleaner.state.floatbank6_a_air            14578 non-null  float64\n",
      " 73  secondary_cleaner.state.floatbank6_a_level          14579 non-null  float64\n",
      " 74  secondary_cleaner.output.tail_au                    14579 non-null  float64\n",
      " 75  secondary_cleaner.output.tail_ag                    14578 non-null  float64\n",
      " 76  secondary_cleaner.output.tail_pb                    14575 non-null  float64\n",
      " 77  secondary_cleaner.output.tail_sol                   13659 non-null  float64\n",
      " 78  final.output.concentrate_au                         14579 non-null  float64\n",
      " 79  final.output.concentrate_ag                         14578 non-null  float64\n",
      " 80  final.output.concentrate_pb                         14578 non-null  float64\n",
      " 81  final.output.concentrate_sol                        14387 non-null  float64\n",
      " 82  final.output.recovery                               14579 non-null  float64\n",
      " 83  final.output.tail_au                                14579 non-null  float64\n",
      " 84  final.output.tail_ag                                14578 non-null  float64\n",
      " 85  final.output.tail_pb                                14504 non-null  float64\n",
      " 86  final.output.tail_sol                               14574 non-null  float64\n",
      "dtypes: float64(86), object(1)\n",
      "memory usage: 9.7+ MB\n"
     ]
    }
   ],
   "source": [
    "data_train.info()"
   ]
  },
  {
   "cell_type": "code",
   "execution_count": 4,
   "metadata": {},
   "outputs": [
    {
     "data": {
      "text/html": [
       "<div>\n",
       "<style scoped>\n",
       "    .dataframe tbody tr th:only-of-type {\n",
       "        vertical-align: middle;\n",
       "    }\n",
       "\n",
       "    .dataframe tbody tr th {\n",
       "        vertical-align: top;\n",
       "    }\n",
       "\n",
       "    .dataframe thead th {\n",
       "        text-align: right;\n",
       "    }\n",
       "</style>\n",
       "<table border=\"1\" class=\"dataframe\">\n",
       "  <thead>\n",
       "    <tr style=\"text-align: right;\">\n",
       "      <th></th>\n",
       "      <th>date</th>\n",
       "      <th>rougher.input.feed_au</th>\n",
       "      <th>rougher.input.feed_ag</th>\n",
       "      <th>rougher.input.feed_pb</th>\n",
       "      <th>rougher.input.feed_sol</th>\n",
       "      <th>rougher.input.feed_rate</th>\n",
       "      <th>rougher.input.feed_size</th>\n",
       "      <th>rougher.input.floatbank10_sulfate</th>\n",
       "      <th>rougher.input.floatbank10_xanthate</th>\n",
       "      <th>rougher.state.floatbank10_a_air</th>\n",
       "      <th>...</th>\n",
       "      <th>secondary_cleaner.output.tail_sol</th>\n",
       "      <th>final.output.concentrate_au</th>\n",
       "      <th>final.output.concentrate_ag</th>\n",
       "      <th>final.output.concentrate_pb</th>\n",
       "      <th>final.output.concentrate_sol</th>\n",
       "      <th>final.output.recovery</th>\n",
       "      <th>final.output.tail_au</th>\n",
       "      <th>final.output.tail_ag</th>\n",
       "      <th>final.output.tail_pb</th>\n",
       "      <th>final.output.tail_sol</th>\n",
       "    </tr>\n",
       "  </thead>\n",
       "  <tbody>\n",
       "    <tr>\n",
       "      <th>0</th>\n",
       "      <td>2016-01-15 00:00:00</td>\n",
       "      <td>6.486150</td>\n",
       "      <td>6.100378</td>\n",
       "      <td>2.284912</td>\n",
       "      <td>36.808594</td>\n",
       "      <td>523.546326</td>\n",
       "      <td>55.486599</td>\n",
       "      <td>11.986616</td>\n",
       "      <td>6.007990</td>\n",
       "      <td>999.706909</td>\n",
       "      <td>...</td>\n",
       "      <td>8.764648</td>\n",
       "      <td>42.192020</td>\n",
       "      <td>6.055403</td>\n",
       "      <td>9.889648</td>\n",
       "      <td>5.507324</td>\n",
       "      <td>70.541216</td>\n",
       "      <td>2.143149</td>\n",
       "      <td>10.411962</td>\n",
       "      <td>0.895447</td>\n",
       "      <td>16.904297</td>\n",
       "    </tr>\n",
       "    <tr>\n",
       "      <th>1</th>\n",
       "      <td>2016-01-15 01:00:00</td>\n",
       "      <td>6.478583</td>\n",
       "      <td>6.161113</td>\n",
       "      <td>2.266033</td>\n",
       "      <td>35.753385</td>\n",
       "      <td>525.290581</td>\n",
       "      <td>57.278666</td>\n",
       "      <td>11.971193</td>\n",
       "      <td>6.005766</td>\n",
       "      <td>1000.286398</td>\n",
       "      <td>...</td>\n",
       "      <td>9.001494</td>\n",
       "      <td>42.701629</td>\n",
       "      <td>6.029369</td>\n",
       "      <td>9.968944</td>\n",
       "      <td>5.257781</td>\n",
       "      <td>69.266198</td>\n",
       "      <td>2.224930</td>\n",
       "      <td>10.462676</td>\n",
       "      <td>0.927452</td>\n",
       "      <td>16.634514</td>\n",
       "    </tr>\n",
       "    <tr>\n",
       "      <th>2</th>\n",
       "      <td>2016-01-15 02:00:00</td>\n",
       "      <td>6.362222</td>\n",
       "      <td>6.116455</td>\n",
       "      <td>2.159622</td>\n",
       "      <td>35.971630</td>\n",
       "      <td>530.026610</td>\n",
       "      <td>57.510649</td>\n",
       "      <td>11.920603</td>\n",
       "      <td>6.197377</td>\n",
       "      <td>999.719565</td>\n",
       "      <td>...</td>\n",
       "      <td>8.842896</td>\n",
       "      <td>42.657501</td>\n",
       "      <td>6.055926</td>\n",
       "      <td>10.213995</td>\n",
       "      <td>5.383759</td>\n",
       "      <td>68.116445</td>\n",
       "      <td>2.257889</td>\n",
       "      <td>10.507046</td>\n",
       "      <td>0.953716</td>\n",
       "      <td>16.208849</td>\n",
       "    </tr>\n",
       "    <tr>\n",
       "      <th>3</th>\n",
       "      <td>2016-01-15 03:00:00</td>\n",
       "      <td>6.118189</td>\n",
       "      <td>6.043309</td>\n",
       "      <td>2.037807</td>\n",
       "      <td>36.862241</td>\n",
       "      <td>542.590390</td>\n",
       "      <td>57.792734</td>\n",
       "      <td>11.630094</td>\n",
       "      <td>6.203177</td>\n",
       "      <td>999.814770</td>\n",
       "      <td>...</td>\n",
       "      <td>9.122857</td>\n",
       "      <td>42.689819</td>\n",
       "      <td>6.047977</td>\n",
       "      <td>9.977019</td>\n",
       "      <td>4.858634</td>\n",
       "      <td>68.347543</td>\n",
       "      <td>2.146849</td>\n",
       "      <td>10.422762</td>\n",
       "      <td>0.883763</td>\n",
       "      <td>16.532835</td>\n",
       "    </tr>\n",
       "    <tr>\n",
       "      <th>4</th>\n",
       "      <td>2016-01-15 04:00:00</td>\n",
       "      <td>5.663707</td>\n",
       "      <td>6.060915</td>\n",
       "      <td>1.786875</td>\n",
       "      <td>34.347666</td>\n",
       "      <td>540.531893</td>\n",
       "      <td>56.047189</td>\n",
       "      <td>10.957755</td>\n",
       "      <td>6.198826</td>\n",
       "      <td>999.678690</td>\n",
       "      <td>...</td>\n",
       "      <td>8.871028</td>\n",
       "      <td>42.774141</td>\n",
       "      <td>6.148599</td>\n",
       "      <td>10.142511</td>\n",
       "      <td>4.939416</td>\n",
       "      <td>66.927016</td>\n",
       "      <td>2.055292</td>\n",
       "      <td>10.360302</td>\n",
       "      <td>0.792826</td>\n",
       "      <td>16.525686</td>\n",
       "    </tr>\n",
       "  </tbody>\n",
       "</table>\n",
       "<p>5 rows × 87 columns</p>\n",
       "</div>"
      ],
      "text/plain": [
       "                  date  rougher.input.feed_au  rougher.input.feed_ag  \\\n",
       "0  2016-01-15 00:00:00               6.486150               6.100378   \n",
       "1  2016-01-15 01:00:00               6.478583               6.161113   \n",
       "2  2016-01-15 02:00:00               6.362222               6.116455   \n",
       "3  2016-01-15 03:00:00               6.118189               6.043309   \n",
       "4  2016-01-15 04:00:00               5.663707               6.060915   \n",
       "\n",
       "   rougher.input.feed_pb  rougher.input.feed_sol  rougher.input.feed_rate  \\\n",
       "0               2.284912               36.808594               523.546326   \n",
       "1               2.266033               35.753385               525.290581   \n",
       "2               2.159622               35.971630               530.026610   \n",
       "3               2.037807               36.862241               542.590390   \n",
       "4               1.786875               34.347666               540.531893   \n",
       "\n",
       "   rougher.input.feed_size  rougher.input.floatbank10_sulfate  \\\n",
       "0                55.486599                          11.986616   \n",
       "1                57.278666                          11.971193   \n",
       "2                57.510649                          11.920603   \n",
       "3                57.792734                          11.630094   \n",
       "4                56.047189                          10.957755   \n",
       "\n",
       "   rougher.input.floatbank10_xanthate  rougher.state.floatbank10_a_air  ...  \\\n",
       "0                            6.007990                       999.706909  ...   \n",
       "1                            6.005766                      1000.286398  ...   \n",
       "2                            6.197377                       999.719565  ...   \n",
       "3                            6.203177                       999.814770  ...   \n",
       "4                            6.198826                       999.678690  ...   \n",
       "\n",
       "   secondary_cleaner.output.tail_sol  final.output.concentrate_au  \\\n",
       "0                           8.764648                    42.192020   \n",
       "1                           9.001494                    42.701629   \n",
       "2                           8.842896                    42.657501   \n",
       "3                           9.122857                    42.689819   \n",
       "4                           8.871028                    42.774141   \n",
       "\n",
       "   final.output.concentrate_ag  final.output.concentrate_pb  \\\n",
       "0                     6.055403                     9.889648   \n",
       "1                     6.029369                     9.968944   \n",
       "2                     6.055926                    10.213995   \n",
       "3                     6.047977                     9.977019   \n",
       "4                     6.148599                    10.142511   \n",
       "\n",
       "   final.output.concentrate_sol  final.output.recovery  final.output.tail_au  \\\n",
       "0                      5.507324              70.541216              2.143149   \n",
       "1                      5.257781              69.266198              2.224930   \n",
       "2                      5.383759              68.116445              2.257889   \n",
       "3                      4.858634              68.347543              2.146849   \n",
       "4                      4.939416              66.927016              2.055292   \n",
       "\n",
       "   final.output.tail_ag  final.output.tail_pb  final.output.tail_sol  \n",
       "0             10.411962              0.895447              16.904297  \n",
       "1             10.462676              0.927452              16.634514  \n",
       "2             10.507046              0.953716              16.208849  \n",
       "3             10.422762              0.883763              16.532835  \n",
       "4             10.360302              0.792826              16.525686  \n",
       "\n",
       "[5 rows x 87 columns]"
      ]
     },
     "metadata": {},
     "output_type": "display_data"
    }
   ],
   "source": [
    "display(data_train.head())"
   ]
  },
  {
   "cell_type": "code",
   "execution_count": 5,
   "metadata": {},
   "outputs": [
    {
     "name": "stdout",
     "output_type": "stream",
     "text": [
      "<class 'pandas.core.frame.DataFrame'>\n",
      "RangeIndex: 4860 entries, 0 to 4859\n",
      "Data columns (total 53 columns):\n",
      " #   Column                                      Non-Null Count  Dtype  \n",
      "---  ------                                      --------------  -----  \n",
      " 0   date                                        4860 non-null   object \n",
      " 1   rougher.input.feed_au                       4860 non-null   float64\n",
      " 2   rougher.input.feed_ag                       4860 non-null   float64\n",
      " 3   rougher.input.feed_pb                       4832 non-null   float64\n",
      " 4   rougher.input.feed_sol                      4838 non-null   float64\n",
      " 5   rougher.input.feed_rate                     4856 non-null   float64\n",
      " 6   rougher.input.feed_size                     4816 non-null   float64\n",
      " 7   rougher.input.floatbank10_sulfate           4857 non-null   float64\n",
      " 8   rougher.input.floatbank10_xanthate          4859 non-null   float64\n",
      " 9   rougher.state.floatbank10_a_air             4859 non-null   float64\n",
      " 10  rougher.state.floatbank10_a_level           4859 non-null   float64\n",
      " 11  rougher.state.floatbank10_b_air             4859 non-null   float64\n",
      " 12  rougher.state.floatbank10_b_level           4859 non-null   float64\n",
      " 13  rougher.state.floatbank10_c_air             4859 non-null   float64\n",
      " 14  rougher.state.floatbank10_c_level           4859 non-null   float64\n",
      " 15  rougher.state.floatbank10_d_air             4860 non-null   float64\n",
      " 16  rougher.state.floatbank10_d_level           4860 non-null   float64\n",
      " 17  rougher.state.floatbank10_e_air             4853 non-null   float64\n",
      " 18  rougher.state.floatbank10_e_level           4860 non-null   float64\n",
      " 19  rougher.state.floatbank10_f_air             4860 non-null   float64\n",
      " 20  rougher.state.floatbank10_f_level           4860 non-null   float64\n",
      " 21  rougher.input.floatbank11_sulfate           4852 non-null   float64\n",
      " 22  rougher.input.floatbank11_xanthate          4814 non-null   float64\n",
      " 23  primary_cleaner.input.sulfate               4859 non-null   float64\n",
      " 24  primary_cleaner.input.depressant            4851 non-null   float64\n",
      " 25  primary_cleaner.input.feed_size             4860 non-null   float64\n",
      " 26  primary_cleaner.input.xanthate              4817 non-null   float64\n",
      " 27  primary_cleaner.state.floatbank8_a_air      4859 non-null   float64\n",
      " 28  primary_cleaner.state.floatbank8_a_level    4859 non-null   float64\n",
      " 29  primary_cleaner.state.floatbank8_b_air      4859 non-null   float64\n",
      " 30  primary_cleaner.state.floatbank8_b_level    4859 non-null   float64\n",
      " 31  primary_cleaner.state.floatbank8_c_air      4858 non-null   float64\n",
      " 32  primary_cleaner.state.floatbank8_c_level    4859 non-null   float64\n",
      " 33  primary_cleaner.state.floatbank8_d_air      4858 non-null   float64\n",
      " 34  primary_cleaner.state.floatbank8_d_level    4859 non-null   float64\n",
      " 35  secondary_cleaner.state.floatbank2_a_air    4734 non-null   float64\n",
      " 36  secondary_cleaner.state.floatbank2_a_level  4859 non-null   float64\n",
      " 37  secondary_cleaner.state.floatbank2_b_air    4859 non-null   float64\n",
      " 38  secondary_cleaner.state.floatbank2_b_level  4859 non-null   float64\n",
      " 39  secondary_cleaner.state.floatbank3_a_air    4859 non-null   float64\n",
      " 40  secondary_cleaner.state.floatbank3_a_level  4859 non-null   float64\n",
      " 41  secondary_cleaner.state.floatbank3_b_air    4859 non-null   float64\n",
      " 42  secondary_cleaner.state.floatbank3_b_level  4859 non-null   float64\n",
      " 43  secondary_cleaner.state.floatbank4_a_air    4859 non-null   float64\n",
      " 44  secondary_cleaner.state.floatbank4_a_level  4859 non-null   float64\n",
      " 45  secondary_cleaner.state.floatbank4_b_air    4859 non-null   float64\n",
      " 46  secondary_cleaner.state.floatbank4_b_level  4859 non-null   float64\n",
      " 47  secondary_cleaner.state.floatbank5_a_air    4859 non-null   float64\n",
      " 48  secondary_cleaner.state.floatbank5_a_level  4859 non-null   float64\n",
      " 49  secondary_cleaner.state.floatbank5_b_air    4859 non-null   float64\n",
      " 50  secondary_cleaner.state.floatbank5_b_level  4859 non-null   float64\n",
      " 51  secondary_cleaner.state.floatbank6_a_air    4859 non-null   float64\n",
      " 52  secondary_cleaner.state.floatbank6_a_level  4859 non-null   float64\n",
      "dtypes: float64(52), object(1)\n",
      "memory usage: 2.0+ MB\n"
     ]
    }
   ],
   "source": [
    "data_test.info()"
   ]
  },
  {
   "cell_type": "code",
   "execution_count": 6,
   "metadata": {},
   "outputs": [
    {
     "data": {
      "text/html": [
       "<div>\n",
       "<style scoped>\n",
       "    .dataframe tbody tr th:only-of-type {\n",
       "        vertical-align: middle;\n",
       "    }\n",
       "\n",
       "    .dataframe tbody tr th {\n",
       "        vertical-align: top;\n",
       "    }\n",
       "\n",
       "    .dataframe thead th {\n",
       "        text-align: right;\n",
       "    }\n",
       "</style>\n",
       "<table border=\"1\" class=\"dataframe\">\n",
       "  <thead>\n",
       "    <tr style=\"text-align: right;\">\n",
       "      <th></th>\n",
       "      <th>date</th>\n",
       "      <th>rougher.input.feed_au</th>\n",
       "      <th>rougher.input.feed_ag</th>\n",
       "      <th>rougher.input.feed_pb</th>\n",
       "      <th>rougher.input.feed_sol</th>\n",
       "      <th>rougher.input.feed_rate</th>\n",
       "      <th>rougher.input.feed_size</th>\n",
       "      <th>rougher.input.floatbank10_sulfate</th>\n",
       "      <th>rougher.input.floatbank10_xanthate</th>\n",
       "      <th>rougher.state.floatbank10_a_air</th>\n",
       "      <th>...</th>\n",
       "      <th>secondary_cleaner.state.floatbank4_a_air</th>\n",
       "      <th>secondary_cleaner.state.floatbank4_a_level</th>\n",
       "      <th>secondary_cleaner.state.floatbank4_b_air</th>\n",
       "      <th>secondary_cleaner.state.floatbank4_b_level</th>\n",
       "      <th>secondary_cleaner.state.floatbank5_a_air</th>\n",
       "      <th>secondary_cleaner.state.floatbank5_a_level</th>\n",
       "      <th>secondary_cleaner.state.floatbank5_b_air</th>\n",
       "      <th>secondary_cleaner.state.floatbank5_b_level</th>\n",
       "      <th>secondary_cleaner.state.floatbank6_a_air</th>\n",
       "      <th>secondary_cleaner.state.floatbank6_a_level</th>\n",
       "    </tr>\n",
       "  </thead>\n",
       "  <tbody>\n",
       "    <tr>\n",
       "      <th>0</th>\n",
       "      <td>2017-12-09 14:59:59</td>\n",
       "      <td>4.365491</td>\n",
       "      <td>6.158718</td>\n",
       "      <td>3.875727</td>\n",
       "      <td>39.135119</td>\n",
       "      <td>555.820208</td>\n",
       "      <td>94.544358</td>\n",
       "      <td>6.146982</td>\n",
       "      <td>9.308612</td>\n",
       "      <td>1196.238112</td>\n",
       "      <td>...</td>\n",
       "      <td>23.018622</td>\n",
       "      <td>-500.492702</td>\n",
       "      <td>20.020205</td>\n",
       "      <td>-500.220296</td>\n",
       "      <td>17.963512</td>\n",
       "      <td>-499.939490</td>\n",
       "      <td>12.990306</td>\n",
       "      <td>-500.080993</td>\n",
       "      <td>19.990336</td>\n",
       "      <td>-499.191575</td>\n",
       "    </tr>\n",
       "    <tr>\n",
       "      <th>1</th>\n",
       "      <td>2017-12-09 15:59:59</td>\n",
       "      <td>4.362781</td>\n",
       "      <td>6.048130</td>\n",
       "      <td>3.902537</td>\n",
       "      <td>39.713906</td>\n",
       "      <td>544.731687</td>\n",
       "      <td>123.742430</td>\n",
       "      <td>6.210119</td>\n",
       "      <td>9.297709</td>\n",
       "      <td>1201.904177</td>\n",
       "      <td>...</td>\n",
       "      <td>23.024963</td>\n",
       "      <td>-501.153409</td>\n",
       "      <td>20.054122</td>\n",
       "      <td>-500.314711</td>\n",
       "      <td>17.979515</td>\n",
       "      <td>-499.272871</td>\n",
       "      <td>12.992404</td>\n",
       "      <td>-499.976268</td>\n",
       "      <td>20.013986</td>\n",
       "      <td>-500.625471</td>\n",
       "    </tr>\n",
       "    <tr>\n",
       "      <th>2</th>\n",
       "      <td>2017-12-09 16:59:59</td>\n",
       "      <td>5.081681</td>\n",
       "      <td>6.082745</td>\n",
       "      <td>4.564078</td>\n",
       "      <td>37.208683</td>\n",
       "      <td>558.155110</td>\n",
       "      <td>82.610855</td>\n",
       "      <td>7.363824</td>\n",
       "      <td>9.003562</td>\n",
       "      <td>1200.826926</td>\n",
       "      <td>...</td>\n",
       "      <td>22.993827</td>\n",
       "      <td>-501.559663</td>\n",
       "      <td>20.029144</td>\n",
       "      <td>-500.000662</td>\n",
       "      <td>18.012723</td>\n",
       "      <td>-500.024764</td>\n",
       "      <td>13.016445</td>\n",
       "      <td>-500.058432</td>\n",
       "      <td>19.973767</td>\n",
       "      <td>-501.394155</td>\n",
       "    </tr>\n",
       "    <tr>\n",
       "      <th>3</th>\n",
       "      <td>2017-12-09 17:59:59</td>\n",
       "      <td>5.145949</td>\n",
       "      <td>6.084374</td>\n",
       "      <td>4.768124</td>\n",
       "      <td>36.808874</td>\n",
       "      <td>539.713765</td>\n",
       "      <td>77.984784</td>\n",
       "      <td>6.927072</td>\n",
       "      <td>8.955597</td>\n",
       "      <td>1199.292489</td>\n",
       "      <td>...</td>\n",
       "      <td>23.032807</td>\n",
       "      <td>-501.287889</td>\n",
       "      <td>19.977466</td>\n",
       "      <td>-500.159903</td>\n",
       "      <td>17.980463</td>\n",
       "      <td>-500.504602</td>\n",
       "      <td>12.949071</td>\n",
       "      <td>-500.009937</td>\n",
       "      <td>20.010332</td>\n",
       "      <td>-508.337973</td>\n",
       "    </tr>\n",
       "    <tr>\n",
       "      <th>4</th>\n",
       "      <td>2017-12-09 18:59:59</td>\n",
       "      <td>5.735249</td>\n",
       "      <td>6.165220</td>\n",
       "      <td>4.512346</td>\n",
       "      <td>37.810642</td>\n",
       "      <td>558.713584</td>\n",
       "      <td>86.434874</td>\n",
       "      <td>7.823471</td>\n",
       "      <td>7.490356</td>\n",
       "      <td>1198.005449</td>\n",
       "      <td>...</td>\n",
       "      <td>23.001911</td>\n",
       "      <td>-499.947838</td>\n",
       "      <td>20.023735</td>\n",
       "      <td>-499.713680</td>\n",
       "      <td>17.990955</td>\n",
       "      <td>-500.334769</td>\n",
       "      <td>13.007523</td>\n",
       "      <td>-499.968459</td>\n",
       "      <td>19.995999</td>\n",
       "      <td>-499.788805</td>\n",
       "    </tr>\n",
       "  </tbody>\n",
       "</table>\n",
       "<p>5 rows × 53 columns</p>\n",
       "</div>"
      ],
      "text/plain": [
       "                  date  rougher.input.feed_au  rougher.input.feed_ag  \\\n",
       "0  2017-12-09 14:59:59               4.365491               6.158718   \n",
       "1  2017-12-09 15:59:59               4.362781               6.048130   \n",
       "2  2017-12-09 16:59:59               5.081681               6.082745   \n",
       "3  2017-12-09 17:59:59               5.145949               6.084374   \n",
       "4  2017-12-09 18:59:59               5.735249               6.165220   \n",
       "\n",
       "   rougher.input.feed_pb  rougher.input.feed_sol  rougher.input.feed_rate  \\\n",
       "0               3.875727               39.135119               555.820208   \n",
       "1               3.902537               39.713906               544.731687   \n",
       "2               4.564078               37.208683               558.155110   \n",
       "3               4.768124               36.808874               539.713765   \n",
       "4               4.512346               37.810642               558.713584   \n",
       "\n",
       "   rougher.input.feed_size  rougher.input.floatbank10_sulfate  \\\n",
       "0                94.544358                           6.146982   \n",
       "1               123.742430                           6.210119   \n",
       "2                82.610855                           7.363824   \n",
       "3                77.984784                           6.927072   \n",
       "4                86.434874                           7.823471   \n",
       "\n",
       "   rougher.input.floatbank10_xanthate  rougher.state.floatbank10_a_air  ...  \\\n",
       "0                            9.308612                      1196.238112  ...   \n",
       "1                            9.297709                      1201.904177  ...   \n",
       "2                            9.003562                      1200.826926  ...   \n",
       "3                            8.955597                      1199.292489  ...   \n",
       "4                            7.490356                      1198.005449  ...   \n",
       "\n",
       "   secondary_cleaner.state.floatbank4_a_air  \\\n",
       "0                                 23.018622   \n",
       "1                                 23.024963   \n",
       "2                                 22.993827   \n",
       "3                                 23.032807   \n",
       "4                                 23.001911   \n",
       "\n",
       "   secondary_cleaner.state.floatbank4_a_level  \\\n",
       "0                                 -500.492702   \n",
       "1                                 -501.153409   \n",
       "2                                 -501.559663   \n",
       "3                                 -501.287889   \n",
       "4                                 -499.947838   \n",
       "\n",
       "   secondary_cleaner.state.floatbank4_b_air  \\\n",
       "0                                 20.020205   \n",
       "1                                 20.054122   \n",
       "2                                 20.029144   \n",
       "3                                 19.977466   \n",
       "4                                 20.023735   \n",
       "\n",
       "   secondary_cleaner.state.floatbank4_b_level  \\\n",
       "0                                 -500.220296   \n",
       "1                                 -500.314711   \n",
       "2                                 -500.000662   \n",
       "3                                 -500.159903   \n",
       "4                                 -499.713680   \n",
       "\n",
       "   secondary_cleaner.state.floatbank5_a_air  \\\n",
       "0                                 17.963512   \n",
       "1                                 17.979515   \n",
       "2                                 18.012723   \n",
       "3                                 17.980463   \n",
       "4                                 17.990955   \n",
       "\n",
       "   secondary_cleaner.state.floatbank5_a_level  \\\n",
       "0                                 -499.939490   \n",
       "1                                 -499.272871   \n",
       "2                                 -500.024764   \n",
       "3                                 -500.504602   \n",
       "4                                 -500.334769   \n",
       "\n",
       "   secondary_cleaner.state.floatbank5_b_air  \\\n",
       "0                                 12.990306   \n",
       "1                                 12.992404   \n",
       "2                                 13.016445   \n",
       "3                                 12.949071   \n",
       "4                                 13.007523   \n",
       "\n",
       "   secondary_cleaner.state.floatbank5_b_level  \\\n",
       "0                                 -500.080993   \n",
       "1                                 -499.976268   \n",
       "2                                 -500.058432   \n",
       "3                                 -500.009937   \n",
       "4                                 -499.968459   \n",
       "\n",
       "   secondary_cleaner.state.floatbank6_a_air  \\\n",
       "0                                 19.990336   \n",
       "1                                 20.013986   \n",
       "2                                 19.973767   \n",
       "3                                 20.010332   \n",
       "4                                 19.995999   \n",
       "\n",
       "   secondary_cleaner.state.floatbank6_a_level  \n",
       "0                                 -499.191575  \n",
       "1                                 -500.625471  \n",
       "2                                 -501.394155  \n",
       "3                                 -508.337973  \n",
       "4                                 -499.788805  \n",
       "\n",
       "[5 rows x 53 columns]"
      ]
     },
     "metadata": {},
     "output_type": "display_data"
    }
   ],
   "source": [
    "display(data_test.head())"
   ]
  },
  {
   "cell_type": "code",
   "execution_count": 7,
   "metadata": {},
   "outputs": [
    {
     "name": "stdout",
     "output_type": "stream",
     "text": [
      "<class 'pandas.core.frame.DataFrame'>\n",
      "RangeIndex: 19439 entries, 0 to 19438\n",
      "Data columns (total 87 columns):\n",
      " #   Column                                              Non-Null Count  Dtype  \n",
      "---  ------                                              --------------  -----  \n",
      " 0   date                                                19439 non-null  object \n",
      " 1   rougher.input.feed_au                               19439 non-null  float64\n",
      " 2   rougher.input.feed_ag                               19439 non-null  float64\n",
      " 3   rougher.input.feed_pb                               19339 non-null  float64\n",
      " 4   rougher.input.feed_sol                              19340 non-null  float64\n",
      " 5   rougher.input.feed_rate                             19428 non-null  float64\n",
      " 6   rougher.input.feed_size                             19294 non-null  float64\n",
      " 7   rougher.input.floatbank10_sulfate                   19405 non-null  float64\n",
      " 8   rougher.input.floatbank10_xanthate                  19431 non-null  float64\n",
      " 9   rougher.state.floatbank10_a_air                     19438 non-null  float64\n",
      " 10  rougher.state.floatbank10_a_level                   19438 non-null  float64\n",
      " 11  rougher.state.floatbank10_b_air                     19438 non-null  float64\n",
      " 12  rougher.state.floatbank10_b_level                   19438 non-null  float64\n",
      " 13  rougher.state.floatbank10_c_air                     19438 non-null  float64\n",
      " 14  rougher.state.floatbank10_c_level                   19438 non-null  float64\n",
      " 15  rougher.state.floatbank10_d_air                     19439 non-null  float64\n",
      " 16  rougher.state.floatbank10_d_level                   19439 non-null  float64\n",
      " 17  rougher.state.floatbank10_e_air                     19003 non-null  float64\n",
      " 18  rougher.state.floatbank10_e_level                   19439 non-null  float64\n",
      " 19  rougher.state.floatbank10_f_air                     19439 non-null  float64\n",
      " 20  rougher.state.floatbank10_f_level                   19439 non-null  float64\n",
      " 21  rougher.input.floatbank11_sulfate                   19395 non-null  float64\n",
      " 22  rougher.input.floatbank11_xanthate                  18986 non-null  float64\n",
      " 23  rougher.calculation.sulfate_to_au_concentrate       19437 non-null  float64\n",
      " 24  rougher.calculation.floatbank10_sulfate_to_au_feed  19437 non-null  float64\n",
      " 25  rougher.calculation.floatbank11_sulfate_to_au_feed  19437 non-null  float64\n",
      " 26  rougher.calculation.au_pb_ratio                     19439 non-null  float64\n",
      " 27  rougher.output.concentrate_au                       19439 non-null  float64\n",
      " 28  rougher.output.concentrate_ag                       19439 non-null  float64\n",
      " 29  rougher.output.concentrate_pb                       19439 non-null  float64\n",
      " 30  rougher.output.concentrate_sol                      19416 non-null  float64\n",
      " 31  rougher.output.recovery                             19439 non-null  float64\n",
      " 32  rougher.output.tail_au                              19439 non-null  float64\n",
      " 33  rougher.output.tail_ag                              19438 non-null  float64\n",
      " 34  rougher.output.tail_pb                              19439 non-null  float64\n",
      " 35  rougher.output.tail_sol                             19439 non-null  float64\n",
      " 36  primary_cleaner.input.sulfate                       19415 non-null  float64\n",
      " 37  primary_cleaner.input.depressant                    19402 non-null  float64\n",
      " 38  primary_cleaner.input.feed_size                     19439 non-null  float64\n",
      " 39  primary_cleaner.input.xanthate                      19335 non-null  float64\n",
      " 40  primary_cleaner.state.floatbank8_a_air              19435 non-null  float64\n",
      " 41  primary_cleaner.state.floatbank8_a_level            19438 non-null  float64\n",
      " 42  primary_cleaner.state.floatbank8_b_air              19435 non-null  float64\n",
      " 43  primary_cleaner.state.floatbank8_b_level            19438 non-null  float64\n",
      " 44  primary_cleaner.state.floatbank8_c_air              19437 non-null  float64\n",
      " 45  primary_cleaner.state.floatbank8_c_level            19438 non-null  float64\n",
      " 46  primary_cleaner.state.floatbank8_d_air              19436 non-null  float64\n",
      " 47  primary_cleaner.state.floatbank8_d_level            19438 non-null  float64\n",
      " 48  primary_cleaner.output.concentrate_au               19439 non-null  float64\n",
      " 49  primary_cleaner.output.concentrate_ag               19439 non-null  float64\n",
      " 50  primary_cleaner.output.concentrate_pb               19323 non-null  float64\n",
      " 51  primary_cleaner.output.concentrate_sol              19069 non-null  float64\n",
      " 52  primary_cleaner.output.tail_au                      19439 non-null  float64\n",
      " 53  primary_cleaner.output.tail_ag                      19435 non-null  float64\n",
      " 54  primary_cleaner.output.tail_pb                      19418 non-null  float64\n",
      " 55  primary_cleaner.output.tail_sol                     19377 non-null  float64\n",
      " 56  secondary_cleaner.state.floatbank2_a_air            19219 non-null  float64\n",
      " 57  secondary_cleaner.state.floatbank2_a_level          19438 non-null  float64\n",
      " 58  secondary_cleaner.state.floatbank2_b_air            19416 non-null  float64\n",
      " 59  secondary_cleaner.state.floatbank2_b_level          19438 non-null  float64\n",
      " 60  secondary_cleaner.state.floatbank3_a_air            19426 non-null  float64\n",
      " 61  secondary_cleaner.state.floatbank3_a_level          19438 non-null  float64\n",
      " 62  secondary_cleaner.state.floatbank3_b_air            19438 non-null  float64\n",
      " 63  secondary_cleaner.state.floatbank3_b_level          19438 non-null  float64\n",
      " 64  secondary_cleaner.state.floatbank4_a_air            19433 non-null  float64\n",
      " 65  secondary_cleaner.state.floatbank4_a_level          19438 non-null  float64\n",
      " 66  secondary_cleaner.state.floatbank4_b_air            19438 non-null  float64\n",
      " 67  secondary_cleaner.state.floatbank4_b_level          19438 non-null  float64\n",
      " 68  secondary_cleaner.state.floatbank5_a_air            19438 non-null  float64\n",
      " 69  secondary_cleaner.state.floatbank5_a_level          19438 non-null  float64\n",
      " 70  secondary_cleaner.state.floatbank5_b_air            19438 non-null  float64\n",
      " 71  secondary_cleaner.state.floatbank5_b_level          19438 non-null  float64\n",
      " 72  secondary_cleaner.state.floatbank6_a_air            19437 non-null  float64\n",
      " 73  secondary_cleaner.state.floatbank6_a_level          19438 non-null  float64\n",
      " 74  secondary_cleaner.output.tail_au                    19439 non-null  float64\n",
      " 75  secondary_cleaner.output.tail_ag                    19437 non-null  float64\n",
      " 76  secondary_cleaner.output.tail_pb                    19427 non-null  float64\n",
      " 77  secondary_cleaner.output.tail_sol                   17691 non-null  float64\n",
      " 78  final.output.concentrate_au                         19439 non-null  float64\n",
      " 79  final.output.concentrate_ag                         19438 non-null  float64\n",
      " 80  final.output.concentrate_pb                         19438 non-null  float64\n",
      " 81  final.output.concentrate_sol                        19228 non-null  float64\n",
      " 82  final.output.recovery                               19439 non-null  float64\n",
      " 83  final.output.tail_au                                19439 non-null  float64\n",
      " 84  final.output.tail_ag                                19438 non-null  float64\n",
      " 85  final.output.tail_pb                                19338 non-null  float64\n",
      " 86  final.output.tail_sol                               19433 non-null  float64\n",
      "dtypes: float64(86), object(1)\n",
      "memory usage: 12.9+ MB\n"
     ]
    }
   ],
   "source": [
    "data_full.info()"
   ]
  },
  {
   "cell_type": "code",
   "execution_count": 8,
   "metadata": {},
   "outputs": [
    {
     "data": {
      "text/html": [
       "<div>\n",
       "<style scoped>\n",
       "    .dataframe tbody tr th:only-of-type {\n",
       "        vertical-align: middle;\n",
       "    }\n",
       "\n",
       "    .dataframe tbody tr th {\n",
       "        vertical-align: top;\n",
       "    }\n",
       "\n",
       "    .dataframe thead th {\n",
       "        text-align: right;\n",
       "    }\n",
       "</style>\n",
       "<table border=\"1\" class=\"dataframe\">\n",
       "  <thead>\n",
       "    <tr style=\"text-align: right;\">\n",
       "      <th></th>\n",
       "      <th>date</th>\n",
       "      <th>rougher.input.feed_au</th>\n",
       "      <th>rougher.input.feed_ag</th>\n",
       "      <th>rougher.input.feed_pb</th>\n",
       "      <th>rougher.input.feed_sol</th>\n",
       "      <th>rougher.input.feed_rate</th>\n",
       "      <th>rougher.input.feed_size</th>\n",
       "      <th>rougher.input.floatbank10_sulfate</th>\n",
       "      <th>rougher.input.floatbank10_xanthate</th>\n",
       "      <th>rougher.state.floatbank10_a_air</th>\n",
       "      <th>...</th>\n",
       "      <th>secondary_cleaner.output.tail_sol</th>\n",
       "      <th>final.output.concentrate_au</th>\n",
       "      <th>final.output.concentrate_ag</th>\n",
       "      <th>final.output.concentrate_pb</th>\n",
       "      <th>final.output.concentrate_sol</th>\n",
       "      <th>final.output.recovery</th>\n",
       "      <th>final.output.tail_au</th>\n",
       "      <th>final.output.tail_ag</th>\n",
       "      <th>final.output.tail_pb</th>\n",
       "      <th>final.output.tail_sol</th>\n",
       "    </tr>\n",
       "  </thead>\n",
       "  <tbody>\n",
       "    <tr>\n",
       "      <th>0</th>\n",
       "      <td>2016-01-15 00:00:00</td>\n",
       "      <td>6.486150</td>\n",
       "      <td>6.100378</td>\n",
       "      <td>2.284912</td>\n",
       "      <td>36.808594</td>\n",
       "      <td>523.546326</td>\n",
       "      <td>55.486599</td>\n",
       "      <td>11.986616</td>\n",
       "      <td>6.007990</td>\n",
       "      <td>999.706909</td>\n",
       "      <td>...</td>\n",
       "      <td>8.764648</td>\n",
       "      <td>42.192020</td>\n",
       "      <td>6.055403</td>\n",
       "      <td>9.889648</td>\n",
       "      <td>5.507324</td>\n",
       "      <td>70.541216</td>\n",
       "      <td>2.143149</td>\n",
       "      <td>10.411962</td>\n",
       "      <td>0.895447</td>\n",
       "      <td>16.904297</td>\n",
       "    </tr>\n",
       "    <tr>\n",
       "      <th>1</th>\n",
       "      <td>2016-01-15 01:00:00</td>\n",
       "      <td>6.478583</td>\n",
       "      <td>6.161113</td>\n",
       "      <td>2.266033</td>\n",
       "      <td>35.753385</td>\n",
       "      <td>525.290581</td>\n",
       "      <td>57.278666</td>\n",
       "      <td>11.971193</td>\n",
       "      <td>6.005766</td>\n",
       "      <td>1000.286398</td>\n",
       "      <td>...</td>\n",
       "      <td>9.001494</td>\n",
       "      <td>42.701629</td>\n",
       "      <td>6.029369</td>\n",
       "      <td>9.968944</td>\n",
       "      <td>5.257781</td>\n",
       "      <td>69.266198</td>\n",
       "      <td>2.224930</td>\n",
       "      <td>10.462676</td>\n",
       "      <td>0.927452</td>\n",
       "      <td>16.634514</td>\n",
       "    </tr>\n",
       "    <tr>\n",
       "      <th>2</th>\n",
       "      <td>2016-01-15 02:00:00</td>\n",
       "      <td>6.362222</td>\n",
       "      <td>6.116455</td>\n",
       "      <td>2.159622</td>\n",
       "      <td>35.971630</td>\n",
       "      <td>530.026610</td>\n",
       "      <td>57.510649</td>\n",
       "      <td>11.920603</td>\n",
       "      <td>6.197377</td>\n",
       "      <td>999.719565</td>\n",
       "      <td>...</td>\n",
       "      <td>8.842896</td>\n",
       "      <td>42.657501</td>\n",
       "      <td>6.055926</td>\n",
       "      <td>10.213995</td>\n",
       "      <td>5.383759</td>\n",
       "      <td>68.116445</td>\n",
       "      <td>2.257889</td>\n",
       "      <td>10.507046</td>\n",
       "      <td>0.953716</td>\n",
       "      <td>16.208849</td>\n",
       "    </tr>\n",
       "    <tr>\n",
       "      <th>3</th>\n",
       "      <td>2016-01-15 03:00:00</td>\n",
       "      <td>6.118189</td>\n",
       "      <td>6.043309</td>\n",
       "      <td>2.037807</td>\n",
       "      <td>36.862241</td>\n",
       "      <td>542.590390</td>\n",
       "      <td>57.792734</td>\n",
       "      <td>11.630094</td>\n",
       "      <td>6.203177</td>\n",
       "      <td>999.814770</td>\n",
       "      <td>...</td>\n",
       "      <td>9.122857</td>\n",
       "      <td>42.689819</td>\n",
       "      <td>6.047977</td>\n",
       "      <td>9.977019</td>\n",
       "      <td>4.858634</td>\n",
       "      <td>68.347543</td>\n",
       "      <td>2.146849</td>\n",
       "      <td>10.422762</td>\n",
       "      <td>0.883763</td>\n",
       "      <td>16.532835</td>\n",
       "    </tr>\n",
       "    <tr>\n",
       "      <th>4</th>\n",
       "      <td>2016-01-15 04:00:00</td>\n",
       "      <td>5.663707</td>\n",
       "      <td>6.060915</td>\n",
       "      <td>1.786875</td>\n",
       "      <td>34.347666</td>\n",
       "      <td>540.531893</td>\n",
       "      <td>56.047189</td>\n",
       "      <td>10.957755</td>\n",
       "      <td>6.198826</td>\n",
       "      <td>999.678690</td>\n",
       "      <td>...</td>\n",
       "      <td>8.871028</td>\n",
       "      <td>42.774141</td>\n",
       "      <td>6.148599</td>\n",
       "      <td>10.142511</td>\n",
       "      <td>4.939416</td>\n",
       "      <td>66.927016</td>\n",
       "      <td>2.055292</td>\n",
       "      <td>10.360302</td>\n",
       "      <td>0.792826</td>\n",
       "      <td>16.525686</td>\n",
       "    </tr>\n",
       "  </tbody>\n",
       "</table>\n",
       "<p>5 rows × 87 columns</p>\n",
       "</div>"
      ],
      "text/plain": [
       "                  date  rougher.input.feed_au  rougher.input.feed_ag  \\\n",
       "0  2016-01-15 00:00:00               6.486150               6.100378   \n",
       "1  2016-01-15 01:00:00               6.478583               6.161113   \n",
       "2  2016-01-15 02:00:00               6.362222               6.116455   \n",
       "3  2016-01-15 03:00:00               6.118189               6.043309   \n",
       "4  2016-01-15 04:00:00               5.663707               6.060915   \n",
       "\n",
       "   rougher.input.feed_pb  rougher.input.feed_sol  rougher.input.feed_rate  \\\n",
       "0               2.284912               36.808594               523.546326   \n",
       "1               2.266033               35.753385               525.290581   \n",
       "2               2.159622               35.971630               530.026610   \n",
       "3               2.037807               36.862241               542.590390   \n",
       "4               1.786875               34.347666               540.531893   \n",
       "\n",
       "   rougher.input.feed_size  rougher.input.floatbank10_sulfate  \\\n",
       "0                55.486599                          11.986616   \n",
       "1                57.278666                          11.971193   \n",
       "2                57.510649                          11.920603   \n",
       "3                57.792734                          11.630094   \n",
       "4                56.047189                          10.957755   \n",
       "\n",
       "   rougher.input.floatbank10_xanthate  rougher.state.floatbank10_a_air  ...  \\\n",
       "0                            6.007990                       999.706909  ...   \n",
       "1                            6.005766                      1000.286398  ...   \n",
       "2                            6.197377                       999.719565  ...   \n",
       "3                            6.203177                       999.814770  ...   \n",
       "4                            6.198826                       999.678690  ...   \n",
       "\n",
       "   secondary_cleaner.output.tail_sol  final.output.concentrate_au  \\\n",
       "0                           8.764648                    42.192020   \n",
       "1                           9.001494                    42.701629   \n",
       "2                           8.842896                    42.657501   \n",
       "3                           9.122857                    42.689819   \n",
       "4                           8.871028                    42.774141   \n",
       "\n",
       "   final.output.concentrate_ag  final.output.concentrate_pb  \\\n",
       "0                     6.055403                     9.889648   \n",
       "1                     6.029369                     9.968944   \n",
       "2                     6.055926                    10.213995   \n",
       "3                     6.047977                     9.977019   \n",
       "4                     6.148599                    10.142511   \n",
       "\n",
       "   final.output.concentrate_sol  final.output.recovery  final.output.tail_au  \\\n",
       "0                      5.507324              70.541216              2.143149   \n",
       "1                      5.257781              69.266198              2.224930   \n",
       "2                      5.383759              68.116445              2.257889   \n",
       "3                      4.858634              68.347543              2.146849   \n",
       "4                      4.939416              66.927016              2.055292   \n",
       "\n",
       "   final.output.tail_ag  final.output.tail_pb  final.output.tail_sol  \n",
       "0             10.411962              0.895447              16.904297  \n",
       "1             10.462676              0.927452              16.634514  \n",
       "2             10.507046              0.953716              16.208849  \n",
       "3             10.422762              0.883763              16.532835  \n",
       "4             10.360302              0.792826              16.525686  \n",
       "\n",
       "[5 rows x 87 columns]"
      ]
     },
     "metadata": {},
     "output_type": "display_data"
    }
   ],
   "source": [
    "display(data_full.head())"
   ]
  },
  {
   "cell_type": "markdown",
   "metadata": {},
   "source": [
    "Приведем стобец date в обучающей и тестовой выборке к числовому формату"
   ]
  },
  {
   "cell_type": "code",
   "execution_count": 9,
   "metadata": {},
   "outputs": [],
   "source": [
    "data_train['date'] = pd.to_datetime(data_train['date'],format='%Y-%m-%d %H:%M:%S')\n"
   ]
  },
  {
   "cell_type": "code",
   "execution_count": 10,
   "metadata": {},
   "outputs": [],
   "source": [
    "data_train['date'] =data_train['date'].astype('int')"
   ]
  },
  {
   "cell_type": "code",
   "execution_count": 11,
   "metadata": {},
   "outputs": [],
   "source": [
    "data_test['date'] = pd.to_datetime(data_test['date'],format='%Y-%m-%d %H:%M:%S')"
   ]
  },
  {
   "cell_type": "code",
   "execution_count": 12,
   "metadata": {},
   "outputs": [],
   "source": [
    "data_test['date'] =data_test['date'].astype('int')"
   ]
  },
  {
   "cell_type": "code",
   "execution_count": 13,
   "metadata": {},
   "outputs": [
    {
     "name": "stdout",
     "output_type": "stream",
     "text": [
      "MAE 9.83758577644259e-15\n"
     ]
    }
   ],
   "source": [
    "C = data_train['rougher.output.concentrate_au']\n",
    "F = data_train['rougher.input.feed_au']\n",
    "T = data_train['rougher.output.tail_au']\n",
    "predictions_recovery = ((C*(F-T))/(F*(C-T)))*100\n",
    "target_recovery = data_train['rougher.output.recovery']\n",
    "print('MAE',mean_absolute_error(target_recovery,predictions_recovery))"
   ]
  },
  {
   "cell_type": "markdown",
   "metadata": {},
   "source": [
    "Вывод: эффективность обогащения рассчитана корректно   \n",
    "Отклонение равно 0"
   ]
  },
  {
   "cell_type": "code",
   "execution_count": 14,
   "metadata": {},
   "outputs": [
    {
     "data": {
      "text/plain": [
       "{'final.output.concentrate_ag',\n",
       " 'final.output.concentrate_au',\n",
       " 'final.output.concentrate_pb',\n",
       " 'final.output.concentrate_sol',\n",
       " 'final.output.recovery',\n",
       " 'final.output.tail_ag',\n",
       " 'final.output.tail_au',\n",
       " 'final.output.tail_pb',\n",
       " 'final.output.tail_sol',\n",
       " 'primary_cleaner.output.concentrate_ag',\n",
       " 'primary_cleaner.output.concentrate_au',\n",
       " 'primary_cleaner.output.concentrate_pb',\n",
       " 'primary_cleaner.output.concentrate_sol',\n",
       " 'primary_cleaner.output.tail_ag',\n",
       " 'primary_cleaner.output.tail_au',\n",
       " 'primary_cleaner.output.tail_pb',\n",
       " 'primary_cleaner.output.tail_sol',\n",
       " 'rougher.calculation.au_pb_ratio',\n",
       " 'rougher.calculation.floatbank10_sulfate_to_au_feed',\n",
       " 'rougher.calculation.floatbank11_sulfate_to_au_feed',\n",
       " 'rougher.calculation.sulfate_to_au_concentrate',\n",
       " 'rougher.output.concentrate_ag',\n",
       " 'rougher.output.concentrate_au',\n",
       " 'rougher.output.concentrate_pb',\n",
       " 'rougher.output.concentrate_sol',\n",
       " 'rougher.output.recovery',\n",
       " 'rougher.output.tail_ag',\n",
       " 'rougher.output.tail_au',\n",
       " 'rougher.output.tail_pb',\n",
       " 'rougher.output.tail_sol',\n",
       " 'secondary_cleaner.output.tail_ag',\n",
       " 'secondary_cleaner.output.tail_au',\n",
       " 'secondary_cleaner.output.tail_pb',\n",
       " 'secondary_cleaner.output.tail_sol'}"
      ]
     },
     "metadata": {},
     "output_type": "display_data"
    }
   ],
   "source": [
    "columns_not_in_test = set(data_train.columns) - set(data_test.columns)\n",
    "\n",
    "display(columns_not_in_test)"
   ]
  },
  {
   "cell_type": "markdown",
   "metadata": {},
   "source": [
    "Проанализировав столбцы(признаки) которых нет в тестовой выборке, можно сделать вывод что это рассчетные величины и отвальные хвосты и консетраты    \n",
    "Удалим колонки в обучающем датасете  - 35 столбцов  \n",
    "Данные в этих столбцах не доуступны на моменте обучения и несут в себе лишнюю нагрузку на модель и необходимо будет ждать этих данных и не запускать модель в производство\n"
   ]
  },
  {
   "cell_type": "markdown",
   "metadata": {},
   "source": [
    "<a id='2-bullet'></a>"
   ]
  },
  {
   "cell_type": "code",
   "execution_count": 15,
   "metadata": {},
   "outputs": [],
   "source": [
    "data_train = data_train.drop(data_train.columns[[0,23,24,25,26,27,28,29,30,31,32,33,34,35,48,49,50,51,52,53,54,55,\n",
    "                                                74,75,76,77,78,79,80,81,82,83,84,85,86]],axis =1)"
   ]
  },
  {
   "cell_type": "code",
   "execution_count": 16,
   "metadata": {},
   "outputs": [],
   "source": [
    "\n",
    "data_test = data_test.drop(data_test.columns[0],axis =1)"
   ]
  },
  {
   "cell_type": "code",
   "execution_count": 17,
   "metadata": {},
   "outputs": [
    {
     "data": {
      "text/plain": [
       "0"
      ]
     },
     "execution_count": 17,
     "metadata": {},
     "output_type": "execute_result"
    }
   ],
   "source": [
    "data_train.duplicated().sum()"
   ]
  },
  {
   "cell_type": "code",
   "execution_count": 18,
   "metadata": {},
   "outputs": [
    {
     "data": {
      "text/plain": [
       "0"
      ]
     },
     "execution_count": 18,
     "metadata": {},
     "output_type": "execute_result"
    }
   ],
   "source": [
    "data_test.duplicated().sum()"
   ]
  },
  {
   "cell_type": "markdown",
   "metadata": {},
   "source": [
    "<a id='3-bullet'></a>"
   ]
  },
  {
   "cell_type": "code",
   "execution_count": 19,
   "metadata": {},
   "outputs": [
    {
     "data": {
      "text/plain": [
       "rougher.input.feed_au                           0\n",
       "rougher.input.feed_ag                           0\n",
       "rougher.input.feed_pb                          72\n",
       "rougher.input.feed_sol                         77\n",
       "rougher.input.feed_rate                         7\n",
       "rougher.input.feed_size                       101\n",
       "rougher.input.floatbank10_sulfate              31\n",
       "rougher.input.floatbank10_xanthate              7\n",
       "rougher.state.floatbank10_a_air                 0\n",
       "rougher.state.floatbank10_a_level               0\n",
       "rougher.state.floatbank10_b_air                 0\n",
       "rougher.state.floatbank10_b_level               0\n",
       "rougher.state.floatbank10_c_air                 0\n",
       "rougher.state.floatbank10_c_level               0\n",
       "rougher.state.floatbank10_d_air                 0\n",
       "rougher.state.floatbank10_d_level               0\n",
       "rougher.state.floatbank10_e_air               429\n",
       "rougher.state.floatbank10_e_level               0\n",
       "rougher.state.floatbank10_f_air                 0\n",
       "rougher.state.floatbank10_f_level               0\n",
       "rougher.input.floatbank11_sulfate              36\n",
       "rougher.input.floatbank11_xanthate            407\n",
       "primary_cleaner.input.sulfate                  23\n",
       "primary_cleaner.input.depressant               28\n",
       "primary_cleaner.input.feed_size                 0\n",
       "primary_cleaner.input.xanthate                 61\n",
       "primary_cleaner.state.floatbank8_a_air          3\n",
       "primary_cleaner.state.floatbank8_a_level        0\n",
       "primary_cleaner.state.floatbank8_b_air          3\n",
       "primary_cleaner.state.floatbank8_b_level        0\n",
       "primary_cleaner.state.floatbank8_c_air          0\n",
       "primary_cleaner.state.floatbank8_c_level        0\n",
       "primary_cleaner.state.floatbank8_d_air          1\n",
       "primary_cleaner.state.floatbank8_d_level        0\n",
       "secondary_cleaner.state.floatbank2_a_air       94\n",
       "secondary_cleaner.state.floatbank2_a_level      0\n",
       "secondary_cleaner.state.floatbank2_b_air       22\n",
       "secondary_cleaner.state.floatbank2_b_level      0\n",
       "secondary_cleaner.state.floatbank3_a_air       12\n",
       "secondary_cleaner.state.floatbank3_a_level      0\n",
       "secondary_cleaner.state.floatbank3_b_air        0\n",
       "secondary_cleaner.state.floatbank3_b_level      0\n",
       "secondary_cleaner.state.floatbank4_a_air        5\n",
       "secondary_cleaner.state.floatbank4_a_level      0\n",
       "secondary_cleaner.state.floatbank4_b_air        0\n",
       "secondary_cleaner.state.floatbank4_b_level      0\n",
       "secondary_cleaner.state.floatbank5_a_air        0\n",
       "secondary_cleaner.state.floatbank5_a_level      0\n",
       "secondary_cleaner.state.floatbank5_b_air        0\n",
       "secondary_cleaner.state.floatbank5_b_level      0\n",
       "secondary_cleaner.state.floatbank6_a_air        1\n",
       "secondary_cleaner.state.floatbank6_a_level      0\n",
       "dtype: int64"
      ]
     },
     "execution_count": 19,
     "metadata": {},
     "output_type": "execute_result"
    }
   ],
   "source": [
    "data_train.isna().sum()"
   ]
  },
  {
   "cell_type": "code",
   "execution_count": 20,
   "metadata": {},
   "outputs": [
    {
     "data": {
      "text/plain": [
       "rougher.input.feed_au                           0\n",
       "rougher.input.feed_ag                           0\n",
       "rougher.input.feed_pb                          28\n",
       "rougher.input.feed_sol                         22\n",
       "rougher.input.feed_rate                         4\n",
       "rougher.input.feed_size                        44\n",
       "rougher.input.floatbank10_sulfate               3\n",
       "rougher.input.floatbank10_xanthate              1\n",
       "rougher.state.floatbank10_a_air                 1\n",
       "rougher.state.floatbank10_a_level               1\n",
       "rougher.state.floatbank10_b_air                 1\n",
       "rougher.state.floatbank10_b_level               1\n",
       "rougher.state.floatbank10_c_air                 1\n",
       "rougher.state.floatbank10_c_level               1\n",
       "rougher.state.floatbank10_d_air                 0\n",
       "rougher.state.floatbank10_d_level               0\n",
       "rougher.state.floatbank10_e_air                 7\n",
       "rougher.state.floatbank10_e_level               0\n",
       "rougher.state.floatbank10_f_air                 0\n",
       "rougher.state.floatbank10_f_level               0\n",
       "rougher.input.floatbank11_sulfate               8\n",
       "rougher.input.floatbank11_xanthate             46\n",
       "primary_cleaner.input.sulfate                   1\n",
       "primary_cleaner.input.depressant                9\n",
       "primary_cleaner.input.feed_size                 0\n",
       "primary_cleaner.input.xanthate                 43\n",
       "primary_cleaner.state.floatbank8_a_air          1\n",
       "primary_cleaner.state.floatbank8_a_level        1\n",
       "primary_cleaner.state.floatbank8_b_air          1\n",
       "primary_cleaner.state.floatbank8_b_level        1\n",
       "primary_cleaner.state.floatbank8_c_air          2\n",
       "primary_cleaner.state.floatbank8_c_level        1\n",
       "primary_cleaner.state.floatbank8_d_air          2\n",
       "primary_cleaner.state.floatbank8_d_level        1\n",
       "secondary_cleaner.state.floatbank2_a_air      126\n",
       "secondary_cleaner.state.floatbank2_a_level      1\n",
       "secondary_cleaner.state.floatbank2_b_air        1\n",
       "secondary_cleaner.state.floatbank2_b_level      1\n",
       "secondary_cleaner.state.floatbank3_a_air        1\n",
       "secondary_cleaner.state.floatbank3_a_level      1\n",
       "secondary_cleaner.state.floatbank3_b_air        1\n",
       "secondary_cleaner.state.floatbank3_b_level      1\n",
       "secondary_cleaner.state.floatbank4_a_air        1\n",
       "secondary_cleaner.state.floatbank4_a_level      1\n",
       "secondary_cleaner.state.floatbank4_b_air        1\n",
       "secondary_cleaner.state.floatbank4_b_level      1\n",
       "secondary_cleaner.state.floatbank5_a_air        1\n",
       "secondary_cleaner.state.floatbank5_a_level      1\n",
       "secondary_cleaner.state.floatbank5_b_air        1\n",
       "secondary_cleaner.state.floatbank5_b_level      1\n",
       "secondary_cleaner.state.floatbank6_a_air        1\n",
       "secondary_cleaner.state.floatbank6_a_level      1\n",
       "dtype: int64"
      ]
     },
     "execution_count": 20,
     "metadata": {},
     "output_type": "execute_result"
    }
   ],
   "source": [
    "data_test.isna().sum()"
   ]
  },
  {
   "cell_type": "markdown",
   "metadata": {},
   "source": [
    "Заполним пропуски  \n",
    "там где пропуски 0.5% заполним средним значением(так как разброс не большой).  \n",
    "там где <0.5% удалим пропуски. "
   ]
  },
  {
   "cell_type": "code",
   "execution_count": 21,
   "metadata": {},
   "outputs": [
    {
     "data": {
      "text/html": [
       "<div>\n",
       "<style scoped>\n",
       "    .dataframe tbody tr th:only-of-type {\n",
       "        vertical-align: middle;\n",
       "    }\n",
       "\n",
       "    .dataframe tbody tr th {\n",
       "        vertical-align: top;\n",
       "    }\n",
       "\n",
       "    .dataframe thead th {\n",
       "        text-align: right;\n",
       "    }\n",
       "</style>\n",
       "<table border=\"1\" class=\"dataframe\">\n",
       "  <thead>\n",
       "    <tr style=\"text-align: right;\">\n",
       "      <th></th>\n",
       "      <th>rougher.input.feed_au</th>\n",
       "      <th>rougher.input.feed_ag</th>\n",
       "      <th>rougher.input.feed_pb</th>\n",
       "      <th>rougher.input.feed_sol</th>\n",
       "      <th>rougher.input.feed_rate</th>\n",
       "      <th>rougher.input.feed_size</th>\n",
       "      <th>rougher.input.floatbank10_sulfate</th>\n",
       "      <th>rougher.input.floatbank10_xanthate</th>\n",
       "      <th>rougher.state.floatbank10_a_air</th>\n",
       "      <th>rougher.state.floatbank10_a_level</th>\n",
       "      <th>...</th>\n",
       "      <th>secondary_cleaner.state.floatbank4_a_air</th>\n",
       "      <th>secondary_cleaner.state.floatbank4_a_level</th>\n",
       "      <th>secondary_cleaner.state.floatbank4_b_air</th>\n",
       "      <th>secondary_cleaner.state.floatbank4_b_level</th>\n",
       "      <th>secondary_cleaner.state.floatbank5_a_air</th>\n",
       "      <th>secondary_cleaner.state.floatbank5_a_level</th>\n",
       "      <th>secondary_cleaner.state.floatbank5_b_air</th>\n",
       "      <th>secondary_cleaner.state.floatbank5_b_level</th>\n",
       "      <th>secondary_cleaner.state.floatbank6_a_air</th>\n",
       "      <th>secondary_cleaner.state.floatbank6_a_level</th>\n",
       "    </tr>\n",
       "  </thead>\n",
       "  <tbody>\n",
       "    <tr>\n",
       "      <th>count</th>\n",
       "      <td>4860.000000</td>\n",
       "      <td>4860.000000</td>\n",
       "      <td>4832.000000</td>\n",
       "      <td>4838.000000</td>\n",
       "      <td>4856.000000</td>\n",
       "      <td>4816.000000</td>\n",
       "      <td>4857.000000</td>\n",
       "      <td>4859.000000</td>\n",
       "      <td>4859.000000</td>\n",
       "      <td>4859.000000</td>\n",
       "      <td>...</td>\n",
       "      <td>4.859000e+03</td>\n",
       "      <td>4859.000000</td>\n",
       "      <td>4.859000e+03</td>\n",
       "      <td>4859.000000</td>\n",
       "      <td>4859.000000</td>\n",
       "      <td>4859.000000</td>\n",
       "      <td>4859.000000</td>\n",
       "      <td>4859.000000</td>\n",
       "      <td>4859.000000</td>\n",
       "      <td>4859.000000</td>\n",
       "    </tr>\n",
       "    <tr>\n",
       "      <th>mean</th>\n",
       "      <td>8.005584</td>\n",
       "      <td>8.547348</td>\n",
       "      <td>3.579662</td>\n",
       "      <td>37.095864</td>\n",
       "      <td>490.285103</td>\n",
       "      <td>59.113400</td>\n",
       "      <td>12.055735</td>\n",
       "      <td>6.101308</td>\n",
       "      <td>1108.635895</td>\n",
       "      <td>-368.340127</td>\n",
       "      <td>...</td>\n",
       "      <td>1.985770e+01</td>\n",
       "      <td>-488.665140</td>\n",
       "      <td>1.557025e+01</td>\n",
       "      <td>-464.176507</td>\n",
       "      <td>16.594103</td>\n",
       "      <td>-490.815250</td>\n",
       "      <td>12.945971</td>\n",
       "      <td>-489.583564</td>\n",
       "      <td>19.053888</td>\n",
       "      <td>-504.678924</td>\n",
       "    </tr>\n",
       "    <tr>\n",
       "      <th>std</th>\n",
       "      <td>1.993590</td>\n",
       "      <td>1.958601</td>\n",
       "      <td>1.029377</td>\n",
       "      <td>4.926284</td>\n",
       "      <td>94.371623</td>\n",
       "      <td>19.125122</td>\n",
       "      <td>3.407642</td>\n",
       "      <td>1.042754</td>\n",
       "      <td>156.493143</td>\n",
       "      <td>91.155929</td>\n",
       "      <td>...</td>\n",
       "      <td>5.913105e+00</td>\n",
       "      <td>44.392714</td>\n",
       "      <td>4.927361e+00</td>\n",
       "      <td>65.706994</td>\n",
       "      <td>5.724305</td>\n",
       "      <td>32.258443</td>\n",
       "      <td>5.533176</td>\n",
       "      <td>37.084609</td>\n",
       "      <td>5.548996</td>\n",
       "      <td>38.690186</td>\n",
       "    </tr>\n",
       "    <tr>\n",
       "      <th>min</th>\n",
       "      <td>0.010000</td>\n",
       "      <td>0.010000</td>\n",
       "      <td>0.010000</td>\n",
       "      <td>0.010000</td>\n",
       "      <td>0.012786</td>\n",
       "      <td>0.046369</td>\n",
       "      <td>0.018907</td>\n",
       "      <td>0.015783</td>\n",
       "      <td>300.792494</td>\n",
       "      <td>-600.568138</td>\n",
       "      <td>...</td>\n",
       "      <td>1.079872e-16</td>\n",
       "      <td>-799.704969</td>\n",
       "      <td>2.489718e-17</td>\n",
       "      <td>-799.860767</td>\n",
       "      <td>-0.371498</td>\n",
       "      <td>-797.142475</td>\n",
       "      <td>1.358469</td>\n",
       "      <td>-800.006180</td>\n",
       "      <td>0.160386</td>\n",
       "      <td>-809.734800</td>\n",
       "    </tr>\n",
       "    <tr>\n",
       "      <th>25%</th>\n",
       "      <td>6.574363</td>\n",
       "      <td>6.975898</td>\n",
       "      <td>2.903612</td>\n",
       "      <td>34.510841</td>\n",
       "      <td>434.099695</td>\n",
       "      <td>47.596984</td>\n",
       "      <td>9.890429</td>\n",
       "      <td>5.499808</td>\n",
       "      <td>999.715729</td>\n",
       "      <td>-499.731972</td>\n",
       "      <td>...</td>\n",
       "      <td>1.501123e+01</td>\n",
       "      <td>-500.704004</td>\n",
       "      <td>1.202172e+01</td>\n",
       "      <td>-500.196517</td>\n",
       "      <td>11.073822</td>\n",
       "      <td>-500.483564</td>\n",
       "      <td>9.011890</td>\n",
       "      <td>-500.129913</td>\n",
       "      <td>14.963953</td>\n",
       "      <td>-500.668501</td>\n",
       "    </tr>\n",
       "    <tr>\n",
       "      <th>50%</th>\n",
       "      <td>7.812923</td>\n",
       "      <td>8.179714</td>\n",
       "      <td>3.540772</td>\n",
       "      <td>37.499761</td>\n",
       "      <td>502.118742</td>\n",
       "      <td>55.509481</td>\n",
       "      <td>11.997859</td>\n",
       "      <td>6.099805</td>\n",
       "      <td>1001.414798</td>\n",
       "      <td>-300.181367</td>\n",
       "      <td>...</td>\n",
       "      <td>1.996807e+01</td>\n",
       "      <td>-499.892919</td>\n",
       "      <td>1.501240e+01</td>\n",
       "      <td>-499.540776</td>\n",
       "      <td>16.631195</td>\n",
       "      <td>-499.873136</td>\n",
       "      <td>11.999417</td>\n",
       "      <td>-499.955304</td>\n",
       "      <td>19.960006</td>\n",
       "      <td>-500.033769</td>\n",
       "    </tr>\n",
       "    <tr>\n",
       "      <th>75%</th>\n",
       "      <td>9.556589</td>\n",
       "      <td>10.084339</td>\n",
       "      <td>4.199847</td>\n",
       "      <td>40.461315</td>\n",
       "      <td>555.596563</td>\n",
       "      <td>66.661547</td>\n",
       "      <td>14.496072</td>\n",
       "      <td>6.802101</td>\n",
       "      <td>1202.837565</td>\n",
       "      <td>-299.961547</td>\n",
       "      <td>...</td>\n",
       "      <td>2.498900e+01</td>\n",
       "      <td>-498.652030</td>\n",
       "      <td>1.999949e+01</td>\n",
       "      <td>-400.302329</td>\n",
       "      <td>19.983191</td>\n",
       "      <td>-498.852815</td>\n",
       "      <td>15.004198</td>\n",
       "      <td>-499.643776</td>\n",
       "      <td>24.974583</td>\n",
       "      <td>-499.460134</td>\n",
       "    </tr>\n",
       "    <tr>\n",
       "      <th>max</th>\n",
       "      <td>13.417156</td>\n",
       "      <td>14.533698</td>\n",
       "      <td>7.142594</td>\n",
       "      <td>53.477742</td>\n",
       "      <td>702.523396</td>\n",
       "      <td>363.989699</td>\n",
       "      <td>30.010759</td>\n",
       "      <td>9.396928</td>\n",
       "      <td>1521.980372</td>\n",
       "      <td>-281.039299</td>\n",
       "      <td>...</td>\n",
       "      <td>3.008450e+01</td>\n",
       "      <td>-383.373053</td>\n",
       "      <td>2.398898e+01</td>\n",
       "      <td>-114.250832</td>\n",
       "      <td>33.215996</td>\n",
       "      <td>-288.963521</td>\n",
       "      <td>24.177106</td>\n",
       "      <td>-141.934397</td>\n",
       "      <td>32.028529</td>\n",
       "      <td>-104.427459</td>\n",
       "    </tr>\n",
       "  </tbody>\n",
       "</table>\n",
       "<p>8 rows × 52 columns</p>\n",
       "</div>"
      ],
      "text/plain": [
       "       rougher.input.feed_au  rougher.input.feed_ag  rougher.input.feed_pb  \\\n",
       "count            4860.000000            4860.000000            4832.000000   \n",
       "mean                8.005584               8.547348               3.579662   \n",
       "std                 1.993590               1.958601               1.029377   \n",
       "min                 0.010000               0.010000               0.010000   \n",
       "25%                 6.574363               6.975898               2.903612   \n",
       "50%                 7.812923               8.179714               3.540772   \n",
       "75%                 9.556589              10.084339               4.199847   \n",
       "max                13.417156              14.533698               7.142594   \n",
       "\n",
       "       rougher.input.feed_sol  rougher.input.feed_rate  \\\n",
       "count             4838.000000              4856.000000   \n",
       "mean                37.095864               490.285103   \n",
       "std                  4.926284                94.371623   \n",
       "min                  0.010000                 0.012786   \n",
       "25%                 34.510841               434.099695   \n",
       "50%                 37.499761               502.118742   \n",
       "75%                 40.461315               555.596563   \n",
       "max                 53.477742               702.523396   \n",
       "\n",
       "       rougher.input.feed_size  rougher.input.floatbank10_sulfate  \\\n",
       "count              4816.000000                        4857.000000   \n",
       "mean                 59.113400                          12.055735   \n",
       "std                  19.125122                           3.407642   \n",
       "min                   0.046369                           0.018907   \n",
       "25%                  47.596984                           9.890429   \n",
       "50%                  55.509481                          11.997859   \n",
       "75%                  66.661547                          14.496072   \n",
       "max                 363.989699                          30.010759   \n",
       "\n",
       "       rougher.input.floatbank10_xanthate  rougher.state.floatbank10_a_air  \\\n",
       "count                         4859.000000                      4859.000000   \n",
       "mean                             6.101308                      1108.635895   \n",
       "std                              1.042754                       156.493143   \n",
       "min                              0.015783                       300.792494   \n",
       "25%                              5.499808                       999.715729   \n",
       "50%                              6.099805                      1001.414798   \n",
       "75%                              6.802101                      1202.837565   \n",
       "max                              9.396928                      1521.980372   \n",
       "\n",
       "       rougher.state.floatbank10_a_level  ...  \\\n",
       "count                        4859.000000  ...   \n",
       "mean                         -368.340127  ...   \n",
       "std                            91.155929  ...   \n",
       "min                          -600.568138  ...   \n",
       "25%                          -499.731972  ...   \n",
       "50%                          -300.181367  ...   \n",
       "75%                          -299.961547  ...   \n",
       "max                          -281.039299  ...   \n",
       "\n",
       "       secondary_cleaner.state.floatbank4_a_air  \\\n",
       "count                              4.859000e+03   \n",
       "mean                               1.985770e+01   \n",
       "std                                5.913105e+00   \n",
       "min                                1.079872e-16   \n",
       "25%                                1.501123e+01   \n",
       "50%                                1.996807e+01   \n",
       "75%                                2.498900e+01   \n",
       "max                                3.008450e+01   \n",
       "\n",
       "       secondary_cleaner.state.floatbank4_a_level  \\\n",
       "count                                 4859.000000   \n",
       "mean                                  -488.665140   \n",
       "std                                     44.392714   \n",
       "min                                   -799.704969   \n",
       "25%                                   -500.704004   \n",
       "50%                                   -499.892919   \n",
       "75%                                   -498.652030   \n",
       "max                                   -383.373053   \n",
       "\n",
       "       secondary_cleaner.state.floatbank4_b_air  \\\n",
       "count                              4.859000e+03   \n",
       "mean                               1.557025e+01   \n",
       "std                                4.927361e+00   \n",
       "min                                2.489718e-17   \n",
       "25%                                1.202172e+01   \n",
       "50%                                1.501240e+01   \n",
       "75%                                1.999949e+01   \n",
       "max                                2.398898e+01   \n",
       "\n",
       "       secondary_cleaner.state.floatbank4_b_level  \\\n",
       "count                                 4859.000000   \n",
       "mean                                  -464.176507   \n",
       "std                                     65.706994   \n",
       "min                                   -799.860767   \n",
       "25%                                   -500.196517   \n",
       "50%                                   -499.540776   \n",
       "75%                                   -400.302329   \n",
       "max                                   -114.250832   \n",
       "\n",
       "       secondary_cleaner.state.floatbank5_a_air  \\\n",
       "count                               4859.000000   \n",
       "mean                                  16.594103   \n",
       "std                                    5.724305   \n",
       "min                                   -0.371498   \n",
       "25%                                   11.073822   \n",
       "50%                                   16.631195   \n",
       "75%                                   19.983191   \n",
       "max                                   33.215996   \n",
       "\n",
       "       secondary_cleaner.state.floatbank5_a_level  \\\n",
       "count                                 4859.000000   \n",
       "mean                                  -490.815250   \n",
       "std                                     32.258443   \n",
       "min                                   -797.142475   \n",
       "25%                                   -500.483564   \n",
       "50%                                   -499.873136   \n",
       "75%                                   -498.852815   \n",
       "max                                   -288.963521   \n",
       "\n",
       "       secondary_cleaner.state.floatbank5_b_air  \\\n",
       "count                               4859.000000   \n",
       "mean                                  12.945971   \n",
       "std                                    5.533176   \n",
       "min                                    1.358469   \n",
       "25%                                    9.011890   \n",
       "50%                                   11.999417   \n",
       "75%                                   15.004198   \n",
       "max                                   24.177106   \n",
       "\n",
       "       secondary_cleaner.state.floatbank5_b_level  \\\n",
       "count                                 4859.000000   \n",
       "mean                                  -489.583564   \n",
       "std                                     37.084609   \n",
       "min                                   -800.006180   \n",
       "25%                                   -500.129913   \n",
       "50%                                   -499.955304   \n",
       "75%                                   -499.643776   \n",
       "max                                   -141.934397   \n",
       "\n",
       "       secondary_cleaner.state.floatbank6_a_air  \\\n",
       "count                               4859.000000   \n",
       "mean                                  19.053888   \n",
       "std                                    5.548996   \n",
       "min                                    0.160386   \n",
       "25%                                   14.963953   \n",
       "50%                                   19.960006   \n",
       "75%                                   24.974583   \n",
       "max                                   32.028529   \n",
       "\n",
       "       secondary_cleaner.state.floatbank6_a_level  \n",
       "count                                 4859.000000  \n",
       "mean                                  -504.678924  \n",
       "std                                     38.690186  \n",
       "min                                   -809.734800  \n",
       "25%                                   -500.668501  \n",
       "50%                                   -500.033769  \n",
       "75%                                   -499.460134  \n",
       "max                                   -104.427459  \n",
       "\n",
       "[8 rows x 52 columns]"
      ]
     },
     "execution_count": 21,
     "metadata": {},
     "output_type": "execute_result"
    }
   ],
   "source": [
    "data_test.describe()"
   ]
  },
  {
   "cell_type": "code",
   "execution_count": 22,
   "metadata": {},
   "outputs": [],
   "source": [
    "data_test['rougher.input.feed_pb'] = data_test['rougher.input.feed_pb'].fillna(data_test\n",
    "                                                                               ['rougher.input.feed_pb'].mean())\n",
    "data_test['rougher.input.feed_sol'] = data_test['rougher.input.feed_sol'].fillna(data_test\n",
    "                                                                                 ['rougher.input.feed_sol'].mean())\n",
    "data_test['rougher.input.feed_size'] = data_test['rougher.input.feed_size'].fillna(data_test\n",
    "                                                                                   ['rougher.input.feed_size'].mean())\n",
    "data_test['rougher.input.floatbank11_xanthate'] = data_test['rougher.input.floatbank11_xanthate'].fillna(data_test\n",
    "                                                                                                         ['rougher.input.floatbank11_xanthate'].mean())\n",
    "data_test['primary_cleaner.input.xanthate'] = data_test['primary_cleaner.input.xanthate'].fillna(data_test\n",
    "                                                                                                 ['primary_cleaner.input.xanthate'].mean())\n",
    "data_test['secondary_cleaner.state.floatbank2_a_air'] = data_test['secondary_cleaner.state.floatbank2_a_air'].fillna(data_test\n",
    "                                                                                                                     ['secondary_cleaner.state.floatbank2_a_air'].mean())"
   ]
  },
  {
   "cell_type": "code",
   "execution_count": 23,
   "metadata": {},
   "outputs": [],
   "source": [
    "data_test = data_test.dropna()"
   ]
  },
  {
   "cell_type": "code",
   "execution_count": 24,
   "metadata": {},
   "outputs": [
    {
     "data": {
      "text/html": [
       "<div>\n",
       "<style scoped>\n",
       "    .dataframe tbody tr th:only-of-type {\n",
       "        vertical-align: middle;\n",
       "    }\n",
       "\n",
       "    .dataframe tbody tr th {\n",
       "        vertical-align: top;\n",
       "    }\n",
       "\n",
       "    .dataframe thead th {\n",
       "        text-align: right;\n",
       "    }\n",
       "</style>\n",
       "<table border=\"1\" class=\"dataframe\">\n",
       "  <thead>\n",
       "    <tr style=\"text-align: right;\">\n",
       "      <th></th>\n",
       "      <th>rougher.input.feed_au</th>\n",
       "      <th>rougher.input.feed_ag</th>\n",
       "      <th>rougher.input.feed_pb</th>\n",
       "      <th>rougher.input.feed_sol</th>\n",
       "      <th>rougher.input.feed_rate</th>\n",
       "      <th>rougher.input.feed_size</th>\n",
       "      <th>rougher.input.floatbank10_sulfate</th>\n",
       "      <th>rougher.input.floatbank10_xanthate</th>\n",
       "      <th>rougher.state.floatbank10_a_air</th>\n",
       "      <th>rougher.state.floatbank10_a_level</th>\n",
       "      <th>...</th>\n",
       "      <th>secondary_cleaner.state.floatbank4_a_air</th>\n",
       "      <th>secondary_cleaner.state.floatbank4_a_level</th>\n",
       "      <th>secondary_cleaner.state.floatbank4_b_air</th>\n",
       "      <th>secondary_cleaner.state.floatbank4_b_level</th>\n",
       "      <th>secondary_cleaner.state.floatbank5_a_air</th>\n",
       "      <th>secondary_cleaner.state.floatbank5_a_level</th>\n",
       "      <th>secondary_cleaner.state.floatbank5_b_air</th>\n",
       "      <th>secondary_cleaner.state.floatbank5_b_level</th>\n",
       "      <th>secondary_cleaner.state.floatbank6_a_air</th>\n",
       "      <th>secondary_cleaner.state.floatbank6_a_level</th>\n",
       "    </tr>\n",
       "  </thead>\n",
       "  <tbody>\n",
       "    <tr>\n",
       "      <th>count</th>\n",
       "      <td>14579.000000</td>\n",
       "      <td>14579.000000</td>\n",
       "      <td>14507.000000</td>\n",
       "      <td>14502.000000</td>\n",
       "      <td>14572.000000</td>\n",
       "      <td>14478.000000</td>\n",
       "      <td>14548.000000</td>\n",
       "      <td>14572.000000</td>\n",
       "      <td>14579.000000</td>\n",
       "      <td>14579.000000</td>\n",
       "      <td>...</td>\n",
       "      <td>14574.000000</td>\n",
       "      <td>14579.000000</td>\n",
       "      <td>14579.000000</td>\n",
       "      <td>14579.000000</td>\n",
       "      <td>14579.000000</td>\n",
       "      <td>14579.000000</td>\n",
       "      <td>14579.000000</td>\n",
       "      <td>14579.000000</td>\n",
       "      <td>14578.000000</td>\n",
       "      <td>14579.000000</td>\n",
       "    </tr>\n",
       "    <tr>\n",
       "      <th>mean</th>\n",
       "      <td>8.352941</td>\n",
       "      <td>8.877460</td>\n",
       "      <td>3.604221</td>\n",
       "      <td>36.561420</td>\n",
       "      <td>474.332784</td>\n",
       "      <td>58.922712</td>\n",
       "      <td>12.427399</td>\n",
       "      <td>5.994854</td>\n",
       "      <td>1104.208278</td>\n",
       "      <td>-379.367166</td>\n",
       "      <td>...</td>\n",
       "      <td>18.697604</td>\n",
       "      <td>-484.971102</td>\n",
       "      <td>14.823764</td>\n",
       "      <td>-460.046154</td>\n",
       "      <td>15.394610</td>\n",
       "      <td>-487.973768</td>\n",
       "      <td>11.949009</td>\n",
       "      <td>-486.338692</td>\n",
       "      <td>18.927405</td>\n",
       "      <td>-505.688730</td>\n",
       "    </tr>\n",
       "    <tr>\n",
       "      <th>std</th>\n",
       "      <td>1.934376</td>\n",
       "      <td>1.922536</td>\n",
       "      <td>1.056063</td>\n",
       "      <td>5.209823</td>\n",
       "      <td>108.503552</td>\n",
       "      <td>22.407410</td>\n",
       "      <td>3.428939</td>\n",
       "      <td>1.152873</td>\n",
       "      <td>162.235606</td>\n",
       "      <td>94.652311</td>\n",
       "      <td>...</td>\n",
       "      <td>5.200943</td>\n",
       "      <td>48.795359</td>\n",
       "      <td>4.863659</td>\n",
       "      <td>67.933026</td>\n",
       "      <td>5.405045</td>\n",
       "      <td>35.231439</td>\n",
       "      <td>5.241169</td>\n",
       "      <td>38.726292</td>\n",
       "      <td>5.550829</td>\n",
       "      <td>37.347370</td>\n",
       "    </tr>\n",
       "    <tr>\n",
       "      <th>min</th>\n",
       "      <td>0.010000</td>\n",
       "      <td>0.010000</td>\n",
       "      <td>0.010000</td>\n",
       "      <td>0.010000</td>\n",
       "      <td>0.002986</td>\n",
       "      <td>0.049194</td>\n",
       "      <td>0.001083</td>\n",
       "      <td>0.000568</td>\n",
       "      <td>-0.042069</td>\n",
       "      <td>-657.949759</td>\n",
       "      <td>...</td>\n",
       "      <td>0.000000</td>\n",
       "      <td>-799.798523</td>\n",
       "      <td>0.000000</td>\n",
       "      <td>-800.836914</td>\n",
       "      <td>-0.372054</td>\n",
       "      <td>-797.323986</td>\n",
       "      <td>0.528083</td>\n",
       "      <td>-800.220337</td>\n",
       "      <td>-0.079426</td>\n",
       "      <td>-809.741464</td>\n",
       "    </tr>\n",
       "    <tr>\n",
       "      <th>25%</th>\n",
       "      <td>6.932996</td>\n",
       "      <td>7.341922</td>\n",
       "      <td>2.880490</td>\n",
       "      <td>34.093951</td>\n",
       "      <td>411.048483</td>\n",
       "      <td>47.278490</td>\n",
       "      <td>10.002832</td>\n",
       "      <td>5.304167</td>\n",
       "      <td>999.644856</td>\n",
       "      <td>-499.861797</td>\n",
       "      <td>...</td>\n",
       "      <td>14.963312</td>\n",
       "      <td>-500.704937</td>\n",
       "      <td>11.889685</td>\n",
       "      <td>-500.184081</td>\n",
       "      <td>10.977413</td>\n",
       "      <td>-500.451167</td>\n",
       "      <td>8.947381</td>\n",
       "      <td>-500.129137</td>\n",
       "      <td>14.985721</td>\n",
       "      <td>-500.755346</td>\n",
       "    </tr>\n",
       "    <tr>\n",
       "      <th>50%</th>\n",
       "      <td>8.225284</td>\n",
       "      <td>8.715859</td>\n",
       "      <td>3.532399</td>\n",
       "      <td>37.097511</td>\n",
       "      <td>498.187968</td>\n",
       "      <td>54.361187</td>\n",
       "      <td>12.003320</td>\n",
       "      <td>6.003053</td>\n",
       "      <td>1000.982624</td>\n",
       "      <td>-300.314199</td>\n",
       "      <td>...</td>\n",
       "      <td>18.005468</td>\n",
       "      <td>-499.820809</td>\n",
       "      <td>14.957945</td>\n",
       "      <td>-499.424528</td>\n",
       "      <td>14.963654</td>\n",
       "      <td>-499.772653</td>\n",
       "      <td>11.000057</td>\n",
       "      <td>-499.926255</td>\n",
       "      <td>19.960798</td>\n",
       "      <td>-500.054273</td>\n",
       "    </tr>\n",
       "    <tr>\n",
       "      <th>75%</th>\n",
       "      <td>9.832210</td>\n",
       "      <td>10.255843</td>\n",
       "      <td>4.257282</td>\n",
       "      <td>39.899799</td>\n",
       "      <td>549.586552</td>\n",
       "      <td>64.464926</td>\n",
       "      <td>14.929903</td>\n",
       "      <td>6.796632</td>\n",
       "      <td>1292.663971</td>\n",
       "      <td>-299.989315</td>\n",
       "      <td>...</td>\n",
       "      <td>22.977019</td>\n",
       "      <td>-498.048862</td>\n",
       "      <td>17.125406</td>\n",
       "      <td>-400.083087</td>\n",
       "      <td>18.012762</td>\n",
       "      <td>-498.182011</td>\n",
       "      <td>14.002573</td>\n",
       "      <td>-499.285414</td>\n",
       "      <td>23.038231</td>\n",
       "      <td>-499.506135</td>\n",
       "    </tr>\n",
       "    <tr>\n",
       "      <th>max</th>\n",
       "      <td>13.731330</td>\n",
       "      <td>14.596026</td>\n",
       "      <td>7.052325</td>\n",
       "      <td>53.475325</td>\n",
       "      <td>717.508837</td>\n",
       "      <td>484.967466</td>\n",
       "      <td>36.118275</td>\n",
       "      <td>9.703448</td>\n",
       "      <td>1512.299531</td>\n",
       "      <td>-273.776101</td>\n",
       "      <td>...</td>\n",
       "      <td>30.115735</td>\n",
       "      <td>-245.239184</td>\n",
       "      <td>31.269706</td>\n",
       "      <td>-6.506986</td>\n",
       "      <td>43.709931</td>\n",
       "      <td>-244.483566</td>\n",
       "      <td>27.926001</td>\n",
       "      <td>-137.740004</td>\n",
       "      <td>32.188906</td>\n",
       "      <td>-123.307487</td>\n",
       "    </tr>\n",
       "  </tbody>\n",
       "</table>\n",
       "<p>8 rows × 52 columns</p>\n",
       "</div>"
      ],
      "text/plain": [
       "       rougher.input.feed_au  rougher.input.feed_ag  rougher.input.feed_pb  \\\n",
       "count           14579.000000           14579.000000           14507.000000   \n",
       "mean                8.352941               8.877460               3.604221   \n",
       "std                 1.934376               1.922536               1.056063   \n",
       "min                 0.010000               0.010000               0.010000   \n",
       "25%                 6.932996               7.341922               2.880490   \n",
       "50%                 8.225284               8.715859               3.532399   \n",
       "75%                 9.832210              10.255843               4.257282   \n",
       "max                13.731330              14.596026               7.052325   \n",
       "\n",
       "       rougher.input.feed_sol  rougher.input.feed_rate  \\\n",
       "count            14502.000000             14572.000000   \n",
       "mean                36.561420               474.332784   \n",
       "std                  5.209823               108.503552   \n",
       "min                  0.010000                 0.002986   \n",
       "25%                 34.093951               411.048483   \n",
       "50%                 37.097511               498.187968   \n",
       "75%                 39.899799               549.586552   \n",
       "max                 53.475325               717.508837   \n",
       "\n",
       "       rougher.input.feed_size  rougher.input.floatbank10_sulfate  \\\n",
       "count             14478.000000                       14548.000000   \n",
       "mean                 58.922712                          12.427399   \n",
       "std                  22.407410                           3.428939   \n",
       "min                   0.049194                           0.001083   \n",
       "25%                  47.278490                          10.002832   \n",
       "50%                  54.361187                          12.003320   \n",
       "75%                  64.464926                          14.929903   \n",
       "max                 484.967466                          36.118275   \n",
       "\n",
       "       rougher.input.floatbank10_xanthate  rougher.state.floatbank10_a_air  \\\n",
       "count                        14572.000000                     14579.000000   \n",
       "mean                             5.994854                      1104.208278   \n",
       "std                              1.152873                       162.235606   \n",
       "min                              0.000568                        -0.042069   \n",
       "25%                              5.304167                       999.644856   \n",
       "50%                              6.003053                      1000.982624   \n",
       "75%                              6.796632                      1292.663971   \n",
       "max                              9.703448                      1512.299531   \n",
       "\n",
       "       rougher.state.floatbank10_a_level  ...  \\\n",
       "count                       14579.000000  ...   \n",
       "mean                         -379.367166  ...   \n",
       "std                            94.652311  ...   \n",
       "min                          -657.949759  ...   \n",
       "25%                          -499.861797  ...   \n",
       "50%                          -300.314199  ...   \n",
       "75%                          -299.989315  ...   \n",
       "max                          -273.776101  ...   \n",
       "\n",
       "       secondary_cleaner.state.floatbank4_a_air  \\\n",
       "count                              14574.000000   \n",
       "mean                                  18.697604   \n",
       "std                                    5.200943   \n",
       "min                                    0.000000   \n",
       "25%                                   14.963312   \n",
       "50%                                   18.005468   \n",
       "75%                                   22.977019   \n",
       "max                                   30.115735   \n",
       "\n",
       "       secondary_cleaner.state.floatbank4_a_level  \\\n",
       "count                                14579.000000   \n",
       "mean                                  -484.971102   \n",
       "std                                     48.795359   \n",
       "min                                   -799.798523   \n",
       "25%                                   -500.704937   \n",
       "50%                                   -499.820809   \n",
       "75%                                   -498.048862   \n",
       "max                                   -245.239184   \n",
       "\n",
       "       secondary_cleaner.state.floatbank4_b_air  \\\n",
       "count                              14579.000000   \n",
       "mean                                  14.823764   \n",
       "std                                    4.863659   \n",
       "min                                    0.000000   \n",
       "25%                                   11.889685   \n",
       "50%                                   14.957945   \n",
       "75%                                   17.125406   \n",
       "max                                   31.269706   \n",
       "\n",
       "       secondary_cleaner.state.floatbank4_b_level  \\\n",
       "count                                14579.000000   \n",
       "mean                                  -460.046154   \n",
       "std                                     67.933026   \n",
       "min                                   -800.836914   \n",
       "25%                                   -500.184081   \n",
       "50%                                   -499.424528   \n",
       "75%                                   -400.083087   \n",
       "max                                     -6.506986   \n",
       "\n",
       "       secondary_cleaner.state.floatbank5_a_air  \\\n",
       "count                              14579.000000   \n",
       "mean                                  15.394610   \n",
       "std                                    5.405045   \n",
       "min                                   -0.372054   \n",
       "25%                                   10.977413   \n",
       "50%                                   14.963654   \n",
       "75%                                   18.012762   \n",
       "max                                   43.709931   \n",
       "\n",
       "       secondary_cleaner.state.floatbank5_a_level  \\\n",
       "count                                14579.000000   \n",
       "mean                                  -487.973768   \n",
       "std                                     35.231439   \n",
       "min                                   -797.323986   \n",
       "25%                                   -500.451167   \n",
       "50%                                   -499.772653   \n",
       "75%                                   -498.182011   \n",
       "max                                   -244.483566   \n",
       "\n",
       "       secondary_cleaner.state.floatbank5_b_air  \\\n",
       "count                              14579.000000   \n",
       "mean                                  11.949009   \n",
       "std                                    5.241169   \n",
       "min                                    0.528083   \n",
       "25%                                    8.947381   \n",
       "50%                                   11.000057   \n",
       "75%                                   14.002573   \n",
       "max                                   27.926001   \n",
       "\n",
       "       secondary_cleaner.state.floatbank5_b_level  \\\n",
       "count                                14579.000000   \n",
       "mean                                  -486.338692   \n",
       "std                                     38.726292   \n",
       "min                                   -800.220337   \n",
       "25%                                   -500.129137   \n",
       "50%                                   -499.926255   \n",
       "75%                                   -499.285414   \n",
       "max                                   -137.740004   \n",
       "\n",
       "       secondary_cleaner.state.floatbank6_a_air  \\\n",
       "count                              14578.000000   \n",
       "mean                                  18.927405   \n",
       "std                                    5.550829   \n",
       "min                                   -0.079426   \n",
       "25%                                   14.985721   \n",
       "50%                                   19.960798   \n",
       "75%                                   23.038231   \n",
       "max                                   32.188906   \n",
       "\n",
       "       secondary_cleaner.state.floatbank6_a_level  \n",
       "count                                14579.000000  \n",
       "mean                                  -505.688730  \n",
       "std                                     37.347370  \n",
       "min                                   -809.741464  \n",
       "25%                                   -500.755346  \n",
       "50%                                   -500.054273  \n",
       "75%                                   -499.506135  \n",
       "max                                   -123.307487  \n",
       "\n",
       "[8 rows x 52 columns]"
      ]
     },
     "execution_count": 24,
     "metadata": {},
     "output_type": "execute_result"
    }
   ],
   "source": [
    "data_train.describe()"
   ]
  },
  {
   "cell_type": "code",
   "execution_count": 25,
   "metadata": {},
   "outputs": [],
   "source": [
    "data_train['rougher.input.feed_pb'] = data_train['rougher.input.feed_pb'].fillna(data_train\n",
    "                                                                               ['rougher.input.feed_pb'].mean())\n",
    "data_train['rougher.input.feed_sol'] = data_train['rougher.input.feed_sol'].fillna(data_train\n",
    "                                                                                 ['rougher.input.feed_sol'].mean())\n",
    "data_train['rougher.input.feed_size'] = data_train['rougher.input.feed_size'].fillna(data_train\n",
    "                                                                                   ['rougher.input.feed_size'].mean())\n",
    "data_train['rougher.input.floatbank11_xanthate'] = data_train['rougher.input.floatbank11_xanthate'].fillna(data_train\n",
    "                                                                                                         ['rougher.input.floatbank11_xanthate'].mean())\n",
    "data_train['primary_cleaner.input.xanthate'] = data_train['primary_cleaner.input.xanthate'].fillna(data_train\n",
    "                                                                                                 ['primary_cleaner.input.xanthate'].mean())\n",
    "data_train['secondary_cleaner.state.floatbank2_a_air'] = data_train['secondary_cleaner.state.floatbank2_a_air'].fillna(data_train\n",
    "                                                                                                                     ['secondary_cleaner.state.floatbank2_a_air'].mean())"
   ]
  },
  {
   "cell_type": "code",
   "execution_count": 26,
   "metadata": {},
   "outputs": [],
   "source": [
    "data_train = data_train.dropna()"
   ]
  },
  {
   "cell_type": "markdown",
   "metadata": {},
   "source": [
    "## Анализ данных"
   ]
  },
  {
   "cell_type": "markdown",
   "metadata": {},
   "source": [
    "<a id='4-bullet'></a>"
   ]
  },
  {
   "cell_type": "markdown",
   "metadata": {},
   "source": [
    "Коцентрация металлов (Au, Ag, Pb) в сырье"
   ]
  },
  {
   "cell_type": "code",
   "execution_count": 27,
   "metadata": {},
   "outputs": [
    {
     "data": {
      "image/png": "[encoded data removed]",
      "text/plain": [
       "<Figure size 432x288 with 1 Axes>"
      ]
     },
     "metadata": {
      "needs_background": "light"
     },
     "output_type": "display_data"
    }
   ],
   "source": [
    "plt.hist(data_full['rougher.input.feed_au'],bins=100,edgecolor='black',label='au')\n",
    "\n",
    "\n",
    "plt.hist(data_full['rougher.input.feed_ag'],bins=100,edgecolor='black',label='ag')\n",
    "\n",
    "plt.hist(data_full['rougher.input.feed_pb'],bins=100,edgecolor='black',label='pb')\n",
    "\n",
    "plt.title('Распределение металов в черновом концентрате')\n",
    "plt.xlabel('сырье')\n",
    "plt.ylabel('кол-во')\n",
    "plt.legend()\n",
    "plt.show();\n"
   ]
  },
  {
   "cell_type": "markdown",
   "metadata": {},
   "source": [
    "Коцентрация металлов (Au, Ag, Pb) в черновом концентрате"
   ]
  },
  {
   "cell_type": "code",
   "execution_count": 28,
   "metadata": {},
   "outputs": [
    {
     "data": {
      "image/png": "[encoded data removed]",
      "text/plain": [
       "<Figure size 432x288 with 1 Axes>"
      ]
     },
     "metadata": {
      "needs_background": "light"
     },
     "output_type": "display_data"
    }
   ],
   "source": [
    "plt.hist(data_full['rougher.output.concentrate_au'],bins=100,edgecolor='black',label='au')\n",
    "\n",
    "\n",
    "plt.hist(data_full['rougher.output.concentrate_ag'],bins=100,edgecolor='black',label='ag')\n",
    "\n",
    "plt.hist(data_full['rougher.output.concentrate_pb'],bins=100,label='pb')\n",
    "\n",
    "plt.title('Распределение металов в черновом концентрате')\n",
    "plt.xlabel('сырье')\n",
    "plt.ylabel('кол-во')\n",
    "plt.legend()\n",
    "plt.show();"
   ]
  },
  {
   "cell_type": "markdown",
   "metadata": {},
   "source": [
    "Коцентрация металлов (Au, Ag, Pb) в концентрате после первой очистки"
   ]
  },
  {
   "cell_type": "code",
   "execution_count": 29,
   "metadata": {},
   "outputs": [
    {
     "data": {
      "image/png": "[encoded data removed]",
      "text/plain": [
       "<Figure size 432x288 with 1 Axes>"
      ]
     },
     "metadata": {
      "needs_background": "light"
     },
     "output_type": "display_data"
    }
   ],
   "source": [
    "plt.hist(data_full['primary_cleaner.output.concentrate_au'],bins=100,edgecolor='black',label='au')\n",
    "\n",
    "\n",
    "plt.hist(data_full['primary_cleaner.output.concentrate_ag'],bins=100,edgecolor='black',label='ag')\n",
    "\n",
    "plt.hist(data_full['primary_cleaner.output.concentrate_pb'],bins=100,label='pb')\n",
    "\n",
    "plt.title('Распределение металов в черновом концентрате')\n",
    "plt.xlabel('сырье')\n",
    "plt.ylabel('кол-во')\n",
    "plt.legend()\n",
    "plt.show();"
   ]
  },
  {
   "cell_type": "markdown",
   "metadata": {},
   "source": [
    "Коцентрация металлов (Au, Ag, Pb) в финальном концентрате"
   ]
  },
  {
   "cell_type": "code",
   "execution_count": 30,
   "metadata": {},
   "outputs": [
    {
     "data": {
      "image/png": "[encoded data removed]",
      "text/plain": [
       "<Figure size 432x288 with 1 Axes>"
      ]
     },
     "metadata": {
      "needs_background": "light"
     },
     "output_type": "display_data"
    }
   ],
   "source": [
    "plt.hist(data_full['final.output.concentrate_au'],bins=100,edgecolor='black',label='au')\n",
    "\n",
    "\n",
    "plt.hist(data_full['final.output.concentrate_ag'],bins=100,edgecolor='black',label='ag')\n",
    "\n",
    "plt.hist(data_full['final.output.concentrate_pb'],bins=100,label='pb')\n",
    "\n",
    "plt.title('Распределение металов в черновом концентрате')\n",
    "plt.xlabel('сырье')\n",
    "plt.ylabel('кол-во')\n",
    "plt.legend()\n",
    "plt.show();"
   ]
  },
  {
   "cell_type": "markdown",
   "metadata": {},
   "source": [
    "Вывод:У металов распределение приближено к нормальному. \n",
    "  \n",
    "у металов свинец и серебро распределение смещается влево, а у золото вправо. \n"
   ]
  },
  {
   "cell_type": "markdown",
   "metadata": {},
   "source": [
    "Распределение размеров гранул исходного сырья"
   ]
  },
  {
   "cell_type": "markdown",
   "metadata": {},
   "source": [
    "<a id='5-bullet'></a>"
   ]
  },
  {
   "cell_type": "code",
   "execution_count": 31,
   "metadata": {},
   "outputs": [
    {
     "data": {
      "image/png": "[encoded data removed]",
      "text/plain": [
       "<Figure size 432x288 with 1 Axes>"
      ]
     },
     "metadata": {
      "needs_background": "light"
     },
     "output_type": "display_data"
    }
   ],
   "source": [
    "sns.kdeplot(data_train['rougher.input.feed_size'],label='Обучающая выборка')\n",
    "sns.kdeplot(data_test['rougher.input.feed_size'],label='Тестовая выборка')\n",
    "plt.title('Распределения размеров гранул исходного сырья')\n",
    "plt.xlabel('гранулы')\n",
    "plt.ylabel('кол-во(доля)')\n",
    "plt.legend()\n",
    "plt.show();"
   ]
  },
  {
   "cell_type": "markdown",
   "metadata": {},
   "source": [
    "Вывод: Распределения НЕ сильно отличаются друг от друга. можно строить модель"
   ]
  },
  {
   "cell_type": "markdown",
   "metadata": {},
   "source": [
    "Суммарная концентрация металлов на разных стадиях"
   ]
  },
  {
   "cell_type": "markdown",
   "metadata": {},
   "source": [
    "<a id='6-bullet'></a>"
   ]
  },
  {
   "cell_type": "code",
   "execution_count": 32,
   "metadata": {},
   "outputs": [
    {
     "data": {
      "image/png": "[encoded data removed]",
      "text/plain": [
       "<Figure size 432x288 with 1 Axes>"
      ]
     },
     "metadata": {
      "needs_background": "light"
     },
     "output_type": "display_data"
    }
   ],
   "source": [
    "\n",
    "rougher_input = data_full['rougher.input.feed_au'] + data_full['rougher.input.feed_ag'] + data_full['rougher.input.feed_pb']\n",
    "\n",
    "rougher_output = data_full['rougher.output.concentrate_au'] + data_full['rougher.output.concentrate_ag'] + data_full['rougher.output.concentrate_pb']\n",
    "\n",
    "primary_cleaner = data_full['primary_cleaner.output.concentrate_au'] + data_full['primary_cleaner.output.concentrate_ag']+data_full['primary_cleaner.output.concentrate_pb']\n",
    "\n",
    "final_output = data_full['final.output.concentrate_au'] + data_full['final.output.concentrate_ag'] + data_full['final.output.concentrate_pb']\n",
    "\n",
    "\n",
    "plt.hist(rougher_input,bins=100,edgecolor='black',label='в сырье')\n",
    "\n",
    "\n",
    "plt.hist(rougher_output,bins=100,edgecolor='black',label='черный концентрат')\n",
    "\n",
    "plt.hist(primary_cleaner,bins=100,edgecolor='black',label='после первой обработки')\n",
    "plt.hist(final_output,bins=100,edgecolor='black',label='финальный концентрат')\n",
    "\n",
    "plt.title('Суммарная концентрация металлов на разных стадиях(динамика)')\n",
    "plt.xlabel('сырье')\n",
    "plt.ylabel('кол-во')\n",
    "plt.legend()\n",
    "plt.show();"
   ]
  },
  {
   "cell_type": "markdown",
   "metadata": {},
   "source": [
    "Вывод:Сумарная концентрация сырья на каждом этапе растет последовательно с каждым этапом. При этом и выбросы показывают рост"
   ]
  },
  {
   "cell_type": "markdown",
   "metadata": {},
   "source": [
    "Устраним выбросы в обучающей выборки(доступны только начальный этап)"
   ]
  },
  {
   "cell_type": "code",
   "execution_count": 33,
   "metadata": {},
   "outputs": [],
   "source": [
    "lower_q_1 = data_train['rougher.input.feed_au'].quantile(0.01)\n",
    "upper_q_1 = data_train['rougher.input.feed_au'].quantile(0.99)\n",
    "\n",
    "lower_q_2 = data_train['rougher.input.feed_ag'].quantile(0.01)\n",
    "upper_q_2 = data_train['rougher.input.feed_ag'].quantile(0.99)\n",
    "lower_q_3 = data_train['rougher.input.feed_pb'].quantile(0.01)\n",
    "upper_q_3 = data_train['rougher.input.feed_pb'].quantile(0.99)\n"
   ]
  },
  {
   "cell_type": "code",
   "execution_count": 34,
   "metadata": {},
   "outputs": [],
   "source": [
    "data_train = data_train[(data_train['rougher.input.feed_au']>lower_q_1) & \n",
    "                        (data_train['rougher.input.feed_au'] < upper_q_1)]\n",
    "data_train = data_train[(data_train['rougher.input.feed_ag']>lower_q_2) & \n",
    "                        (data_train['rougher.input.feed_ag'] < upper_q_2)]\n",
    "\n",
    "data_train = data_train[(data_train['rougher.input.feed_pb']>lower_q_3) & \n",
    "                        (data_train['rougher.input.feed_pb'] < upper_q_3)]"
   ]
  },
  {
   "cell_type": "markdown",
   "metadata": {},
   "source": [
    "## Модель"
   ]
  },
  {
   "cell_type": "markdown",
   "metadata": {},
   "source": [
    "Функция sMAPE"
   ]
  },
  {
   "cell_type": "markdown",
   "metadata": {},
   "source": [
    "<a id='7-bullet'></a>"
   ]
  },
  {
   "cell_type": "code",
   "execution_count": 35,
   "metadata": {},
   "outputs": [],
   "source": [
    "def smape_unweighted(y_true, y_pred):\n",
    "    error = abs(y_true - y_pred)\n",
    "    scale = (abs(y_true) + abs(y_pred)) / 2 + 0.000000001\n",
    "    result = ((error / scale).mean())*100\n",
    "    return result"
   ]
  },
  {
   "cell_type": "markdown",
   "metadata": {},
   "source": [
    "Для данного исследования подходит две модели:  \n",
    "- Дерево решений\n",
    "- Линейная регерессия   \n",
    "Перед построением модели масштабируем данные "
   ]
  },
  {
   "cell_type": "markdown",
   "metadata": {},
   "source": [
    "<a id='8-bullet'></a>"
   ]
  },
  {
   "cell_type": "code",
   "execution_count": 36,
   "metadata": {},
   "outputs": [],
   "source": [
    "\n",
    "features_train_rougher = data_train\n",
    "target_train_rougher = data_full.loc[data_train.index,'rougher.output.recovery']\n",
    "features_test_rougher  = data_test\n",
    "target_test_rougher  = data_full.loc[data_test.index,'rougher.output.recovery']\n",
    "features_train_final = data_train\n",
    "target_train_final = data_full.loc[data_train.index,'final.output.recovery']\n",
    "features_test_final  = data_test\n",
    "target_test_final  = data_full.loc[data_test.index,'final.output.recovery']\n",
    "\n"
   ]
  },
  {
   "cell_type": "code",
   "execution_count": 37,
   "metadata": {},
   "outputs": [],
   "source": [
    "scaler = StandardScaler()\n",
    "features_train_rougher = scaler.fit_transform(features_train_rougher)\n",
    "features_test_rougher = scaler.transform(features_test_rougher)\n",
    "pd.options.mode.chained_assignment = None"
   ]
  },
  {
   "cell_type": "code",
   "execution_count": 38,
   "metadata": {},
   "outputs": [],
   "source": [
    "scaler_1 = StandardScaler()\n",
    "features_train_final = scaler_1.fit_transform(features_train_final)\n",
    "features_test_final = scaler.transform(features_test_final)\n",
    "pd.options.mode.chained_assignment = None"
   ]
  },
  {
   "cell_type": "markdown",
   "metadata": {},
   "source": [
    "Модель Линейная регрессия"
   ]
  },
  {
   "cell_type": "markdown",
   "metadata": {},
   "source": [
    "<a id='9-bullet'></a>"
   ]
  },
  {
   "cell_type": "code",
   "execution_count": 39,
   "metadata": {},
   "outputs": [],
   "source": [
    "model_rougher_lr = LinearRegression() \n",
    "\n",
    "model_final_lr = LinearRegression() \n"
   ]
  },
  {
   "cell_type": "code",
   "execution_count": 40,
   "metadata": {},
   "outputs": [
    {
     "data": {
      "text/plain": [
       "14.409776162341036"
      ]
     },
     "metadata": {},
     "output_type": "display_data"
    }
   ],
   "source": [
    "\n",
    "scores = cross_val_score(model_rougher_lr,features_train_rougher,\n",
    "                         target_train_rougher,scoring  = make_scorer(smape_unweighted,greater_is_better = False),cv=5,n_jobs=-1)\n",
    "total_scores = scores.mean()*-1\n",
    "display(total_scores)"
   ]
  },
  {
   "cell_type": "code",
   "execution_count": 41,
   "metadata": {},
   "outputs": [
    {
     "name": "stdout",
     "output_type": "stream",
     "text": [
      "Median\n",
      "7.249115389978004\n"
     ]
    }
   ],
   "source": [
    "predicted_median = pd.Series(target_train_rougher.median(), index=target_train_rougher.index)\n",
    "print(\"Median\")\n",
    "print(mean_absolute_error(target_train_rougher,predicted_median))"
   ]
  },
  {
   "cell_type": "code",
   "execution_count": 42,
   "metadata": {},
   "outputs": [
    {
     "data": {
      "text/plain": [
       "10.520052631227399"
      ]
     },
     "metadata": {},
     "output_type": "display_data"
    }
   ],
   "source": [
    "scores_1 = cross_val_score(model_final_lr,features_train_final,\n",
    "                         target_train_final,scoring = make_scorer(smape_unweighted,greater_is_better = False),cv=5,n_jobs=-1)\n",
    "total_scores_1 = scores_1.mean()*-1\n",
    "display(total_scores_1)"
   ]
  },
  {
   "cell_type": "code",
   "execution_count": 43,
   "metadata": {},
   "outputs": [
    {
     "name": "stdout",
     "output_type": "stream",
     "text": [
      "Median\n",
      "6.273475545013256\n"
     ]
    }
   ],
   "source": [
    "predicted_median_f = pd.Series(target_train_final.median(), index=target_train_final.index)\n",
    "print(\"Median\")\n",
    "print(mean_absolute_error(target_train_final,predicted_median_f))"
   ]
  },
  {
   "cell_type": "code",
   "execution_count": 44,
   "metadata": {},
   "outputs": [
    {
     "name": "stdout",
     "output_type": "stream",
     "text": [
      "11.492483514005809\n"
     ]
    }
   ],
   "source": [
    "smape_res = (total_scores*0.25 + total_scores_1*0.75)\n",
    "print(smape_res)"
   ]
  },
  {
   "cell_type": "markdown",
   "metadata": {},
   "source": [
    "Модель прогнозная выдает значения больше чем константная модель в среднем в 2 раза и это отрицательный момент\n",
    "Итоговый smape - 11.5"
   ]
  },
  {
   "cell_type": "markdown",
   "metadata": {},
   "source": [
    "Модель Дерево решений"
   ]
  },
  {
   "cell_type": "markdown",
   "metadata": {},
   "source": [
    "<a id='10-bullet'></a>"
   ]
  },
  {
   "cell_type": "code",
   "execution_count": 45,
   "metadata": {},
   "outputs": [
    {
     "data": {
      "text/plain": [
       "-12.158914301293612"
      ]
     },
     "metadata": {},
     "output_type": "display_data"
    }
   ],
   "source": [
    "model_dtr = DecisionTreeRegressor(random_state=12345)\n",
    "parameters = {'min_samples_leaf':range(1,11,1),'max_depth':range(1,11,1)}\n",
    "grid = GridSearchCV(model_dtr,parameters,cv=5,scoring = make_scorer(smape_unweighted,greater_is_better = False))\n",
    "grid.fit(features_train_rougher,target_train_rougher) \n",
    "dtr_rougher = grid.best_score\n",
    "display(dtr_rougher)"
   ]
  },
  {
   "cell_type": "code",
   "execution_count": 46,
   "metadata": {},
   "outputs": [
    {
     "name": "stdout",
     "output_type": "stream",
     "text": [
      "Median\n",
      "7.249115389978004\n"
     ]
    }
   ],
   "source": [
    "predicted_median = pd.Series(target_train_rougher.median(), index=target_train_rougher.index)\n",
    "print(\"Median\")\n",
    "print(mean_absolute_error(target_train_rougher,predicted_median))"
   ]
  },
  {
   "cell_type": "code",
   "execution_count": 47,
   "metadata": {},
   "outputs": [
    {
     "data": {
      "text/plain": [
       "-9.733309442710858"
      ]
     },
     "metadata": {},
     "output_type": "display_data"
    }
   ],
   "source": [
    "model_dtr_f = DecisionTreeRegressor(random_state=12345)\n",
    "parameters = {'min_samples_leaf':range(1,11,1),'max_depth':range(1,11,1)}\n",
    "grid = GridSearchCV(model_dtr_f,parameters,cv=5,scoring = make_scorer(smape_unweighted,greater_is_better = False))\n",
    "grid.fit(features_train_final,target_train_final) \n",
    "dtr_final = grid.best_score_\n",
    "display(dtr_final)"
   ]
  },
  {
   "cell_type": "code",
   "execution_count": 48,
   "metadata": {},
   "outputs": [
    {
     "name": "stdout",
     "output_type": "stream",
     "text": [
      "Median\n",
      "6.273475545013256\n"
     ]
    }
   ],
   "source": [
    "predicted_median_f = pd.Series(target_train_final.median(), index=target_train_final.index)\n",
    "print(\"Median\")\n",
    "print(mean_absolute_error(target_train_final,predicted_median_f))"
   ]
  },
  {
   "cell_type": "code",
   "execution_count": 53,
   "metadata": {},
   "outputs": [
    {
     "name": "stdout",
     "output_type": "stream",
     "text": [
      "10.339710657356546\n"
     ]
    }
   ],
   "source": [
    "smape_res_1 = (dtr_rougher*0.25 + dtr_final*0.75)*-1\n",
    "print(smape_res_1)"
   ]
  },
  {
   "cell_type": "markdown",
   "metadata": {},
   "source": [
    "<a id='11-bullet'></a>"
   ]
  },
  {
   "cell_type": "markdown",
   "metadata": {},
   "source": [
    "Модель показывает  результаты лучше чем у регрессии и sMape равна 10.3. (в отличии от регрессии - 11.5)"
   ]
  },
  {
   "cell_type": "markdown",
   "metadata": {},
   "source": [
    "Выбираем модель дерево решений и проведем тестирование модели на тестовых данных"
   ]
  },
  {
   "cell_type": "code",
   "execution_count": 54,
   "metadata": {},
   "outputs": [
    {
     "name": "stdout",
     "output_type": "stream",
     "text": [
      "RMSE модели линейной регрессии на тестовой выборке: 15.045238796439644\n"
     ]
    }
   ],
   "source": [
    "model_dtr_r_total = DecisionTreeRegressor(random_state=12345,max_depth=3,min_samples_leaf=6)\n",
    "model_dtr_r_total.fit(features_train_rougher,target_train_rougher) \n",
    "predictions_r = model_dtr_r_total.predict(features_test_rougher) \n",
    "\n",
    "result_r = mean_squared_error(target_test_rougher,predictions_r)**0.5  \n",
    "print(\"RMSE модели линейной регрессии на тестовой выборке:\", result_r)"
   ]
  },
  {
   "cell_type": "code",
   "execution_count": 55,
   "metadata": {},
   "outputs": [
    {
     "name": "stdout",
     "output_type": "stream",
     "text": [
      "RMSE модели линейной регрессии на тестовой выборке: 10.812964008468914\n"
     ]
    }
   ],
   "source": [
    "model_dtr_f_total = DecisionTreeRegressor(random_state=12345,max_depth=2,min_samples_leaf=1) \n",
    "model_dtr_f_total.fit(features_train_final,target_train_final) \n",
    "predictions_f = model_dtr_f_total.predict(features_test_final) \n",
    "\n",
    "result_f = mean_squared_error(target_test_final,predictions_f)**0.5  \n",
    "print(\"RMSE модели линейной регрессии на тестовой выборке:\", result_f)"
   ]
  },
  {
   "cell_type": "markdown",
   "metadata": {},
   "source": [
    "Удельный вес"
   ]
  },
  {
   "cell_type": "code",
   "execution_count": 56,
   "metadata": {},
   "outputs": [
    {
     "data": {
      "text/plain": [
       "11.871032705461598"
      ]
     },
     "metadata": {},
     "output_type": "display_data"
    }
   ],
   "source": [
    "result_total = 0.25*result_r+result_f*0.75\n",
    "display(result_total)"
   ]
  },
  {
   "cell_type": "markdown",
   "metadata": {},
   "source": [
    "**Вывод:   \n",
    "Наилучший результат показываем модель дерево решений  \n",
    "Данную модель проверили на тестовой выборке\n",
    "Метрика RMSE модели rougher.output.recovery  ~ 15  \n",
    "Метрика RMSE модели final.output.recovery ~ 11  \n",
    "сумма их удельного  веса  на результат составляет ~ 12  \n",
    "показатель final.output.recovery и rougher.output.recovery от0 до 100.   \n",
    "Значение на RMSE на  выборках показывает 12 что чуть более 10% и говорит об удовлетворительном результате**"
   ]
  }
 ],
 "metadata": {
  "ExecuteTimeLog": [
   {
    "duration": 49,
    "start_time": "2024-05-28T11:35:12.212Z"
   },
   {
    "duration": 397,
    "start_time": "2024-05-28T11:35:17.215Z"
   },
   {
    "duration": 1089,
    "start_time": "2024-05-28T11:35:18.012Z"
   },
   {
    "duration": 24,
    "start_time": "2024-05-28T11:35:53.894Z"
   },
   {
    "duration": 17,
    "start_time": "2024-05-28T11:36:30.760Z"
   },
   {
    "duration": 18,
    "start_time": "2024-05-28T11:36:56.125Z"
   },
   {
    "duration": 64,
    "start_time": "2024-05-28T11:37:28.946Z"
   },
   {
    "duration": 375,
    "start_time": "2024-05-28T11:37:38.525Z"
   },
   {
    "duration": 719,
    "start_time": "2024-05-28T11:37:38.991Z"
   },
   {
    "duration": 63,
    "start_time": "2024-05-28T11:37:39.711Z"
   },
   {
    "duration": 6,
    "start_time": "2024-05-28T11:37:40.068Z"
   },
   {
    "duration": 401,
    "start_time": "2024-05-28T11:37:56.320Z"
   },
   {
    "duration": 720,
    "start_time": "2024-05-28T11:37:56.876Z"
   },
   {
    "duration": 19,
    "start_time": "2024-05-28T11:37:57.597Z"
   },
   {
    "duration": 25,
    "start_time": "2024-05-28T11:37:57.941Z"
   },
   {
    "duration": 12,
    "start_time": "2024-05-28T11:38:47.426Z"
   },
   {
    "duration": 18,
    "start_time": "2024-05-28T11:39:18.714Z"
   },
   {
    "duration": 18,
    "start_time": "2024-05-28T11:39:50.258Z"
   },
   {
    "duration": 18,
    "start_time": "2024-05-28T11:40:26.683Z"
   },
   {
    "duration": 346,
    "start_time": "2024-05-28T12:25:08.655Z"
   },
   {
    "duration": 693,
    "start_time": "2024-05-28T12:25:09.649Z"
   },
   {
    "duration": 16,
    "start_time": "2024-05-28T12:25:10.720Z"
   },
   {
    "duration": 24,
    "start_time": "2024-05-28T12:25:11.609Z"
   },
   {
    "duration": 12,
    "start_time": "2024-05-28T12:25:11.857Z"
   },
   {
    "duration": 17,
    "start_time": "2024-05-28T12:25:12.028Z"
   },
   {
    "duration": 17,
    "start_time": "2024-05-28T12:25:12.291Z"
   },
   {
    "duration": 16,
    "start_time": "2024-05-28T12:25:12.639Z"
   },
   {
    "duration": 2,
    "start_time": "2024-05-28T12:39:58.368Z"
   },
   {
    "duration": 748,
    "start_time": "2024-05-28T12:39:59.288Z"
   },
   {
    "duration": 17,
    "start_time": "2024-05-28T12:40:00.724Z"
   },
   {
    "duration": 18,
    "start_time": "2024-05-28T12:40:01.040Z"
   },
   {
    "duration": 14,
    "start_time": "2024-05-28T12:40:01.218Z"
   },
   {
    "duration": 17,
    "start_time": "2024-05-28T12:40:01.574Z"
   },
   {
    "duration": 27,
    "start_time": "2024-05-28T12:40:01.807Z"
   },
   {
    "duration": 17,
    "start_time": "2024-05-28T12:40:02.061Z"
   },
   {
    "duration": 6,
    "start_time": "2024-05-28T12:55:21.147Z"
   },
   {
    "duration": 83,
    "start_time": "2024-05-28T12:55:41.753Z"
   },
   {
    "duration": 401,
    "start_time": "2024-05-28T12:56:08.821Z"
   },
   {
    "duration": 752,
    "start_time": "2024-05-28T12:56:10.222Z"
   },
   {
    "duration": 16,
    "start_time": "2024-05-28T12:56:11.059Z"
   },
   {
    "duration": 23,
    "start_time": "2024-05-28T12:56:12.957Z"
   },
   {
    "duration": 13,
    "start_time": "2024-05-28T12:56:13.627Z"
   },
   {
    "duration": 19,
    "start_time": "2024-05-28T12:56:14.188Z"
   },
   {
    "duration": 16,
    "start_time": "2024-05-28T12:56:14.988Z"
   },
   {
    "duration": 17,
    "start_time": "2024-05-28T12:56:15.523Z"
   },
   {
    "duration": 6,
    "start_time": "2024-05-28T12:56:16.745Z"
   },
   {
    "duration": 72,
    "start_time": "2024-05-28T12:56:18.856Z"
   },
   {
    "duration": 6,
    "start_time": "2024-05-28T12:56:51.146Z"
   },
   {
    "duration": 6,
    "start_time": "2024-05-28T12:57:11.559Z"
   },
   {
    "duration": 7,
    "start_time": "2024-05-28T13:01:56.179Z"
   },
   {
    "duration": 352,
    "start_time": "2024-05-28T13:02:28.157Z"
   },
   {
    "duration": 742,
    "start_time": "2024-05-28T13:02:28.777Z"
   },
   {
    "duration": 19,
    "start_time": "2024-05-28T13:02:29.526Z"
   },
   {
    "duration": 26,
    "start_time": "2024-05-28T13:02:29.603Z"
   },
   {
    "duration": 12,
    "start_time": "2024-05-28T13:02:29.880Z"
   },
   {
    "duration": 18,
    "start_time": "2024-05-28T13:02:30.152Z"
   },
   {
    "duration": 16,
    "start_time": "2024-05-28T13:02:30.388Z"
   },
   {
    "duration": 17,
    "start_time": "2024-05-28T13:02:30.766Z"
   },
   {
    "duration": 5,
    "start_time": "2024-05-28T13:02:31.103Z"
   },
   {
    "duration": 13,
    "start_time": "2024-05-28T13:02:31.377Z"
   },
   {
    "duration": 10,
    "start_time": "2024-05-28T13:10:35.918Z"
   },
   {
    "duration": 11,
    "start_time": "2024-05-28T13:10:53.979Z"
   },
   {
    "duration": 81,
    "start_time": "2024-05-28T13:13:46.153Z"
   },
   {
    "duration": 3,
    "start_time": "2024-05-28T13:14:09.878Z"
   },
   {
    "duration": 3,
    "start_time": "2024-05-28T13:14:25.629Z"
   },
   {
    "duration": 14,
    "start_time": "2024-05-28T13:14:26.052Z"
   },
   {
    "duration": 5,
    "start_time": "2024-05-28T13:15:12.406Z"
   },
   {
    "duration": 4,
    "start_time": "2024-05-28T13:15:27.103Z"
   },
   {
    "duration": 80,
    "start_time": "2024-05-28T13:31:29.366Z"
   },
   {
    "duration": 23,
    "start_time": "2024-05-28T13:31:49.719Z"
   },
   {
    "duration": 7,
    "start_time": "2024-05-28T13:32:28.645Z"
   },
   {
    "duration": 7,
    "start_time": "2024-05-28T13:33:39.967Z"
   },
   {
    "duration": 6,
    "start_time": "2024-05-28T13:33:40.455Z"
   },
   {
    "duration": 1532,
    "start_time": "2024-05-28T14:06:43.190Z"
   },
   {
    "duration": 729,
    "start_time": "2024-05-28T14:06:44.724Z"
   },
   {
    "duration": 19,
    "start_time": "2024-05-28T14:06:45.455Z"
   },
   {
    "duration": 20,
    "start_time": "2024-05-28T14:06:46.284Z"
   },
   {
    "duration": 13,
    "start_time": "2024-05-28T14:06:47.020Z"
   },
   {
    "duration": 18,
    "start_time": "2024-05-28T14:06:47.822Z"
   },
   {
    "duration": 18,
    "start_time": "2024-05-28T14:06:48.524Z"
   },
   {
    "duration": 17,
    "start_time": "2024-05-28T14:06:48.823Z"
   },
   {
    "duration": 202,
    "start_time": "2024-05-28T14:06:49.823Z"
   },
   {
    "duration": 1288,
    "start_time": "2024-05-28T14:07:48.522Z"
   },
   {
    "duration": 742,
    "start_time": "2024-05-28T14:07:49.811Z"
   },
   {
    "duration": 17,
    "start_time": "2024-05-28T14:07:50.555Z"
   },
   {
    "duration": 21,
    "start_time": "2024-05-28T14:07:52.522Z"
   },
   {
    "duration": 17,
    "start_time": "2024-05-28T14:07:53.583Z"
   },
   {
    "duration": 16,
    "start_time": "2024-05-28T14:07:55.366Z"
   },
   {
    "duration": 17,
    "start_time": "2024-05-28T14:07:56.332Z"
   },
   {
    "duration": 17,
    "start_time": "2024-05-28T14:07:58.369Z"
   },
   {
    "duration": 207,
    "start_time": "2024-05-28T14:07:59.433Z"
   },
   {
    "duration": 13,
    "start_time": "2024-05-28T14:08:25.695Z"
   },
   {
    "duration": 1357,
    "start_time": "2024-05-28T14:09:56.234Z"
   },
   {
    "duration": 787,
    "start_time": "2024-05-28T14:09:57.592Z"
   },
   {
    "duration": 17,
    "start_time": "2024-05-28T14:09:58.381Z"
   },
   {
    "duration": 24,
    "start_time": "2024-05-28T14:09:59.219Z"
   },
   {
    "duration": 12,
    "start_time": "2024-05-28T14:09:59.872Z"
   },
   {
    "duration": 17,
    "start_time": "2024-05-28T14:10:00.436Z"
   },
   {
    "duration": 17,
    "start_time": "2024-05-28T14:10:01.250Z"
   },
   {
    "duration": 18,
    "start_time": "2024-05-28T14:10:02.070Z"
   },
   {
    "duration": 13,
    "start_time": "2024-05-28T14:10:04.036Z"
   },
   {
    "duration": 6,
    "start_time": "2024-05-28T14:10:04.632Z"
   },
   {
    "duration": 3,
    "start_time": "2024-05-28T14:10:06.493Z"
   },
   {
    "duration": 4,
    "start_time": "2024-05-28T14:10:07.255Z"
   },
   {
    "duration": 4,
    "start_time": "2024-05-28T14:10:07.893Z"
   },
   {
    "duration": 120,
    "start_time": "2024-05-28T14:10:08.984Z"
   },
   {
    "duration": 21,
    "start_time": "2024-05-28T14:11:40.758Z"
   },
   {
    "duration": 33,
    "start_time": "2024-05-28T14:12:09.110Z"
   },
   {
    "duration": 3,
    "start_time": "2024-05-28T14:46:24.183Z"
   },
   {
    "duration": 3,
    "start_time": "2024-05-28T14:46:37.377Z"
   },
   {
    "duration": 1232,
    "start_time": "2024-05-28T14:50:25.824Z"
   },
   {
    "duration": 730,
    "start_time": "2024-05-28T14:50:27.077Z"
   },
   {
    "duration": 19,
    "start_time": "2024-05-28T14:50:29.021Z"
   },
   {
    "duration": 22,
    "start_time": "2024-05-28T14:50:36.466Z"
   },
   {
    "duration": 13,
    "start_time": "2024-05-28T14:50:38.395Z"
   },
   {
    "duration": 27,
    "start_time": "2024-05-28T14:50:42.699Z"
   },
   {
    "duration": 17,
    "start_time": "2024-05-28T14:50:50.032Z"
   },
   {
    "duration": 17,
    "start_time": "2024-05-28T14:50:50.871Z"
   },
   {
    "duration": 12,
    "start_time": "2024-05-28T14:50:52.963Z"
   },
   {
    "duration": 6,
    "start_time": "2024-05-28T14:50:54.651Z"
   },
   {
    "duration": 3,
    "start_time": "2024-05-28T14:50:56.182Z"
   },
   {
    "duration": 4,
    "start_time": "2024-05-28T14:50:56.748Z"
   },
   {
    "duration": 4,
    "start_time": "2024-05-28T14:50:57.722Z"
   },
   {
    "duration": 7,
    "start_time": "2024-05-28T15:13:47.616Z"
   },
   {
    "duration": 1282,
    "start_time": "2024-05-28T15:14:09.897Z"
   },
   {
    "duration": 696,
    "start_time": "2024-05-28T15:14:11.181Z"
   },
   {
    "duration": 17,
    "start_time": "2024-05-28T15:14:11.879Z"
   },
   {
    "duration": 20,
    "start_time": "2024-05-28T15:14:12.618Z"
   },
   {
    "duration": 12,
    "start_time": "2024-05-28T15:14:13.204Z"
   },
   {
    "duration": 17,
    "start_time": "2024-05-28T15:14:13.815Z"
   },
   {
    "duration": 17,
    "start_time": "2024-05-28T15:14:14.086Z"
   },
   {
    "duration": 17,
    "start_time": "2024-05-28T15:14:14.324Z"
   },
   {
    "duration": 13,
    "start_time": "2024-05-28T15:14:15.948Z"
   },
   {
    "duration": 7,
    "start_time": "2024-05-28T15:14:17.046Z"
   },
   {
    "duration": 4,
    "start_time": "2024-05-28T15:14:17.718Z"
   },
   {
    "duration": 4,
    "start_time": "2024-05-28T15:14:18.502Z"
   },
   {
    "duration": 4,
    "start_time": "2024-05-28T15:14:19.184Z"
   },
   {
    "duration": 7,
    "start_time": "2024-05-28T15:14:20.535Z"
   },
   {
    "duration": 8,
    "start_time": "2024-05-28T15:15:59.609Z"
   },
   {
    "duration": 7,
    "start_time": "2024-05-28T15:18:40.169Z"
   },
   {
    "duration": 9,
    "start_time": "2024-05-28T15:21:24.551Z"
   },
   {
    "duration": 1330,
    "start_time": "2024-05-28T15:22:32.035Z"
   },
   {
    "duration": 715,
    "start_time": "2024-05-28T15:22:33.367Z"
   },
   {
    "duration": 18,
    "start_time": "2024-05-28T15:22:34.235Z"
   },
   {
    "duration": 21,
    "start_time": "2024-05-28T15:22:35.643Z"
   },
   {
    "duration": 12,
    "start_time": "2024-05-28T15:22:39.727Z"
   },
   {
    "duration": 23,
    "start_time": "2024-05-28T15:22:40.545Z"
   },
   {
    "duration": 16,
    "start_time": "2024-05-28T15:22:41.561Z"
   },
   {
    "duration": 17,
    "start_time": "2024-05-28T15:22:48.982Z"
   },
   {
    "duration": 7,
    "start_time": "2024-05-28T15:22:51.320Z"
   },
   {
    "duration": 3,
    "start_time": "2024-05-28T15:22:51.905Z"
   },
   {
    "duration": 4,
    "start_time": "2024-05-28T15:22:52.423Z"
   },
   {
    "duration": 4,
    "start_time": "2024-05-28T15:22:53.104Z"
   },
   {
    "duration": 20,
    "start_time": "2024-05-28T15:22:54.487Z"
   },
   {
    "duration": 5,
    "start_time": "2024-05-28T15:22:58.052Z"
   },
   {
    "duration": 93,
    "start_time": "2024-05-28T15:22:58.971Z"
   },
   {
    "duration": 21,
    "start_time": "2024-05-28T15:22:59.889Z"
   },
   {
    "duration": 7,
    "start_time": "2024-05-28T15:23:00.906Z"
   },
   {
    "duration": 6,
    "start_time": "2024-05-28T15:23:02.087Z"
   },
   {
    "duration": 56,
    "start_time": "2024-05-28T15:26:43.866Z"
   },
   {
    "duration": 1205,
    "start_time": "2024-05-28T16:17:15.655Z"
   },
   {
    "duration": 717,
    "start_time": "2024-05-28T16:17:16.862Z"
   },
   {
    "duration": 18,
    "start_time": "2024-05-28T16:17:17.982Z"
   },
   {
    "duration": 20,
    "start_time": "2024-05-28T16:17:19.067Z"
   },
   {
    "duration": 12,
    "start_time": "2024-05-28T16:17:19.459Z"
   },
   {
    "duration": 17,
    "start_time": "2024-05-28T16:17:19.788Z"
   },
   {
    "duration": 17,
    "start_time": "2024-05-28T16:17:20.001Z"
   },
   {
    "duration": 17,
    "start_time": "2024-05-28T16:17:20.256Z"
   },
   {
    "duration": 7,
    "start_time": "2024-05-28T16:17:20.805Z"
   },
   {
    "duration": 3,
    "start_time": "2024-05-28T16:17:21.066Z"
   },
   {
    "duration": 5,
    "start_time": "2024-05-28T16:17:21.280Z"
   },
   {
    "duration": 4,
    "start_time": "2024-05-28T16:17:21.496Z"
   },
   {
    "duration": 6,
    "start_time": "2024-05-28T16:17:21.709Z"
   },
   {
    "duration": 6,
    "start_time": "2024-05-28T16:17:23.621Z"
   },
   {
    "duration": 79,
    "start_time": "2024-05-28T16:17:24.303Z"
   },
   {
    "duration": 22,
    "start_time": "2024-05-28T16:17:24.949Z"
   },
   {
    "duration": 7,
    "start_time": "2024-05-28T16:17:25.600Z"
   },
   {
    "duration": 6,
    "start_time": "2024-05-28T16:17:26.515Z"
   },
   {
    "duration": 57,
    "start_time": "2024-05-28T16:21:16.066Z"
   },
   {
    "duration": 56,
    "start_time": "2024-05-28T16:21:22.533Z"
   },
   {
    "duration": 103,
    "start_time": "2024-05-28T16:21:29.690Z"
   },
   {
    "duration": 8,
    "start_time": "2024-05-28T16:21:38.683Z"
   },
   {
    "duration": 11,
    "start_time": "2024-05-28T16:21:45.269Z"
   },
   {
    "duration": 5,
    "start_time": "2024-05-28T16:22:53.228Z"
   },
   {
    "duration": 57,
    "start_time": "2024-05-28T16:23:10.320Z"
   },
   {
    "duration": 5,
    "start_time": "2024-05-28T16:23:16.333Z"
   },
   {
    "duration": 2,
    "start_time": "2024-05-28T16:23:31.356Z"
   },
   {
    "duration": 7,
    "start_time": "2024-05-28T16:23:58.076Z"
   },
   {
    "duration": 2,
    "start_time": "2024-05-28T16:24:05.128Z"
   },
   {
    "duration": 3,
    "start_time": "2024-05-28T16:24:52.778Z"
   },
   {
    "duration": 2,
    "start_time": "2024-05-28T16:24:53.133Z"
   },
   {
    "duration": 4,
    "start_time": "2024-05-28T16:25:02.069Z"
   },
   {
    "duration": 6,
    "start_time": "2024-05-28T16:25:12.403Z"
   },
   {
    "duration": 5,
    "start_time": "2024-05-28T16:25:12.821Z"
   },
   {
    "duration": 1222,
    "start_time": "2024-05-28T16:25:43.669Z"
   },
   {
    "duration": 715,
    "start_time": "2024-05-28T16:25:44.893Z"
   },
   {
    "duration": 17,
    "start_time": "2024-05-28T16:25:45.612Z"
   },
   {
    "duration": 20,
    "start_time": "2024-05-28T16:25:45.631Z"
   },
   {
    "duration": 11,
    "start_time": "2024-05-28T16:25:45.652Z"
   },
   {
    "duration": 17,
    "start_time": "2024-05-28T16:25:45.664Z"
   },
   {
    "duration": 39,
    "start_time": "2024-05-28T16:25:45.682Z"
   },
   {
    "duration": 16,
    "start_time": "2024-05-28T16:25:45.722Z"
   },
   {
    "duration": 6,
    "start_time": "2024-05-28T16:25:46.071Z"
   },
   {
    "duration": 3,
    "start_time": "2024-05-28T16:25:46.332Z"
   },
   {
    "duration": 4,
    "start_time": "2024-05-28T16:25:46.555Z"
   },
   {
    "duration": 4,
    "start_time": "2024-05-28T16:25:47.839Z"
   },
   {
    "duration": 9,
    "start_time": "2024-05-28T16:25:48.139Z"
   },
   {
    "duration": 5,
    "start_time": "2024-05-28T16:25:49.411Z"
   },
   {
    "duration": 80,
    "start_time": "2024-05-28T16:25:50.157Z"
   },
   {
    "duration": 22,
    "start_time": "2024-05-28T16:25:50.413Z"
   },
   {
    "duration": 6,
    "start_time": "2024-05-28T16:25:50.865Z"
   },
   {
    "duration": 7,
    "start_time": "2024-05-28T16:25:51.339Z"
   },
   {
    "duration": 4,
    "start_time": "2024-05-28T16:25:52.061Z"
   },
   {
    "duration": 4,
    "start_time": "2024-05-28T16:26:05.471Z"
   },
   {
    "duration": 108,
    "start_time": "2024-05-28T16:27:41.532Z"
   },
   {
    "duration": 11,
    "start_time": "2024-05-28T16:27:50.633Z"
   },
   {
    "duration": 8,
    "start_time": "2024-05-28T16:28:12.953Z"
   },
   {
    "duration": 4,
    "start_time": "2024-05-28T16:28:28.525Z"
   },
   {
    "duration": 20,
    "start_time": "2024-05-28T16:28:39.228Z"
   },
   {
    "duration": 13,
    "start_time": "2024-05-28T16:29:00.703Z"
   },
   {
    "duration": 4,
    "start_time": "2024-05-28T16:29:05.038Z"
   },
   {
    "duration": 68,
    "start_time": "2024-05-28T16:29:31.328Z"
   },
   {
    "duration": 909,
    "start_time": "2024-05-28T16:29:44.824Z"
   },
   {
    "duration": 14,
    "start_time": "2024-05-28T16:29:49.782Z"
   },
   {
    "duration": 901,
    "start_time": "2024-05-28T16:30:24.013Z"
   },
   {
    "duration": 14,
    "start_time": "2024-05-28T16:32:56.264Z"
   },
   {
    "duration": 13,
    "start_time": "2024-05-28T16:33:18.496Z"
   },
   {
    "duration": 16,
    "start_time": "2024-05-28T16:33:58.005Z"
   },
   {
    "duration": 16,
    "start_time": "2024-05-28T16:35:15.927Z"
   },
   {
    "duration": 15,
    "start_time": "2024-05-28T16:35:47.494Z"
   },
   {
    "duration": 35,
    "start_time": "2024-05-28T16:39:06.263Z"
   },
   {
    "duration": 1664,
    "start_time": "2024-05-28T19:46:42.462Z"
   },
   {
    "duration": 3653,
    "start_time": "2024-05-28T19:46:44.129Z"
   },
   {
    "duration": 21,
    "start_time": "2024-05-28T19:46:47.783Z"
   },
   {
    "duration": 41,
    "start_time": "2024-05-28T19:46:47.805Z"
   },
   {
    "duration": 14,
    "start_time": "2024-05-28T19:46:47.848Z"
   },
   {
    "duration": 28,
    "start_time": "2024-05-28T19:46:47.864Z"
   },
   {
    "duration": 18,
    "start_time": "2024-05-28T19:46:47.894Z"
   },
   {
    "duration": 24,
    "start_time": "2024-05-28T19:46:48.724Z"
   },
   {
    "duration": 8,
    "start_time": "2024-05-28T19:46:50.752Z"
   },
   {
    "duration": 4,
    "start_time": "2024-05-28T19:46:51.467Z"
   },
   {
    "duration": 7,
    "start_time": "2024-05-28T19:46:52.226Z"
   },
   {
    "duration": 3,
    "start_time": "2024-05-28T19:46:52.972Z"
   },
   {
    "duration": 8,
    "start_time": "2024-05-28T19:46:53.789Z"
   },
   {
    "duration": 6,
    "start_time": "2024-05-28T19:46:56.957Z"
   },
   {
    "duration": 79,
    "start_time": "2024-05-28T19:46:57.657Z"
   },
   {
    "duration": 23,
    "start_time": "2024-05-28T19:46:58.357Z"
   },
   {
    "duration": 8,
    "start_time": "2024-05-28T19:46:59.293Z"
   },
   {
    "duration": 7,
    "start_time": "2024-05-28T19:46:59.971Z"
   },
   {
    "duration": 42,
    "start_time": "2024-05-28T19:47:00.964Z"
   },
   {
    "duration": 4,
    "start_time": "2024-05-28T19:52:50.982Z"
   },
   {
    "duration": 125,
    "start_time": "2024-05-28T19:54:02.612Z"
   },
   {
    "duration": 13,
    "start_time": "2024-05-28T19:54:12.637Z"
   },
   {
    "duration": 11,
    "start_time": "2024-05-28T19:54:29.811Z"
   },
   {
    "duration": 11,
    "start_time": "2024-05-28T19:54:41.775Z"
   },
   {
    "duration": 9,
    "start_time": "2024-05-28T19:56:04.669Z"
   },
   {
    "duration": 8,
    "start_time": "2024-05-28T19:57:13.412Z"
   },
   {
    "duration": 9,
    "start_time": "2024-05-28T19:57:58.965Z"
   },
   {
    "duration": 14,
    "start_time": "2024-05-28T19:58:45.398Z"
   },
   {
    "duration": 9,
    "start_time": "2024-05-28T19:59:20.805Z"
   },
   {
    "duration": 163,
    "start_time": "2024-05-28T20:07:06.624Z"
   },
   {
    "duration": 5,
    "start_time": "2024-05-28T20:09:31.422Z"
   },
   {
    "duration": 55,
    "start_time": "2024-05-28T20:13:07.224Z"
   },
   {
    "duration": 90,
    "start_time": "2024-05-28T20:13:32.589Z"
   },
   {
    "duration": 23,
    "start_time": "2024-05-28T20:14:20.932Z"
   },
   {
    "duration": 21,
    "start_time": "2024-05-28T20:14:59.346Z"
   },
   {
    "duration": 36,
    "start_time": "2024-05-28T20:15:14.193Z"
   },
   {
    "duration": 36,
    "start_time": "2024-05-28T20:15:54.767Z"
   },
   {
    "duration": 1662,
    "start_time": "2024-05-28T20:16:14.261Z"
   },
   {
    "duration": 1126,
    "start_time": "2024-05-28T20:16:15.925Z"
   },
   {
    "duration": 33,
    "start_time": "2024-05-28T20:16:17.053Z"
   },
   {
    "duration": 34,
    "start_time": "2024-05-28T20:16:17.089Z"
   },
   {
    "duration": 15,
    "start_time": "2024-05-28T20:16:17.124Z"
   },
   {
    "duration": 22,
    "start_time": "2024-05-28T20:16:17.141Z"
   },
   {
    "duration": 31,
    "start_time": "2024-05-28T20:16:17.186Z"
   },
   {
    "duration": 21,
    "start_time": "2024-05-28T20:16:17.219Z"
   },
   {
    "duration": 17,
    "start_time": "2024-05-28T20:16:17.242Z"
   },
   {
    "duration": 33,
    "start_time": "2024-05-28T20:16:17.261Z"
   },
   {
    "duration": 13,
    "start_time": "2024-05-28T20:16:17.298Z"
   },
   {
    "duration": 4,
    "start_time": "2024-05-28T20:16:17.315Z"
   },
   {
    "duration": 13,
    "start_time": "2024-05-28T20:16:17.320Z"
   },
   {
    "duration": 15,
    "start_time": "2024-05-28T20:16:17.874Z"
   },
   {
    "duration": 119,
    "start_time": "2024-05-28T20:16:18.095Z"
   },
   {
    "duration": 24,
    "start_time": "2024-05-28T20:16:18.323Z"
   },
   {
    "duration": 8,
    "start_time": "2024-05-28T20:16:18.542Z"
   },
   {
    "duration": 8,
    "start_time": "2024-05-28T20:16:18.769Z"
   },
   {
    "duration": 165,
    "start_time": "2024-05-28T20:16:19.160Z"
   },
   {
    "duration": 7,
    "start_time": "2024-05-28T20:16:19.405Z"
   },
   {
    "duration": 9,
    "start_time": "2024-05-28T20:16:19.610Z"
   },
   {
    "duration": 3,
    "start_time": "2024-05-28T20:16:19.830Z"
   },
   {
    "duration": 150,
    "start_time": "2024-05-28T20:16:37.846Z"
   },
   {
    "duration": 20,
    "start_time": "2024-05-28T20:16:48.413Z"
   },
   {
    "duration": 221,
    "start_time": "2024-05-28T20:16:52.608Z"
   },
   {
    "duration": 20,
    "start_time": "2024-05-28T20:16:53.121Z"
   },
   {
    "duration": 1583,
    "start_time": "2024-05-28T20:17:14.833Z"
   },
   {
    "duration": 1141,
    "start_time": "2024-05-28T20:17:16.420Z"
   },
   {
    "duration": 39,
    "start_time": "2024-05-28T20:17:17.562Z"
   },
   {
    "duration": 25,
    "start_time": "2024-05-28T20:17:17.610Z"
   },
   {
    "duration": 13,
    "start_time": "2024-05-28T20:17:17.637Z"
   },
   {
    "duration": 36,
    "start_time": "2024-05-28T20:17:17.652Z"
   },
   {
    "duration": 31,
    "start_time": "2024-05-28T20:17:17.690Z"
   },
   {
    "duration": 22,
    "start_time": "2024-05-28T20:17:17.722Z"
   },
   {
    "duration": 16,
    "start_time": "2024-05-28T20:17:17.745Z"
   },
   {
    "duration": 22,
    "start_time": "2024-05-28T20:17:17.764Z"
   },
   {
    "duration": 15,
    "start_time": "2024-05-28T20:17:17.788Z"
   },
   {
    "duration": 3,
    "start_time": "2024-05-28T20:17:17.813Z"
   },
   {
    "duration": 14,
    "start_time": "2024-05-28T20:17:19.102Z"
   },
   {
    "duration": 6,
    "start_time": "2024-05-28T20:17:19.910Z"
   },
   {
    "duration": 94,
    "start_time": "2024-05-28T20:17:20.121Z"
   },
   {
    "duration": 25,
    "start_time": "2024-05-28T20:17:21.039Z"
   },
   {
    "duration": 11,
    "start_time": "2024-05-28T20:17:22.008Z"
   },
   {
    "duration": 10,
    "start_time": "2024-05-28T20:17:22.238Z"
   },
   {
    "duration": 155,
    "start_time": "2024-05-28T20:17:23.619Z"
   },
   {
    "duration": 7,
    "start_time": "2024-05-28T20:17:24.256Z"
   },
   {
    "duration": 10,
    "start_time": "2024-05-28T20:17:26.917Z"
   },
   {
    "duration": 4,
    "start_time": "2024-05-28T20:17:27.706Z"
   },
   {
    "duration": 4,
    "start_time": "2024-05-28T20:18:16.046Z"
   },
   {
    "duration": 12,
    "start_time": "2024-05-28T20:19:11.995Z"
   },
   {
    "duration": 3,
    "start_time": "2024-05-28T20:19:16.764Z"
   },
   {
    "duration": 15,
    "start_time": "2024-05-28T20:19:40.401Z"
   },
   {
    "duration": 14,
    "start_time": "2024-05-28T20:20:41.094Z"
   },
   {
    "duration": 12,
    "start_time": "2024-05-28T20:21:04.177Z"
   },
   {
    "duration": 179,
    "start_time": "2024-05-28T20:21:37.439Z"
   },
   {
    "duration": 8,
    "start_time": "2024-05-28T20:23:35.758Z"
   },
   {
    "duration": 24,
    "start_time": "2024-05-28T20:24:02.584Z"
   },
   {
    "duration": 1385,
    "start_time": "2024-05-29T07:04:22.527Z"
   },
   {
    "duration": 999,
    "start_time": "2024-05-29T07:04:23.913Z"
   },
   {
    "duration": 15,
    "start_time": "2024-05-29T07:04:24.914Z"
   },
   {
    "duration": 18,
    "start_time": "2024-05-29T07:04:24.931Z"
   },
   {
    "duration": 11,
    "start_time": "2024-05-29T07:04:25.361Z"
   },
   {
    "duration": 17,
    "start_time": "2024-05-29T07:04:25.891Z"
   },
   {
    "duration": 14,
    "start_time": "2024-05-29T07:04:26.196Z"
   },
   {
    "duration": 15,
    "start_time": "2024-05-29T07:04:26.267Z"
   },
   {
    "duration": 6,
    "start_time": "2024-05-29T07:04:26.916Z"
   },
   {
    "duration": 3,
    "start_time": "2024-05-29T07:04:27.052Z"
   },
   {
    "duration": 4,
    "start_time": "2024-05-29T07:04:27.244Z"
   },
   {
    "duration": 3,
    "start_time": "2024-05-29T07:04:27.439Z"
   },
   {
    "duration": 6,
    "start_time": "2024-05-29T07:04:27.768Z"
   },
   {
    "duration": 5,
    "start_time": "2024-05-29T07:04:28.089Z"
   },
   {
    "duration": 68,
    "start_time": "2024-05-29T07:04:28.293Z"
   },
   {
    "duration": 19,
    "start_time": "2024-05-29T07:04:28.872Z"
   },
   {
    "duration": 7,
    "start_time": "2024-05-29T07:04:29.147Z"
   },
   {
    "duration": 5,
    "start_time": "2024-05-29T07:04:29.358Z"
   },
   {
    "duration": 95,
    "start_time": "2024-05-29T07:04:29.865Z"
   },
   {
    "duration": 8,
    "start_time": "2024-05-29T07:04:31.239Z"
   },
   {
    "duration": 5,
    "start_time": "2024-05-29T07:04:31.455Z"
   },
   {
    "duration": 114,
    "start_time": "2024-05-29T07:04:32.197Z"
   },
   {
    "duration": 7,
    "start_time": "2024-05-29T07:04:32.390Z"
   },
   {
    "duration": 8,
    "start_time": "2024-05-29T07:04:33.341Z"
   },
   {
    "duration": 130,
    "start_time": "2024-05-29T07:15:13.300Z"
   },
   {
    "duration": 189,
    "start_time": "2024-05-29T07:15:21.915Z"
   },
   {
    "duration": 112,
    "start_time": "2024-05-29T07:22:53.093Z"
   },
   {
    "duration": 939,
    "start_time": "2024-05-29T07:24:45.169Z"
   },
   {
    "duration": 1023,
    "start_time": "2024-05-29T07:25:56.393Z"
   },
   {
    "duration": 324,
    "start_time": "2024-05-29T07:27:48.273Z"
   },
   {
    "duration": 330,
    "start_time": "2024-05-29T07:28:13.354Z"
   },
   {
    "duration": 354,
    "start_time": "2024-05-29T07:28:51.976Z"
   },
   {
    "duration": 53,
    "start_time": "2024-05-29T07:29:16.779Z"
   },
   {
    "duration": 207,
    "start_time": "2024-05-29T07:29:27.793Z"
   },
   {
    "duration": 274,
    "start_time": "2024-05-29T07:29:36.122Z"
   },
   {
    "duration": 1097,
    "start_time": "2024-05-29T07:31:04.203Z"
   },
   {
    "duration": 367,
    "start_time": "2024-05-29T07:31:10.295Z"
   },
   {
    "duration": 619,
    "start_time": "2024-05-29T07:31:51.615Z"
   },
   {
    "duration": 376,
    "start_time": "2024-05-29T07:32:31.055Z"
   },
   {
    "duration": 351,
    "start_time": "2024-05-29T07:34:58.022Z"
   },
   {
    "duration": 565,
    "start_time": "2024-05-29T07:35:51.110Z"
   },
   {
    "duration": 468,
    "start_time": "2024-05-29T07:36:45.071Z"
   },
   {
    "duration": 546,
    "start_time": "2024-05-29T07:37:21.913Z"
   },
   {
    "duration": 454,
    "start_time": "2024-05-29T07:41:29.456Z"
   },
   {
    "duration": 557,
    "start_time": "2024-05-29T07:45:31.101Z"
   },
   {
    "duration": 494,
    "start_time": "2024-05-29T07:50:25.870Z"
   },
   {
    "duration": 229,
    "start_time": "2024-05-29T07:51:03.185Z"
   },
   {
    "duration": 235,
    "start_time": "2024-05-29T07:52:20.571Z"
   },
   {
    "duration": 550,
    "start_time": "2024-05-29T07:53:06.716Z"
   },
   {
    "duration": 434,
    "start_time": "2024-05-29T07:53:28.219Z"
   },
   {
    "duration": 533,
    "start_time": "2024-05-29T07:53:41.729Z"
   },
   {
    "duration": 466,
    "start_time": "2024-05-29T07:53:59.513Z"
   },
   {
    "duration": 544,
    "start_time": "2024-05-29T07:54:13.670Z"
   },
   {
    "duration": 54,
    "start_time": "2024-05-29T08:00:54.334Z"
   },
   {
    "duration": 1246,
    "start_time": "2024-05-29T08:17:08.413Z"
   },
   {
    "duration": 335,
    "start_time": "2024-05-29T08:19:07.555Z"
   },
   {
    "duration": 55,
    "start_time": "2024-05-29T08:45:02.128Z"
   },
   {
    "duration": 62,
    "start_time": "2024-05-29T08:46:17.181Z"
   },
   {
    "duration": 692,
    "start_time": "2024-05-29T08:46:57.277Z"
   },
   {
    "duration": 648,
    "start_time": "2024-05-29T08:48:57.138Z"
   },
   {
    "duration": 45,
    "start_time": "2024-05-29T08:49:45.782Z"
   },
   {
    "duration": 1307,
    "start_time": "2024-05-29T08:50:04.038Z"
   },
   {
    "duration": 1083,
    "start_time": "2024-05-29T08:50:05.347Z"
   },
   {
    "duration": 16,
    "start_time": "2024-05-29T08:50:06.431Z"
   },
   {
    "duration": 34,
    "start_time": "2024-05-29T08:50:06.448Z"
   },
   {
    "duration": 10,
    "start_time": "2024-05-29T08:50:06.484Z"
   },
   {
    "duration": 16,
    "start_time": "2024-05-29T08:50:06.495Z"
   },
   {
    "duration": 14,
    "start_time": "2024-05-29T08:50:06.659Z"
   },
   {
    "duration": 15,
    "start_time": "2024-05-29T08:50:06.900Z"
   },
   {
    "duration": 8,
    "start_time": "2024-05-29T08:50:07.404Z"
   },
   {
    "duration": 3,
    "start_time": "2024-05-29T08:50:07.622Z"
   },
   {
    "duration": 3,
    "start_time": "2024-05-29T08:50:07.834Z"
   },
   {
    "duration": 3,
    "start_time": "2024-05-29T08:50:08.046Z"
   },
   {
    "duration": 7,
    "start_time": "2024-05-29T08:50:08.262Z"
   },
   {
    "duration": 6,
    "start_time": "2024-05-29T08:50:08.868Z"
   },
   {
    "duration": 69,
    "start_time": "2024-05-29T08:50:09.079Z"
   },
   {
    "duration": 18,
    "start_time": "2024-05-29T08:50:09.297Z"
   },
   {
    "duration": 6,
    "start_time": "2024-05-29T08:50:09.514Z"
   },
   {
    "duration": 6,
    "start_time": "2024-05-29T08:50:09.739Z"
   },
   {
    "duration": 98,
    "start_time": "2024-05-29T08:50:10.135Z"
   },
   {
    "duration": 6,
    "start_time": "2024-05-29T08:50:10.261Z"
   },
   {
    "duration": 4,
    "start_time": "2024-05-29T08:50:10.522Z"
   },
   {
    "duration": 110,
    "start_time": "2024-05-29T08:50:10.759Z"
   },
   {
    "duration": 6,
    "start_time": "2024-05-29T08:50:10.959Z"
   },
   {
    "duration": 11,
    "start_time": "2024-05-29T08:50:11.190Z"
   },
   {
    "duration": 476,
    "start_time": "2024-05-29T08:50:11.822Z"
   },
   {
    "duration": 512,
    "start_time": "2024-05-29T08:50:12.301Z"
   },
   {
    "duration": 474,
    "start_time": "2024-05-29T08:50:12.815Z"
   },
   {
    "duration": 532,
    "start_time": "2024-05-29T08:50:13.292Z"
   },
   {
    "duration": 351,
    "start_time": "2024-05-29T08:50:13.825Z"
   },
   {
    "duration": 706,
    "start_time": "2024-05-29T08:50:14.252Z"
   },
   {
    "duration": 51,
    "start_time": "2024-05-29T08:52:05.398Z"
   },
   {
    "duration": 1216,
    "start_time": "2024-05-29T08:53:37.789Z"
   },
   {
    "duration": 1078,
    "start_time": "2024-05-29T08:53:39.006Z"
   },
   {
    "duration": 16,
    "start_time": "2024-05-29T08:53:40.085Z"
   },
   {
    "duration": 19,
    "start_time": "2024-05-29T08:53:40.103Z"
   },
   {
    "duration": 17,
    "start_time": "2024-05-29T08:53:40.124Z"
   },
   {
    "duration": 63,
    "start_time": "2024-05-29T08:53:40.142Z"
   },
   {
    "duration": 32,
    "start_time": "2024-05-29T08:53:40.207Z"
   },
   {
    "duration": 15,
    "start_time": "2024-05-29T08:53:40.241Z"
   },
   {
    "duration": 9,
    "start_time": "2024-05-29T08:53:40.524Z"
   },
   {
    "duration": 3,
    "start_time": "2024-05-29T08:53:40.769Z"
   },
   {
    "duration": 4,
    "start_time": "2024-05-29T08:53:40.995Z"
   },
   {
    "duration": 3,
    "start_time": "2024-05-29T08:53:41.219Z"
   },
   {
    "duration": 6,
    "start_time": "2024-05-29T08:53:41.441Z"
   },
   {
    "duration": 5,
    "start_time": "2024-05-29T08:53:42.009Z"
   },
   {
    "duration": 71,
    "start_time": "2024-05-29T08:53:42.231Z"
   },
   {
    "duration": 18,
    "start_time": "2024-05-29T08:53:42.453Z"
   },
   {
    "duration": 6,
    "start_time": "2024-05-29T08:53:42.675Z"
   },
   {
    "duration": 6,
    "start_time": "2024-05-29T08:53:42.917Z"
   },
   {
    "duration": 103,
    "start_time": "2024-05-29T08:53:43.313Z"
   },
   {
    "duration": 8,
    "start_time": "2024-05-29T08:53:43.492Z"
   },
   {
    "duration": 5,
    "start_time": "2024-05-29T08:53:43.768Z"
   },
   {
    "duration": 113,
    "start_time": "2024-05-29T08:53:44.015Z"
   },
   {
    "duration": 7,
    "start_time": "2024-05-29T08:53:44.243Z"
   },
   {
    "duration": 8,
    "start_time": "2024-05-29T08:53:46.885Z"
   },
   {
    "duration": 533,
    "start_time": "2024-05-29T08:53:47.649Z"
   },
   {
    "duration": 517,
    "start_time": "2024-05-29T08:53:48.714Z"
   },
   {
    "duration": 479,
    "start_time": "2024-05-29T08:53:50.034Z"
   },
   {
    "duration": 565,
    "start_time": "2024-05-29T08:53:50.764Z"
   },
   {
    "duration": 344,
    "start_time": "2024-05-29T08:53:52.755Z"
   },
   {
    "duration": 705,
    "start_time": "2024-05-29T08:53:54.338Z"
   },
   {
    "duration": 627,
    "start_time": "2024-05-29T08:54:21.108Z"
   },
   {
    "duration": 1219,
    "start_time": "2024-05-29T09:36:50.783Z"
   },
   {
    "duration": 664,
    "start_time": "2024-05-29T09:36:52.003Z"
   },
   {
    "duration": 15,
    "start_time": "2024-05-29T09:36:52.669Z"
   },
   {
    "duration": 18,
    "start_time": "2024-05-29T09:36:53.663Z"
   },
   {
    "duration": 10,
    "start_time": "2024-05-29T09:36:53.930Z"
   },
   {
    "duration": 15,
    "start_time": "2024-05-29T09:36:54.065Z"
   },
   {
    "duration": 15,
    "start_time": "2024-05-29T09:36:54.287Z"
   },
   {
    "duration": 15,
    "start_time": "2024-05-29T09:36:54.856Z"
   },
   {
    "duration": 6,
    "start_time": "2024-05-29T09:36:56.494Z"
   },
   {
    "duration": 3,
    "start_time": "2024-05-29T09:36:56.833Z"
   },
   {
    "duration": 4,
    "start_time": "2024-05-29T09:36:57.450Z"
   },
   {
    "duration": 3,
    "start_time": "2024-05-29T09:36:58.216Z"
   },
   {
    "duration": 6,
    "start_time": "2024-05-29T09:36:58.533Z"
   },
   {
    "duration": 5,
    "start_time": "2024-05-29T09:38:23.765Z"
   },
   {
    "duration": 117,
    "start_time": "2024-05-29T09:38:25.470Z"
   },
   {
    "duration": 1178,
    "start_time": "2024-05-29T09:39:38.938Z"
   },
   {
    "duration": 662,
    "start_time": "2024-05-29T09:39:40.117Z"
   },
   {
    "duration": 15,
    "start_time": "2024-05-29T09:39:40.780Z"
   },
   {
    "duration": 18,
    "start_time": "2024-05-29T09:39:40.876Z"
   },
   {
    "duration": 10,
    "start_time": "2024-05-29T09:39:41.137Z"
   },
   {
    "duration": 15,
    "start_time": "2024-05-29T09:39:41.334Z"
   },
   {
    "duration": 16,
    "start_time": "2024-05-29T09:39:41.568Z"
   },
   {
    "duration": 15,
    "start_time": "2024-05-29T09:39:41.811Z"
   },
   {
    "duration": 6,
    "start_time": "2024-05-29T09:39:42.281Z"
   },
   {
    "duration": 3,
    "start_time": "2024-05-29T09:39:42.515Z"
   },
   {
    "duration": 6,
    "start_time": "2024-05-29T09:39:42.784Z"
   },
   {
    "duration": 4,
    "start_time": "2024-05-29T09:39:43.008Z"
   },
   {
    "duration": 7,
    "start_time": "2024-05-29T09:39:43.228Z"
   },
   {
    "duration": 5,
    "start_time": "2024-05-29T09:39:43.855Z"
   },
   {
    "duration": 69,
    "start_time": "2024-05-29T09:39:44.076Z"
   },
   {
    "duration": 21,
    "start_time": "2024-05-29T09:39:44.302Z"
   },
   {
    "duration": 7,
    "start_time": "2024-05-29T09:39:44.522Z"
   },
   {
    "duration": 7,
    "start_time": "2024-05-29T09:39:44.759Z"
   },
   {
    "duration": 103,
    "start_time": "2024-05-29T09:39:45.169Z"
   },
   {
    "duration": 6,
    "start_time": "2024-05-29T09:39:45.405Z"
   },
   {
    "duration": 5,
    "start_time": "2024-05-29T09:39:45.645Z"
   },
   {
    "duration": 120,
    "start_time": "2024-05-29T09:39:45.872Z"
   },
   {
    "duration": 6,
    "start_time": "2024-05-29T09:39:46.095Z"
   },
   {
    "duration": 7,
    "start_time": "2024-05-29T09:39:46.375Z"
   },
   {
    "duration": 1118,
    "start_time": "2024-05-29T09:39:47.185Z"
   },
   {
    "duration": 1185,
    "start_time": "2024-05-29T10:04:35.921Z"
   },
   {
    "duration": 638,
    "start_time": "2024-05-29T10:04:37.108Z"
   },
   {
    "duration": 16,
    "start_time": "2024-05-29T10:04:37.832Z"
   },
   {
    "duration": 18,
    "start_time": "2024-05-29T10:04:38.722Z"
   },
   {
    "duration": 11,
    "start_time": "2024-05-29T10:04:39.245Z"
   },
   {
    "duration": 19,
    "start_time": "2024-05-29T10:04:39.257Z"
   },
   {
    "duration": 17,
    "start_time": "2024-05-29T10:04:39.411Z"
   },
   {
    "duration": 22,
    "start_time": "2024-05-29T10:04:39.770Z"
   },
   {
    "duration": 7,
    "start_time": "2024-05-29T10:04:40.228Z"
   },
   {
    "duration": 3,
    "start_time": "2024-05-29T10:04:40.425Z"
   },
   {
    "duration": 4,
    "start_time": "2024-05-29T10:04:40.625Z"
   },
   {
    "duration": 3,
    "start_time": "2024-05-29T10:04:40.847Z"
   },
   {
    "duration": 6,
    "start_time": "2024-05-29T10:04:41.069Z"
   },
   {
    "duration": 5,
    "start_time": "2024-05-29T10:04:41.803Z"
   },
   {
    "duration": 70,
    "start_time": "2024-05-29T10:04:41.869Z"
   },
   {
    "duration": 19,
    "start_time": "2024-05-29T10:04:42.327Z"
   },
   {
    "duration": 7,
    "start_time": "2024-05-29T10:04:42.348Z"
   },
   {
    "duration": 7,
    "start_time": "2024-05-29T10:04:42.585Z"
   },
   {
    "duration": 98,
    "start_time": "2024-05-29T10:04:43.020Z"
   },
   {
    "duration": 8,
    "start_time": "2024-05-29T10:04:43.255Z"
   },
   {
    "duration": 5,
    "start_time": "2024-05-29T10:04:43.570Z"
   },
   {
    "duration": 115,
    "start_time": "2024-05-29T10:04:43.722Z"
   },
   {
    "duration": 9,
    "start_time": "2024-05-29T10:04:43.983Z"
   },
   {
    "duration": 8,
    "start_time": "2024-05-29T10:04:44.422Z"
   },
   {
    "duration": 2,
    "start_time": "2024-05-29T10:04:44.681Z"
   },
   {
    "duration": 457,
    "start_time": "2024-05-29T10:04:46.520Z"
   },
   {
    "duration": 498,
    "start_time": "2024-05-29T10:04:47.045Z"
   },
   {
    "duration": 458,
    "start_time": "2024-05-29T10:04:48.206Z"
   },
   {
    "duration": 529,
    "start_time": "2024-05-29T10:04:48.950Z"
   },
   {
    "duration": 324,
    "start_time": "2024-05-29T10:04:50.715Z"
   },
   {
    "duration": 704,
    "start_time": "2024-05-29T10:04:52.680Z"
   },
   {
    "duration": 57,
    "start_time": "2024-05-29T10:04:55.480Z"
   },
   {
    "duration": 1182,
    "start_time": "2024-05-29T10:46:06.636Z"
   },
   {
    "duration": 631,
    "start_time": "2024-05-29T10:46:07.819Z"
   },
   {
    "duration": 15,
    "start_time": "2024-05-29T10:46:08.452Z"
   },
   {
    "duration": 19,
    "start_time": "2024-05-29T10:46:08.728Z"
   },
   {
    "duration": 12,
    "start_time": "2024-05-29T10:46:09.846Z"
   },
   {
    "duration": 16,
    "start_time": "2024-05-29T10:46:10.611Z"
   },
   {
    "duration": 15,
    "start_time": "2024-05-29T10:46:11.333Z"
   },
   {
    "duration": 16,
    "start_time": "2024-05-29T10:46:11.883Z"
   },
   {
    "duration": 5,
    "start_time": "2024-05-29T10:46:13.403Z"
   },
   {
    "duration": 3,
    "start_time": "2024-05-29T10:46:13.979Z"
   },
   {
    "duration": 4,
    "start_time": "2024-05-29T10:46:14.595Z"
   },
   {
    "duration": 3,
    "start_time": "2024-05-29T10:46:15.213Z"
   },
   {
    "duration": 5,
    "start_time": "2024-05-29T10:46:15.814Z"
   },
   {
    "duration": 5,
    "start_time": "2024-05-29T10:46:18.998Z"
   },
   {
    "duration": 4,
    "start_time": "2024-05-29T10:46:21.728Z"
   },
   {
    "duration": 76,
    "start_time": "2024-05-29T10:46:26.787Z"
   },
   {
    "duration": 7,
    "start_time": "2024-05-29T10:49:24.714Z"
   },
   {
    "duration": 12,
    "start_time": "2024-05-29T10:49:42.973Z"
   },
   {
    "duration": 1212,
    "start_time": "2024-05-29T10:50:21.293Z"
   },
   {
    "duration": 649,
    "start_time": "2024-05-29T10:50:22.506Z"
   },
   {
    "duration": 16,
    "start_time": "2024-05-29T10:50:23.157Z"
   },
   {
    "duration": 21,
    "start_time": "2024-05-29T10:50:23.272Z"
   },
   {
    "duration": 14,
    "start_time": "2024-05-29T10:50:23.510Z"
   },
   {
    "duration": 16,
    "start_time": "2024-05-29T10:50:24.300Z"
   },
   {
    "duration": 21,
    "start_time": "2024-05-29T10:50:24.614Z"
   },
   {
    "duration": 24,
    "start_time": "2024-05-29T10:50:25.168Z"
   },
   {
    "duration": 9,
    "start_time": "2024-05-29T10:50:27.273Z"
   },
   {
    "duration": 4,
    "start_time": "2024-05-29T10:50:28.262Z"
   },
   {
    "duration": 5,
    "start_time": "2024-05-29T10:50:28.374Z"
   },
   {
    "duration": 3,
    "start_time": "2024-05-29T10:50:29.099Z"
   },
   {
    "duration": 6,
    "start_time": "2024-05-29T10:50:29.751Z"
   },
   {
    "duration": 6,
    "start_time": "2024-05-29T10:50:32.319Z"
   },
   {
    "duration": 6,
    "start_time": "2024-05-29T10:50:32.849Z"
   },
   {
    "duration": 77,
    "start_time": "2024-05-29T10:50:33.467Z"
   },
   {
    "duration": 20,
    "start_time": "2024-05-29T10:50:33.949Z"
   },
   {
    "duration": 7,
    "start_time": "2024-05-29T10:50:37.200Z"
   },
   {
    "duration": 7,
    "start_time": "2024-05-29T10:50:45.609Z"
   },
   {
    "duration": 123,
    "start_time": "2024-05-29T10:51:19.496Z"
   },
   {
    "duration": 6,
    "start_time": "2024-05-29T10:51:20.636Z"
   },
   {
    "duration": 5,
    "start_time": "2024-05-29T10:51:23.184Z"
   },
   {
    "duration": 150,
    "start_time": "2024-05-29T10:51:27.897Z"
   },
   {
    "duration": 6,
    "start_time": "2024-05-29T10:51:29.268Z"
   },
   {
    "duration": 12,
    "start_time": "2024-05-29T10:51:30.517Z"
   },
   {
    "duration": 1014,
    "start_time": "2024-05-29T10:51:47.790Z"
   },
   {
    "duration": 16,
    "start_time": "2024-05-29T10:52:16.230Z"
   },
   {
    "duration": 1246,
    "start_time": "2024-05-29T10:54:53.678Z"
   },
   {
    "duration": 679,
    "start_time": "2024-05-29T10:54:54.925Z"
   },
   {
    "duration": 16,
    "start_time": "2024-05-29T10:54:55.605Z"
   },
   {
    "duration": 63,
    "start_time": "2024-05-29T10:54:55.623Z"
   },
   {
    "duration": 126,
    "start_time": "2024-05-29T10:54:55.687Z"
   },
   {
    "duration": 30,
    "start_time": "2024-05-29T10:54:55.814Z"
   },
   {
    "duration": 188,
    "start_time": "2024-05-29T10:54:55.846Z"
   },
   {
    "duration": 15,
    "start_time": "2024-05-29T10:54:56.299Z"
   },
   {
    "duration": 9,
    "start_time": "2024-05-29T10:54:57.997Z"
   },
   {
    "duration": 2,
    "start_time": "2024-05-29T10:54:58.612Z"
   },
   {
    "duration": 4,
    "start_time": "2024-05-29T10:54:58.993Z"
   },
   {
    "duration": 3,
    "start_time": "2024-05-29T10:54:59.445Z"
   },
   {
    "duration": 7,
    "start_time": "2024-05-29T10:54:59.683Z"
   },
   {
    "duration": 5,
    "start_time": "2024-05-29T10:55:01.407Z"
   },
   {
    "duration": 8,
    "start_time": "2024-05-29T10:55:02.069Z"
   },
   {
    "duration": 93,
    "start_time": "2024-05-29T10:55:02.618Z"
   },
   {
    "duration": 23,
    "start_time": "2024-05-29T10:55:02.828Z"
   },
   {
    "duration": 8,
    "start_time": "2024-05-29T10:55:02.986Z"
   },
   {
    "duration": 6,
    "start_time": "2024-05-29T10:55:03.283Z"
   },
   {
    "duration": 109,
    "start_time": "2024-05-29T10:55:03.699Z"
   },
   {
    "duration": 7,
    "start_time": "2024-05-29T10:55:03.893Z"
   },
   {
    "duration": 5,
    "start_time": "2024-05-29T10:55:04.875Z"
   },
   {
    "duration": 154,
    "start_time": "2024-05-29T10:55:05.170Z"
   },
   {
    "duration": 9,
    "start_time": "2024-05-29T10:55:05.553Z"
   },
   {
    "duration": 10,
    "start_time": "2024-05-29T10:55:06.801Z"
   },
   {
    "duration": 12,
    "start_time": "2024-05-29T10:55:07.939Z"
   },
   {
    "duration": 95,
    "start_time": "2024-05-29T10:55:09.292Z"
   },
   {
    "duration": 10,
    "start_time": "2024-05-29T10:55:41.830Z"
   },
   {
    "duration": 18,
    "start_time": "2024-05-29T10:56:23.185Z"
   },
   {
    "duration": 15,
    "start_time": "2024-05-29T10:56:54.863Z"
   },
   {
    "duration": 6,
    "start_time": "2024-05-29T10:59:04.212Z"
   },
   {
    "duration": 4,
    "start_time": "2024-05-29T10:59:20.114Z"
   },
   {
    "duration": 6,
    "start_time": "2024-05-29T11:00:08.369Z"
   },
   {
    "duration": 4,
    "start_time": "2024-05-29T11:00:10.408Z"
   },
   {
    "duration": 1219,
    "start_time": "2024-05-29T11:11:00.112Z"
   },
   {
    "duration": 647,
    "start_time": "2024-05-29T11:11:01.333Z"
   },
   {
    "duration": 21,
    "start_time": "2024-05-29T11:11:01.981Z"
   },
   {
    "duration": 126,
    "start_time": "2024-05-29T11:11:02.003Z"
   },
   {
    "duration": 10,
    "start_time": "2024-05-29T11:11:02.896Z"
   },
   {
    "duration": 24,
    "start_time": "2024-05-29T11:11:03.847Z"
   },
   {
    "duration": 15,
    "start_time": "2024-05-29T11:11:04.441Z"
   },
   {
    "duration": 16,
    "start_time": "2024-05-29T11:11:04.744Z"
   },
   {
    "duration": 6,
    "start_time": "2024-05-29T11:11:05.487Z"
   },
   {
    "duration": 4,
    "start_time": "2024-05-29T11:11:06.714Z"
   },
   {
    "duration": 4,
    "start_time": "2024-05-29T11:11:07.273Z"
   },
   {
    "duration": 3,
    "start_time": "2024-05-29T11:11:07.711Z"
   },
   {
    "duration": 8,
    "start_time": "2024-05-29T11:11:08.012Z"
   },
   {
    "duration": 5,
    "start_time": "2024-05-29T11:11:09.871Z"
   },
   {
    "duration": 6,
    "start_time": "2024-05-29T11:11:10.566Z"
   },
   {
    "duration": 79,
    "start_time": "2024-05-29T11:11:10.846Z"
   },
   {
    "duration": 27,
    "start_time": "2024-05-29T11:11:11.149Z"
   },
   {
    "duration": 6,
    "start_time": "2024-05-29T11:11:11.466Z"
   },
   {
    "duration": 6,
    "start_time": "2024-05-29T11:11:12.096Z"
   },
   {
    "duration": 100,
    "start_time": "2024-05-29T11:11:13.024Z"
   },
   {
    "duration": 7,
    "start_time": "2024-05-29T11:11:13.255Z"
   },
   {
    "duration": 6,
    "start_time": "2024-05-29T11:11:13.481Z"
   },
   {
    "duration": 133,
    "start_time": "2024-05-29T11:11:14.315Z"
   },
   {
    "duration": 7,
    "start_time": "2024-05-29T11:11:14.865Z"
   },
   {
    "duration": 8,
    "start_time": "2024-05-29T11:11:15.187Z"
   },
   {
    "duration": 13,
    "start_time": "2024-05-29T11:11:16.218Z"
   },
   {
    "duration": 73,
    "start_time": "2024-05-29T11:11:17.267Z"
   },
   {
    "duration": 89,
    "start_time": "2024-05-29T11:11:22.444Z"
   },
   {
    "duration": 99,
    "start_time": "2024-05-29T11:11:45.424Z"
   },
   {
    "duration": 66,
    "start_time": "2024-05-29T11:11:58.972Z"
   },
   {
    "duration": 7,
    "start_time": "2024-05-29T11:12:06.809Z"
   },
   {
    "duration": 4,
    "start_time": "2024-05-29T11:12:07.627Z"
   },
   {
    "duration": 7,
    "start_time": "2024-05-29T11:12:29.860Z"
   },
   {
    "duration": 5,
    "start_time": "2024-05-29T11:12:31.147Z"
   },
   {
    "duration": 5,
    "start_time": "2024-05-29T11:12:56.562Z"
   },
   {
    "duration": 14,
    "start_time": "2024-05-29T11:18:52.267Z"
   },
   {
    "duration": 10,
    "start_time": "2024-05-29T11:21:55.153Z"
   },
   {
    "duration": 1250,
    "start_time": "2024-05-29T11:22:10.923Z"
   },
   {
    "duration": 669,
    "start_time": "2024-05-29T11:22:12.175Z"
   },
   {
    "duration": 16,
    "start_time": "2024-05-29T11:22:12.846Z"
   },
   {
    "duration": 23,
    "start_time": "2024-05-29T11:22:12.894Z"
   },
   {
    "duration": 12,
    "start_time": "2024-05-29T11:22:13.792Z"
   },
   {
    "duration": 17,
    "start_time": "2024-05-29T11:22:15.406Z"
   },
   {
    "duration": 15,
    "start_time": "2024-05-29T11:22:16.308Z"
   },
   {
    "duration": 17,
    "start_time": "2024-05-29T11:22:18.024Z"
   },
   {
    "duration": 7,
    "start_time": "2024-05-29T11:22:20.903Z"
   },
   {
    "duration": 4,
    "start_time": "2024-05-29T11:22:21.138Z"
   },
   {
    "duration": 6,
    "start_time": "2024-05-29T11:22:21.560Z"
   },
   {
    "duration": 4,
    "start_time": "2024-05-29T11:22:21.988Z"
   },
   {
    "duration": 7,
    "start_time": "2024-05-29T11:22:22.857Z"
   },
   {
    "duration": 6,
    "start_time": "2024-05-29T11:22:27.720Z"
   },
   {
    "duration": 9,
    "start_time": "2024-05-29T11:23:08.567Z"
   },
   {
    "duration": 11,
    "start_time": "2024-05-29T11:23:25.669Z"
   },
   {
    "duration": 12,
    "start_time": "2024-05-29T11:23:53.033Z"
   },
   {
    "duration": 1220,
    "start_time": "2024-05-29T11:26:55.687Z"
   },
   {
    "duration": 693,
    "start_time": "2024-05-29T11:26:57.501Z"
   },
   {
    "duration": 20,
    "start_time": "2024-05-29T11:26:58.196Z"
   },
   {
    "duration": 32,
    "start_time": "2024-05-29T11:26:58.217Z"
   },
   {
    "duration": 10,
    "start_time": "2024-05-29T11:26:58.251Z"
   },
   {
    "duration": 15,
    "start_time": "2024-05-29T11:26:58.432Z"
   },
   {
    "duration": 15,
    "start_time": "2024-05-29T11:26:58.708Z"
   },
   {
    "duration": 15,
    "start_time": "2024-05-29T11:26:58.968Z"
   },
   {
    "duration": 7,
    "start_time": "2024-05-29T11:26:59.456Z"
   },
   {
    "duration": 3,
    "start_time": "2024-05-29T11:26:59.688Z"
   },
   {
    "duration": 5,
    "start_time": "2024-05-29T11:26:59.970Z"
   },
   {
    "duration": 3,
    "start_time": "2024-05-29T11:27:01.980Z"
   },
   {
    "duration": 7,
    "start_time": "2024-05-29T11:27:02.143Z"
   },
   {
    "duration": 5,
    "start_time": "2024-05-29T11:27:03.330Z"
   },
   {
    "duration": 8,
    "start_time": "2024-05-29T11:27:05.198Z"
   },
   {
    "duration": 16,
    "start_time": "2024-05-29T11:27:07.834Z"
   },
   {
    "duration": 75,
    "start_time": "2024-05-29T11:27:18.886Z"
   },
   {
    "duration": 20,
    "start_time": "2024-05-29T11:27:20.060Z"
   },
   {
    "duration": 6,
    "start_time": "2024-05-29T11:27:22.849Z"
   },
   {
    "duration": 7,
    "start_time": "2024-05-29T11:27:24.176Z"
   },
   {
    "duration": 102,
    "start_time": "2024-05-29T11:27:26.432Z"
   },
   {
    "duration": 7,
    "start_time": "2024-05-29T11:27:27.376Z"
   },
   {
    "duration": 6,
    "start_time": "2024-05-29T11:27:28.291Z"
   },
   {
    "duration": 127,
    "start_time": "2024-05-29T11:27:28.909Z"
   },
   {
    "duration": 7,
    "start_time": "2024-05-29T11:27:29.590Z"
   },
   {
    "duration": 12,
    "start_time": "2024-05-29T11:27:30.375Z"
   },
   {
    "duration": 6,
    "start_time": "2024-05-29T11:27:31.242Z"
   },
   {
    "duration": 472,
    "start_time": "2024-05-29T11:27:51.396Z"
   },
   {
    "duration": 531,
    "start_time": "2024-05-29T11:27:54.854Z"
   },
   {
    "duration": 508,
    "start_time": "2024-05-29T11:27:57.011Z"
   },
   {
    "duration": 576,
    "start_time": "2024-05-29T11:27:59.314Z"
   },
   {
    "duration": 350,
    "start_time": "2024-05-29T11:28:02.534Z"
   },
   {
    "duration": 672,
    "start_time": "2024-05-29T11:28:05.208Z"
   },
   {
    "duration": 3,
    "start_time": "2024-05-29T12:09:01.830Z"
   },
   {
    "duration": 93,
    "start_time": "2024-05-29T12:11:39.416Z"
   },
   {
    "duration": 1238,
    "start_time": "2024-05-29T12:11:59.524Z"
   },
   {
    "duration": 653,
    "start_time": "2024-05-29T12:12:00.763Z"
   },
   {
    "duration": 16,
    "start_time": "2024-05-29T12:12:01.417Z"
   },
   {
    "duration": 40,
    "start_time": "2024-05-29T12:12:01.434Z"
   },
   {
    "duration": 96,
    "start_time": "2024-05-29T12:12:01.476Z"
   },
   {
    "duration": 100,
    "start_time": "2024-05-29T12:12:01.573Z"
   },
   {
    "duration": 49,
    "start_time": "2024-05-29T12:12:01.675Z"
   },
   {
    "duration": 65,
    "start_time": "2024-05-29T12:12:01.728Z"
   },
   {
    "duration": 97,
    "start_time": "2024-05-29T12:12:01.795Z"
   },
   {
    "duration": 4,
    "start_time": "2024-05-29T12:12:02.016Z"
   },
   {
    "duration": 5,
    "start_time": "2024-05-29T12:12:02.322Z"
   },
   {
    "duration": 2,
    "start_time": "2024-05-29T12:12:02.702Z"
   },
   {
    "duration": 6,
    "start_time": "2024-05-29T12:12:03.093Z"
   },
   {
    "duration": 8,
    "start_time": "2024-05-29T12:12:03.749Z"
   },
   {
    "duration": 8,
    "start_time": "2024-05-29T12:12:03.971Z"
   },
   {
    "duration": 85,
    "start_time": "2024-05-29T12:12:04.192Z"
   },
   {
    "duration": 21,
    "start_time": "2024-05-29T12:12:04.413Z"
   },
   {
    "duration": 9,
    "start_time": "2024-05-29T12:12:04.640Z"
   },
   {
    "duration": 7,
    "start_time": "2024-05-29T12:12:04.869Z"
   },
   {
    "duration": 102,
    "start_time": "2024-05-29T12:12:05.269Z"
   },
   {
    "duration": 7,
    "start_time": "2024-05-29T12:12:05.449Z"
   },
   {
    "duration": 6,
    "start_time": "2024-05-29T12:12:05.670Z"
   },
   {
    "duration": 132,
    "start_time": "2024-05-29T12:12:05.909Z"
   },
   {
    "duration": 8,
    "start_time": "2024-05-29T12:12:06.211Z"
   },
   {
    "duration": 9,
    "start_time": "2024-05-29T12:12:06.270Z"
   },
   {
    "duration": 2,
    "start_time": "2024-05-29T12:12:07.906Z"
   },
   {
    "duration": 540,
    "start_time": "2024-05-29T12:12:09.499Z"
   },
   {
    "duration": 513,
    "start_time": "2024-05-29T12:12:10.040Z"
   },
   {
    "duration": 478,
    "start_time": "2024-05-29T12:12:10.555Z"
   },
   {
    "duration": 545,
    "start_time": "2024-05-29T12:12:11.035Z"
   },
   {
    "duration": 359,
    "start_time": "2024-05-29T12:12:13.567Z"
   },
   {
    "duration": 650,
    "start_time": "2024-05-29T12:12:18.433Z"
   },
   {
    "duration": 5,
    "start_time": "2024-05-29T12:12:21.672Z"
   },
   {
    "duration": 96,
    "start_time": "2024-05-29T12:13:03.739Z"
   },
   {
    "duration": 4,
    "start_time": "2024-05-29T12:15:47.040Z"
   },
   {
    "duration": 368,
    "start_time": "2024-05-29T12:15:47.857Z"
   },
   {
    "duration": 371,
    "start_time": "2024-05-29T12:16:16.242Z"
   },
   {
    "duration": 13,
    "start_time": "2024-05-29T12:16:57.661Z"
   },
   {
    "duration": 1188,
    "start_time": "2024-05-29T12:39:01.349Z"
   },
   {
    "duration": 701,
    "start_time": "2024-05-29T12:39:02.538Z"
   },
   {
    "duration": 16,
    "start_time": "2024-05-29T12:39:03.240Z"
   },
   {
    "duration": 21,
    "start_time": "2024-05-29T12:39:03.628Z"
   },
   {
    "duration": 11,
    "start_time": "2024-05-29T12:39:03.768Z"
   },
   {
    "duration": 17,
    "start_time": "2024-05-29T12:39:04.152Z"
   },
   {
    "duration": 38,
    "start_time": "2024-05-29T12:39:04.171Z"
   },
   {
    "duration": 17,
    "start_time": "2024-05-29T12:39:04.429Z"
   },
   {
    "duration": 6,
    "start_time": "2024-05-29T12:39:05.658Z"
   },
   {
    "duration": 4,
    "start_time": "2024-05-29T12:39:05.903Z"
   },
   {
    "duration": 5,
    "start_time": "2024-05-29T12:39:06.183Z"
   },
   {
    "duration": 4,
    "start_time": "2024-05-29T12:39:06.341Z"
   },
   {
    "duration": 7,
    "start_time": "2024-05-29T12:39:06.706Z"
   },
   {
    "duration": 6,
    "start_time": "2024-05-29T12:39:07.230Z"
   },
   {
    "duration": 7,
    "start_time": "2024-05-29T12:39:07.436Z"
   },
   {
    "duration": 79,
    "start_time": "2024-05-29T12:39:07.754Z"
   },
   {
    "duration": 21,
    "start_time": "2024-05-29T12:39:07.853Z"
   },
   {
    "duration": 7,
    "start_time": "2024-05-29T12:39:08.086Z"
   },
   {
    "duration": 6,
    "start_time": "2024-05-29T12:39:08.280Z"
   },
   {
    "duration": 104,
    "start_time": "2024-05-29T12:39:08.683Z"
   },
   {
    "duration": 8,
    "start_time": "2024-05-29T12:39:09.000Z"
   },
   {
    "duration": 5,
    "start_time": "2024-05-29T12:39:09.160Z"
   },
   {
    "duration": 128,
    "start_time": "2024-05-29T12:39:09.399Z"
   },
   {
    "duration": 9,
    "start_time": "2024-05-29T12:39:09.639Z"
   },
   {
    "duration": 12,
    "start_time": "2024-05-29T12:39:09.866Z"
   },
   {
    "duration": 2,
    "start_time": "2024-05-29T12:39:10.068Z"
   },
   {
    "duration": 548,
    "start_time": "2024-05-29T12:39:10.624Z"
   },
   {
    "duration": 491,
    "start_time": "2024-05-29T12:39:11.173Z"
   },
   {
    "duration": 492,
    "start_time": "2024-05-29T12:39:11.665Z"
   },
   {
    "duration": 553,
    "start_time": "2024-05-29T12:39:12.158Z"
   },
   {
    "duration": 348,
    "start_time": "2024-05-29T12:39:12.713Z"
   },
   {
    "duration": 702,
    "start_time": "2024-05-29T12:39:13.063Z"
   },
   {
    "duration": 3,
    "start_time": "2024-05-29T12:39:13.767Z"
   },
   {
    "duration": 1256,
    "start_time": "2024-05-29T13:03:14.976Z"
   },
   {
    "duration": 651,
    "start_time": "2024-05-29T13:03:16.234Z"
   },
   {
    "duration": 20,
    "start_time": "2024-05-29T13:03:16.887Z"
   },
   {
    "duration": 19,
    "start_time": "2024-05-29T13:03:17.481Z"
   },
   {
    "duration": 12,
    "start_time": "2024-05-29T13:03:17.812Z"
   },
   {
    "duration": 16,
    "start_time": "2024-05-29T13:03:18.010Z"
   },
   {
    "duration": 16,
    "start_time": "2024-05-29T13:03:18.288Z"
   },
   {
    "duration": 16,
    "start_time": "2024-05-29T13:03:18.559Z"
   },
   {
    "duration": 7,
    "start_time": "2024-05-29T13:03:19.070Z"
   },
   {
    "duration": 4,
    "start_time": "2024-05-29T13:03:19.310Z"
   },
   {
    "duration": 5,
    "start_time": "2024-05-29T13:03:20.277Z"
   },
   {
    "duration": 3,
    "start_time": "2024-05-29T13:03:20.963Z"
   },
   {
    "duration": 6,
    "start_time": "2024-05-29T13:03:21.348Z"
   },
   {
    "duration": 6,
    "start_time": "2024-05-29T13:03:21.953Z"
   },
   {
    "duration": 8,
    "start_time": "2024-05-29T13:03:22.210Z"
   },
   {
    "duration": 85,
    "start_time": "2024-05-29T13:03:22.454Z"
   },
   {
    "duration": 21,
    "start_time": "2024-05-29T13:03:22.725Z"
   },
   {
    "duration": 7,
    "start_time": "2024-05-29T13:03:22.906Z"
   },
   {
    "duration": 8,
    "start_time": "2024-05-29T13:03:23.249Z"
   },
   {
    "duration": 104,
    "start_time": "2024-05-29T13:03:23.772Z"
   },
   {
    "duration": 6,
    "start_time": "2024-05-29T13:03:23.878Z"
   },
   {
    "duration": 5,
    "start_time": "2024-05-29T13:03:24.101Z"
   },
   {
    "duration": 125,
    "start_time": "2024-05-29T13:03:24.354Z"
   },
   {
    "duration": 9,
    "start_time": "2024-05-29T13:03:24.574Z"
   },
   {
    "duration": 9,
    "start_time": "2024-05-29T13:03:24.829Z"
   },
   {
    "duration": 2,
    "start_time": "2024-05-29T13:03:25.076Z"
   },
   {
    "duration": 561,
    "start_time": "2024-05-29T13:03:25.869Z"
   },
   {
    "duration": 510,
    "start_time": "2024-05-29T13:03:27.442Z"
   },
   {
    "duration": 468,
    "start_time": "2024-05-29T13:03:28.582Z"
   },
   {
    "duration": 602,
    "start_time": "2024-05-29T13:03:30.065Z"
   },
   {
    "duration": 356,
    "start_time": "2024-05-29T13:03:33.527Z"
   },
   {
    "duration": 703,
    "start_time": "2024-05-29T13:03:36.145Z"
   },
   {
    "duration": 4,
    "start_time": "2024-05-29T13:03:40.415Z"
   },
   {
    "duration": 18,
    "start_time": "2024-05-29T13:03:43.195Z"
   },
   {
    "duration": 29,
    "start_time": "2024-05-29T13:03:44.696Z"
   },
   {
    "duration": 23,
    "start_time": "2024-05-29T13:03:45.892Z"
   },
   {
    "duration": 101,
    "start_time": "2024-05-29T13:06:12.878Z"
   },
   {
    "duration": 1194,
    "start_time": "2024-05-29T13:07:35.231Z"
   },
   {
    "duration": 657,
    "start_time": "2024-05-29T13:07:36.427Z"
   },
   {
    "duration": 17,
    "start_time": "2024-05-29T13:07:37.086Z"
   },
   {
    "duration": 22,
    "start_time": "2024-05-29T13:07:37.111Z"
   },
   {
    "duration": 12,
    "start_time": "2024-05-29T13:07:37.134Z"
   },
   {
    "duration": 17,
    "start_time": "2024-05-29T13:07:37.148Z"
   },
   {
    "duration": 14,
    "start_time": "2024-05-29T13:07:37.167Z"
   },
   {
    "duration": 43,
    "start_time": "2024-05-29T13:07:37.182Z"
   },
   {
    "duration": 6,
    "start_time": "2024-05-29T13:07:37.339Z"
   },
   {
    "duration": 3,
    "start_time": "2024-05-29T13:07:37.595Z"
   },
   {
    "duration": 4,
    "start_time": "2024-05-29T13:07:37.852Z"
   },
   {
    "duration": 3,
    "start_time": "2024-05-29T13:07:38.074Z"
   },
   {
    "duration": 7,
    "start_time": "2024-05-29T13:07:38.296Z"
   },
   {
    "duration": 5,
    "start_time": "2024-05-29T13:07:38.878Z"
   },
   {
    "duration": 8,
    "start_time": "2024-05-29T13:07:39.107Z"
   },
   {
    "duration": 77,
    "start_time": "2024-05-29T13:07:39.327Z"
   },
   {
    "duration": 20,
    "start_time": "2024-05-29T13:07:39.551Z"
   },
   {
    "duration": 7,
    "start_time": "2024-05-29T13:07:39.777Z"
   },
   {
    "duration": 9,
    "start_time": "2024-05-29T13:07:40.008Z"
   },
   {
    "duration": 108,
    "start_time": "2024-05-29T13:07:40.411Z"
   },
   {
    "duration": 7,
    "start_time": "2024-05-29T13:07:40.697Z"
   },
   {
    "duration": 5,
    "start_time": "2024-05-29T13:07:40.932Z"
   },
   {
    "duration": 134,
    "start_time": "2024-05-29T13:07:41.156Z"
   },
   {
    "duration": 7,
    "start_time": "2024-05-29T13:07:41.441Z"
   },
   {
    "duration": 8,
    "start_time": "2024-05-29T13:07:41.677Z"
   },
   {
    "duration": 3,
    "start_time": "2024-05-29T13:07:41.902Z"
   },
   {
    "duration": 537,
    "start_time": "2024-05-29T13:07:42.476Z"
   },
   {
    "duration": 507,
    "start_time": "2024-05-29T13:07:43.015Z"
   },
   {
    "duration": 462,
    "start_time": "2024-05-29T13:07:43.523Z"
   },
   {
    "duration": 577,
    "start_time": "2024-05-29T13:07:43.986Z"
   },
   {
    "duration": 374,
    "start_time": "2024-05-29T13:07:44.565Z"
   },
   {
    "duration": 695,
    "start_time": "2024-05-29T13:07:44.941Z"
   },
   {
    "duration": 4,
    "start_time": "2024-05-29T13:07:45.652Z"
   },
   {
    "duration": 10,
    "start_time": "2024-05-29T13:07:46.057Z"
   },
   {
    "duration": 30,
    "start_time": "2024-05-29T13:07:46.288Z"
   },
   {
    "duration": 21,
    "start_time": "2024-05-29T13:07:46.512Z"
   },
   {
    "duration": 94,
    "start_time": "2024-05-29T13:07:46.818Z"
   },
   {
    "duration": 17,
    "start_time": "2024-05-29T13:07:50.697Z"
   },
   {
    "duration": 10,
    "start_time": "2024-05-29T13:07:51.913Z"
   },
   {
    "duration": 1259,
    "start_time": "2024-05-29T13:08:53.179Z"
   },
   {
    "duration": 689,
    "start_time": "2024-05-29T13:08:54.440Z"
   },
   {
    "duration": 14,
    "start_time": "2024-05-29T13:08:55.131Z"
   },
   {
    "duration": 40,
    "start_time": "2024-05-29T13:08:55.147Z"
   },
   {
    "duration": 65,
    "start_time": "2024-05-29T13:08:55.188Z"
   },
   {
    "duration": 42,
    "start_time": "2024-05-29T13:08:55.254Z"
   },
   {
    "duration": 67,
    "start_time": "2024-05-29T13:08:55.297Z"
   },
   {
    "duration": 14,
    "start_time": "2024-05-29T13:08:55.365Z"
   },
   {
    "duration": 15,
    "start_time": "2024-05-29T13:08:55.381Z"
   },
   {
    "duration": 4,
    "start_time": "2024-05-29T13:08:55.610Z"
   },
   {
    "duration": 4,
    "start_time": "2024-05-29T13:08:55.880Z"
   },
   {
    "duration": 4,
    "start_time": "2024-05-29T13:08:56.125Z"
   },
   {
    "duration": 6,
    "start_time": "2024-05-29T13:08:56.365Z"
   },
   {
    "duration": 4,
    "start_time": "2024-05-29T13:08:56.970Z"
   },
   {
    "duration": 8,
    "start_time": "2024-05-29T13:08:57.216Z"
   },
   {
    "duration": 85,
    "start_time": "2024-05-29T13:08:57.455Z"
   },
   {
    "duration": 23,
    "start_time": "2024-05-29T13:08:57.693Z"
   },
   {
    "duration": 7,
    "start_time": "2024-05-29T13:08:57.929Z"
   },
   {
    "duration": 6,
    "start_time": "2024-05-29T13:08:58.176Z"
   },
   {
    "duration": 102,
    "start_time": "2024-05-29T13:08:58.614Z"
   },
   {
    "duration": 6,
    "start_time": "2024-05-29T13:08:58.916Z"
   },
   {
    "duration": 6,
    "start_time": "2024-05-29T13:08:59.175Z"
   },
   {
    "duration": 131,
    "start_time": "2024-05-29T13:08:59.420Z"
   },
   {
    "duration": 8,
    "start_time": "2024-05-29T13:08:59.712Z"
   },
   {
    "duration": 9,
    "start_time": "2024-05-29T13:08:59.967Z"
   },
   {
    "duration": 4,
    "start_time": "2024-05-29T13:09:00.210Z"
   },
   {
    "duration": 551,
    "start_time": "2024-05-29T13:09:00.835Z"
   },
   {
    "duration": 507,
    "start_time": "2024-05-29T13:09:01.387Z"
   },
   {
    "duration": 486,
    "start_time": "2024-05-29T13:09:01.896Z"
   },
   {
    "duration": 571,
    "start_time": "2024-05-29T13:09:02.384Z"
   },
   {
    "duration": 366,
    "start_time": "2024-05-29T13:09:02.956Z"
   },
   {
    "duration": 700,
    "start_time": "2024-05-29T13:09:03.404Z"
   },
   {
    "duration": 4,
    "start_time": "2024-05-29T13:09:04.259Z"
   },
   {
    "duration": 11,
    "start_time": "2024-05-29T13:09:04.711Z"
   },
   {
    "duration": 28,
    "start_time": "2024-05-29T13:09:04.970Z"
   },
   {
    "duration": 24,
    "start_time": "2024-05-29T13:09:05.206Z"
   },
   {
    "duration": 375047,
    "start_time": "2024-05-29T13:09:09.295Z"
   },
   {
    "duration": 387649,
    "start_time": "2024-05-29T13:15:24.343Z"
   },
   {
    "duration": 43,
    "start_time": "2024-05-29T13:30:27.774Z"
   },
   {
    "duration": 1226,
    "start_time": "2024-05-29T13:31:16.794Z"
   },
   {
    "duration": 632,
    "start_time": "2024-05-29T13:31:18.021Z"
   },
   {
    "duration": 15,
    "start_time": "2024-05-29T13:31:18.654Z"
   },
   {
    "duration": 33,
    "start_time": "2024-05-29T13:31:18.671Z"
   },
   {
    "duration": 10,
    "start_time": "2024-05-29T13:31:18.705Z"
   },
   {
    "duration": 16,
    "start_time": "2024-05-29T13:31:18.717Z"
   },
   {
    "duration": 22,
    "start_time": "2024-05-29T13:31:18.734Z"
   },
   {
    "duration": 16,
    "start_time": "2024-05-29T13:31:18.757Z"
   },
   {
    "duration": 6,
    "start_time": "2024-05-29T13:31:18.855Z"
   },
   {
    "duration": 4,
    "start_time": "2024-05-29T13:31:19.160Z"
   },
   {
    "duration": 4,
    "start_time": "2024-05-29T13:31:21.258Z"
   },
   {
    "duration": 4,
    "start_time": "2024-05-29T13:31:21.464Z"
   },
   {
    "duration": 7,
    "start_time": "2024-05-29T13:31:21.786Z"
   },
   {
    "duration": 5,
    "start_time": "2024-05-29T13:31:22.918Z"
   },
   {
    "duration": 7,
    "start_time": "2024-05-29T13:31:24.542Z"
   },
   {
    "duration": 78,
    "start_time": "2024-05-29T13:31:26.077Z"
   },
   {
    "duration": 30,
    "start_time": "2024-05-29T13:31:26.263Z"
   },
   {
    "duration": 7,
    "start_time": "2024-05-29T13:31:26.500Z"
   },
   {
    "duration": 8,
    "start_time": "2024-05-29T13:31:26.640Z"
   },
   {
    "duration": 110,
    "start_time": "2024-05-29T13:31:27.090Z"
   },
   {
    "duration": 6,
    "start_time": "2024-05-29T13:31:27.285Z"
   },
   {
    "duration": 6,
    "start_time": "2024-05-29T13:31:27.650Z"
   },
   {
    "duration": 126,
    "start_time": "2024-05-29T13:31:27.916Z"
   },
   {
    "duration": 6,
    "start_time": "2024-05-29T13:31:28.899Z"
   },
   {
    "duration": 8,
    "start_time": "2024-05-29T13:31:29.144Z"
   },
   {
    "duration": 2,
    "start_time": "2024-05-29T13:31:29.315Z"
   },
   {
    "duration": 546,
    "start_time": "2024-05-29T13:31:29.919Z"
   },
   {
    "duration": 462,
    "start_time": "2024-05-29T13:31:30.466Z"
   },
   {
    "duration": 471,
    "start_time": "2024-05-29T13:31:30.929Z"
   },
   {
    "duration": 537,
    "start_time": "2024-05-29T13:31:31.564Z"
   },
   {
    "duration": 330,
    "start_time": "2024-05-29T13:31:33.204Z"
   },
   {
    "duration": 681,
    "start_time": "2024-05-29T13:31:40.436Z"
   },
   {
    "duration": 4,
    "start_time": "2024-05-29T13:31:41.184Z"
   },
   {
    "duration": 10,
    "start_time": "2024-05-29T13:31:41.705Z"
   },
   {
    "duration": 27,
    "start_time": "2024-05-29T13:31:41.864Z"
   },
   {
    "duration": 22,
    "start_time": "2024-05-29T13:31:42.098Z"
   },
   {
    "duration": 4060,
    "start_time": "2024-05-29T13:31:43.114Z"
   },
   {
    "duration": 93,
    "start_time": "2024-05-29T13:39:50.796Z"
   },
   {
    "duration": 1276,
    "start_time": "2024-05-29T13:40:38.598Z"
   },
   {
    "duration": 655,
    "start_time": "2024-05-29T13:40:39.876Z"
   },
   {
    "duration": 15,
    "start_time": "2024-05-29T13:40:40.532Z"
   },
   {
    "duration": 19,
    "start_time": "2024-05-29T13:40:40.548Z"
   },
   {
    "duration": 10,
    "start_time": "2024-05-29T13:40:40.568Z"
   },
   {
    "duration": 34,
    "start_time": "2024-05-29T13:40:40.579Z"
   },
   {
    "duration": 23,
    "start_time": "2024-05-29T13:40:40.614Z"
   },
   {
    "duration": 15,
    "start_time": "2024-05-29T13:40:40.638Z"
   },
   {
    "duration": 5,
    "start_time": "2024-05-29T13:40:40.964Z"
   },
   {
    "duration": 5,
    "start_time": "2024-05-29T13:40:41.248Z"
   },
   {
    "duration": 4,
    "start_time": "2024-05-29T13:40:41.527Z"
   },
   {
    "duration": 3,
    "start_time": "2024-05-29T13:40:41.749Z"
   },
   {
    "duration": 6,
    "start_time": "2024-05-29T13:40:41.975Z"
   },
   {
    "duration": 4,
    "start_time": "2024-05-29T13:40:42.588Z"
   },
   {
    "duration": 6,
    "start_time": "2024-05-29T13:40:42.798Z"
   },
   {
    "duration": 78,
    "start_time": "2024-05-29T13:40:43.015Z"
   },
   {
    "duration": 27,
    "start_time": "2024-05-29T13:40:43.236Z"
   },
   {
    "duration": 6,
    "start_time": "2024-05-29T13:40:43.454Z"
   },
   {
    "duration": 7,
    "start_time": "2024-05-29T13:40:43.689Z"
   },
   {
    "duration": 103,
    "start_time": "2024-05-29T13:40:44.084Z"
   },
   {
    "duration": 6,
    "start_time": "2024-05-29T13:40:44.341Z"
   },
   {
    "duration": 6,
    "start_time": "2024-05-29T13:40:44.604Z"
   },
   {
    "duration": 120,
    "start_time": "2024-05-29T13:40:44.826Z"
   },
   {
    "duration": 7,
    "start_time": "2024-05-29T13:40:45.119Z"
   },
   {
    "duration": 9,
    "start_time": "2024-05-29T13:40:45.348Z"
   },
   {
    "duration": 2,
    "start_time": "2024-05-29T13:40:45.574Z"
   },
   {
    "duration": 535,
    "start_time": "2024-05-29T13:40:46.386Z"
   },
   {
    "duration": 475,
    "start_time": "2024-05-29T13:40:46.922Z"
   },
   {
    "duration": 519,
    "start_time": "2024-05-29T13:40:47.401Z"
   },
   {
    "duration": 468,
    "start_time": "2024-05-29T13:40:47.922Z"
   },
   {
    "duration": 330,
    "start_time": "2024-05-29T13:40:48.391Z"
   },
   {
    "duration": 668,
    "start_time": "2024-05-29T13:40:48.776Z"
   },
   {
    "duration": 3,
    "start_time": "2024-05-29T13:40:49.570Z"
   },
   {
    "duration": 12,
    "start_time": "2024-05-29T13:40:50.022Z"
   },
   {
    "duration": 23,
    "start_time": "2024-05-29T13:40:50.253Z"
   },
   {
    "duration": 20,
    "start_time": "2024-05-29T13:40:50.483Z"
   },
   {
    "duration": 3971,
    "start_time": "2024-05-29T13:40:50.931Z"
   },
   {
    "duration": 1550,
    "start_time": "2024-05-30T07:31:08.773Z"
   },
   {
    "duration": 1066,
    "start_time": "2024-05-30T07:31:10.325Z"
   },
   {
    "duration": 17,
    "start_time": "2024-05-30T07:31:11.393Z"
   },
   {
    "duration": 80,
    "start_time": "2024-05-30T07:31:11.413Z"
   },
   {
    "duration": 13,
    "start_time": "2024-05-30T07:31:11.494Z"
   },
   {
    "duration": 24,
    "start_time": "2024-05-30T07:31:11.509Z"
   },
   {
    "duration": 17,
    "start_time": "2024-05-30T07:31:11.535Z"
   },
   {
    "duration": 17,
    "start_time": "2024-05-30T07:31:11.554Z"
   },
   {
    "duration": 7,
    "start_time": "2024-05-30T07:31:11.573Z"
   },
   {
    "duration": 3,
    "start_time": "2024-05-30T07:31:11.583Z"
   },
   {
    "duration": 28,
    "start_time": "2024-05-30T07:31:11.587Z"
   },
   {
    "duration": 3,
    "start_time": "2024-05-30T07:31:14.447Z"
   },
   {
    "duration": 8,
    "start_time": "2024-05-30T07:31:15.143Z"
   },
   {
    "duration": 4,
    "start_time": "2024-05-30T07:31:15.698Z"
   },
   {
    "duration": 7,
    "start_time": "2024-05-30T07:31:15.898Z"
   },
   {
    "duration": 88,
    "start_time": "2024-05-30T07:31:16.111Z"
   },
   {
    "duration": 21,
    "start_time": "2024-05-30T07:31:16.321Z"
   },
   {
    "duration": 7,
    "start_time": "2024-05-30T07:31:16.517Z"
   },
   {
    "duration": 7,
    "start_time": "2024-05-30T07:31:16.725Z"
   },
   {
    "duration": 119,
    "start_time": "2024-05-30T07:31:17.096Z"
   },
   {
    "duration": 7,
    "start_time": "2024-05-30T07:31:17.300Z"
   },
   {
    "duration": 6,
    "start_time": "2024-05-30T07:31:17.509Z"
   },
   {
    "duration": 139,
    "start_time": "2024-05-30T07:31:17.712Z"
   },
   {
    "duration": 7,
    "start_time": "2024-05-30T07:31:17.921Z"
   },
   {
    "duration": 9,
    "start_time": "2024-05-30T07:31:18.065Z"
   },
   {
    "duration": 2,
    "start_time": "2024-05-30T07:31:18.314Z"
   },
   {
    "duration": 585,
    "start_time": "2024-05-30T07:31:18.930Z"
   },
   {
    "duration": 521,
    "start_time": "2024-05-30T07:31:19.517Z"
   },
   {
    "duration": 653,
    "start_time": "2024-05-30T07:31:20.039Z"
   },
   {
    "duration": 527,
    "start_time": "2024-05-30T07:31:20.694Z"
   },
   {
    "duration": 378,
    "start_time": "2024-05-30T07:31:21.222Z"
   },
   {
    "duration": 766,
    "start_time": "2024-05-30T07:31:21.754Z"
   },
   {
    "duration": 4,
    "start_time": "2024-05-30T07:31:23.262Z"
   },
   {
    "duration": 13,
    "start_time": "2024-05-30T07:31:24.567Z"
   },
   {
    "duration": 24,
    "start_time": "2024-05-30T07:31:25.314Z"
   },
   {
    "duration": 21,
    "start_time": "2024-05-30T07:31:25.453Z"
   },
   {
    "duration": 4651,
    "start_time": "2024-05-30T07:31:26.487Z"
   },
   {
    "duration": 4668,
    "start_time": "2024-05-30T07:31:57.777Z"
   },
   {
    "duration": 4671,
    "start_time": "2024-05-30T07:32:11.778Z"
   },
   {
    "duration": 8187,
    "start_time": "2024-05-30T07:32:26.018Z"
   },
   {
    "duration": 4669,
    "start_time": "2024-05-30T07:32:41.751Z"
   },
   {
    "duration": 13317,
    "start_time": "2024-05-30T07:32:55.516Z"
   },
   {
    "duration": 34586,
    "start_time": "2024-05-30T07:33:23.380Z"
   },
   {
    "duration": 114,
    "start_time": "2024-05-30T07:38:34.555Z"
   },
   {
    "duration": 4664,
    "start_time": "2024-05-30T07:38:45.342Z"
   },
   {
    "duration": 4656,
    "start_time": "2024-05-30T07:41:58.530Z"
   },
   {
    "duration": 4781,
    "start_time": "2024-05-30T07:42:07.854Z"
   },
   {
    "duration": 1569,
    "start_time": "2024-05-30T07:44:37.790Z"
   },
   {
    "duration": 2529,
    "start_time": "2024-05-30T07:46:25.657Z"
   },
   {
    "duration": 3007,
    "start_time": "2024-05-30T07:48:25.984Z"
   },
   {
    "duration": 0,
    "start_time": "2024-05-30T07:48:28.993Z"
   },
   {
    "duration": 1587,
    "start_time": "2024-05-30T07:48:39.088Z"
   },
   {
    "duration": 1000,
    "start_time": "2024-05-30T07:48:42.474Z"
   },
   {
    "duration": 5,
    "start_time": "2024-05-30T07:50:29.781Z"
   },
   {
    "duration": 4,
    "start_time": "2024-05-30T07:50:40.186Z"
   },
   {
    "duration": 8,
    "start_time": "2024-05-30T07:50:42.538Z"
   },
   {
    "duration": 25,
    "start_time": "2024-05-30T07:50:42.548Z"
   },
   {
    "duration": 21,
    "start_time": "2024-05-30T07:50:43.458Z"
   },
   {
    "duration": 4660,
    "start_time": "2024-05-30T07:50:44.542Z"
   },
   {
    "duration": 4771,
    "start_time": "2024-05-30T07:50:49.203Z"
   },
   {
    "duration": 1559,
    "start_time": "2024-05-30T07:50:58.964Z"
   },
   {
    "duration": 949,
    "start_time": "2024-05-30T07:51:04.027Z"
   },
   {
    "duration": 3,
    "start_time": "2024-05-30T07:53:57.908Z"
   },
   {
    "duration": 4,
    "start_time": "2024-05-30T07:54:48.882Z"
   },
   {
    "duration": 4,
    "start_time": "2024-05-30T07:54:51.898Z"
   },
   {
    "duration": 3,
    "start_time": "2024-05-30T07:55:07.472Z"
   },
   {
    "duration": 3,
    "start_time": "2024-05-30T07:55:17.919Z"
   },
   {
    "duration": 3,
    "start_time": "2024-05-30T07:55:59.778Z"
   },
   {
    "duration": 4,
    "start_time": "2024-05-30T07:56:01.251Z"
   },
   {
    "duration": 3,
    "start_time": "2024-05-30T07:56:06.051Z"
   },
   {
    "duration": 3,
    "start_time": "2024-05-30T07:56:09.307Z"
   },
   {
    "duration": 4,
    "start_time": "2024-05-30T07:56:10.017Z"
   },
   {
    "duration": 3,
    "start_time": "2024-05-30T07:56:12.287Z"
   },
   {
    "duration": 2,
    "start_time": "2024-05-30T07:56:18.696Z"
   },
   {
    "duration": 4,
    "start_time": "2024-05-30T07:56:19.494Z"
   },
   {
    "duration": 3,
    "start_time": "2024-05-30T07:56:19.947Z"
   },
   {
    "duration": 3,
    "start_time": "2024-05-30T07:56:58.715Z"
   },
   {
    "duration": 3,
    "start_time": "2024-05-30T07:57:43.458Z"
   },
   {
    "duration": 8,
    "start_time": "2024-05-30T07:58:01.003Z"
   },
   {
    "duration": 6,
    "start_time": "2024-05-30T07:58:28.252Z"
   },
   {
    "duration": 5,
    "start_time": "2024-05-30T07:59:06.193Z"
   },
   {
    "duration": 7,
    "start_time": "2024-05-30T07:59:23.869Z"
   },
   {
    "duration": 3,
    "start_time": "2024-05-30T07:59:36.852Z"
   },
   {
    "duration": 3,
    "start_time": "2024-05-30T07:59:52.008Z"
   },
   {
    "duration": 3,
    "start_time": "2024-05-30T08:00:30.854Z"
   },
   {
    "duration": 1566,
    "start_time": "2024-05-30T08:06:23.835Z"
   },
   {
    "duration": 4,
    "start_time": "2024-05-30T08:06:26.695Z"
   },
   {
    "duration": 1039,
    "start_time": "2024-05-30T08:06:30.546Z"
   },
   {
    "duration": 1584,
    "start_time": "2024-05-30T08:07:06.443Z"
   },
   {
    "duration": 3,
    "start_time": "2024-05-30T08:07:08.811Z"
   },
   {
    "duration": 1068,
    "start_time": "2024-05-30T08:07:09.981Z"
   },
   {
    "duration": 1569,
    "start_time": "2024-05-30T08:07:41.377Z"
   },
   {
    "duration": 1573,
    "start_time": "2024-05-30T08:10:29.987Z"
   },
   {
    "duration": 3,
    "start_time": "2024-05-30T08:10:31.561Z"
   },
   {
    "duration": 905,
    "start_time": "2024-05-30T08:10:31.637Z"
   },
   {
    "duration": 73,
    "start_time": "2024-05-30T08:11:13.295Z"
   },
   {
    "duration": 1572,
    "start_time": "2024-05-30T08:11:19.040Z"
   },
   {
    "duration": 1578,
    "start_time": "2024-05-30T08:11:45.074Z"
   },
   {
    "duration": 3,
    "start_time": "2024-05-30T08:11:46.654Z"
   },
   {
    "duration": 284,
    "start_time": "2024-05-30T08:11:47.129Z"
   },
   {
    "duration": 5,
    "start_time": "2024-05-30T08:12:22.819Z"
   },
   {
    "duration": 4,
    "start_time": "2024-05-30T08:12:38.683Z"
   },
   {
    "duration": 282,
    "start_time": "2024-05-30T08:12:42.653Z"
   },
   {
    "duration": 4,
    "start_time": "2024-05-30T08:12:51.387Z"
   },
   {
    "duration": 4,
    "start_time": "2024-05-30T08:13:02.051Z"
   },
   {
    "duration": 1594,
    "start_time": "2024-05-30T08:13:42.723Z"
   },
   {
    "duration": 3,
    "start_time": "2024-05-30T08:13:44.319Z"
   },
   {
    "duration": 284,
    "start_time": "2024-05-30T08:13:45.577Z"
   },
   {
    "duration": 1573,
    "start_time": "2024-05-30T08:13:53.591Z"
   },
   {
    "duration": 4,
    "start_time": "2024-05-30T08:13:55.166Z"
   },
   {
    "duration": 296,
    "start_time": "2024-05-30T08:13:55.171Z"
   },
   {
    "duration": 4,
    "start_time": "2024-05-30T08:15:15.384Z"
   },
   {
    "duration": 9,
    "start_time": "2024-05-30T08:15:16.512Z"
   },
   {
    "duration": 24,
    "start_time": "2024-05-30T08:15:16.997Z"
   },
   {
    "duration": 22,
    "start_time": "2024-05-30T08:15:17.429Z"
   },
   {
    "duration": 4637,
    "start_time": "2024-05-30T08:15:18.029Z"
   },
   {
    "duration": 4745,
    "start_time": "2024-05-30T08:15:22.668Z"
   },
   {
    "duration": 1571,
    "start_time": "2024-05-30T08:15:27.414Z"
   },
   {
    "duration": 5,
    "start_time": "2024-05-30T08:15:28.987Z"
   },
   {
    "duration": 147,
    "start_time": "2024-05-30T08:15:34.593Z"
   },
   {
    "duration": 4,
    "start_time": "2024-05-30T08:15:46.410Z"
   },
   {
    "duration": 1312,
    "start_time": "2024-05-30T08:16:07.411Z"
   },
   {
    "duration": 690,
    "start_time": "2024-05-30T08:16:09.352Z"
   },
   {
    "duration": 16,
    "start_time": "2024-05-30T08:16:10.044Z"
   },
   {
    "duration": 28,
    "start_time": "2024-05-30T08:16:10.061Z"
   },
   {
    "duration": 10,
    "start_time": "2024-05-30T08:16:10.091Z"
   },
   {
    "duration": 18,
    "start_time": "2024-05-30T08:16:10.313Z"
   },
   {
    "duration": 17,
    "start_time": "2024-05-30T08:16:10.595Z"
   },
   {
    "duration": 17,
    "start_time": "2024-05-30T08:16:10.817Z"
   },
   {
    "duration": 7,
    "start_time": "2024-05-30T08:16:11.306Z"
   },
   {
    "duration": 4,
    "start_time": "2024-05-30T08:16:11.527Z"
   },
   {
    "duration": 4,
    "start_time": "2024-05-30T08:16:11.788Z"
   },
   {
    "duration": 4,
    "start_time": "2024-05-30T08:16:12.005Z"
   },
   {
    "duration": 6,
    "start_time": "2024-05-30T08:16:12.225Z"
   },
   {
    "duration": 6,
    "start_time": "2024-05-30T08:16:12.836Z"
   },
   {
    "duration": 7,
    "start_time": "2024-05-30T08:16:13.041Z"
   },
   {
    "duration": 90,
    "start_time": "2024-05-30T08:16:13.715Z"
   },
   {
    "duration": 23,
    "start_time": "2024-05-30T08:16:14.277Z"
   },
   {
    "duration": 7,
    "start_time": "2024-05-30T08:16:14.528Z"
   },
   {
    "duration": 6,
    "start_time": "2024-05-30T08:16:14.754Z"
   },
   {
    "duration": 116,
    "start_time": "2024-05-30T08:16:15.140Z"
   },
   {
    "duration": 8,
    "start_time": "2024-05-30T08:16:15.335Z"
   },
   {
    "duration": 7,
    "start_time": "2024-05-30T08:16:15.581Z"
   },
   {
    "duration": 137,
    "start_time": "2024-05-30T08:16:15.822Z"
   },
   {
    "duration": 8,
    "start_time": "2024-05-30T08:16:16.061Z"
   },
   {
    "duration": 10,
    "start_time": "2024-05-30T08:16:16.266Z"
   },
   {
    "duration": 2,
    "start_time": "2024-05-30T08:16:16.497Z"
   },
   {
    "duration": 577,
    "start_time": "2024-05-30T08:16:17.057Z"
   },
   {
    "duration": 527,
    "start_time": "2024-05-30T08:16:17.636Z"
   },
   {
    "duration": 577,
    "start_time": "2024-05-30T08:16:18.165Z"
   },
   {
    "duration": 528,
    "start_time": "2024-05-30T08:16:18.743Z"
   },
   {
    "duration": 367,
    "start_time": "2024-05-30T08:16:19.317Z"
   },
   {
    "duration": 740,
    "start_time": "2024-05-30T08:16:20.246Z"
   },
   {
    "duration": 3,
    "start_time": "2024-05-30T08:16:23.645Z"
   },
   {
    "duration": 12,
    "start_time": "2024-05-30T08:16:24.897Z"
   },
   {
    "duration": 23,
    "start_time": "2024-05-30T08:16:25.877Z"
   },
   {
    "duration": 22,
    "start_time": "2024-05-30T08:16:26.611Z"
   },
   {
    "duration": 4675,
    "start_time": "2024-05-30T08:16:27.485Z"
   },
   {
    "duration": 213,
    "start_time": "2024-05-30T08:16:32.162Z"
   },
   {
    "duration": 0,
    "start_time": "2024-05-30T08:16:32.376Z"
   },
   {
    "duration": 0,
    "start_time": "2024-05-30T08:16:32.377Z"
   },
   {
    "duration": 4867,
    "start_time": "2024-05-30T08:17:04.390Z"
   },
   {
    "duration": 1603,
    "start_time": "2024-05-30T08:17:11.028Z"
   },
   {
    "duration": 3,
    "start_time": "2024-05-30T08:17:18.344Z"
   },
   {
    "duration": 293,
    "start_time": "2024-05-30T08:17:20.432Z"
   },
   {
    "duration": 1581,
    "start_time": "2024-05-30T08:17:57.163Z"
   },
   {
    "duration": 4,
    "start_time": "2024-05-30T08:17:58.745Z"
   },
   {
    "duration": 304,
    "start_time": "2024-05-30T08:17:58.750Z"
   },
   {
    "duration": 1413,
    "start_time": "2024-05-30T08:18:12.509Z"
   },
   {
    "duration": 731,
    "start_time": "2024-05-30T08:18:13.924Z"
   },
   {
    "duration": 17,
    "start_time": "2024-05-30T08:18:14.657Z"
   },
   {
    "duration": 37,
    "start_time": "2024-05-30T08:18:14.676Z"
   },
   {
    "duration": 14,
    "start_time": "2024-05-30T08:18:14.714Z"
   },
   {
    "duration": 26,
    "start_time": "2024-05-30T08:18:14.730Z"
   },
   {
    "duration": 18,
    "start_time": "2024-05-30T08:18:14.758Z"
   },
   {
    "duration": 46,
    "start_time": "2024-05-30T08:18:14.778Z"
   },
   {
    "duration": 6,
    "start_time": "2024-05-30T08:18:14.826Z"
   },
   {
    "duration": 4,
    "start_time": "2024-05-30T08:18:14.836Z"
   },
   {
    "duration": 5,
    "start_time": "2024-05-30T08:18:14.902Z"
   },
   {
    "duration": 4,
    "start_time": "2024-05-30T08:18:15.125Z"
   },
   {
    "duration": 6,
    "start_time": "2024-05-30T08:18:15.331Z"
   },
   {
    "duration": 6,
    "start_time": "2024-05-30T08:18:15.870Z"
   },
   {
    "duration": 7,
    "start_time": "2024-05-30T08:18:16.085Z"
   },
   {
    "duration": 88,
    "start_time": "2024-05-30T08:18:16.302Z"
   },
   {
    "duration": 22,
    "start_time": "2024-05-30T08:18:16.514Z"
   },
   {
    "duration": 7,
    "start_time": "2024-05-30T08:18:16.729Z"
   },
   {
    "duration": 7,
    "start_time": "2024-05-30T08:18:16.952Z"
   },
   {
    "duration": 157,
    "start_time": "2024-05-30T08:18:17.334Z"
   },
   {
    "duration": 19,
    "start_time": "2024-05-30T08:18:17.493Z"
   },
   {
    "duration": 7,
    "start_time": "2024-05-30T08:18:17.721Z"
   },
   {
    "duration": 138,
    "start_time": "2024-05-30T08:18:17.953Z"
   },
   {
    "duration": 9,
    "start_time": "2024-05-30T08:18:18.114Z"
   },
   {
    "duration": 18,
    "start_time": "2024-05-30T08:18:18.377Z"
   },
   {
    "duration": 2,
    "start_time": "2024-05-30T08:18:18.635Z"
   },
   {
    "duration": 591,
    "start_time": "2024-05-30T08:18:19.223Z"
   },
   {
    "duration": 531,
    "start_time": "2024-05-30T08:18:19.816Z"
   },
   {
    "duration": 600,
    "start_time": "2024-05-30T08:18:20.348Z"
   },
   {
    "duration": 540,
    "start_time": "2024-05-30T08:18:20.950Z"
   },
   {
    "duration": 388,
    "start_time": "2024-05-30T08:18:21.492Z"
   },
   {
    "duration": 765,
    "start_time": "2024-05-30T08:18:21.881Z"
   },
   {
    "duration": 4,
    "start_time": "2024-05-30T08:18:23.336Z"
   },
   {
    "duration": 14,
    "start_time": "2024-05-30T08:18:25.146Z"
   },
   {
    "duration": 31,
    "start_time": "2024-05-30T08:18:26.141Z"
   },
   {
    "duration": 24,
    "start_time": "2024-05-30T08:18:27.130Z"
   },
   {
    "duration": 4693,
    "start_time": "2024-05-30T08:18:28.032Z"
   },
   {
    "duration": 4891,
    "start_time": "2024-05-30T08:18:32.727Z"
   },
   {
    "duration": 1632,
    "start_time": "2024-05-30T08:18:37.620Z"
   },
   {
    "duration": 3,
    "start_time": "2024-05-30T08:18:40.303Z"
   },
   {
    "duration": 294,
    "start_time": "2024-05-30T08:18:40.919Z"
   },
   {
    "duration": 3,
    "start_time": "2024-05-30T08:20:49.182Z"
   },
   {
    "duration": 4,
    "start_time": "2024-05-30T08:20:50.230Z"
   },
   {
    "duration": 2,
    "start_time": "2024-05-30T08:21:13.300Z"
   },
   {
    "duration": 3,
    "start_time": "2024-05-30T08:21:13.514Z"
   },
   {
    "duration": 111,
    "start_time": "2024-05-30T08:31:45.970Z"
   },
   {
    "duration": 5,
    "start_time": "2024-05-30T08:31:46.222Z"
   },
   {
    "duration": 3,
    "start_time": "2024-05-30T08:31:54.605Z"
   },
   {
    "duration": 1270,
    "start_time": "2024-05-30T08:32:09.646Z"
   },
   {
    "duration": 710,
    "start_time": "2024-05-30T08:32:10.918Z"
   },
   {
    "duration": 15,
    "start_time": "2024-05-30T08:32:11.630Z"
   },
   {
    "duration": 20,
    "start_time": "2024-05-30T08:32:11.647Z"
   },
   {
    "duration": 12,
    "start_time": "2024-05-30T08:32:11.878Z"
   },
   {
    "duration": 18,
    "start_time": "2024-05-30T08:32:12.121Z"
   },
   {
    "duration": 17,
    "start_time": "2024-05-30T08:32:12.384Z"
   },
   {
    "duration": 18,
    "start_time": "2024-05-30T08:32:12.991Z"
   },
   {
    "duration": 7,
    "start_time": "2024-05-30T08:32:13.663Z"
   },
   {
    "duration": 3,
    "start_time": "2024-05-30T08:32:13.957Z"
   },
   {
    "duration": 7,
    "start_time": "2024-05-30T08:32:14.296Z"
   },
   {
    "duration": 4,
    "start_time": "2024-05-30T08:32:14.502Z"
   },
   {
    "duration": 6,
    "start_time": "2024-05-30T08:32:14.758Z"
   },
   {
    "duration": 5,
    "start_time": "2024-05-30T08:32:15.409Z"
   },
   {
    "duration": 7,
    "start_time": "2024-05-30T08:32:15.662Z"
   },
   {
    "duration": 90,
    "start_time": "2024-05-30T08:32:15.874Z"
   },
   {
    "duration": 23,
    "start_time": "2024-05-30T08:32:16.091Z"
   },
   {
    "duration": 8,
    "start_time": "2024-05-30T08:32:16.307Z"
   },
   {
    "duration": 7,
    "start_time": "2024-05-30T08:32:16.541Z"
   },
   {
    "duration": 144,
    "start_time": "2024-05-30T08:32:16.930Z"
   },
   {
    "duration": 7,
    "start_time": "2024-05-30T08:32:17.162Z"
   },
   {
    "duration": 6,
    "start_time": "2024-05-30T08:32:17.370Z"
   },
   {
    "duration": 166,
    "start_time": "2024-05-30T08:32:17.651Z"
   },
   {
    "duration": 8,
    "start_time": "2024-05-30T08:32:17.899Z"
   },
   {
    "duration": 10,
    "start_time": "2024-05-30T08:32:18.122Z"
   },
   {
    "duration": 2,
    "start_time": "2024-05-30T08:32:18.343Z"
   },
   {
    "duration": 597,
    "start_time": "2024-05-30T08:32:19.502Z"
   },
   {
    "duration": 517,
    "start_time": "2024-05-30T08:32:20.101Z"
   },
   {
    "duration": 593,
    "start_time": "2024-05-30T08:32:20.620Z"
   },
   {
    "duration": 537,
    "start_time": "2024-05-30T08:32:21.215Z"
   },
   {
    "duration": 401,
    "start_time": "2024-05-30T08:32:21.754Z"
   },
   {
    "duration": 789,
    "start_time": "2024-05-30T08:32:22.157Z"
   },
   {
    "duration": 6,
    "start_time": "2024-05-30T08:32:22.948Z"
   },
   {
    "duration": 14,
    "start_time": "2024-05-30T08:32:23.446Z"
   },
   {
    "duration": 24,
    "start_time": "2024-05-30T08:32:23.673Z"
   },
   {
    "duration": 22,
    "start_time": "2024-05-30T08:32:23.900Z"
   },
   {
    "duration": 4702,
    "start_time": "2024-05-30T08:32:24.464Z"
   },
   {
    "duration": 4794,
    "start_time": "2024-05-30T08:32:29.169Z"
   },
   {
    "duration": 1585,
    "start_time": "2024-05-30T08:32:33.965Z"
   },
   {
    "duration": 4,
    "start_time": "2024-05-30T08:32:35.553Z"
   },
   {
    "duration": 342,
    "start_time": "2024-05-30T08:32:35.558Z"
   },
   {
    "duration": 1258,
    "start_time": "2024-05-30T08:42:53.263Z"
   },
   {
    "duration": 705,
    "start_time": "2024-05-30T08:42:54.522Z"
   },
   {
    "duration": 16,
    "start_time": "2024-05-30T08:42:55.229Z"
   },
   {
    "duration": 24,
    "start_time": "2024-05-30T08:42:56.059Z"
   },
   {
    "duration": 11,
    "start_time": "2024-05-30T08:42:56.344Z"
   },
   {
    "duration": 20,
    "start_time": "2024-05-30T08:42:56.460Z"
   },
   {
    "duration": 17,
    "start_time": "2024-05-30T08:42:56.687Z"
   },
   {
    "duration": 17,
    "start_time": "2024-05-30T08:42:57.063Z"
   },
   {
    "duration": 7,
    "start_time": "2024-05-30T08:42:57.438Z"
   },
   {
    "duration": 3,
    "start_time": "2024-05-30T08:42:57.647Z"
   },
   {
    "duration": 5,
    "start_time": "2024-05-30T08:42:57.916Z"
   },
   {
    "duration": 3,
    "start_time": "2024-05-30T08:42:58.113Z"
   },
   {
    "duration": 7,
    "start_time": "2024-05-30T08:42:58.256Z"
   },
   {
    "duration": 7,
    "start_time": "2024-05-30T08:42:58.966Z"
   },
   {
    "duration": 7,
    "start_time": "2024-05-30T08:42:59.056Z"
   },
   {
    "duration": 94,
    "start_time": "2024-05-30T08:42:59.259Z"
   },
   {
    "duration": 22,
    "start_time": "2024-05-30T08:42:59.489Z"
   },
   {
    "duration": 7,
    "start_time": "2024-05-30T08:42:59.667Z"
   },
   {
    "duration": 7,
    "start_time": "2024-05-30T08:42:59.874Z"
   },
   {
    "duration": 118,
    "start_time": "2024-05-30T08:43:00.253Z"
   },
   {
    "duration": 7,
    "start_time": "2024-05-30T08:43:00.537Z"
   },
   {
    "duration": 6,
    "start_time": "2024-05-30T08:43:00.733Z"
   },
   {
    "duration": 144,
    "start_time": "2024-05-30T08:43:00.931Z"
   },
   {
    "duration": 6,
    "start_time": "2024-05-30T08:43:01.077Z"
   },
   {
    "duration": 9,
    "start_time": "2024-05-30T08:43:01.314Z"
   },
   {
    "duration": 2,
    "start_time": "2024-05-30T08:43:01.586Z"
   },
   {
    "duration": 587,
    "start_time": "2024-05-30T08:43:02.110Z"
   },
   {
    "duration": 524,
    "start_time": "2024-05-30T08:43:02.699Z"
   },
   {
    "duration": 620,
    "start_time": "2024-05-30T08:43:03.225Z"
   },
   {
    "duration": 519,
    "start_time": "2024-05-30T08:43:03.847Z"
   },
   {
    "duration": 382,
    "start_time": "2024-05-30T08:43:04.368Z"
   },
   {
    "duration": 769,
    "start_time": "2024-05-30T08:43:04.752Z"
   },
   {
    "duration": 4,
    "start_time": "2024-05-30T08:43:05.523Z"
   },
   {
    "duration": 17,
    "start_time": "2024-05-30T08:43:05.528Z"
   },
   {
    "duration": 28,
    "start_time": "2024-05-30T08:43:05.591Z"
   },
   {
    "duration": 27,
    "start_time": "2024-05-30T08:43:05.789Z"
   },
   {
    "duration": 4639,
    "start_time": "2024-05-30T08:43:07.352Z"
   },
   {
    "duration": 4772,
    "start_time": "2024-05-30T08:43:11.994Z"
   },
   {
    "duration": 1586,
    "start_time": "2024-05-30T08:43:16.767Z"
   },
   {
    "duration": 3,
    "start_time": "2024-05-30T08:43:18.354Z"
   },
   {
    "duration": 295,
    "start_time": "2024-05-30T08:43:18.359Z"
   },
   {
    "duration": 3798,
    "start_time": "2024-05-30T08:48:36.605Z"
   },
   {
    "duration": 3918,
    "start_time": "2024-05-30T08:48:41.703Z"
   },
   {
    "duration": 3,
    "start_time": "2024-05-30T08:48:51.390Z"
   },
   {
    "duration": 291,
    "start_time": "2024-05-30T08:48:52.232Z"
   },
   {
    "duration": 1228,
    "start_time": "2024-05-30T08:54:45.106Z"
   },
   {
    "duration": 112,
    "start_time": "2024-05-30T08:55:47.290Z"
   },
   {
    "duration": 9,
    "start_time": "2024-05-30T08:56:15.873Z"
   },
   {
    "duration": 25,
    "start_time": "2024-05-30T08:56:17.005Z"
   },
   {
    "duration": 20,
    "start_time": "2024-05-30T08:56:17.571Z"
   },
   {
    "duration": 4655,
    "start_time": "2024-05-30T08:56:18.454Z"
   },
   {
    "duration": 4770,
    "start_time": "2024-05-30T08:56:23.113Z"
   },
   {
    "duration": 3937,
    "start_time": "2024-05-30T08:56:27.886Z"
   },
   {
    "duration": 3938,
    "start_time": "2024-05-30T08:56:31.825Z"
   },
   {
    "duration": 1179,
    "start_time": "2024-05-30T08:56:37.253Z"
   },
   {
    "duration": 1257,
    "start_time": "2024-05-30T08:56:38.840Z"
   },
   {
    "duration": 3,
    "start_time": "2024-05-30T08:57:06.188Z"
   },
   {
    "duration": 113,
    "start_time": "2024-05-30T08:57:06.519Z"
   },
   {
    "duration": 1338,
    "start_time": "2024-05-30T08:57:37.082Z"
   },
   {
    "duration": 701,
    "start_time": "2024-05-30T08:57:38.421Z"
   },
   {
    "duration": 16,
    "start_time": "2024-05-30T08:57:39.124Z"
   },
   {
    "duration": 20,
    "start_time": "2024-05-30T08:57:39.870Z"
   },
   {
    "duration": 13,
    "start_time": "2024-05-30T08:57:40.129Z"
   },
   {
    "duration": 17,
    "start_time": "2024-05-30T08:57:40.437Z"
   },
   {
    "duration": 18,
    "start_time": "2024-05-30T08:57:40.696Z"
   },
   {
    "duration": 18,
    "start_time": "2024-05-30T08:57:40.998Z"
   },
   {
    "duration": 7,
    "start_time": "2024-05-30T08:57:41.514Z"
   },
   {
    "duration": 3,
    "start_time": "2024-05-30T08:57:41.743Z"
   },
   {
    "duration": 5,
    "start_time": "2024-05-30T08:57:42.010Z"
   },
   {
    "duration": 4,
    "start_time": "2024-05-30T08:57:42.348Z"
   },
   {
    "duration": 7,
    "start_time": "2024-05-30T08:57:42.603Z"
   },
   {
    "duration": 8,
    "start_time": "2024-05-30T08:57:43.234Z"
   },
   {
    "duration": 7,
    "start_time": "2024-05-30T08:57:43.447Z"
   },
   {
    "duration": 89,
    "start_time": "2024-05-30T08:57:43.668Z"
   },
   {
    "duration": 23,
    "start_time": "2024-05-30T08:57:43.886Z"
   },
   {
    "duration": 8,
    "start_time": "2024-05-30T08:57:45.420Z"
   },
   {
    "duration": 6,
    "start_time": "2024-05-30T08:57:45.590Z"
   },
   {
    "duration": 115,
    "start_time": "2024-05-30T08:57:46.128Z"
   },
   {
    "duration": 7,
    "start_time": "2024-05-30T08:57:46.429Z"
   },
   {
    "duration": 6,
    "start_time": "2024-05-30T08:57:46.697Z"
   },
   {
    "duration": 139,
    "start_time": "2024-05-30T08:57:46.987Z"
   },
   {
    "duration": 7,
    "start_time": "2024-05-30T08:57:47.297Z"
   },
   {
    "duration": 11,
    "start_time": "2024-05-30T08:57:47.512Z"
   },
   {
    "duration": 2,
    "start_time": "2024-05-30T08:57:47.831Z"
   },
   {
    "duration": 592,
    "start_time": "2024-05-30T08:57:48.781Z"
   },
   {
    "duration": 526,
    "start_time": "2024-05-30T08:57:50.563Z"
   },
   {
    "duration": 584,
    "start_time": "2024-05-30T08:57:52.471Z"
   },
   {
    "duration": 550,
    "start_time": "2024-05-30T08:57:53.148Z"
   },
   {
    "duration": 376,
    "start_time": "2024-05-30T08:57:55.472Z"
   },
   {
    "duration": 745,
    "start_time": "2024-05-30T08:57:57.757Z"
   },
   {
    "duration": 4,
    "start_time": "2024-05-30T08:58:00.938Z"
   },
   {
    "duration": 14,
    "start_time": "2024-05-30T08:58:02.472Z"
   },
   {
    "duration": 28,
    "start_time": "2024-05-30T08:58:03.275Z"
   },
   {
    "duration": 22,
    "start_time": "2024-05-30T08:58:38.969Z"
   },
   {
    "duration": 4671,
    "start_time": "2024-05-30T08:58:40.416Z"
   },
   {
    "duration": 4785,
    "start_time": "2024-05-30T08:58:45.089Z"
   },
   {
    "duration": 3809,
    "start_time": "2024-05-30T08:58:51.550Z"
   },
   {
    "duration": 3916,
    "start_time": "2024-05-30T08:58:55.361Z"
   },
   {
    "duration": 1187,
    "start_time": "2024-05-30T08:59:04.111Z"
   },
   {
    "duration": 1232,
    "start_time": "2024-05-30T08:59:05.300Z"
   },
   {
    "duration": 4,
    "start_time": "2024-05-30T08:59:08.136Z"
   },
   {
    "duration": 219,
    "start_time": "2024-05-30T08:59:09.094Z"
   },
   {
    "duration": 3,
    "start_time": "2024-05-30T09:00:56.683Z"
   },
   {
    "duration": 97,
    "start_time": "2024-05-30T09:00:56.895Z"
   },
   {
    "duration": 8,
    "start_time": "2024-05-30T09:04:08.619Z"
   },
   {
    "duration": 3,
    "start_time": "2024-05-30T09:04:15.757Z"
   },
   {
    "duration": 100,
    "start_time": "2024-05-30T09:04:16.161Z"
   },
   {
    "duration": 13,
    "start_time": "2024-05-30T09:08:27.678Z"
   },
   {
    "duration": 3,
    "start_time": "2024-05-30T09:09:33.133Z"
   },
   {
    "duration": 7,
    "start_time": "2024-05-30T09:09:54.860Z"
   },
   {
    "duration": 7,
    "start_time": "2024-05-30T09:10:03.026Z"
   },
   {
    "duration": 7,
    "start_time": "2024-05-30T09:10:08.413Z"
   },
   {
    "duration": 13,
    "start_time": "2024-05-30T09:11:38.576Z"
   },
   {
    "duration": 1353,
    "start_time": "2024-05-30T09:12:07.804Z"
   },
   {
    "duration": 706,
    "start_time": "2024-05-30T09:12:09.159Z"
   },
   {
    "duration": 15,
    "start_time": "2024-05-30T09:12:09.867Z"
   },
   {
    "duration": 19,
    "start_time": "2024-05-30T09:12:10.175Z"
   },
   {
    "duration": 13,
    "start_time": "2024-05-30T09:12:10.689Z"
   },
   {
    "duration": 18,
    "start_time": "2024-05-30T09:12:10.999Z"
   },
   {
    "duration": 18,
    "start_time": "2024-05-30T09:12:11.203Z"
   },
   {
    "duration": 18,
    "start_time": "2024-05-30T09:12:11.414Z"
   },
   {
    "duration": 7,
    "start_time": "2024-05-30T09:12:11.922Z"
   },
   {
    "duration": 4,
    "start_time": "2024-05-30T09:12:12.150Z"
   },
   {
    "duration": 5,
    "start_time": "2024-05-30T09:12:12.471Z"
   },
   {
    "duration": 4,
    "start_time": "2024-05-30T09:12:12.712Z"
   },
   {
    "duration": 7,
    "start_time": "2024-05-30T09:12:12.945Z"
   },
   {
    "duration": 8,
    "start_time": "2024-05-30T09:12:13.590Z"
   },
   {
    "duration": 6,
    "start_time": "2024-05-30T09:12:13.816Z"
   },
   {
    "duration": 89,
    "start_time": "2024-05-30T09:12:14.039Z"
   },
   {
    "duration": 23,
    "start_time": "2024-05-30T09:12:14.269Z"
   },
   {
    "duration": 7,
    "start_time": "2024-05-30T09:12:14.495Z"
   },
   {
    "duration": 7,
    "start_time": "2024-05-30T09:12:14.730Z"
   },
   {
    "duration": 114,
    "start_time": "2024-05-30T09:12:15.492Z"
   },
   {
    "duration": 7,
    "start_time": "2024-05-30T09:12:15.744Z"
   },
   {
    "duration": 5,
    "start_time": "2024-05-30T09:12:16.117Z"
   },
   {
    "duration": 135,
    "start_time": "2024-05-30T09:12:16.692Z"
   },
   {
    "duration": 7,
    "start_time": "2024-05-30T09:12:16.947Z"
   },
   {
    "duration": 9,
    "start_time": "2024-05-30T09:12:17.161Z"
   },
   {
    "duration": 2,
    "start_time": "2024-05-30T09:12:17.336Z"
   },
   {
    "duration": 570,
    "start_time": "2024-05-30T09:12:19.164Z"
   },
   {
    "duration": 511,
    "start_time": "2024-05-30T09:12:19.735Z"
   },
   {
    "duration": 578,
    "start_time": "2024-05-30T09:12:20.248Z"
   },
   {
    "duration": 522,
    "start_time": "2024-05-30T09:12:22.002Z"
   },
   {
    "duration": 373,
    "start_time": "2024-05-30T09:12:23.697Z"
   },
   {
    "duration": 739,
    "start_time": "2024-05-30T09:12:25.836Z"
   },
   {
    "duration": 4,
    "start_time": "2024-05-30T09:12:30.403Z"
   },
   {
    "duration": 13,
    "start_time": "2024-05-30T09:12:31.823Z"
   },
   {
    "duration": 30,
    "start_time": "2024-05-30T09:12:32.530Z"
   },
   {
    "duration": 22,
    "start_time": "2024-05-30T09:12:33.334Z"
   },
   {
    "duration": 166,
    "start_time": "2024-05-30T09:12:34.747Z"
   },
   {
    "duration": 4741,
    "start_time": "2024-05-30T09:12:54.993Z"
   },
   {
    "duration": 4856,
    "start_time": "2024-05-30T09:12:59.736Z"
   },
   {
    "duration": 3829,
    "start_time": "2024-05-30T09:13:04.594Z"
   },
   {
    "duration": 3904,
    "start_time": "2024-05-30T09:13:08.424Z"
   },
   {
    "duration": 1184,
    "start_time": "2024-05-30T09:13:15.351Z"
   },
   {
    "duration": 1248,
    "start_time": "2024-05-30T09:13:16.537Z"
   },
   {
    "duration": 3,
    "start_time": "2024-05-30T09:13:20.067Z"
   },
   {
    "duration": 101,
    "start_time": "2024-05-30T09:13:22.421Z"
   },
   {
    "duration": 119,
    "start_time": "2024-05-30T09:14:44.194Z"
   },
   {
    "duration": 82,
    "start_time": "2024-05-30T09:16:25.035Z"
   },
   {
    "duration": 663,
    "start_time": "2024-05-30T09:17:12.358Z"
   },
   {
    "duration": 170,
    "start_time": "2024-05-30T09:17:42.345Z"
   },
   {
    "duration": 966,
    "start_time": "2024-05-30T09:17:48.446Z"
   },
   {
    "duration": 1045,
    "start_time": "2024-05-30T09:19:58.166Z"
   },
   {
    "duration": 879,
    "start_time": "2024-05-30T09:20:47.135Z"
   },
   {
    "duration": 3,
    "start_time": "2024-05-30T09:21:55.210Z"
   },
   {
    "duration": 102,
    "start_time": "2024-05-30T09:23:25.467Z"
   },
   {
    "duration": 63,
    "start_time": "2024-05-30T10:04:27.480Z"
   },
   {
    "duration": 58,
    "start_time": "2024-05-30T10:04:47.864Z"
   },
   {
    "duration": 1303,
    "start_time": "2024-05-30T10:12:19.009Z"
   },
   {
    "duration": 691,
    "start_time": "2024-05-30T10:12:20.313Z"
   },
   {
    "duration": 19,
    "start_time": "2024-05-30T10:12:21.006Z"
   },
   {
    "duration": 20,
    "start_time": "2024-05-30T10:12:21.718Z"
   },
   {
    "duration": 11,
    "start_time": "2024-05-30T10:12:21.952Z"
   },
   {
    "duration": 17,
    "start_time": "2024-05-30T10:12:22.134Z"
   },
   {
    "duration": 17,
    "start_time": "2024-05-30T10:12:22.456Z"
   },
   {
    "duration": 17,
    "start_time": "2024-05-30T10:12:22.599Z"
   },
   {
    "duration": 7,
    "start_time": "2024-05-30T10:12:23.148Z"
   },
   {
    "duration": 4,
    "start_time": "2024-05-30T10:12:23.429Z"
   },
   {
    "duration": 5,
    "start_time": "2024-05-30T10:12:23.669Z"
   },
   {
    "duration": 4,
    "start_time": "2024-05-30T10:12:23.900Z"
   },
   {
    "duration": 6,
    "start_time": "2024-05-30T10:12:24.136Z"
   },
   {
    "duration": 6,
    "start_time": "2024-05-30T10:12:24.980Z"
   },
   {
    "duration": 7,
    "start_time": "2024-05-30T10:12:25.215Z"
   },
   {
    "duration": 95,
    "start_time": "2024-05-30T10:12:25.446Z"
   },
   {
    "duration": 23,
    "start_time": "2024-05-30T10:12:25.684Z"
   },
   {
    "duration": 8,
    "start_time": "2024-05-30T10:12:26.116Z"
   },
   {
    "duration": 7,
    "start_time": "2024-05-30T10:12:26.356Z"
   },
   {
    "duration": 112,
    "start_time": "2024-05-30T10:12:26.789Z"
   },
   {
    "duration": 7,
    "start_time": "2024-05-30T10:12:27.083Z"
   },
   {
    "duration": 6,
    "start_time": "2024-05-30T10:12:27.333Z"
   },
   {
    "duration": 139,
    "start_time": "2024-05-30T10:12:27.570Z"
   },
   {
    "duration": 7,
    "start_time": "2024-05-30T10:12:27.860Z"
   },
   {
    "duration": 9,
    "start_time": "2024-05-30T10:12:28.110Z"
   },
   {
    "duration": 3,
    "start_time": "2024-05-30T10:12:28.348Z"
   },
   {
    "duration": 566,
    "start_time": "2024-05-30T10:12:29.131Z"
   },
   {
    "duration": 530,
    "start_time": "2024-05-30T10:12:29.699Z"
   },
   {
    "duration": 581,
    "start_time": "2024-05-30T10:12:30.231Z"
   },
   {
    "duration": 532,
    "start_time": "2024-05-30T10:12:30.813Z"
   },
   {
    "duration": 375,
    "start_time": "2024-05-30T10:12:31.361Z"
   },
   {
    "duration": 748,
    "start_time": "2024-05-30T10:12:34.392Z"
   },
   {
    "duration": 4,
    "start_time": "2024-05-30T10:12:38.441Z"
   },
   {
    "duration": 12,
    "start_time": "2024-05-30T10:12:40.891Z"
   },
   {
    "duration": 28,
    "start_time": "2024-05-30T10:12:41.506Z"
   },
   {
    "duration": 22,
    "start_time": "2024-05-30T10:12:42.223Z"
   },
   {
    "duration": 38,
    "start_time": "2024-05-30T10:12:44.380Z"
   },
   {
    "duration": 642,
    "start_time": "2024-05-30T10:12:45.572Z"
   },
   {
    "duration": 110,
    "start_time": "2024-05-30T10:12:46.505Z"
   },
   {
    "duration": 859,
    "start_time": "2024-05-30T10:12:47.553Z"
   },
   {
    "duration": 1175,
    "start_time": "2024-05-30T10:12:52.938Z"
   },
   {
    "duration": 732,
    "start_time": "2024-05-30T10:12:55.189Z"
   },
   {
    "duration": 97,
    "start_time": "2024-05-30T10:12:56.014Z"
   },
   {
    "duration": 100,
    "start_time": "2024-05-30T10:12:56.654Z"
   },
   {
    "duration": 4662,
    "start_time": "2024-05-30T10:12:58.887Z"
   },
   {
    "duration": 4765,
    "start_time": "2024-05-30T10:13:03.551Z"
   },
   {
    "duration": 3802,
    "start_time": "2024-05-30T10:13:08.318Z"
   },
   {
    "duration": 3918,
    "start_time": "2024-05-30T10:13:12.122Z"
   },
   {
    "duration": 1182,
    "start_time": "2024-05-30T10:13:17.271Z"
   },
   {
    "duration": 1221,
    "start_time": "2024-05-30T10:13:19.138Z"
   },
   {
    "duration": 4,
    "start_time": "2024-05-30T10:13:20.361Z"
   },
   {
    "duration": 98,
    "start_time": "2024-05-30T10:13:21.290Z"
   },
   {
    "duration": 4,
    "start_time": "2024-05-30T10:20:23.462Z"
   },
   {
    "duration": 4,
    "start_time": "2024-05-30T10:20:29.830Z"
   },
   {
    "duration": 487,
    "start_time": "2024-05-30T10:25:27.933Z"
   },
   {
    "duration": 492,
    "start_time": "2024-05-30T10:26:07.428Z"
   },
   {
    "duration": 1555,
    "start_time": "2024-05-30T12:59:55.183Z"
   },
   {
    "duration": 3330,
    "start_time": "2024-05-30T12:59:56.740Z"
   },
   {
    "duration": 17,
    "start_time": "2024-05-30T13:00:00.072Z"
   },
   {
    "duration": 48,
    "start_time": "2024-05-30T13:00:00.091Z"
   },
   {
    "duration": 41,
    "start_time": "2024-05-30T13:00:00.141Z"
   },
   {
    "duration": 56,
    "start_time": "2024-05-30T13:00:00.184Z"
   },
   {
    "duration": 79,
    "start_time": "2024-05-30T13:00:00.241Z"
   },
   {
    "duration": 63,
    "start_time": "2024-05-30T13:00:00.321Z"
   },
   {
    "duration": 49,
    "start_time": "2024-05-30T13:00:00.386Z"
   },
   {
    "duration": 130,
    "start_time": "2024-05-30T13:00:00.437Z"
   },
   {
    "duration": 94,
    "start_time": "2024-05-30T13:00:00.569Z"
   },
   {
    "duration": 38,
    "start_time": "2024-05-30T13:00:00.665Z"
   },
   {
    "duration": 47,
    "start_time": "2024-05-30T13:00:00.705Z"
   },
   {
    "duration": 7,
    "start_time": "2024-05-30T13:00:04.927Z"
   },
   {
    "duration": 7,
    "start_time": "2024-05-30T13:00:05.281Z"
   },
   {
    "duration": 90,
    "start_time": "2024-05-30T13:00:06.042Z"
   },
   {
    "duration": 23,
    "start_time": "2024-05-30T13:00:06.565Z"
   },
   {
    "duration": 12,
    "start_time": "2024-05-30T13:00:25.923Z"
   },
   {
    "duration": 10,
    "start_time": "2024-05-30T13:00:38.966Z"
   },
   {
    "duration": 116,
    "start_time": "2024-05-30T13:07:47.213Z"
   },
   {
    "duration": 1447,
    "start_time": "2024-05-30T13:08:09.707Z"
   },
   {
    "duration": 743,
    "start_time": "2024-05-30T13:08:11.247Z"
   },
   {
    "duration": 19,
    "start_time": "2024-05-30T13:08:11.992Z"
   },
   {
    "duration": 32,
    "start_time": "2024-05-30T13:08:12.107Z"
   },
   {
    "duration": 12,
    "start_time": "2024-05-30T13:08:13.890Z"
   },
   {
    "duration": 20,
    "start_time": "2024-05-30T13:08:14.341Z"
   },
   {
    "duration": 18,
    "start_time": "2024-05-30T13:08:15.320Z"
   },
   {
    "duration": 18,
    "start_time": "2024-05-30T13:08:15.808Z"
   },
   {
    "duration": 7,
    "start_time": "2024-05-30T13:08:17.036Z"
   },
   {
    "duration": 3,
    "start_time": "2024-05-30T13:08:17.939Z"
   },
   {
    "duration": 4,
    "start_time": "2024-05-30T13:08:19.212Z"
   },
   {
    "duration": 3,
    "start_time": "2024-05-30T13:08:19.539Z"
   },
   {
    "duration": 7,
    "start_time": "2024-05-30T13:08:20.271Z"
   },
   {
    "duration": 120,
    "start_time": "2024-05-30T13:08:24.450Z"
   },
   {
    "duration": 9,
    "start_time": "2024-05-30T13:16:37.444Z"
   },
   {
    "duration": 13,
    "start_time": "2024-05-30T13:16:46.787Z"
   },
   {
    "duration": 11,
    "start_time": "2024-05-30T13:16:56.690Z"
   },
   {
    "duration": 12,
    "start_time": "2024-05-30T13:17:09.345Z"
   },
   {
    "duration": 12,
    "start_time": "2024-05-30T13:17:39.464Z"
   },
   {
    "duration": 12,
    "start_time": "2024-05-30T13:17:43.524Z"
   },
   {
    "duration": 11,
    "start_time": "2024-05-30T13:17:54.754Z"
   },
   {
    "duration": 12,
    "start_time": "2024-05-30T13:18:13.591Z"
   },
   {
    "duration": 9,
    "start_time": "2024-05-30T13:18:32.894Z"
   },
   {
    "duration": 9,
    "start_time": "2024-05-30T13:20:24.230Z"
   },
   {
    "duration": 8,
    "start_time": "2024-05-30T13:20:35.247Z"
   },
   {
    "duration": 2,
    "start_time": "2024-05-30T13:23:34.611Z"
   },
   {
    "duration": 18,
    "start_time": "2024-05-30T13:25:32.360Z"
   },
   {
    "duration": 18,
    "start_time": "2024-05-30T13:26:04.250Z"
   },
   {
    "duration": 51,
    "start_time": "2024-05-30T13:27:17.101Z"
   },
   {
    "duration": 21,
    "start_time": "2024-05-30T13:27:22.036Z"
   },
   {
    "duration": 26,
    "start_time": "2024-05-30T13:27:33.103Z"
   },
   {
    "duration": 18,
    "start_time": "2024-05-30T13:33:47.600Z"
   },
   {
    "duration": 17,
    "start_time": "2024-05-30T13:34:03.993Z"
   },
   {
    "duration": 3,
    "start_time": "2024-05-30T13:34:27.519Z"
   },
   {
    "duration": 25,
    "start_time": "2024-05-30T13:34:42.065Z"
   },
   {
    "duration": 17,
    "start_time": "2024-05-30T13:35:10.632Z"
   },
   {
    "duration": 7,
    "start_time": "2024-05-30T13:37:06.814Z"
   },
   {
    "duration": 97,
    "start_time": "2024-05-30T13:37:18.502Z"
   },
   {
    "duration": 106,
    "start_time": "2024-05-30T13:37:30.190Z"
   },
   {
    "duration": 102,
    "start_time": "2024-05-30T13:39:31.720Z"
   },
   {
    "duration": 115,
    "start_time": "2024-05-30T13:40:34.434Z"
   },
   {
    "duration": 103,
    "start_time": "2024-05-30T13:41:11.890Z"
   },
   {
    "duration": 18,
    "start_time": "2024-05-30T14:01:09.158Z"
   },
   {
    "duration": 17,
    "start_time": "2024-05-30T14:03:28.166Z"
   },
   {
    "duration": 18,
    "start_time": "2024-05-30T14:03:46.878Z"
   },
   {
    "duration": 4,
    "start_time": "2024-05-30T14:05:09.082Z"
   },
   {
    "duration": 1235,
    "start_time": "2024-05-30T14:29:23.664Z"
   },
   {
    "duration": 647,
    "start_time": "2024-05-30T14:29:24.901Z"
   },
   {
    "duration": 14,
    "start_time": "2024-05-30T14:29:25.550Z"
   },
   {
    "duration": 17,
    "start_time": "2024-05-30T14:29:26.385Z"
   },
   {
    "duration": 10,
    "start_time": "2024-05-30T14:29:26.973Z"
   },
   {
    "duration": 15,
    "start_time": "2024-05-30T14:29:27.705Z"
   },
   {
    "duration": 15,
    "start_time": "2024-05-30T14:29:28.655Z"
   },
   {
    "duration": 15,
    "start_time": "2024-05-30T14:29:28.971Z"
   },
   {
    "duration": 6,
    "start_time": "2024-05-30T14:29:30.114Z"
   },
   {
    "duration": 4,
    "start_time": "2024-05-30T14:29:30.560Z"
   },
   {
    "duration": 4,
    "start_time": "2024-05-30T14:29:30.902Z"
   },
   {
    "duration": 3,
    "start_time": "2024-05-30T14:29:31.152Z"
   },
   {
    "duration": 6,
    "start_time": "2024-05-30T14:29:31.423Z"
   },
   {
    "duration": 3,
    "start_time": "2024-05-30T14:29:34.665Z"
   },
   {
    "duration": 7,
    "start_time": "2024-05-30T14:29:40.288Z"
   },
   {
    "duration": 6,
    "start_time": "2024-05-30T14:29:41.123Z"
   },
   {
    "duration": 10,
    "start_time": "2024-05-30T14:29:54.303Z"
   },
   {
    "duration": 14,
    "start_time": "2024-05-30T14:30:04.445Z"
   },
   {
    "duration": 94,
    "start_time": "2024-05-30T14:31:09.791Z"
   },
   {
    "duration": 7,
    "start_time": "2024-05-30T14:31:20.981Z"
   },
   {
    "duration": 12,
    "start_time": "2024-05-30T14:31:34.490Z"
   },
   {
    "duration": 16,
    "start_time": "2024-05-30T14:32:49.776Z"
   },
   {
    "duration": 6,
    "start_time": "2024-05-30T14:33:15.165Z"
   },
   {
    "duration": 10,
    "start_time": "2024-05-30T14:33:18.950Z"
   },
   {
    "duration": 1163,
    "start_time": "2024-05-30T15:00:32.417Z"
   },
   {
    "duration": 613,
    "start_time": "2024-05-30T15:00:33.581Z"
   },
   {
    "duration": 13,
    "start_time": "2024-05-30T15:00:34.372Z"
   },
   {
    "duration": 18,
    "start_time": "2024-05-30T15:00:35.076Z"
   },
   {
    "duration": 11,
    "start_time": "2024-05-30T15:00:35.591Z"
   },
   {
    "duration": 15,
    "start_time": "2024-05-30T15:00:35.887Z"
   },
   {
    "duration": 15,
    "start_time": "2024-05-30T15:00:36.272Z"
   },
   {
    "duration": 14,
    "start_time": "2024-05-30T15:00:36.623Z"
   },
   {
    "duration": 6,
    "start_time": "2024-05-30T15:00:37.296Z"
   },
   {
    "duration": 3,
    "start_time": "2024-05-30T15:00:37.685Z"
   },
   {
    "duration": 4,
    "start_time": "2024-05-30T15:00:37.971Z"
   },
   {
    "duration": 3,
    "start_time": "2024-05-30T15:00:38.210Z"
   },
   {
    "duration": 6,
    "start_time": "2024-05-30T15:00:38.450Z"
   },
   {
    "duration": 3,
    "start_time": "2024-05-30T15:00:39.842Z"
   },
   {
    "duration": 5,
    "start_time": "2024-05-30T15:00:43.525Z"
   },
   {
    "duration": 8,
    "start_time": "2024-05-30T15:00:44.523Z"
   },
   {
    "duration": 72,
    "start_time": "2024-05-30T15:00:45.403Z"
   },
   {
    "duration": 19,
    "start_time": "2024-05-30T15:00:46.937Z"
   },
   {
    "duration": 7,
    "start_time": "2024-05-30T15:00:48.235Z"
   },
   {
    "duration": 5,
    "start_time": "2024-05-30T15:00:48.824Z"
   },
   {
    "duration": 98,
    "start_time": "2024-05-30T15:00:50.139Z"
   },
   {
    "duration": 6,
    "start_time": "2024-05-30T15:00:51.220Z"
   },
   {
    "duration": 4,
    "start_time": "2024-05-30T15:00:58.697Z"
   },
   {
    "duration": 114,
    "start_time": "2024-05-30T15:00:59.542Z"
   },
   {
    "duration": 6,
    "start_time": "2024-05-30T15:01:11.411Z"
   },
   {
    "duration": 9,
    "start_time": "2024-05-30T15:01:14.338Z"
   },
   {
    "duration": 515,
    "start_time": "2024-05-30T15:01:18.277Z"
   },
   {
    "duration": 451,
    "start_time": "2024-05-30T15:01:19.955Z"
   },
   {
    "duration": 493,
    "start_time": "2024-05-30T15:01:24.655Z"
   },
   {
    "duration": 447,
    "start_time": "2024-05-30T15:01:28.001Z"
   },
   {
    "duration": 316,
    "start_time": "2024-05-30T15:01:31.920Z"
   },
   {
    "duration": 732,
    "start_time": "2024-05-30T15:01:37.027Z"
   },
   {
    "duration": 120,
    "start_time": "2024-05-30T15:03:55.695Z"
   },
   {
    "duration": 319,
    "start_time": "2024-05-30T15:04:28.376Z"
   },
   {
    "duration": 423,
    "start_time": "2024-05-30T15:04:49.872Z"
   },
   {
    "duration": 313,
    "start_time": "2024-05-30T15:06:35.428Z"
   },
   {
    "duration": 335,
    "start_time": "2024-05-30T15:06:50.677Z"
   },
   {
    "duration": 354,
    "start_time": "2024-05-30T15:07:32.270Z"
   },
   {
    "duration": 355,
    "start_time": "2024-05-30T15:08:22.930Z"
   },
   {
    "duration": 283,
    "start_time": "2024-05-30T15:11:35.775Z"
   },
   {
    "duration": 386,
    "start_time": "2024-05-30T15:11:53.548Z"
   },
   {
    "duration": 234,
    "start_time": "2024-05-30T15:12:09.279Z"
   },
   {
    "duration": 244,
    "start_time": "2024-05-30T15:12:26.566Z"
   },
   {
    "duration": 232,
    "start_time": "2024-05-30T15:12:37.643Z"
   },
   {
    "duration": 669,
    "start_time": "2024-05-30T15:12:57.795Z"
   },
   {
    "duration": 3,
    "start_time": "2024-05-30T15:49:55.823Z"
   },
   {
    "duration": 4,
    "start_time": "2024-05-30T15:50:13.082Z"
   },
   {
    "duration": 1137,
    "start_time": "2024-05-30T15:50:56.202Z"
   },
   {
    "duration": 639,
    "start_time": "2024-05-30T15:50:58.074Z"
   },
   {
    "duration": 14,
    "start_time": "2024-05-30T15:50:58.715Z"
   },
   {
    "duration": 22,
    "start_time": "2024-05-30T15:50:58.730Z"
   },
   {
    "duration": 9,
    "start_time": "2024-05-30T15:50:58.914Z"
   },
   {
    "duration": 15,
    "start_time": "2024-05-30T15:50:59.234Z"
   },
   {
    "duration": 15,
    "start_time": "2024-05-30T15:50:59.582Z"
   },
   {
    "duration": 16,
    "start_time": "2024-05-30T15:50:59.845Z"
   },
   {
    "duration": 6,
    "start_time": "2024-05-30T15:51:00.406Z"
   },
   {
    "duration": 3,
    "start_time": "2024-05-30T15:51:00.630Z"
   },
   {
    "duration": 4,
    "start_time": "2024-05-30T15:51:01.571Z"
   },
   {
    "duration": 3,
    "start_time": "2024-05-30T15:51:01.924Z"
   },
   {
    "duration": 6,
    "start_time": "2024-05-30T15:51:02.313Z"
   },
   {
    "duration": 2,
    "start_time": "2024-05-30T15:51:04.975Z"
   },
   {
    "duration": 4,
    "start_time": "2024-05-30T15:51:22.704Z"
   },
   {
    "duration": 4,
    "start_time": "2024-05-30T15:52:53.340Z"
   },
   {
    "duration": 5,
    "start_time": "2024-05-30T15:52:57.041Z"
   },
   {
    "duration": 5,
    "start_time": "2024-05-30T15:52:58.096Z"
   },
   {
    "duration": 66,
    "start_time": "2024-05-30T15:52:58.781Z"
   },
   {
    "duration": 18,
    "start_time": "2024-05-30T15:52:59.926Z"
   },
   {
    "duration": 96,
    "start_time": "2024-05-30T15:53:07.815Z"
   },
   {
    "duration": 3,
    "start_time": "2024-05-30T15:53:08.340Z"
   },
   {
    "duration": 1204,
    "start_time": "2024-05-30T15:53:26.248Z"
   },
   {
    "duration": 613,
    "start_time": "2024-05-30T15:53:27.453Z"
   },
   {
    "duration": 14,
    "start_time": "2024-05-30T15:53:28.068Z"
   },
   {
    "duration": 17,
    "start_time": "2024-05-30T15:53:28.184Z"
   },
   {
    "duration": 10,
    "start_time": "2024-05-30T15:53:29.242Z"
   },
   {
    "duration": 18,
    "start_time": "2024-05-30T15:53:30.130Z"
   },
   {
    "duration": 14,
    "start_time": "2024-05-30T15:53:30.744Z"
   },
   {
    "duration": 19,
    "start_time": "2024-05-30T15:53:31.575Z"
   },
   {
    "duration": 6,
    "start_time": "2024-05-30T15:53:32.670Z"
   },
   {
    "duration": 3,
    "start_time": "2024-05-30T15:53:33.259Z"
   },
   {
    "duration": 4,
    "start_time": "2024-05-30T15:53:34.028Z"
   },
   {
    "duration": 2,
    "start_time": "2024-05-30T15:53:34.606Z"
   },
   {
    "duration": 6,
    "start_time": "2024-05-30T15:53:34.992Z"
   },
   {
    "duration": 5,
    "start_time": "2024-05-30T15:53:37.194Z"
   },
   {
    "duration": 6,
    "start_time": "2024-05-30T15:53:40.794Z"
   },
   {
    "duration": 3,
    "start_time": "2024-05-30T15:53:41.531Z"
   },
   {
    "duration": 71,
    "start_time": "2024-05-30T15:53:44.241Z"
   },
   {
    "duration": 19,
    "start_time": "2024-05-30T15:53:44.432Z"
   },
   {
    "duration": 8,
    "start_time": "2024-05-30T15:54:15.947Z"
   },
   {
    "duration": 8,
    "start_time": "2024-05-30T15:54:27.714Z"
   },
   {
    "duration": 9,
    "start_time": "2024-05-30T15:54:34.996Z"
   },
   {
    "duration": 1132,
    "start_time": "2024-05-30T16:07:49.832Z"
   },
   {
    "duration": 637,
    "start_time": "2024-05-30T16:07:50.966Z"
   },
   {
    "duration": 14,
    "start_time": "2024-05-30T16:07:51.605Z"
   },
   {
    "duration": 18,
    "start_time": "2024-05-30T16:07:51.620Z"
   },
   {
    "duration": 11,
    "start_time": "2024-05-30T16:07:51.818Z"
   },
   {
    "duration": 17,
    "start_time": "2024-05-30T16:07:52.819Z"
   },
   {
    "duration": 16,
    "start_time": "2024-05-30T16:07:53.614Z"
   },
   {
    "duration": 21,
    "start_time": "2024-05-30T16:07:54.402Z"
   },
   {
    "duration": 8,
    "start_time": "2024-05-30T16:07:55.135Z"
   },
   {
    "duration": 3,
    "start_time": "2024-05-30T16:07:55.330Z"
   },
   {
    "duration": 4,
    "start_time": "2024-05-30T16:07:55.803Z"
   },
   {
    "duration": 3,
    "start_time": "2024-05-30T16:07:56.008Z"
   },
   {
    "duration": 6,
    "start_time": "2024-05-30T16:07:56.365Z"
   },
   {
    "duration": 4,
    "start_time": "2024-05-30T16:07:58.141Z"
   },
   {
    "duration": 6,
    "start_time": "2024-05-30T16:08:01.856Z"
   },
   {
    "duration": 4,
    "start_time": "2024-05-30T16:08:02.531Z"
   },
   {
    "duration": 66,
    "start_time": "2024-05-30T16:08:03.334Z"
   },
   {
    "duration": 20,
    "start_time": "2024-05-30T16:08:03.967Z"
   },
   {
    "duration": 5,
    "start_time": "2024-05-30T16:08:05.264Z"
   },
   {
    "duration": 5,
    "start_time": "2024-05-30T16:08:06.683Z"
   },
   {
    "duration": 106,
    "start_time": "2024-05-30T16:08:08.484Z"
   },
   {
    "duration": 7,
    "start_time": "2024-05-30T16:08:09.186Z"
   },
   {
    "duration": 4,
    "start_time": "2024-05-30T16:08:09.896Z"
   },
   {
    "duration": 111,
    "start_time": "2024-05-30T16:08:10.731Z"
   },
   {
    "duration": 6,
    "start_time": "2024-05-30T16:08:11.282Z"
   },
   {
    "duration": 7,
    "start_time": "2024-05-30T16:08:12.239Z"
   },
   {
    "duration": 529,
    "start_time": "2024-05-30T16:08:15.597Z"
   },
   {
    "duration": 498,
    "start_time": "2024-05-30T16:08:18.632Z"
   },
   {
    "duration": 496,
    "start_time": "2024-05-30T16:08:20.630Z"
   },
   {
    "duration": 468,
    "start_time": "2024-05-30T16:08:22.465Z"
   },
   {
    "duration": 369,
    "start_time": "2024-05-30T16:08:25.833Z"
   },
   {
    "duration": 641,
    "start_time": "2024-05-30T16:08:31.782Z"
   },
   {
    "duration": 11,
    "start_time": "2024-05-30T16:10:46.241Z"
   },
   {
    "duration": 238,
    "start_time": "2024-05-30T16:12:12.557Z"
   },
   {
    "duration": 586,
    "start_time": "2024-05-30T16:13:14.839Z"
   },
   {
    "duration": 6,
    "start_time": "2024-05-30T16:15:23.672Z"
   },
   {
    "duration": 8,
    "start_time": "2024-05-30T16:16:00.260Z"
   },
   {
    "duration": 9,
    "start_time": "2024-05-30T16:17:35.018Z"
   },
   {
    "duration": 8,
    "start_time": "2024-05-30T16:17:41.406Z"
   },
   {
    "duration": 4,
    "start_time": "2024-05-30T16:18:01.622Z"
   },
   {
    "duration": 4,
    "start_time": "2024-05-30T16:18:07.231Z"
   },
   {
    "duration": 10,
    "start_time": "2024-05-30T16:18:14.434Z"
   },
   {
    "duration": 8,
    "start_time": "2024-05-30T16:19:26.499Z"
   },
   {
    "duration": 4,
    "start_time": "2024-05-30T16:19:54.845Z"
   },
   {
    "duration": 149,
    "start_time": "2024-05-30T16:20:00.547Z"
   },
   {
    "duration": 1230,
    "start_time": "2024-05-30T16:20:59.452Z"
   },
   {
    "duration": 632,
    "start_time": "2024-05-30T16:21:00.684Z"
   },
   {
    "duration": 14,
    "start_time": "2024-05-30T16:21:01.317Z"
   },
   {
    "duration": 39,
    "start_time": "2024-05-30T16:21:01.332Z"
   },
   {
    "duration": 46,
    "start_time": "2024-05-30T16:21:01.372Z"
   },
   {
    "duration": 23,
    "start_time": "2024-05-30T16:21:01.491Z"
   },
   {
    "duration": 22,
    "start_time": "2024-05-30T16:21:01.744Z"
   },
   {
    "duration": 15,
    "start_time": "2024-05-30T16:21:02.030Z"
   },
   {
    "duration": 7,
    "start_time": "2024-05-30T16:21:02.577Z"
   },
   {
    "duration": 7,
    "start_time": "2024-05-30T16:21:02.852Z"
   },
   {
    "duration": 4,
    "start_time": "2024-05-30T16:21:03.114Z"
   },
   {
    "duration": 3,
    "start_time": "2024-05-30T16:21:03.365Z"
   },
   {
    "duration": 7,
    "start_time": "2024-05-30T16:21:03.619Z"
   },
   {
    "duration": 3,
    "start_time": "2024-05-30T16:21:06.074Z"
   },
   {
    "duration": 7,
    "start_time": "2024-05-30T16:21:07.824Z"
   },
   {
    "duration": 3,
    "start_time": "2024-05-30T16:21:08.290Z"
   },
   {
    "duration": 67,
    "start_time": "2024-05-30T16:21:08.772Z"
   },
   {
    "duration": 17,
    "start_time": "2024-05-30T16:21:09.021Z"
   },
   {
    "duration": 8,
    "start_time": "2024-05-30T16:21:09.721Z"
   },
   {
    "duration": 6,
    "start_time": "2024-05-30T16:21:09.926Z"
   },
   {
    "duration": 101,
    "start_time": "2024-05-30T16:21:11.351Z"
   },
   {
    "duration": 5,
    "start_time": "2024-05-30T16:21:11.876Z"
   },
   {
    "duration": 12,
    "start_time": "2024-05-30T16:21:11.883Z"
   },
   {
    "duration": 108,
    "start_time": "2024-05-30T16:21:12.058Z"
   },
   {
    "duration": 7,
    "start_time": "2024-05-30T16:21:12.399Z"
   },
   {
    "duration": 6,
    "start_time": "2024-05-30T16:21:13.146Z"
   },
   {
    "duration": 494,
    "start_time": "2024-05-30T16:21:16.331Z"
   },
   {
    "duration": 552,
    "start_time": "2024-05-30T16:21:17.056Z"
   },
   {
    "duration": 506,
    "start_time": "2024-05-30T16:21:17.842Z"
   },
   {
    "duration": 449,
    "start_time": "2024-05-30T16:21:18.977Z"
   },
   {
    "duration": 356,
    "start_time": "2024-05-30T16:21:21.976Z"
   },
   {
    "duration": 667,
    "start_time": "2024-05-30T16:21:25.534Z"
   },
   {
    "duration": 8,
    "start_time": "2024-05-30T16:21:28.072Z"
   },
   {
    "duration": 4,
    "start_time": "2024-05-30T16:21:29.490Z"
   },
   {
    "duration": 7,
    "start_time": "2024-05-30T16:21:30.728Z"
   },
   {
    "duration": 4,
    "start_time": "2024-05-30T16:21:32.134Z"
   },
   {
    "duration": 143,
    "start_time": "2024-05-30T16:21:53.610Z"
   },
   {
    "duration": 1208,
    "start_time": "2024-05-30T16:24:49.263Z"
   },
   {
    "duration": 618,
    "start_time": "2024-05-30T16:24:50.473Z"
   },
   {
    "duration": 16,
    "start_time": "2024-05-30T16:24:51.092Z"
   },
   {
    "duration": 18,
    "start_time": "2024-05-30T16:24:51.151Z"
   },
   {
    "duration": 10,
    "start_time": "2024-05-30T16:24:51.843Z"
   },
   {
    "duration": 15,
    "start_time": "2024-05-30T16:24:52.555Z"
   },
   {
    "duration": 15,
    "start_time": "2024-05-30T16:24:52.832Z"
   },
   {
    "duration": 15,
    "start_time": "2024-05-30T16:24:53.047Z"
   },
   {
    "duration": 7,
    "start_time": "2024-05-30T16:24:53.706Z"
   },
   {
    "duration": 3,
    "start_time": "2024-05-30T16:24:53.965Z"
   },
   {
    "duration": 4,
    "start_time": "2024-05-30T16:24:54.218Z"
   },
   {
    "duration": 3,
    "start_time": "2024-05-30T16:24:54.463Z"
   },
   {
    "duration": 6,
    "start_time": "2024-05-30T16:24:54.712Z"
   },
   {
    "duration": 4,
    "start_time": "2024-05-30T16:24:55.407Z"
   },
   {
    "duration": 6,
    "start_time": "2024-05-30T16:24:56.683Z"
   },
   {
    "duration": 3,
    "start_time": "2024-05-30T16:24:58.432Z"
   },
   {
    "duration": 76,
    "start_time": "2024-05-30T16:24:58.437Z"
   },
   {
    "duration": 18,
    "start_time": "2024-05-30T16:24:58.618Z"
   },
   {
    "duration": 5,
    "start_time": "2024-05-30T16:24:59.002Z"
   },
   {
    "duration": 5,
    "start_time": "2024-05-30T16:24:59.418Z"
   },
   {
    "duration": 93,
    "start_time": "2024-05-30T16:24:59.940Z"
   },
   {
    "duration": 6,
    "start_time": "2024-05-30T16:25:00.184Z"
   },
   {
    "duration": 4,
    "start_time": "2024-05-30T16:25:00.463Z"
   },
   {
    "duration": 111,
    "start_time": "2024-05-30T16:25:00.742Z"
   },
   {
    "duration": 6,
    "start_time": "2024-05-30T16:25:01.568Z"
   },
   {
    "duration": 8,
    "start_time": "2024-05-30T16:25:02.653Z"
   },
   {
    "duration": 503,
    "start_time": "2024-05-30T16:25:05.184Z"
   },
   {
    "duration": 438,
    "start_time": "2024-05-30T16:25:05.766Z"
   },
   {
    "duration": 521,
    "start_time": "2024-05-30T16:25:06.755Z"
   },
   {
    "duration": 482,
    "start_time": "2024-05-30T16:25:08.047Z"
   },
   {
    "duration": 320,
    "start_time": "2024-05-30T16:25:11.726Z"
   },
   {
    "duration": 646,
    "start_time": "2024-05-30T16:25:15.144Z"
   },
   {
    "duration": 9,
    "start_time": "2024-05-30T16:25:17.995Z"
   },
   {
    "duration": 3,
    "start_time": "2024-05-30T16:25:18.833Z"
   },
   {
    "duration": 7,
    "start_time": "2024-05-30T16:25:19.635Z"
   },
   {
    "duration": 162,
    "start_time": "2024-05-30T16:25:21.014Z"
   },
   {
    "duration": 64,
    "start_time": "2024-05-30T16:25:51.805Z"
   },
   {
    "duration": 52,
    "start_time": "2024-05-30T16:26:17.387Z"
   },
   {
    "duration": 55,
    "start_time": "2024-05-30T16:33:12.616Z"
   },
   {
    "duration": 1292,
    "start_time": "2024-05-30T16:33:53.455Z"
   },
   {
    "duration": 634,
    "start_time": "2024-05-30T16:33:54.748Z"
   },
   {
    "duration": 14,
    "start_time": "2024-05-30T16:33:55.384Z"
   },
   {
    "duration": 18,
    "start_time": "2024-05-30T16:33:55.399Z"
   },
   {
    "duration": 9,
    "start_time": "2024-05-30T16:33:55.418Z"
   },
   {
    "duration": 16,
    "start_time": "2024-05-30T16:33:55.428Z"
   },
   {
    "duration": 35,
    "start_time": "2024-05-30T16:33:55.445Z"
   },
   {
    "duration": 15,
    "start_time": "2024-05-30T16:33:55.481Z"
   },
   {
    "duration": 6,
    "start_time": "2024-05-30T16:33:55.854Z"
   },
   {
    "duration": 4,
    "start_time": "2024-05-30T16:33:56.036Z"
   },
   {
    "duration": 4,
    "start_time": "2024-05-30T16:33:56.311Z"
   },
   {
    "duration": 3,
    "start_time": "2024-05-30T16:33:56.541Z"
   },
   {
    "duration": 6,
    "start_time": "2024-05-30T16:33:56.835Z"
   },
   {
    "duration": 4,
    "start_time": "2024-05-30T16:33:57.439Z"
   },
   {
    "duration": 6,
    "start_time": "2024-05-30T16:33:58.743Z"
   },
   {
    "duration": 4,
    "start_time": "2024-05-30T16:33:58.993Z"
   },
   {
    "duration": 74,
    "start_time": "2024-05-30T16:33:59.232Z"
   },
   {
    "duration": 19,
    "start_time": "2024-05-30T16:33:59.474Z"
   },
   {
    "duration": 6,
    "start_time": "2024-05-30T16:33:59.982Z"
   },
   {
    "duration": 6,
    "start_time": "2024-05-30T16:34:00.168Z"
   },
   {
    "duration": 92,
    "start_time": "2024-05-30T16:34:00.703Z"
   },
   {
    "duration": 6,
    "start_time": "2024-05-30T16:34:02.317Z"
   },
   {
    "duration": 4,
    "start_time": "2024-05-30T16:34:02.636Z"
   },
   {
    "duration": 107,
    "start_time": "2024-05-30T16:34:02.908Z"
   },
   {
    "duration": 8,
    "start_time": "2024-05-30T16:34:03.229Z"
   },
   {
    "duration": 10,
    "start_time": "2024-05-30T16:34:03.501Z"
   },
   {
    "duration": 555,
    "start_time": "2024-05-30T16:34:04.772Z"
   },
   {
    "duration": 440,
    "start_time": "2024-05-30T16:34:05.329Z"
   },
   {
    "duration": 497,
    "start_time": "2024-05-30T16:34:06.108Z"
   },
   {
    "duration": 463,
    "start_time": "2024-05-30T16:34:06.837Z"
   },
   {
    "duration": 329,
    "start_time": "2024-05-30T16:34:10.001Z"
   },
   {
    "duration": 707,
    "start_time": "2024-05-30T16:34:14.400Z"
   },
   {
    "duration": 9,
    "start_time": "2024-05-30T16:34:17.335Z"
   },
   {
    "duration": 4,
    "start_time": "2024-05-30T16:34:18.201Z"
   },
   {
    "duration": 5,
    "start_time": "2024-05-30T16:34:48.164Z"
   },
   {
    "duration": 9,
    "start_time": "2024-05-30T16:35:18.621Z"
   },
   {
    "duration": 5,
    "start_time": "2024-05-30T16:35:29.128Z"
   },
   {
    "duration": 9,
    "start_time": "2024-05-30T16:35:30.233Z"
   },
   {
    "duration": 5,
    "start_time": "2024-05-30T16:37:26.475Z"
   },
   {
    "duration": 13,
    "start_time": "2024-05-30T16:37:27.754Z"
   },
   {
    "duration": 4,
    "start_time": "2024-05-30T16:37:45.357Z"
   },
   {
    "duration": 53,
    "start_time": "2024-05-30T16:40:53.555Z"
   },
   {
    "duration": 104,
    "start_time": "2024-05-30T16:41:16.578Z"
   },
   {
    "duration": 4,
    "start_time": "2024-05-30T16:41:23.564Z"
   },
   {
    "duration": 9,
    "start_time": "2024-05-30T16:41:34.627Z"
   },
   {
    "duration": 4,
    "start_time": "2024-05-30T16:41:35.954Z"
   },
   {
    "duration": 9,
    "start_time": "2024-05-30T16:41:40.892Z"
   },
   {
    "duration": 4,
    "start_time": "2024-05-30T16:42:20.853Z"
   },
   {
    "duration": 8,
    "start_time": "2024-05-30T16:42:27.570Z"
   },
   {
    "duration": 7,
    "start_time": "2024-05-30T16:43:58.358Z"
   },
   {
    "duration": 1192,
    "start_time": "2024-05-30T16:44:47.713Z"
   },
   {
    "duration": 671,
    "start_time": "2024-05-30T16:44:48.907Z"
   },
   {
    "duration": 15,
    "start_time": "2024-05-30T16:44:49.579Z"
   },
   {
    "duration": 18,
    "start_time": "2024-05-30T16:44:49.595Z"
   },
   {
    "duration": 10,
    "start_time": "2024-05-30T16:44:49.614Z"
   },
   {
    "duration": 14,
    "start_time": "2024-05-30T16:44:49.629Z"
   },
   {
    "duration": 15,
    "start_time": "2024-05-30T16:44:49.888Z"
   },
   {
    "duration": 14,
    "start_time": "2024-05-30T16:44:50.182Z"
   },
   {
    "duration": 8,
    "start_time": "2024-05-30T16:44:50.806Z"
   },
   {
    "duration": 3,
    "start_time": "2024-05-30T16:44:51.067Z"
   },
   {
    "duration": 4,
    "start_time": "2024-05-30T16:44:51.320Z"
   },
   {
    "duration": 3,
    "start_time": "2024-05-30T16:44:51.592Z"
   },
   {
    "duration": 6,
    "start_time": "2024-05-30T16:44:51.845Z"
   },
   {
    "duration": 4,
    "start_time": "2024-05-30T16:44:52.572Z"
   },
   {
    "duration": 6,
    "start_time": "2024-05-30T16:44:54.058Z"
   },
   {
    "duration": 4,
    "start_time": "2024-05-30T16:44:54.317Z"
   },
   {
    "duration": 67,
    "start_time": "2024-05-30T16:44:54.574Z"
   },
   {
    "duration": 19,
    "start_time": "2024-05-30T16:44:54.832Z"
   },
   {
    "duration": 6,
    "start_time": "2024-05-30T16:44:55.293Z"
   },
   {
    "duration": 5,
    "start_time": "2024-05-30T16:44:55.549Z"
   },
   {
    "duration": 89,
    "start_time": "2024-05-30T16:44:56.015Z"
   },
   {
    "duration": 6,
    "start_time": "2024-05-30T16:44:56.289Z"
   },
   {
    "duration": 5,
    "start_time": "2024-05-30T16:44:56.592Z"
   },
   {
    "duration": 111,
    "start_time": "2024-05-30T16:44:56.908Z"
   },
   {
    "duration": 6,
    "start_time": "2024-05-30T16:44:57.206Z"
   },
   {
    "duration": 6,
    "start_time": "2024-05-30T16:44:57.461Z"
   },
   {
    "duration": 505,
    "start_time": "2024-05-30T16:44:59.396Z"
   },
   {
    "duration": 449,
    "start_time": "2024-05-30T16:44:59.903Z"
   },
   {
    "duration": 494,
    "start_time": "2024-05-30T16:45:01.197Z"
   },
   {
    "duration": 471,
    "start_time": "2024-05-30T16:45:02.063Z"
   },
   {
    "duration": 373,
    "start_time": "2024-05-30T16:45:03.842Z"
   },
   {
    "duration": 688,
    "start_time": "2024-05-30T16:45:07.444Z"
   },
   {
    "duration": 9,
    "start_time": "2024-05-30T16:45:09.738Z"
   },
   {
    "duration": 6,
    "start_time": "2024-05-30T16:45:11.273Z"
   },
   {
    "duration": 11,
    "start_time": "2024-05-30T16:45:12.072Z"
   },
   {
    "duration": 95,
    "start_time": "2024-05-30T16:49:05.037Z"
   },
   {
    "duration": 7,
    "start_time": "2024-05-30T16:49:12.863Z"
   },
   {
    "duration": 10,
    "start_time": "2024-05-30T16:49:15.418Z"
   },
   {
    "duration": 14,
    "start_time": "2024-05-30T16:49:16.468Z"
   },
   {
    "duration": 1328,
    "start_time": "2024-05-30T18:22:24.744Z"
   },
   {
    "duration": 4230,
    "start_time": "2024-05-30T18:22:26.074Z"
   },
   {
    "duration": 18,
    "start_time": "2024-05-30T18:22:30.305Z"
   },
   {
    "duration": 114,
    "start_time": "2024-05-30T18:22:30.324Z"
   },
   {
    "duration": 79,
    "start_time": "2024-05-30T18:22:30.439Z"
   },
   {
    "duration": 61,
    "start_time": "2024-05-30T18:22:30.520Z"
   },
   {
    "duration": 60,
    "start_time": "2024-05-30T18:22:30.583Z"
   },
   {
    "duration": 28,
    "start_time": "2024-05-30T18:22:30.644Z"
   },
   {
    "duration": 6,
    "start_time": "2024-05-30T18:22:31.728Z"
   },
   {
    "duration": 3,
    "start_time": "2024-05-30T18:22:33.031Z"
   },
   {
    "duration": 4,
    "start_time": "2024-05-30T18:22:33.460Z"
   },
   {
    "duration": 3,
    "start_time": "2024-05-30T18:22:33.639Z"
   },
   {
    "duration": 7,
    "start_time": "2024-05-30T18:22:34.048Z"
   },
   {
    "duration": 3,
    "start_time": "2024-05-30T18:22:36.081Z"
   },
   {
    "duration": 6,
    "start_time": "2024-05-30T18:22:40.801Z"
   },
   {
    "duration": 3,
    "start_time": "2024-05-30T18:22:41.466Z"
   },
   {
    "duration": 71,
    "start_time": "2024-05-30T18:22:42.150Z"
   },
   {
    "duration": 19,
    "start_time": "2024-05-30T18:22:42.780Z"
   },
   {
    "duration": 8,
    "start_time": "2024-05-30T18:22:44.232Z"
   },
   {
    "duration": 6,
    "start_time": "2024-05-30T18:22:45.043Z"
   },
   {
    "duration": 96,
    "start_time": "2024-05-30T18:22:47.183Z"
   },
   {
    "duration": 7,
    "start_time": "2024-05-30T18:22:59.945Z"
   },
   {
    "duration": 4,
    "start_time": "2024-05-30T18:23:00.582Z"
   },
   {
    "duration": 120,
    "start_time": "2024-05-30T18:23:01.326Z"
   },
   {
    "duration": 6,
    "start_time": "2024-05-30T18:23:01.761Z"
   },
   {
    "duration": 8,
    "start_time": "2024-05-30T18:23:03.668Z"
   },
   {
    "duration": 562,
    "start_time": "2024-05-30T18:23:55.478Z"
   },
   {
    "duration": 500,
    "start_time": "2024-05-30T18:23:56.921Z"
   },
   {
    "duration": 546,
    "start_time": "2024-05-30T18:23:58.981Z"
   },
   {
    "duration": 488,
    "start_time": "2024-05-30T18:24:00.102Z"
   },
   {
    "duration": 334,
    "start_time": "2024-05-30T18:24:02.527Z"
   },
   {
    "duration": 651,
    "start_time": "2024-05-30T18:24:05.770Z"
   },
   {
    "duration": 9,
    "start_time": "2024-05-30T18:24:07.331Z"
   },
   {
    "duration": 11,
    "start_time": "2024-05-30T18:24:07.997Z"
   },
   {
    "duration": 4,
    "start_time": "2024-05-30T18:24:15.551Z"
   },
   {
    "duration": 5,
    "start_time": "2024-05-30T18:26:46.792Z"
   },
   {
    "duration": 18,
    "start_time": "2024-05-30T18:26:50.377Z"
   },
   {
    "duration": 18,
    "start_time": "2024-05-30T18:26:51.019Z"
   },
   {
    "duration": 86,
    "start_time": "2024-05-30T18:26:59.404Z"
   },
   {
    "duration": 962,
    "start_time": "2024-05-30T18:27:22.022Z"
   },
   {
    "duration": 1024,
    "start_time": "2024-05-30T18:35:59.072Z"
   },
   {
    "duration": 94,
    "start_time": "2024-05-30T18:43:43.826Z"
   },
   {
    "duration": 1308,
    "start_time": "2024-05-30T18:46:00.974Z"
   },
   {
    "duration": 760,
    "start_time": "2024-05-30T18:46:02.284Z"
   },
   {
    "duration": 15,
    "start_time": "2024-05-30T18:46:07.468Z"
   },
   {
    "duration": 20,
    "start_time": "2024-05-30T18:46:12.329Z"
   },
   {
    "duration": 17,
    "start_time": "2024-05-30T18:46:12.701Z"
   },
   {
    "duration": 17,
    "start_time": "2024-05-30T18:46:13.937Z"
   },
   {
    "duration": 21,
    "start_time": "2024-05-30T18:46:14.196Z"
   },
   {
    "duration": 24,
    "start_time": "2024-05-30T18:46:14.412Z"
   },
   {
    "duration": 6,
    "start_time": "2024-05-30T18:46:14.926Z"
   },
   {
    "duration": 3,
    "start_time": "2024-05-30T18:46:15.160Z"
   },
   {
    "duration": 5,
    "start_time": "2024-05-30T18:46:15.433Z"
   },
   {
    "duration": 3,
    "start_time": "2024-05-30T18:46:15.664Z"
   },
   {
    "duration": 11,
    "start_time": "2024-05-30T18:46:15.897Z"
   },
   {
    "duration": 6,
    "start_time": "2024-05-30T18:46:16.587Z"
   },
   {
    "duration": 8,
    "start_time": "2024-05-30T18:46:17.792Z"
   },
   {
    "duration": 3,
    "start_time": "2024-05-30T18:46:18.012Z"
   },
   {
    "duration": 81,
    "start_time": "2024-05-30T18:46:18.241Z"
   },
   {
    "duration": 26,
    "start_time": "2024-05-30T18:46:18.471Z"
   },
   {
    "duration": 19,
    "start_time": "2024-05-30T18:46:18.879Z"
   },
   {
    "duration": 5,
    "start_time": "2024-05-30T18:46:19.126Z"
   },
   {
    "duration": 119,
    "start_time": "2024-05-30T18:46:19.538Z"
   },
   {
    "duration": 6,
    "start_time": "2024-05-30T18:46:19.839Z"
   },
   {
    "duration": 5,
    "start_time": "2024-05-30T18:46:20.067Z"
   },
   {
    "duration": 121,
    "start_time": "2024-05-30T18:46:20.303Z"
   },
   {
    "duration": 13,
    "start_time": "2024-05-30T18:46:20.594Z"
   },
   {
    "duration": 7,
    "start_time": "2024-05-30T18:46:20.832Z"
   },
   {
    "duration": 617,
    "start_time": "2024-05-30T18:46:32.294Z"
   },
   {
    "duration": 512,
    "start_time": "2024-05-30T18:46:32.913Z"
   },
   {
    "duration": 585,
    "start_time": "2024-05-30T18:46:33.757Z"
   },
   {
    "duration": 576,
    "start_time": "2024-05-30T18:46:34.343Z"
   },
   {
    "duration": 347,
    "start_time": "2024-05-30T18:46:35.209Z"
   },
   {
    "duration": 782,
    "start_time": "2024-05-30T18:46:36.371Z"
   },
   {
    "duration": 8,
    "start_time": "2024-05-30T18:46:37.154Z"
   },
   {
    "duration": 9,
    "start_time": "2024-05-30T18:46:37.270Z"
   },
   {
    "duration": 4,
    "start_time": "2024-05-30T18:46:39.939Z"
   },
   {
    "duration": 5,
    "start_time": "2024-05-30T18:46:41.816Z"
   },
   {
    "duration": 22,
    "start_time": "2024-05-30T18:46:42.575Z"
   },
   {
    "duration": 21,
    "start_time": "2024-05-30T18:46:43.202Z"
   },
   {
    "duration": 1467,
    "start_time": "2024-05-30T18:46:44.321Z"
   },
   {
    "duration": 259,
    "start_time": "2024-05-30T18:46:45.791Z"
   },
   {
    "duration": 2,
    "start_time": "2024-05-30T18:47:05.819Z"
   },
   {
    "duration": 3,
    "start_time": "2024-05-30T18:47:20.293Z"
   },
   {
    "duration": 1657,
    "start_time": "2024-05-30T18:56:11.640Z"
   },
   {
    "duration": 879,
    "start_time": "2024-05-30T18:57:10.314Z"
   },
   {
    "duration": 940,
    "start_time": "2024-05-30T18:58:35.154Z"
   },
   {
    "duration": 1184,
    "start_time": "2024-05-30T18:59:21.801Z"
   },
   {
    "duration": 1241,
    "start_time": "2024-05-30T19:00:50.911Z"
   },
   {
    "duration": 650,
    "start_time": "2024-05-30T19:00:52.153Z"
   },
   {
    "duration": 14,
    "start_time": "2024-05-30T19:00:52.805Z"
   },
   {
    "duration": 17,
    "start_time": "2024-05-30T19:00:52.820Z"
   },
   {
    "duration": 18,
    "start_time": "2024-05-30T19:00:52.839Z"
   },
   {
    "duration": 20,
    "start_time": "2024-05-30T19:00:53.040Z"
   },
   {
    "duration": 16,
    "start_time": "2024-05-30T19:00:53.349Z"
   },
   {
    "duration": 16,
    "start_time": "2024-05-30T19:00:53.596Z"
   },
   {
    "duration": 6,
    "start_time": "2024-05-30T19:00:54.063Z"
   },
   {
    "duration": 3,
    "start_time": "2024-05-30T19:00:54.307Z"
   },
   {
    "duration": 5,
    "start_time": "2024-05-30T19:00:54.582Z"
   },
   {
    "duration": 3,
    "start_time": "2024-05-30T19:00:54.810Z"
   },
   {
    "duration": 6,
    "start_time": "2024-05-30T19:00:55.037Z"
   },
   {
    "duration": 4,
    "start_time": "2024-05-30T19:00:55.670Z"
   },
   {
    "duration": 5,
    "start_time": "2024-05-30T19:00:56.845Z"
   },
   {
    "duration": 3,
    "start_time": "2024-05-30T19:00:57.071Z"
   },
   {
    "duration": 69,
    "start_time": "2024-05-30T19:00:57.294Z"
   },
   {
    "duration": 20,
    "start_time": "2024-05-30T19:00:57.519Z"
   },
   {
    "duration": 7,
    "start_time": "2024-05-30T19:00:57.927Z"
   },
   {
    "duration": 6,
    "start_time": "2024-05-30T19:00:58.170Z"
   },
   {
    "duration": 96,
    "start_time": "2024-05-30T19:00:58.578Z"
   },
   {
    "duration": 7,
    "start_time": "2024-05-30T19:00:58.910Z"
   },
   {
    "duration": 6,
    "start_time": "2024-05-30T19:00:59.149Z"
   },
   {
    "duration": 107,
    "start_time": "2024-05-30T19:00:59.405Z"
   },
   {
    "duration": 7,
    "start_time": "2024-05-30T19:00:59.631Z"
   },
   {
    "duration": 8,
    "start_time": "2024-05-30T19:00:59.871Z"
   },
   {
    "duration": 525,
    "start_time": "2024-05-30T19:01:01.060Z"
   },
   {
    "duration": 483,
    "start_time": "2024-05-30T19:01:01.587Z"
   },
   {
    "duration": 526,
    "start_time": "2024-05-30T19:01:02.889Z"
   },
   {
    "duration": 468,
    "start_time": "2024-05-30T19:01:03.416Z"
   },
   {
    "duration": 411,
    "start_time": "2024-05-30T19:01:06.249Z"
   },
   {
    "duration": 682,
    "start_time": "2024-05-30T19:01:09.418Z"
   },
   {
    "duration": 8,
    "start_time": "2024-05-30T19:01:11.093Z"
   },
   {
    "duration": 9,
    "start_time": "2024-05-30T19:01:11.593Z"
   },
   {
    "duration": 3,
    "start_time": "2024-05-30T19:01:15.057Z"
   },
   {
    "duration": 5,
    "start_time": "2024-05-30T19:01:17.530Z"
   },
   {
    "duration": 21,
    "start_time": "2024-05-30T19:01:18.226Z"
   },
   {
    "duration": 25,
    "start_time": "2024-05-30T19:01:19.128Z"
   },
   {
    "duration": 1602,
    "start_time": "2024-05-30T19:01:21.360Z"
   },
   {
    "duration": 1373,
    "start_time": "2024-05-30T19:01:48.011Z"
   },
   {
    "duration": 282,
    "start_time": "2024-05-30T19:07:36.411Z"
   },
   {
    "duration": 1507,
    "start_time": "2024-05-30T19:07:49.779Z"
   },
   {
    "duration": 267,
    "start_time": "2024-05-30T19:09:49.028Z"
   },
   {
    "duration": 7,
    "start_time": "2024-05-30T19:09:54.789Z"
   },
   {
    "duration": 1249,
    "start_time": "2024-05-30T19:10:02.437Z"
   },
   {
    "duration": 825,
    "start_time": "2024-05-30T19:11:43.480Z"
   },
   {
    "duration": 468,
    "start_time": "2024-05-30T19:12:57.528Z"
   },
   {
    "duration": 3,
    "start_time": "2024-05-30T19:12:59.951Z"
   },
   {
    "duration": 776,
    "start_time": "2024-05-30T19:13:01.652Z"
   },
   {
    "duration": 4,
    "start_time": "2024-05-30T19:13:51.769Z"
   },
   {
    "duration": 796,
    "start_time": "2024-05-30T19:13:52.591Z"
   },
   {
    "duration": 521,
    "start_time": "2024-05-30T19:14:38.764Z"
   },
   {
    "duration": 3,
    "start_time": "2024-05-30T19:14:40.431Z"
   },
   {
    "duration": 787,
    "start_time": "2024-05-30T19:14:41.308Z"
   },
   {
    "duration": 263,
    "start_time": "2024-05-30T19:16:12.628Z"
   },
   {
    "duration": 3,
    "start_time": "2024-05-30T19:16:13.421Z"
   },
   {
    "duration": 246,
    "start_time": "2024-05-30T19:16:13.940Z"
   },
   {
    "duration": 462,
    "start_time": "2024-05-30T19:17:33.623Z"
   },
   {
    "duration": 3,
    "start_time": "2024-05-30T19:17:34.315Z"
   },
   {
    "duration": 245,
    "start_time": "2024-05-30T19:17:34.893Z"
   },
   {
    "duration": 359,
    "start_time": "2024-05-30T19:18:20.526Z"
   },
   {
    "duration": 3,
    "start_time": "2024-05-30T19:18:20.985Z"
   },
   {
    "duration": 1461,
    "start_time": "2024-05-30T19:18:21.326Z"
   },
   {
    "duration": 240,
    "start_time": "2024-05-30T19:18:43.792Z"
   },
   {
    "duration": 252,
    "start_time": "2024-05-30T19:19:00.183Z"
   },
   {
    "duration": 212,
    "start_time": "2024-05-30T19:19:05.877Z"
   },
   {
    "duration": 3,
    "start_time": "2024-05-30T19:19:06.285Z"
   },
   {
    "duration": 257,
    "start_time": "2024-05-30T19:19:06.547Z"
   },
   {
    "duration": 1207,
    "start_time": "2024-05-30T19:19:35.517Z"
   },
   {
    "duration": 644,
    "start_time": "2024-05-30T19:19:36.726Z"
   },
   {
    "duration": 20,
    "start_time": "2024-05-30T19:19:37.372Z"
   },
   {
    "duration": 19,
    "start_time": "2024-05-30T19:19:37.740Z"
   },
   {
    "duration": 11,
    "start_time": "2024-05-30T19:19:37.993Z"
   },
   {
    "duration": 17,
    "start_time": "2024-05-30T19:19:38.181Z"
   },
   {
    "duration": 15,
    "start_time": "2024-05-30T19:19:38.529Z"
   },
   {
    "duration": 23,
    "start_time": "2024-05-30T19:19:38.653Z"
   },
   {
    "duration": 5,
    "start_time": "2024-05-30T19:19:39.174Z"
   },
   {
    "duration": 3,
    "start_time": "2024-05-30T19:19:39.409Z"
   },
   {
    "duration": 4,
    "start_time": "2024-05-30T19:19:39.637Z"
   },
   {
    "duration": 3,
    "start_time": "2024-05-30T19:19:39.869Z"
   },
   {
    "duration": 6,
    "start_time": "2024-05-30T19:19:40.097Z"
   },
   {
    "duration": 4,
    "start_time": "2024-05-30T19:19:40.740Z"
   },
   {
    "duration": 5,
    "start_time": "2024-05-30T19:19:41.938Z"
   },
   {
    "duration": 3,
    "start_time": "2024-05-30T19:19:42.166Z"
   },
   {
    "duration": 76,
    "start_time": "2024-05-30T19:19:42.391Z"
   },
   {
    "duration": 20,
    "start_time": "2024-05-30T19:19:42.619Z"
   },
   {
    "duration": 6,
    "start_time": "2024-05-30T19:19:43.039Z"
   },
   {
    "duration": 5,
    "start_time": "2024-05-30T19:19:43.276Z"
   },
   {
    "duration": 94,
    "start_time": "2024-05-30T19:19:43.691Z"
   },
   {
    "duration": 6,
    "start_time": "2024-05-30T19:19:43.926Z"
   },
   {
    "duration": 4,
    "start_time": "2024-05-30T19:19:44.166Z"
   },
   {
    "duration": 111,
    "start_time": "2024-05-30T19:19:44.468Z"
   },
   {
    "duration": 7,
    "start_time": "2024-05-30T19:19:44.824Z"
   },
   {
    "duration": 7,
    "start_time": "2024-05-30T19:19:45.059Z"
   },
   {
    "duration": 528,
    "start_time": "2024-05-30T19:19:46.201Z"
   },
   {
    "duration": 482,
    "start_time": "2024-05-30T19:19:46.731Z"
   },
   {
    "duration": 536,
    "start_time": "2024-05-30T19:19:47.214Z"
   },
   {
    "duration": 479,
    "start_time": "2024-05-30T19:19:47.751Z"
   },
   {
    "duration": 356,
    "start_time": "2024-05-30T19:19:48.445Z"
   },
   {
    "duration": 700,
    "start_time": "2024-05-30T19:19:52.648Z"
   },
   {
    "duration": 8,
    "start_time": "2024-05-30T19:19:54.306Z"
   },
   {
    "duration": 10,
    "start_time": "2024-05-30T19:19:54.712Z"
   },
   {
    "duration": 4,
    "start_time": "2024-05-30T19:19:57.650Z"
   },
   {
    "duration": 6,
    "start_time": "2024-05-30T19:19:59.501Z"
   },
   {
    "duration": 17,
    "start_time": "2024-05-30T19:20:00.143Z"
   },
   {
    "duration": 19,
    "start_time": "2024-05-30T19:20:00.654Z"
   },
   {
    "duration": 396,
    "start_time": "2024-05-30T19:20:13.389Z"
   },
   {
    "duration": 3,
    "start_time": "2024-05-30T19:20:14.423Z"
   },
   {
    "duration": 329,
    "start_time": "2024-05-30T19:20:15.332Z"
   },
   {
    "duration": 263,
    "start_time": "2024-05-30T19:24:04.026Z"
   },
   {
    "duration": 251,
    "start_time": "2024-05-30T19:24:17.486Z"
   },
   {
    "duration": 2,
    "start_time": "2024-05-30T19:25:14.888Z"
   },
   {
    "duration": 240,
    "start_time": "2024-05-30T19:25:15.626Z"
   },
   {
    "duration": 254,
    "start_time": "2024-05-30T19:25:42.287Z"
   },
   {
    "duration": 11,
    "start_time": "2024-05-30T19:25:55.882Z"
   },
   {
    "duration": 12,
    "start_time": "2024-05-30T19:26:24.315Z"
   },
   {
    "duration": 12,
    "start_time": "2024-05-30T19:26:47.908Z"
   },
   {
    "duration": 3,
    "start_time": "2024-05-30T19:31:12.809Z"
   },
   {
    "duration": 1591,
    "start_time": "2024-05-30T19:31:13.824Z"
   },
   {
    "duration": 3,
    "start_time": "2024-05-30T19:33:36.015Z"
   },
   {
    "duration": 1277,
    "start_time": "2024-05-30T19:33:36.755Z"
   },
   {
    "duration": 1516,
    "start_time": "2024-05-30T19:38:49.896Z"
   },
   {
    "duration": 1241,
    "start_time": "2024-05-30T19:45:36.418Z"
   },
   {
    "duration": 687,
    "start_time": "2024-05-30T19:45:38.812Z"
   },
   {
    "duration": 15,
    "start_time": "2024-05-30T19:45:39.501Z"
   },
   {
    "duration": 32,
    "start_time": "2024-05-30T19:45:39.518Z"
   },
   {
    "duration": 20,
    "start_time": "2024-05-30T19:45:39.551Z"
   },
   {
    "duration": 18,
    "start_time": "2024-05-30T19:45:39.859Z"
   },
   {
    "duration": 16,
    "start_time": "2024-05-30T19:45:40.167Z"
   },
   {
    "duration": 18,
    "start_time": "2024-05-30T19:45:40.413Z"
   },
   {
    "duration": 6,
    "start_time": "2024-05-30T19:45:40.907Z"
   },
   {
    "duration": 3,
    "start_time": "2024-05-30T19:45:41.105Z"
   },
   {
    "duration": 4,
    "start_time": "2024-05-30T19:45:41.325Z"
   },
   {
    "duration": 3,
    "start_time": "2024-05-30T19:45:41.629Z"
   },
   {
    "duration": 6,
    "start_time": "2024-05-30T19:45:41.957Z"
   },
   {
    "duration": 5,
    "start_time": "2024-05-30T19:45:44.052Z"
   },
   {
    "duration": 5,
    "start_time": "2024-05-30T19:45:45.103Z"
   },
   {
    "duration": 3,
    "start_time": "2024-05-30T19:45:45.336Z"
   },
   {
    "duration": 80,
    "start_time": "2024-05-30T19:45:45.626Z"
   },
   {
    "duration": 27,
    "start_time": "2024-05-30T19:45:46.725Z"
   },
   {
    "duration": 8,
    "start_time": "2024-05-30T19:45:47.200Z"
   },
   {
    "duration": 7,
    "start_time": "2024-05-30T19:45:47.537Z"
   },
   {
    "duration": 98,
    "start_time": "2024-05-30T19:45:47.946Z"
   },
   {
    "duration": 7,
    "start_time": "2024-05-30T19:45:48.247Z"
   },
   {
    "duration": 4,
    "start_time": "2024-05-30T19:45:48.522Z"
   },
   {
    "duration": 124,
    "start_time": "2024-05-30T19:45:49.382Z"
   },
   {
    "duration": 7,
    "start_time": "2024-05-30T19:45:49.821Z"
   },
   {
    "duration": 8,
    "start_time": "2024-05-30T19:45:50.928Z"
   },
   {
    "duration": 553,
    "start_time": "2024-05-30T19:45:53.145Z"
   },
   {
    "duration": 499,
    "start_time": "2024-05-30T19:45:53.755Z"
   },
   {
    "duration": 544,
    "start_time": "2024-05-30T19:45:54.255Z"
   },
   {
    "duration": 507,
    "start_time": "2024-05-30T19:45:54.801Z"
   },
   {
    "duration": 399,
    "start_time": "2024-05-30T19:45:55.659Z"
   },
   {
    "duration": 723,
    "start_time": "2024-05-30T19:45:58.929Z"
   },
   {
    "duration": 10,
    "start_time": "2024-05-30T19:46:00.084Z"
   },
   {
    "duration": 9,
    "start_time": "2024-05-30T19:46:00.841Z"
   },
   {
    "duration": 3,
    "start_time": "2024-05-30T19:46:04.034Z"
   },
   {
    "duration": 5,
    "start_time": "2024-05-30T19:46:06.455Z"
   },
   {
    "duration": 17,
    "start_time": "2024-05-30T19:46:07.335Z"
   },
   {
    "duration": 18,
    "start_time": "2024-05-30T19:46:08.064Z"
   },
   {
    "duration": 459,
    "start_time": "2024-05-30T19:46:11.126Z"
   },
   {
    "duration": 3,
    "start_time": "2024-05-30T19:46:11.999Z"
   },
   {
    "duration": 1654,
    "start_time": "2024-05-30T19:46:12.851Z"
   },
   {
    "duration": 3,
    "start_time": "2024-05-30T20:29:52.336Z"
   },
   {
    "duration": 98,
    "start_time": "2024-05-30T20:29:56.092Z"
   },
   {
    "duration": 1377,
    "start_time": "2024-05-30T20:50:30.433Z"
   },
   {
    "duration": 1343,
    "start_time": "2024-05-30T20:50:56.453Z"
   },
   {
    "duration": 1110,
    "start_time": "2024-05-30T20:51:20.682Z"
   },
   {
    "duration": 49,
    "start_time": "2024-05-30T20:52:19.144Z"
   },
   {
    "duration": 13,
    "start_time": "2024-05-30T20:52:53.302Z"
   },
   {
    "duration": 13,
    "start_time": "2024-05-30T20:53:44.286Z"
   },
   {
    "duration": 1217,
    "start_time": "2024-05-30T21:09:02.869Z"
   },
   {
    "duration": 231,
    "start_time": "2024-05-30T21:10:48.031Z"
   },
   {
    "duration": 12,
    "start_time": "2024-05-30T21:10:58.284Z"
   },
   {
    "duration": 13,
    "start_time": "2024-05-30T21:11:20.431Z"
   },
   {
    "duration": 226,
    "start_time": "2024-05-30T21:11:43.348Z"
   },
   {
    "duration": 12,
    "start_time": "2024-05-30T21:11:45.381Z"
   },
   {
    "duration": 865,
    "start_time": "2024-05-30T21:12:03.632Z"
   },
   {
    "duration": 4,
    "start_time": "2024-05-30T21:12:53.839Z"
   },
   {
    "duration": 5,
    "start_time": "2024-05-30T21:14:47.149Z"
   },
   {
    "duration": 13,
    "start_time": "2024-05-30T21:15:16.202Z"
   },
   {
    "duration": 13,
    "start_time": "2024-05-30T21:15:39.453Z"
   },
   {
    "duration": 13,
    "start_time": "2024-05-30T21:16:41.375Z"
   },
   {
    "duration": 1236,
    "start_time": "2024-05-30T21:17:17.144Z"
   },
   {
    "duration": 621,
    "start_time": "2024-05-30T21:17:18.469Z"
   },
   {
    "duration": 15,
    "start_time": "2024-05-30T21:17:19.416Z"
   },
   {
    "duration": 19,
    "start_time": "2024-05-30T21:17:19.597Z"
   },
   {
    "duration": 12,
    "start_time": "2024-05-30T21:17:19.936Z"
   },
   {
    "duration": 17,
    "start_time": "2024-05-30T21:17:20.171Z"
   },
   {
    "duration": 15,
    "start_time": "2024-05-30T21:17:20.481Z"
   },
   {
    "duration": 15,
    "start_time": "2024-05-30T21:17:20.757Z"
   },
   {
    "duration": 5,
    "start_time": "2024-05-30T21:17:21.186Z"
   },
   {
    "duration": 3,
    "start_time": "2024-05-30T21:17:21.425Z"
   },
   {
    "duration": 3,
    "start_time": "2024-05-30T21:17:21.664Z"
   },
   {
    "duration": 3,
    "start_time": "2024-05-30T21:17:21.947Z"
   },
   {
    "duration": 7,
    "start_time": "2024-05-30T21:17:22.183Z"
   },
   {
    "duration": 3,
    "start_time": "2024-05-30T21:17:22.862Z"
   },
   {
    "duration": 4,
    "start_time": "2024-05-30T21:17:24.105Z"
   },
   {
    "duration": 3,
    "start_time": "2024-05-30T21:17:24.342Z"
   },
   {
    "duration": 70,
    "start_time": "2024-05-30T21:17:24.616Z"
   },
   {
    "duration": 18,
    "start_time": "2024-05-30T21:17:24.866Z"
   },
   {
    "duration": 6,
    "start_time": "2024-05-30T21:17:25.287Z"
   },
   {
    "duration": 4,
    "start_time": "2024-05-30T21:17:25.533Z"
   },
   {
    "duration": 91,
    "start_time": "2024-05-30T21:17:25.966Z"
   },
   {
    "duration": 6,
    "start_time": "2024-05-30T21:17:26.197Z"
   },
   {
    "duration": 5,
    "start_time": "2024-05-30T21:17:26.448Z"
   },
   {
    "duration": 110,
    "start_time": "2024-05-30T21:17:26.716Z"
   },
   {
    "duration": 7,
    "start_time": "2024-05-30T21:17:27.014Z"
   },
   {
    "duration": 7,
    "start_time": "2024-05-30T21:17:27.268Z"
   },
   {
    "duration": 505,
    "start_time": "2024-05-30T21:17:28.433Z"
   },
   {
    "duration": 449,
    "start_time": "2024-05-30T21:17:28.939Z"
   },
   {
    "duration": 509,
    "start_time": "2024-05-30T21:17:31.002Z"
   },
   {
    "duration": 480,
    "start_time": "2024-05-30T21:17:31.512Z"
   },
   {
    "duration": 385,
    "start_time": "2024-05-30T21:17:32.452Z"
   },
   {
    "duration": 657,
    "start_time": "2024-05-30T21:17:35.927Z"
   },
   {
    "duration": 7,
    "start_time": "2024-05-30T21:17:38.371Z"
   },
   {
    "duration": 8,
    "start_time": "2024-05-30T21:17:39.480Z"
   },
   {
    "duration": 4,
    "start_time": "2024-05-30T21:17:42.684Z"
   },
   {
    "duration": 4,
    "start_time": "2024-05-30T21:17:43.886Z"
   },
   {
    "duration": 5,
    "start_time": "2024-05-30T21:17:45.938Z"
   },
   {
    "duration": 17,
    "start_time": "2024-05-30T21:17:46.603Z"
   },
   {
    "duration": 17,
    "start_time": "2024-05-30T21:17:47.509Z"
   },
   {
    "duration": 263,
    "start_time": "2024-05-30T21:17:49.629Z"
   },
   {
    "duration": 3,
    "start_time": "2024-05-30T21:17:50.521Z"
   },
   {
    "duration": 100,
    "start_time": "2024-05-30T21:17:51.387Z"
   },
   {
    "duration": 215,
    "start_time": "2024-05-30T21:18:37.478Z"
   },
   {
    "duration": 2,
    "start_time": "2024-05-30T21:18:38.002Z"
   },
   {
    "duration": 14,
    "start_time": "2024-05-30T21:18:38.721Z"
   },
   {
    "duration": 3,
    "start_time": "2024-05-30T21:18:52.986Z"
   },
   {
    "duration": 1086,
    "start_time": "2024-05-30T21:19:29.508Z"
   },
   {
    "duration": 948,
    "start_time": "2024-05-30T21:19:55.545Z"
   },
   {
    "duration": 963,
    "start_time": "2024-05-30T21:21:43.025Z"
   },
   {
    "duration": 1394,
    "start_time": "2024-05-30T21:22:08.090Z"
   },
   {
    "duration": 10,
    "start_time": "2024-05-30T21:22:53.982Z"
   },
   {
    "duration": 3,
    "start_time": "2024-05-30T21:23:30.907Z"
   },
   {
    "duration": 1461,
    "start_time": "2024-05-30T21:23:31.522Z"
   },
   {
    "duration": 1032,
    "start_time": "2024-05-30T21:23:33.355Z"
   },
   {
    "duration": 974,
    "start_time": "2024-05-30T21:24:02.115Z"
   },
   {
    "duration": 1397,
    "start_time": "2024-05-30T21:24:03.091Z"
   },
   {
    "duration": 1232,
    "start_time": "2024-05-30T21:25:02.586Z"
   },
   {
    "duration": 618,
    "start_time": "2024-05-30T21:25:03.819Z"
   },
   {
    "duration": 14,
    "start_time": "2024-05-30T21:25:04.439Z"
   },
   {
    "duration": 51,
    "start_time": "2024-05-30T21:25:04.454Z"
   },
   {
    "duration": 51,
    "start_time": "2024-05-30T21:25:04.506Z"
   },
   {
    "duration": 50,
    "start_time": "2024-05-30T21:25:04.558Z"
   },
   {
    "duration": 43,
    "start_time": "2024-05-30T21:25:04.609Z"
   },
   {
    "duration": 29,
    "start_time": "2024-05-30T21:25:04.653Z"
   },
   {
    "duration": 6,
    "start_time": "2024-05-30T21:25:04.945Z"
   },
   {
    "duration": 3,
    "start_time": "2024-05-30T21:25:05.215Z"
   },
   {
    "duration": 4,
    "start_time": "2024-05-30T21:25:05.451Z"
   },
   {
    "duration": 2,
    "start_time": "2024-05-30T21:25:05.690Z"
   },
   {
    "duration": 6,
    "start_time": "2024-05-30T21:25:05.926Z"
   },
   {
    "duration": 4,
    "start_time": "2024-05-30T21:25:06.538Z"
   },
   {
    "duration": 4,
    "start_time": "2024-05-30T21:25:07.769Z"
   },
   {
    "duration": 4,
    "start_time": "2024-05-30T21:25:08.003Z"
   },
   {
    "duration": 68,
    "start_time": "2024-05-30T21:25:08.238Z"
   },
   {
    "duration": 19,
    "start_time": "2024-05-30T21:25:08.478Z"
   },
   {
    "duration": 7,
    "start_time": "2024-05-30T21:25:08.906Z"
   },
   {
    "duration": 5,
    "start_time": "2024-05-30T21:25:09.146Z"
   },
   {
    "duration": 103,
    "start_time": "2024-05-30T21:25:09.582Z"
   },
   {
    "duration": 6,
    "start_time": "2024-05-30T21:25:09.883Z"
   },
   {
    "duration": 5,
    "start_time": "2024-05-30T21:25:10.123Z"
   },
   {
    "duration": 111,
    "start_time": "2024-05-30T21:25:10.367Z"
   },
   {
    "duration": 7,
    "start_time": "2024-05-30T21:25:10.675Z"
   },
   {
    "duration": 8,
    "start_time": "2024-05-30T21:25:10.912Z"
   },
   {
    "duration": 522,
    "start_time": "2024-05-30T21:25:12.083Z"
   },
   {
    "duration": 470,
    "start_time": "2024-05-30T21:25:12.607Z"
   },
   {
    "duration": 503,
    "start_time": "2024-05-30T21:25:13.079Z"
   },
   {
    "duration": 480,
    "start_time": "2024-05-30T21:25:13.584Z"
   },
   {
    "duration": 366,
    "start_time": "2024-05-30T21:25:14.365Z"
   },
   {
    "duration": 641,
    "start_time": "2024-05-30T21:25:15.543Z"
   },
   {
    "duration": 7,
    "start_time": "2024-05-30T21:25:16.194Z"
   },
   {
    "duration": 8,
    "start_time": "2024-05-30T21:25:16.446Z"
   },
   {
    "duration": 3,
    "start_time": "2024-05-30T21:25:17.611Z"
   },
   {
    "duration": 4,
    "start_time": "2024-05-30T21:25:19.632Z"
   },
   {
    "duration": 7,
    "start_time": "2024-05-30T21:25:21.234Z"
   },
   {
    "duration": 16,
    "start_time": "2024-05-30T21:25:21.463Z"
   },
   {
    "duration": 17,
    "start_time": "2024-05-30T21:25:21.868Z"
   },
   {
    "duration": 254,
    "start_time": "2024-05-30T21:25:23.131Z"
   },
   {
    "duration": 5,
    "start_time": "2024-05-30T21:25:23.387Z"
   },
   {
    "duration": 1036,
    "start_time": "2024-05-30T21:25:23.755Z"
   },
   {
    "duration": 1396,
    "start_time": "2024-05-30T21:25:24.794Z"
   },
   {
    "duration": 1161,
    "start_time": "2024-05-30T21:25:54.527Z"
   },
   {
    "duration": 67,
    "start_time": "2024-05-30T21:27:22.132Z"
   },
   {
    "duration": 1307,
    "start_time": "2024-05-30T21:27:29.178Z"
   },
   {
    "duration": 1181,
    "start_time": "2024-05-30T21:27:56.406Z"
   },
   {
    "duration": 1072,
    "start_time": "2024-05-30T21:28:34.422Z"
   },
   {
    "duration": 1174,
    "start_time": "2024-05-30T21:28:58.011Z"
   },
   {
    "duration": 100,
    "start_time": "2024-05-30T21:29:27.045Z"
   },
   {
    "duration": 3,
    "start_time": "2024-05-30T21:37:35.148Z"
   },
   {
    "duration": 3,
    "start_time": "2024-05-30T21:37:47.956Z"
   },
   {
    "duration": 948,
    "start_time": "2024-05-30T21:39:18.436Z"
   },
   {
    "duration": 953,
    "start_time": "2024-05-30T21:39:28.538Z"
   },
   {
    "duration": 4,
    "start_time": "2024-05-30T21:39:39.688Z"
   },
   {
    "duration": 1002,
    "start_time": "2024-05-30T21:40:03.291Z"
   },
   {
    "duration": 1398,
    "start_time": "2024-05-30T21:40:04.294Z"
   },
   {
    "duration": 4,
    "start_time": "2024-05-30T21:40:05.784Z"
   },
   {
    "duration": 14,
    "start_time": "2024-05-30T21:41:22.478Z"
   },
   {
    "duration": 3,
    "start_time": "2024-05-30T21:41:57.468Z"
   },
   {
    "duration": 11,
    "start_time": "2024-05-30T21:42:29.839Z"
   },
   {
    "duration": 4,
    "start_time": "2024-05-30T21:42:57.745Z"
   },
   {
    "duration": 5,
    "start_time": "2024-05-30T21:44:48.492Z"
   },
   {
    "duration": 13,
    "start_time": "2024-05-30T21:45:19.769Z"
   },
   {
    "duration": 7,
    "start_time": "2024-05-30T21:45:27.057Z"
   },
   {
    "duration": 9,
    "start_time": "2024-05-30T21:45:52.634Z"
   },
   {
    "duration": 5,
    "start_time": "2024-05-30T21:45:56.588Z"
   },
   {
    "duration": 9,
    "start_time": "2024-05-30T21:45:57.787Z"
   },
   {
    "duration": 2,
    "start_time": "2024-05-30T21:46:40.115Z"
   },
   {
    "duration": 12,
    "start_time": "2024-05-30T21:46:41.321Z"
   },
   {
    "duration": 1837,
    "start_time": "2024-05-31T06:55:31.428Z"
   },
   {
    "duration": 1360,
    "start_time": "2024-05-31T06:55:33.268Z"
   },
   {
    "duration": 18,
    "start_time": "2024-05-31T06:55:34.630Z"
   },
   {
    "duration": 25,
    "start_time": "2024-05-31T06:55:35.291Z"
   },
   {
    "duration": 13,
    "start_time": "2024-05-31T06:55:35.620Z"
   },
   {
    "duration": 25,
    "start_time": "2024-05-31T06:55:35.816Z"
   },
   {
    "duration": 17,
    "start_time": "2024-05-31T06:55:35.929Z"
   },
   {
    "duration": 21,
    "start_time": "2024-05-31T06:55:36.143Z"
   },
   {
    "duration": 12,
    "start_time": "2024-05-31T06:55:36.569Z"
   },
   {
    "duration": 5,
    "start_time": "2024-05-31T06:55:36.866Z"
   },
   {
    "duration": 7,
    "start_time": "2024-05-31T06:55:37.004Z"
   },
   {
    "duration": 6,
    "start_time": "2024-05-31T06:55:37.224Z"
   },
   {
    "duration": 8,
    "start_time": "2024-05-31T06:55:37.493Z"
   },
   {
    "duration": 4,
    "start_time": "2024-05-31T06:55:38.065Z"
   },
   {
    "duration": 8,
    "start_time": "2024-05-31T06:55:39.290Z"
   },
   {
    "duration": 4,
    "start_time": "2024-05-31T06:55:39.487Z"
   },
   {
    "duration": 69,
    "start_time": "2024-05-31T06:55:39.816Z"
   },
   {
    "duration": 22,
    "start_time": "2024-05-31T06:55:39.887Z"
   },
   {
    "duration": 8,
    "start_time": "2024-05-31T06:55:40.254Z"
   },
   {
    "duration": 5,
    "start_time": "2024-05-31T06:55:40.509Z"
   },
   {
    "duration": 129,
    "start_time": "2024-05-31T06:55:41.064Z"
   },
   {
    "duration": 7,
    "start_time": "2024-05-31T06:55:41.416Z"
   },
   {
    "duration": 6,
    "start_time": "2024-05-31T06:55:41.636Z"
   },
   {
    "duration": 133,
    "start_time": "2024-05-31T06:55:41.816Z"
   },
   {
    "duration": 7,
    "start_time": "2024-05-31T06:55:42.053Z"
   },
   {
    "duration": 6,
    "start_time": "2024-05-31T06:55:42.163Z"
   },
   {
    "duration": 679,
    "start_time": "2024-05-31T06:55:43.446Z"
   },
   {
    "duration": 563,
    "start_time": "2024-05-31T06:55:44.127Z"
   },
   {
    "duration": 738,
    "start_time": "2024-05-31T06:55:44.692Z"
   },
   {
    "duration": 641,
    "start_time": "2024-05-31T06:55:45.432Z"
   },
   {
    "duration": 407,
    "start_time": "2024-05-31T06:55:46.075Z"
   },
   {
    "duration": 938,
    "start_time": "2024-05-31T06:55:47.571Z"
   },
   {
    "duration": 10,
    "start_time": "2024-05-31T06:55:48.511Z"
   },
   {
    "duration": 13,
    "start_time": "2024-05-31T06:55:49.693Z"
   },
   {
    "duration": 5,
    "start_time": "2024-05-31T06:55:52.233Z"
   },
   {
    "duration": 4,
    "start_time": "2024-05-31T06:55:53.568Z"
   },
   {
    "duration": 9,
    "start_time": "2024-05-31T06:55:55.931Z"
   },
   {
    "duration": 22,
    "start_time": "2024-05-31T06:55:56.447Z"
   },
   {
    "duration": 22,
    "start_time": "2024-05-31T06:55:57.396Z"
   },
   {
    "duration": 416,
    "start_time": "2024-05-31T06:56:02.857Z"
   },
   {
    "duration": 4,
    "start_time": "2024-05-31T06:56:03.474Z"
   },
   {
    "duration": 111,
    "start_time": "2024-05-31T06:57:10.377Z"
   },
   {
    "duration": 17,
    "start_time": "2024-05-31T06:57:37.850Z"
   },
   {
    "duration": 19,
    "start_time": "2024-05-31T07:06:16.830Z"
   },
   {
    "duration": 4,
    "start_time": "2024-05-31T07:15:07.464Z"
   },
   {
    "duration": 1143,
    "start_time": "2024-05-31T07:15:07.928Z"
   },
   {
    "duration": 1112,
    "start_time": "2024-05-31T07:15:09.255Z"
   },
   {
    "duration": 3,
    "start_time": "2024-05-31T07:15:10.466Z"
   },
   {
    "duration": 10,
    "start_time": "2024-05-31T07:16:30.281Z"
   },
   {
    "duration": 1457,
    "start_time": "2024-05-31T07:16:38.510Z"
   },
   {
    "duration": 236,
    "start_time": "2024-05-31T07:18:59.046Z"
   },
   {
    "duration": 324,
    "start_time": "2024-05-31T07:19:13.963Z"
   },
   {
    "duration": 254,
    "start_time": "2024-05-31T07:20:04.562Z"
   },
   {
    "duration": 1422,
    "start_time": "2024-05-31T07:20:57.256Z"
   },
   {
    "duration": 900,
    "start_time": "2024-05-31T07:20:58.679Z"
   },
   {
    "duration": 18,
    "start_time": "2024-05-31T07:20:59.580Z"
   },
   {
    "duration": 23,
    "start_time": "2024-05-31T07:20:59.601Z"
   },
   {
    "duration": 12,
    "start_time": "2024-05-31T07:20:59.626Z"
   },
   {
    "duration": 45,
    "start_time": "2024-05-31T07:20:59.639Z"
   },
   {
    "duration": 25,
    "start_time": "2024-05-31T07:20:59.686Z"
   },
   {
    "duration": 19,
    "start_time": "2024-05-31T07:20:59.713Z"
   },
   {
    "duration": 7,
    "start_time": "2024-05-31T07:20:59.734Z"
   },
   {
    "duration": 4,
    "start_time": "2024-05-31T07:20:59.878Z"
   },
   {
    "duration": 5,
    "start_time": "2024-05-31T07:21:00.164Z"
   },
   {
    "duration": 3,
    "start_time": "2024-05-31T07:21:00.402Z"
   },
   {
    "duration": 8,
    "start_time": "2024-05-31T07:21:00.625Z"
   },
   {
    "duration": 4,
    "start_time": "2024-05-31T07:21:01.217Z"
   },
   {
    "duration": 6,
    "start_time": "2024-05-31T07:21:02.498Z"
   },
   {
    "duration": 4,
    "start_time": "2024-05-31T07:21:02.647Z"
   },
   {
    "duration": 71,
    "start_time": "2024-05-31T07:21:03.023Z"
   },
   {
    "duration": 20,
    "start_time": "2024-05-31T07:21:03.101Z"
   },
   {
    "duration": 7,
    "start_time": "2024-05-31T07:21:03.547Z"
   },
   {
    "duration": 6,
    "start_time": "2024-05-31T07:21:03.763Z"
   },
   {
    "duration": 124,
    "start_time": "2024-05-31T07:21:04.227Z"
   },
   {
    "duration": 8,
    "start_time": "2024-05-31T07:21:04.596Z"
   },
   {
    "duration": 5,
    "start_time": "2024-05-31T07:21:04.802Z"
   },
   {
    "duration": 135,
    "start_time": "2024-05-31T07:21:05.120Z"
   },
   {
    "duration": 9,
    "start_time": "2024-05-31T07:21:05.414Z"
   },
   {
    "duration": 10,
    "start_time": "2024-05-31T07:21:05.659Z"
   },
   {
    "duration": 668,
    "start_time": "2024-05-31T07:21:06.778Z"
   },
   {
    "duration": 582,
    "start_time": "2024-05-31T07:21:07.448Z"
   },
   {
    "duration": 695,
    "start_time": "2024-05-31T07:21:08.324Z"
   },
   {
    "duration": 605,
    "start_time": "2024-05-31T07:21:09.021Z"
   },
   {
    "duration": 419,
    "start_time": "2024-05-31T07:21:09.842Z"
   },
   {
    "duration": 901,
    "start_time": "2024-05-31T07:21:11.288Z"
   },
   {
    "duration": 9,
    "start_time": "2024-05-31T07:21:16.355Z"
   },
   {
    "duration": 11,
    "start_time": "2024-05-31T07:21:17.378Z"
   },
   {
    "duration": 4,
    "start_time": "2024-05-31T07:21:20.459Z"
   },
   {
    "duration": 5,
    "start_time": "2024-05-31T07:21:21.551Z"
   },
   {
    "duration": 8,
    "start_time": "2024-05-31T07:21:23.560Z"
   },
   {
    "duration": 22,
    "start_time": "2024-05-31T07:21:24.309Z"
   },
   {
    "duration": 25,
    "start_time": "2024-05-31T07:21:24.845Z"
   },
   {
    "duration": 377,
    "start_time": "2024-05-31T07:21:26.489Z"
   },
   {
    "duration": 3,
    "start_time": "2024-05-31T07:21:27.195Z"
   },
   {
    "duration": 384,
    "start_time": "2024-05-31T07:21:28.155Z"
   },
   {
    "duration": 9,
    "start_time": "2024-05-31T07:21:29.894Z"
   },
   {
    "duration": 9,
    "start_time": "2024-05-31T07:21:55.584Z"
   },
   {
    "duration": 17,
    "start_time": "2024-05-31T07:22:04.334Z"
   },
   {
    "duration": 443,
    "start_time": "2024-05-31T07:22:17.428Z"
   },
   {
    "duration": 34,
    "start_time": "2024-05-31T07:22:18.031Z"
   },
   {
    "duration": 16,
    "start_time": "2024-05-31T07:22:18.661Z"
   },
   {
    "duration": 19,
    "start_time": "2024-05-31T07:22:28.914Z"
   },
   {
    "duration": 12,
    "start_time": "2024-05-31T07:22:29.812Z"
   },
   {
    "duration": 4,
    "start_time": "2024-05-31T07:23:21.248Z"
   },
   {
    "duration": 15,
    "start_time": "2024-05-31T07:23:25.329Z"
   },
   {
    "duration": 1231,
    "start_time": "2024-05-31T07:23:57.835Z"
   },
   {
    "duration": 1233,
    "start_time": "2024-05-31T07:25:15.836Z"
   },
   {
    "duration": 1492,
    "start_time": "2024-05-31T07:25:17.072Z"
   },
   {
    "duration": 4,
    "start_time": "2024-05-31T07:25:18.567Z"
   },
   {
    "duration": 4,
    "start_time": "2024-05-31T07:33:24.208Z"
   },
   {
    "duration": 11,
    "start_time": "2024-05-31T07:33:32.453Z"
   },
   {
    "duration": 12,
    "start_time": "2024-05-31T07:33:55.252Z"
   },
   {
    "duration": 35010,
    "start_time": "2024-05-31T07:34:29.381Z"
   },
   {
    "duration": 59,
    "start_time": "2024-05-31T07:36:35.190Z"
   },
   {
    "duration": 64,
    "start_time": "2024-05-31T07:36:53.619Z"
   },
   {
    "duration": 33449,
    "start_time": "2024-05-31T07:37:04.599Z"
   },
   {
    "duration": 1222,
    "start_time": "2024-05-31T07:39:14.340Z"
   },
   {
    "duration": 3,
    "start_time": "2024-05-31T07:39:15.771Z"
   },
   {
    "duration": 36400,
    "start_time": "2024-05-31T07:39:33.241Z"
   },
   {
    "duration": 35762,
    "start_time": "2024-05-31T07:40:09.643Z"
   },
   {
    "duration": 1269,
    "start_time": "2024-05-31T07:40:45.407Z"
   },
   {
    "duration": 3,
    "start_time": "2024-05-31T07:40:46.679Z"
   },
   {
    "duration": 1269,
    "start_time": "2024-05-31T07:42:05.326Z"
   },
   {
    "duration": 4,
    "start_time": "2024-05-31T07:42:06.596Z"
   },
   {
    "duration": 1277,
    "start_time": "2024-05-31T07:42:59.645Z"
   },
   {
    "duration": 4,
    "start_time": "2024-05-31T07:43:03.245Z"
   },
   {
    "duration": 2639,
    "start_time": "2024-05-31T07:43:05.178Z"
   },
   {
    "duration": 2576,
    "start_time": "2024-05-31T07:44:01.367Z"
   },
   {
    "duration": 2419,
    "start_time": "2024-05-31T07:44:29.364Z"
   },
   {
    "duration": 3,
    "start_time": "2024-05-31T07:45:51.449Z"
   },
   {
    "duration": 1313,
    "start_time": "2024-05-31T07:49:24.261Z"
   },
   {
    "duration": 11,
    "start_time": "2024-05-31T07:49:56.455Z"
   },
   {
    "duration": 1291,
    "start_time": "2024-05-31T08:11:35.505Z"
   },
   {
    "duration": 849,
    "start_time": "2024-05-31T08:11:36.798Z"
   },
   {
    "duration": 22,
    "start_time": "2024-05-31T08:11:37.649Z"
   },
   {
    "duration": 24,
    "start_time": "2024-05-31T08:11:37.672Z"
   },
   {
    "duration": 15,
    "start_time": "2024-05-31T08:11:39.147Z"
   },
   {
    "duration": 19,
    "start_time": "2024-05-31T08:11:39.913Z"
   },
   {
    "duration": 17,
    "start_time": "2024-05-31T08:11:40.628Z"
   },
   {
    "duration": 19,
    "start_time": "2024-05-31T08:11:41.048Z"
   },
   {
    "duration": 6,
    "start_time": "2024-05-31T08:11:42.884Z"
   },
   {
    "duration": 4,
    "start_time": "2024-05-31T08:11:43.670Z"
   },
   {
    "duration": 4,
    "start_time": "2024-05-31T08:11:43.897Z"
   },
   {
    "duration": 4,
    "start_time": "2024-05-31T08:11:44.083Z"
   },
   {
    "duration": 7,
    "start_time": "2024-05-31T08:11:44.319Z"
   },
   {
    "duration": 10,
    "start_time": "2024-05-31T08:11:45.121Z"
   },
   {
    "duration": 5,
    "start_time": "2024-05-31T08:11:46.496Z"
   },
   {
    "duration": 4,
    "start_time": "2024-05-31T08:11:46.746Z"
   },
   {
    "duration": 77,
    "start_time": "2024-05-31T08:11:46.999Z"
   },
   {
    "duration": 21,
    "start_time": "2024-05-31T08:11:47.257Z"
   },
   {
    "duration": 7,
    "start_time": "2024-05-31T08:11:47.711Z"
   },
   {
    "duration": 6,
    "start_time": "2024-05-31T08:11:47.973Z"
   },
   {
    "duration": 124,
    "start_time": "2024-05-31T08:11:48.441Z"
   },
   {
    "duration": 8,
    "start_time": "2024-05-31T08:11:48.770Z"
   },
   {
    "duration": 4,
    "start_time": "2024-05-31T08:11:49.038Z"
   },
   {
    "duration": 136,
    "start_time": "2024-05-31T08:11:49.299Z"
   },
   {
    "duration": 9,
    "start_time": "2024-05-31T08:11:49.624Z"
   },
   {
    "duration": 8,
    "start_time": "2024-05-31T08:11:49.912Z"
   },
   {
    "duration": 674,
    "start_time": "2024-05-31T08:11:51.196Z"
   },
   {
    "duration": 559,
    "start_time": "2024-05-31T08:11:51.872Z"
   },
   {
    "duration": 682,
    "start_time": "2024-05-31T08:11:52.433Z"
   },
   {
    "duration": 567,
    "start_time": "2024-05-31T08:11:53.117Z"
   },
   {
    "duration": 393,
    "start_time": "2024-05-31T08:11:53.758Z"
   },
   {
    "duration": 828,
    "start_time": "2024-05-31T08:11:55.854Z"
   },
   {
    "duration": 10,
    "start_time": "2024-05-31T08:11:58.229Z"
   },
   {
    "duration": 11,
    "start_time": "2024-05-31T08:12:00.050Z"
   },
   {
    "duration": 5,
    "start_time": "2024-05-31T08:12:10.125Z"
   },
   {
    "duration": 4,
    "start_time": "2024-05-31T08:12:14.182Z"
   },
   {
    "duration": 8,
    "start_time": "2024-05-31T08:12:22.513Z"
   },
   {
    "duration": 19,
    "start_time": "2024-05-31T08:12:23.681Z"
   },
   {
    "duration": 21,
    "start_time": "2024-05-31T08:12:25.268Z"
   },
   {
    "duration": 307,
    "start_time": "2024-05-31T08:12:27.561Z"
   },
   {
    "duration": 4,
    "start_time": "2024-05-31T08:12:28.292Z"
   },
   {
    "duration": 103,
    "start_time": "2024-05-31T08:12:30.837Z"
   },
   {
    "duration": 1346,
    "start_time": "2024-05-31T08:12:39.125Z"
   },
   {
    "duration": 1248,
    "start_time": "2024-05-31T08:13:09.423Z"
   },
   {
    "duration": 2174,
    "start_time": "2024-05-31T08:13:26.195Z"
   },
   {
    "duration": 1466,
    "start_time": "2024-05-31T08:14:32.304Z"
   },
   {
    "duration": 3,
    "start_time": "2024-05-31T08:14:54.575Z"
   },
   {
    "duration": 3,
    "start_time": "2024-05-31T08:21:48.559Z"
   },
   {
    "duration": 34994,
    "start_time": "2024-05-31T08:21:52.925Z"
   },
   {
    "duration": 33201,
    "start_time": "2024-05-31T08:22:27.921Z"
   },
   {
    "duration": 1191,
    "start_time": "2024-05-31T08:23:01.124Z"
   },
   {
    "duration": 4,
    "start_time": "2024-05-31T08:23:02.317Z"
   },
   {
    "duration": 2368,
    "start_time": "2024-05-31T08:23:02.322Z"
   },
   {
    "duration": 2294,
    "start_time": "2024-05-31T08:23:04.692Z"
   },
   {
    "duration": 3,
    "start_time": "2024-05-31T08:23:06.987Z"
   },
   {
    "duration": 402,
    "start_time": "2024-05-31T08:23:50.360Z"
   },
   {
    "duration": 378,
    "start_time": "2024-05-31T08:24:04.906Z"
   },
   {
    "duration": 34844,
    "start_time": "2024-05-31T08:27:30.358Z"
   },
   {
    "duration": 33336,
    "start_time": "2024-05-31T08:28:34.803Z"
   },
   {
    "duration": 1187,
    "start_time": "2024-05-31T08:29:08.140Z"
   },
   {
    "duration": 3,
    "start_time": "2024-05-31T08:29:09.328Z"
   },
   {
    "duration": 2414,
    "start_time": "2024-05-31T08:29:09.333Z"
   },
   {
    "duration": 2261,
    "start_time": "2024-05-31T08:29:11.752Z"
   },
   {
    "duration": 3,
    "start_time": "2024-05-31T08:29:14.014Z"
   },
   {
    "duration": 58,
    "start_time": "2024-05-31T08:30:31.940Z"
   },
   {
    "duration": 4,
    "start_time": "2024-05-31T08:33:22.266Z"
   },
   {
    "duration": 4,
    "start_time": "2024-05-31T08:33:25.490Z"
   },
   {
    "duration": 8,
    "start_time": "2024-05-31T08:33:26.746Z"
   },
   {
    "duration": 21,
    "start_time": "2024-05-31T08:33:27.188Z"
   },
   {
    "duration": 19,
    "start_time": "2024-05-31T08:33:27.647Z"
   },
   {
    "duration": 434,
    "start_time": "2024-05-31T08:33:29.132Z"
   },
   {
    "duration": 4,
    "start_time": "2024-05-31T08:33:30.079Z"
   },
   {
    "duration": 1269,
    "start_time": "2024-05-31T08:33:30.502Z"
   },
   {
    "duration": 1449,
    "start_time": "2024-05-31T08:33:38.120Z"
   },
   {
    "duration": 4,
    "start_time": "2024-05-31T08:33:39.664Z"
   },
   {
    "duration": 37955,
    "start_time": "2024-05-31T08:34:19.511Z"
   },
   {
    "duration": 36603,
    "start_time": "2024-05-31T08:34:57.469Z"
   },
   {
    "duration": 1241,
    "start_time": "2024-05-31T08:35:34.074Z"
   },
   {
    "duration": 3,
    "start_time": "2024-05-31T08:35:35.317Z"
   },
   {
    "duration": 2596,
    "start_time": "2024-05-31T08:35:35.322Z"
   },
   {
    "duration": 2506,
    "start_time": "2024-05-31T08:35:37.921Z"
   },
   {
    "duration": 3,
    "start_time": "2024-05-31T08:35:40.428Z"
   },
   {
    "duration": 60,
    "start_time": "2024-05-31T08:36:12.805Z"
   },
   {
    "duration": 59,
    "start_time": "2024-05-31T08:38:04.054Z"
   },
   {
    "duration": 45,
    "start_time": "2024-05-31T08:47:46.823Z"
   },
   {
    "duration": 85,
    "start_time": "2024-05-31T08:48:57.084Z"
   },
   {
    "duration": 163,
    "start_time": "2024-05-31T08:49:12.302Z"
   },
   {
    "duration": 18,
    "start_time": "2024-05-31T08:54:22.152Z"
   },
   {
    "duration": 136,
    "start_time": "2024-05-31T08:55:05.568Z"
   },
   {
    "duration": 10,
    "start_time": "2024-05-31T08:59:17.532Z"
   },
   {
    "duration": 10,
    "start_time": "2024-05-31T09:00:03.072Z"
   },
   {
    "duration": 11,
    "start_time": "2024-05-31T09:03:28.410Z"
   },
   {
    "duration": 6,
    "start_time": "2024-05-31T09:10:12.706Z"
   },
   {
    "duration": 5,
    "start_time": "2024-05-31T09:10:55.040Z"
   },
   {
    "duration": 5,
    "start_time": "2024-05-31T09:11:47.797Z"
   },
   {
    "duration": 147,
    "start_time": "2024-05-31T09:15:01.326Z"
   },
   {
    "duration": 6,
    "start_time": "2024-05-31T09:15:01.664Z"
   },
   {
    "duration": 63,
    "start_time": "2024-05-31T09:15:02.103Z"
   },
   {
    "duration": 6,
    "start_time": "2024-05-31T09:15:03.107Z"
   },
   {
    "duration": 4,
    "start_time": "2024-05-31T09:16:32.550Z"
   },
   {
    "duration": 6,
    "start_time": "2024-05-31T09:22:50.485Z"
   },
   {
    "duration": 3,
    "start_time": "2024-05-31T09:23:13.942Z"
   },
   {
    "duration": 1860,
    "start_time": "2024-05-31T09:23:31.008Z"
   },
   {
    "duration": 1188,
    "start_time": "2024-05-31T09:23:40.187Z"
   },
   {
    "duration": 5,
    "start_time": "2024-05-31T09:25:29.849Z"
   },
   {
    "duration": 2551,
    "start_time": "2024-05-31T09:27:47.622Z"
   },
   {
    "duration": 7,
    "start_time": "2024-05-31T09:27:50.177Z"
   },
   {
    "duration": 6,
    "start_time": "2024-05-31T09:28:52.550Z"
   },
   {
    "duration": 2296,
    "start_time": "2024-05-31T09:29:01.417Z"
   },
   {
    "duration": 4,
    "start_time": "2024-05-31T09:29:23.719Z"
   },
   {
    "duration": 3,
    "start_time": "2024-05-31T09:29:34.023Z"
   },
   {
    "duration": 1522,
    "start_time": "2024-06-01T08:00:09.937Z"
   },
   {
    "duration": 3653,
    "start_time": "2024-06-01T08:00:11.461Z"
   },
   {
    "duration": 16,
    "start_time": "2024-06-01T08:00:15.116Z"
   },
   {
    "duration": 26,
    "start_time": "2024-06-01T08:00:15.134Z"
   },
   {
    "duration": 11,
    "start_time": "2024-06-01T08:00:15.161Z"
   },
   {
    "duration": 20,
    "start_time": "2024-06-01T08:00:15.174Z"
   },
   {
    "duration": 30,
    "start_time": "2024-06-01T08:00:15.200Z"
   },
   {
    "duration": 39,
    "start_time": "2024-06-01T08:00:15.231Z"
   },
   {
    "duration": 10,
    "start_time": "2024-06-01T08:00:15.272Z"
   },
   {
    "duration": 33,
    "start_time": "2024-06-01T08:00:15.284Z"
   },
   {
    "duration": 5,
    "start_time": "2024-06-01T08:00:15.319Z"
   },
   {
    "duration": 10,
    "start_time": "2024-06-01T08:00:15.325Z"
   },
   {
    "duration": 19,
    "start_time": "2024-06-01T08:00:15.336Z"
   },
   {
    "duration": 4,
    "start_time": "2024-06-01T08:00:15.356Z"
   },
   {
    "duration": 19,
    "start_time": "2024-06-01T08:00:15.361Z"
   },
   {
    "duration": 5,
    "start_time": "2024-06-01T08:00:15.382Z"
   },
   {
    "duration": 74,
    "start_time": "2024-06-01T08:00:15.388Z"
   },
   {
    "duration": 20,
    "start_time": "2024-06-01T08:00:15.463Z"
   },
   {
    "duration": 6,
    "start_time": "2024-06-01T08:00:15.484Z"
   },
   {
    "duration": 5,
    "start_time": "2024-06-01T08:00:15.499Z"
   },
   {
    "duration": 120,
    "start_time": "2024-06-01T08:00:15.505Z"
   },
   {
    "duration": 7,
    "start_time": "2024-06-01T08:00:15.627Z"
   },
   {
    "duration": 17,
    "start_time": "2024-06-01T08:00:15.635Z"
   },
   {
    "duration": 136,
    "start_time": "2024-06-01T08:00:15.654Z"
   },
   {
    "duration": 13,
    "start_time": "2024-06-01T08:00:15.791Z"
   },
   {
    "duration": 8,
    "start_time": "2024-06-01T08:00:15.805Z"
   },
   {
    "duration": 697,
    "start_time": "2024-06-01T08:00:15.814Z"
   },
   {
    "duration": 580,
    "start_time": "2024-06-01T08:00:16.514Z"
   },
   {
    "duration": 670,
    "start_time": "2024-06-01T08:00:17.096Z"
   },
   {
    "duration": 569,
    "start_time": "2024-06-01T08:00:17.767Z"
   },
   {
    "duration": 440,
    "start_time": "2024-06-01T08:00:18.338Z"
   },
   {
    "duration": 820,
    "start_time": "2024-06-01T08:00:18.779Z"
   },
   {
    "duration": 8,
    "start_time": "2024-06-01T08:00:19.601Z"
   },
   {
    "duration": 9,
    "start_time": "2024-06-01T08:00:19.610Z"
   },
   {
    "duration": 4,
    "start_time": "2024-06-01T08:00:19.620Z"
   },
   {
    "duration": 4,
    "start_time": "2024-06-01T08:00:19.626Z"
   },
   {
    "duration": 11,
    "start_time": "2024-06-01T08:00:19.631Z"
   },
   {
    "duration": 17,
    "start_time": "2024-06-01T08:00:19.644Z"
   },
   {
    "duration": 50,
    "start_time": "2024-06-01T08:00:19.663Z"
   },
   {
    "duration": 286,
    "start_time": "2024-06-01T08:00:19.714Z"
   },
   {
    "duration": 1504,
    "start_time": "2024-06-01T08:00:20.002Z"
   },
   {
    "duration": 7,
    "start_time": "2024-06-01T08:00:21.508Z"
   },
   {
    "duration": 1483,
    "start_time": "2024-06-01T08:00:21.517Z"
   },
   {
    "duration": 6,
    "start_time": "2024-06-01T08:00:23.001Z"
   },
   {
    "duration": 10,
    "start_time": "2024-06-01T08:00:23.008Z"
   },
   {
    "duration": 174,
    "start_time": "2024-06-01T08:00:23.019Z"
   },
   {
    "duration": 0,
    "start_time": "2024-06-01T08:00:23.194Z"
   },
   {
    "duration": 0,
    "start_time": "2024-06-01T08:00:23.195Z"
   },
   {
    "duration": 0,
    "start_time": "2024-06-01T08:00:23.196Z"
   },
   {
    "duration": 0,
    "start_time": "2024-06-01T08:00:23.196Z"
   },
   {
    "duration": 0,
    "start_time": "2024-06-01T08:00:23.197Z"
   },
   {
    "duration": 0,
    "start_time": "2024-06-01T08:00:23.197Z"
   },
   {
    "duration": 0,
    "start_time": "2024-06-01T08:00:23.200Z"
   },
   {
    "duration": 0,
    "start_time": "2024-06-01T08:00:23.201Z"
   },
   {
    "duration": 1,
    "start_time": "2024-06-01T08:00:23.201Z"
   },
   {
    "duration": 0,
    "start_time": "2024-06-01T08:00:23.202Z"
   },
   {
    "duration": 0,
    "start_time": "2024-06-01T08:00:23.203Z"
   },
   {
    "duration": 0,
    "start_time": "2024-06-01T08:00:23.204Z"
   },
   {
    "duration": 4,
    "start_time": "2024-06-01T08:00:49.624Z"
   },
   {
    "duration": 772,
    "start_time": "2024-06-01T08:00:50.662Z"
   },
   {
    "duration": 1343,
    "start_time": "2024-06-01T08:01:05.661Z"
   },
   {
    "duration": 760,
    "start_time": "2024-06-01T08:01:08.517Z"
   },
   {
    "duration": 21,
    "start_time": "2024-06-01T08:01:09.279Z"
   },
   {
    "duration": 22,
    "start_time": "2024-06-01T08:01:09.302Z"
   },
   {
    "duration": 11,
    "start_time": "2024-06-01T08:01:09.326Z"
   },
   {
    "duration": 20,
    "start_time": "2024-06-01T08:01:09.431Z"
   },
   {
    "duration": 16,
    "start_time": "2024-06-01T08:01:09.655Z"
   },
   {
    "duration": 18,
    "start_time": "2024-06-01T08:01:09.878Z"
   },
   {
    "duration": 6,
    "start_time": "2024-06-01T08:01:11.019Z"
   },
   {
    "duration": 3,
    "start_time": "2024-06-01T08:01:12.179Z"
   },
   {
    "duration": 5,
    "start_time": "2024-06-01T08:01:12.456Z"
   },
   {
    "duration": 3,
    "start_time": "2024-06-01T08:01:12.854Z"
   },
   {
    "duration": 7,
    "start_time": "2024-06-01T08:01:13.160Z"
   },
   {
    "duration": 4,
    "start_time": "2024-06-01T08:01:14.369Z"
   },
   {
    "duration": 5,
    "start_time": "2024-06-01T08:01:17.431Z"
   },
   {
    "duration": 4,
    "start_time": "2024-06-01T08:01:17.756Z"
   },
   {
    "duration": 69,
    "start_time": "2024-06-01T08:01:17.989Z"
   },
   {
    "duration": 20,
    "start_time": "2024-06-01T08:01:18.229Z"
   },
   {
    "duration": 8,
    "start_time": "2024-06-01T08:01:18.930Z"
   },
   {
    "duration": 6,
    "start_time": "2024-06-01T08:01:19.539Z"
   },
   {
    "duration": 115,
    "start_time": "2024-06-01T08:01:21.089Z"
   },
   {
    "duration": 6,
    "start_time": "2024-06-01T08:01:21.998Z"
   },
   {
    "duration": 4,
    "start_time": "2024-06-01T08:01:22.236Z"
   },
   {
    "duration": 143,
    "start_time": "2024-06-01T08:01:22.440Z"
   },
   {
    "duration": 7,
    "start_time": "2024-06-01T08:01:22.706Z"
   },
   {
    "duration": 8,
    "start_time": "2024-06-01T08:01:22.902Z"
   },
   {
    "duration": 621,
    "start_time": "2024-06-01T08:01:24.508Z"
   },
   {
    "duration": 563,
    "start_time": "2024-06-01T08:01:26.035Z"
   },
   {
    "duration": 617,
    "start_time": "2024-06-01T08:01:26.660Z"
   },
   {
    "duration": 556,
    "start_time": "2024-06-01T08:01:27.279Z"
   },
   {
    "duration": 348,
    "start_time": "2024-06-01T08:01:29.230Z"
   },
   {
    "duration": 828,
    "start_time": "2024-06-01T08:01:32.193Z"
   },
   {
    "duration": 9,
    "start_time": "2024-06-01T08:01:33.157Z"
   },
   {
    "duration": 9,
    "start_time": "2024-06-01T08:01:33.478Z"
   },
   {
    "duration": 3,
    "start_time": "2024-06-01T08:01:35.608Z"
   },
   {
    "duration": 3,
    "start_time": "2024-06-01T08:01:37.134Z"
   },
   {
    "duration": 6,
    "start_time": "2024-06-01T08:01:39.053Z"
   },
   {
    "duration": 19,
    "start_time": "2024-06-01T08:01:40.153Z"
   },
   {
    "duration": 20,
    "start_time": "2024-06-01T08:01:40.759Z"
   },
   {
    "duration": 148,
    "start_time": "2024-06-01T08:01:43.255Z"
   },
   {
    "duration": 1128,
    "start_time": "2024-06-01T08:01:50.274Z"
   },
   {
    "duration": 5,
    "start_time": "2024-06-01T08:01:52.585Z"
   },
   {
    "duration": 1099,
    "start_time": "2024-06-01T08:01:53.701Z"
   },
   {
    "duration": 6,
    "start_time": "2024-06-01T08:01:54.933Z"
   },
   {
    "duration": 2,
    "start_time": "2024-06-01T08:01:56.122Z"
   },
   {
    "duration": 98,
    "start_time": "2024-06-01T08:01:59.679Z"
   },
   {
    "duration": 3,
    "start_time": "2024-06-01T08:02:27.815Z"
   },
   {
    "duration": 2,
    "start_time": "2024-06-01T08:03:00.273Z"
   },
   {
    "duration": 1415,
    "start_time": "2024-06-01T08:03:01.588Z"
   },
   {
    "duration": 4,
    "start_time": "2024-06-01T08:03:05.171Z"
   },
   {
    "duration": 1040,
    "start_time": "2024-06-01T08:03:06.260Z"
   },
   {
    "duration": 5,
    "start_time": "2024-06-01T08:03:11.068Z"
   },
   {
    "duration": 3,
    "start_time": "2024-06-01T08:03:14.464Z"
   },
   {
    "duration": 1340,
    "start_time": "2024-06-01T08:19:09.095Z"
   },
   {
    "duration": 780,
    "start_time": "2024-06-01T08:19:11.612Z"
   },
   {
    "duration": 19,
    "start_time": "2024-06-01T08:19:12.394Z"
   },
   {
    "duration": 23,
    "start_time": "2024-06-01T08:19:12.806Z"
   },
   {
    "duration": 12,
    "start_time": "2024-06-01T08:19:13.252Z"
   },
   {
    "duration": 18,
    "start_time": "2024-06-01T08:19:13.551Z"
   },
   {
    "duration": 17,
    "start_time": "2024-06-01T08:19:13.959Z"
   },
   {
    "duration": 20,
    "start_time": "2024-06-01T08:19:14.269Z"
   },
   {
    "duration": 6,
    "start_time": "2024-06-01T08:19:14.930Z"
   },
   {
    "duration": 3,
    "start_time": "2024-06-01T08:19:15.209Z"
   },
   {
    "duration": 5,
    "start_time": "2024-06-01T08:19:15.489Z"
   },
   {
    "duration": 3,
    "start_time": "2024-06-01T08:19:15.764Z"
   },
   {
    "duration": 8,
    "start_time": "2024-06-01T08:19:16.039Z"
   },
   {
    "duration": 4,
    "start_time": "2024-06-01T08:19:16.762Z"
   },
   {
    "duration": 6,
    "start_time": "2024-06-01T08:19:18.635Z"
   },
   {
    "duration": 3,
    "start_time": "2024-06-01T08:19:18.905Z"
   },
   {
    "duration": 72,
    "start_time": "2024-06-01T08:19:19.181Z"
   },
   {
    "duration": 21,
    "start_time": "2024-06-01T08:19:19.461Z"
   },
   {
    "duration": 7,
    "start_time": "2024-06-01T08:19:19.954Z"
   },
   {
    "duration": 6,
    "start_time": "2024-06-01T08:19:20.243Z"
   },
   {
    "duration": 120,
    "start_time": "2024-06-01T08:19:20.745Z"
   },
   {
    "duration": 9,
    "start_time": "2024-06-01T08:19:21.144Z"
   },
   {
    "duration": 5,
    "start_time": "2024-06-01T08:19:21.433Z"
   },
   {
    "duration": 139,
    "start_time": "2024-06-01T08:19:21.713Z"
   },
   {
    "duration": 8,
    "start_time": "2024-06-01T08:19:22.051Z"
   },
   {
    "duration": 7,
    "start_time": "2024-06-01T08:19:22.351Z"
   },
   {
    "duration": 629,
    "start_time": "2024-06-01T08:19:23.687Z"
   },
   {
    "duration": 569,
    "start_time": "2024-06-01T08:19:24.319Z"
   },
   {
    "duration": 699,
    "start_time": "2024-06-01T08:19:25.875Z"
   },
   {
    "duration": 559,
    "start_time": "2024-06-01T08:19:26.646Z"
   },
   {
    "duration": 416,
    "start_time": "2024-06-01T08:19:30.781Z"
   },
   {
    "duration": 823,
    "start_time": "2024-06-01T08:19:33.277Z"
   },
   {
    "duration": 10,
    "start_time": "2024-06-01T08:19:34.744Z"
   },
   {
    "duration": 11,
    "start_time": "2024-06-01T08:19:35.249Z"
   },
   {
    "duration": 4,
    "start_time": "2024-06-01T08:19:38.849Z"
   },
   {
    "duration": 3,
    "start_time": "2024-06-01T08:19:39.965Z"
   },
   {
    "duration": 6,
    "start_time": "2024-06-01T08:19:41.346Z"
   },
   {
    "duration": 19,
    "start_time": "2024-06-01T08:19:41.931Z"
   },
   {
    "duration": 22,
    "start_time": "2024-06-01T08:19:42.246Z"
   },
   {
    "duration": 3,
    "start_time": "2024-06-01T08:19:43.581Z"
   },
   {
    "duration": 1558,
    "start_time": "2024-06-01T08:19:44.043Z"
   },
   {
    "duration": 5,
    "start_time": "2024-06-01T08:19:47.277Z"
   },
   {
    "duration": 1281,
    "start_time": "2024-06-01T08:19:47.825Z"
   },
   {
    "duration": 92,
    "start_time": "2024-06-01T08:19:49.109Z"
   },
   {
    "duration": 3,
    "start_time": "2024-06-01T08:19:49.550Z"
   },
   {
    "duration": 34077,
    "start_time": "2024-06-01T08:20:06.408Z"
   },
   {
    "duration": 32494,
    "start_time": "2024-06-01T08:20:46.086Z"
   },
   {
    "duration": 3,
    "start_time": "2024-06-01T08:21:18.582Z"
   },
   {
    "duration": 2,
    "start_time": "2024-06-01T08:21:22.497Z"
   },
   {
    "duration": 2323,
    "start_time": "2024-06-01T08:21:23.828Z"
   },
   {
    "duration": 5,
    "start_time": "2024-06-01T08:21:27.175Z"
   },
   {
    "duration": 2247,
    "start_time": "2024-06-01T08:21:28.002Z"
   },
   {
    "duration": 5,
    "start_time": "2024-06-01T08:21:30.250Z"
   },
   {
    "duration": 34,
    "start_time": "2024-06-01T08:21:30.257Z"
   },
   {
    "duration": 170,
    "start_time": "2024-06-01T08:21:42.530Z"
   },
   {
    "duration": 116,
    "start_time": "2024-06-01T08:21:44.088Z"
   },
   {
    "duration": 4,
    "start_time": "2024-06-01T08:21:45.445Z"
   },
   {
    "duration": 103,
    "start_time": "2024-06-01T08:36:10.417Z"
   },
   {
    "duration": 134789,
    "start_time": "2024-06-01T08:36:29.410Z"
   },
   {
    "duration": 137332,
    "start_time": "2024-06-01T08:39:09.785Z"
   },
   {
    "duration": 130472,
    "start_time": "2024-06-01T08:42:58.748Z"
   },
   {
    "duration": 3,
    "start_time": "2024-06-01T08:45:21.717Z"
   },
   {
    "duration": 2315,
    "start_time": "2024-06-01T08:45:36.089Z"
   },
   {
    "duration": 5,
    "start_time": "2024-06-01T08:45:39.689Z"
   },
   {
    "duration": 2259,
    "start_time": "2024-06-01T08:45:40.826Z"
   },
   {
    "duration": 5,
    "start_time": "2024-06-01T08:45:43.087Z"
   },
   {
    "duration": 12,
    "start_time": "2024-06-01T08:45:43.093Z"
   },
   {
    "duration": 806,
    "start_time": "2024-06-01T08:46:21.679Z"
   },
   {
    "duration": 820,
    "start_time": "2024-06-01T08:46:44.712Z"
   },
   {
    "duration": 5,
    "start_time": "2024-06-01T08:46:45.533Z"
   },
   {
    "duration": 572,
    "start_time": "2024-06-01T08:46:45.573Z"
   },
   {
    "duration": 5,
    "start_time": "2024-06-01T08:46:54.065Z"
   },
   {
    "duration": 3,
    "start_time": "2024-06-01T08:47:01.002Z"
   },
   {
    "duration": 1300,
    "start_time": "2024-06-01T08:49:29.546Z"
   },
   {
    "duration": 750,
    "start_time": "2024-06-01T08:49:30.906Z"
   },
   {
    "duration": 17,
    "start_time": "2024-06-01T08:49:32.327Z"
   },
   {
    "duration": 21,
    "start_time": "2024-06-01T08:49:32.913Z"
   },
   {
    "duration": 12,
    "start_time": "2024-06-01T08:49:33.154Z"
   },
   {
    "duration": 22,
    "start_time": "2024-06-01T08:49:34.556Z"
   },
   {
    "duration": 17,
    "start_time": "2024-06-01T08:49:35.047Z"
   },
   {
    "duration": 20,
    "start_time": "2024-06-01T08:49:35.361Z"
   },
   {
    "duration": 10,
    "start_time": "2024-06-01T08:49:35.920Z"
   },
   {
    "duration": 4,
    "start_time": "2024-06-01T08:49:36.201Z"
   },
   {
    "duration": 4,
    "start_time": "2024-06-01T08:49:36.478Z"
   },
   {
    "duration": 3,
    "start_time": "2024-06-01T08:49:36.750Z"
   },
   {
    "duration": 7,
    "start_time": "2024-06-01T08:49:37.026Z"
   },
   {
    "duration": 3,
    "start_time": "2024-06-01T08:49:37.789Z"
   },
   {
    "duration": 6,
    "start_time": "2024-06-01T08:49:41.063Z"
   },
   {
    "duration": 4,
    "start_time": "2024-06-01T08:49:41.461Z"
   },
   {
    "duration": 70,
    "start_time": "2024-06-01T08:49:41.696Z"
   },
   {
    "duration": 23,
    "start_time": "2024-06-01T08:49:41.960Z"
   },
   {
    "duration": 7,
    "start_time": "2024-06-01T08:49:42.437Z"
   },
   {
    "duration": 6,
    "start_time": "2024-06-01T08:49:42.789Z"
   },
   {
    "duration": 113,
    "start_time": "2024-06-01T08:49:43.416Z"
   },
   {
    "duration": 8,
    "start_time": "2024-06-01T08:49:43.780Z"
   },
   {
    "duration": 5,
    "start_time": "2024-06-01T08:49:44.065Z"
   },
   {
    "duration": 134,
    "start_time": "2024-06-01T08:49:44.346Z"
   },
   {
    "duration": 9,
    "start_time": "2024-06-01T08:49:44.751Z"
   },
   {
    "duration": 8,
    "start_time": "2024-06-01T08:49:45.039Z"
   },
   {
    "duration": 659,
    "start_time": "2024-06-01T08:49:46.388Z"
   },
   {
    "duration": 535,
    "start_time": "2024-06-01T08:49:47.049Z"
   },
   {
    "duration": 652,
    "start_time": "2024-06-01T08:49:47.586Z"
   },
   {
    "duration": 572,
    "start_time": "2024-06-01T08:49:48.240Z"
   },
   {
    "duration": 378,
    "start_time": "2024-06-01T08:49:49.191Z"
   },
   {
    "duration": 809,
    "start_time": "2024-06-01T08:49:50.795Z"
   },
   {
    "duration": 8,
    "start_time": "2024-06-01T08:49:51.606Z"
   },
   {
    "duration": 10,
    "start_time": "2024-06-01T08:49:51.792Z"
   },
   {
    "duration": 4,
    "start_time": "2024-06-01T08:49:53.766Z"
   },
   {
    "duration": 3,
    "start_time": "2024-06-01T08:49:55.388Z"
   },
   {
    "duration": 6,
    "start_time": "2024-06-01T08:49:56.870Z"
   },
   {
    "duration": 21,
    "start_time": "2024-06-01T08:49:57.351Z"
   },
   {
    "duration": 22,
    "start_time": "2024-06-01T08:49:58.043Z"
   },
   {
    "duration": 163,
    "start_time": "2024-06-01T08:49:59.945Z"
   },
   {
    "duration": 1140,
    "start_time": "2024-06-01T08:50:00.562Z"
   },
   {
    "duration": 5,
    "start_time": "2024-06-01T08:50:01.706Z"
   },
   {
    "duration": 1087,
    "start_time": "2024-06-01T08:50:03.315Z"
   },
   {
    "duration": 90,
    "start_time": "2024-06-01T08:50:04.411Z"
   },
   {
    "duration": 2,
    "start_time": "2024-06-01T08:50:05.012Z"
   },
   {
    "duration": 3,
    "start_time": "2024-06-01T08:50:37.433Z"
   },
   {
    "duration": 1153,
    "start_time": "2024-06-01T08:50:37.746Z"
   },
   {
    "duration": 6,
    "start_time": "2024-06-01T08:50:38.901Z"
   },
   {
    "duration": 1197,
    "start_time": "2024-06-01T08:50:38.908Z"
   },
   {
    "duration": 7,
    "start_time": "2024-06-01T08:50:40.107Z"
   },
   {
    "duration": 3,
    "start_time": "2024-06-01T08:50:40.116Z"
   },
   {
    "duration": 134933,
    "start_time": "2024-06-01T08:50:50.655Z"
   },
   {
    "duration": 130732,
    "start_time": "2024-06-01T08:53:05.590Z"
   },
   {
    "duration": 106,
    "start_time": "2024-06-01T08:55:16.323Z"
   },
   {
    "duration": 0,
    "start_time": "2024-06-01T08:55:16.430Z"
   },
   {
    "duration": 0,
    "start_time": "2024-06-01T08:55:16.431Z"
   },
   {
    "duration": 0,
    "start_time": "2024-06-01T08:55:16.433Z"
   },
   {
    "duration": 0,
    "start_time": "2024-06-01T08:55:16.434Z"
   },
   {
    "duration": 0,
    "start_time": "2024-06-01T08:55:16.434Z"
   },
   {
    "duration": 339,
    "start_time": "2024-06-01T08:55:51.562Z"
   },
   {
    "duration": 834,
    "start_time": "2024-06-01T08:55:58.666Z"
   },
   {
    "duration": 5,
    "start_time": "2024-06-01T08:55:59.642Z"
   },
   {
    "duration": 555,
    "start_time": "2024-06-01T08:56:00.954Z"
   },
   {
    "duration": 5,
    "start_time": "2024-06-01T08:56:01.568Z"
   },
   {
    "duration": 3,
    "start_time": "2024-06-01T08:56:02.258Z"
   },
   {
    "duration": 2,
    "start_time": "2024-06-01T08:56:14.425Z"
   },
   {
    "duration": 826,
    "start_time": "2024-06-01T08:56:16.400Z"
   },
   {
    "duration": 5,
    "start_time": "2024-06-01T08:56:17.228Z"
   },
   {
    "duration": 555,
    "start_time": "2024-06-01T08:56:17.505Z"
   },
   {
    "duration": 5,
    "start_time": "2024-06-01T08:56:18.089Z"
   },
   {
    "duration": 3,
    "start_time": "2024-06-01T08:56:18.466Z"
   },
   {
    "duration": 9,
    "start_time": "2024-06-01T09:00:30.530Z"
   },
   {
    "duration": 130216,
    "start_time": "2024-06-01T09:00:45.672Z"
   },
   {
    "duration": 201,
    "start_time": "2024-06-01T09:06:10.824Z"
   },
   {
    "duration": 140,
    "start_time": "2024-06-01T09:07:09.332Z"
   },
   {
    "duration": 3,
    "start_time": "2024-06-01T09:07:20.315Z"
   },
   {
    "duration": 1645,
    "start_time": "2024-06-02T08:49:49.215Z"
   },
   {
    "duration": 1283,
    "start_time": "2024-06-02T08:49:50.862Z"
   },
   {
    "duration": 20,
    "start_time": "2024-06-02T08:49:52.147Z"
   },
   {
    "duration": 25,
    "start_time": "2024-06-02T08:49:52.814Z"
   },
   {
    "duration": 15,
    "start_time": "2024-06-02T08:49:53.042Z"
   },
   {
    "duration": 21,
    "start_time": "2024-06-02T08:49:53.187Z"
   },
   {
    "duration": 20,
    "start_time": "2024-06-02T08:49:53.362Z"
   },
   {
    "duration": 21,
    "start_time": "2024-06-02T08:49:53.682Z"
   },
   {
    "duration": 7,
    "start_time": "2024-06-02T08:49:54.130Z"
   },
   {
    "duration": 3,
    "start_time": "2024-06-02T08:49:54.366Z"
   },
   {
    "duration": 5,
    "start_time": "2024-06-02T08:49:54.583Z"
   },
   {
    "duration": 4,
    "start_time": "2024-06-02T08:49:54.803Z"
   },
   {
    "duration": 9,
    "start_time": "2024-06-02T08:49:55.017Z"
   },
   {
    "duration": 5,
    "start_time": "2024-06-02T08:49:55.633Z"
   },
   {
    "duration": 6,
    "start_time": "2024-06-02T08:49:57.120Z"
   },
   {
    "duration": 4,
    "start_time": "2024-06-02T08:49:57.334Z"
   },
   {
    "duration": 80,
    "start_time": "2024-06-02T08:49:57.565Z"
   },
   {
    "duration": 28,
    "start_time": "2024-06-02T08:49:57.792Z"
   },
   {
    "duration": 7,
    "start_time": "2024-06-02T08:49:58.197Z"
   },
   {
    "duration": 7,
    "start_time": "2024-06-02T08:49:58.422Z"
   },
   {
    "duration": 132,
    "start_time": "2024-06-02T08:49:58.829Z"
   },
   {
    "duration": 8,
    "start_time": "2024-06-02T08:49:59.089Z"
   },
   {
    "duration": 5,
    "start_time": "2024-06-02T08:49:59.300Z"
   },
   {
    "duration": 147,
    "start_time": "2024-06-02T08:49:59.572Z"
   },
   {
    "duration": 9,
    "start_time": "2024-06-02T08:49:59.818Z"
   },
   {
    "duration": 9,
    "start_time": "2024-06-02T08:49:59.979Z"
   },
   {
    "duration": 736,
    "start_time": "2024-06-02T08:50:01.313Z"
   },
   {
    "duration": 663,
    "start_time": "2024-06-02T08:50:02.051Z"
   },
   {
    "duration": 731,
    "start_time": "2024-06-02T08:50:02.716Z"
   },
   {
    "duration": 674,
    "start_time": "2024-06-02T08:50:03.448Z"
   },
   {
    "duration": 510,
    "start_time": "2024-06-02T08:50:04.123Z"
   },
   {
    "duration": 910,
    "start_time": "2024-06-02T08:50:04.720Z"
   },
   {
    "duration": 10,
    "start_time": "2024-06-02T08:50:05.632Z"
   },
   {
    "duration": 20,
    "start_time": "2024-06-02T08:50:05.643Z"
   },
   {
    "duration": 5,
    "start_time": "2024-06-02T08:50:07.776Z"
   },
   {
    "duration": 4,
    "start_time": "2024-06-02T08:50:08.810Z"
   },
   {
    "duration": 7,
    "start_time": "2024-06-02T08:50:10.638Z"
   },
   {
    "duration": 20,
    "start_time": "2024-06-02T08:50:11.375Z"
   },
   {
    "duration": 23,
    "start_time": "2024-06-02T08:50:11.895Z"
   },
   {
    "duration": 3,
    "start_time": "2024-06-02T08:50:14.174Z"
   },
   {
    "duration": 1219,
    "start_time": "2024-06-02T08:50:15.347Z"
   },
   {
    "duration": 6,
    "start_time": "2024-06-02T08:50:17.525Z"
   },
   {
    "duration": 1216,
    "start_time": "2024-06-02T08:50:18.249Z"
   },
   {
    "duration": 95,
    "start_time": "2024-06-02T08:50:19.468Z"
   },
   {
    "duration": 4,
    "start_time": "2024-06-02T08:50:19.565Z"
   },
   {
    "duration": 150782,
    "start_time": "2024-06-02T08:50:35.499Z"
   },
   {
    "duration": 145124,
    "start_time": "2024-06-02T08:53:54.355Z"
   },
   {
    "duration": 146859,
    "start_time": "2024-06-02T08:56:37.081Z"
   },
   {
    "duration": 4,
    "start_time": "2024-06-02T08:59:03.942Z"
   },
   {
    "duration": 923,
    "start_time": "2024-06-02T08:59:03.948Z"
   },
   {
    "duration": 6,
    "start_time": "2024-06-02T08:59:04.873Z"
   },
   {
    "duration": 660,
    "start_time": "2024-06-02T08:59:04.881Z"
   },
   {
    "duration": 6,
    "start_time": "2024-06-02T08:59:05.543Z"
   },
   {
    "duration": 3,
    "start_time": "2024-06-02T08:59:05.562Z"
   },
   {
    "duration": 153026,
    "start_time": "2024-06-02T09:01:17.521Z"
   },
   {
    "duration": 149143,
    "start_time": "2024-06-02T09:03:50.549Z"
   },
   {
    "duration": 4731,
    "start_time": "2024-06-02T09:07:54.385Z"
   },
   {
    "duration": 6,
    "start_time": "2024-06-02T09:07:59.118Z"
   },
   {
    "duration": 3,
    "start_time": "2024-06-02T09:08:07.533Z"
   },
   {
    "duration": 953,
    "start_time": "2024-06-02T09:08:09.377Z"
   },
   {
    "duration": 7,
    "start_time": "2024-06-02T09:08:10.332Z"
   },
   {
    "duration": 627,
    "start_time": "2024-06-02T09:08:10.340Z"
   },
   {
    "duration": 7,
    "start_time": "2024-06-02T09:08:10.970Z"
   },
   {
    "duration": 4,
    "start_time": "2024-06-02T09:08:10.978Z"
   },
   {
    "duration": 225,
    "start_time": "2024-06-02T09:08:24.018Z"
   },
   {
    "duration": 150,
    "start_time": "2024-06-02T09:08:24.794Z"
   },
   {
    "duration": 4,
    "start_time": "2024-06-02T09:08:25.871Z"
   },
   {
    "duration": 153435,
    "start_time": "2024-06-02T09:09:06.219Z"
   },
   {
    "duration": 1511,
    "start_time": "2024-06-02T10:24:24.840Z"
   },
   {
    "duration": 941,
    "start_time": "2024-06-02T10:24:26.354Z"
   },
   {
    "duration": 18,
    "start_time": "2024-06-02T10:24:27.297Z"
   },
   {
    "duration": 25,
    "start_time": "2024-06-02T10:24:27.370Z"
   },
   {
    "duration": 15,
    "start_time": "2024-06-02T10:24:28.487Z"
   },
   {
    "duration": 23,
    "start_time": "2024-06-02T10:24:29.669Z"
   },
   {
    "duration": 20,
    "start_time": "2024-06-02T10:24:30.356Z"
   },
   {
    "duration": 21,
    "start_time": "2024-06-02T10:24:30.918Z"
   },
   {
    "duration": 8,
    "start_time": "2024-06-02T10:24:31.697Z"
   },
   {
    "duration": 5,
    "start_time": "2024-06-02T10:24:32.405Z"
   },
   {
    "duration": 5,
    "start_time": "2024-06-02T10:24:32.921Z"
   },
   {
    "duration": 5,
    "start_time": "2024-06-02T10:24:33.384Z"
   },
   {
    "duration": 9,
    "start_time": "2024-06-02T10:24:33.595Z"
   },
   {
    "duration": 4,
    "start_time": "2024-06-02T10:24:34.018Z"
   },
   {
    "duration": 7,
    "start_time": "2024-06-02T10:24:34.814Z"
   },
   {
    "duration": 5,
    "start_time": "2024-06-02T10:24:35.252Z"
   },
   {
    "duration": 90,
    "start_time": "2024-06-02T10:24:35.836Z"
   },
   {
    "duration": 30,
    "start_time": "2024-06-02T10:24:36.554Z"
   },
   {
    "duration": 9,
    "start_time": "2024-06-02T10:24:36.971Z"
   },
   {
    "duration": 6,
    "start_time": "2024-06-02T10:24:37.166Z"
   },
   {
    "duration": 138,
    "start_time": "2024-06-02T10:24:37.673Z"
   },
   {
    "duration": 10,
    "start_time": "2024-06-02T10:24:37.900Z"
   },
   {
    "duration": 6,
    "start_time": "2024-06-02T10:24:38.180Z"
   },
   {
    "duration": 170,
    "start_time": "2024-06-02T10:24:38.450Z"
   },
   {
    "duration": 9,
    "start_time": "2024-06-02T10:24:38.728Z"
   },
   {
    "duration": 9,
    "start_time": "2024-06-02T10:24:38.991Z"
   },
   {
    "duration": 749,
    "start_time": "2024-06-02T10:24:39.812Z"
   },
   {
    "duration": 642,
    "start_time": "2024-06-02T10:24:40.563Z"
   },
   {
    "duration": 729,
    "start_time": "2024-06-02T10:24:41.207Z"
   },
   {
    "duration": 670,
    "start_time": "2024-06-02T10:24:41.938Z"
   },
   {
    "duration": 461,
    "start_time": "2024-06-02T10:24:42.610Z"
   },
   {
    "duration": 985,
    "start_time": "2024-06-02T10:24:43.073Z"
   },
   {
    "duration": 10,
    "start_time": "2024-06-02T10:24:44.060Z"
   },
   {
    "duration": 41,
    "start_time": "2024-06-02T10:24:44.072Z"
   },
   {
    "duration": 4,
    "start_time": "2024-06-02T10:24:46.921Z"
   },
   {
    "duration": 7,
    "start_time": "2024-06-02T10:24:47.749Z"
   },
   {
    "duration": 20,
    "start_time": "2024-06-02T10:24:47.990Z"
   },
   {
    "duration": 25,
    "start_time": "2024-06-02T10:24:48.287Z"
   },
   {
    "duration": 2,
    "start_time": "2024-06-02T10:24:49.057Z"
   },
   {
    "duration": 1317,
    "start_time": "2024-06-02T10:24:49.345Z"
   },
   {
    "duration": 100,
    "start_time": "2024-06-02T10:24:50.665Z"
   },
   {
    "duration": 1701,
    "start_time": "2024-06-02T10:24:50.767Z"
   },
   {
    "duration": 92,
    "start_time": "2024-06-02T10:24:52.471Z"
   },
   {
    "duration": 19,
    "start_time": "2024-06-02T10:24:52.564Z"
   },
   {
    "duration": 151537,
    "start_time": "2024-06-02T10:24:53.339Z"
   },
   {
    "duration": 1517,
    "start_time": "2024-06-02T10:28:05.747Z"
   },
   {
    "duration": 899,
    "start_time": "2024-06-02T10:28:07.266Z"
   },
   {
    "duration": 20,
    "start_time": "2024-06-02T10:28:08.167Z"
   },
   {
    "duration": 28,
    "start_time": "2024-06-02T10:28:08.189Z"
   },
   {
    "duration": 31,
    "start_time": "2024-06-02T10:28:08.219Z"
   },
   {
    "duration": 40,
    "start_time": "2024-06-02T10:28:08.252Z"
   },
   {
    "duration": 24,
    "start_time": "2024-06-02T10:28:08.294Z"
   },
   {
    "duration": 24,
    "start_time": "2024-06-02T10:28:08.320Z"
   },
   {
    "duration": 32,
    "start_time": "2024-06-02T10:28:08.346Z"
   },
   {
    "duration": 4,
    "start_time": "2024-06-02T10:28:08.445Z"
   },
   {
    "duration": 5,
    "start_time": "2024-06-02T10:28:08.709Z"
   },
   {
    "duration": 4,
    "start_time": "2024-06-02T10:28:08.945Z"
   },
   {
    "duration": 8,
    "start_time": "2024-06-02T10:28:09.191Z"
   },
   {
    "duration": 5,
    "start_time": "2024-06-02T10:28:09.638Z"
   },
   {
    "duration": 7,
    "start_time": "2024-06-02T10:28:10.340Z"
   },
   {
    "duration": 4,
    "start_time": "2024-06-02T10:28:10.588Z"
   },
   {
    "duration": 77,
    "start_time": "2024-06-02T10:28:10.828Z"
   },
   {
    "duration": 23,
    "start_time": "2024-06-02T10:28:11.074Z"
   },
   {
    "duration": 8,
    "start_time": "2024-06-02T10:28:11.525Z"
   },
   {
    "duration": 7,
    "start_time": "2024-06-02T10:28:11.876Z"
   },
   {
    "duration": 134,
    "start_time": "2024-06-02T10:28:12.340Z"
   },
   {
    "duration": 10,
    "start_time": "2024-06-02T10:28:12.655Z"
   },
   {
    "duration": 6,
    "start_time": "2024-06-02T10:28:12.784Z"
   },
   {
    "duration": 153,
    "start_time": "2024-06-02T10:28:13.108Z"
   },
   {
    "duration": 8,
    "start_time": "2024-06-02T10:28:13.374Z"
   },
   {
    "duration": 8,
    "start_time": "2024-06-02T10:28:13.609Z"
   },
   {
    "duration": 733,
    "start_time": "2024-06-02T10:28:14.460Z"
   },
   {
    "duration": 618,
    "start_time": "2024-06-02T10:28:15.195Z"
   },
   {
    "duration": 754,
    "start_time": "2024-06-02T10:28:15.814Z"
   },
   {
    "duration": 662,
    "start_time": "2024-06-02T10:28:16.570Z"
   },
   {
    "duration": 433,
    "start_time": "2024-06-02T10:28:17.234Z"
   },
   {
    "duration": 973,
    "start_time": "2024-06-02T10:28:17.669Z"
   },
   {
    "duration": 21,
    "start_time": "2024-06-02T10:28:18.644Z"
   },
   {
    "duration": 11,
    "start_time": "2024-06-02T10:28:18.667Z"
   },
   {
    "duration": 4,
    "start_time": "2024-06-02T10:28:20.237Z"
   },
   {
    "duration": 8,
    "start_time": "2024-06-02T10:28:20.825Z"
   },
   {
    "duration": 22,
    "start_time": "2024-06-02T10:28:21.080Z"
   },
   {
    "duration": 29,
    "start_time": "2024-06-02T10:28:21.328Z"
   },
   {
    "duration": 3,
    "start_time": "2024-06-02T10:28:21.966Z"
   },
   {
    "duration": 1546,
    "start_time": "2024-06-02T10:28:22.221Z"
   },
   {
    "duration": 94,
    "start_time": "2024-06-02T10:28:23.770Z"
   },
   {
    "duration": 1698,
    "start_time": "2024-06-02T10:28:23.867Z"
   },
   {
    "duration": 5,
    "start_time": "2024-06-02T10:28:25.567Z"
   },
   {
    "duration": 4,
    "start_time": "2024-06-02T10:28:25.574Z"
   },
   {
    "duration": 151682,
    "start_time": "2024-06-02T10:28:28.356Z"
   },
   {
    "duration": 6,
    "start_time": "2024-06-02T10:31:00.040Z"
   },
   {
    "duration": 146173,
    "start_time": "2024-06-02T10:31:00.048Z"
   },
   {
    "duration": 5,
    "start_time": "2024-06-02T10:33:26.224Z"
   },
   {
    "duration": 14,
    "start_time": "2024-06-02T10:33:26.661Z"
   },
   {
    "duration": 261,
    "start_time": "2024-06-02T10:33:26.677Z"
   },
   {
    "duration": 179,
    "start_time": "2024-06-02T10:33:26.941Z"
   },
   {
    "duration": 5,
    "start_time": "2024-06-02T10:33:27.122Z"
   },
   {
    "duration": 3,
    "start_time": "2024-06-02T10:33:51.212Z"
   },
   {
    "duration": 104,
    "start_time": "2024-06-02T10:34:16.446Z"
   }
  ],
  "kernelspec": {
   "display_name": "Python 3 (ipykernel)",
   "language": "python",
   "name": "python3"
  },
  "language_info": {
   "codemirror_mode": {
    "name": "ipython",
    "version": 3
   },
   "file_extension": ".py",
   "mimetype": "text/x-python",
   "name": "python",
   "nbconvert_exporter": "python",
   "pygments_lexer": "ipython3",
   "version": "3.9.5"
  },
  "toc": {
   "base_numbering": 1,
   "nav_menu": {},
   "number_sections": true,
   "sideBar": true,
   "skip_h1_title": true,
   "title_cell": "Содержание",
   "title_sidebar": "Contents",
   "toc_cell": true,
   "toc_position": {
    "height": "calc(100% - 180px)",
    "left": "10px",
    "top": "150px",
    "width": "165px"
   },
   "toc_section_display": true,
   "toc_window_display": false
  }
 },
 "nbformat": 4,
 "nbformat_minor": 2
}
