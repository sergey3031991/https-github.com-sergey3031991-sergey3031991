{
 "cells": [
  {
   "cell_type": "markdown",
   "metadata": {},
   "source": [
    "                                           Магазин \"Стримчик\"   \n",
    "# Необходимо выявить определяющие успешность игры закономерности. Это позволит сделать ставку на потенциально популярный продукт и спланировать рекламные кампании.   \n",
    "# Представлены данные до 2016 года. Нужно отработать принцип работы с данными. Неважно, прогнозируете ли вы продажи на 2017 год по данным 2016-го или же 2027-й — по данным 2026 года.  \n",
    "# В наборе данных попадается аббревиатура ESRB (Entertainment Software Rating Board) — это ассоциация, определяющая возрастной рейтинг компьютерных игр. ESRB оценивает игровой контент и присваивает ему подходящую возрастную категорию, например, «Для взрослых», «Для детей младшего возраста» или «Для подростков». \n",
    "## Данные:   \n",
    "- Name — название игры  \n",
    "- Platform — платформа  \n",
    "- Year_of_Release — год выпуска   \n",
    "- Genre — жанр игры  \n",
    "- NA_sales — продажи в Северной Америке (миллионы проданных копий)  \n",
    "- EU_sales — продажи в Европе (миллионы проданных копий)  \n",
    "- JP_sales — продажи в Японии (миллионы проданных копий)  \n",
    "- Other_sales — продажи в других странах (миллионы проданных копий)  \n",
    "- Critic_Score — оценка критиков (максимум 100)  \n",
    "- User_Score — оценка пользователей (максимум 10)  \n",
    "- Rating — рейтинг от организации ESRB (англ. Entertainment Software Rating Board). Эта ассоциация определяет рейтинг компьютерных игр и присваивает им подходящую возрастную категорию. \n",
    "  \n",
    "## Задачи:\n",
    "  \n",
    "- Cколько игр выпускалось в разные годы.  \n",
    "- Определить как менялись продажи по платформам.   \n",
    "- Определить какие платформы лидируют по продажам, растут или падают.  \n",
    "- Построить график «ящик с усами» по глобальным продажам игр в разбивке по платформам.     \n",
    "- Определить как влиют на продажи внутри одной популярной платформы отзывы пользователей и критиков. Необходимо построить диаграмму рассеяния и посчитать корреляцию между отзывами и продажами.  \n",
    "  \n",
    "  Необходимо проверьте гипотезы:  \n",
    "- Средние пользовательские рейтинги платформ Xbox One и PC одинаковые;  \n",
    "- Средние пользовательские рейтинги жанров Action (англ. «действие», экшен-игры) и Sports (англ. «спортивные соревнования») разные  "
   ]
  },
  {
   "cell_type": "markdown",
   "metadata": {},
   "source": [
    "**1.Анализ и обработка первичных данных**"
   ]
  },
  {
   "cell_type": "code",
   "execution_count": 1,
   "metadata": {},
   "outputs": [],
   "source": [
    "import pandas as pd\n",
    "import numpy as np\n",
    "from scipy import stats as st\n",
    "import matplotlib.pyplot as plt\n",
    "import plotly.express as px"
   ]
  },
  {
   "cell_type": "code",
   "execution_count": 2,
   "metadata": {},
   "outputs": [],
   "source": [
    "data = pd.read_csv('/datasets/games.csv')"
   ]
  },
  {
   "cell_type": "code",
   "execution_count": 3,
   "metadata": {},
   "outputs": [
    {
     "data": {
      "text/html": [
       "<div>\n",
       "<style scoped>\n",
       "    .dataframe tbody tr th:only-of-type {\n",
       "        vertical-align: middle;\n",
       "    }\n",
       "\n",
       "    .dataframe tbody tr th {\n",
       "        vertical-align: top;\n",
       "    }\n",
       "\n",
       "    .dataframe thead th {\n",
       "        text-align: right;\n",
       "    }\n",
       "</style>\n",
       "<table border=\"1\" class=\"dataframe\">\n",
       "  <thead>\n",
       "    <tr style=\"text-align: right;\">\n",
       "      <th></th>\n",
       "      <th>Name</th>\n",
       "      <th>Platform</th>\n",
       "      <th>Year_of_Release</th>\n",
       "      <th>Genre</th>\n",
       "      <th>NA_sales</th>\n",
       "      <th>EU_sales</th>\n",
       "      <th>JP_sales</th>\n",
       "      <th>Other_sales</th>\n",
       "      <th>Critic_Score</th>\n",
       "      <th>User_Score</th>\n",
       "      <th>Rating</th>\n",
       "    </tr>\n",
       "  </thead>\n",
       "  <tbody>\n",
       "    <tr>\n",
       "      <th>0</th>\n",
       "      <td>Wii Sports</td>\n",
       "      <td>Wii</td>\n",
       "      <td>2006.0</td>\n",
       "      <td>Sports</td>\n",
       "      <td>41.36</td>\n",
       "      <td>28.96</td>\n",
       "      <td>3.77</td>\n",
       "      <td>8.45</td>\n",
       "      <td>76.0</td>\n",
       "      <td>8</td>\n",
       "      <td>E</td>\n",
       "    </tr>\n",
       "    <tr>\n",
       "      <th>1</th>\n",
       "      <td>Super Mario Bros.</td>\n",
       "      <td>NES</td>\n",
       "      <td>1985.0</td>\n",
       "      <td>Platform</td>\n",
       "      <td>29.08</td>\n",
       "      <td>3.58</td>\n",
       "      <td>6.81</td>\n",
       "      <td>0.77</td>\n",
       "      <td>NaN</td>\n",
       "      <td>NaN</td>\n",
       "      <td>NaN</td>\n",
       "    </tr>\n",
       "    <tr>\n",
       "      <th>2</th>\n",
       "      <td>Mario Kart Wii</td>\n",
       "      <td>Wii</td>\n",
       "      <td>2008.0</td>\n",
       "      <td>Racing</td>\n",
       "      <td>15.68</td>\n",
       "      <td>12.76</td>\n",
       "      <td>3.79</td>\n",
       "      <td>3.29</td>\n",
       "      <td>82.0</td>\n",
       "      <td>8.3</td>\n",
       "      <td>E</td>\n",
       "    </tr>\n",
       "    <tr>\n",
       "      <th>3</th>\n",
       "      <td>Wii Sports Resort</td>\n",
       "      <td>Wii</td>\n",
       "      <td>2009.0</td>\n",
       "      <td>Sports</td>\n",
       "      <td>15.61</td>\n",
       "      <td>10.93</td>\n",
       "      <td>3.28</td>\n",
       "      <td>2.95</td>\n",
       "      <td>80.0</td>\n",
       "      <td>8</td>\n",
       "      <td>E</td>\n",
       "    </tr>\n",
       "    <tr>\n",
       "      <th>4</th>\n",
       "      <td>Pokemon Red/Pokemon Blue</td>\n",
       "      <td>GB</td>\n",
       "      <td>1996.0</td>\n",
       "      <td>Role-Playing</td>\n",
       "      <td>11.27</td>\n",
       "      <td>8.89</td>\n",
       "      <td>10.22</td>\n",
       "      <td>1.00</td>\n",
       "      <td>NaN</td>\n",
       "      <td>NaN</td>\n",
       "      <td>NaN</td>\n",
       "    </tr>\n",
       "    <tr>\n",
       "      <th>5</th>\n",
       "      <td>Tetris</td>\n",
       "      <td>GB</td>\n",
       "      <td>1989.0</td>\n",
       "      <td>Puzzle</td>\n",
       "      <td>23.20</td>\n",
       "      <td>2.26</td>\n",
       "      <td>4.22</td>\n",
       "      <td>0.58</td>\n",
       "      <td>NaN</td>\n",
       "      <td>NaN</td>\n",
       "      <td>NaN</td>\n",
       "    </tr>\n",
       "    <tr>\n",
       "      <th>6</th>\n",
       "      <td>New Super Mario Bros.</td>\n",
       "      <td>DS</td>\n",
       "      <td>2006.0</td>\n",
       "      <td>Platform</td>\n",
       "      <td>11.28</td>\n",
       "      <td>9.14</td>\n",
       "      <td>6.50</td>\n",
       "      <td>2.88</td>\n",
       "      <td>89.0</td>\n",
       "      <td>8.5</td>\n",
       "      <td>E</td>\n",
       "    </tr>\n",
       "    <tr>\n",
       "      <th>7</th>\n",
       "      <td>Wii Play</td>\n",
       "      <td>Wii</td>\n",
       "      <td>2006.0</td>\n",
       "      <td>Misc</td>\n",
       "      <td>13.96</td>\n",
       "      <td>9.18</td>\n",
       "      <td>2.93</td>\n",
       "      <td>2.84</td>\n",
       "      <td>58.0</td>\n",
       "      <td>6.6</td>\n",
       "      <td>E</td>\n",
       "    </tr>\n",
       "    <tr>\n",
       "      <th>8</th>\n",
       "      <td>New Super Mario Bros. Wii</td>\n",
       "      <td>Wii</td>\n",
       "      <td>2009.0</td>\n",
       "      <td>Platform</td>\n",
       "      <td>14.44</td>\n",
       "      <td>6.94</td>\n",
       "      <td>4.70</td>\n",
       "      <td>2.24</td>\n",
       "      <td>87.0</td>\n",
       "      <td>8.4</td>\n",
       "      <td>E</td>\n",
       "    </tr>\n",
       "    <tr>\n",
       "      <th>9</th>\n",
       "      <td>Duck Hunt</td>\n",
       "      <td>NES</td>\n",
       "      <td>1984.0</td>\n",
       "      <td>Shooter</td>\n",
       "      <td>26.93</td>\n",
       "      <td>0.63</td>\n",
       "      <td>0.28</td>\n",
       "      <td>0.47</td>\n",
       "      <td>NaN</td>\n",
       "      <td>NaN</td>\n",
       "      <td>NaN</td>\n",
       "    </tr>\n",
       "  </tbody>\n",
       "</table>\n",
       "</div>"
      ],
      "text/plain": [
       "                        Name Platform  Year_of_Release         Genre  \\\n",
       "0                 Wii Sports      Wii           2006.0        Sports   \n",
       "1          Super Mario Bros.      NES           1985.0      Platform   \n",
       "2             Mario Kart Wii      Wii           2008.0        Racing   \n",
       "3          Wii Sports Resort      Wii           2009.0        Sports   \n",
       "4   Pokemon Red/Pokemon Blue       GB           1996.0  Role-Playing   \n",
       "5                     Tetris       GB           1989.0        Puzzle   \n",
       "6      New Super Mario Bros.       DS           2006.0      Platform   \n",
       "7                   Wii Play      Wii           2006.0          Misc   \n",
       "8  New Super Mario Bros. Wii      Wii           2009.0      Platform   \n",
       "9                  Duck Hunt      NES           1984.0       Shooter   \n",
       "\n",
       "   NA_sales  EU_sales  JP_sales  Other_sales  Critic_Score User_Score Rating  \n",
       "0     41.36     28.96      3.77         8.45          76.0          8      E  \n",
       "1     29.08      3.58      6.81         0.77           NaN        NaN    NaN  \n",
       "2     15.68     12.76      3.79         3.29          82.0        8.3      E  \n",
       "3     15.61     10.93      3.28         2.95          80.0          8      E  \n",
       "4     11.27      8.89     10.22         1.00           NaN        NaN    NaN  \n",
       "5     23.20      2.26      4.22         0.58           NaN        NaN    NaN  \n",
       "6     11.28      9.14      6.50         2.88          89.0        8.5      E  \n",
       "7     13.96      9.18      2.93         2.84          58.0        6.6      E  \n",
       "8     14.44      6.94      4.70         2.24          87.0        8.4      E  \n",
       "9     26.93      0.63      0.28         0.47           NaN        NaN    NaN  "
      ]
     },
     "metadata": {},
     "output_type": "display_data"
    }
   ],
   "source": [
    "display(data.head(10))"
   ]
  },
  {
   "cell_type": "code",
   "execution_count": 4,
   "metadata": {},
   "outputs": [],
   "source": [
    "data.columns = data.columns.str.lower()"
   ]
  },
  {
   "cell_type": "code",
   "execution_count": 5,
   "metadata": {},
   "outputs": [
    {
     "data": {
      "text/html": [
       "<div>\n",
       "<style scoped>\n",
       "    .dataframe tbody tr th:only-of-type {\n",
       "        vertical-align: middle;\n",
       "    }\n",
       "\n",
       "    .dataframe tbody tr th {\n",
       "        vertical-align: top;\n",
       "    }\n",
       "\n",
       "    .dataframe thead th {\n",
       "        text-align: right;\n",
       "    }\n",
       "</style>\n",
       "<table border=\"1\" class=\"dataframe\">\n",
       "  <thead>\n",
       "    <tr style=\"text-align: right;\">\n",
       "      <th></th>\n",
       "      <th>name</th>\n",
       "      <th>platform</th>\n",
       "      <th>year_of_release</th>\n",
       "      <th>genre</th>\n",
       "      <th>na_sales</th>\n",
       "      <th>eu_sales</th>\n",
       "      <th>jp_sales</th>\n",
       "      <th>other_sales</th>\n",
       "      <th>critic_score</th>\n",
       "      <th>user_score</th>\n",
       "      <th>rating</th>\n",
       "    </tr>\n",
       "  </thead>\n",
       "  <tbody>\n",
       "    <tr>\n",
       "      <th>0</th>\n",
       "      <td>Wii Sports</td>\n",
       "      <td>Wii</td>\n",
       "      <td>2006.0</td>\n",
       "      <td>Sports</td>\n",
       "      <td>41.36</td>\n",
       "      <td>28.96</td>\n",
       "      <td>3.77</td>\n",
       "      <td>8.45</td>\n",
       "      <td>76.0</td>\n",
       "      <td>8</td>\n",
       "      <td>E</td>\n",
       "    </tr>\n",
       "    <tr>\n",
       "      <th>1</th>\n",
       "      <td>Super Mario Bros.</td>\n",
       "      <td>NES</td>\n",
       "      <td>1985.0</td>\n",
       "      <td>Platform</td>\n",
       "      <td>29.08</td>\n",
       "      <td>3.58</td>\n",
       "      <td>6.81</td>\n",
       "      <td>0.77</td>\n",
       "      <td>NaN</td>\n",
       "      <td>NaN</td>\n",
       "      <td>NaN</td>\n",
       "    </tr>\n",
       "    <tr>\n",
       "      <th>2</th>\n",
       "      <td>Mario Kart Wii</td>\n",
       "      <td>Wii</td>\n",
       "      <td>2008.0</td>\n",
       "      <td>Racing</td>\n",
       "      <td>15.68</td>\n",
       "      <td>12.76</td>\n",
       "      <td>3.79</td>\n",
       "      <td>3.29</td>\n",
       "      <td>82.0</td>\n",
       "      <td>8.3</td>\n",
       "      <td>E</td>\n",
       "    </tr>\n",
       "    <tr>\n",
       "      <th>3</th>\n",
       "      <td>Wii Sports Resort</td>\n",
       "      <td>Wii</td>\n",
       "      <td>2009.0</td>\n",
       "      <td>Sports</td>\n",
       "      <td>15.61</td>\n",
       "      <td>10.93</td>\n",
       "      <td>3.28</td>\n",
       "      <td>2.95</td>\n",
       "      <td>80.0</td>\n",
       "      <td>8</td>\n",
       "      <td>E</td>\n",
       "    </tr>\n",
       "    <tr>\n",
       "      <th>4</th>\n",
       "      <td>Pokemon Red/Pokemon Blue</td>\n",
       "      <td>GB</td>\n",
       "      <td>1996.0</td>\n",
       "      <td>Role-Playing</td>\n",
       "      <td>11.27</td>\n",
       "      <td>8.89</td>\n",
       "      <td>10.22</td>\n",
       "      <td>1.00</td>\n",
       "      <td>NaN</td>\n",
       "      <td>NaN</td>\n",
       "      <td>NaN</td>\n",
       "    </tr>\n",
       "    <tr>\n",
       "      <th>5</th>\n",
       "      <td>Tetris</td>\n",
       "      <td>GB</td>\n",
       "      <td>1989.0</td>\n",
       "      <td>Puzzle</td>\n",
       "      <td>23.20</td>\n",
       "      <td>2.26</td>\n",
       "      <td>4.22</td>\n",
       "      <td>0.58</td>\n",
       "      <td>NaN</td>\n",
       "      <td>NaN</td>\n",
       "      <td>NaN</td>\n",
       "    </tr>\n",
       "    <tr>\n",
       "      <th>6</th>\n",
       "      <td>New Super Mario Bros.</td>\n",
       "      <td>DS</td>\n",
       "      <td>2006.0</td>\n",
       "      <td>Platform</td>\n",
       "      <td>11.28</td>\n",
       "      <td>9.14</td>\n",
       "      <td>6.50</td>\n",
       "      <td>2.88</td>\n",
       "      <td>89.0</td>\n",
       "      <td>8.5</td>\n",
       "      <td>E</td>\n",
       "    </tr>\n",
       "    <tr>\n",
       "      <th>7</th>\n",
       "      <td>Wii Play</td>\n",
       "      <td>Wii</td>\n",
       "      <td>2006.0</td>\n",
       "      <td>Misc</td>\n",
       "      <td>13.96</td>\n",
       "      <td>9.18</td>\n",
       "      <td>2.93</td>\n",
       "      <td>2.84</td>\n",
       "      <td>58.0</td>\n",
       "      <td>6.6</td>\n",
       "      <td>E</td>\n",
       "    </tr>\n",
       "    <tr>\n",
       "      <th>8</th>\n",
       "      <td>New Super Mario Bros. Wii</td>\n",
       "      <td>Wii</td>\n",
       "      <td>2009.0</td>\n",
       "      <td>Platform</td>\n",
       "      <td>14.44</td>\n",
       "      <td>6.94</td>\n",
       "      <td>4.70</td>\n",
       "      <td>2.24</td>\n",
       "      <td>87.0</td>\n",
       "      <td>8.4</td>\n",
       "      <td>E</td>\n",
       "    </tr>\n",
       "    <tr>\n",
       "      <th>9</th>\n",
       "      <td>Duck Hunt</td>\n",
       "      <td>NES</td>\n",
       "      <td>1984.0</td>\n",
       "      <td>Shooter</td>\n",
       "      <td>26.93</td>\n",
       "      <td>0.63</td>\n",
       "      <td>0.28</td>\n",
       "      <td>0.47</td>\n",
       "      <td>NaN</td>\n",
       "      <td>NaN</td>\n",
       "      <td>NaN</td>\n",
       "    </tr>\n",
       "  </tbody>\n",
       "</table>\n",
       "</div>"
      ],
      "text/plain": [
       "                        name platform  year_of_release         genre  \\\n",
       "0                 Wii Sports      Wii           2006.0        Sports   \n",
       "1          Super Mario Bros.      NES           1985.0      Platform   \n",
       "2             Mario Kart Wii      Wii           2008.0        Racing   \n",
       "3          Wii Sports Resort      Wii           2009.0        Sports   \n",
       "4   Pokemon Red/Pokemon Blue       GB           1996.0  Role-Playing   \n",
       "5                     Tetris       GB           1989.0        Puzzle   \n",
       "6      New Super Mario Bros.       DS           2006.0      Platform   \n",
       "7                   Wii Play      Wii           2006.0          Misc   \n",
       "8  New Super Mario Bros. Wii      Wii           2009.0      Platform   \n",
       "9                  Duck Hunt      NES           1984.0       Shooter   \n",
       "\n",
       "   na_sales  eu_sales  jp_sales  other_sales  critic_score user_score rating  \n",
       "0     41.36     28.96      3.77         8.45          76.0          8      E  \n",
       "1     29.08      3.58      6.81         0.77           NaN        NaN    NaN  \n",
       "2     15.68     12.76      3.79         3.29          82.0        8.3      E  \n",
       "3     15.61     10.93      3.28         2.95          80.0          8      E  \n",
       "4     11.27      8.89     10.22         1.00           NaN        NaN    NaN  \n",
       "5     23.20      2.26      4.22         0.58           NaN        NaN    NaN  \n",
       "6     11.28      9.14      6.50         2.88          89.0        8.5      E  \n",
       "7     13.96      9.18      2.93         2.84          58.0        6.6      E  \n",
       "8     14.44      6.94      4.70         2.24          87.0        8.4      E  \n",
       "9     26.93      0.63      0.28         0.47           NaN        NaN    NaN  "
      ]
     },
     "metadata": {},
     "output_type": "display_data"
    }
   ],
   "source": [
    "display(data.head(10))"
   ]
  },
  {
   "cell_type": "markdown",
   "metadata": {},
   "source": [
    "Переименовали название столбцов под правила \"хорошего\" тона"
   ]
  },
  {
   "cell_type": "code",
   "execution_count": 6,
   "metadata": {},
   "outputs": [
    {
     "name": "stdout",
     "output_type": "stream",
     "text": [
      "<class 'pandas.core.frame.DataFrame'>\n",
      "RangeIndex: 16715 entries, 0 to 16714\n",
      "Data columns (total 11 columns):\n",
      " #   Column           Non-Null Count  Dtype  \n",
      "---  ------           --------------  -----  \n",
      " 0   name             16713 non-null  object \n",
      " 1   platform         16715 non-null  object \n",
      " 2   year_of_release  16446 non-null  float64\n",
      " 3   genre            16713 non-null  object \n",
      " 4   na_sales         16715 non-null  float64\n",
      " 5   eu_sales         16715 non-null  float64\n",
      " 6   jp_sales         16715 non-null  float64\n",
      " 7   other_sales      16715 non-null  float64\n",
      " 8   critic_score     8137 non-null   float64\n",
      " 9   user_score       10014 non-null  object \n",
      " 10  rating           9949 non-null   object \n",
      "dtypes: float64(6), object(5)\n",
      "memory usage: 1.4+ MB\n"
     ]
    }
   ],
   "source": [
    "data.info()"
   ]
  },
  {
   "cell_type": "code",
   "execution_count": 7,
   "metadata": {},
   "outputs": [
    {
     "data": {
      "text/plain": [
       "name               0.000120\n",
       "platform           0.000000\n",
       "year_of_release    0.016093\n",
       "genre              0.000120\n",
       "na_sales           0.000000\n",
       "eu_sales           0.000000\n",
       "jp_sales           0.000000\n",
       "other_sales        0.000000\n",
       "critic_score       0.513192\n",
       "user_score         0.400897\n",
       "rating             0.404786\n",
       "dtype: float64"
      ]
     },
     "execution_count": 7,
     "metadata": {},
     "output_type": "execute_result"
    }
   ],
   "source": [
    "data.isna().mean()"
   ]
  },
  {
   "cell_type": "markdown",
   "metadata": {},
   "source": [
    "Первичный анализ показывает, что в Датафрейм 16715 строк и 11 колонок  \n",
    "в столбце name два пропущенных значения  \n",
    "в столбце year_of_release 269 пропущенных значений  \n",
    "в столбце critic_score 8578 пропущенных значений  \n",
    "в столбце user_score 6701 пропущенных значений  \n",
    "в столбце rating 6766 пропущенных значений  \n",
    "устроним пропуски в стобцах, где это возможно сделать  \n",
    "Также необхолдимо поменять типы данных у стобцов: year_of_release,user_score.  "
   ]
  },
  {
   "cell_type": "code",
   "execution_count": 8,
   "metadata": {},
   "outputs": [
    {
     "data": {
      "text/html": [
       "<div>\n",
       "<style scoped>\n",
       "    .dataframe tbody tr th:only-of-type {\n",
       "        vertical-align: middle;\n",
       "    }\n",
       "\n",
       "    .dataframe tbody tr th {\n",
       "        vertical-align: top;\n",
       "    }\n",
       "\n",
       "    .dataframe thead th {\n",
       "        text-align: right;\n",
       "    }\n",
       "</style>\n",
       "<table border=\"1\" class=\"dataframe\">\n",
       "  <thead>\n",
       "    <tr style=\"text-align: right;\">\n",
       "      <th></th>\n",
       "      <th>name</th>\n",
       "      <th>platform</th>\n",
       "      <th>year_of_release</th>\n",
       "      <th>genre</th>\n",
       "      <th>na_sales</th>\n",
       "      <th>eu_sales</th>\n",
       "      <th>jp_sales</th>\n",
       "      <th>other_sales</th>\n",
       "      <th>critic_score</th>\n",
       "      <th>user_score</th>\n",
       "      <th>rating</th>\n",
       "    </tr>\n",
       "  </thead>\n",
       "  <tbody>\n",
       "    <tr>\n",
       "      <th>659</th>\n",
       "      <td>0</td>\n",
       "      <td>GEN</td>\n",
       "      <td>1993.0</td>\n",
       "      <td>0</td>\n",
       "      <td>1.78</td>\n",
       "      <td>0.53</td>\n",
       "      <td>0.00</td>\n",
       "      <td>0.08</td>\n",
       "      <td>NaN</td>\n",
       "      <td>NaN</td>\n",
       "      <td>NaN</td>\n",
       "    </tr>\n",
       "    <tr>\n",
       "      <th>14244</th>\n",
       "      <td>0</td>\n",
       "      <td>GEN</td>\n",
       "      <td>1993.0</td>\n",
       "      <td>0</td>\n",
       "      <td>0.00</td>\n",
       "      <td>0.00</td>\n",
       "      <td>0.03</td>\n",
       "      <td>0.00</td>\n",
       "      <td>NaN</td>\n",
       "      <td>NaN</td>\n",
       "      <td>NaN</td>\n",
       "    </tr>\n",
       "  </tbody>\n",
       "</table>\n",
       "</div>"
      ],
      "text/plain": [
       "      name platform  year_of_release genre  na_sales  eu_sales  jp_sales  \\\n",
       "659      0      GEN           1993.0     0      1.78      0.53      0.00   \n",
       "14244    0      GEN           1993.0     0      0.00      0.00      0.03   \n",
       "\n",
       "       other_sales  critic_score user_score rating  \n",
       "659           0.08           NaN        NaN    NaN  \n",
       "14244         0.00           NaN        NaN    NaN  "
      ]
     },
     "metadata": {},
     "output_type": "display_data"
    }
   ],
   "source": [
    "data['name'] = data['name'].fillna(0)\n",
    "data['genre'] = data['genre'].fillna(0)\n",
    "display(data[data['name'] == 0])\n"
   ]
  },
  {
   "cell_type": "markdown",
   "metadata": {},
   "source": [
    "заполнили два пропущенных значения 0 в столбце name и genre. это оказались одни и теже строки в двух столбцах\n",
    "удалим эти две строки из датафрейм"
   ]
  },
  {
   "cell_type": "code",
   "execution_count": 9,
   "metadata": {},
   "outputs": [],
   "source": [
    "data = data.drop([659,14244])"
   ]
  },
  {
   "cell_type": "markdown",
   "metadata": {},
   "source": [
    "Удалили лишнее две строки.Далее заполним  строки в столбце  year_of_release"
   ]
  },
  {
   "cell_type": "code",
   "execution_count": 10,
   "metadata": {},
   "outputs": [
    {
     "data": {
      "text/plain": [
       "array([1980., 1981., 1982., 1983., 1984., 1985., 1986., 1987., 1988.,\n",
       "       1989., 1990., 1991., 1992., 1993., 1994., 1995., 1996., 1997.,\n",
       "       1998., 1999., 2000., 2001., 2002., 2003., 2004., 2005., 2006.,\n",
       "       2007., 2008., 2009., 2010., 2011., 2012., 2013., 2014., 2015.,\n",
       "       2016.,   nan])"
      ]
     },
     "execution_count": 10,
     "metadata": {},
     "output_type": "execute_result"
    }
   ],
   "source": [
    "data['year_of_release'].sort_values().unique()"
   ]
  },
  {
   "cell_type": "markdown",
   "metadata": {},
   "source": [
    "Заполним  пропущенные года медианным значением (так как разброс большой) и посмотрим что содержится в этих строках"
   ]
  },
  {
   "cell_type": "code",
   "execution_count": 11,
   "metadata": {},
   "outputs": [
    {
     "data": {
      "text/plain": [
       "array([1980., 1981., 1982., 1983., 1984., 1985., 1986., 1987., 1988.,\n",
       "       1989., 1990., 1991., 1992., 1993., 1994., 1995., 1996., 1997.,\n",
       "       1998., 1999., 2000., 2001., 2002., 2003., 2004., 2005., 2006.,\n",
       "       2007., 2008., 2009., 2010., 2011., 2012., 2013., 2014., 2015.,\n",
       "       2016.])"
      ]
     },
     "execution_count": 11,
     "metadata": {},
     "output_type": "execute_result"
    }
   ],
   "source": [
    "data['year_of_release'] = data['year_of_release'].fillna(data['year_of_release'].median())\n",
    "data['year_of_release'].sort_values().unique()"
   ]
  },
  {
   "cell_type": "markdown",
   "metadata": {},
   "source": [
    "выравняли года, чтобы не было скачков"
   ]
  },
  {
   "cell_type": "code",
   "execution_count": 12,
   "metadata": {},
   "outputs": [],
   "source": [
    "data['year_of_release'] = data['year_of_release'].astype(int)\n"
   ]
  },
  {
   "cell_type": "markdown",
   "metadata": {},
   "source": [
    "перевели year_of_release в формат целых чисел для дальней работы с ними"
   ]
  },
  {
   "cell_type": "code",
   "execution_count": 13,
   "metadata": {},
   "outputs": [
    {
     "data": {
      "text/html": [
       "<div>\n",
       "<style scoped>\n",
       "    .dataframe tbody tr th:only-of-type {\n",
       "        vertical-align: middle;\n",
       "    }\n",
       "\n",
       "    .dataframe tbody tr th {\n",
       "        vertical-align: top;\n",
       "    }\n",
       "\n",
       "    .dataframe thead th {\n",
       "        text-align: right;\n",
       "    }\n",
       "</style>\n",
       "<table border=\"1\" class=\"dataframe\">\n",
       "  <thead>\n",
       "    <tr style=\"text-align: right;\">\n",
       "      <th></th>\n",
       "      <th>name</th>\n",
       "      <th>platform</th>\n",
       "      <th>year_of_release</th>\n",
       "      <th>genre</th>\n",
       "      <th>na_sales</th>\n",
       "      <th>eu_sales</th>\n",
       "      <th>jp_sales</th>\n",
       "      <th>other_sales</th>\n",
       "      <th>critic_score</th>\n",
       "      <th>user_score</th>\n",
       "      <th>rating</th>\n",
       "    </tr>\n",
       "  </thead>\n",
       "  <tbody>\n",
       "    <tr>\n",
       "      <th>119</th>\n",
       "      <td>Zumba Fitness</td>\n",
       "      <td>Wii</td>\n",
       "      <td>2010</td>\n",
       "      <td>Sports</td>\n",
       "      <td>3.45</td>\n",
       "      <td>2.59</td>\n",
       "      <td>0.0</td>\n",
       "      <td>0.66</td>\n",
       "      <td>NaN</td>\n",
       "      <td>tbd</td>\n",
       "      <td>E</td>\n",
       "    </tr>\n",
       "    <tr>\n",
       "      <th>301</th>\n",
       "      <td>Namco Museum: 50th Anniversary</td>\n",
       "      <td>PS2</td>\n",
       "      <td>2005</td>\n",
       "      <td>Misc</td>\n",
       "      <td>2.08</td>\n",
       "      <td>1.35</td>\n",
       "      <td>0.0</td>\n",
       "      <td>0.54</td>\n",
       "      <td>61.0</td>\n",
       "      <td>tbd</td>\n",
       "      <td>E10+</td>\n",
       "    </tr>\n",
       "    <tr>\n",
       "      <th>520</th>\n",
       "      <td>Zumba Fitness 2</td>\n",
       "      <td>Wii</td>\n",
       "      <td>2011</td>\n",
       "      <td>Sports</td>\n",
       "      <td>1.51</td>\n",
       "      <td>1.03</td>\n",
       "      <td>0.0</td>\n",
       "      <td>0.27</td>\n",
       "      <td>NaN</td>\n",
       "      <td>tbd</td>\n",
       "      <td>T</td>\n",
       "    </tr>\n",
       "    <tr>\n",
       "      <th>645</th>\n",
       "      <td>uDraw Studio</td>\n",
       "      <td>Wii</td>\n",
       "      <td>2010</td>\n",
       "      <td>Misc</td>\n",
       "      <td>1.65</td>\n",
       "      <td>0.57</td>\n",
       "      <td>0.0</td>\n",
       "      <td>0.20</td>\n",
       "      <td>71.0</td>\n",
       "      <td>tbd</td>\n",
       "      <td>E</td>\n",
       "    </tr>\n",
       "    <tr>\n",
       "      <th>657</th>\n",
       "      <td>Frogger's Adventures: Temple of the Frog</td>\n",
       "      <td>GBA</td>\n",
       "      <td>2007</td>\n",
       "      <td>Adventure</td>\n",
       "      <td>2.15</td>\n",
       "      <td>0.18</td>\n",
       "      <td>0.0</td>\n",
       "      <td>0.07</td>\n",
       "      <td>73.0</td>\n",
       "      <td>tbd</td>\n",
       "      <td>E</td>\n",
       "    </tr>\n",
       "    <tr>\n",
       "      <th>...</th>\n",
       "      <td>...</td>\n",
       "      <td>...</td>\n",
       "      <td>...</td>\n",
       "      <td>...</td>\n",
       "      <td>...</td>\n",
       "      <td>...</td>\n",
       "      <td>...</td>\n",
       "      <td>...</td>\n",
       "      <td>...</td>\n",
       "      <td>...</td>\n",
       "      <td>...</td>\n",
       "    </tr>\n",
       "    <tr>\n",
       "      <th>16695</th>\n",
       "      <td>Planet Monsters</td>\n",
       "      <td>GBA</td>\n",
       "      <td>2001</td>\n",
       "      <td>Action</td>\n",
       "      <td>0.01</td>\n",
       "      <td>0.00</td>\n",
       "      <td>0.0</td>\n",
       "      <td>0.00</td>\n",
       "      <td>67.0</td>\n",
       "      <td>tbd</td>\n",
       "      <td>E</td>\n",
       "    </tr>\n",
       "    <tr>\n",
       "      <th>16697</th>\n",
       "      <td>Bust-A-Move 3000</td>\n",
       "      <td>GC</td>\n",
       "      <td>2003</td>\n",
       "      <td>Puzzle</td>\n",
       "      <td>0.01</td>\n",
       "      <td>0.00</td>\n",
       "      <td>0.0</td>\n",
       "      <td>0.00</td>\n",
       "      <td>53.0</td>\n",
       "      <td>tbd</td>\n",
       "      <td>E</td>\n",
       "    </tr>\n",
       "    <tr>\n",
       "      <th>16698</th>\n",
       "      <td>Mega Brain Boost</td>\n",
       "      <td>DS</td>\n",
       "      <td>2008</td>\n",
       "      <td>Puzzle</td>\n",
       "      <td>0.01</td>\n",
       "      <td>0.00</td>\n",
       "      <td>0.0</td>\n",
       "      <td>0.00</td>\n",
       "      <td>48.0</td>\n",
       "      <td>tbd</td>\n",
       "      <td>E</td>\n",
       "    </tr>\n",
       "    <tr>\n",
       "      <th>16704</th>\n",
       "      <td>Plushees</td>\n",
       "      <td>DS</td>\n",
       "      <td>2008</td>\n",
       "      <td>Simulation</td>\n",
       "      <td>0.01</td>\n",
       "      <td>0.00</td>\n",
       "      <td>0.0</td>\n",
       "      <td>0.00</td>\n",
       "      <td>NaN</td>\n",
       "      <td>tbd</td>\n",
       "      <td>E</td>\n",
       "    </tr>\n",
       "    <tr>\n",
       "      <th>16706</th>\n",
       "      <td>Men in Black II: Alien Escape</td>\n",
       "      <td>GC</td>\n",
       "      <td>2003</td>\n",
       "      <td>Shooter</td>\n",
       "      <td>0.01</td>\n",
       "      <td>0.00</td>\n",
       "      <td>0.0</td>\n",
       "      <td>0.00</td>\n",
       "      <td>NaN</td>\n",
       "      <td>tbd</td>\n",
       "      <td>T</td>\n",
       "    </tr>\n",
       "  </tbody>\n",
       "</table>\n",
       "<p>2424 rows × 11 columns</p>\n",
       "</div>"
      ],
      "text/plain": [
       "                                           name platform  year_of_release  \\\n",
       "119                               Zumba Fitness      Wii             2010   \n",
       "301              Namco Museum: 50th Anniversary      PS2             2005   \n",
       "520                             Zumba Fitness 2      Wii             2011   \n",
       "645                                uDraw Studio      Wii             2010   \n",
       "657    Frogger's Adventures: Temple of the Frog      GBA             2007   \n",
       "...                                         ...      ...              ...   \n",
       "16695                           Planet Monsters      GBA             2001   \n",
       "16697                          Bust-A-Move 3000       GC             2003   \n",
       "16698                          Mega Brain Boost       DS             2008   \n",
       "16704                                  Plushees       DS             2008   \n",
       "16706             Men in Black II: Alien Escape       GC             2003   \n",
       "\n",
       "            genre  na_sales  eu_sales  jp_sales  other_sales  critic_score  \\\n",
       "119        Sports      3.45      2.59       0.0         0.66           NaN   \n",
       "301          Misc      2.08      1.35       0.0         0.54          61.0   \n",
       "520        Sports      1.51      1.03       0.0         0.27           NaN   \n",
       "645          Misc      1.65      0.57       0.0         0.20          71.0   \n",
       "657     Adventure      2.15      0.18       0.0         0.07          73.0   \n",
       "...           ...       ...       ...       ...          ...           ...   \n",
       "16695      Action      0.01      0.00       0.0         0.00          67.0   \n",
       "16697      Puzzle      0.01      0.00       0.0         0.00          53.0   \n",
       "16698      Puzzle      0.01      0.00       0.0         0.00          48.0   \n",
       "16704  Simulation      0.01      0.00       0.0         0.00           NaN   \n",
       "16706     Shooter      0.01      0.00       0.0         0.00           NaN   \n",
       "\n",
       "      user_score rating  \n",
       "119          tbd      E  \n",
       "301          tbd   E10+  \n",
       "520          tbd      T  \n",
       "645          tbd      E  \n",
       "657          tbd      E  \n",
       "...          ...    ...  \n",
       "16695        tbd      E  \n",
       "16697        tbd      E  \n",
       "16698        tbd      E  \n",
       "16704        tbd      E  \n",
       "16706        tbd      T  \n",
       "\n",
       "[2424 rows x 11 columns]"
      ]
     },
     "execution_count": 13,
     "metadata": {},
     "output_type": "execute_result"
    }
   ],
   "source": [
    "data[data['user_score']=='tbd']"
   ]
  },
  {
   "cell_type": "markdown",
   "metadata": {},
   "source": [
    "в столбце user_score 2424 строки с признаком tbd. Это означает что игра еще не вышла и ее не оценили, но при этом критики уже поставили свою оценку  \n",
    "Данное количество строк большее и удалять мы их не будем,поставим вместо tdd -0 и преобразуем все строки в формат float и \n"
   ]
  },
  {
   "cell_type": "code",
   "execution_count": 14,
   "metadata": {},
   "outputs": [
    {
     "name": "stdout",
     "output_type": "stream",
     "text": [
      "<class 'pandas.core.frame.DataFrame'>\n",
      "Int64Index: 16713 entries, 0 to 16714\n",
      "Data columns (total 11 columns):\n",
      " #   Column           Non-Null Count  Dtype  \n",
      "---  ------           --------------  -----  \n",
      " 0   name             16713 non-null  object \n",
      " 1   platform         16713 non-null  object \n",
      " 2   year_of_release  16713 non-null  int64  \n",
      " 3   genre            16713 non-null  object \n",
      " 4   na_sales         16713 non-null  float64\n",
      " 5   eu_sales         16713 non-null  float64\n",
      " 6   jp_sales         16713 non-null  float64\n",
      " 7   other_sales      16713 non-null  float64\n",
      " 8   critic_score     8137 non-null   float64\n",
      " 9   user_score       10014 non-null  float64\n",
      " 10  rating           9949 non-null   object \n",
      "dtypes: float64(6), int64(1), object(4)\n",
      "memory usage: 1.5+ MB\n"
     ]
    }
   ],
   "source": [
    "data['user_score'] = data['user_score'].replace('tbd',0)\n",
    "data['user_score'] = pd.to_numeric(data['user_score'],errors='raise').round(1)\n",
    "data.info()"
   ]
  },
  {
   "cell_type": "code",
   "execution_count": 15,
   "metadata": {},
   "outputs": [
    {
     "data": {
      "text/plain": [
       "no-rating    6764\n",
       "E            3993\n",
       "T            2961\n",
       "M            1563\n",
       "E10+         1420\n",
       "EC              8\n",
       "RP              3\n",
       "AO              1\n",
       "Name: rating, dtype: int64"
      ]
     },
     "execution_count": 15,
     "metadata": {},
     "output_type": "execute_result"
    }
   ],
   "source": [
    "data['rating'] = data['rating'].replace('K-A','E')\n",
    "data['rating'] = data['rating'].fillna('no-rating')\n",
    "data['rating'].value_counts()"
   ]
  },
  {
   "cell_type": "markdown",
   "metadata": {},
   "source": [
    "**Пропуски в столбце rating решено выделить в отдельную группу 'no-rating'**\n",
    "Данные пропуски связаны скорее всего с тем,что ESRB начали  свою деятельность только в 1994 году."
   ]
  },
  {
   "cell_type": "code",
   "execution_count": 16,
   "metadata": {},
   "outputs": [
    {
     "data": {
      "text/html": [
       "<div>\n",
       "<style scoped>\n",
       "    .dataframe tbody tr th:only-of-type {\n",
       "        vertical-align: middle;\n",
       "    }\n",
       "\n",
       "    .dataframe tbody tr th {\n",
       "        vertical-align: top;\n",
       "    }\n",
       "\n",
       "    .dataframe thead th {\n",
       "        text-align: right;\n",
       "    }\n",
       "</style>\n",
       "<table border=\"1\" class=\"dataframe\">\n",
       "  <thead>\n",
       "    <tr style=\"text-align: right;\">\n",
       "      <th></th>\n",
       "      <th>name</th>\n",
       "      <th>platform</th>\n",
       "      <th>year_of_release</th>\n",
       "      <th>genre</th>\n",
       "      <th>na_sales</th>\n",
       "      <th>eu_sales</th>\n",
       "      <th>jp_sales</th>\n",
       "      <th>other_sales</th>\n",
       "      <th>critic_score</th>\n",
       "      <th>user_score</th>\n",
       "      <th>rating</th>\n",
       "      <th>total_sales</th>\n",
       "    </tr>\n",
       "  </thead>\n",
       "  <tbody>\n",
       "    <tr>\n",
       "      <th>0</th>\n",
       "      <td>Wii Sports</td>\n",
       "      <td>Wii</td>\n",
       "      <td>2006</td>\n",
       "      <td>Sports</td>\n",
       "      <td>41.36</td>\n",
       "      <td>28.96</td>\n",
       "      <td>3.77</td>\n",
       "      <td>8.45</td>\n",
       "      <td>76.0</td>\n",
       "      <td>8.0</td>\n",
       "      <td>E</td>\n",
       "      <td>82.54</td>\n",
       "    </tr>\n",
       "    <tr>\n",
       "      <th>1</th>\n",
       "      <td>Super Mario Bros.</td>\n",
       "      <td>NES</td>\n",
       "      <td>1985</td>\n",
       "      <td>Platform</td>\n",
       "      <td>29.08</td>\n",
       "      <td>3.58</td>\n",
       "      <td>6.81</td>\n",
       "      <td>0.77</td>\n",
       "      <td>NaN</td>\n",
       "      <td>NaN</td>\n",
       "      <td>no-rating</td>\n",
       "      <td>40.24</td>\n",
       "    </tr>\n",
       "    <tr>\n",
       "      <th>2</th>\n",
       "      <td>Mario Kart Wii</td>\n",
       "      <td>Wii</td>\n",
       "      <td>2008</td>\n",
       "      <td>Racing</td>\n",
       "      <td>15.68</td>\n",
       "      <td>12.76</td>\n",
       "      <td>3.79</td>\n",
       "      <td>3.29</td>\n",
       "      <td>82.0</td>\n",
       "      <td>8.3</td>\n",
       "      <td>E</td>\n",
       "      <td>35.52</td>\n",
       "    </tr>\n",
       "    <tr>\n",
       "      <th>3</th>\n",
       "      <td>Wii Sports Resort</td>\n",
       "      <td>Wii</td>\n",
       "      <td>2009</td>\n",
       "      <td>Sports</td>\n",
       "      <td>15.61</td>\n",
       "      <td>10.93</td>\n",
       "      <td>3.28</td>\n",
       "      <td>2.95</td>\n",
       "      <td>80.0</td>\n",
       "      <td>8.0</td>\n",
       "      <td>E</td>\n",
       "      <td>32.77</td>\n",
       "    </tr>\n",
       "    <tr>\n",
       "      <th>4</th>\n",
       "      <td>Pokemon Red/Pokemon Blue</td>\n",
       "      <td>GB</td>\n",
       "      <td>1996</td>\n",
       "      <td>Role-Playing</td>\n",
       "      <td>11.27</td>\n",
       "      <td>8.89</td>\n",
       "      <td>10.22</td>\n",
       "      <td>1.00</td>\n",
       "      <td>NaN</td>\n",
       "      <td>NaN</td>\n",
       "      <td>no-rating</td>\n",
       "      <td>31.38</td>\n",
       "    </tr>\n",
       "    <tr>\n",
       "      <th>5</th>\n",
       "      <td>Tetris</td>\n",
       "      <td>GB</td>\n",
       "      <td>1989</td>\n",
       "      <td>Puzzle</td>\n",
       "      <td>23.20</td>\n",
       "      <td>2.26</td>\n",
       "      <td>4.22</td>\n",
       "      <td>0.58</td>\n",
       "      <td>NaN</td>\n",
       "      <td>NaN</td>\n",
       "      <td>no-rating</td>\n",
       "      <td>30.26</td>\n",
       "    </tr>\n",
       "    <tr>\n",
       "      <th>6</th>\n",
       "      <td>New Super Mario Bros.</td>\n",
       "      <td>DS</td>\n",
       "      <td>2006</td>\n",
       "      <td>Platform</td>\n",
       "      <td>11.28</td>\n",
       "      <td>9.14</td>\n",
       "      <td>6.50</td>\n",
       "      <td>2.88</td>\n",
       "      <td>89.0</td>\n",
       "      <td>8.5</td>\n",
       "      <td>E</td>\n",
       "      <td>29.80</td>\n",
       "    </tr>\n",
       "    <tr>\n",
       "      <th>7</th>\n",
       "      <td>Wii Play</td>\n",
       "      <td>Wii</td>\n",
       "      <td>2006</td>\n",
       "      <td>Misc</td>\n",
       "      <td>13.96</td>\n",
       "      <td>9.18</td>\n",
       "      <td>2.93</td>\n",
       "      <td>2.84</td>\n",
       "      <td>58.0</td>\n",
       "      <td>6.6</td>\n",
       "      <td>E</td>\n",
       "      <td>28.91</td>\n",
       "    </tr>\n",
       "    <tr>\n",
       "      <th>8</th>\n",
       "      <td>New Super Mario Bros. Wii</td>\n",
       "      <td>Wii</td>\n",
       "      <td>2009</td>\n",
       "      <td>Platform</td>\n",
       "      <td>14.44</td>\n",
       "      <td>6.94</td>\n",
       "      <td>4.70</td>\n",
       "      <td>2.24</td>\n",
       "      <td>87.0</td>\n",
       "      <td>8.4</td>\n",
       "      <td>E</td>\n",
       "      <td>28.32</td>\n",
       "    </tr>\n",
       "    <tr>\n",
       "      <th>9</th>\n",
       "      <td>Duck Hunt</td>\n",
       "      <td>NES</td>\n",
       "      <td>1984</td>\n",
       "      <td>Shooter</td>\n",
       "      <td>26.93</td>\n",
       "      <td>0.63</td>\n",
       "      <td>0.28</td>\n",
       "      <td>0.47</td>\n",
       "      <td>NaN</td>\n",
       "      <td>NaN</td>\n",
       "      <td>no-rating</td>\n",
       "      <td>28.31</td>\n",
       "    </tr>\n",
       "  </tbody>\n",
       "</table>\n",
       "</div>"
      ],
      "text/plain": [
       "                        name platform  year_of_release         genre  \\\n",
       "0                 Wii Sports      Wii             2006        Sports   \n",
       "1          Super Mario Bros.      NES             1985      Platform   \n",
       "2             Mario Kart Wii      Wii             2008        Racing   \n",
       "3          Wii Sports Resort      Wii             2009        Sports   \n",
       "4   Pokemon Red/Pokemon Blue       GB             1996  Role-Playing   \n",
       "5                     Tetris       GB             1989        Puzzle   \n",
       "6      New Super Mario Bros.       DS             2006      Platform   \n",
       "7                   Wii Play      Wii             2006          Misc   \n",
       "8  New Super Mario Bros. Wii      Wii             2009      Platform   \n",
       "9                  Duck Hunt      NES             1984       Shooter   \n",
       "\n",
       "   na_sales  eu_sales  jp_sales  other_sales  critic_score  user_score  \\\n",
       "0     41.36     28.96      3.77         8.45          76.0         8.0   \n",
       "1     29.08      3.58      6.81         0.77           NaN         NaN   \n",
       "2     15.68     12.76      3.79         3.29          82.0         8.3   \n",
       "3     15.61     10.93      3.28         2.95          80.0         8.0   \n",
       "4     11.27      8.89     10.22         1.00           NaN         NaN   \n",
       "5     23.20      2.26      4.22         0.58           NaN         NaN   \n",
       "6     11.28      9.14      6.50         2.88          89.0         8.5   \n",
       "7     13.96      9.18      2.93         2.84          58.0         6.6   \n",
       "8     14.44      6.94      4.70         2.24          87.0         8.4   \n",
       "9     26.93      0.63      0.28         0.47           NaN         NaN   \n",
       "\n",
       "      rating  total_sales  \n",
       "0          E        82.54  \n",
       "1  no-rating        40.24  \n",
       "2          E        35.52  \n",
       "3          E        32.77  \n",
       "4  no-rating        31.38  \n",
       "5  no-rating        30.26  \n",
       "6          E        29.80  \n",
       "7          E        28.91  \n",
       "8          E        28.32  \n",
       "9  no-rating        28.31  "
      ]
     },
     "metadata": {},
     "output_type": "display_data"
    }
   ],
   "source": [
    "data['total_sales'] = data['na_sales'] + data['eu_sales'] + data['jp_sales']+ data['other_sales']\n",
    "display(data.head(10))"
   ]
  },
  {
   "cell_type": "markdown",
   "metadata": {},
   "source": [
    "Посчитали суммарные продажи во всех регионах и записали их в  столбец total_sales"
   ]
  },
  {
   "cell_type": "markdown",
   "metadata": {},
   "source": [
    "Выводы:   \n",
    "В Датафрейм 16715 строк и 11 колонок. \n",
    "в столбце name два пропущенных значения  \n",
    "в столбце year_of_release обработано 269  значений и проставили медианное значение вместо пропусков   \n",
    "в столбце rating 6766 пропущенных значений. Выделили их в отдельную группу 'no-rating'.ESRB начали свою деятельность в 1994 году.  \n",
    "Поменяли типы данных у стобцов: year_of_release,user_score.\n",
    "Удалили лишнее две строки в столбце name и genre\n",
    "В столбце user_score 2424 строки с признаком tbd. Это означает что игра еще не вышла и ее не оценили. \n",
    "Данное количество строк большое и удалять мы их не стали,поставили вместо tdd -0 и преобразовали все строки в формат float   \n",
    "Посчитали суммарные продажи во всех регионах и записали их в  столбец total_sales  "
   ]
  },
  {
   "cell_type": "markdown",
   "metadata": {},
   "source": [
    "**2.Исследовательский анализ данных**"
   ]
  },
  {
   "cell_type": "code",
   "execution_count": 17,
   "metadata": {},
   "outputs": [],
   "source": [
    "data_game = data.pivot_table(index='year_of_release',values ='genre', aggfunc = 'count')"
   ]
  },
  {
   "cell_type": "code",
   "execution_count": 18,
   "metadata": {},
   "outputs": [
    {
     "data": {
      "text/plain": [
       "<AxesSubplot:title={'center':'динамика по годам(кол-во игр)'}, xlabel='год', ylabel='количество игр'>"
      ]
     },
     "metadata": {},
     "output_type": "display_data"
    },
    {
     "data": {
      "image/png": "[encoded data removed]",
      "text/plain": [
       "<Figure size 864x360 with 1 Axes>"
      ]
     },
     "metadata": {
      "needs_background": "light"
     },
     "output_type": "display_data"
    }
   ],
   "source": [
    "plt.rcParams['figure.figsize'] = [12,5]\n",
    "display(data_game.sort_values(by = 'genre',ascending = True).plot(kind='bar',title='динамика по годам(кол-во игр)',xlabel='год',ylabel='количество игр'));"
   ]
  },
  {
   "cell_type": "markdown",
   "metadata": {},
   "source": [
    "Как видно по динамики 2007-2011 гг. выпускалось наибольшее количество игр  \n",
    "С 1980 года динамика была однородная и шла по возростанию, но в 1994 году наблюдается резкий скачок(напомним,что ERSB начала свою деятельность в 1994 году)\n",
    "до 2011 г. шел рост, но затем все пошло на спад\n",
    "\n",
    "Можно пренебречь данными до 1994 года"
   ]
  },
  {
   "cell_type": "code",
   "execution_count": 19,
   "metadata": {},
   "outputs": [
    {
     "data": {
      "text/html": [
       "<div>\n",
       "<style scoped>\n",
       "    .dataframe tbody tr th:only-of-type {\n",
       "        vertical-align: middle;\n",
       "    }\n",
       "\n",
       "    .dataframe tbody tr th {\n",
       "        vertical-align: top;\n",
       "    }\n",
       "\n",
       "    .dataframe thead th {\n",
       "        text-align: right;\n",
       "    }\n",
       "</style>\n",
       "<table border=\"1\" class=\"dataframe\">\n",
       "  <thead>\n",
       "    <tr style=\"text-align: right;\">\n",
       "      <th></th>\n",
       "      <th>Продажи</th>\n",
       "    </tr>\n",
       "    <tr>\n",
       "      <th>platform</th>\n",
       "      <th></th>\n",
       "    </tr>\n",
       "  </thead>\n",
       "  <tbody>\n",
       "    <tr>\n",
       "      <th>PS2</th>\n",
       "      <td>1255.77</td>\n",
       "    </tr>\n",
       "    <tr>\n",
       "      <th>X360</th>\n",
       "      <td>971.42</td>\n",
       "    </tr>\n",
       "    <tr>\n",
       "      <th>PS3</th>\n",
       "      <td>939.65</td>\n",
       "    </tr>\n",
       "    <tr>\n",
       "      <th>Wii</th>\n",
       "      <td>907.51</td>\n",
       "    </tr>\n",
       "    <tr>\n",
       "      <th>DS</th>\n",
       "      <td>806.12</td>\n",
       "    </tr>\n",
       "  </tbody>\n",
       "</table>\n",
       "</div>"
      ],
      "text/plain": [
       "          Продажи\n",
       "platform         \n",
       "PS2       1255.77\n",
       "X360       971.42\n",
       "PS3        939.65\n",
       "Wii        907.51\n",
       "DS         806.12"
      ]
     },
     "metadata": {},
     "output_type": "display_data"
    }
   ],
   "source": [
    "date_platform = data.pivot_table(index = 'platform',\n",
    "                                 values = 'total_sales', \n",
    "                                 aggfunc = 'sum')\n",
    "date_platform.columns = ['Продажи']\n",
    "display(date_platform.sort_values(by='Продажи',ascending = False).head())"
   ]
  },
  {
   "cell_type": "markdown",
   "metadata": {},
   "source": [
    "Наиболее популярные платформы это: PS2,X360,PS3,Wii и Ds\n",
    "Посстроим по ним графики по годам"
   ]
  },
  {
   "cell_type": "code",
   "execution_count": 20,
   "metadata": {},
   "outputs": [
    {
     "data": {
      "image/png": "[encoded data removed]",
      "text/plain": [
       "<Figure size 864x360 with 1 Axes>"
      ]
     },
     "metadata": {
      "needs_background": "light"
     },
     "output_type": "display_data"
    }
   ],
   "source": [
    "ps_2=data.query('platform == \"PS2\"').pivot_table(index='year_of_release',values = 'total_sales',aggfunc ='sum')\n",
    "ps_2.plot()\n",
    "plt.xlabel('Год')\n",
    "plt.ylabel('Продажи')\n",
    "plt.title('PS2')\n",
    "plt.show();"
   ]
  },
  {
   "cell_type": "markdown",
   "metadata": {},
   "source": [
    "Наблюдается падение после 2004 года(5-й год)"
   ]
  },
  {
   "cell_type": "code",
   "execution_count": 21,
   "metadata": {},
   "outputs": [
    {
     "data": {
      "image/png": "[encoded data removed]",
      "text/plain": [
       "<Figure size 864x360 with 1 Axes>"
      ]
     },
     "metadata": {
      "needs_background": "light"
     },
     "output_type": "display_data"
    }
   ],
   "source": [
    "X_360=data.query('platform == \"X360\"').pivot_table(index='year_of_release',values = 'total_sales',aggfunc ='sum')\n",
    "X_360.plot()\n",
    "plt.xlabel('Год')\n",
    "plt.ylabel('Продажи')\n",
    "plt.title('X360')\n",
    "plt.show();"
   ]
  },
  {
   "cell_type": "markdown",
   "metadata": {},
   "source": [
    "Наблюдается падение после 2010 года(5-й год)"
   ]
  },
  {
   "cell_type": "code",
   "execution_count": 22,
   "metadata": {},
   "outputs": [
    {
     "data": {
      "image/png": "[encoded data removed]",
      "text/plain": [
       "<Figure size 864x360 with 1 Axes>"
      ]
     },
     "metadata": {
      "needs_background": "light"
     },
     "output_type": "display_data"
    }
   ],
   "source": [
    "ps_3=data.query('platform == \"PS3\"').pivot_table(index='year_of_release',values = 'total_sales',aggfunc ='sum')\n",
    "ps_3.plot()\n",
    "plt.xlabel('Год')\n",
    "plt.ylabel('Продажи')\n",
    "plt.title('PS3')\n",
    "plt.show();"
   ]
  },
  {
   "cell_type": "markdown",
   "metadata": {},
   "source": [
    "Наблюдается падение после 2010 года(5-й год)"
   ]
  },
  {
   "cell_type": "code",
   "execution_count": 23,
   "metadata": {},
   "outputs": [
    {
     "data": {
      "image/png": "[encoded data removed]",
      "text/plain": [
       "<Figure size 864x360 with 1 Axes>"
      ]
     },
     "metadata": {
      "needs_background": "light"
     },
     "output_type": "display_data"
    }
   ],
   "source": [
    "wii=data.query('platform == \"Wii\"').pivot_table(index='year_of_release',values = 'total_sales',aggfunc ='sum')\n",
    "wii.plot()\n",
    "plt.xlabel('Год')\n",
    "plt.ylabel('Продажи')\n",
    "plt.title('Wii')\n",
    "plt.show();"
   ]
  },
  {
   "cell_type": "markdown",
   "metadata": {},
   "source": [
    "Наблюдается падение после 2009 года(4-й год)"
   ]
  },
  {
   "cell_type": "code",
   "execution_count": 24,
   "metadata": {},
   "outputs": [
    {
     "data": {
      "image/png": "[encoded data removed]",
      "text/plain": [
       "<Figure size 864x360 with 1 Axes>"
      ]
     },
     "metadata": {
      "needs_background": "light"
     },
     "output_type": "display_data"
    }
   ],
   "source": [
    "ps=data.query('platform == \"PS\"').pivot_table(index='year_of_release',values = 'total_sales',aggfunc ='sum')\n",
    "ps.plot()\n",
    "plt.xlabel('Год')\n",
    "plt.ylabel('Продажи')\n",
    "plt.title('PS')\n",
    "plt.show();"
   ]
  },
  {
   "cell_type": "markdown",
   "metadata": {},
   "source": [
    "Наблюдается падение после 1998 года(5-й год)"
   ]
  },
  {
   "cell_type": "markdown",
   "metadata": {},
   "source": [
    "У платформ наблюдается одинаковая динамика\n",
    "в начале идет рост и затем падение(после 5 лет работы)\n",
    "в среднем платформы работают 10 лет\n",
    "На примере PS и их трех поколений платформ можно сделать вывод, что новые платформы появляются через 5 лет, как раз как идет спад в продажах\n"
   ]
  },
  {
   "cell_type": "code",
   "execution_count": 25,
   "metadata": {},
   "outputs": [
    {
     "data": {
      "text/html": [
       "<div>\n",
       "<style scoped>\n",
       "    .dataframe tbody tr th:only-of-type {\n",
       "        vertical-align: middle;\n",
       "    }\n",
       "\n",
       "    .dataframe tbody tr th {\n",
       "        vertical-align: top;\n",
       "    }\n",
       "\n",
       "    .dataframe thead th {\n",
       "        text-align: right;\n",
       "    }\n",
       "</style>\n",
       "<table border=\"1\" class=\"dataframe\">\n",
       "  <thead>\n",
       "    <tr style=\"text-align: right;\">\n",
       "      <th></th>\n",
       "      <th>name</th>\n",
       "      <th>platform</th>\n",
       "      <th>year_of_release</th>\n",
       "      <th>genre</th>\n",
       "      <th>na_sales</th>\n",
       "      <th>eu_sales</th>\n",
       "      <th>jp_sales</th>\n",
       "      <th>other_sales</th>\n",
       "      <th>critic_score</th>\n",
       "      <th>user_score</th>\n",
       "      <th>rating</th>\n",
       "      <th>total_sales</th>\n",
       "    </tr>\n",
       "  </thead>\n",
       "  <tbody>\n",
       "    <tr>\n",
       "      <th>16</th>\n",
       "      <td>Grand Theft Auto V</td>\n",
       "      <td>PS3</td>\n",
       "      <td>2013</td>\n",
       "      <td>Action</td>\n",
       "      <td>7.02</td>\n",
       "      <td>9.09</td>\n",
       "      <td>0.98</td>\n",
       "      <td>3.96</td>\n",
       "      <td>97.0</td>\n",
       "      <td>8.2</td>\n",
       "      <td>M</td>\n",
       "      <td>21.05</td>\n",
       "    </tr>\n",
       "    <tr>\n",
       "      <th>23</th>\n",
       "      <td>Grand Theft Auto V</td>\n",
       "      <td>X360</td>\n",
       "      <td>2013</td>\n",
       "      <td>Action</td>\n",
       "      <td>9.66</td>\n",
       "      <td>5.14</td>\n",
       "      <td>0.06</td>\n",
       "      <td>1.41</td>\n",
       "      <td>97.0</td>\n",
       "      <td>8.1</td>\n",
       "      <td>M</td>\n",
       "      <td>16.27</td>\n",
       "    </tr>\n",
       "    <tr>\n",
       "      <th>31</th>\n",
       "      <td>Call of Duty: Black Ops 3</td>\n",
       "      <td>PS4</td>\n",
       "      <td>2015</td>\n",
       "      <td>Shooter</td>\n",
       "      <td>6.03</td>\n",
       "      <td>5.86</td>\n",
       "      <td>0.36</td>\n",
       "      <td>2.38</td>\n",
       "      <td>NaN</td>\n",
       "      <td>NaN</td>\n",
       "      <td>no-rating</td>\n",
       "      <td>14.63</td>\n",
       "    </tr>\n",
       "    <tr>\n",
       "      <th>33</th>\n",
       "      <td>Pokemon X/Pokemon Y</td>\n",
       "      <td>3DS</td>\n",
       "      <td>2013</td>\n",
       "      <td>Role-Playing</td>\n",
       "      <td>5.28</td>\n",
       "      <td>4.19</td>\n",
       "      <td>4.35</td>\n",
       "      <td>0.78</td>\n",
       "      <td>NaN</td>\n",
       "      <td>NaN</td>\n",
       "      <td>no-rating</td>\n",
       "      <td>14.60</td>\n",
       "    </tr>\n",
       "    <tr>\n",
       "      <th>42</th>\n",
       "      <td>Grand Theft Auto V</td>\n",
       "      <td>PS4</td>\n",
       "      <td>2014</td>\n",
       "      <td>Action</td>\n",
       "      <td>3.96</td>\n",
       "      <td>6.31</td>\n",
       "      <td>0.38</td>\n",
       "      <td>1.97</td>\n",
       "      <td>97.0</td>\n",
       "      <td>8.3</td>\n",
       "      <td>M</td>\n",
       "      <td>12.62</td>\n",
       "    </tr>\n",
       "    <tr>\n",
       "      <th>...</th>\n",
       "      <td>...</td>\n",
       "      <td>...</td>\n",
       "      <td>...</td>\n",
       "      <td>...</td>\n",
       "      <td>...</td>\n",
       "      <td>...</td>\n",
       "      <td>...</td>\n",
       "      <td>...</td>\n",
       "      <td>...</td>\n",
       "      <td>...</td>\n",
       "      <td>...</td>\n",
       "      <td>...</td>\n",
       "    </tr>\n",
       "    <tr>\n",
       "      <th>16703</th>\n",
       "      <td>Strawberry Nauts</td>\n",
       "      <td>PSV</td>\n",
       "      <td>2016</td>\n",
       "      <td>Adventure</td>\n",
       "      <td>0.00</td>\n",
       "      <td>0.00</td>\n",
       "      <td>0.01</td>\n",
       "      <td>0.00</td>\n",
       "      <td>NaN</td>\n",
       "      <td>NaN</td>\n",
       "      <td>no-rating</td>\n",
       "      <td>0.01</td>\n",
       "    </tr>\n",
       "    <tr>\n",
       "      <th>16707</th>\n",
       "      <td>Aiyoku no Eustia</td>\n",
       "      <td>PSV</td>\n",
       "      <td>2014</td>\n",
       "      <td>Misc</td>\n",
       "      <td>0.00</td>\n",
       "      <td>0.00</td>\n",
       "      <td>0.01</td>\n",
       "      <td>0.00</td>\n",
       "      <td>NaN</td>\n",
       "      <td>NaN</td>\n",
       "      <td>no-rating</td>\n",
       "      <td>0.01</td>\n",
       "    </tr>\n",
       "    <tr>\n",
       "      <th>16710</th>\n",
       "      <td>Samurai Warriors: Sanada Maru</td>\n",
       "      <td>PS3</td>\n",
       "      <td>2016</td>\n",
       "      <td>Action</td>\n",
       "      <td>0.00</td>\n",
       "      <td>0.00</td>\n",
       "      <td>0.01</td>\n",
       "      <td>0.00</td>\n",
       "      <td>NaN</td>\n",
       "      <td>NaN</td>\n",
       "      <td>no-rating</td>\n",
       "      <td>0.01</td>\n",
       "    </tr>\n",
       "    <tr>\n",
       "      <th>16712</th>\n",
       "      <td>Haitaka no Psychedelica</td>\n",
       "      <td>PSV</td>\n",
       "      <td>2016</td>\n",
       "      <td>Adventure</td>\n",
       "      <td>0.00</td>\n",
       "      <td>0.00</td>\n",
       "      <td>0.01</td>\n",
       "      <td>0.00</td>\n",
       "      <td>NaN</td>\n",
       "      <td>NaN</td>\n",
       "      <td>no-rating</td>\n",
       "      <td>0.01</td>\n",
       "    </tr>\n",
       "    <tr>\n",
       "      <th>16714</th>\n",
       "      <td>Winning Post 8 2016</td>\n",
       "      <td>PSV</td>\n",
       "      <td>2016</td>\n",
       "      <td>Simulation</td>\n",
       "      <td>0.00</td>\n",
       "      <td>0.00</td>\n",
       "      <td>0.01</td>\n",
       "      <td>0.00</td>\n",
       "      <td>NaN</td>\n",
       "      <td>NaN</td>\n",
       "      <td>no-rating</td>\n",
       "      <td>0.01</td>\n",
       "    </tr>\n",
       "  </tbody>\n",
       "</table>\n",
       "<p>2233 rows × 12 columns</p>\n",
       "</div>"
      ],
      "text/plain": [
       "                                name platform  year_of_release         genre  \\\n",
       "16                Grand Theft Auto V      PS3             2013        Action   \n",
       "23                Grand Theft Auto V     X360             2013        Action   \n",
       "31         Call of Duty: Black Ops 3      PS4             2015       Shooter   \n",
       "33               Pokemon X/Pokemon Y      3DS             2013  Role-Playing   \n",
       "42                Grand Theft Auto V      PS4             2014        Action   \n",
       "...                              ...      ...              ...           ...   \n",
       "16703               Strawberry Nauts      PSV             2016     Adventure   \n",
       "16707               Aiyoku no Eustia      PSV             2014          Misc   \n",
       "16710  Samurai Warriors: Sanada Maru      PS3             2016        Action   \n",
       "16712        Haitaka no Psychedelica      PSV             2016     Adventure   \n",
       "16714            Winning Post 8 2016      PSV             2016    Simulation   \n",
       "\n",
       "       na_sales  eu_sales  jp_sales  other_sales  critic_score  user_score  \\\n",
       "16         7.02      9.09      0.98         3.96          97.0         8.2   \n",
       "23         9.66      5.14      0.06         1.41          97.0         8.1   \n",
       "31         6.03      5.86      0.36         2.38           NaN         NaN   \n",
       "33         5.28      4.19      4.35         0.78           NaN         NaN   \n",
       "42         3.96      6.31      0.38         1.97          97.0         8.3   \n",
       "...         ...       ...       ...          ...           ...         ...   \n",
       "16703      0.00      0.00      0.01         0.00           NaN         NaN   \n",
       "16707      0.00      0.00      0.01         0.00           NaN         NaN   \n",
       "16710      0.00      0.00      0.01         0.00           NaN         NaN   \n",
       "16712      0.00      0.00      0.01         0.00           NaN         NaN   \n",
       "16714      0.00      0.00      0.01         0.00           NaN         NaN   \n",
       "\n",
       "          rating  total_sales  \n",
       "16             M        21.05  \n",
       "23             M        16.27  \n",
       "31     no-rating        14.63  \n",
       "33     no-rating        14.60  \n",
       "42             M        12.62  \n",
       "...          ...          ...  \n",
       "16703  no-rating         0.01  \n",
       "16707  no-rating         0.01  \n",
       "16710  no-rating         0.01  \n",
       "16712  no-rating         0.01  \n",
       "16714  no-rating         0.01  \n",
       "\n",
       "[2233 rows x 12 columns]"
      ]
     },
     "metadata": {},
     "output_type": "display_data"
    }
   ],
   "source": [
    "data_year = data.query('2013<=year_of_release <=2016')\n",
    "\n",
    "display(data_year)"
   ]
  },
  {
   "cell_type": "markdown",
   "metadata": {},
   "source": [
    "Анализ данных показал что действующий рабочий цикл (подъем-спад) это около 10 лет при этом каждые 5 лет появляются новые платформы и идет спад у старых платформ, то берем период с 2013-2016 гг. Это составляет рабочий датафрейм data_year из 2233 строк"
   ]
  },
  {
   "cell_type": "code",
   "execution_count": 26,
   "metadata": {},
   "outputs": [
    {
     "data": {
      "text/html": [
       "<div>\n",
       "<style scoped>\n",
       "    .dataframe tbody tr th:only-of-type {\n",
       "        vertical-align: middle;\n",
       "    }\n",
       "\n",
       "    .dataframe tbody tr th {\n",
       "        vertical-align: top;\n",
       "    }\n",
       "\n",
       "    .dataframe thead th {\n",
       "        text-align: right;\n",
       "    }\n",
       "</style>\n",
       "<table border=\"1\" class=\"dataframe\">\n",
       "  <thead>\n",
       "    <tr style=\"text-align: right;\">\n",
       "      <th></th>\n",
       "      <th>Продажи</th>\n",
       "    </tr>\n",
       "    <tr>\n",
       "      <th>platform</th>\n",
       "      <th></th>\n",
       "    </tr>\n",
       "  </thead>\n",
       "  <tbody>\n",
       "    <tr>\n",
       "      <th>PS4</th>\n",
       "      <td>314.14</td>\n",
       "    </tr>\n",
       "    <tr>\n",
       "      <th>PS3</th>\n",
       "      <td>181.43</td>\n",
       "    </tr>\n",
       "    <tr>\n",
       "      <th>XOne</th>\n",
       "      <td>159.32</td>\n",
       "    </tr>\n",
       "    <tr>\n",
       "      <th>3DS</th>\n",
       "      <td>143.25</td>\n",
       "    </tr>\n",
       "    <tr>\n",
       "      <th>X360</th>\n",
       "      <td>136.80</td>\n",
       "    </tr>\n",
       "  </tbody>\n",
       "</table>\n",
       "</div>"
      ],
      "text/plain": [
       "          Продажи\n",
       "platform         \n",
       "PS4        314.14\n",
       "PS3        181.43\n",
       "XOne       159.32\n",
       "3DS        143.25\n",
       "X360       136.80"
      ]
     },
     "metadata": {},
     "output_type": "display_data"
    }
   ],
   "source": [
    "data_platform_year = data_year.pivot_table(index = 'platform',\n",
    "                                 values = 'total_sales', \n",
    "                                 aggfunc = 'sum')\n",
    "data_platform_year.columns = ['Продажи']\n",
    "display(data_platform_year.sort_values(by='Продажи',ascending = False).head())"
   ]
  },
  {
   "cell_type": "markdown",
   "metadata": {},
   "source": [
    "За последние 5 лет наиболее стабильные и набирающие обороты платформы: PS3,X360,PS4,3DS и XOne\n",
    "Далее проверим их динамику"
   ]
  },
  {
   "cell_type": "code",
   "execution_count": 27,
   "metadata": {},
   "outputs": [
    {
     "data": {
      "image/png": "[encoded data removed]",
      "text/plain": [
       "<Figure size 864x360 with 1 Axes>"
      ]
     },
     "metadata": {
      "needs_background": "light"
     },
     "output_type": "display_data"
    }
   ],
   "source": [
    "ps_3_new = data_year.query('platform == \"PS3\"').pivot_table(index='year_of_release',\n",
    "                                                            values = 'total_sales',aggfunc ='sum')\n",
    "ps_3_new.plot(kind='bar')\n",
    "plt.xlabel('Год')\n",
    "plt.legend('Продажи')\n",
    "plt.title('PS3')\n",
    "plt.show();"
   ]
  },
  {
   "cell_type": "code",
   "execution_count": 28,
   "metadata": {},
   "outputs": [
    {
     "data": {
      "image/png": "[encoded data removed]",
      "text/plain": [
       "<Figure size 864x360 with 1 Axes>"
      ]
     },
     "metadata": {
      "needs_background": "light"
     },
     "output_type": "display_data"
    }
   ],
   "source": [
    "x_360_new =data_year.query('platform == \"X360\"').pivot_table(index='year_of_release',\n",
    "                                                             values = 'total_sales',aggfunc ='sum')\n",
    "x_360_new.plot(kind='bar');\n",
    "plt.xlabel('Год')\n",
    "plt.legend('Продажи')\n",
    "plt.title('X360')\n",
    "plt.show();"
   ]
  },
  {
   "cell_type": "code",
   "execution_count": 29,
   "metadata": {},
   "outputs": [
    {
     "data": {
      "image/png": "[encoded data removed]",
      "text/plain": [
       "<Figure size 864x360 with 1 Axes>"
      ]
     },
     "metadata": {
      "needs_background": "light"
     },
     "output_type": "display_data"
    }
   ],
   "source": [
    "ps_4_new =data_year.query('platform == \"PS4\"').pivot_table(index='year_of_release',values = 'total_sales',aggfunc ='sum')\n",
    "ps_4_new.plot(kind='bar');\n",
    "plt.xlabel('Год')\n",
    "plt.legend('Продажи')\n",
    "plt.title('PS4')\n",
    "plt.show();"
   ]
  },
  {
   "cell_type": "code",
   "execution_count": 30,
   "metadata": {},
   "outputs": [
    {
     "data": {
      "image/png": "[encoded data removed]",
      "text/plain": [
       "<Figure size 864x360 with 1 Axes>"
      ]
     },
     "metadata": {
      "needs_background": "light"
     },
     "output_type": "display_data"
    }
   ],
   "source": [
    "ds_3 = data_year.query('platform == \"3DS\"').pivot_table(index='year_of_release',\n",
    "                                                        values = 'total_sales',aggfunc ='sum')\n",
    "ds_3.plot(kind='bar');\n",
    "plt.xlabel('Год')\n",
    "plt.legend('Продажи')\n",
    "plt.title('DS3')\n",
    "plt.show();"
   ]
  },
  {
   "cell_type": "code",
   "execution_count": 31,
   "metadata": {},
   "outputs": [
    {
     "data": {
      "image/png": "[encoded data removed]",
      "text/plain": [
       "<Figure size 864x360 with 1 Axes>"
      ]
     },
     "metadata": {
      "needs_background": "light"
     },
     "output_type": "display_data"
    }
   ],
   "source": [
    "xone = data_year.query('platform == \"XOne\"').pivot_table(index='year_of_release',\n",
    "                                                         values = 'total_sales',aggfunc ='sum')\n",
    "xone.plot(kind='bar');\n",
    "plt.xlabel('Год')\n",
    "plt.legend('Продажи')\n",
    "plt.title('XONE')\n",
    "plt.show();"
   ]
  },
  {
   "cell_type": "markdown",
   "metadata": {},
   "source": [
    "Как видно на графиках платформы PS3, 3DS,X360 падают по продажам,хоть при этом еще лидеры по продажам. Они НЕ  являются перспективными и на них не стоит делать ставки по продвижению.     \n",
    "Стоит обратить внимание на платформы XOne и PS4 они уже в топе по продажам и при этом только набирают рост\n"
   ]
  },
  {
   "cell_type": "code",
   "execution_count": 32,
   "metadata": {},
   "outputs": [
    {
     "data": {
      "image/png": "[encoded data removed]",
      "text/plain": [
       "<Figure size 864x360 with 1 Axes>"
      ]
     },
     "metadata": {
      "needs_background": "light"
     },
     "output_type": "display_data"
    }
   ],
   "source": [
    "data_boxplt = data_year.boxplot(column = ['total_sales'],by = 'platform',grid= False)\n",
    "plt.ylim([0,2])\n",
    "plt.xlabel('Год')\n",
    "plt.ylabel('Продажи')\n",
    "plt.title('График «ящик с усами»')\n",
    "plt.show();"
   ]
  },
  {
   "cell_type": "markdown",
   "metadata": {},
   "source": [
    "У всех платформ медиана незначительно выше 0, следовательно половина всех значений очень низкие(что логично для триминговых платформ так как игры покупают физические лица по 1-2 игры в год с низкой стоимостью)\n",
    "У всех платформ много выбросов, которые выходят за рамки высоты ящиков. Большой разброс говорит, о том что есть популярные игры на которые большой спрос и большие покупки у пользователей\n",
    "Самые большие \"Усы\" у платформ: ps3,ps4,x360,XOne,wiiU,Wii это говорит что у этих платформ наибольшие продажи\n"
   ]
  },
  {
   "cell_type": "code",
   "execution_count": 33,
   "metadata": {},
   "outputs": [
    {
     "data": {
      "image/png": "[encoded data removed]",
      "text/plain": [
       "<Figure size 864x360 with 1 Axes>"
      ]
     },
     "metadata": {
      "needs_background": "light"
     },
     "output_type": "display_data"
    }
   ],
   "source": [
    "ps3_user_score = data_year.query('platform == \"PS3\"')\n",
    "ps3_user_score.plot(x='total_sales', y ='user_score',kind='scatter')\n",
    "plt.rcParams['figure.figsize'] = [12,5]\n",
    "plt.xlabel('Продажи')\n",
    "plt.ylabel('оценка пользователей')\n",
    "plt.title('PS3')\n",
    "plt.ylim([0,10])\n",
    "plt.show();"
   ]
  },
  {
   "cell_type": "code",
   "execution_count": 34,
   "metadata": {},
   "outputs": [
    {
     "data": {
      "image/png": "[encoded data removed]",
      "text/plain": [
       "<Figure size 864x360 with 1 Axes>"
      ]
     },
     "metadata": {
      "needs_background": "light"
     },
     "output_type": "display_data"
    }
   ],
   "source": [
    "ps3_critic_score = data_year.query('platform == \"PS3\"')\n",
    "ps3_critic_score.plot(x='total_sales', y ='critic_score',kind='scatter')\n",
    "\n",
    "plt.xlabel('Продажи')\n",
    "plt.ylabel('оценка критиков')\n",
    "plt.title('PS3')\n",
    "plt.ylim([0,100])\n",
    "plt.show();"
   ]
  },
  {
   "cell_type": "code",
   "execution_count": 35,
   "metadata": {},
   "outputs": [
    {
     "data": {
      "text/plain": [
       "0.3342853393371919"
      ]
     },
     "execution_count": 35,
     "metadata": {},
     "output_type": "execute_result"
    }
   ],
   "source": [
    "ps3_user_score['critic_score'].corr(ps3_user_score['total_sales'])"
   ]
  },
  {
   "cell_type": "code",
   "execution_count": 36,
   "metadata": {},
   "outputs": [
    {
     "data": {
      "text/plain": [
       "0.10342715912035182"
      ]
     },
     "execution_count": 36,
     "metadata": {},
     "output_type": "execute_result"
    }
   ],
   "source": [
    "ps3_user_score['user_score'].corr(ps3_user_score['total_sales'])"
   ]
  },
  {
   "cell_type": "markdown",
   "metadata": {},
   "source": [
    "Взяли популярную платформу PS3  \n",
    "Построили диаграммму рассеяния \n",
    "Eсть слабая зависимость между отзывами критиков  и продажами. \n",
    "между отзовами пользователей и продажи связи практически нет\n",
    "На диаграмме видно что отзыв большой,но продажи около 0"
   ]
  },
  {
   "cell_type": "code",
   "execution_count": 37,
   "metadata": {},
   "outputs": [
    {
     "data": {
      "image/png": "[encoded data removed]",
      "text/plain": [
       "<Figure size 864x360 with 1 Axes>"
      ]
     },
     "metadata": {
      "needs_background": "light"
     },
     "output_type": "display_data"
    }
   ],
   "source": [
    "wiiu_user_score = data_year.query('platform == \"WiiU\"')\n",
    "wiiu_user_score.plot(x='total_sales', y ='user_score',kind='scatter')\n",
    "plt.rcParams['figure.figsize'] = [12,5]\n",
    "plt.xlabel('Продажи')\n",
    "plt.ylabel('оценка пользователей')\n",
    "plt.title('WIIu')\n",
    "plt.ylim([0,10])\n",
    "plt.show();"
   ]
  },
  {
   "cell_type": "code",
   "execution_count": 38,
   "metadata": {},
   "outputs": [
    {
     "data": {
      "image/png": "[encoded data removed]",
      "text/plain": [
       "<Figure size 864x360 with 1 Axes>"
      ]
     },
     "metadata": {
      "needs_background": "light"
     },
     "output_type": "display_data"
    }
   ],
   "source": [
    "wiiu_critic_score = data_year.query('platform == \"WiiU\"')\n",
    "wiiu_critic_score.plot(x='total_sales', y ='critic_score',kind='scatter')\n",
    "\n",
    "plt.xlabel('Продажи')\n",
    "plt.ylabel('оценка критиков')\n",
    "plt.title('Wiiu')\n",
    "plt.ylim([0,100])\n",
    "plt.show();"
   ]
  },
  {
   "cell_type": "code",
   "execution_count": 39,
   "metadata": {},
   "outputs": [
    {
     "data": {
      "text/plain": [
       "0.3764149065423912"
      ]
     },
     "execution_count": 39,
     "metadata": {},
     "output_type": "execute_result"
    }
   ],
   "source": [
    "wiiu_critic_score['critic_score'].corr(wiiu_critic_score['total_sales'])"
   ]
  },
  {
   "cell_type": "code",
   "execution_count": 40,
   "metadata": {},
   "outputs": [
    {
     "data": {
      "text/plain": [
       "0.36154784989659866"
      ]
     },
     "execution_count": 40,
     "metadata": {},
     "output_type": "execute_result"
    }
   ],
   "source": [
    "wiiu_critic_score['user_score'].corr(wiiu_critic_score['total_sales'])"
   ]
  },
  {
   "cell_type": "markdown",
   "metadata": {},
   "source": [
    "Взяли популярную платформу Wiiu  \n",
    "Построили диаграммму рассеяния   \n",
    "связь между продажами и отзовами есть и сильнее чем у платформы pss3, но при все равно слабая"
   ]
  },
  {
   "cell_type": "code",
   "execution_count": 41,
   "metadata": {},
   "outputs": [
    {
     "data": {
      "image/png": "[encoded data removed]",
      "text/plain": [
       "<Figure size 864x360 with 1 Axes>"
      ]
     },
     "metadata": {
      "needs_background": "light"
     },
     "output_type": "display_data"
    }
   ],
   "source": [
    "x360_user_score = data_year.query('platform == \"X360\"')\n",
    "x360_user_score.plot(x='total_sales', y ='user_score',kind='scatter')\n",
    "plt.rcParams['figure.figsize'] = [12,5]\n",
    "plt.xlabel('Продажи')\n",
    "plt.ylabel('оценка пользователей')\n",
    "plt.title('X360')\n",
    "plt.ylim([0,10])\n",
    "plt.show();"
   ]
  },
  {
   "cell_type": "code",
   "execution_count": 42,
   "metadata": {},
   "outputs": [
    {
     "data": {
      "image/png": "[encoded data removed]",
      "text/plain": [
       "<Figure size 864x360 with 1 Axes>"
      ]
     },
     "metadata": {
      "needs_background": "light"
     },
     "output_type": "display_data"
    }
   ],
   "source": [
    "x360_critic_score = data_year.query('platform == \"X360\"')\n",
    "x360_critic_score.plot(x='total_sales', y ='critic_score',kind='scatter')\n",
    "\n",
    "plt.xlabel('Продажи')\n",
    "plt.ylabel('оценка критиков')\n",
    "plt.title('X360')\n",
    "plt.ylim([0,100])\n",
    "plt.show();"
   ]
  },
  {
   "cell_type": "code",
   "execution_count": 43,
   "metadata": {},
   "outputs": [
    {
     "data": {
      "text/plain": [
       "0.3503445460228664"
      ]
     },
     "execution_count": 43,
     "metadata": {},
     "output_type": "execute_result"
    }
   ],
   "source": [
    "x360_critic_score['critic_score'].corr(x360_critic_score['total_sales'])"
   ]
  },
  {
   "cell_type": "code",
   "execution_count": 44,
   "metadata": {},
   "outputs": [
    {
     "data": {
      "text/plain": [
       "0.060448024354410566"
      ]
     },
     "execution_count": 44,
     "metadata": {},
     "output_type": "execute_result"
    }
   ],
   "source": [
    "x360_user_score['user_score'].corr(x360_user_score['total_sales'])"
   ]
  },
  {
   "cell_type": "markdown",
   "metadata": {},
   "source": [
    "Взяли популярную платформу x360  \n",
    "Построили диаграммму рассеяния   \n",
    "связь между оценками пользователей и продажами практически нет\n",
    "связь между оценками критиков есть но в категории -'слабая'"
   ]
  },
  {
   "cell_type": "code",
   "execution_count": 45,
   "metadata": {},
   "outputs": [
    {
     "data": {
      "text/plain": [
       "0.3136995151027371"
      ]
     },
     "execution_count": 45,
     "metadata": {},
     "output_type": "execute_result"
    }
   ],
   "source": [
    "data_year['critic_score'].corr(data_year['total_sales'])"
   ]
  },
  {
   "cell_type": "code",
   "execution_count": 46,
   "metadata": {
    "scrolled": true
   },
   "outputs": [
    {
     "data": {
      "text/plain": [
       "0.09310898029039398"
      ]
     },
     "execution_count": 46,
     "metadata": {},
     "output_type": "execute_result"
    }
   ],
   "source": [
    "data_year['user_score'].corr(data_year['total_sales'])"
   ]
  },
  {
   "cell_type": "markdown",
   "metadata": {},
   "source": [
    "Связи между продажами и отзовами критиков слабая и на популярных платформах идут с коэфицентом 0.3.  \n",
    "Связи между продажами и отзавами пользователей практически нет и это видно на всех популярных платформах,кроме wiiu,где прослежтивается слабая связь\n"
   ]
  },
  {
   "cell_type": "code",
   "execution_count": 47,
   "metadata": {},
   "outputs": [
    {
     "data": {
      "text/html": [
       "<div>\n",
       "<style scoped>\n",
       "    .dataframe tbody tr th:only-of-type {\n",
       "        vertical-align: middle;\n",
       "    }\n",
       "\n",
       "    .dataframe tbody tr th {\n",
       "        vertical-align: top;\n",
       "    }\n",
       "\n",
       "    .dataframe thead th {\n",
       "        text-align: right;\n",
       "    }\n",
       "</style>\n",
       "<table border=\"1\" class=\"dataframe\">\n",
       "  <thead>\n",
       "    <tr style=\"text-align: right;\">\n",
       "      <th></th>\n",
       "      <th>количество игр</th>\n",
       "      <th>средние продажи</th>\n",
       "      <th>сумарные продажи</th>\n",
       "    </tr>\n",
       "    <tr>\n",
       "      <th>genre</th>\n",
       "      <th></th>\n",
       "      <th></th>\n",
       "      <th></th>\n",
       "    </tr>\n",
       "  </thead>\n",
       "  <tbody>\n",
       "    <tr>\n",
       "      <th>Action</th>\n",
       "      <td>766</td>\n",
       "      <td>0.420196</td>\n",
       "      <td>321.87</td>\n",
       "    </tr>\n",
       "    <tr>\n",
       "      <th>Role-Playing</th>\n",
       "      <td>292</td>\n",
       "      <td>0.499623</td>\n",
       "      <td>145.89</td>\n",
       "    </tr>\n",
       "    <tr>\n",
       "      <th>Adventure</th>\n",
       "      <td>245</td>\n",
       "      <td>0.096490</td>\n",
       "      <td>23.64</td>\n",
       "    </tr>\n",
       "    <tr>\n",
       "      <th>Sports</th>\n",
       "      <td>214</td>\n",
       "      <td>0.703972</td>\n",
       "      <td>150.65</td>\n",
       "    </tr>\n",
       "    <tr>\n",
       "      <th>Shooter</th>\n",
       "      <td>187</td>\n",
       "      <td>1.245882</td>\n",
       "      <td>232.98</td>\n",
       "    </tr>\n",
       "    <tr>\n",
       "      <th>Misc</th>\n",
       "      <td>155</td>\n",
       "      <td>0.405290</td>\n",
       "      <td>62.82</td>\n",
       "    </tr>\n",
       "    <tr>\n",
       "      <th>Racing</th>\n",
       "      <td>85</td>\n",
       "      <td>0.469294</td>\n",
       "      <td>39.89</td>\n",
       "    </tr>\n",
       "    <tr>\n",
       "      <th>Fighting</th>\n",
       "      <td>80</td>\n",
       "      <td>0.441375</td>\n",
       "      <td>35.31</td>\n",
       "    </tr>\n",
       "    <tr>\n",
       "      <th>Platform</th>\n",
       "      <td>74</td>\n",
       "      <td>0.576081</td>\n",
       "      <td>42.63</td>\n",
       "    </tr>\n",
       "    <tr>\n",
       "      <th>Simulation</th>\n",
       "      <td>62</td>\n",
       "      <td>0.350968</td>\n",
       "      <td>21.76</td>\n",
       "    </tr>\n",
       "    <tr>\n",
       "      <th>Strategy</th>\n",
       "      <td>56</td>\n",
       "      <td>0.180000</td>\n",
       "      <td>10.08</td>\n",
       "    </tr>\n",
       "    <tr>\n",
       "      <th>Puzzle</th>\n",
       "      <td>17</td>\n",
       "      <td>0.186471</td>\n",
       "      <td>3.17</td>\n",
       "    </tr>\n",
       "  </tbody>\n",
       "</table>\n",
       "</div>"
      ],
      "text/plain": [
       "              количество игр  средние продажи  сумарные продажи\n",
       "genre                                                          \n",
       "Action                   766         0.420196            321.87\n",
       "Role-Playing             292         0.499623            145.89\n",
       "Adventure                245         0.096490             23.64\n",
       "Sports                   214         0.703972            150.65\n",
       "Shooter                  187         1.245882            232.98\n",
       "Misc                     155         0.405290             62.82\n",
       "Racing                    85         0.469294             39.89\n",
       "Fighting                  80         0.441375             35.31\n",
       "Platform                  74         0.576081             42.63\n",
       "Simulation                62         0.350968             21.76\n",
       "Strategy                  56         0.180000             10.08\n",
       "Puzzle                    17         0.186471              3.17"
      ]
     },
     "metadata": {},
     "output_type": "display_data"
    }
   ],
   "source": [
    "data_genre = data_year.pivot_table(index='genre',values = 'total_sales',aggfunc =('sum','count','mean'))\n",
    "data_genre.columns = ['количество игр','средние продажи','сумарные продажи']\n",
    "display(data_genre.sort_values(by='количество игр',ascending =False))"
   ]
  },
  {
   "cell_type": "code",
   "execution_count": 48,
   "metadata": {},
   "outputs": [
    {
     "data": {
      "text/plain": [
       "0.8416828492764133"
      ]
     },
     "execution_count": 48,
     "metadata": {},
     "output_type": "execute_result"
    }
   ],
   "source": [
    "data_genre['количество игр'].corr(data_genre['сумарные продажи'])"
   ]
  },
  {
   "cell_type": "code",
   "execution_count": 49,
   "metadata": {},
   "outputs": [
    {
     "data": {
      "image/png": "[encoded data removed]",
      "text/plain": [
       "<Figure size 1440x720 with 1 Axes>"
      ]
     },
     "metadata": {
      "needs_background": "light"
     },
     "output_type": "display_data"
    }
   ],
   "source": [
    "plt.rcParams['figure.figsize'] = [20,10]\n",
    "plt.plot(data_genre['сумарные продажи'],'-',alpha=0.7,label='продажи')\n",
    "plt.plot(data_genre['количество игр'],'v-.g',alpha=0.9,label='количество игр')\n",
    "plt.legend()\n",
    "plt.xlabel('Жанры')\n",
    "plt.ylabel('количество')\n",
    "plt.title('Жанры игр(кол-во)')\n",
    "plt.show();"
   ]
  },
  {
   "cell_type": "code",
   "execution_count": 50,
   "metadata": {},
   "outputs": [
    {
     "data": {
      "text/html": [
       "<div>\n",
       "<style scoped>\n",
       "    .dataframe tbody tr th:only-of-type {\n",
       "        vertical-align: middle;\n",
       "    }\n",
       "\n",
       "    .dataframe tbody tr th {\n",
       "        vertical-align: top;\n",
       "    }\n",
       "\n",
       "    .dataframe thead th {\n",
       "        text-align: right;\n",
       "    }\n",
       "</style>\n",
       "<table border=\"1\" class=\"dataframe\">\n",
       "  <thead>\n",
       "    <tr style=\"text-align: right;\">\n",
       "      <th></th>\n",
       "      <th>количество игр</th>\n",
       "      <th>средние продажи</th>\n",
       "      <th>сумарные продажи</th>\n",
       "    </tr>\n",
       "    <tr>\n",
       "      <th>genre</th>\n",
       "      <th></th>\n",
       "      <th></th>\n",
       "      <th></th>\n",
       "    </tr>\n",
       "  </thead>\n",
       "  <tbody>\n",
       "    <tr>\n",
       "      <th>Shooter</th>\n",
       "      <td>187</td>\n",
       "      <td>1.245882</td>\n",
       "      <td>232.98</td>\n",
       "    </tr>\n",
       "    <tr>\n",
       "      <th>Sports</th>\n",
       "      <td>214</td>\n",
       "      <td>0.703972</td>\n",
       "      <td>150.65</td>\n",
       "    </tr>\n",
       "    <tr>\n",
       "      <th>Platform</th>\n",
       "      <td>74</td>\n",
       "      <td>0.576081</td>\n",
       "      <td>42.63</td>\n",
       "    </tr>\n",
       "    <tr>\n",
       "      <th>Role-Playing</th>\n",
       "      <td>292</td>\n",
       "      <td>0.499623</td>\n",
       "      <td>145.89</td>\n",
       "    </tr>\n",
       "    <tr>\n",
       "      <th>Racing</th>\n",
       "      <td>85</td>\n",
       "      <td>0.469294</td>\n",
       "      <td>39.89</td>\n",
       "    </tr>\n",
       "    <tr>\n",
       "      <th>Fighting</th>\n",
       "      <td>80</td>\n",
       "      <td>0.441375</td>\n",
       "      <td>35.31</td>\n",
       "    </tr>\n",
       "    <tr>\n",
       "      <th>Action</th>\n",
       "      <td>766</td>\n",
       "      <td>0.420196</td>\n",
       "      <td>321.87</td>\n",
       "    </tr>\n",
       "    <tr>\n",
       "      <th>Misc</th>\n",
       "      <td>155</td>\n",
       "      <td>0.405290</td>\n",
       "      <td>62.82</td>\n",
       "    </tr>\n",
       "    <tr>\n",
       "      <th>Simulation</th>\n",
       "      <td>62</td>\n",
       "      <td>0.350968</td>\n",
       "      <td>21.76</td>\n",
       "    </tr>\n",
       "    <tr>\n",
       "      <th>Puzzle</th>\n",
       "      <td>17</td>\n",
       "      <td>0.186471</td>\n",
       "      <td>3.17</td>\n",
       "    </tr>\n",
       "    <tr>\n",
       "      <th>Strategy</th>\n",
       "      <td>56</td>\n",
       "      <td>0.180000</td>\n",
       "      <td>10.08</td>\n",
       "    </tr>\n",
       "    <tr>\n",
       "      <th>Adventure</th>\n",
       "      <td>245</td>\n",
       "      <td>0.096490</td>\n",
       "      <td>23.64</td>\n",
       "    </tr>\n",
       "  </tbody>\n",
       "</table>\n",
       "</div>"
      ],
      "text/plain": [
       "              количество игр  средние продажи  сумарные продажи\n",
       "genre                                                          \n",
       "Shooter                  187         1.245882            232.98\n",
       "Sports                   214         0.703972            150.65\n",
       "Platform                  74         0.576081             42.63\n",
       "Role-Playing             292         0.499623            145.89\n",
       "Racing                    85         0.469294             39.89\n",
       "Fighting                  80         0.441375             35.31\n",
       "Action                   766         0.420196            321.87\n",
       "Misc                     155         0.405290             62.82\n",
       "Simulation                62         0.350968             21.76\n",
       "Puzzle                    17         0.186471              3.17\n",
       "Strategy                  56         0.180000             10.08\n",
       "Adventure                245         0.096490             23.64"
      ]
     },
     "metadata": {},
     "output_type": "display_data"
    }
   ],
   "source": [
    "display(data_genre.sort_values(by='средние продажи',ascending =False))"
   ]
  },
  {
   "cell_type": "markdown",
   "metadata": {},
   "source": [
    "Самый популярный жанр игр это 'Action', а самый непопулярный 'Puzzle'  \n",
    "Определенно наблюдается взаимосвязь между количеством игр и продажами  \n",
    "Наимболее прибыльный жанр  'Shooter' и 'Sports', а наименьшие 'Adventure'   \n",
    "Выбивается только жанр 'Adventure', низкие продажи при больших количествах игр"
   ]
  },
  {
   "cell_type": "markdown",
   "metadata": {},
   "source": [
    "**Выводы по разделу 2**\n",
    "- В 1994 году наблюдается резкий скачок выпуска игр(напомним,что ERSB начала свою деятельность в 1994 году). С 2007-2011 гг. выпускалось наибольшее количество игр\n",
    "- Наиболее популярные платформы это: PS2,X360,PS3,Wii,Wiiu и Ds  \n",
    "- У платформ наблюдается одинаковая динамика в начале идет рост и затем падение(после 5 лет работы), в среднем платформы работают 10 лет  \n",
    "- За последние 5 лет наиболее стабильные и набирающие обороты платформы: PS3,X360,PS4,3DS и XOne  \n",
    "- Как видно на графиках платформы PS3, 3DS,X360 падают по продажам, при этом являются  лидерами по продажам. Они НЕ  являются перспективными и на них не стоит делать ставки по продвижению.Стоит обратить внимание на платформы XOne и PS4 они уже в топе по продажам и при этом только набирают рост   \n",
    "- Зависимость между отзывами критиков и продажами слабая.\n",
    "- Зависимость между отзывами пользователей и продажами отстуствует.\n",
    "- Более сильная связь у продаж с отзовами критиков.   \n",
    "- Самый популярный жанр игр это 'Action', а самый непопулярный 'Puzzle'. Наимболие прибыльный жанр игр 'Shooter' и 'Sports', а наименьший 'Adventure'. Определена зависимость между высококимм продажами и высоким количеством игр в жанре  "
   ]
  },
  {
   "cell_type": "markdown",
   "metadata": {},
   "source": [
    "**3. Портрет пользователя каждого региона** \n",
    "\n",
    "Определим портрет для пользователя каждого региона (NA, EU, JP):  \n",
    "- Самые популярные платформы (топ-5).     \n",
    "- Самые популярные жанры (топ-5).    \n",
    "- Ответим на вопрос - Влияет ли рейтинг ESRB на продажи в отдельном регионе?    \n"
   ]
  },
  {
   "cell_type": "code",
   "execution_count": 51,
   "metadata": {},
   "outputs": [
    {
     "data": {
      "text/html": [
       "<div>\n",
       "<style scoped>\n",
       "    .dataframe tbody tr th:only-of-type {\n",
       "        vertical-align: middle;\n",
       "    }\n",
       "\n",
       "    .dataframe tbody tr th {\n",
       "        vertical-align: top;\n",
       "    }\n",
       "\n",
       "    .dataframe thead th {\n",
       "        text-align: right;\n",
       "    }\n",
       "</style>\n",
       "<table border=\"1\" class=\"dataframe\">\n",
       "  <thead>\n",
       "    <tr style=\"text-align: right;\">\n",
       "      <th></th>\n",
       "      <th>Европа(сумма)</th>\n",
       "      <th>Япония(сумма)</th>\n",
       "      <th>Северная Америка(сумма)</th>\n",
       "      <th>Европа(кол-во)</th>\n",
       "      <th>Япония(кол-во)</th>\n",
       "      <th>Северная Америка(кол-во)</th>\n",
       "      <th>Европа(доля)</th>\n",
       "      <th>Япония(доля)</th>\n",
       "      <th>Северная Америка(доля)</th>\n",
       "    </tr>\n",
       "    <tr>\n",
       "      <th>platform</th>\n",
       "      <th></th>\n",
       "      <th></th>\n",
       "      <th></th>\n",
       "      <th></th>\n",
       "      <th></th>\n",
       "      <th></th>\n",
       "      <th></th>\n",
       "      <th></th>\n",
       "      <th></th>\n",
       "    </tr>\n",
       "  </thead>\n",
       "  <tbody>\n",
       "    <tr>\n",
       "      <th>3DS</th>\n",
       "      <td>30.96</td>\n",
       "      <td>67.81</td>\n",
       "      <td>38.20</td>\n",
       "      <td>303</td>\n",
       "      <td>303</td>\n",
       "      <td>303</td>\n",
       "      <td>0.102178</td>\n",
       "      <td>0.223795</td>\n",
       "      <td>0.126073</td>\n",
       "    </tr>\n",
       "    <tr>\n",
       "      <th>DS</th>\n",
       "      <td>0.85</td>\n",
       "      <td>0.00</td>\n",
       "      <td>0.57</td>\n",
       "      <td>8</td>\n",
       "      <td>8</td>\n",
       "      <td>8</td>\n",
       "      <td>0.106250</td>\n",
       "      <td>0.000000</td>\n",
       "      <td>0.071250</td>\n",
       "    </tr>\n",
       "    <tr>\n",
       "      <th>PC</th>\n",
       "      <td>25.36</td>\n",
       "      <td>0.00</td>\n",
       "      <td>11.11</td>\n",
       "      <td>189</td>\n",
       "      <td>189</td>\n",
       "      <td>189</td>\n",
       "      <td>0.134180</td>\n",
       "      <td>0.000000</td>\n",
       "      <td>0.058783</td>\n",
       "    </tr>\n",
       "    <tr>\n",
       "      <th>PS3</th>\n",
       "      <td>67.81</td>\n",
       "      <td>23.35</td>\n",
       "      <td>63.50</td>\n",
       "      <td>345</td>\n",
       "      <td>345</td>\n",
       "      <td>345</td>\n",
       "      <td>0.196551</td>\n",
       "      <td>0.067681</td>\n",
       "      <td>0.184058</td>\n",
       "    </tr>\n",
       "    <tr>\n",
       "      <th>PS4</th>\n",
       "      <td>141.09</td>\n",
       "      <td>15.96</td>\n",
       "      <td>108.74</td>\n",
       "      <td>392</td>\n",
       "      <td>392</td>\n",
       "      <td>392</td>\n",
       "      <td>0.359923</td>\n",
       "      <td>0.040714</td>\n",
       "      <td>0.277398</td>\n",
       "    </tr>\n",
       "    <tr>\n",
       "      <th>PSP</th>\n",
       "      <td>0.17</td>\n",
       "      <td>3.29</td>\n",
       "      <td>0.00</td>\n",
       "      <td>67</td>\n",
       "      <td>67</td>\n",
       "      <td>67</td>\n",
       "      <td>0.002537</td>\n",
       "      <td>0.049104</td>\n",
       "      <td>0.000000</td>\n",
       "    </tr>\n",
       "    <tr>\n",
       "      <th>PSV</th>\n",
       "      <td>6.10</td>\n",
       "      <td>18.59</td>\n",
       "      <td>5.04</td>\n",
       "      <td>358</td>\n",
       "      <td>358</td>\n",
       "      <td>358</td>\n",
       "      <td>0.017039</td>\n",
       "      <td>0.051927</td>\n",
       "      <td>0.014078</td>\n",
       "    </tr>\n",
       "    <tr>\n",
       "      <th>Wii</th>\n",
       "      <td>5.93</td>\n",
       "      <td>0.05</td>\n",
       "      <td>6.56</td>\n",
       "      <td>23</td>\n",
       "      <td>23</td>\n",
       "      <td>23</td>\n",
       "      <td>0.257826</td>\n",
       "      <td>0.002174</td>\n",
       "      <td>0.285217</td>\n",
       "    </tr>\n",
       "    <tr>\n",
       "      <th>WiiU</th>\n",
       "      <td>19.85</td>\n",
       "      <td>10.88</td>\n",
       "      <td>29.21</td>\n",
       "      <td>115</td>\n",
       "      <td>115</td>\n",
       "      <td>115</td>\n",
       "      <td>0.172609</td>\n",
       "      <td>0.094609</td>\n",
       "      <td>0.254000</td>\n",
       "    </tr>\n",
       "    <tr>\n",
       "      <th>X360</th>\n",
       "      <td>42.52</td>\n",
       "      <td>0.51</td>\n",
       "      <td>81.66</td>\n",
       "      <td>186</td>\n",
       "      <td>186</td>\n",
       "      <td>186</td>\n",
       "      <td>0.228602</td>\n",
       "      <td>0.002742</td>\n",
       "      <td>0.439032</td>\n",
       "    </tr>\n",
       "    <tr>\n",
       "      <th>XOne</th>\n",
       "      <td>51.59</td>\n",
       "      <td>0.34</td>\n",
       "      <td>93.12</td>\n",
       "      <td>247</td>\n",
       "      <td>247</td>\n",
       "      <td>247</td>\n",
       "      <td>0.208866</td>\n",
       "      <td>0.001377</td>\n",
       "      <td>0.377004</td>\n",
       "    </tr>\n",
       "  </tbody>\n",
       "</table>\n",
       "</div>"
      ],
      "text/plain": [
       "          Европа(сумма)  Япония(сумма)  Северная Америка(сумма)  \\\n",
       "platform                                                          \n",
       "3DS               30.96          67.81                    38.20   \n",
       "DS                 0.85           0.00                     0.57   \n",
       "PC                25.36           0.00                    11.11   \n",
       "PS3               67.81          23.35                    63.50   \n",
       "PS4              141.09          15.96                   108.74   \n",
       "PSP                0.17           3.29                     0.00   \n",
       "PSV                6.10          18.59                     5.04   \n",
       "Wii                5.93           0.05                     6.56   \n",
       "WiiU              19.85          10.88                    29.21   \n",
       "X360              42.52           0.51                    81.66   \n",
       "XOne              51.59           0.34                    93.12   \n",
       "\n",
       "          Европа(кол-во)  Япония(кол-во)  Северная Америка(кол-во)  \\\n",
       "platform                                                             \n",
       "3DS                  303             303                       303   \n",
       "DS                     8               8                         8   \n",
       "PC                   189             189                       189   \n",
       "PS3                  345             345                       345   \n",
       "PS4                  392             392                       392   \n",
       "PSP                   67              67                        67   \n",
       "PSV                  358             358                       358   \n",
       "Wii                   23              23                        23   \n",
       "WiiU                 115             115                       115   \n",
       "X360                 186             186                       186   \n",
       "XOne                 247             247                       247   \n",
       "\n",
       "          Европа(доля)  Япония(доля)  Северная Америка(доля)  \n",
       "platform                                                      \n",
       "3DS           0.102178      0.223795                0.126073  \n",
       "DS            0.106250      0.000000                0.071250  \n",
       "PC            0.134180      0.000000                0.058783  \n",
       "PS3           0.196551      0.067681                0.184058  \n",
       "PS4           0.359923      0.040714                0.277398  \n",
       "PSP           0.002537      0.049104                0.000000  \n",
       "PSV           0.017039      0.051927                0.014078  \n",
       "Wii           0.257826      0.002174                0.285217  \n",
       "WiiU          0.172609      0.094609                0.254000  \n",
       "X360          0.228602      0.002742                0.439032  \n",
       "XOne          0.208866      0.001377                0.377004  "
      ]
     },
     "metadata": {},
     "output_type": "display_data"
    }
   ],
   "source": [
    "data_region_platform = data_year.pivot_table(index = 'platform',\n",
    "                                        values = ('eu_sales','jp_sales','na_sales'),aggfunc = ['sum','count','mean'])\n",
    "data_region_platform.columns = ['Европа(сумма)','Япония(сумма)','Северная Америка(сумма)',\n",
    "                               'Европа(кол-во)','Япония(кол-во)','Северная Америка(кол-во)',\n",
    "                                'Европа(доля)','Япония(доля)','Северная Америка(доля)']\n",
    "display(data_region_platform)"
   ]
  },
  {
   "cell_type": "markdown",
   "metadata": {},
   "source": [
    "Далее определим доли и узнаем ТОП-5 самых популярных платформ в каждом регионе"
   ]
  },
  {
   "cell_type": "code",
   "execution_count": 52,
   "metadata": {},
   "outputs": [
    {
     "data": {
      "text/plain": [
       "platform\n",
       "PS4     141.09\n",
       "PS3      67.81\n",
       "XOne     51.59\n",
       "X360     42.52\n",
       "3DS      30.96\n",
       "Name: Европа(сумма), dtype: float64"
      ]
     },
     "metadata": {},
     "output_type": "display_data"
    }
   ],
   "source": [
    "display(data_region_platform['Европа(сумма)'].sort_values(ascending = False).head())"
   ]
  },
  {
   "cell_type": "code",
   "execution_count": 53,
   "metadata": {},
   "outputs": [
    {
     "data": {
      "image/png": "[encoded data removed]",
      "text/plain": [
       "<Figure size 720x432 with 1 Axes>"
      ]
     },
     "metadata": {
      "needs_background": "light"
     },
     "output_type": "display_data"
    }
   ],
   "source": [
    "plt.rcParams['figure.figsize'] = [10,6]\n",
    "\n",
    "data_region_platform['Европа(сумма)'].sort_values(ascending = False).head().plot(kind='bar')\n",
    "plt.xlabel('платформы')\n",
    "plt.ylabel('продажи')\n",
    "plt.title('топ-5 платформ в Европе')\n",
    "plt.show();"
   ]
  },
  {
   "cell_type": "code",
   "execution_count": 54,
   "metadata": {},
   "outputs": [
    {
     "data": {
      "image/png": "[encoded data removed]",
      "text/plain": [
       "<Figure size 720x432 with 1 Axes>"
      ]
     },
     "metadata": {
      "needs_background": "light"
     },
     "output_type": "display_data"
    }
   ],
   "source": [
    "\n",
    "plt.plot(data_region_platform['Европа(доля)'],'-',alpha=0.7,label='продажи')\n",
    "plt.legend()\n",
    "plt.xlabel('платформы')\n",
    "plt.ylabel('продажи')\n",
    "plt.title('Доля продаж в Европе')\n",
    "plt.show();"
   ]
  },
  {
   "cell_type": "markdown",
   "metadata": {},
   "source": [
    "В Европе по прибыльности(доле) Wii и WiiU опережают XOne и X360, но при этом платформы XOne и X360 популярней"
   ]
  },
  {
   "cell_type": "code",
   "execution_count": 56,
   "metadata": {},
   "outputs": [
    {
     "data": {
      "text/plain": [
       "platform\n",
       "3DS     67.81\n",
       "PS3     23.35\n",
       "PSV     18.59\n",
       "PS4     15.96\n",
       "WiiU    10.88\n",
       "Name: Япония(сумма), dtype: float64"
      ]
     },
     "metadata": {},
     "output_type": "display_data"
    }
   ],
   "source": [
    "display(data_region_platform['Япония(сумма)'].sort_values(ascending = False).head())"
   ]
  },
  {
   "cell_type": "code",
   "execution_count": 57,
   "metadata": {},
   "outputs": [
    {
     "data": {
      "image/png": "[encoded data removed]",
      "text/plain": [
       "<Figure size 720x432 with 1 Axes>"
      ]
     },
     "metadata": {
      "needs_background": "light"
     },
     "output_type": "display_data"
    }
   ],
   "source": [
    "plt.rcParams['figure.figsize'] = [10,6]\n",
    "\n",
    "data_region_platform['Япония(сумма)'].sort_values(ascending = False).head().plot(kind='bar')\n",
    "plt.xlabel('платформы')\n",
    "plt.ylabel('продажи')\n",
    "plt.title('топ-5 платформ в Японии')\n",
    "plt.show();"
   ]
  },
  {
   "cell_type": "code",
   "execution_count": 58,
   "metadata": {},
   "outputs": [
    {
     "data": {
      "image/png": "[encoded data removed]",
      "text/plain": [
       "<Figure size 720x432 with 1 Axes>"
      ]
     },
     "metadata": {
      "needs_background": "light"
     },
     "output_type": "display_data"
    }
   ],
   "source": [
    "plt.plot(data_region_platform['Япония(доля)'],'-',alpha=0.7,label='продажи')\n",
    "plt.legend()\n",
    "plt.xlabel('платформы')\n",
    "plt.ylabel('продажи')\n",
    "plt.title('Доля продаж в Японии')\n",
    "plt.show();"
   ]
  },
  {
   "cell_type": "markdown",
   "metadata": {},
   "source": [
    "В Японии топ-5 платформ соответсвуют высоким прибыльностям(долям) этих же платформ"
   ]
  },
  {
   "cell_type": "code",
   "execution_count": 59,
   "metadata": {},
   "outputs": [
    {
     "data": {
      "text/plain": [
       "platform\n",
       "PS4     108.74\n",
       "XOne     93.12\n",
       "X360     81.66\n",
       "PS3      63.50\n",
       "3DS      38.20\n",
       "Name: Северная Америка(сумма), dtype: float64"
      ]
     },
     "metadata": {},
     "output_type": "display_data"
    }
   ],
   "source": [
    "display(data_region_platform['Северная Америка(сумма)'].sort_values(ascending = False).head())"
   ]
  },
  {
   "cell_type": "code",
   "execution_count": 60,
   "metadata": {},
   "outputs": [
    {
     "data": {
      "image/png": "[encoded data removed]",
      "text/plain": [
       "<Figure size 720x432 with 1 Axes>"
      ]
     },
     "metadata": {
      "needs_background": "light"
     },
     "output_type": "display_data"
    }
   ],
   "source": [
    "plt.rcParams['figure.figsize'] = [10,6]\n",
    "\n",
    "data_region_platform['Северная Америка(сумма)'].sort_values(ascending = False).head().plot(kind='bar')\n",
    "plt.xlabel('платформы')\n",
    "plt.ylabel('продажи')\n",
    "plt.title('топ-5 платформ в Северной Америке')\n",
    "plt.show();"
   ]
  },
  {
   "cell_type": "code",
   "execution_count": 61,
   "metadata": {},
   "outputs": [
    {
     "data": {
      "image/png": "[encoded data removed]",
      "text/plain": [
       "<Figure size 720x432 with 1 Axes>"
      ]
     },
     "metadata": {
      "needs_background": "light"
     },
     "output_type": "display_data"
    }
   ],
   "source": [
    "plt.plot(data_region_platform['Северная Америка(доля)'],'-',alpha=0.7,label='продажи')\n",
    "plt.legend()\n",
    "plt.xlabel('платформы')\n",
    "plt.ylabel('продажи')\n",
    "plt.title('Доля продаж в Северной Америке')\n",
    "plt.show();"
   ]
  },
  {
   "cell_type": "markdown",
   "metadata": {},
   "source": [
    "В Северной Америке по прибыльности(доле) Wii и WiiU опережают Ps3 и ps4, но при этом платформы Ps3 и ps4 популярней"
   ]
  },
  {
   "cell_type": "code",
   "execution_count": 62,
   "metadata": {},
   "outputs": [
    {
     "name": "stdout",
     "output_type": "stream",
     "text": [
      "в Европе доля всех продаж составляет 0.40406090324707455\n",
      "в Японии доля всех продаж составляет 0.14502637217735287\n",
      "в Северной Америке доля всех продаж составляет 0.45091272457557263\n"
     ]
    }
   ],
   "source": [
    "total = data_region_platform['Европа(сумма)'].sum() + data_region_platform['Япония(сумма)'].sum() +data_region_platform['Северная Америка(сумма)'].sum()\n",
    "print('в Европе доля всех продаж составляет', data_region_platform['Европа(сумма)'].sum()/total)\n",
    "print('в Японии доля всех продаж составляет', data_region_platform['Япония(сумма)'].sum()/total)\n",
    "print('в Северной Америке доля всех продаж составляет', data_region_platform['Северная Америка(сумма)'].sum()/total)"
   ]
  },
  {
   "cell_type": "markdown",
   "metadata": {},
   "source": [
    "Топ-5 игровых платформ в регионе - Европа:  \n",
    "\n",
    "- PS4      \n",
    "- PS3     \n",
    "- XOne          \n",
    "- X360  \n",
    "- 3DS\n",
    "\n",
    "Топ-5 игровых платформ в регионе - Япония:  \n",
    "- 3DS\n",
    "- PS3      \n",
    "- PSV    \n",
    "- PS4      \n",
    "- wIIu \n",
    "\n",
    "Топ-5 игровых платформ в регионе - Северная Америка: \n",
    "- PS4     \n",
    "- XOne     \n",
    "- X360     \n",
    "- PS3    \n",
    "- 3DS \n",
    "\n",
    "Европа и Северная Америка выбирают одинаковые платформы и на их долю приходится основная часть продаж-85: (40% и 45 %). Япония выбирает немного другие  платформы  и на них приходится 15% всех продаж"
   ]
  },
  {
   "cell_type": "code",
   "execution_count": 63,
   "metadata": {},
   "outputs": [
    {
     "data": {
      "text/html": [
       "<div>\n",
       "<style scoped>\n",
       "    .dataframe tbody tr th:only-of-type {\n",
       "        vertical-align: middle;\n",
       "    }\n",
       "\n",
       "    .dataframe tbody tr th {\n",
       "        vertical-align: top;\n",
       "    }\n",
       "\n",
       "    .dataframe thead th {\n",
       "        text-align: right;\n",
       "    }\n",
       "</style>\n",
       "<table border=\"1\" class=\"dataframe\">\n",
       "  <thead>\n",
       "    <tr style=\"text-align: right;\">\n",
       "      <th></th>\n",
       "      <th>Европа(сумма)</th>\n",
       "      <th>Япония(сумма)</th>\n",
       "      <th>Северная Америка(сумма)</th>\n",
       "      <th>Европа(доля)</th>\n",
       "      <th>Япония(доля)</th>\n",
       "      <th>Северная Америка(доля)</th>\n",
       "    </tr>\n",
       "    <tr>\n",
       "      <th>genre</th>\n",
       "      <th></th>\n",
       "      <th></th>\n",
       "      <th></th>\n",
       "      <th></th>\n",
       "      <th></th>\n",
       "      <th></th>\n",
       "    </tr>\n",
       "  </thead>\n",
       "  <tbody>\n",
       "    <tr>\n",
       "      <th>Action</th>\n",
       "      <td>118.13</td>\n",
       "      <td>40.49</td>\n",
       "      <td>126.05</td>\n",
       "      <td>0.154217</td>\n",
       "      <td>0.052859</td>\n",
       "      <td>0.164556</td>\n",
       "    </tr>\n",
       "    <tr>\n",
       "      <th>Adventure</th>\n",
       "      <td>8.25</td>\n",
       "      <td>5.82</td>\n",
       "      <td>7.14</td>\n",
       "      <td>0.033673</td>\n",
       "      <td>0.023755</td>\n",
       "      <td>0.029143</td>\n",
       "    </tr>\n",
       "    <tr>\n",
       "      <th>Fighting</th>\n",
       "      <td>8.55</td>\n",
       "      <td>7.65</td>\n",
       "      <td>15.55</td>\n",
       "      <td>0.106875</td>\n",
       "      <td>0.095625</td>\n",
       "      <td>0.194375</td>\n",
       "    </tr>\n",
       "    <tr>\n",
       "      <th>Misc</th>\n",
       "      <td>20.04</td>\n",
       "      <td>9.20</td>\n",
       "      <td>27.49</td>\n",
       "      <td>0.129290</td>\n",
       "      <td>0.059355</td>\n",
       "      <td>0.177355</td>\n",
       "    </tr>\n",
       "    <tr>\n",
       "      <th>Platform</th>\n",
       "      <td>15.58</td>\n",
       "      <td>4.79</td>\n",
       "      <td>18.14</td>\n",
       "      <td>0.210541</td>\n",
       "      <td>0.064730</td>\n",
       "      <td>0.245135</td>\n",
       "    </tr>\n",
       "    <tr>\n",
       "      <th>Puzzle</th>\n",
       "      <td>1.00</td>\n",
       "      <td>1.18</td>\n",
       "      <td>0.83</td>\n",
       "      <td>0.058824</td>\n",
       "      <td>0.069412</td>\n",
       "      <td>0.048824</td>\n",
       "    </tr>\n",
       "    <tr>\n",
       "      <th>Racing</th>\n",
       "      <td>20.19</td>\n",
       "      <td>2.30</td>\n",
       "      <td>12.96</td>\n",
       "      <td>0.237529</td>\n",
       "      <td>0.027059</td>\n",
       "      <td>0.152471</td>\n",
       "    </tr>\n",
       "    <tr>\n",
       "      <th>Role-Playing</th>\n",
       "      <td>36.97</td>\n",
       "      <td>51.04</td>\n",
       "      <td>46.40</td>\n",
       "      <td>0.126610</td>\n",
       "      <td>0.174795</td>\n",
       "      <td>0.158904</td>\n",
       "    </tr>\n",
       "    <tr>\n",
       "      <th>Shooter</th>\n",
       "      <td>87.86</td>\n",
       "      <td>6.61</td>\n",
       "      <td>109.74</td>\n",
       "      <td>0.469840</td>\n",
       "      <td>0.035348</td>\n",
       "      <td>0.586845</td>\n",
       "    </tr>\n",
       "    <tr>\n",
       "      <th>Simulation</th>\n",
       "      <td>10.92</td>\n",
       "      <td>4.52</td>\n",
       "      <td>4.86</td>\n",
       "      <td>0.176129</td>\n",
       "      <td>0.072903</td>\n",
       "      <td>0.078387</td>\n",
       "    </tr>\n",
       "    <tr>\n",
       "      <th>Sports</th>\n",
       "      <td>60.52</td>\n",
       "      <td>5.41</td>\n",
       "      <td>65.27</td>\n",
       "      <td>0.282804</td>\n",
       "      <td>0.025280</td>\n",
       "      <td>0.305000</td>\n",
       "    </tr>\n",
       "    <tr>\n",
       "      <th>Strategy</th>\n",
       "      <td>4.22</td>\n",
       "      <td>1.77</td>\n",
       "      <td>3.28</td>\n",
       "      <td>0.075357</td>\n",
       "      <td>0.031607</td>\n",
       "      <td>0.058571</td>\n",
       "    </tr>\n",
       "  </tbody>\n",
       "</table>\n",
       "</div>"
      ],
      "text/plain": [
       "              Европа(сумма)  Япония(сумма)  Северная Америка(сумма)  \\\n",
       "genre                                                                 \n",
       "Action               118.13          40.49                   126.05   \n",
       "Adventure              8.25           5.82                     7.14   \n",
       "Fighting               8.55           7.65                    15.55   \n",
       "Misc                  20.04           9.20                    27.49   \n",
       "Platform              15.58           4.79                    18.14   \n",
       "Puzzle                 1.00           1.18                     0.83   \n",
       "Racing                20.19           2.30                    12.96   \n",
       "Role-Playing          36.97          51.04                    46.40   \n",
       "Shooter               87.86           6.61                   109.74   \n",
       "Simulation            10.92           4.52                     4.86   \n",
       "Sports                60.52           5.41                    65.27   \n",
       "Strategy               4.22           1.77                     3.28   \n",
       "\n",
       "              Европа(доля)  Япония(доля)  Северная Америка(доля)  \n",
       "genre                                                             \n",
       "Action            0.154217      0.052859                0.164556  \n",
       "Adventure         0.033673      0.023755                0.029143  \n",
       "Fighting          0.106875      0.095625                0.194375  \n",
       "Misc              0.129290      0.059355                0.177355  \n",
       "Platform          0.210541      0.064730                0.245135  \n",
       "Puzzle            0.058824      0.069412                0.048824  \n",
       "Racing            0.237529      0.027059                0.152471  \n",
       "Role-Playing      0.126610      0.174795                0.158904  \n",
       "Shooter           0.469840      0.035348                0.586845  \n",
       "Simulation        0.176129      0.072903                0.078387  \n",
       "Sports            0.282804      0.025280                0.305000  \n",
       "Strategy          0.075357      0.031607                0.058571  "
      ]
     },
     "metadata": {},
     "output_type": "display_data"
    }
   ],
   "source": [
    "data_region_genre = data_year.pivot_table(index = 'genre',\n",
    "                                        values = ('eu_sales','jp_sales','na_sales'),aggfunc = ['sum','mean'])\n",
    "data_region_genre.columns = ['Европа(сумма)','Япония(сумма)','Северная Америка(сумма)',\n",
    "                               'Европа(доля)','Япония(доля)','Северная Америка(доля)']\n",
    "display(data_region_genre)"
   ]
  },
  {
   "cell_type": "code",
   "execution_count": 64,
   "metadata": {
    "scrolled": true
   },
   "outputs": [
    {
     "data": {
      "text/plain": [
       "genre\n",
       "Action          118.13\n",
       "Shooter          87.86\n",
       "Sports           60.52\n",
       "Role-Playing     36.97\n",
       "Racing           20.19\n",
       "Name: Европа(сумма), dtype: float64"
      ]
     },
     "metadata": {},
     "output_type": "display_data"
    }
   ],
   "source": [
    "display(data_region_genre['Европа(сумма)'].sort_values(ascending = False).head())"
   ]
  },
  {
   "cell_type": "code",
   "execution_count": 65,
   "metadata": {},
   "outputs": [
    {
     "data": {
      "image/png": "[encoded data removed]",
      "text/plain": [
       "<Figure size 720x432 with 1 Axes>"
      ]
     },
     "metadata": {
      "needs_background": "light"
     },
     "output_type": "display_data"
    }
   ],
   "source": [
    "plt.rcParams['figure.figsize'] = [10,6]\n",
    "\n",
    "data_region_genre['Европа(сумма)'].sort_values(ascending = False).head().plot(kind='bar')\n",
    "plt.xlabel('жанры')\n",
    "plt.ylabel('продажи')\n",
    "plt.title('топ-5 жанров в Европе')\n",
    "plt.show();"
   ]
  },
  {
   "cell_type": "code",
   "execution_count": 66,
   "metadata": {},
   "outputs": [
    {
     "data": {
      "text/plain": [
       "genre\n",
       "Role-Playing    51.04\n",
       "Action          40.49\n",
       "Misc             9.20\n",
       "Fighting         7.65\n",
       "Shooter          6.61\n",
       "Name: Япония(сумма), dtype: float64"
      ]
     },
     "metadata": {},
     "output_type": "display_data"
    }
   ],
   "source": [
    "display(data_region_genre['Япония(сумма)'].sort_values(ascending = False).head())"
   ]
  },
  {
   "cell_type": "code",
   "execution_count": 67,
   "metadata": {},
   "outputs": [
    {
     "data": {
      "image/png": "[encoded data removed]",
      "text/plain": [
       "<Figure size 720x432 with 1 Axes>"
      ]
     },
     "metadata": {
      "needs_background": "light"
     },
     "output_type": "display_data"
    }
   ],
   "source": [
    "data_region_genre['Япония(сумма)'].sort_values(ascending = False).head().plot(kind='bar')\n",
    "plt.xlabel('жанры')\n",
    "plt.ylabel('продажи')\n",
    "plt.title('топ-5 жанров в Японии')\n",
    "plt.show();"
   ]
  },
  {
   "cell_type": "code",
   "execution_count": 68,
   "metadata": {},
   "outputs": [
    {
     "data": {
      "text/plain": [
       "genre\n",
       "Action          126.05\n",
       "Shooter         109.74\n",
       "Sports           65.27\n",
       "Role-Playing     46.40\n",
       "Misc             27.49\n",
       "Name: Северная Америка(сумма), dtype: float64"
      ]
     },
     "metadata": {},
     "output_type": "display_data"
    }
   ],
   "source": [
    "display(data_region_genre['Северная Америка(сумма)'].sort_values(ascending = False).head())"
   ]
  },
  {
   "cell_type": "code",
   "execution_count": 69,
   "metadata": {},
   "outputs": [
    {
     "data": {
      "image/png": "[encoded data removed]",
      "text/plain": [
       "<Figure size 720x432 with 1 Axes>"
      ]
     },
     "metadata": {
      "needs_background": "light"
     },
     "output_type": "display_data"
    }
   ],
   "source": [
    "data_region_genre['Северная Америка(сумма)'].sort_values(ascending = False).head().plot(kind='bar')\n",
    "plt.xlabel('жанры')\n",
    "plt.ylabel('продажи')\n",
    "plt.title('топ-5 жанров в Северной Америке')\n",
    "plt.show();"
   ]
  },
  {
   "cell_type": "markdown",
   "metadata": {},
   "source": [
    "Топ-5 игровых жанров в регионе - Европа:  \n",
    "\n",
    "- Action      \n",
    "- Shooter    \n",
    "- Sports     \n",
    "- Role-Playing     \n",
    "- Racing  \n",
    "\n",
    "Топ-5 игровых жанров в регионе - Япония:  \n",
    "- Role-Playing\n",
    "- Action      \n",
    "- Misc    \n",
    "- Fighting      \n",
    "- Shooter   \n",
    "\n",
    "Топ-5 игровых жанров в регионе - Северная Америка: \n",
    "- Action      \n",
    "- Shooter    \n",
    "- Sports     \n",
    "- Role-Playing    \n",
    "- Misc\n",
    "\n",
    "В Европе и Северной Америке схожи вкусы на игровые жанры, они любители активных игр и более командных игр  \n",
    "В Японии преобладают более спокойные,тщательные игры, где на первую роль выходит интелектуальные способности игкрока."
   ]
  },
  {
   "cell_type": "code",
   "execution_count": 70,
   "metadata": {},
   "outputs": [
    {
     "data": {
      "text/html": [
       "<div>\n",
       "<style scoped>\n",
       "    .dataframe tbody tr th:only-of-type {\n",
       "        vertical-align: middle;\n",
       "    }\n",
       "\n",
       "    .dataframe tbody tr th {\n",
       "        vertical-align: top;\n",
       "    }\n",
       "\n",
       "    .dataframe thead th {\n",
       "        text-align: right;\n",
       "    }\n",
       "</style>\n",
       "<table border=\"1\" class=\"dataframe\">\n",
       "  <thead>\n",
       "    <tr style=\"text-align: right;\">\n",
       "      <th></th>\n",
       "      <th>Европа(сумма)</th>\n",
       "      <th>Япония(сумма)</th>\n",
       "      <th>Северная Америка(сумма)</th>\n",
       "    </tr>\n",
       "    <tr>\n",
       "      <th>rating</th>\n",
       "      <th></th>\n",
       "      <th></th>\n",
       "      <th></th>\n",
       "    </tr>\n",
       "  </thead>\n",
       "  <tbody>\n",
       "    <tr>\n",
       "      <th>E</th>\n",
       "      <td>83.36</td>\n",
       "      <td>15.14</td>\n",
       "      <td>79.05</td>\n",
       "    </tr>\n",
       "    <tr>\n",
       "      <th>E10+</th>\n",
       "      <td>42.69</td>\n",
       "      <td>5.89</td>\n",
       "      <td>54.24</td>\n",
       "    </tr>\n",
       "    <tr>\n",
       "      <th>M</th>\n",
       "      <td>145.32</td>\n",
       "      <td>14.11</td>\n",
       "      <td>165.21</td>\n",
       "    </tr>\n",
       "    <tr>\n",
       "      <th>T</th>\n",
       "      <td>41.95</td>\n",
       "      <td>20.59</td>\n",
       "      <td>49.79</td>\n",
       "    </tr>\n",
       "    <tr>\n",
       "      <th>no-rating</th>\n",
       "      <td>78.91</td>\n",
       "      <td>85.05</td>\n",
       "      <td>89.42</td>\n",
       "    </tr>\n",
       "  </tbody>\n",
       "</table>\n",
       "</div>"
      ],
      "text/plain": [
       "           Европа(сумма)  Япония(сумма)  Северная Америка(сумма)\n",
       "rating                                                          \n",
       "E                  83.36          15.14                    79.05\n",
       "E10+               42.69           5.89                    54.24\n",
       "M                 145.32          14.11                   165.21\n",
       "T                  41.95          20.59                    49.79\n",
       "no-rating          78.91          85.05                    89.42"
      ]
     },
     "metadata": {},
     "output_type": "display_data"
    }
   ],
   "source": [
    "data_region_rating = data_year.pivot_table(index = 'rating',\n",
    "                                        values = ('eu_sales','jp_sales','na_sales'),aggfunc = 'sum')\n",
    "data_region_rating.columns = ['Европа(сумма)','Япония(сумма)','Северная Америка(сумма)']\n",
    "display(data_region_rating)"
   ]
  },
  {
   "cell_type": "code",
   "execution_count": 71,
   "metadata": {},
   "outputs": [
    {
     "data": {
      "text/plain": [
       "rating\n",
       "M            145.32\n",
       "E             83.36\n",
       "no-rating     78.91\n",
       "E10+          42.69\n",
       "T             41.95\n",
       "Name: Европа(сумма), dtype: float64"
      ]
     },
     "metadata": {},
     "output_type": "display_data"
    }
   ],
   "source": [
    "display(data_region_rating['Европа(сумма)'].sort_values(ascending = False))"
   ]
  },
  {
   "cell_type": "code",
   "execution_count": 72,
   "metadata": {},
   "outputs": [
    {
     "data": {
      "text/plain": [
       "rating\n",
       "no-rating    85.05\n",
       "T            20.59\n",
       "E            15.14\n",
       "M            14.11\n",
       "E10+          5.89\n",
       "Name: Япония(сумма), dtype: float64"
      ]
     },
     "metadata": {},
     "output_type": "display_data"
    }
   ],
   "source": [
    "display(data_region_rating['Япония(сумма)'].sort_values(ascending = False))"
   ]
  },
  {
   "cell_type": "code",
   "execution_count": 73,
   "metadata": {},
   "outputs": [
    {
     "data": {
      "text/plain": [
       "rating\n",
       "M            165.21\n",
       "no-rating     89.42\n",
       "E             79.05\n",
       "E10+          54.24\n",
       "T             49.79\n",
       "Name: Северная Америка(сумма), dtype: float64"
      ]
     },
     "metadata": {},
     "output_type": "display_data"
    }
   ],
   "source": [
    "display(data_region_rating['Северная Америка(сумма)'].sort_values(ascending = False))"
   ]
  },
  {
   "cell_type": "code",
   "execution_count": 82,
   "metadata": {},
   "outputs": [
    {
     "data": {
      "image/png": "[encoded data removed]",
      "text/plain": [
       "<Figure size 1080x504 with 3 Axes>"
      ]
     },
     "metadata": {},
     "output_type": "display_data"
    }
   ],
   "source": [
    "\n",
    "countries = ['na_sales','eu_sales','jp_sales']\n",
    "\n",
    "fig, axs = plt.subplots(1, 3, figsize=(15, 7))\n",
    "\n",
    "for i in range(len(countries)):\n",
    "    df_res = (data_year.groupby('rating')[countries[i]].sum().\n",
    "              reset_index().\n",
    "              sort_values(countries[i], ascending = False, ignore_index = True))\n",
    "\n",
    "    axs[i].pie(df_res[countries[i]], labels = df_res['rating'], autopct='%.0f%%')\n",
    "    axs[i].set_title(countries[i].split('_')[0].upper())"
   ]
  },
  {
   "cell_type": "markdown",
   "metadata": {},
   "source": [
    "Рейтинг ESRB влияет на продажи в каждом регионе по разному \n",
    "В Европе и Северной Америке наиболее популярные продажи с рейтингом М(для взрослых)    \n",
    "В Европе и Северной Америке наименьшие продажи с рейтингом T(подросткам)   \n",
    "В Японии популярные продажи без рейтинга\n",
    "В Японии наименьшие продажи с рейтингом E10+(для всех от 10 лет)   "
   ]
  },
  {
   "cell_type": "markdown",
   "metadata": {},
   "source": [
    "**Вывод по разделу 3**. \n",
    "- Топ-5 игровых платформ в регионе - Европа: PS4,PS3,XOne, X360,3DS  \n",
    "- Топ-5 игровых платформ в регионе - Япония: 3DS,PS3,PSV,PS4,wIIu  \n",
    "- Топ-5 игровых платформ в регионе - Северная Америка:PS4,XOne, X360,PS3,3DS \n",
    "- Европа и Северная Америка выбирают одинаковые платформы и на их долю приходится основная часть продаж-85: (40% и 45 %). Япония выбирает немного другие  платформы  и на них приходится 15% всех продаж   \n",
    "- Топ-5 игровых жанров в регионе - Европа:Action, Shooter, Sports,Role-Playing,Racing\n",
    "- Топ-5 игровых жанров в регионе - Япония: Role-Playing, Action, Misc,Fighting,Shooter \n",
    "- Топ-5 игровых жанров в регионе - Северная Америка:Action, Shooter, Sports,Role-Playing,Misc \n",
    "- В Европе и Северной Америке схожи вкусы на игровые жанры, они любители активных игр и более командных игр  \n",
    "- В Японии преобладают более спокойные,тщательные игры, где на первую роль выходит интелектуальные способности игкрока.    \n",
    "- Рейтинг ESRB влияет на продажи в каждом регионе по разному:  \n",
    "    √ В Европе и Северной Америке наиболее популярные продажи с рейтингом М(для взрослых)      \n",
    "    √ В Европе и Северной Америке наименьшие продажи с рейтингом T(подросткам)      \n",
    "    √ В Японии популярные продажи без рейтинга  \n",
    "    √ В Японии наименьшие продажи с рейтингом E10+(для всех от 10 лет)   \n"
   ]
  },
  {
   "cell_type": "markdown",
   "metadata": {},
   "source": [
    "**4.Проверка гипотез**  \n",
    "- Средние пользовательские рейтинги платформ Xbox One и PC одинаковые;  \n",
    "- Средние пользовательские рейтинги жанров Action (англ. «действие», экшен-игры) и Sports (англ. «спортивные соревнования») разные  "
   ]
  },
  {
   "cell_type": "markdown",
   "metadata": {},
   "source": [
    "Нулевая гипотеза: рейтинг платформы Xbox One равен рейтингу платформы PC  \n",
    "Альтернативная гипотеза: рейтинг платформы Xbox One НЕ равен рейтинга платформы PC "
   ]
  },
  {
   "cell_type": "code",
   "execution_count": 75,
   "metadata": {},
   "outputs": [
    {
     "name": "stdout",
     "output_type": "stream",
     "text": [
      "<class 'pandas.core.frame.DataFrame'>\n",
      "Int64Index: 1300 entries, 16 to 16692\n",
      "Data columns (total 12 columns):\n",
      " #   Column           Non-Null Count  Dtype  \n",
      "---  ------           --------------  -----  \n",
      " 0   name             1300 non-null   object \n",
      " 1   platform         1300 non-null   object \n",
      " 2   year_of_release  1300 non-null   int64  \n",
      " 3   genre            1300 non-null   object \n",
      " 4   na_sales         1300 non-null   float64\n",
      " 5   eu_sales         1300 non-null   float64\n",
      " 6   jp_sales         1300 non-null   float64\n",
      " 7   other_sales      1300 non-null   float64\n",
      " 8   critic_score     988 non-null    float64\n",
      " 9   user_score       1300 non-null   float64\n",
      " 10  rating           1300 non-null   object \n",
      " 11  total_sales      1300 non-null   float64\n",
      "dtypes: float64(7), int64(1), object(4)\n",
      "memory usage: 132.0+ KB\n"
     ]
    }
   ],
   "source": [
    "data_year_1 = data_year[data_year['user_score'].notnull()]\n",
    "data_year_1.info()"
   ]
  },
  {
   "cell_type": "code",
   "execution_count": 76,
   "metadata": {},
   "outputs": [],
   "source": [
    "data_xbox_one = data_year_1.query('platform == \"XOne\"')\n",
    "data_pc = data_year_1.query('platform == \"PC\"')"
   ]
  },
  {
   "cell_type": "code",
   "execution_count": 77,
   "metadata": {},
   "outputs": [
    {
     "name": "stdout",
     "output_type": "stream",
     "text": [
      "p-значение =  0.7263951389486794\n",
      "принимаем нулевую гипотезу\n"
     ]
    }
   ],
   "source": [
    "alpha_1 = 0.01\n",
    "result_1 = st.ttest_ind(data_xbox_one['user_score'],data_pc['user_score'],equal_var=False)\n",
    "print('p-значение = ', result_1.pvalue)\n",
    "if result_1.pvalue < alpha_1:\n",
    "    print('отвергаем нулевую гипотезу')\n",
    "else:\n",
    "    print('принимаем нулевую гипотезу')"
   ]
  },
  {
   "cell_type": "markdown",
   "metadata": {},
   "source": [
    "\n",
    "Нулевая  гипотеза была принята за равенство двух совокупностей. Так как у нас двусторонняя гипотеза,то у нас альтернативная гипотеза формлуируется как неравенство двух ГС.\n",
    "При проверке двусторосторонней гипотезы был выбран двухвыборочный t-тест для независимых выборок. \n",
    "в коде по умолчанию применили 'two-sided' и также применили equal_var=False так как размер выборок разный.\n",
    "\n",
    "Так как наблюдаемое значение оказалось близким  предполагаемого в нулевой гипотезе => нулевая гипотеза принимается статистичиски значимыми данными, и можно сделать вывод что средний рейтинг пользователей платформы xbox_one и рейтинг пользователей платформы PC  одинаковые"
   ]
  },
  {
   "cell_type": "markdown",
   "metadata": {},
   "source": [
    "Нулевая гипотеза: пользовательский рейтинг жанров Action  равен рейтингу жанра Sports  \n",
    "Альтернативная гипотеза: пользовательский рейтинг жанров Action НЕ равен рейтингу жанра Sports "
   ]
  },
  {
   "cell_type": "code",
   "execution_count": 78,
   "metadata": {},
   "outputs": [],
   "source": [
    "data_action = data_year_1.query('genre == \"Action\"')\n",
    "data_sports = data_year_1.query('genre == \"Sports\"')"
   ]
  },
  {
   "cell_type": "code",
   "execution_count": 79,
   "metadata": {},
   "outputs": [
    {
     "name": "stdout",
     "output_type": "stream",
     "text": [
      "p-значение =  3.947118399375673e-10\n",
      "отвергаем нулевую гипотезу\n"
     ]
    }
   ],
   "source": [
    "alpha_2 = 0.01\n",
    "result_2 = st.ttest_ind(data_action['user_score'],data_sports['user_score'],equal_var=False)\n",
    "print('p-значение = ', result_2.pvalue)\n",
    "if result_2.pvalue < alpha_2:\n",
    "    print('отвергаем нулевую гипотезу')\n",
    "else:\n",
    "    print('принимаем нулевую гипотезу')"
   ]
  },
  {
   "cell_type": "markdown",
   "metadata": {},
   "source": [
    "\n",
    "Нулевая  гипотеза была принята за равенство двух совокупностей. Так как у нас двусторонняя гипотеза,то у нас альтернативная гипотеза формлуируется как неравенство двух ГС.\n",
    "При проверке двусторосторонней гипотезы был выбран двухвыборочный t-тест для независимых выборок. \n",
    "в коде по умолчанию применили 'two-sided' и также применили equal_var=False так как размер выборок разный.\n",
    "\n",
    "Так как наблюдаемое значение оказалось далеко от предполагаемого в нулевой гипотезе => нулевая гипотеза в полной степени отвергается статистичиски значимыми данными, и можно сделать вывод что средний рейтинг жанров Action и  рейтинг жанра Sports РАЗНЫЙ"
   ]
  },
  {
   "cell_type": "markdown",
   "metadata": {},
   "source": [
    "**5.Общий вывод:** \n",
    "\n",
    "1.Данные:   \n",
    "- Датафрейм магазина \"Стримчик\" 16715 строк и 11 колонок(name, platform, year_of_release,critic_score,user_score,rating,genre,eu_sales,jp_sales,na_sales,other_sales)\n",
    "- В столбце name два пропущенных значения. Были удалены две строки.   \n",
    "- В столбце year_of_release 269 пропущенных значений. Были заменены медианным значением     \n",
    "- В столбце rating 6766 пропущенных значений. Выделили их в отдельную группу no-rating \n",
    "- Поменяли типы данных у стобцов: year_of_release,user_score. \n",
    "\n",
    "2.Анализ данных:  \n",
    "- В 1994 году наблюдается резкий скачок выпуска игр(напомним,что ERSB начала свою деятельность в 1994 году). С 2007-2011 гг. выпускалось наибольшее количество игр\n",
    "- Наиболее популярные платформы это: PS2,X360,PS3,Wii,Wiiu и Ds  \n",
    "- У платформ наблюдается одинаковая динамика в начале идет рост и затем падение(после 5 лет работы), в среднем платформы работают 10 лет  \n",
    "- За последние 5 лет наиболее стабильные и набирающие обороты платформы: PS3,X360,PS4,3DS и XOne  \n",
    "- Платформы PS3, 3DS,X360 падают по продажам, при этом являются  лидерами по продажам. Они НЕ  являются перспективными и на них не стоит делать ставки по продвижению.Стоит обратить внимание на платформы XOne и PS4 они уже в топе по продажам и при этом только набирают рост   \n",
    "- Зависимость между отзывами критиков и продажами слабая.\n",
    "- Зависимость между отзывами пользователей и продажами отстуствует.\n",
    "- Более сильная связь у продаж с отзовами критиков.   \n",
    "- Самый популярный жанр игр это 'Action', а самый непопулярный 'Puzzle'. Наимболие прибыльный жанр игр 'Shooter' и 'Sports', а наименьший 'Adventure'. Определена зависимость между высококимм продажами и высоким количеством игр в жанре \n",
    "\n",
    "3. Портрет пользователя каждого региона(для магазина):  \n",
    "- Топ-5 игровых платформ в регионе - Европа: PS4,PS3,XOne, X360,3DS  \n",
    "- Топ-5 игровых платформ в регионе - Япония: 3DS,PS3,PSV,PS4,wIIu  \n",
    "- Топ-5 игровых платформ в регионе - Северная Америка:PS4,XOne, X360,PS3,3DS \n",
    "- Европа и Северная Америка выбирают одинаковые платформы и на их долю приходится основная часть продаж-85: (40% и 45 %). Япония выбирает немного другие  платформы  и на них приходится 15% всех продаж   \n",
    "- Топ-5 игровых жанров в регионе - Европа:Action, Shooter, Sports,Role-Playing,Racing\n",
    "- Топ-5 игровых жанров в регионе - Япония: Role-Playing, Action, Misc,Fighting,Shooter \n",
    "- Топ-5 игровых жанров в регионе - Северная Америка:Action, Shooter, Sports,Role-Playing,Misc \n",
    "- В Европе и Северной Америке схожи вкусы на игровые жанры, они любители активных игр и более командных игр  \n",
    "- В Японии преобладают более спокойные,тщательные игры, где на первую роль выходит интелектуальные способности игрока.    \n",
    "- Рейтинг ESRB влияет на продажи в каждом регионе по разному:  \n",
    "    √ В Европе и Северной Америке наиболее популярные продажи с рейтингом М(для взрослых)      \n",
    "    √ В Европе и Северной Америке наименьшие продажи с рейтингом T(подросткам)      \n",
    "    √ В Японии популярные продажи без рейтинга  \n",
    "    √ В Японии наименьшие продажи с рейтингом E10+(для всех от 10 лет)   \n",
    "\n",
    "4. Выводы по гипотезам:\n",
    "- Cредний рейтинг пользователей платформы xbox_one и рейтинг пользователей платформы PC одинаковый  \n",
    "- Cредний рейтинг жанров игр Action и  рейтинг Sports разный \n",
    "\n",
    "5. Рекомендации магазину \"Стримчик\":   \n",
    "- Рекомендуется обращать внимание на  игры с платформы:XOne и PS4  \n",
    "- Рекомендуется обращать внимание на игры из жанра: Shooter,Action и Role-Playing  \n",
    "- Рекомендуется обращать внимание на игры с рейтингом ESRB - 'M'  \n",
    "- Рекомендуется обращать внимание на игры с пользовательским рейтингом более 5.\n"
   ]
  }
 ],
 "metadata": {
  "ExecuteTimeLog": [
   {
    "duration": 56,
    "start_time": "2024-04-22T07:47:44.344Z"
   },
   {
    "duration": 445,
    "start_time": "2024-04-22T07:47:54.161Z"
   },
   {
    "duration": 206,
    "start_time": "2024-04-22T07:47:55.328Z"
   },
   {
    "duration": 32,
    "start_time": "2024-04-22T07:48:18.411Z"
   },
   {
    "duration": 15,
    "start_time": "2024-04-22T08:01:24.475Z"
   },
   {
    "duration": 73,
    "start_time": "2024-04-22T08:01:44.058Z"
   },
   {
    "duration": 37,
    "start_time": "2024-04-22T08:01:52.085Z"
   },
   {
    "duration": 10,
    "start_time": "2024-04-22T08:05:07.214Z"
   },
   {
    "duration": 11,
    "start_time": "2024-04-22T08:14:34.124Z"
   },
   {
    "duration": 4,
    "start_time": "2024-04-22T08:14:47.658Z"
   },
   {
    "duration": 15,
    "start_time": "2024-04-22T08:15:01.553Z"
   },
   {
    "duration": 1455,
    "start_time": "2024-04-22T08:18:23.675Z"
   },
   {
    "duration": 62,
    "start_time": "2024-04-22T08:18:25.131Z"
   },
   {
    "duration": 21,
    "start_time": "2024-04-22T08:18:25.195Z"
   },
   {
    "duration": 5,
    "start_time": "2024-04-22T08:18:25.385Z"
   },
   {
    "duration": 15,
    "start_time": "2024-04-22T08:18:25.822Z"
   },
   {
    "duration": 16,
    "start_time": "2024-04-22T08:18:26.004Z"
   },
   {
    "duration": 12,
    "start_time": "2024-04-22T08:18:26.153Z"
   },
   {
    "duration": 6,
    "start_time": "2024-04-22T08:26:09.363Z"
   },
   {
    "duration": 6,
    "start_time": "2024-04-22T08:26:27.910Z"
   },
   {
    "duration": 14,
    "start_time": "2024-04-22T08:32:37.698Z"
   },
   {
    "duration": 14,
    "start_time": "2024-04-22T08:32:56.116Z"
   },
   {
    "duration": 16,
    "start_time": "2024-04-22T08:33:05.446Z"
   },
   {
    "duration": 5,
    "start_time": "2024-04-22T08:35:12.381Z"
   },
   {
    "duration": 5,
    "start_time": "2024-04-22T08:35:41.230Z"
   },
   {
    "duration": 138,
    "start_time": "2024-04-22T08:36:12.798Z"
   },
   {
    "duration": 16,
    "start_time": "2024-04-22T08:37:58.799Z"
   },
   {
    "duration": 7,
    "start_time": "2024-04-22T08:38:25.809Z"
   },
   {
    "duration": 93,
    "start_time": "2024-04-22T08:39:03.200Z"
   },
   {
    "duration": 7,
    "start_time": "2024-04-22T08:39:08.220Z"
   },
   {
    "duration": 15,
    "start_time": "2024-04-22T08:39:29.834Z"
   },
   {
    "duration": 25,
    "start_time": "2024-04-22T08:40:00.641Z"
   },
   {
    "duration": 9,
    "start_time": "2024-04-22T08:40:19.000Z"
   },
   {
    "duration": 26,
    "start_time": "2024-04-22T08:40:20.033Z"
   },
   {
    "duration": 788,
    "start_time": "2024-04-22T08:44:06.723Z"
   },
   {
    "duration": 616,
    "start_time": "2024-04-22T08:44:45.406Z"
   },
   {
    "duration": 716,
    "start_time": "2024-04-22T08:45:30.259Z"
   },
   {
    "duration": 618,
    "start_time": "2024-04-22T08:45:43.520Z"
   },
   {
    "duration": 7,
    "start_time": "2024-04-22T08:49:16.809Z"
   },
   {
    "duration": 28,
    "start_time": "2024-04-22T08:49:19.124Z"
   },
   {
    "duration": 1313,
    "start_time": "2024-04-22T08:51:08.244Z"
   },
   {
    "duration": 61,
    "start_time": "2024-04-22T08:51:09.559Z"
   },
   {
    "duration": 21,
    "start_time": "2024-04-22T08:51:09.622Z"
   },
   {
    "duration": 4,
    "start_time": "2024-04-22T08:51:13.422Z"
   },
   {
    "duration": 17,
    "start_time": "2024-04-22T08:51:14.708Z"
   },
   {
    "duration": 15,
    "start_time": "2024-04-22T08:51:16.566Z"
   },
   {
    "duration": 10,
    "start_time": "2024-04-22T08:51:18.426Z"
   },
   {
    "duration": 8,
    "start_time": "2024-04-22T08:51:20.423Z"
   },
   {
    "duration": 34,
    "start_time": "2024-04-22T08:51:21.679Z"
   },
   {
    "duration": 754,
    "start_time": "2024-04-22T08:51:44.841Z"
   },
   {
    "duration": 16,
    "start_time": "2024-04-22T08:55:24.112Z"
   },
   {
    "duration": 14,
    "start_time": "2024-04-22T08:55:57.242Z"
   },
   {
    "duration": 24,
    "start_time": "2024-04-22T08:57:02.161Z"
   },
   {
    "duration": 17,
    "start_time": "2024-04-22T08:57:20.344Z"
   },
   {
    "duration": 13,
    "start_time": "2024-04-22T08:58:03.996Z"
   },
   {
    "duration": 13,
    "start_time": "2024-04-22T08:58:08.664Z"
   },
   {
    "duration": 682,
    "start_time": "2024-04-22T08:58:16.096Z"
   },
   {
    "duration": 14,
    "start_time": "2024-04-22T08:58:24.696Z"
   },
   {
    "duration": 16,
    "start_time": "2024-04-22T08:59:00.698Z"
   },
   {
    "duration": 21,
    "start_time": "2024-04-22T08:59:56.848Z"
   },
   {
    "duration": 50,
    "start_time": "2024-04-22T09:00:30.117Z"
   },
   {
    "duration": 13,
    "start_time": "2024-04-22T09:01:43.382Z"
   },
   {
    "duration": 407,
    "start_time": "2024-04-22T09:01:47.932Z"
   },
   {
    "duration": 12,
    "start_time": "2024-04-22T09:03:00.242Z"
   },
   {
    "duration": 12,
    "start_time": "2024-04-22T09:03:05.269Z"
   },
   {
    "duration": 17,
    "start_time": "2024-04-22T09:03:30.252Z"
   },
   {
    "duration": 16,
    "start_time": "2024-04-22T09:05:53.451Z"
   },
   {
    "duration": 34,
    "start_time": "2024-04-22T09:05:56.068Z"
   },
   {
    "duration": 31,
    "start_time": "2024-04-22T09:07:48.050Z"
   },
   {
    "duration": 26,
    "start_time": "2024-04-22T09:07:51.187Z"
   },
   {
    "duration": 1290,
    "start_time": "2024-04-22T09:08:04.636Z"
   },
   {
    "duration": 60,
    "start_time": "2024-04-22T09:08:05.928Z"
   },
   {
    "duration": 24,
    "start_time": "2024-04-22T09:08:05.990Z"
   },
   {
    "duration": 10,
    "start_time": "2024-04-22T09:08:06.016Z"
   },
   {
    "duration": 31,
    "start_time": "2024-04-22T09:08:06.027Z"
   },
   {
    "duration": 16,
    "start_time": "2024-04-22T09:08:06.717Z"
   },
   {
    "duration": 15,
    "start_time": "2024-04-22T09:08:06.908Z"
   },
   {
    "duration": 15,
    "start_time": "2024-04-22T09:08:08.384Z"
   },
   {
    "duration": 29,
    "start_time": "2024-04-22T09:08:08.552Z"
   },
   {
    "duration": 6,
    "start_time": "2024-04-22T09:08:09.385Z"
   },
   {
    "duration": 8,
    "start_time": "2024-04-22T09:13:16.171Z"
   },
   {
    "duration": 27,
    "start_time": "2024-04-22T09:13:17.724Z"
   },
   {
    "duration": 1219,
    "start_time": "2024-04-22T09:13:29.693Z"
   },
   {
    "duration": 72,
    "start_time": "2024-04-22T09:13:30.914Z"
   },
   {
    "duration": 83,
    "start_time": "2024-04-22T09:13:30.988Z"
   },
   {
    "duration": 184,
    "start_time": "2024-04-22T09:13:31.074Z"
   },
   {
    "duration": 324,
    "start_time": "2024-04-22T09:13:31.260Z"
   },
   {
    "duration": 150,
    "start_time": "2024-04-22T09:13:31.585Z"
   },
   {
    "duration": 50,
    "start_time": "2024-04-22T09:13:31.737Z"
   },
   {
    "duration": 36,
    "start_time": "2024-04-22T09:13:31.789Z"
   },
   {
    "duration": 49,
    "start_time": "2024-04-22T09:13:31.827Z"
   },
   {
    "duration": 21,
    "start_time": "2024-04-22T09:13:31.877Z"
   },
   {
    "duration": 6,
    "start_time": "2024-04-22T09:13:47.254Z"
   },
   {
    "duration": 35,
    "start_time": "2024-04-22T09:13:48.106Z"
   },
   {
    "duration": 123,
    "start_time": "2024-04-22T09:15:52.795Z"
   },
   {
    "duration": 6,
    "start_time": "2024-04-22T09:16:00.184Z"
   },
   {
    "duration": 26,
    "start_time": "2024-04-22T09:16:03.224Z"
   },
   {
    "duration": 117,
    "start_time": "2024-04-22T09:20:04.146Z"
   },
   {
    "duration": 12,
    "start_time": "2024-04-22T09:20:12.810Z"
   },
   {
    "duration": 1232,
    "start_time": "2024-04-22T09:20:27.492Z"
   },
   {
    "duration": 60,
    "start_time": "2024-04-22T09:20:28.726Z"
   },
   {
    "duration": 21,
    "start_time": "2024-04-22T09:20:28.788Z"
   },
   {
    "duration": 21,
    "start_time": "2024-04-22T09:20:28.811Z"
   },
   {
    "duration": 45,
    "start_time": "2024-04-22T09:20:28.834Z"
   },
   {
    "duration": 38,
    "start_time": "2024-04-22T09:20:28.881Z"
   },
   {
    "duration": 24,
    "start_time": "2024-04-22T09:20:28.921Z"
   },
   {
    "duration": 135,
    "start_time": "2024-04-22T09:20:28.947Z"
   },
   {
    "duration": 0,
    "start_time": "2024-04-22T09:20:29.085Z"
   },
   {
    "duration": 8,
    "start_time": "2024-04-22T09:20:29.161Z"
   },
   {
    "duration": 1290,
    "start_time": "2024-04-22T09:24:20.934Z"
   },
   {
    "duration": 61,
    "start_time": "2024-04-22T09:24:22.226Z"
   },
   {
    "duration": 21,
    "start_time": "2024-04-22T09:24:22.289Z"
   },
   {
    "duration": 4,
    "start_time": "2024-04-22T09:24:22.312Z"
   },
   {
    "duration": 17,
    "start_time": "2024-04-22T09:24:22.318Z"
   },
   {
    "duration": 16,
    "start_time": "2024-04-22T09:24:22.507Z"
   },
   {
    "duration": 10,
    "start_time": "2024-04-22T09:24:23.752Z"
   },
   {
    "duration": 25,
    "start_time": "2024-04-22T09:24:25.936Z"
   },
   {
    "duration": 25,
    "start_time": "2024-04-22T09:24:35.346Z"
   },
   {
    "duration": 7,
    "start_time": "2024-04-22T09:24:59.081Z"
   },
   {
    "duration": 13,
    "start_time": "2024-04-22T09:25:28.046Z"
   },
   {
    "duration": 16,
    "start_time": "2024-04-22T09:27:29.166Z"
   },
   {
    "duration": 6,
    "start_time": "2024-04-22T09:28:53.764Z"
   },
   {
    "duration": 82,
    "start_time": "2024-04-22T09:31:11.821Z"
   },
   {
    "duration": 4,
    "start_time": "2024-04-22T09:31:17.965Z"
   },
   {
    "duration": 14,
    "start_time": "2024-04-22T09:31:28.082Z"
   },
   {
    "duration": 9,
    "start_time": "2024-04-22T09:31:37.802Z"
   },
   {
    "duration": 9,
    "start_time": "2024-04-22T09:31:46.051Z"
   },
   {
    "duration": 9,
    "start_time": "2024-04-22T09:31:59.117Z"
   },
   {
    "duration": 9,
    "start_time": "2024-04-22T09:32:06.539Z"
   },
   {
    "duration": 10,
    "start_time": "2024-04-22T09:32:21.156Z"
   },
   {
    "duration": 10,
    "start_time": "2024-04-22T09:32:35.999Z"
   },
   {
    "duration": 9,
    "start_time": "2024-04-22T09:32:41.084Z"
   },
   {
    "duration": 9,
    "start_time": "2024-04-22T09:32:48.433Z"
   },
   {
    "duration": 11,
    "start_time": "2024-04-22T09:34:09.172Z"
   },
   {
    "duration": 1261,
    "start_time": "2024-04-22T09:34:31.118Z"
   },
   {
    "duration": 62,
    "start_time": "2024-04-22T09:34:32.381Z"
   },
   {
    "duration": 21,
    "start_time": "2024-04-22T09:34:32.445Z"
   },
   {
    "duration": 4,
    "start_time": "2024-04-22T09:34:32.468Z"
   },
   {
    "duration": 17,
    "start_time": "2024-04-22T09:34:32.474Z"
   },
   {
    "duration": 24,
    "start_time": "2024-04-22T09:34:32.493Z"
   },
   {
    "duration": 10,
    "start_time": "2024-04-22T09:34:32.519Z"
   },
   {
    "duration": 16,
    "start_time": "2024-04-22T09:34:32.530Z"
   },
   {
    "duration": 3,
    "start_time": "2024-04-22T09:34:32.623Z"
   },
   {
    "duration": 13,
    "start_time": "2024-04-22T09:34:56.101Z"
   },
   {
    "duration": 11,
    "start_time": "2024-04-22T09:35:44.957Z"
   },
   {
    "duration": 14,
    "start_time": "2024-04-22T09:36:11.420Z"
   },
   {
    "duration": 24,
    "start_time": "2024-04-22T09:36:26.554Z"
   },
   {
    "duration": 6,
    "start_time": "2024-04-22T09:37:13.628Z"
   },
   {
    "duration": 14,
    "start_time": "2024-04-22T09:37:22.870Z"
   },
   {
    "duration": 18,
    "start_time": "2024-04-22T09:37:41.425Z"
   },
   {
    "duration": 14,
    "start_time": "2024-04-22T09:37:54.522Z"
   },
   {
    "duration": 96,
    "start_time": "2024-04-22T09:38:40.836Z"
   },
   {
    "duration": 14,
    "start_time": "2024-04-22T09:38:50.873Z"
   },
   {
    "duration": 13,
    "start_time": "2024-04-22T09:39:08.265Z"
   },
   {
    "duration": 18,
    "start_time": "2024-04-22T09:39:17.972Z"
   },
   {
    "duration": 15,
    "start_time": "2024-04-22T09:40:08.303Z"
   },
   {
    "duration": 27,
    "start_time": "2024-04-22T09:40:37.389Z"
   },
   {
    "duration": 19,
    "start_time": "2024-04-22T09:51:40.429Z"
   },
   {
    "duration": 5,
    "start_time": "2024-04-22T09:53:31.965Z"
   },
   {
    "duration": 15,
    "start_time": "2024-04-22T09:53:43.979Z"
   },
   {
    "duration": 6,
    "start_time": "2024-04-22T09:54:07.580Z"
   },
   {
    "duration": 14,
    "start_time": "2024-04-22T09:54:16.282Z"
   },
   {
    "duration": 103,
    "start_time": "2024-04-22T09:55:05.687Z"
   },
   {
    "duration": 5,
    "start_time": "2024-04-22T09:55:11.273Z"
   },
   {
    "duration": 13,
    "start_time": "2024-04-22T09:55:55.206Z"
   },
   {
    "duration": 8,
    "start_time": "2024-04-22T09:56:55.098Z"
   },
   {
    "duration": 15,
    "start_time": "2024-04-22T09:56:58.715Z"
   },
   {
    "duration": 9,
    "start_time": "2024-04-22T09:57:18.815Z"
   },
   {
    "duration": 15,
    "start_time": "2024-04-22T09:57:20.149Z"
   },
   {
    "duration": 1209,
    "start_time": "2024-04-22T09:57:32.218Z"
   },
   {
    "duration": 77,
    "start_time": "2024-04-22T09:57:33.429Z"
   },
   {
    "duration": 27,
    "start_time": "2024-04-22T09:57:33.509Z"
   },
   {
    "duration": 5,
    "start_time": "2024-04-22T09:57:33.539Z"
   },
   {
    "duration": 28,
    "start_time": "2024-04-22T09:57:33.546Z"
   },
   {
    "duration": 16,
    "start_time": "2024-04-22T09:57:33.576Z"
   },
   {
    "duration": 22,
    "start_time": "2024-04-22T09:57:33.593Z"
   },
   {
    "duration": 17,
    "start_time": "2024-04-22T09:57:33.816Z"
   },
   {
    "duration": 5,
    "start_time": "2024-04-22T09:57:34.792Z"
   },
   {
    "duration": 7,
    "start_time": "2024-04-22T09:57:34.983Z"
   },
   {
    "duration": 14,
    "start_time": "2024-04-22T09:57:35.166Z"
   },
   {
    "duration": 6,
    "start_time": "2024-04-22T09:58:03.149Z"
   },
   {
    "duration": 15,
    "start_time": "2024-04-22T09:58:03.331Z"
   },
   {
    "duration": 6,
    "start_time": "2024-04-22T09:58:48.399Z"
   },
   {
    "duration": 1188,
    "start_time": "2024-04-22T10:05:49.127Z"
   },
   {
    "duration": 60,
    "start_time": "2024-04-22T10:05:50.318Z"
   },
   {
    "duration": 22,
    "start_time": "2024-04-22T10:05:50.380Z"
   },
   {
    "duration": 23,
    "start_time": "2024-04-22T10:05:50.404Z"
   },
   {
    "duration": 25,
    "start_time": "2024-04-22T10:05:52.091Z"
   },
   {
    "duration": 16,
    "start_time": "2024-04-22T10:05:54.174Z"
   },
   {
    "duration": 10,
    "start_time": "2024-04-22T10:05:56.507Z"
   },
   {
    "duration": 25,
    "start_time": "2024-04-22T10:05:58.441Z"
   },
   {
    "duration": 6,
    "start_time": "2024-04-22T10:06:00.607Z"
   },
   {
    "duration": 6,
    "start_time": "2024-04-22T10:06:01.243Z"
   },
   {
    "duration": 15,
    "start_time": "2024-04-22T10:06:01.892Z"
   },
   {
    "duration": 5,
    "start_time": "2024-04-22T10:06:02.925Z"
   },
   {
    "duration": 5,
    "start_time": "2024-04-22T10:09:09.143Z"
   },
   {
    "duration": 103,
    "start_time": "2024-04-22T10:09:39.885Z"
   },
   {
    "duration": 7,
    "start_time": "2024-04-22T10:09:48.693Z"
   },
   {
    "duration": 9,
    "start_time": "2024-04-22T10:14:02.140Z"
   },
   {
    "duration": 8,
    "start_time": "2024-04-22T10:14:21.021Z"
   },
   {
    "duration": 23,
    "start_time": "2024-04-22T10:15:40.566Z"
   },
   {
    "duration": 22,
    "start_time": "2024-04-22T10:16:34.093Z"
   },
   {
    "duration": 22,
    "start_time": "2024-04-22T10:17:13.371Z"
   },
   {
    "duration": 6,
    "start_time": "2024-04-22T10:18:56.542Z"
   },
   {
    "duration": 15,
    "start_time": "2024-04-22T10:18:56.741Z"
   },
   {
    "duration": 4,
    "start_time": "2024-04-22T10:19:09.191Z"
   },
   {
    "duration": 15,
    "start_time": "2024-04-22T10:19:09.883Z"
   },
   {
    "duration": 14,
    "start_time": "2024-04-22T10:20:51.003Z"
   },
   {
    "duration": 6,
    "start_time": "2024-04-22T10:23:03.603Z"
   },
   {
    "duration": 17,
    "start_time": "2024-04-22T10:24:43.773Z"
   },
   {
    "duration": 3,
    "start_time": "2024-04-22T10:25:07.795Z"
   },
   {
    "duration": 33,
    "start_time": "2024-04-22T10:32:03.437Z"
   },
   {
    "duration": 33,
    "start_time": "2024-04-22T10:35:04.001Z"
   },
   {
    "duration": 6,
    "start_time": "2024-04-22T10:42:01.445Z"
   },
   {
    "duration": 24,
    "start_time": "2024-04-22T10:42:32.634Z"
   },
   {
    "duration": 10,
    "start_time": "2024-04-22T10:43:52.221Z"
   },
   {
    "duration": 30,
    "start_time": "2024-04-22T10:44:00.878Z"
   },
   {
    "duration": 95,
    "start_time": "2024-04-22T10:45:08.162Z"
   },
   {
    "duration": 5,
    "start_time": "2024-04-22T10:45:18.941Z"
   },
   {
    "duration": 20,
    "start_time": "2024-04-22T10:48:23.803Z"
   },
   {
    "duration": 1247,
    "start_time": "2024-04-22T10:48:34.480Z"
   },
   {
    "duration": 60,
    "start_time": "2024-04-22T10:48:35.729Z"
   },
   {
    "duration": 20,
    "start_time": "2024-04-22T10:48:35.791Z"
   },
   {
    "duration": 15,
    "start_time": "2024-04-22T10:48:35.812Z"
   },
   {
    "duration": 30,
    "start_time": "2024-04-22T10:48:35.829Z"
   },
   {
    "duration": 19,
    "start_time": "2024-04-22T10:48:35.860Z"
   },
   {
    "duration": 75,
    "start_time": "2024-04-22T10:48:35.881Z"
   },
   {
    "duration": 78,
    "start_time": "2024-04-22T10:48:35.958Z"
   },
   {
    "duration": 5,
    "start_time": "2024-04-22T10:48:36.552Z"
   },
   {
    "duration": 6,
    "start_time": "2024-04-22T10:48:36.844Z"
   },
   {
    "duration": 23,
    "start_time": "2024-04-22T10:48:37.564Z"
   },
   {
    "duration": 4,
    "start_time": "2024-04-22T10:48:38.416Z"
   },
   {
    "duration": 15,
    "start_time": "2024-04-22T10:48:38.969Z"
   },
   {
    "duration": 115,
    "start_time": "2024-04-22T10:48:40.133Z"
   },
   {
    "duration": 21,
    "start_time": "2024-04-22T10:48:45.726Z"
   },
   {
    "duration": 1236,
    "start_time": "2024-04-22T10:49:23.725Z"
   },
   {
    "duration": 61,
    "start_time": "2024-04-22T10:49:24.963Z"
   },
   {
    "duration": 21,
    "start_time": "2024-04-22T10:49:25.026Z"
   },
   {
    "duration": 12,
    "start_time": "2024-04-22T10:49:25.049Z"
   },
   {
    "duration": 23,
    "start_time": "2024-04-22T10:49:25.062Z"
   },
   {
    "duration": 24,
    "start_time": "2024-04-22T10:49:25.086Z"
   },
   {
    "duration": 10,
    "start_time": "2024-04-22T10:49:25.111Z"
   },
   {
    "duration": 17,
    "start_time": "2024-04-22T10:49:25.122Z"
   },
   {
    "duration": 5,
    "start_time": "2024-04-22T10:49:25.297Z"
   },
   {
    "duration": 6,
    "start_time": "2024-04-22T10:49:25.509Z"
   },
   {
    "duration": 23,
    "start_time": "2024-04-22T10:49:25.821Z"
   },
   {
    "duration": 4,
    "start_time": "2024-04-22T10:49:26.041Z"
   },
   {
    "duration": 15,
    "start_time": "2024-04-22T10:49:26.192Z"
   },
   {
    "duration": 22,
    "start_time": "2024-04-22T10:49:26.425Z"
   },
   {
    "duration": 118,
    "start_time": "2024-04-22T10:49:29.042Z"
   },
   {
    "duration": 1220,
    "start_time": "2024-04-22T10:50:45.094Z"
   },
   {
    "duration": 62,
    "start_time": "2024-04-22T10:50:46.316Z"
   },
   {
    "duration": 21,
    "start_time": "2024-04-22T10:50:46.380Z"
   },
   {
    "duration": 10,
    "start_time": "2024-04-22T10:50:46.404Z"
   },
   {
    "duration": 35,
    "start_time": "2024-04-22T10:50:46.416Z"
   },
   {
    "duration": 27,
    "start_time": "2024-04-22T10:50:46.452Z"
   },
   {
    "duration": 44,
    "start_time": "2024-04-22T10:50:46.481Z"
   },
   {
    "duration": 21,
    "start_time": "2024-04-22T10:50:46.578Z"
   },
   {
    "duration": 5,
    "start_time": "2024-04-22T10:50:46.991Z"
   },
   {
    "duration": 7,
    "start_time": "2024-04-22T10:50:47.261Z"
   },
   {
    "duration": 23,
    "start_time": "2024-04-22T10:50:47.542Z"
   },
   {
    "duration": 3,
    "start_time": "2024-04-22T10:50:47.811Z"
   },
   {
    "duration": 16,
    "start_time": "2024-04-22T10:50:47.959Z"
   },
   {
    "duration": 22,
    "start_time": "2024-04-22T10:50:48.226Z"
   },
   {
    "duration": 23,
    "start_time": "2024-04-22T10:50:48.723Z"
   },
   {
    "duration": 117,
    "start_time": "2024-04-22T10:50:48.877Z"
   },
   {
    "duration": 4,
    "start_time": "2024-04-22T10:52:00.911Z"
   },
   {
    "duration": 19,
    "start_time": "2024-04-22T10:52:03.326Z"
   },
   {
    "duration": 10,
    "start_time": "2024-04-22T10:53:15.127Z"
   },
   {
    "duration": 6,
    "start_time": "2024-04-22T10:53:21.245Z"
   },
   {
    "duration": 19,
    "start_time": "2024-04-22T10:53:25.194Z"
   },
   {
    "duration": 19,
    "start_time": "2024-04-22T10:55:03.214Z"
   },
   {
    "duration": 26,
    "start_time": "2024-04-22T10:55:30.047Z"
   },
   {
    "duration": 19,
    "start_time": "2024-04-22T10:55:37.040Z"
   },
   {
    "duration": 19,
    "start_time": "2024-04-22T10:56:53.079Z"
   },
   {
    "duration": 1288,
    "start_time": "2024-04-22T10:58:13.800Z"
   },
   {
    "duration": 62,
    "start_time": "2024-04-22T10:58:15.091Z"
   },
   {
    "duration": 20,
    "start_time": "2024-04-22T10:58:15.155Z"
   },
   {
    "duration": 30,
    "start_time": "2024-04-22T10:58:15.177Z"
   },
   {
    "duration": 38,
    "start_time": "2024-04-22T10:58:15.230Z"
   },
   {
    "duration": 15,
    "start_time": "2024-04-22T10:58:15.961Z"
   },
   {
    "duration": 16,
    "start_time": "2024-04-22T10:58:16.179Z"
   },
   {
    "duration": 29,
    "start_time": "2024-04-22T10:58:16.730Z"
   },
   {
    "duration": 6,
    "start_time": "2024-04-22T10:58:17.045Z"
   },
   {
    "duration": 7,
    "start_time": "2024-04-22T10:58:17.680Z"
   },
   {
    "duration": 24,
    "start_time": "2024-04-22T10:58:18.631Z"
   },
   {
    "duration": 4,
    "start_time": "2024-04-22T10:58:21.613Z"
   },
   {
    "duration": 18,
    "start_time": "2024-04-22T10:58:21.795Z"
   },
   {
    "duration": 33,
    "start_time": "2024-04-22T10:58:22.097Z"
   },
   {
    "duration": 18,
    "start_time": "2024-04-22T10:58:22.818Z"
   },
   {
    "duration": 118,
    "start_time": "2024-04-22T10:58:22.963Z"
   },
   {
    "duration": 27,
    "start_time": "2024-04-22T10:59:50.166Z"
   },
   {
    "duration": 29,
    "start_time": "2024-04-22T10:59:56.532Z"
   },
   {
    "duration": 8,
    "start_time": "2024-04-22T11:00:16.515Z"
   },
   {
    "duration": 15,
    "start_time": "2024-04-22T11:00:53.900Z"
   },
   {
    "duration": 19,
    "start_time": "2024-04-22T11:01:07.781Z"
   },
   {
    "duration": 15,
    "start_time": "2024-04-22T11:01:24.668Z"
   },
   {
    "duration": 5,
    "start_time": "2024-04-22T11:01:41.699Z"
   },
   {
    "duration": 9,
    "start_time": "2024-04-22T11:05:17.454Z"
   },
   {
    "duration": 26,
    "start_time": "2024-04-22T11:14:04.008Z"
   },
   {
    "duration": 17,
    "start_time": "2024-04-22T11:14:05.008Z"
   },
   {
    "duration": 9,
    "start_time": "2024-04-22T11:14:06.641Z"
   },
   {
    "duration": 1275,
    "start_time": "2024-04-22T11:14:28.841Z"
   },
   {
    "duration": 66,
    "start_time": "2024-04-22T11:14:30.118Z"
   },
   {
    "duration": 44,
    "start_time": "2024-04-22T11:14:30.186Z"
   },
   {
    "duration": 91,
    "start_time": "2024-04-22T11:14:30.232Z"
   },
   {
    "duration": 89,
    "start_time": "2024-04-22T11:14:30.325Z"
   },
   {
    "duration": 240,
    "start_time": "2024-04-22T11:14:30.441Z"
   },
   {
    "duration": 216,
    "start_time": "2024-04-22T11:14:30.683Z"
   },
   {
    "duration": 113,
    "start_time": "2024-04-22T11:14:30.901Z"
   },
   {
    "duration": 4,
    "start_time": "2024-04-22T11:14:31.159Z"
   },
   {
    "duration": 23,
    "start_time": "2024-04-22T11:14:31.426Z"
   },
   {
    "duration": 83,
    "start_time": "2024-04-22T11:14:31.711Z"
   },
   {
    "duration": 3,
    "start_time": "2024-04-22T11:14:31.993Z"
   },
   {
    "duration": 18,
    "start_time": "2024-04-22T11:14:32.141Z"
   },
   {
    "duration": 21,
    "start_time": "2024-04-22T11:14:32.943Z"
   },
   {
    "duration": 21,
    "start_time": "2024-04-22T11:14:33.975Z"
   },
   {
    "duration": 15,
    "start_time": "2024-04-22T11:14:34.559Z"
   },
   {
    "duration": 8,
    "start_time": "2024-04-22T11:14:35.627Z"
   },
   {
    "duration": 114,
    "start_time": "2024-04-22T11:17:25.781Z"
   },
   {
    "duration": 26,
    "start_time": "2024-04-22T11:17:37.534Z"
   },
   {
    "duration": 18,
    "start_time": "2024-04-22T11:17:40.182Z"
   },
   {
    "duration": 8,
    "start_time": "2024-04-22T11:18:32.046Z"
   },
   {
    "duration": 14,
    "start_time": "2024-04-22T11:18:58.792Z"
   },
   {
    "duration": 13,
    "start_time": "2024-04-22T11:22:09.618Z"
   },
   {
    "duration": 27,
    "start_time": "2024-04-22T11:22:14.431Z"
   },
   {
    "duration": 29,
    "start_time": "2024-04-22T11:22:41.948Z"
   },
   {
    "duration": 10,
    "start_time": "2024-04-22T11:22:56.250Z"
   },
   {
    "duration": 8,
    "start_time": "2024-04-22T11:23:01.336Z"
   },
   {
    "duration": 11,
    "start_time": "2024-04-22T11:23:22.750Z"
   },
   {
    "duration": 12,
    "start_time": "2024-04-22T11:23:44.050Z"
   },
   {
    "duration": 1273,
    "start_time": "2024-04-22T11:24:00.654Z"
   },
   {
    "duration": 62,
    "start_time": "2024-04-22T11:24:01.929Z"
   },
   {
    "duration": 22,
    "start_time": "2024-04-22T11:24:01.993Z"
   },
   {
    "duration": 58,
    "start_time": "2024-04-22T11:24:02.017Z"
   },
   {
    "duration": 123,
    "start_time": "2024-04-22T11:24:02.076Z"
   },
   {
    "duration": 66,
    "start_time": "2024-04-22T11:24:02.201Z"
   },
   {
    "duration": 11,
    "start_time": "2024-04-22T11:24:02.269Z"
   },
   {
    "duration": 22,
    "start_time": "2024-04-22T11:24:02.282Z"
   },
   {
    "duration": 18,
    "start_time": "2024-04-22T11:24:02.306Z"
   },
   {
    "duration": 7,
    "start_time": "2024-04-22T11:24:02.548Z"
   },
   {
    "duration": 23,
    "start_time": "2024-04-22T11:24:03.950Z"
   },
   {
    "duration": 4,
    "start_time": "2024-04-22T11:24:05.323Z"
   },
   {
    "duration": 15,
    "start_time": "2024-04-22T11:24:05.981Z"
   },
   {
    "duration": 21,
    "start_time": "2024-04-22T11:24:07.583Z"
   },
   {
    "duration": 20,
    "start_time": "2024-04-22T11:24:09.451Z"
   },
   {
    "duration": 13,
    "start_time": "2024-04-22T11:24:12.105Z"
   },
   {
    "duration": 7,
    "start_time": "2024-04-22T11:24:13.182Z"
   },
   {
    "duration": 24,
    "start_time": "2024-04-22T11:25:01.900Z"
   },
   {
    "duration": 11,
    "start_time": "2024-04-22T11:25:03.382Z"
   },
   {
    "duration": 6,
    "start_time": "2024-04-22T11:25:04.117Z"
   },
   {
    "duration": 18,
    "start_time": "2024-04-22T11:25:33.467Z"
   },
   {
    "duration": 10,
    "start_time": "2024-04-22T11:25:33.741Z"
   },
   {
    "duration": 8,
    "start_time": "2024-04-22T11:25:33.766Z"
   },
   {
    "duration": 12,
    "start_time": "2024-04-22T11:25:43.017Z"
   },
   {
    "duration": 7,
    "start_time": "2024-04-22T11:25:44.135Z"
   },
   {
    "duration": 15,
    "start_time": "2024-04-22T11:26:02.950Z"
   },
   {
    "duration": 11,
    "start_time": "2024-04-22T11:26:03.802Z"
   },
   {
    "duration": 8,
    "start_time": "2024-04-22T11:26:04.585Z"
   },
   {
    "duration": 1215,
    "start_time": "2024-04-22T11:26:17.301Z"
   },
   {
    "duration": 61,
    "start_time": "2024-04-22T11:26:18.519Z"
   },
   {
    "duration": 22,
    "start_time": "2024-04-22T11:26:18.582Z"
   },
   {
    "duration": 4,
    "start_time": "2024-04-22T11:26:18.607Z"
   },
   {
    "duration": 24,
    "start_time": "2024-04-22T11:26:18.613Z"
   },
   {
    "duration": 26,
    "start_time": "2024-04-22T11:26:18.639Z"
   },
   {
    "duration": 10,
    "start_time": "2024-04-22T11:26:18.673Z"
   },
   {
    "duration": 24,
    "start_time": "2024-04-22T11:26:18.758Z"
   },
   {
    "duration": 6,
    "start_time": "2024-04-22T11:26:19.016Z"
   },
   {
    "duration": 7,
    "start_time": "2024-04-22T11:26:19.300Z"
   },
   {
    "duration": 23,
    "start_time": "2024-04-22T11:26:19.568Z"
   },
   {
    "duration": 4,
    "start_time": "2024-04-22T11:26:19.834Z"
   },
   {
    "duration": 15,
    "start_time": "2024-04-22T11:26:20.439Z"
   },
   {
    "duration": 22,
    "start_time": "2024-04-22T11:26:20.933Z"
   },
   {
    "duration": 22,
    "start_time": "2024-04-22T11:26:21.733Z"
   },
   {
    "duration": 12,
    "start_time": "2024-04-22T11:26:22.234Z"
   },
   {
    "duration": 7,
    "start_time": "2024-04-22T11:26:23.034Z"
   },
   {
    "duration": 12,
    "start_time": "2024-04-22T11:26:34.768Z"
   },
   {
    "duration": 6,
    "start_time": "2024-04-22T11:26:35.950Z"
   },
   {
    "duration": 1266,
    "start_time": "2024-04-22T11:26:47.868Z"
   },
   {
    "duration": 61,
    "start_time": "2024-04-22T11:26:49.137Z"
   },
   {
    "duration": 22,
    "start_time": "2024-04-22T11:26:49.199Z"
   },
   {
    "duration": 32,
    "start_time": "2024-04-22T11:26:49.223Z"
   },
   {
    "duration": 39,
    "start_time": "2024-04-22T11:26:49.257Z"
   },
   {
    "duration": 46,
    "start_time": "2024-04-22T11:26:49.299Z"
   },
   {
    "duration": 23,
    "start_time": "2024-04-22T11:26:49.348Z"
   },
   {
    "duration": 30,
    "start_time": "2024-04-22T11:26:49.600Z"
   },
   {
    "duration": 6,
    "start_time": "2024-04-22T11:26:49.900Z"
   },
   {
    "duration": 9,
    "start_time": "2024-04-22T11:26:50.586Z"
   },
   {
    "duration": 24,
    "start_time": "2024-04-22T11:26:50.913Z"
   },
   {
    "duration": 4,
    "start_time": "2024-04-22T11:26:51.150Z"
   },
   {
    "duration": 16,
    "start_time": "2024-04-22T11:26:51.300Z"
   },
   {
    "duration": 21,
    "start_time": "2024-04-22T11:26:51.634Z"
   },
   {
    "duration": 20,
    "start_time": "2024-04-22T11:26:51.963Z"
   },
   {
    "duration": 13,
    "start_time": "2024-04-22T11:26:52.067Z"
   },
   {
    "duration": 6,
    "start_time": "2024-04-22T11:26:52.234Z"
   },
   {
    "duration": 12,
    "start_time": "2024-04-22T11:27:25.971Z"
   },
   {
    "duration": 6,
    "start_time": "2024-04-22T11:27:27.134Z"
   },
   {
    "duration": 1280,
    "start_time": "2024-04-22T11:28:22.536Z"
   },
   {
    "duration": 61,
    "start_time": "2024-04-22T11:28:23.818Z"
   },
   {
    "duration": 20,
    "start_time": "2024-04-22T11:28:23.881Z"
   },
   {
    "duration": 4,
    "start_time": "2024-04-22T11:28:23.903Z"
   },
   {
    "duration": 49,
    "start_time": "2024-04-22T11:28:23.908Z"
   },
   {
    "duration": 38,
    "start_time": "2024-04-22T11:28:23.959Z"
   },
   {
    "duration": 26,
    "start_time": "2024-04-22T11:28:23.999Z"
   },
   {
    "duration": 18,
    "start_time": "2024-04-22T11:28:24.027Z"
   },
   {
    "duration": 5,
    "start_time": "2024-04-22T11:28:24.202Z"
   },
   {
    "duration": 7,
    "start_time": "2024-04-22T11:28:24.468Z"
   },
   {
    "duration": 23,
    "start_time": "2024-04-22T11:28:25.053Z"
   },
   {
    "duration": 4,
    "start_time": "2024-04-22T11:28:25.338Z"
   },
   {
    "duration": 16,
    "start_time": "2024-04-22T11:28:25.906Z"
   },
   {
    "duration": 22,
    "start_time": "2024-04-22T11:28:26.320Z"
   },
   {
    "duration": 21,
    "start_time": "2024-04-22T11:28:26.935Z"
   },
   {
    "duration": 17,
    "start_time": "2024-04-22T11:28:27.502Z"
   },
   {
    "duration": 6,
    "start_time": "2024-04-22T11:28:29.319Z"
   },
   {
    "duration": 22,
    "start_time": "2024-04-22T11:31:13.931Z"
   },
   {
    "duration": 10,
    "start_time": "2024-04-22T11:31:14.054Z"
   },
   {
    "duration": 6,
    "start_time": "2024-04-22T11:31:14.355Z"
   },
   {
    "duration": 1282,
    "start_time": "2024-04-22T11:31:25.072Z"
   },
   {
    "duration": 60,
    "start_time": "2024-04-22T11:31:26.356Z"
   },
   {
    "duration": 20,
    "start_time": "2024-04-22T11:31:26.418Z"
   },
   {
    "duration": 5,
    "start_time": "2024-04-22T11:31:26.441Z"
   },
   {
    "duration": 29,
    "start_time": "2024-04-22T11:31:26.447Z"
   },
   {
    "duration": 19,
    "start_time": "2024-04-22T11:31:26.477Z"
   },
   {
    "duration": 12,
    "start_time": "2024-04-22T11:31:26.528Z"
   },
   {
    "duration": 18,
    "start_time": "2024-04-22T11:31:26.781Z"
   },
   {
    "duration": 4,
    "start_time": "2024-04-22T11:31:27.038Z"
   },
   {
    "duration": 7,
    "start_time": "2024-04-22T11:31:27.338Z"
   },
   {
    "duration": 23,
    "start_time": "2024-04-22T11:31:27.590Z"
   },
   {
    "duration": 4,
    "start_time": "2024-04-22T11:31:27.870Z"
   },
   {
    "duration": 15,
    "start_time": "2024-04-22T11:31:28.022Z"
   },
   {
    "duration": 24,
    "start_time": "2024-04-22T11:31:28.304Z"
   },
   {
    "duration": 21,
    "start_time": "2024-04-22T11:31:28.587Z"
   },
   {
    "duration": 12,
    "start_time": "2024-04-22T11:31:28.737Z"
   },
   {
    "duration": 7,
    "start_time": "2024-04-22T11:31:28.870Z"
   },
   {
    "duration": 12,
    "start_time": "2024-04-22T11:40:03.942Z"
   },
   {
    "duration": 9,
    "start_time": "2024-04-22T11:40:29.445Z"
   },
   {
    "duration": 11,
    "start_time": "2024-04-22T11:41:31.062Z"
   },
   {
    "duration": 6,
    "start_time": "2024-04-22T11:41:40.449Z"
   },
   {
    "duration": 1207,
    "start_time": "2024-04-22T11:41:51.314Z"
   },
   {
    "duration": 62,
    "start_time": "2024-04-22T11:41:52.523Z"
   },
   {
    "duration": 30,
    "start_time": "2024-04-22T11:41:52.586Z"
   },
   {
    "duration": 5,
    "start_time": "2024-04-22T11:41:52.619Z"
   },
   {
    "duration": 18,
    "start_time": "2024-04-22T11:41:52.626Z"
   },
   {
    "duration": 35,
    "start_time": "2024-04-22T11:41:52.646Z"
   },
   {
    "duration": 10,
    "start_time": "2024-04-22T11:41:52.683Z"
   },
   {
    "duration": 19,
    "start_time": "2024-04-22T11:41:52.695Z"
   },
   {
    "duration": 6,
    "start_time": "2024-04-22T11:41:52.895Z"
   },
   {
    "duration": 7,
    "start_time": "2024-04-22T11:41:53.196Z"
   },
   {
    "duration": 25,
    "start_time": "2024-04-22T11:41:53.446Z"
   },
   {
    "duration": 4,
    "start_time": "2024-04-22T11:41:53.713Z"
   },
   {
    "duration": 22,
    "start_time": "2024-04-22T11:41:54.806Z"
   },
   {
    "duration": 21,
    "start_time": "2024-04-22T11:41:54.830Z"
   },
   {
    "duration": 12,
    "start_time": "2024-04-22T11:41:54.978Z"
   },
   {
    "duration": 13,
    "start_time": "2024-04-22T11:41:55.662Z"
   },
   {
    "duration": 7,
    "start_time": "2024-04-22T11:41:55.863Z"
   },
   {
    "duration": 11,
    "start_time": "2024-04-22T11:42:25.855Z"
   },
   {
    "duration": 7,
    "start_time": "2024-04-22T11:42:26.331Z"
   },
   {
    "duration": 1252,
    "start_time": "2024-04-22T11:44:00.632Z"
   },
   {
    "duration": 61,
    "start_time": "2024-04-22T11:44:01.886Z"
   },
   {
    "duration": 59,
    "start_time": "2024-04-22T11:44:01.949Z"
   },
   {
    "duration": 198,
    "start_time": "2024-04-22T11:44:02.010Z"
   },
   {
    "duration": 65,
    "start_time": "2024-04-22T11:44:02.209Z"
   },
   {
    "duration": 98,
    "start_time": "2024-04-22T11:44:02.276Z"
   },
   {
    "duration": 59,
    "start_time": "2024-04-22T11:44:02.376Z"
   },
   {
    "duration": 37,
    "start_time": "2024-04-22T11:44:02.438Z"
   },
   {
    "duration": 6,
    "start_time": "2024-04-22T11:44:02.532Z"
   },
   {
    "duration": 8,
    "start_time": "2024-04-22T11:44:02.800Z"
   },
   {
    "duration": 22,
    "start_time": "2024-04-22T11:44:03.084Z"
   },
   {
    "duration": 4,
    "start_time": "2024-04-22T11:44:03.349Z"
   },
   {
    "duration": 21,
    "start_time": "2024-04-22T11:44:03.633Z"
   },
   {
    "duration": 20,
    "start_time": "2024-04-22T11:44:03.902Z"
   },
   {
    "duration": 11,
    "start_time": "2024-04-22T11:44:04.186Z"
   },
   {
    "duration": 13,
    "start_time": "2024-04-22T11:44:04.467Z"
   },
   {
    "duration": 7,
    "start_time": "2024-04-22T11:44:04.600Z"
   },
   {
    "duration": 104,
    "start_time": "2024-04-22T11:48:10.404Z"
   },
   {
    "duration": 10,
    "start_time": "2024-04-22T11:49:32.512Z"
   },
   {
    "duration": 10,
    "start_time": "2024-04-22T11:49:57.205Z"
   },
   {
    "duration": 10,
    "start_time": "2024-04-22T11:50:14.489Z"
   },
   {
    "duration": 11,
    "start_time": "2024-04-22T11:50:23.592Z"
   },
   {
    "duration": 5,
    "start_time": "2024-04-22T11:58:52.567Z"
   },
   {
    "duration": 17,
    "start_time": "2024-04-22T11:59:38.890Z"
   },
   {
    "duration": 14,
    "start_time": "2024-04-22T12:00:11.799Z"
   },
   {
    "duration": 11,
    "start_time": "2024-04-22T12:00:14.783Z"
   },
   {
    "duration": 16,
    "start_time": "2024-04-22T12:00:17.349Z"
   },
   {
    "duration": 11,
    "start_time": "2024-04-22T12:00:22.017Z"
   },
   {
    "duration": 13,
    "start_time": "2024-04-22T12:00:23.815Z"
   },
   {
    "duration": 7,
    "start_time": "2024-04-22T12:00:24.083Z"
   },
   {
    "duration": 24,
    "start_time": "2024-04-22T12:00:25.452Z"
   },
   {
    "duration": 7,
    "start_time": "2024-04-22T12:00:52.200Z"
   },
   {
    "duration": 8,
    "start_time": "2024-04-22T12:00:52.916Z"
   },
   {
    "duration": 15,
    "start_time": "2024-04-22T12:00:53.202Z"
   },
   {
    "duration": 12,
    "start_time": "2024-04-22T12:00:53.349Z"
   },
   {
    "duration": 12,
    "start_time": "2024-04-22T12:00:53.635Z"
   },
   {
    "duration": 6,
    "start_time": "2024-04-22T12:00:53.784Z"
   },
   {
    "duration": 16,
    "start_time": "2024-04-22T12:00:54.217Z"
   },
   {
    "duration": 18,
    "start_time": "2024-04-22T12:01:12.219Z"
   },
   {
    "duration": 15,
    "start_time": "2024-04-22T12:01:30.439Z"
   },
   {
    "duration": 82,
    "start_time": "2024-04-22T12:02:57.554Z"
   },
   {
    "duration": 17,
    "start_time": "2024-04-22T12:03:18.854Z"
   },
   {
    "duration": 7,
    "start_time": "2024-04-22T12:13:13.349Z"
   },
   {
    "duration": 12,
    "start_time": "2024-04-22T12:13:36.432Z"
   },
   {
    "duration": 20,
    "start_time": "2024-04-22T12:13:42.425Z"
   },
   {
    "duration": 1286,
    "start_time": "2024-04-22T12:14:05.134Z"
   },
   {
    "duration": 63,
    "start_time": "2024-04-22T12:14:06.422Z"
   },
   {
    "duration": 20,
    "start_time": "2024-04-22T12:14:06.487Z"
   },
   {
    "duration": 9,
    "start_time": "2024-04-22T12:14:06.509Z"
   },
   {
    "duration": 31,
    "start_time": "2024-04-22T12:14:06.519Z"
   },
   {
    "duration": 25,
    "start_time": "2024-04-22T12:14:06.552Z"
   },
   {
    "duration": 25,
    "start_time": "2024-04-22T12:14:06.579Z"
   },
   {
    "duration": 17,
    "start_time": "2024-04-22T12:14:06.606Z"
   },
   {
    "duration": 5,
    "start_time": "2024-04-22T12:14:06.673Z"
   },
   {
    "duration": 7,
    "start_time": "2024-04-22T12:14:07.096Z"
   },
   {
    "duration": 23,
    "start_time": "2024-04-22T12:14:07.395Z"
   },
   {
    "duration": 4,
    "start_time": "2024-04-22T12:14:07.669Z"
   },
   {
    "duration": 23,
    "start_time": "2024-04-22T12:14:08.236Z"
   },
   {
    "duration": 21,
    "start_time": "2024-04-22T12:14:08.261Z"
   },
   {
    "duration": 12,
    "start_time": "2024-04-22T12:14:08.395Z"
   },
   {
    "duration": 11,
    "start_time": "2024-04-22T12:14:08.663Z"
   },
   {
    "duration": 7,
    "start_time": "2024-04-22T12:14:08.828Z"
   },
   {
    "duration": 27,
    "start_time": "2024-04-22T12:14:09.262Z"
   },
   {
    "duration": 47,
    "start_time": "2024-04-22T14:39:57.001Z"
   },
   {
    "duration": 1429,
    "start_time": "2024-04-22T14:40:14.442Z"
   },
   {
    "duration": 196,
    "start_time": "2024-04-22T14:40:15.873Z"
   },
   {
    "duration": 20,
    "start_time": "2024-04-22T14:40:16.070Z"
   },
   {
    "duration": 28,
    "start_time": "2024-04-22T14:40:16.092Z"
   },
   {
    "duration": 29,
    "start_time": "2024-04-22T14:40:16.122Z"
   },
   {
    "duration": 36,
    "start_time": "2024-04-22T14:40:16.153Z"
   },
   {
    "duration": 16,
    "start_time": "2024-04-22T14:40:16.191Z"
   },
   {
    "duration": 32,
    "start_time": "2024-04-22T14:40:16.209Z"
   },
   {
    "duration": 6,
    "start_time": "2024-04-22T14:40:16.243Z"
   },
   {
    "duration": 9,
    "start_time": "2024-04-22T14:40:16.269Z"
   },
   {
    "duration": 22,
    "start_time": "2024-04-22T14:40:16.440Z"
   },
   {
    "duration": 4,
    "start_time": "2024-04-22T14:40:16.732Z"
   },
   {
    "duration": 23,
    "start_time": "2024-04-22T14:40:17.000Z"
   },
   {
    "duration": 24,
    "start_time": "2024-04-22T14:40:17.281Z"
   },
   {
    "duration": 16,
    "start_time": "2024-04-22T14:40:17.415Z"
   },
   {
    "duration": 10,
    "start_time": "2024-04-22T14:40:17.698Z"
   },
   {
    "duration": 7,
    "start_time": "2024-04-22T14:40:17.846Z"
   },
   {
    "duration": 20,
    "start_time": "2024-04-22T14:40:18.265Z"
   },
   {
    "duration": 102,
    "start_time": "2024-04-22T14:40:20.265Z"
   },
   {
    "duration": 11,
    "start_time": "2024-04-22T14:40:26.265Z"
   },
   {
    "duration": 7,
    "start_time": "2024-04-22T14:40:42.730Z"
   },
   {
    "duration": 8,
    "start_time": "2024-04-22T14:41:19.271Z"
   },
   {
    "duration": 174,
    "start_time": "2024-04-22T14:43:59.300Z"
   },
   {
    "duration": 165,
    "start_time": "2024-04-22T14:44:19.998Z"
   },
   {
    "duration": 2084,
    "start_time": "2024-04-22T14:44:56.181Z"
   },
   {
    "duration": 1673,
    "start_time": "2024-04-22T14:45:07.215Z"
   },
   {
    "duration": 8,
    "start_time": "2024-04-22T14:45:30.583Z"
   },
   {
    "duration": 2,
    "start_time": "2024-04-22T14:45:38.231Z"
   },
   {
    "duration": 8,
    "start_time": "2024-04-22T14:45:41.515Z"
   },
   {
    "duration": 8,
    "start_time": "2024-04-22T14:45:53.951Z"
   },
   {
    "duration": 9,
    "start_time": "2024-04-22T14:46:08.865Z"
   },
   {
    "duration": 1279,
    "start_time": "2024-04-22T14:46:24.111Z"
   },
   {
    "duration": 153,
    "start_time": "2024-04-22T14:46:38.934Z"
   },
   {
    "duration": 121,
    "start_time": "2024-04-22T14:47:23.550Z"
   },
   {
    "duration": 160,
    "start_time": "2024-04-22T14:47:37.358Z"
   },
   {
    "duration": 184,
    "start_time": "2024-04-22T14:47:43.123Z"
   },
   {
    "duration": 137,
    "start_time": "2024-04-22T14:47:57.721Z"
   },
   {
    "duration": 158,
    "start_time": "2024-04-22T14:48:04.332Z"
   },
   {
    "duration": 15,
    "start_time": "2024-04-22T14:48:21.648Z"
   },
   {
    "duration": 15,
    "start_time": "2024-04-22T14:48:42.915Z"
   },
   {
    "duration": 280,
    "start_time": "2024-04-22T14:48:52.041Z"
   },
   {
    "duration": 266,
    "start_time": "2024-04-22T14:49:03.875Z"
   },
   {
    "duration": 8,
    "start_time": "2024-04-22T14:50:13.933Z"
   },
   {
    "duration": 14,
    "start_time": "2024-04-22T14:50:28.852Z"
   },
   {
    "duration": 15,
    "start_time": "2024-04-22T14:50:37.937Z"
   },
   {
    "duration": 83,
    "start_time": "2024-04-22T14:51:20.420Z"
   },
   {
    "duration": 84,
    "start_time": "2024-04-22T14:51:28.567Z"
   },
   {
    "duration": 10,
    "start_time": "2024-04-22T14:51:35.687Z"
   },
   {
    "duration": 18,
    "start_time": "2024-04-22T14:51:40.686Z"
   },
   {
    "duration": 72,
    "start_time": "2024-04-22T14:51:45.005Z"
   },
   {
    "duration": 10,
    "start_time": "2024-04-22T14:52:01.334Z"
   },
   {
    "duration": 7,
    "start_time": "2024-04-22T14:52:02.920Z"
   },
   {
    "duration": 8,
    "start_time": "2024-04-22T14:52:42.994Z"
   },
   {
    "duration": 8,
    "start_time": "2024-04-22T14:53:05.039Z"
   },
   {
    "duration": 10,
    "start_time": "2024-04-22T14:53:27.335Z"
   },
   {
    "duration": 10,
    "start_time": "2024-04-22T14:53:34.734Z"
   },
   {
    "duration": 407,
    "start_time": "2024-04-22T14:54:39.952Z"
   },
   {
    "duration": 1205,
    "start_time": "2024-04-23T07:02:15.001Z"
   },
   {
    "duration": 184,
    "start_time": "2024-04-23T07:02:16.208Z"
   },
   {
    "duration": 17,
    "start_time": "2024-04-23T07:02:16.393Z"
   },
   {
    "duration": 28,
    "start_time": "2024-04-23T07:02:16.411Z"
   },
   {
    "duration": 17,
    "start_time": "2024-04-23T07:02:16.440Z"
   },
   {
    "duration": 16,
    "start_time": "2024-04-23T07:02:16.458Z"
   },
   {
    "duration": 17,
    "start_time": "2024-04-23T07:02:16.475Z"
   },
   {
    "duration": 16,
    "start_time": "2024-04-23T07:02:16.493Z"
   },
   {
    "duration": 4,
    "start_time": "2024-04-23T07:02:16.713Z"
   },
   {
    "duration": 6,
    "start_time": "2024-04-23T07:02:18.162Z"
   },
   {
    "duration": 17,
    "start_time": "2024-04-23T07:02:18.648Z"
   },
   {
    "duration": 2,
    "start_time": "2024-04-23T07:02:18.946Z"
   },
   {
    "duration": 16,
    "start_time": "2024-04-23T07:02:19.405Z"
   },
   {
    "duration": 15,
    "start_time": "2024-04-23T07:02:19.730Z"
   },
   {
    "duration": 9,
    "start_time": "2024-04-23T07:02:19.879Z"
   },
   {
    "duration": 9,
    "start_time": "2024-04-23T07:02:20.214Z"
   },
   {
    "duration": 6,
    "start_time": "2024-04-23T07:02:20.380Z"
   },
   {
    "duration": 14,
    "start_time": "2024-04-23T07:02:20.881Z"
   },
   {
    "duration": 8,
    "start_time": "2024-04-23T07:02:22.197Z"
   },
   {
    "duration": 266,
    "start_time": "2024-04-23T07:02:22.396Z"
   },
   {
    "duration": 248,
    "start_time": "2024-04-23T07:03:31.398Z"
   },
   {
    "duration": 267,
    "start_time": "2024-04-23T07:05:52.865Z"
   },
   {
    "duration": 253,
    "start_time": "2024-04-23T07:06:09.483Z"
   },
   {
    "duration": 92,
    "start_time": "2024-04-23T07:16:37.625Z"
   },
   {
    "duration": 7,
    "start_time": "2024-04-23T07:16:47.125Z"
   },
   {
    "duration": 16,
    "start_time": "2024-04-23T07:17:05.427Z"
   },
   {
    "duration": 24,
    "start_time": "2024-04-23T07:17:19.180Z"
   },
   {
    "duration": 15,
    "start_time": "2024-04-23T07:18:21.506Z"
   },
   {
    "duration": 13,
    "start_time": "2024-04-23T07:19:37.214Z"
   },
   {
    "duration": 13,
    "start_time": "2024-04-23T07:21:25.977Z"
   },
   {
    "duration": 14,
    "start_time": "2024-04-23T07:21:54.645Z"
   },
   {
    "duration": 16,
    "start_time": "2024-04-23T07:22:17.236Z"
   },
   {
    "duration": 13,
    "start_time": "2024-04-23T07:23:48.443Z"
   },
   {
    "duration": 6,
    "start_time": "2024-04-23T07:26:23.119Z"
   },
   {
    "duration": 121,
    "start_time": "2024-04-23T07:26:55.217Z"
   },
   {
    "duration": 171,
    "start_time": "2024-04-23T07:27:01.802Z"
   },
   {
    "duration": 120,
    "start_time": "2024-04-23T07:29:37.851Z"
   },
   {
    "duration": 383,
    "start_time": "2024-04-23T07:29:43.843Z"
   },
   {
    "duration": 13,
    "start_time": "2024-04-23T07:30:12.003Z"
   },
   {
    "duration": 101,
    "start_time": "2024-04-23T07:30:23.333Z"
   },
   {
    "duration": 1490,
    "start_time": "2024-04-23T07:31:10.652Z"
   },
   {
    "duration": 14,
    "start_time": "2024-04-23T07:32:13.809Z"
   },
   {
    "duration": 11,
    "start_time": "2024-04-23T07:34:49.637Z"
   },
   {
    "duration": 11,
    "start_time": "2024-04-23T07:37:15.171Z"
   },
   {
    "duration": 10,
    "start_time": "2024-04-23T07:37:30.541Z"
   },
   {
    "duration": 7,
    "start_time": "2024-04-23T07:37:46.454Z"
   },
   {
    "duration": 18,
    "start_time": "2024-04-23T07:38:05.437Z"
   },
   {
    "duration": 14,
    "start_time": "2024-04-23T07:38:55.204Z"
   },
   {
    "duration": 9,
    "start_time": "2024-04-23T07:39:12.964Z"
   },
   {
    "duration": 86,
    "start_time": "2024-04-23T07:39:19.966Z"
   },
   {
    "duration": 327,
    "start_time": "2024-04-23T07:39:31.221Z"
   },
   {
    "duration": 9,
    "start_time": "2024-04-23T07:40:28.265Z"
   },
   {
    "duration": 412,
    "start_time": "2024-04-23T07:41:58.974Z"
   },
   {
    "duration": 57,
    "start_time": "2024-04-23T07:42:44.626Z"
   },
   {
    "duration": 15,
    "start_time": "2024-04-23T07:43:45.909Z"
   },
   {
    "duration": 13,
    "start_time": "2024-04-23T07:44:05.190Z"
   },
   {
    "duration": 1083,
    "start_time": "2024-04-23T07:44:33.092Z"
   },
   {
    "duration": 51,
    "start_time": "2024-04-23T07:44:34.177Z"
   },
   {
    "duration": 19,
    "start_time": "2024-04-23T07:44:34.229Z"
   },
   {
    "duration": 20,
    "start_time": "2024-04-23T07:44:34.250Z"
   },
   {
    "duration": 61,
    "start_time": "2024-04-23T07:44:34.271Z"
   },
   {
    "duration": 35,
    "start_time": "2024-04-23T07:44:34.333Z"
   },
   {
    "duration": 22,
    "start_time": "2024-04-23T07:44:34.369Z"
   },
   {
    "duration": 13,
    "start_time": "2024-04-23T07:44:34.433Z"
   },
   {
    "duration": 4,
    "start_time": "2024-04-23T07:44:34.992Z"
   },
   {
    "duration": 6,
    "start_time": "2024-04-23T07:44:35.405Z"
   },
   {
    "duration": 17,
    "start_time": "2024-04-23T07:44:35.724Z"
   },
   {
    "duration": 3,
    "start_time": "2024-04-23T07:44:35.989Z"
   },
   {
    "duration": 16,
    "start_time": "2024-04-23T07:44:36.272Z"
   },
   {
    "duration": 16,
    "start_time": "2024-04-23T07:44:36.557Z"
   },
   {
    "duration": 9,
    "start_time": "2024-04-23T07:44:36.673Z"
   },
   {
    "duration": 8,
    "start_time": "2024-04-23T07:44:36.973Z"
   },
   {
    "duration": 5,
    "start_time": "2024-04-23T07:44:38.035Z"
   },
   {
    "duration": 15,
    "start_time": "2024-04-23T07:44:38.540Z"
   },
   {
    "duration": 7,
    "start_time": "2024-04-23T07:44:39.141Z"
   },
   {
    "duration": 267,
    "start_time": "2024-04-23T07:44:39.290Z"
   },
   {
    "duration": 13,
    "start_time": "2024-04-23T07:44:39.609Z"
   },
   {
    "duration": 102,
    "start_time": "2024-04-23T07:44:40.059Z"
   },
   {
    "duration": 12,
    "start_time": "2024-04-23T07:44:48.356Z"
   },
   {
    "duration": 18,
    "start_time": "2024-04-23T07:44:58.538Z"
   },
   {
    "duration": 1729,
    "start_time": "2024-04-23T07:45:35.757Z"
   },
   {
    "duration": 7,
    "start_time": "2024-04-23T07:45:44.807Z"
   },
   {
    "duration": 6,
    "start_time": "2024-04-23T07:45:59.957Z"
   },
   {
    "duration": 2014,
    "start_time": "2024-04-23T07:46:50.108Z"
   },
   {
    "duration": 47,
    "start_time": "2024-04-23T07:50:54.628Z"
   },
   {
    "duration": 64,
    "start_time": "2024-04-23T07:51:06.576Z"
   },
   {
    "duration": 49,
    "start_time": "2024-04-23T07:51:22.306Z"
   },
   {
    "duration": 13,
    "start_time": "2024-04-23T07:55:31.090Z"
   },
   {
    "duration": 121,
    "start_time": "2024-04-23T07:55:56.533Z"
   },
   {
    "duration": 132,
    "start_time": "2024-04-23T07:56:15.118Z"
   },
   {
    "duration": 217,
    "start_time": "2024-04-23T07:56:24.116Z"
   },
   {
    "duration": 343,
    "start_time": "2024-04-23T08:04:36.945Z"
   },
   {
    "duration": 13,
    "start_time": "2024-04-23T08:04:43.574Z"
   },
   {
    "duration": 527,
    "start_time": "2024-04-23T08:04:51.359Z"
   },
   {
    "duration": 156,
    "start_time": "2024-04-23T08:05:24.935Z"
   },
   {
    "duration": 114,
    "start_time": "2024-04-23T08:07:34.062Z"
   },
   {
    "duration": 15,
    "start_time": "2024-04-23T08:09:52.185Z"
   },
   {
    "duration": 10,
    "start_time": "2024-04-23T08:10:19.080Z"
   },
   {
    "duration": 124,
    "start_time": "2024-04-23T08:10:49.987Z"
   },
   {
    "duration": 12,
    "start_time": "2024-04-23T08:11:15.280Z"
   },
   {
    "duration": 112,
    "start_time": "2024-04-23T08:13:39.533Z"
   },
   {
    "duration": 120,
    "start_time": "2024-04-23T08:13:48.433Z"
   },
   {
    "duration": 125,
    "start_time": "2024-04-23T08:13:55.764Z"
   },
   {
    "duration": 170,
    "start_time": "2024-04-23T08:14:07.520Z"
   },
   {
    "duration": 1103,
    "start_time": "2024-04-23T08:17:32.270Z"
   },
   {
    "duration": 49,
    "start_time": "2024-04-23T08:17:33.375Z"
   },
   {
    "duration": 15,
    "start_time": "2024-04-23T08:17:33.425Z"
   },
   {
    "duration": 4,
    "start_time": "2024-04-23T08:17:33.441Z"
   },
   {
    "duration": 15,
    "start_time": "2024-04-23T08:17:33.446Z"
   },
   {
    "duration": 13,
    "start_time": "2024-04-23T08:17:35.052Z"
   },
   {
    "duration": 8,
    "start_time": "2024-04-23T08:17:35.870Z"
   },
   {
    "duration": 14,
    "start_time": "2024-04-23T08:17:37.068Z"
   },
   {
    "duration": 5,
    "start_time": "2024-04-23T08:17:38.684Z"
   },
   {
    "duration": 6,
    "start_time": "2024-04-23T08:17:40.170Z"
   },
   {
    "duration": 7,
    "start_time": "2024-04-23T08:17:41.818Z"
   },
   {
    "duration": 4,
    "start_time": "2024-04-23T08:18:22.403Z"
   },
   {
    "duration": 17,
    "start_time": "2024-04-23T08:18:24.437Z"
   },
   {
    "duration": 15,
    "start_time": "2024-04-23T08:18:25.771Z"
   },
   {
    "duration": 8,
    "start_time": "2024-04-23T08:18:29.021Z"
   },
   {
    "duration": 10,
    "start_time": "2024-04-23T08:18:30.384Z"
   },
   {
    "duration": 5,
    "start_time": "2024-04-23T08:18:31.952Z"
   },
   {
    "duration": 15,
    "start_time": "2024-04-23T08:18:36.402Z"
   },
   {
    "duration": 8,
    "start_time": "2024-04-23T08:19:18.602Z"
   },
   {
    "duration": 260,
    "start_time": "2024-04-23T08:19:19.548Z"
   },
   {
    "duration": 12,
    "start_time": "2024-04-23T08:19:28.703Z"
   },
   {
    "duration": 102,
    "start_time": "2024-04-23T08:19:33.046Z"
   },
   {
    "duration": 110,
    "start_time": "2024-04-23T08:20:07.687Z"
   },
   {
    "duration": 115,
    "start_time": "2024-04-23T08:20:30.738Z"
   },
   {
    "duration": 104,
    "start_time": "2024-04-23T08:20:52.962Z"
   },
   {
    "duration": 122,
    "start_time": "2024-04-23T08:21:21.221Z"
   },
   {
    "duration": 107,
    "start_time": "2024-04-23T08:25:33.296Z"
   },
   {
    "duration": 18,
    "start_time": "2024-04-23T08:26:17.581Z"
   },
   {
    "duration": 18,
    "start_time": "2024-04-23T08:26:17.907Z"
   },
   {
    "duration": 107,
    "start_time": "2024-04-23T08:26:36.556Z"
   },
   {
    "duration": 116,
    "start_time": "2024-04-23T08:26:43.541Z"
   },
   {
    "duration": 161,
    "start_time": "2024-04-23T08:27:10.809Z"
   },
   {
    "duration": 106,
    "start_time": "2024-04-23T08:27:27.925Z"
   },
   {
    "duration": 16,
    "start_time": "2024-04-23T08:27:50.772Z"
   },
   {
    "duration": 116,
    "start_time": "2024-04-23T08:28:05.009Z"
   },
   {
    "duration": 5,
    "start_time": "2024-04-23T08:43:27.897Z"
   },
   {
    "duration": 6,
    "start_time": "2024-04-23T08:43:44.960Z"
   },
   {
    "duration": 19,
    "start_time": "2024-04-23T08:44:00.440Z"
   },
   {
    "duration": 19,
    "start_time": "2024-04-23T08:44:40.017Z"
   },
   {
    "duration": 20,
    "start_time": "2024-04-23T08:45:02.121Z"
   },
   {
    "duration": 19,
    "start_time": "2024-04-23T08:45:13.049Z"
   },
   {
    "duration": 12,
    "start_time": "2024-04-23T08:54:04.915Z"
   },
   {
    "duration": 18,
    "start_time": "2024-04-23T08:54:29.031Z"
   },
   {
    "duration": 11,
    "start_time": "2024-04-23T08:54:32.246Z"
   },
   {
    "duration": 19,
    "start_time": "2024-04-23T08:54:53.162Z"
   },
   {
    "duration": 16,
    "start_time": "2024-04-23T08:54:56.679Z"
   },
   {
    "duration": 12,
    "start_time": "2024-04-23T08:55:02.066Z"
   },
   {
    "duration": 106,
    "start_time": "2024-04-23T08:55:32.764Z"
   },
   {
    "duration": 18,
    "start_time": "2024-04-23T08:57:14.852Z"
   },
   {
    "duration": 12,
    "start_time": "2024-04-23T09:02:19.537Z"
   },
   {
    "duration": 93,
    "start_time": "2024-04-23T09:02:23.052Z"
   },
   {
    "duration": 99,
    "start_time": "2024-04-23T09:02:52.330Z"
   },
   {
    "duration": 12,
    "start_time": "2024-04-23T09:05:36.807Z"
   },
   {
    "duration": 16,
    "start_time": "2024-04-23T09:06:16.992Z"
   },
   {
    "duration": 11,
    "start_time": "2024-04-23T09:06:40.583Z"
   },
   {
    "duration": 101,
    "start_time": "2024-04-23T09:08:11.162Z"
   },
   {
    "duration": 114,
    "start_time": "2024-04-23T09:08:45.492Z"
   },
   {
    "duration": 14,
    "start_time": "2024-04-23T09:08:49.542Z"
   },
   {
    "duration": 111,
    "start_time": "2024-04-23T09:09:02.244Z"
   },
   {
    "duration": 123,
    "start_time": "2024-04-23T09:09:49.795Z"
   },
   {
    "duration": 122,
    "start_time": "2024-04-23T09:09:52.764Z"
   },
   {
    "duration": 21,
    "start_time": "2024-04-23T09:11:18.335Z"
   },
   {
    "duration": 18,
    "start_time": "2024-04-23T09:11:31.317Z"
   },
   {
    "duration": 12,
    "start_time": "2024-04-23T09:11:34.046Z"
   },
   {
    "duration": 184,
    "start_time": "2024-04-23T09:11:41.631Z"
   },
   {
    "duration": 8,
    "start_time": "2024-04-23T09:12:04.863Z"
   },
   {
    "duration": 9,
    "start_time": "2024-04-23T09:12:40.848Z"
   },
   {
    "duration": 1138,
    "start_time": "2024-04-23T09:13:06.076Z"
   },
   {
    "duration": 51,
    "start_time": "2024-04-23T09:13:07.216Z"
   },
   {
    "duration": 17,
    "start_time": "2024-04-23T09:13:07.268Z"
   },
   {
    "duration": 4,
    "start_time": "2024-04-23T09:13:07.287Z"
   },
   {
    "duration": 17,
    "start_time": "2024-04-23T09:13:07.293Z"
   },
   {
    "duration": 20,
    "start_time": "2024-04-23T09:13:07.311Z"
   },
   {
    "duration": 8,
    "start_time": "2024-04-23T09:13:07.332Z"
   },
   {
    "duration": 22,
    "start_time": "2024-04-23T09:13:07.344Z"
   },
   {
    "duration": 4,
    "start_time": "2024-04-23T09:13:07.778Z"
   },
   {
    "duration": 6,
    "start_time": "2024-04-23T09:13:07.938Z"
   },
   {
    "duration": 8,
    "start_time": "2024-04-23T09:13:08.181Z"
   },
   {
    "duration": 3,
    "start_time": "2024-04-23T09:13:08.447Z"
   },
   {
    "duration": 18,
    "start_time": "2024-04-23T09:13:08.747Z"
   },
   {
    "duration": 17,
    "start_time": "2024-04-23T09:13:08.998Z"
   },
   {
    "duration": 10,
    "start_time": "2024-04-23T09:13:09.147Z"
   },
   {
    "duration": 9,
    "start_time": "2024-04-23T09:13:09.431Z"
   },
   {
    "duration": 7,
    "start_time": "2024-04-23T09:13:09.567Z"
   },
   {
    "duration": 17,
    "start_time": "2024-04-23T09:13:09.979Z"
   },
   {
    "duration": 8,
    "start_time": "2024-04-23T09:13:10.581Z"
   },
   {
    "duration": 286,
    "start_time": "2024-04-23T09:13:10.715Z"
   },
   {
    "duration": 12,
    "start_time": "2024-04-23T09:13:11.002Z"
   },
   {
    "duration": 112,
    "start_time": "2024-04-23T09:13:11.314Z"
   },
   {
    "duration": 120,
    "start_time": "2024-04-23T09:13:11.448Z"
   },
   {
    "duration": 121,
    "start_time": "2024-04-23T09:13:11.620Z"
   },
   {
    "duration": 109,
    "start_time": "2024-04-23T09:13:11.765Z"
   },
   {
    "duration": 128,
    "start_time": "2024-04-23T09:13:11.898Z"
   },
   {
    "duration": 19,
    "start_time": "2024-04-23T09:13:12.216Z"
   },
   {
    "duration": 12,
    "start_time": "2024-04-23T09:13:12.515Z"
   },
   {
    "duration": 130,
    "start_time": "2024-04-23T09:13:12.831Z"
   },
   {
    "duration": 131,
    "start_time": "2024-04-23T09:13:13.080Z"
   },
   {
    "duration": 13,
    "start_time": "2024-04-23T09:13:56.549Z"
   },
   {
    "duration": 169,
    "start_time": "2024-04-23T09:14:20.955Z"
   },
   {
    "duration": 200,
    "start_time": "2024-04-23T09:16:33.836Z"
   },
   {
    "duration": 137,
    "start_time": "2024-04-23T09:16:40.768Z"
   },
   {
    "duration": 108,
    "start_time": "2024-04-23T09:18:06.423Z"
   },
   {
    "duration": 127,
    "start_time": "2024-04-23T09:18:24.320Z"
   },
   {
    "duration": 130,
    "start_time": "2024-04-23T09:19:24.624Z"
   },
   {
    "duration": 129,
    "start_time": "2024-04-23T09:19:29.416Z"
   },
   {
    "duration": 135,
    "start_time": "2024-04-23T09:19:34.069Z"
   },
   {
    "duration": 134,
    "start_time": "2024-04-23T09:20:33.453Z"
   },
   {
    "duration": 131,
    "start_time": "2024-04-23T09:20:43.260Z"
   },
   {
    "duration": 130,
    "start_time": "2024-04-23T09:21:24.121Z"
   },
   {
    "duration": 174,
    "start_time": "2024-04-23T09:21:31.157Z"
   },
   {
    "duration": 13,
    "start_time": "2024-04-23T09:23:15.112Z"
   },
   {
    "duration": 16,
    "start_time": "2024-04-23T09:23:46.390Z"
   },
   {
    "duration": 15,
    "start_time": "2024-04-23T09:23:55.608Z"
   },
   {
    "duration": 14,
    "start_time": "2024-04-23T09:24:01.126Z"
   },
   {
    "duration": 145,
    "start_time": "2024-04-23T09:24:17.157Z"
   },
   {
    "duration": 123,
    "start_time": "2024-04-23T09:24:37.257Z"
   },
   {
    "duration": 130,
    "start_time": "2024-04-23T09:24:49.358Z"
   },
   {
    "duration": 119,
    "start_time": "2024-04-23T09:25:41.843Z"
   },
   {
    "duration": 115,
    "start_time": "2024-04-23T09:25:42.534Z"
   },
   {
    "duration": 103,
    "start_time": "2024-04-23T09:25:53.859Z"
   },
   {
    "duration": 120,
    "start_time": "2024-04-23T09:26:31.327Z"
   },
   {
    "duration": 111,
    "start_time": "2024-04-23T09:27:18.126Z"
   },
   {
    "duration": 7,
    "start_time": "2024-04-23T09:37:34.030Z"
   },
   {
    "duration": 4,
    "start_time": "2024-04-23T09:42:33.719Z"
   },
   {
    "duration": 6,
    "start_time": "2024-04-23T09:42:44.858Z"
   },
   {
    "duration": 7,
    "start_time": "2024-04-23T09:43:06.503Z"
   },
   {
    "duration": 107,
    "start_time": "2024-04-23T09:43:37.421Z"
   },
   {
    "duration": 9,
    "start_time": "2024-04-23T09:43:50.533Z"
   },
   {
    "duration": 12,
    "start_time": "2024-04-23T09:43:58.396Z"
   },
   {
    "duration": 11,
    "start_time": "2024-04-23T09:44:17.025Z"
   },
   {
    "duration": 7,
    "start_time": "2024-04-23T09:44:30.539Z"
   },
   {
    "duration": 6,
    "start_time": "2024-04-23T09:45:04.963Z"
   },
   {
    "duration": 8,
    "start_time": "2024-04-23T09:47:23.390Z"
   },
   {
    "duration": 8,
    "start_time": "2024-04-23T09:47:35.326Z"
   },
   {
    "duration": 88,
    "start_time": "2024-04-23T09:49:01.048Z"
   },
   {
    "duration": 8,
    "start_time": "2024-04-23T09:49:28.469Z"
   },
   {
    "duration": 7,
    "start_time": "2024-04-23T09:52:44.547Z"
   },
   {
    "duration": 1034,
    "start_time": "2024-04-23T09:53:11.846Z"
   },
   {
    "duration": 58,
    "start_time": "2024-04-23T09:53:12.883Z"
   },
   {
    "duration": 16,
    "start_time": "2024-04-23T09:53:12.942Z"
   },
   {
    "duration": 7,
    "start_time": "2024-04-23T09:53:12.960Z"
   },
   {
    "duration": 19,
    "start_time": "2024-04-23T09:53:12.968Z"
   },
   {
    "duration": 17,
    "start_time": "2024-04-23T09:53:12.988Z"
   },
   {
    "duration": 9,
    "start_time": "2024-04-23T09:53:13.006Z"
   },
   {
    "duration": 14,
    "start_time": "2024-04-23T09:53:13.140Z"
   },
   {
    "duration": 5,
    "start_time": "2024-04-23T09:53:13.379Z"
   },
   {
    "duration": 6,
    "start_time": "2024-04-23T09:53:13.648Z"
   },
   {
    "duration": 7,
    "start_time": "2024-04-23T09:53:13.897Z"
   },
   {
    "duration": 3,
    "start_time": "2024-04-23T09:53:14.163Z"
   },
   {
    "duration": 15,
    "start_time": "2024-04-23T09:53:14.431Z"
   },
   {
    "duration": 16,
    "start_time": "2024-04-23T09:53:14.696Z"
   },
   {
    "duration": 7,
    "start_time": "2024-04-23T09:53:14.850Z"
   },
   {
    "duration": 8,
    "start_time": "2024-04-23T09:53:15.115Z"
   },
   {
    "duration": 7,
    "start_time": "2024-04-23T09:53:15.246Z"
   },
   {
    "duration": 16,
    "start_time": "2024-04-23T09:53:15.665Z"
   },
   {
    "duration": 9,
    "start_time": "2024-04-23T09:53:16.231Z"
   },
   {
    "duration": 276,
    "start_time": "2024-04-23T09:53:16.381Z"
   },
   {
    "duration": 12,
    "start_time": "2024-04-23T09:53:16.663Z"
   },
   {
    "duration": 108,
    "start_time": "2024-04-23T09:53:16.947Z"
   },
   {
    "duration": 111,
    "start_time": "2024-04-23T09:53:17.109Z"
   },
   {
    "duration": 116,
    "start_time": "2024-04-23T09:53:17.257Z"
   },
   {
    "duration": 112,
    "start_time": "2024-04-23T09:53:17.380Z"
   },
   {
    "duration": 125,
    "start_time": "2024-04-23T09:53:17.534Z"
   },
   {
    "duration": 18,
    "start_time": "2024-04-23T09:53:17.814Z"
   },
   {
    "duration": 10,
    "start_time": "2024-04-23T09:53:18.132Z"
   },
   {
    "duration": 109,
    "start_time": "2024-04-23T09:53:18.415Z"
   },
   {
    "duration": 111,
    "start_time": "2024-04-23T09:53:18.714Z"
   },
   {
    "duration": 147,
    "start_time": "2024-04-23T09:53:18.884Z"
   },
   {
    "duration": 115,
    "start_time": "2024-04-23T09:53:19.033Z"
   },
   {
    "duration": 97,
    "start_time": "2024-04-23T09:53:19.165Z"
   },
   {
    "duration": 5,
    "start_time": "2024-04-23T09:53:19.431Z"
   },
   {
    "duration": 88,
    "start_time": "2024-04-23T09:53:19.597Z"
   },
   {
    "duration": 175,
    "start_time": "2024-04-23T09:55:14.101Z"
   },
   {
    "duration": 168,
    "start_time": "2024-04-23T09:56:32.817Z"
   },
   {
    "duration": 16,
    "start_time": "2024-04-23T09:58:09.173Z"
   },
   {
    "duration": 103,
    "start_time": "2024-04-23T09:59:24.383Z"
   },
   {
    "duration": 174,
    "start_time": "2024-04-23T09:59:37.836Z"
   },
   {
    "duration": 7,
    "start_time": "2024-04-23T09:59:57.357Z"
   },
   {
    "duration": 267,
    "start_time": "2024-04-23T10:00:09.477Z"
   },
   {
    "duration": 231,
    "start_time": "2024-04-23T10:03:24.134Z"
   },
   {
    "duration": 173,
    "start_time": "2024-04-23T10:03:43.791Z"
   },
   {
    "duration": 23,
    "start_time": "2024-04-23T10:04:13.776Z"
   },
   {
    "duration": 20,
    "start_time": "2024-04-23T11:39:07.127Z"
   },
   {
    "duration": 396,
    "start_time": "2024-04-23T11:42:03.264Z"
   },
   {
    "duration": 100,
    "start_time": "2024-04-23T11:43:53.712Z"
   },
   {
    "duration": 98,
    "start_time": "2024-04-23T11:44:06.557Z"
   },
   {
    "duration": 99,
    "start_time": "2024-04-23T11:46:14.415Z"
   },
   {
    "duration": 160,
    "start_time": "2024-04-23T11:47:39.882Z"
   },
   {
    "duration": 96,
    "start_time": "2024-04-23T11:47:52.269Z"
   },
   {
    "duration": 100,
    "start_time": "2024-04-23T11:48:22.997Z"
   },
   {
    "duration": 94,
    "start_time": "2024-04-23T11:48:52.448Z"
   },
   {
    "duration": 103,
    "start_time": "2024-04-23T11:48:54.154Z"
   },
   {
    "duration": 7,
    "start_time": "2024-04-23T11:50:30.696Z"
   },
   {
    "duration": 8,
    "start_time": "2024-04-23T11:50:40.902Z"
   },
   {
    "duration": 4,
    "start_time": "2024-04-23T11:51:18.454Z"
   },
   {
    "duration": 7,
    "start_time": "2024-04-23T11:52:15.282Z"
   },
   {
    "duration": 7,
    "start_time": "2024-04-23T11:52:49.038Z"
   },
   {
    "duration": 10,
    "start_time": "2024-04-23T11:56:13.118Z"
   },
   {
    "duration": 3,
    "start_time": "2024-04-23T11:57:12.351Z"
   },
   {
    "duration": 4,
    "start_time": "2024-04-23T11:57:36.265Z"
   },
   {
    "duration": 7,
    "start_time": "2024-04-23T11:57:46.548Z"
   },
   {
    "duration": 10,
    "start_time": "2024-04-23T11:57:52.064Z"
   },
   {
    "duration": 2443,
    "start_time": "2024-04-23T11:59:43.182Z"
   },
   {
    "duration": 181,
    "start_time": "2024-04-23T12:01:05.949Z"
   },
   {
    "duration": 99,
    "start_time": "2024-04-23T12:01:09.331Z"
   },
   {
    "duration": 94,
    "start_time": "2024-04-23T12:01:09.832Z"
   },
   {
    "duration": 6,
    "start_time": "2024-04-23T12:01:10.282Z"
   },
   {
    "duration": 6,
    "start_time": "2024-04-23T12:01:10.748Z"
   },
   {
    "duration": 11,
    "start_time": "2024-04-23T12:01:11.732Z"
   },
   {
    "duration": 2711,
    "start_time": "2024-04-23T12:01:12.081Z"
   },
   {
    "duration": 1102,
    "start_time": "2024-04-23T12:01:42.767Z"
   },
   {
    "duration": 52,
    "start_time": "2024-04-23T12:01:43.871Z"
   },
   {
    "duration": 18,
    "start_time": "2024-04-23T12:01:43.925Z"
   },
   {
    "duration": 3,
    "start_time": "2024-04-23T12:01:43.945Z"
   },
   {
    "duration": 15,
    "start_time": "2024-04-23T12:01:43.950Z"
   },
   {
    "duration": 18,
    "start_time": "2024-04-23T12:01:43.966Z"
   },
   {
    "duration": 7,
    "start_time": "2024-04-23T12:01:43.985Z"
   },
   {
    "duration": 14,
    "start_time": "2024-04-23T12:01:44.076Z"
   },
   {
    "duration": 4,
    "start_time": "2024-04-23T12:01:44.314Z"
   },
   {
    "duration": 6,
    "start_time": "2024-04-23T12:01:44.598Z"
   },
   {
    "duration": 6,
    "start_time": "2024-04-23T12:01:44.881Z"
   },
   {
    "duration": 3,
    "start_time": "2024-04-23T12:01:45.180Z"
   },
   {
    "duration": 17,
    "start_time": "2024-04-23T12:01:45.484Z"
   },
   {
    "duration": 17,
    "start_time": "2024-04-23T12:01:45.915Z"
   },
   {
    "duration": 9,
    "start_time": "2024-04-23T12:01:46.091Z"
   },
   {
    "duration": 9,
    "start_time": "2024-04-23T12:01:46.429Z"
   },
   {
    "duration": 5,
    "start_time": "2024-04-23T12:01:46.514Z"
   },
   {
    "duration": 16,
    "start_time": "2024-04-23T12:01:46.954Z"
   },
   {
    "duration": 9,
    "start_time": "2024-04-23T12:01:47.478Z"
   },
   {
    "duration": 281,
    "start_time": "2024-04-23T12:01:47.614Z"
   },
   {
    "duration": 14,
    "start_time": "2024-04-23T12:01:48.003Z"
   },
   {
    "duration": 113,
    "start_time": "2024-04-23T12:01:48.528Z"
   },
   {
    "duration": 143,
    "start_time": "2024-04-23T12:01:48.643Z"
   },
   {
    "duration": 128,
    "start_time": "2024-04-23T12:01:48.788Z"
   },
   {
    "duration": 122,
    "start_time": "2024-04-23T12:01:48.918Z"
   },
   {
    "duration": 150,
    "start_time": "2024-04-23T12:01:49.042Z"
   },
   {
    "duration": 20,
    "start_time": "2024-04-23T12:01:49.251Z"
   },
   {
    "duration": 15,
    "start_time": "2024-04-23T12:01:49.575Z"
   },
   {
    "duration": 120,
    "start_time": "2024-04-23T12:01:49.865Z"
   },
   {
    "duration": 111,
    "start_time": "2024-04-23T12:01:50.314Z"
   },
   {
    "duration": 148,
    "start_time": "2024-04-23T12:01:50.515Z"
   },
   {
    "duration": 113,
    "start_time": "2024-04-23T12:01:50.665Z"
   },
   {
    "duration": 100,
    "start_time": "2024-04-23T12:01:50.820Z"
   },
   {
    "duration": 185,
    "start_time": "2024-04-23T12:01:51.380Z"
   },
   {
    "duration": 92,
    "start_time": "2024-04-23T12:01:51.914Z"
   },
   {
    "duration": 96,
    "start_time": "2024-04-23T12:01:52.232Z"
   },
   {
    "duration": 9,
    "start_time": "2024-04-23T12:01:52.722Z"
   },
   {
    "duration": 7,
    "start_time": "2024-04-23T12:01:53.065Z"
   },
   {
    "duration": 11,
    "start_time": "2024-04-23T12:01:53.666Z"
   },
   {
    "duration": 2554,
    "start_time": "2024-04-23T12:01:54.031Z"
   },
   {
    "duration": 2503,
    "start_time": "2024-04-23T12:02:10.068Z"
   },
   {
    "duration": 2571,
    "start_time": "2024-04-23T12:03:37.864Z"
   },
   {
    "duration": 2635,
    "start_time": "2024-04-23T12:04:12.568Z"
   },
   {
    "duration": 2482,
    "start_time": "2024-04-23T12:04:24.284Z"
   },
   {
    "duration": 2546,
    "start_time": "2024-04-23T12:04:33.449Z"
   },
   {
    "duration": 2437,
    "start_time": "2024-04-23T12:04:41.817Z"
   },
   {
    "duration": 2531,
    "start_time": "2024-04-23T12:05:24.516Z"
   },
   {
    "duration": 2425,
    "start_time": "2024-04-23T12:05:33.415Z"
   },
   {
    "duration": 88,
    "start_time": "2024-04-23T12:07:46.950Z"
   },
   {
    "duration": 2515,
    "start_time": "2024-04-23T12:08:36.042Z"
   },
   {
    "duration": 3441,
    "start_time": "2024-04-23T12:08:51.467Z"
   },
   {
    "duration": 3861,
    "start_time": "2024-04-23T12:09:03.353Z"
   },
   {
    "duration": 18,
    "start_time": "2024-04-23T12:27:25.188Z"
   },
   {
    "duration": 5,
    "start_time": "2024-04-23T12:28:53.559Z"
   },
   {
    "duration": 8,
    "start_time": "2024-04-23T12:32:00.346Z"
   },
   {
    "duration": 12,
    "start_time": "2024-04-23T12:32:21.587Z"
   },
   {
    "duration": 11,
    "start_time": "2024-04-23T12:32:35.696Z"
   },
   {
    "duration": 12,
    "start_time": "2024-04-23T12:32:55.806Z"
   },
   {
    "duration": 263,
    "start_time": "2024-04-23T12:34:28.690Z"
   },
   {
    "duration": 104,
    "start_time": "2024-04-23T12:35:09.134Z"
   },
   {
    "duration": 20,
    "start_time": "2024-04-23T12:35:32.204Z"
   },
   {
    "duration": 18,
    "start_time": "2024-04-23T12:35:46.289Z"
   },
   {
    "duration": 16,
    "start_time": "2024-04-23T12:35:56.849Z"
   },
   {
    "duration": 10,
    "start_time": "2024-04-23T12:36:07.617Z"
   },
   {
    "duration": 16,
    "start_time": "2024-04-23T12:36:20.251Z"
   },
   {
    "duration": 14,
    "start_time": "2024-04-23T12:36:57.451Z"
   },
   {
    "duration": 15,
    "start_time": "2024-04-23T12:37:47.852Z"
   },
   {
    "duration": 14,
    "start_time": "2024-04-23T12:38:00.424Z"
   },
   {
    "duration": 15,
    "start_time": "2024-04-23T12:39:14.357Z"
   },
   {
    "duration": 4,
    "start_time": "2024-04-23T12:42:07.818Z"
   },
   {
    "duration": 588,
    "start_time": "2024-04-23T12:43:07.600Z"
   },
   {
    "duration": 502,
    "start_time": "2024-04-23T12:43:26.948Z"
   },
   {
    "duration": 88,
    "start_time": "2024-04-23T12:43:53.643Z"
   },
   {
    "duration": 67,
    "start_time": "2024-04-23T12:44:37.859Z"
   },
   {
    "duration": 124,
    "start_time": "2024-04-23T12:44:51.149Z"
   },
   {
    "duration": 119,
    "start_time": "2024-04-23T12:45:16.768Z"
   },
   {
    "duration": 2068,
    "start_time": "2024-04-23T12:45:34.387Z"
   },
   {
    "duration": 127,
    "start_time": "2024-04-23T12:48:43.708Z"
   },
   {
    "duration": 139,
    "start_time": "2024-04-23T12:48:57.892Z"
   },
   {
    "duration": 7,
    "start_time": "2024-04-23T12:51:40.714Z"
   },
   {
    "duration": 7,
    "start_time": "2024-04-23T12:51:46.890Z"
   },
   {
    "duration": 84,
    "start_time": "2024-04-23T12:52:42.403Z"
   },
   {
    "duration": 232,
    "start_time": "2024-04-23T12:52:52.017Z"
   },
   {
    "duration": 7,
    "start_time": "2024-04-23T12:53:20.510Z"
   },
   {
    "duration": 83,
    "start_time": "2024-04-23T12:53:33.986Z"
   },
   {
    "duration": 80,
    "start_time": "2024-04-23T12:53:46.541Z"
   },
   {
    "duration": 3301,
    "start_time": "2024-04-23T12:55:34.519Z"
   },
   {
    "duration": 3000,
    "start_time": "2024-04-23T12:56:10.107Z"
   },
   {
    "duration": 8,
    "start_time": "2024-04-23T12:56:30.459Z"
   },
   {
    "duration": 103,
    "start_time": "2024-04-23T12:58:39.369Z"
   },
   {
    "duration": 187,
    "start_time": "2024-04-23T12:59:16.160Z"
   },
   {
    "duration": 184,
    "start_time": "2024-04-23T12:59:50.402Z"
   },
   {
    "duration": 16,
    "start_time": "2024-04-23T13:03:32.563Z"
   },
   {
    "duration": 4,
    "start_time": "2024-04-23T13:03:34.183Z"
   },
   {
    "duration": 168,
    "start_time": "2024-04-23T13:03:34.851Z"
   },
   {
    "duration": 14,
    "start_time": "2024-04-23T13:05:13.202Z"
   },
   {
    "duration": 3,
    "start_time": "2024-04-23T13:05:15.136Z"
   },
   {
    "duration": 184,
    "start_time": "2024-04-23T13:05:17.383Z"
   },
   {
    "duration": 180,
    "start_time": "2024-04-23T13:05:41.426Z"
   },
   {
    "duration": 185,
    "start_time": "2024-04-23T13:05:54.568Z"
   },
   {
    "duration": 1248,
    "start_time": "2024-04-24T06:49:47.677Z"
   },
   {
    "duration": 203,
    "start_time": "2024-04-24T06:49:48.927Z"
   },
   {
    "duration": 16,
    "start_time": "2024-04-24T06:49:49.131Z"
   },
   {
    "duration": 3,
    "start_time": "2024-04-24T06:49:49.149Z"
   },
   {
    "duration": 16,
    "start_time": "2024-04-24T06:49:49.153Z"
   },
   {
    "duration": 17,
    "start_time": "2024-04-24T06:49:49.170Z"
   },
   {
    "duration": 8,
    "start_time": "2024-04-24T06:49:49.189Z"
   },
   {
    "duration": 13,
    "start_time": "2024-04-24T06:49:50.175Z"
   },
   {
    "duration": 4,
    "start_time": "2024-04-24T06:49:51.190Z"
   },
   {
    "duration": 5,
    "start_time": "2024-04-24T06:49:51.489Z"
   },
   {
    "duration": 7,
    "start_time": "2024-04-24T06:49:51.807Z"
   },
   {
    "duration": 3,
    "start_time": "2024-04-24T06:49:52.090Z"
   },
   {
    "duration": 16,
    "start_time": "2024-04-24T06:49:52.539Z"
   },
   {
    "duration": 15,
    "start_time": "2024-04-24T06:49:52.990Z"
   },
   {
    "duration": 8,
    "start_time": "2024-04-24T06:49:53.139Z"
   },
   {
    "duration": 8,
    "start_time": "2024-04-24T06:49:53.458Z"
   },
   {
    "duration": 5,
    "start_time": "2024-04-24T06:49:53.574Z"
   },
   {
    "duration": 14,
    "start_time": "2024-04-24T06:49:54.209Z"
   },
   {
    "duration": 7,
    "start_time": "2024-04-24T06:49:54.823Z"
   },
   {
    "duration": 273,
    "start_time": "2024-04-24T06:49:54.957Z"
   },
   {
    "duration": 12,
    "start_time": "2024-04-24T06:49:55.278Z"
   },
   {
    "duration": 103,
    "start_time": "2024-04-24T06:49:56.040Z"
   },
   {
    "duration": 112,
    "start_time": "2024-04-24T06:49:56.340Z"
   },
   {
    "duration": 114,
    "start_time": "2024-04-24T06:49:56.523Z"
   },
   {
    "duration": 106,
    "start_time": "2024-04-24T06:49:56.656Z"
   },
   {
    "duration": 117,
    "start_time": "2024-04-24T06:49:56.807Z"
   },
   {
    "duration": 18,
    "start_time": "2024-04-24T06:49:57.274Z"
   },
   {
    "duration": 12,
    "start_time": "2024-04-24T06:49:57.742Z"
   },
   {
    "duration": 107,
    "start_time": "2024-04-24T06:49:58.041Z"
   },
   {
    "duration": 110,
    "start_time": "2024-04-24T06:49:58.179Z"
   },
   {
    "duration": 147,
    "start_time": "2024-04-24T06:49:58.327Z"
   },
   {
    "duration": 107,
    "start_time": "2024-04-24T06:49:58.484Z"
   },
   {
    "duration": 102,
    "start_time": "2024-04-24T06:49:58.627Z"
   },
   {
    "duration": 172,
    "start_time": "2024-04-24T06:49:59.223Z"
   },
   {
    "duration": 99,
    "start_time": "2024-04-24T06:49:59.524Z"
   },
   {
    "duration": 99,
    "start_time": "2024-04-24T06:49:59.676Z"
   },
   {
    "duration": 6,
    "start_time": "2024-04-24T06:49:59.824Z"
   },
   {
    "duration": 6,
    "start_time": "2024-04-24T06:49:59.972Z"
   },
   {
    "duration": 10,
    "start_time": "2024-04-24T06:50:00.256Z"
   },
   {
    "duration": 3935,
    "start_time": "2024-04-24T06:50:00.406Z"
   },
   {
    "duration": 17,
    "start_time": "2024-04-24T06:50:04.343Z"
   },
   {
    "duration": 4,
    "start_time": "2024-04-24T06:50:04.361Z"
   },
   {
    "duration": 189,
    "start_time": "2024-04-24T06:50:04.366Z"
   },
   {
    "duration": 231,
    "start_time": "2024-04-24T06:51:15.380Z"
   },
   {
    "duration": 294,
    "start_time": "2024-04-24T06:52:49.741Z"
   },
   {
    "duration": 202,
    "start_time": "2024-04-24T06:53:34.936Z"
   },
   {
    "duration": 11,
    "start_time": "2024-04-24T07:21:10.797Z"
   },
   {
    "duration": 10,
    "start_time": "2024-04-24T07:21:21.208Z"
   },
   {
    "duration": 13,
    "start_time": "2024-04-24T07:21:34.209Z"
   },
   {
    "duration": 13,
    "start_time": "2024-04-24T07:23:02.332Z"
   },
   {
    "duration": 15,
    "start_time": "2024-04-24T07:23:37.964Z"
   },
   {
    "duration": 12,
    "start_time": "2024-04-24T07:24:13.428Z"
   },
   {
    "duration": 20,
    "start_time": "2024-04-24T07:25:29.432Z"
   },
   {
    "duration": 15,
    "start_time": "2024-04-24T07:27:02.351Z"
   },
   {
    "duration": 12,
    "start_time": "2024-04-24T07:27:10.483Z"
   },
   {
    "duration": 27,
    "start_time": "2024-04-24T07:27:28.051Z"
   },
   {
    "duration": 366,
    "start_time": "2024-04-24T07:27:40.969Z"
   },
   {
    "duration": 80,
    "start_time": "2024-04-24T07:28:53.357Z"
   },
   {
    "duration": 36,
    "start_time": "2024-04-24T07:29:08.874Z"
   },
   {
    "duration": 4,
    "start_time": "2024-04-24T07:31:18.925Z"
   },
   {
    "duration": 4,
    "start_time": "2024-04-24T07:32:00.341Z"
   },
   {
    "duration": 4,
    "start_time": "2024-04-24T07:32:33.623Z"
   },
   {
    "duration": 29,
    "start_time": "2024-04-24T07:32:50.077Z"
   },
   {
    "duration": 2264,
    "start_time": "2024-04-24T07:38:03.028Z"
   },
   {
    "duration": 2065,
    "start_time": "2024-04-24T07:39:00.033Z"
   },
   {
    "duration": 4,
    "start_time": "2024-04-24T07:39:15.447Z"
   },
   {
    "duration": 4,
    "start_time": "2024-04-24T07:39:31.114Z"
   },
   {
    "duration": 5,
    "start_time": "2024-04-24T07:39:47.316Z"
   },
   {
    "duration": 5,
    "start_time": "2024-04-24T07:39:55.367Z"
   },
   {
    "duration": 4,
    "start_time": "2024-04-24T07:40:17.755Z"
   },
   {
    "duration": 5,
    "start_time": "2024-04-24T07:40:33.564Z"
   },
   {
    "duration": 9,
    "start_time": "2024-04-24T07:49:59.030Z"
   },
   {
    "duration": 5,
    "start_time": "2024-04-24T07:50:04.909Z"
   },
   {
    "duration": 19,
    "start_time": "2024-04-24T07:53:58.553Z"
   },
   {
    "duration": 5,
    "start_time": "2024-04-24T07:54:53.554Z"
   },
   {
    "duration": 5,
    "start_time": "2024-04-24T07:54:53.938Z"
   },
   {
    "duration": 4,
    "start_time": "2024-04-24T07:55:11.244Z"
   },
   {
    "duration": 3,
    "start_time": "2024-04-24T08:04:48.134Z"
   },
   {
    "duration": 32,
    "start_time": "2024-04-24T08:04:56.850Z"
   },
   {
    "duration": 41,
    "start_time": "2024-04-24T08:05:51.429Z"
   },
   {
    "duration": 24,
    "start_time": "2024-04-24T08:07:10.279Z"
   },
   {
    "duration": 5,
    "start_time": "2024-04-24T08:07:43.190Z"
   },
   {
    "duration": 6,
    "start_time": "2024-04-24T08:09:24.022Z"
   },
   {
    "duration": 5,
    "start_time": "2024-04-24T08:09:34.904Z"
   },
   {
    "duration": 110,
    "start_time": "2024-04-24T08:11:53.512Z"
   },
   {
    "duration": 34,
    "start_time": "2024-04-24T08:12:02.311Z"
   },
   {
    "duration": 32,
    "start_time": "2024-04-24T08:16:42.388Z"
   },
   {
    "duration": 4,
    "start_time": "2024-04-24T08:16:45.086Z"
   },
   {
    "duration": 6,
    "start_time": "2024-04-24T08:16:45.689Z"
   },
   {
    "duration": 5,
    "start_time": "2024-04-24T08:16:45.851Z"
   },
   {
    "duration": 37,
    "start_time": "2024-04-24T08:23:24.260Z"
   },
   {
    "duration": 4,
    "start_time": "2024-04-24T08:23:25.041Z"
   },
   {
    "duration": 9,
    "start_time": "2024-04-24T08:23:25.190Z"
   },
   {
    "duration": 4,
    "start_time": "2024-04-24T08:23:25.339Z"
   },
   {
    "duration": 14,
    "start_time": "2024-04-24T08:29:54.437Z"
   },
   {
    "duration": 25,
    "start_time": "2024-04-24T08:30:35.177Z"
   },
   {
    "duration": 23,
    "start_time": "2024-04-24T08:30:47.662Z"
   },
   {
    "duration": 29,
    "start_time": "2024-04-24T08:31:43.636Z"
   },
   {
    "duration": 5,
    "start_time": "2024-04-24T08:31:59.880Z"
   },
   {
    "duration": 5,
    "start_time": "2024-04-24T08:32:02.110Z"
   },
   {
    "duration": 6,
    "start_time": "2024-04-24T08:32:02.676Z"
   },
   {
    "duration": 23,
    "start_time": "2024-04-24T08:32:32.331Z"
   },
   {
    "duration": 1043,
    "start_time": "2024-04-24T08:33:07.449Z"
   },
   {
    "duration": 52,
    "start_time": "2024-04-24T08:33:08.493Z"
   },
   {
    "duration": 17,
    "start_time": "2024-04-24T08:33:08.546Z"
   },
   {
    "duration": 3,
    "start_time": "2024-04-24T08:33:08.565Z"
   },
   {
    "duration": 24,
    "start_time": "2024-04-24T08:33:08.570Z"
   },
   {
    "duration": 12,
    "start_time": "2024-04-24T08:33:09.395Z"
   },
   {
    "duration": 8,
    "start_time": "2024-04-24T08:33:09.563Z"
   },
   {
    "duration": 14,
    "start_time": "2024-04-24T08:33:09.863Z"
   },
   {
    "duration": 4,
    "start_time": "2024-04-24T08:33:10.145Z"
   },
   {
    "duration": 5,
    "start_time": "2024-04-24T08:33:10.396Z"
   },
   {
    "duration": 8,
    "start_time": "2024-04-24T08:33:10.680Z"
   },
   {
    "duration": 4,
    "start_time": "2024-04-24T08:33:10.945Z"
   },
   {
    "duration": 19,
    "start_time": "2024-04-24T08:33:11.213Z"
   },
   {
    "duration": 16,
    "start_time": "2024-04-24T08:33:11.628Z"
   },
   {
    "duration": 8,
    "start_time": "2024-04-24T08:33:11.779Z"
   },
   {
    "duration": 8,
    "start_time": "2024-04-24T08:33:12.062Z"
   },
   {
    "duration": 6,
    "start_time": "2024-04-24T08:33:12.187Z"
   },
   {
    "duration": 17,
    "start_time": "2024-04-24T08:33:12.779Z"
   },
   {
    "duration": 9,
    "start_time": "2024-04-24T08:33:13.480Z"
   },
   {
    "duration": 283,
    "start_time": "2024-04-24T08:33:13.629Z"
   },
   {
    "duration": 13,
    "start_time": "2024-04-24T08:33:13.984Z"
   },
   {
    "duration": 113,
    "start_time": "2024-04-24T08:33:14.546Z"
   },
   {
    "duration": 124,
    "start_time": "2024-04-24T08:33:14.862Z"
   },
   {
    "duration": 129,
    "start_time": "2024-04-24T08:33:15.010Z"
   },
   {
    "duration": 120,
    "start_time": "2024-04-24T08:33:15.197Z"
   },
   {
    "duration": 138,
    "start_time": "2024-04-24T08:33:15.346Z"
   },
   {
    "duration": 20,
    "start_time": "2024-04-24T08:33:15.633Z"
   },
   {
    "duration": 12,
    "start_time": "2024-04-24T08:33:15.914Z"
   },
   {
    "duration": 119,
    "start_time": "2024-04-24T08:33:16.226Z"
   },
   {
    "duration": 117,
    "start_time": "2024-04-24T08:33:16.383Z"
   },
   {
    "duration": 176,
    "start_time": "2024-04-24T08:33:16.535Z"
   },
   {
    "duration": 128,
    "start_time": "2024-04-24T08:33:16.713Z"
   },
   {
    "duration": 118,
    "start_time": "2024-04-24T08:33:16.842Z"
   },
   {
    "duration": 191,
    "start_time": "2024-04-24T08:33:17.145Z"
   },
   {
    "duration": 104,
    "start_time": "2024-04-24T08:33:17.461Z"
   },
   {
    "duration": 108,
    "start_time": "2024-04-24T08:33:17.762Z"
   },
   {
    "duration": 6,
    "start_time": "2024-04-24T08:33:17.929Z"
   },
   {
    "duration": 6,
    "start_time": "2024-04-24T08:33:18.052Z"
   },
   {
    "duration": 11,
    "start_time": "2024-04-24T08:33:18.363Z"
   },
   {
    "duration": 4213,
    "start_time": "2024-04-24T08:33:18.644Z"
   },
   {
    "duration": 17,
    "start_time": "2024-04-24T08:33:22.859Z"
   },
   {
    "duration": 4,
    "start_time": "2024-04-24T08:33:22.884Z"
   },
   {
    "duration": 233,
    "start_time": "2024-04-24T08:33:22.890Z"
   },
   {
    "duration": 27,
    "start_time": "2024-04-24T08:33:23.124Z"
   },
   {
    "duration": 5,
    "start_time": "2024-04-24T08:33:23.152Z"
   },
   {
    "duration": 15,
    "start_time": "2024-04-24T08:33:23.158Z"
   },
   {
    "duration": 29,
    "start_time": "2024-04-24T08:33:23.174Z"
   },
   {
    "duration": 34,
    "start_time": "2024-04-24T08:33:23.204Z"
   },
   {
    "duration": 21,
    "start_time": "2024-04-24T08:34:50.279Z"
   },
   {
    "duration": 22,
    "start_time": "2024-04-24T08:34:59.978Z"
   },
   {
    "duration": 5,
    "start_time": "2024-04-24T08:35:41.641Z"
   },
   {
    "duration": 5,
    "start_time": "2024-04-24T08:36:08.059Z"
   },
   {
    "duration": 5,
    "start_time": "2024-04-24T08:36:28.934Z"
   },
   {
    "duration": 23,
    "start_time": "2024-04-24T08:45:37.505Z"
   },
   {
    "duration": 126,
    "start_time": "2024-04-24T08:46:21.968Z"
   },
   {
    "duration": 5,
    "start_time": "2024-04-24T08:46:44.885Z"
   },
   {
    "duration": 5,
    "start_time": "2024-04-24T08:46:52.632Z"
   },
   {
    "duration": 14,
    "start_time": "2024-04-24T08:47:38.969Z"
   },
   {
    "duration": 5,
    "start_time": "2024-04-24T08:48:02.776Z"
   },
   {
    "duration": 4,
    "start_time": "2024-04-24T08:48:20.329Z"
   },
   {
    "duration": 5,
    "start_time": "2024-04-24T08:48:37.382Z"
   },
   {
    "duration": 60,
    "start_time": "2024-04-24T12:01:41.965Z"
   },
   {
    "duration": 82,
    "start_time": "2024-04-24T12:01:56.681Z"
   },
   {
    "duration": 5,
    "start_time": "2024-04-24T12:04:16.543Z"
   },
   {
    "duration": 1425,
    "start_time": "2024-04-24T12:04:42.509Z"
   },
   {
    "duration": 199,
    "start_time": "2024-04-24T12:04:43.937Z"
   },
   {
    "duration": 20,
    "start_time": "2024-04-24T12:04:44.137Z"
   },
   {
    "duration": 11,
    "start_time": "2024-04-24T12:04:44.159Z"
   },
   {
    "duration": 42,
    "start_time": "2024-04-24T12:04:44.171Z"
   },
   {
    "duration": 19,
    "start_time": "2024-04-24T12:04:44.216Z"
   },
   {
    "duration": 20,
    "start_time": "2024-04-24T12:04:44.237Z"
   },
   {
    "duration": 28,
    "start_time": "2024-04-24T12:04:44.259Z"
   },
   {
    "duration": 9,
    "start_time": "2024-04-24T12:04:44.289Z"
   },
   {
    "duration": 6,
    "start_time": "2024-04-24T12:04:44.433Z"
   },
   {
    "duration": 9,
    "start_time": "2024-04-24T12:04:44.566Z"
   },
   {
    "duration": 4,
    "start_time": "2024-04-24T12:04:44.812Z"
   },
   {
    "duration": 23,
    "start_time": "2024-04-24T12:04:45.084Z"
   },
   {
    "duration": 21,
    "start_time": "2024-04-24T12:04:45.344Z"
   },
   {
    "duration": 12,
    "start_time": "2024-04-24T12:04:45.478Z"
   },
   {
    "duration": 11,
    "start_time": "2024-04-24T12:04:45.864Z"
   },
   {
    "duration": 7,
    "start_time": "2024-04-24T12:04:46.013Z"
   },
   {
    "duration": 20,
    "start_time": "2024-04-24T12:04:46.415Z"
   },
   {
    "duration": 9,
    "start_time": "2024-04-24T12:04:46.964Z"
   },
   {
    "duration": 326,
    "start_time": "2024-04-24T12:04:47.095Z"
   },
   {
    "duration": 14,
    "start_time": "2024-04-24T12:04:47.423Z"
   },
   {
    "duration": 128,
    "start_time": "2024-04-24T12:04:47.645Z"
   },
   {
    "duration": 139,
    "start_time": "2024-04-24T12:04:47.795Z"
   },
   {
    "duration": 164,
    "start_time": "2024-04-24T12:04:47.936Z"
   },
   {
    "duration": 147,
    "start_time": "2024-04-24T12:04:48.102Z"
   },
   {
    "duration": 157,
    "start_time": "2024-04-24T12:04:48.251Z"
   },
   {
    "duration": 22,
    "start_time": "2024-04-24T12:04:48.491Z"
   },
   {
    "duration": 16,
    "start_time": "2024-04-24T12:04:48.769Z"
   },
   {
    "duration": 161,
    "start_time": "2024-04-24T12:04:49.049Z"
   },
   {
    "duration": 167,
    "start_time": "2024-04-24T12:04:49.215Z"
   },
   {
    "duration": 201,
    "start_time": "2024-04-24T12:04:49.384Z"
   },
   {
    "duration": 144,
    "start_time": "2024-04-24T12:04:49.587Z"
   },
   {
    "duration": 130,
    "start_time": "2024-04-24T12:04:49.733Z"
   },
   {
    "duration": 224,
    "start_time": "2024-04-24T12:04:49.907Z"
   },
   {
    "duration": 111,
    "start_time": "2024-04-24T12:04:50.191Z"
   },
   {
    "duration": 125,
    "start_time": "2024-04-24T12:04:50.428Z"
   },
   {
    "duration": 8,
    "start_time": "2024-04-24T12:04:50.579Z"
   },
   {
    "duration": 8,
    "start_time": "2024-04-24T12:04:50.712Z"
   },
   {
    "duration": 14,
    "start_time": "2024-04-24T12:04:51.010Z"
   },
   {
    "duration": 4702,
    "start_time": "2024-04-24T12:04:51.178Z"
   },
   {
    "duration": 19,
    "start_time": "2024-04-24T12:04:55.883Z"
   },
   {
    "duration": 5,
    "start_time": "2024-04-24T12:04:55.904Z"
   },
   {
    "duration": 225,
    "start_time": "2024-04-24T12:04:55.910Z"
   },
   {
    "duration": 32,
    "start_time": "2024-04-24T12:04:56.137Z"
   },
   {
    "duration": 6,
    "start_time": "2024-04-24T12:04:56.170Z"
   },
   {
    "duration": 5,
    "start_time": "2024-04-24T12:04:56.178Z"
   },
   {
    "duration": 32,
    "start_time": "2024-04-24T12:04:56.185Z"
   },
   {
    "duration": 28,
    "start_time": "2024-04-24T12:04:56.218Z"
   },
   {
    "duration": 5,
    "start_time": "2024-04-24T12:04:56.249Z"
   },
   {
    "duration": 34,
    "start_time": "2024-04-24T12:04:56.256Z"
   },
   {
    "duration": 17,
    "start_time": "2024-04-24T12:04:56.292Z"
   },
   {
    "duration": 200,
    "start_time": "2024-04-24T12:04:56.311Z"
   },
   {
    "duration": 6,
    "start_time": "2024-04-24T12:04:56.515Z"
   },
   {
    "duration": 5,
    "start_time": "2024-04-24T12:04:56.523Z"
   },
   {
    "duration": 11,
    "start_time": "2024-04-24T12:04:56.530Z"
   },
   {
    "duration": 6,
    "start_time": "2024-04-24T12:04:56.542Z"
   },
   {
    "duration": 7,
    "start_time": "2024-04-24T12:05:54.286Z"
   },
   {
    "duration": 9,
    "start_time": "2024-04-24T12:06:11.421Z"
   },
   {
    "duration": 11,
    "start_time": "2024-04-24T12:06:18.946Z"
   },
   {
    "duration": 11,
    "start_time": "2024-04-24T12:06:33.563Z"
   },
   {
    "duration": 25,
    "start_time": "2024-04-24T12:06:59.832Z"
   },
   {
    "duration": 116,
    "start_time": "2024-04-24T12:07:19.131Z"
   },
   {
    "duration": 4,
    "start_time": "2024-04-24T12:09:55.984Z"
   },
   {
    "duration": 7,
    "start_time": "2024-04-24T12:10:37.015Z"
   },
   {
    "duration": 75,
    "start_time": "2024-04-24T12:13:13.325Z"
   },
   {
    "duration": 11,
    "start_time": "2024-04-24T12:13:19.394Z"
   },
   {
    "duration": 15,
    "start_time": "2024-04-24T12:13:33.064Z"
   },
   {
    "duration": 23,
    "start_time": "2024-04-24T12:14:43.637Z"
   },
   {
    "duration": 17,
    "start_time": "2024-04-24T12:14:52.168Z"
   },
   {
    "duration": 7,
    "start_time": "2024-04-24T12:16:16.737Z"
   },
   {
    "duration": 23,
    "start_time": "2024-04-24T12:19:06.341Z"
   },
   {
    "duration": 24,
    "start_time": "2024-04-24T12:19:16.686Z"
   },
   {
    "duration": 5,
    "start_time": "2024-04-24T12:19:57.873Z"
   },
   {
    "duration": 28,
    "start_time": "2024-04-24T12:21:01.765Z"
   },
   {
    "duration": 5,
    "start_time": "2024-04-24T12:21:37.020Z"
   },
   {
    "duration": 5,
    "start_time": "2024-04-24T12:26:27.464Z"
   },
   {
    "duration": 9,
    "start_time": "2024-04-24T12:58:59.348Z"
   },
   {
    "duration": 5,
    "start_time": "2024-04-24T12:59:02.429Z"
   },
   {
    "duration": 1212,
    "start_time": "2024-04-24T12:59:31.999Z"
   },
   {
    "duration": 58,
    "start_time": "2024-04-24T12:59:34.229Z"
   },
   {
    "duration": 21,
    "start_time": "2024-04-24T12:59:34.832Z"
   },
   {
    "duration": 4,
    "start_time": "2024-04-24T12:59:35.000Z"
   },
   {
    "duration": 16,
    "start_time": "2024-04-24T12:59:35.147Z"
   },
   {
    "duration": 19,
    "start_time": "2024-04-24T12:59:35.432Z"
   },
   {
    "duration": 10,
    "start_time": "2024-04-24T12:59:35.562Z"
   },
   {
    "duration": 18,
    "start_time": "2024-04-24T12:59:35.813Z"
   },
   {
    "duration": 4,
    "start_time": "2024-04-24T12:59:36.083Z"
   },
   {
    "duration": 7,
    "start_time": "2024-04-24T12:59:36.330Z"
   },
   {
    "duration": 9,
    "start_time": "2024-04-24T12:59:36.599Z"
   },
   {
    "duration": 4,
    "start_time": "2024-04-24T12:59:36.865Z"
   },
   {
    "duration": 21,
    "start_time": "2024-04-24T12:59:37.382Z"
   },
   {
    "duration": 19,
    "start_time": "2024-04-24T12:59:37.632Z"
   },
   {
    "duration": 10,
    "start_time": "2024-04-24T12:59:37.763Z"
   },
   {
    "duration": 11,
    "start_time": "2024-04-24T12:59:38.050Z"
   },
   {
    "duration": 7,
    "start_time": "2024-04-24T12:59:38.179Z"
   },
   {
    "duration": 19,
    "start_time": "2024-04-24T12:59:38.597Z"
   },
   {
    "duration": 10,
    "start_time": "2024-04-24T12:59:39.150Z"
   },
   {
    "duration": 343,
    "start_time": "2024-04-24T12:59:39.296Z"
   },
   {
    "duration": 15,
    "start_time": "2024-04-24T12:59:39.641Z"
   },
   {
    "duration": 136,
    "start_time": "2024-04-24T12:59:39.852Z"
   },
   {
    "duration": 160,
    "start_time": "2024-04-24T12:59:39.990Z"
   },
   {
    "duration": 153,
    "start_time": "2024-04-24T12:59:40.152Z"
   },
   {
    "duration": 138,
    "start_time": "2024-04-24T12:59:40.307Z"
   },
   {
    "duration": 170,
    "start_time": "2024-04-24T12:59:40.447Z"
   },
   {
    "duration": 25,
    "start_time": "2024-04-24T12:59:40.652Z"
   },
   {
    "duration": 14,
    "start_time": "2024-04-24T12:59:40.931Z"
   },
   {
    "duration": 137,
    "start_time": "2024-04-24T12:59:41.265Z"
   },
   {
    "duration": 144,
    "start_time": "2024-04-24T12:59:41.404Z"
   },
   {
    "duration": 204,
    "start_time": "2024-04-24T12:59:41.550Z"
   },
   {
    "duration": 146,
    "start_time": "2024-04-24T12:59:41.756Z"
   },
   {
    "duration": 150,
    "start_time": "2024-04-24T12:59:41.904Z"
   },
   {
    "duration": 225,
    "start_time": "2024-04-24T12:59:42.091Z"
   },
   {
    "duration": 114,
    "start_time": "2024-04-24T12:59:42.370Z"
   },
   {
    "duration": 116,
    "start_time": "2024-04-24T12:59:42.505Z"
   },
   {
    "duration": 8,
    "start_time": "2024-04-24T12:59:42.636Z"
   },
   {
    "duration": 8,
    "start_time": "2024-04-24T12:59:42.779Z"
   },
   {
    "duration": 14,
    "start_time": "2024-04-24T12:59:43.068Z"
   },
   {
    "duration": 4752,
    "start_time": "2024-04-24T12:59:43.272Z"
   },
   {
    "duration": 19,
    "start_time": "2024-04-24T12:59:48.026Z"
   },
   {
    "duration": 5,
    "start_time": "2024-04-24T12:59:48.047Z"
   },
   {
    "duration": 253,
    "start_time": "2024-04-24T12:59:48.053Z"
   },
   {
    "duration": 30,
    "start_time": "2024-04-24T12:59:48.314Z"
   },
   {
    "duration": 5,
    "start_time": "2024-04-24T12:59:48.346Z"
   },
   {
    "duration": 5,
    "start_time": "2024-04-24T12:59:48.353Z"
   },
   {
    "duration": 8,
    "start_time": "2024-04-24T12:59:48.360Z"
   },
   {
    "duration": 47,
    "start_time": "2024-04-24T12:59:48.369Z"
   },
   {
    "duration": 6,
    "start_time": "2024-04-24T12:59:48.419Z"
   },
   {
    "duration": 6,
    "start_time": "2024-04-24T12:59:48.426Z"
   },
   {
    "duration": 15,
    "start_time": "2024-04-24T12:59:48.434Z"
   },
   {
    "duration": 188,
    "start_time": "2024-04-24T12:59:48.450Z"
   },
   {
    "duration": 6,
    "start_time": "2024-04-24T12:59:48.640Z"
   },
   {
    "duration": 12,
    "start_time": "2024-04-24T12:59:48.647Z"
   },
   {
    "duration": 7,
    "start_time": "2024-04-24T12:59:48.660Z"
   },
   {
    "duration": 9,
    "start_time": "2024-04-24T12:59:48.668Z"
   },
   {
    "duration": 6,
    "start_time": "2024-04-24T12:59:48.678Z"
   },
   {
    "duration": 6,
    "start_time": "2024-04-24T13:23:24.394Z"
   },
   {
    "duration": 6,
    "start_time": "2024-04-24T13:23:35.126Z"
   },
   {
    "duration": 12,
    "start_time": "2024-04-24T13:24:31.010Z"
   },
   {
    "duration": 12,
    "start_time": "2024-04-24T13:24:46.094Z"
   },
   {
    "duration": 8,
    "start_time": "2024-04-24T13:24:53.610Z"
   },
   {
    "duration": 5,
    "start_time": "2024-04-24T13:24:54.766Z"
   },
   {
    "duration": 7,
    "start_time": "2024-04-24T13:35:12.534Z"
   },
   {
    "duration": 1247,
    "start_time": "2024-04-24T13:49:14.835Z"
   },
   {
    "duration": 60,
    "start_time": "2024-04-24T13:49:16.084Z"
   },
   {
    "duration": 22,
    "start_time": "2024-04-24T13:49:16.145Z"
   },
   {
    "duration": 5,
    "start_time": "2024-04-24T13:49:16.169Z"
   },
   {
    "duration": 29,
    "start_time": "2024-04-24T13:49:16.176Z"
   },
   {
    "duration": 18,
    "start_time": "2024-04-24T13:49:16.214Z"
   },
   {
    "duration": 13,
    "start_time": "2024-04-24T13:49:16.235Z"
   },
   {
    "duration": 18,
    "start_time": "2024-04-24T13:49:16.379Z"
   },
   {
    "duration": 6,
    "start_time": "2024-04-24T13:49:16.634Z"
   },
   {
    "duration": 11,
    "start_time": "2024-04-24T13:49:16.893Z"
   },
   {
    "duration": 12,
    "start_time": "2024-04-24T13:49:17.158Z"
   },
   {
    "duration": 4,
    "start_time": "2024-04-24T13:49:17.459Z"
   },
   {
    "duration": 21,
    "start_time": "2024-04-24T13:49:17.763Z"
   },
   {
    "duration": 22,
    "start_time": "2024-04-24T13:49:18.226Z"
   },
   {
    "duration": 11,
    "start_time": "2024-04-24T13:49:18.376Z"
   },
   {
    "duration": 11,
    "start_time": "2024-04-24T13:49:18.678Z"
   },
   {
    "duration": 7,
    "start_time": "2024-04-24T13:49:18.826Z"
   },
   {
    "duration": 31,
    "start_time": "2024-04-24T13:49:19.278Z"
   },
   {
    "duration": 10,
    "start_time": "2024-04-24T13:49:20.010Z"
   },
   {
    "duration": 384,
    "start_time": "2024-04-24T13:49:20.159Z"
   },
   {
    "duration": 14,
    "start_time": "2024-04-24T13:49:20.545Z"
   },
   {
    "duration": 133,
    "start_time": "2024-04-24T13:49:20.877Z"
   },
   {
    "duration": 142,
    "start_time": "2024-04-24T13:49:21.083Z"
   },
   {
    "duration": 145,
    "start_time": "2024-04-24T13:49:21.360Z"
   },
   {
    "duration": 136,
    "start_time": "2024-04-24T13:49:21.566Z"
   },
   {
    "duration": 154,
    "start_time": "2024-04-24T13:49:21.707Z"
   },
   {
    "duration": 24,
    "start_time": "2024-04-24T13:49:22.159Z"
   },
   {
    "duration": 21,
    "start_time": "2024-04-24T13:49:22.459Z"
   },
   {
    "duration": 179,
    "start_time": "2024-04-24T13:49:22.743Z"
   },
   {
    "duration": 163,
    "start_time": "2024-04-24T13:49:22.923Z"
   },
   {
    "duration": 232,
    "start_time": "2024-04-24T13:49:23.092Z"
   },
   {
    "duration": 141,
    "start_time": "2024-04-24T13:49:23.326Z"
   },
   {
    "duration": 130,
    "start_time": "2024-04-24T13:49:23.469Z"
   },
   {
    "duration": 250,
    "start_time": "2024-04-24T13:49:23.759Z"
   },
   {
    "duration": 117,
    "start_time": "2024-04-24T13:49:24.060Z"
   },
   {
    "duration": 128,
    "start_time": "2024-04-24T13:49:24.241Z"
   },
   {
    "duration": 8,
    "start_time": "2024-04-24T13:49:24.492Z"
   },
   {
    "duration": 13,
    "start_time": "2024-04-24T13:49:24.660Z"
   },
   {
    "duration": 20,
    "start_time": "2024-04-24T13:49:24.961Z"
   },
   {
    "duration": 4833,
    "start_time": "2024-04-24T13:49:25.140Z"
   },
   {
    "duration": 25,
    "start_time": "2024-04-24T13:49:29.975Z"
   },
   {
    "duration": 7,
    "start_time": "2024-04-24T13:49:30.015Z"
   },
   {
    "duration": 282,
    "start_time": "2024-04-24T13:49:30.024Z"
   },
   {
    "duration": 34,
    "start_time": "2024-04-24T13:49:30.308Z"
   },
   {
    "duration": 42,
    "start_time": "2024-04-24T13:49:30.344Z"
   },
   {
    "duration": 49,
    "start_time": "2024-04-24T13:49:30.388Z"
   },
   {
    "duration": 95,
    "start_time": "2024-04-24T13:49:30.439Z"
   },
   {
    "duration": 93,
    "start_time": "2024-04-24T13:49:30.536Z"
   },
   {
    "duration": 56,
    "start_time": "2024-04-24T13:49:30.632Z"
   },
   {
    "duration": 105,
    "start_time": "2024-04-24T13:49:30.690Z"
   },
   {
    "duration": 79,
    "start_time": "2024-04-24T13:49:30.796Z"
   },
   {
    "duration": 280,
    "start_time": "2024-04-24T13:49:30.877Z"
   },
   {
    "duration": 5,
    "start_time": "2024-04-24T13:49:31.159Z"
   },
   {
    "duration": 64,
    "start_time": "2024-04-24T13:49:31.166Z"
   },
   {
    "duration": 55,
    "start_time": "2024-04-24T13:49:31.231Z"
   },
   {
    "duration": 55,
    "start_time": "2024-04-24T13:49:31.287Z"
   },
   {
    "duration": 84,
    "start_time": "2024-04-24T13:49:31.344Z"
   },
   {
    "duration": 8,
    "start_time": "2024-04-24T14:03:45.469Z"
   },
   {
    "duration": 13,
    "start_time": "2024-04-24T14:04:14.594Z"
   },
   {
    "duration": 13,
    "start_time": "2024-04-24T14:04:34.682Z"
   },
   {
    "duration": 15,
    "start_time": "2024-04-24T14:04:51.016Z"
   },
   {
    "duration": 12,
    "start_time": "2024-04-24T14:05:02.053Z"
   },
   {
    "duration": 10,
    "start_time": "2024-04-24T14:05:08.010Z"
   },
   {
    "duration": 6,
    "start_time": "2024-04-24T14:05:08.841Z"
   },
   {
    "duration": 23,
    "start_time": "2024-04-24T14:05:23.102Z"
   },
   {
    "duration": 13,
    "start_time": "2024-04-24T14:05:35.741Z"
   },
   {
    "duration": 9,
    "start_time": "2024-04-24T14:05:44.168Z"
   },
   {
    "duration": 6,
    "start_time": "2024-04-24T14:06:20.776Z"
   },
   {
    "duration": 5,
    "start_time": "2024-04-24T14:06:52.090Z"
   },
   {
    "duration": 5,
    "start_time": "2024-04-24T14:06:58.510Z"
   },
   {
    "duration": 5,
    "start_time": "2024-04-24T14:07:02.603Z"
   },
   {
    "duration": 6,
    "start_time": "2024-04-24T14:07:17.742Z"
   },
   {
    "duration": 8,
    "start_time": "2024-04-24T14:07:43.614Z"
   },
   {
    "duration": 6,
    "start_time": "2024-04-24T14:07:55.552Z"
   },
   {
    "duration": 75,
    "start_time": "2024-04-24T14:23:17.425Z"
   },
   {
    "duration": 159,
    "start_time": "2024-04-24T14:38:53.249Z"
   },
   {
    "duration": 24,
    "start_time": "2024-04-24T14:39:13.365Z"
   },
   {
    "duration": 23,
    "start_time": "2024-04-24T14:39:31.985Z"
   },
   {
    "duration": 21,
    "start_time": "2024-04-24T14:41:03.784Z"
   },
   {
    "duration": 30,
    "start_time": "2024-04-24T14:56:28.758Z"
   },
   {
    "duration": 11,
    "start_time": "2024-04-24T14:56:51.635Z"
   },
   {
    "duration": 10,
    "start_time": "2024-04-24T14:57:19.256Z"
   },
   {
    "duration": 11,
    "start_time": "2024-04-24T14:57:26.653Z"
   },
   {
    "duration": 11,
    "start_time": "2024-04-24T14:57:40.964Z"
   },
   {
    "duration": 11,
    "start_time": "2024-04-24T14:57:57.850Z"
   },
   {
    "duration": 12,
    "start_time": "2024-04-24T14:58:08.351Z"
   },
   {
    "duration": 1268,
    "start_time": "2024-04-24T14:59:11.602Z"
   },
   {
    "duration": 60,
    "start_time": "2024-04-24T14:59:12.873Z"
   },
   {
    "duration": 21,
    "start_time": "2024-04-24T14:59:14.142Z"
   },
   {
    "duration": 5,
    "start_time": "2024-04-24T14:59:14.352Z"
   },
   {
    "duration": 15,
    "start_time": "2024-04-24T14:59:14.520Z"
   },
   {
    "duration": 15,
    "start_time": "2024-04-24T14:59:14.742Z"
   },
   {
    "duration": 10,
    "start_time": "2024-04-24T14:59:14.865Z"
   },
   {
    "duration": 17,
    "start_time": "2024-04-24T14:59:15.093Z"
   },
   {
    "duration": 7,
    "start_time": "2024-04-24T14:59:15.362Z"
   },
   {
    "duration": 8,
    "start_time": "2024-04-24T14:59:15.607Z"
   },
   {
    "duration": 11,
    "start_time": "2024-04-24T14:59:15.875Z"
   },
   {
    "duration": 5,
    "start_time": "2024-04-24T14:59:16.124Z"
   },
   {
    "duration": 22,
    "start_time": "2024-04-24T14:59:16.390Z"
   },
   {
    "duration": 21,
    "start_time": "2024-04-24T14:59:16.653Z"
   },
   {
    "duration": 17,
    "start_time": "2024-04-24T14:59:16.814Z"
   },
   {
    "duration": 16,
    "start_time": "2024-04-24T14:59:17.142Z"
   },
   {
    "duration": 8,
    "start_time": "2024-04-24T14:59:17.205Z"
   },
   {
    "duration": 21,
    "start_time": "2024-04-24T14:59:17.667Z"
   },
   {
    "duration": 10,
    "start_time": "2024-04-24T14:59:18.191Z"
   },
   {
    "duration": 337,
    "start_time": "2024-04-24T14:59:18.279Z"
   },
   {
    "duration": 16,
    "start_time": "2024-04-24T14:59:18.714Z"
   },
   {
    "duration": 145,
    "start_time": "2024-04-24T14:59:18.851Z"
   },
   {
    "duration": 160,
    "start_time": "2024-04-24T14:59:18.998Z"
   },
   {
    "duration": 147,
    "start_time": "2024-04-24T14:59:19.550Z"
   },
   {
    "duration": 136,
    "start_time": "2024-04-24T14:59:19.762Z"
   },
   {
    "duration": 153,
    "start_time": "2024-04-24T14:59:19.959Z"
   },
   {
    "duration": 22,
    "start_time": "2024-04-24T14:59:20.181Z"
   },
   {
    "duration": 14,
    "start_time": "2024-04-24T14:59:20.483Z"
   },
   {
    "duration": 148,
    "start_time": "2024-04-24T14:59:20.811Z"
   },
   {
    "duration": 156,
    "start_time": "2024-04-24T14:59:20.961Z"
   },
   {
    "duration": 208,
    "start_time": "2024-04-24T14:59:21.119Z"
   },
   {
    "duration": 140,
    "start_time": "2024-04-24T14:59:21.329Z"
   },
   {
    "duration": 144,
    "start_time": "2024-04-24T14:59:21.471Z"
   },
   {
    "duration": 237,
    "start_time": "2024-04-24T14:59:21.617Z"
   },
   {
    "duration": 128,
    "start_time": "2024-04-24T14:59:21.856Z"
   },
   {
    "duration": 124,
    "start_time": "2024-04-24T14:59:21.986Z"
   },
   {
    "duration": 7,
    "start_time": "2024-04-24T14:59:22.114Z"
   },
   {
    "duration": 8,
    "start_time": "2024-04-24T14:59:22.241Z"
   },
   {
    "duration": 15,
    "start_time": "2024-04-24T14:59:22.565Z"
   },
   {
    "duration": 4908,
    "start_time": "2024-04-24T14:59:22.773Z"
   },
   {
    "duration": 18,
    "start_time": "2024-04-24T14:59:27.683Z"
   },
   {
    "duration": 10,
    "start_time": "2024-04-24T14:59:27.702Z"
   },
   {
    "duration": 245,
    "start_time": "2024-04-24T14:59:27.714Z"
   },
   {
    "duration": 30,
    "start_time": "2024-04-24T14:59:27.961Z"
   },
   {
    "duration": 25,
    "start_time": "2024-04-24T14:59:27.992Z"
   },
   {
    "duration": 12,
    "start_time": "2024-04-24T14:59:28.019Z"
   },
   {
    "duration": 26,
    "start_time": "2024-04-24T14:59:28.033Z"
   },
   {
    "duration": 50,
    "start_time": "2024-04-24T14:59:28.060Z"
   },
   {
    "duration": 5,
    "start_time": "2024-04-24T14:59:28.113Z"
   },
   {
    "duration": 13,
    "start_time": "2024-04-24T14:59:28.120Z"
   },
   {
    "duration": 10,
    "start_time": "2024-04-24T14:59:28.135Z"
   },
   {
    "duration": 207,
    "start_time": "2024-04-24T14:59:28.146Z"
   },
   {
    "duration": 5,
    "start_time": "2024-04-24T14:59:28.356Z"
   },
   {
    "duration": 18,
    "start_time": "2024-04-24T14:59:28.363Z"
   },
   {
    "duration": 10,
    "start_time": "2024-04-24T14:59:28.382Z"
   },
   {
    "duration": 9,
    "start_time": "2024-04-24T14:59:28.394Z"
   },
   {
    "duration": 6,
    "start_time": "2024-04-24T14:59:28.414Z"
   },
   {
    "duration": 8,
    "start_time": "2024-04-24T14:59:29.557Z"
   },
   {
    "duration": 6,
    "start_time": "2024-04-24T14:59:30.126Z"
   },
   {
    "duration": 1486,
    "start_time": "2024-04-25T07:30:31.362Z"
   },
   {
    "duration": 216,
    "start_time": "2024-04-25T07:30:32.850Z"
   },
   {
    "duration": 21,
    "start_time": "2024-04-25T07:30:33.068Z"
   },
   {
    "duration": 9,
    "start_time": "2024-04-25T07:30:33.091Z"
   },
   {
    "duration": 23,
    "start_time": "2024-04-25T07:30:33.102Z"
   },
   {
    "duration": 16,
    "start_time": "2024-04-25T07:30:33.770Z"
   },
   {
    "duration": 11,
    "start_time": "2024-04-25T07:30:34.100Z"
   },
   {
    "duration": 19,
    "start_time": "2024-04-25T07:30:34.438Z"
   },
   {
    "duration": 5,
    "start_time": "2024-04-25T07:30:34.771Z"
   },
   {
    "duration": 7,
    "start_time": "2024-04-25T07:30:35.088Z"
   },
   {
    "duration": 9,
    "start_time": "2024-04-25T07:30:35.388Z"
   },
   {
    "duration": 4,
    "start_time": "2024-04-25T07:30:35.703Z"
   },
   {
    "duration": 22,
    "start_time": "2024-04-25T07:30:36.020Z"
   },
   {
    "duration": 21,
    "start_time": "2024-04-25T07:30:36.321Z"
   },
   {
    "duration": 12,
    "start_time": "2024-04-25T07:30:36.503Z"
   },
   {
    "duration": 13,
    "start_time": "2024-04-25T07:30:36.971Z"
   },
   {
    "duration": 6,
    "start_time": "2024-04-25T07:30:37.153Z"
   },
   {
    "duration": 20,
    "start_time": "2024-04-25T07:30:37.635Z"
   },
   {
    "duration": 11,
    "start_time": "2024-04-25T07:30:38.319Z"
   },
   {
    "duration": 356,
    "start_time": "2024-04-25T07:30:38.503Z"
   },
   {
    "duration": 15,
    "start_time": "2024-04-25T07:30:38.872Z"
   },
   {
    "duration": 137,
    "start_time": "2024-04-25T07:30:39.127Z"
   },
   {
    "duration": 144,
    "start_time": "2024-04-25T07:30:39.269Z"
   },
   {
    "duration": 154,
    "start_time": "2024-04-25T07:30:39.424Z"
   },
   {
    "duration": 143,
    "start_time": "2024-04-25T07:30:39.586Z"
   },
   {
    "duration": 163,
    "start_time": "2024-04-25T07:30:40.120Z"
   },
   {
    "duration": 24,
    "start_time": "2024-04-25T07:30:40.453Z"
   },
   {
    "duration": 14,
    "start_time": "2024-04-25T07:30:40.772Z"
   },
   {
    "duration": 159,
    "start_time": "2024-04-25T07:30:41.069Z"
   },
   {
    "duration": 147,
    "start_time": "2024-04-25T07:30:41.236Z"
   },
   {
    "duration": 192,
    "start_time": "2024-04-25T07:30:41.518Z"
   },
   {
    "duration": 145,
    "start_time": "2024-04-25T07:30:41.712Z"
   },
   {
    "duration": 135,
    "start_time": "2024-04-25T07:30:41.859Z"
   },
   {
    "duration": 243,
    "start_time": "2024-04-25T07:30:42.136Z"
   },
   {
    "duration": 124,
    "start_time": "2024-04-25T07:30:42.425Z"
   },
   {
    "duration": 124,
    "start_time": "2024-04-25T07:30:42.589Z"
   },
   {
    "duration": 8,
    "start_time": "2024-04-25T07:30:42.735Z"
   },
   {
    "duration": 9,
    "start_time": "2024-04-25T07:30:42.870Z"
   },
   {
    "duration": 14,
    "start_time": "2024-04-25T07:30:43.186Z"
   },
   {
    "duration": 5133,
    "start_time": "2024-04-25T07:30:43.352Z"
   },
   {
    "duration": 20,
    "start_time": "2024-04-25T07:30:48.488Z"
   },
   {
    "duration": 24,
    "start_time": "2024-04-25T07:30:48.510Z"
   },
   {
    "duration": 270,
    "start_time": "2024-04-25T07:30:48.536Z"
   },
   {
    "duration": 31,
    "start_time": "2024-04-25T07:30:48.808Z"
   },
   {
    "duration": 5,
    "start_time": "2024-04-25T07:30:48.841Z"
   },
   {
    "duration": 26,
    "start_time": "2024-04-25T07:30:48.848Z"
   },
   {
    "duration": 10,
    "start_time": "2024-04-25T07:30:48.875Z"
   },
   {
    "duration": 45,
    "start_time": "2024-04-25T07:30:48.886Z"
   },
   {
    "duration": 6,
    "start_time": "2024-04-25T07:30:48.933Z"
   },
   {
    "duration": 12,
    "start_time": "2024-04-25T07:30:48.940Z"
   },
   {
    "duration": 8,
    "start_time": "2024-04-25T07:30:48.954Z"
   },
   {
    "duration": 197,
    "start_time": "2024-04-25T07:30:48.972Z"
   },
   {
    "duration": 6,
    "start_time": "2024-04-25T07:30:49.173Z"
   },
   {
    "duration": 20,
    "start_time": "2024-04-25T07:30:49.180Z"
   },
   {
    "duration": 23,
    "start_time": "2024-04-25T07:30:49.202Z"
   },
   {
    "duration": 9,
    "start_time": "2024-04-25T07:30:49.789Z"
   },
   {
    "duration": 6,
    "start_time": "2024-04-25T07:30:49.978Z"
   },
   {
    "duration": 9,
    "start_time": "2024-04-25T07:30:50.452Z"
   },
   {
    "duration": 6,
    "start_time": "2024-04-25T07:30:50.621Z"
   },
   {
    "duration": 1468,
    "start_time": "2024-04-25T13:16:11.597Z"
   },
   {
    "duration": 116,
    "start_time": "2024-04-25T13:16:13.068Z"
   },
   {
    "duration": 22,
    "start_time": "2024-04-25T13:16:13.186Z"
   },
   {
    "duration": 10,
    "start_time": "2024-04-25T13:16:13.210Z"
   },
   {
    "duration": 28,
    "start_time": "2024-04-25T13:16:13.222Z"
   },
   {
    "duration": 17,
    "start_time": "2024-04-25T13:16:13.252Z"
   },
   {
    "duration": 29,
    "start_time": "2024-04-25T13:16:13.271Z"
   },
   {
    "duration": 21,
    "start_time": "2024-04-25T13:16:13.302Z"
   },
   {
    "duration": 7,
    "start_time": "2024-04-25T13:16:13.325Z"
   },
   {
    "duration": 9,
    "start_time": "2024-04-25T13:16:13.337Z"
   },
   {
    "duration": 16,
    "start_time": "2024-04-25T13:16:13.348Z"
   },
   {
    "duration": 5,
    "start_time": "2024-04-25T13:16:13.366Z"
   },
   {
    "duration": 24,
    "start_time": "2024-04-25T13:16:13.372Z"
   },
   {
    "duration": 48,
    "start_time": "2024-04-25T13:16:13.398Z"
   },
   {
    "duration": 11,
    "start_time": "2024-04-25T13:16:13.448Z"
   },
   {
    "duration": 11,
    "start_time": "2024-04-25T13:16:13.460Z"
   },
   {
    "duration": 26,
    "start_time": "2024-04-25T13:16:13.473Z"
   },
   {
    "duration": 37,
    "start_time": "2024-04-25T13:16:13.501Z"
   },
   {
    "duration": 11,
    "start_time": "2024-04-25T13:16:13.540Z"
   },
   {
    "duration": 377,
    "start_time": "2024-04-25T13:16:13.552Z"
   },
   {
    "duration": 15,
    "start_time": "2024-04-25T13:16:13.931Z"
   },
   {
    "duration": 149,
    "start_time": "2024-04-25T13:16:13.948Z"
   },
   {
    "duration": 153,
    "start_time": "2024-04-25T13:16:14.099Z"
   },
   {
    "duration": 154,
    "start_time": "2024-04-25T13:16:14.254Z"
   },
   {
    "duration": 154,
    "start_time": "2024-04-25T13:16:14.410Z"
   },
   {
    "duration": 163,
    "start_time": "2024-04-25T13:16:14.566Z"
   },
   {
    "duration": 26,
    "start_time": "2024-04-25T13:16:14.731Z"
   },
   {
    "duration": 14,
    "start_time": "2024-04-25T13:16:14.760Z"
   },
   {
    "duration": 199,
    "start_time": "2024-04-25T13:16:14.776Z"
   },
   {
    "duration": 159,
    "start_time": "2024-04-25T13:16:14.977Z"
   },
   {
    "duration": 220,
    "start_time": "2024-04-25T13:16:15.138Z"
   },
   {
    "duration": 155,
    "start_time": "2024-04-25T13:16:15.360Z"
   },
   {
    "duration": 154,
    "start_time": "2024-04-25T13:16:15.518Z"
   },
   {
    "duration": 232,
    "start_time": "2024-04-25T13:16:15.674Z"
   },
   {
    "duration": 131,
    "start_time": "2024-04-25T13:16:15.908Z"
   },
   {
    "duration": 129,
    "start_time": "2024-04-25T13:16:16.040Z"
   },
   {
    "duration": 8,
    "start_time": "2024-04-25T13:16:16.171Z"
   },
   {
    "duration": 10,
    "start_time": "2024-04-25T13:16:16.180Z"
   },
   {
    "duration": 16,
    "start_time": "2024-04-25T13:16:16.191Z"
   },
   {
    "duration": 5059,
    "start_time": "2024-04-25T13:16:16.209Z"
   },
   {
    "duration": 21,
    "start_time": "2024-04-25T13:16:21.270Z"
   },
   {
    "duration": 7,
    "start_time": "2024-04-25T13:16:21.293Z"
   },
   {
    "duration": 276,
    "start_time": "2024-04-25T13:16:21.302Z"
   },
   {
    "duration": 35,
    "start_time": "2024-04-25T13:16:21.580Z"
   },
   {
    "duration": 8,
    "start_time": "2024-04-25T13:16:21.628Z"
   },
   {
    "duration": 11,
    "start_time": "2024-04-25T13:16:21.637Z"
   },
   {
    "duration": 12,
    "start_time": "2024-04-25T13:16:21.649Z"
   },
   {
    "duration": 33,
    "start_time": "2024-04-25T13:16:21.663Z"
   },
   {
    "duration": 5,
    "start_time": "2024-04-25T13:16:21.698Z"
   },
   {
    "duration": 26,
    "start_time": "2024-04-25T13:16:21.704Z"
   },
   {
    "duration": 29,
    "start_time": "2024-04-25T13:16:21.732Z"
   },
   {
    "duration": 39,
    "start_time": "2024-04-25T13:16:21.762Z"
   },
   {
    "duration": 29,
    "start_time": "2024-04-25T13:16:21.803Z"
   },
   {
    "duration": 27,
    "start_time": "2024-04-25T13:16:21.833Z"
   },
   {
    "duration": 22,
    "start_time": "2024-04-25T13:16:21.861Z"
   },
   {
    "duration": 12,
    "start_time": "2024-04-25T13:16:21.884Z"
   },
   {
    "duration": 6,
    "start_time": "2024-04-25T13:16:21.898Z"
   },
   {
    "duration": 21,
    "start_time": "2024-04-25T13:16:21.906Z"
   },
   {
    "duration": 12,
    "start_time": "2024-04-25T13:16:21.928Z"
   },
   {
    "duration": 5,
    "start_time": "2024-04-25T13:24:42.978Z"
   },
   {
    "duration": 25,
    "start_time": "2024-04-25T13:25:04.174Z"
   },
   {
    "duration": 38,
    "start_time": "2024-04-25T13:25:22.071Z"
   },
   {
    "duration": 12,
    "start_time": "2024-04-25T13:26:49.187Z"
   },
   {
    "duration": 14,
    "start_time": "2024-04-25T13:26:55.458Z"
   },
   {
    "duration": 26,
    "start_time": "2024-04-25T13:42:06.235Z"
   },
   {
    "duration": 8,
    "start_time": "2024-04-25T13:42:32.538Z"
   },
   {
    "duration": 10,
    "start_time": "2024-04-25T13:42:36.771Z"
   },
   {
    "duration": 10,
    "start_time": "2024-04-25T13:42:55.047Z"
   },
   {
    "duration": 9,
    "start_time": "2024-04-25T13:43:12.422Z"
   },
   {
    "duration": 1395,
    "start_time": "2024-04-26T09:17:50.241Z"
   },
   {
    "duration": 212,
    "start_time": "2024-04-26T09:17:51.638Z"
   },
   {
    "duration": 20,
    "start_time": "2024-04-26T09:17:51.852Z"
   },
   {
    "duration": 5,
    "start_time": "2024-04-26T09:18:37.041Z"
   },
   {
    "duration": 125,
    "start_time": "2024-04-26T09:18:40.339Z"
   },
   {
    "duration": 9,
    "start_time": "2024-04-26T09:18:56.589Z"
   },
   {
    "duration": 1182,
    "start_time": "2024-04-26T09:19:09.073Z"
   },
   {
    "duration": 57,
    "start_time": "2024-04-26T09:19:10.257Z"
   },
   {
    "duration": 33,
    "start_time": "2024-04-26T09:19:10.316Z"
   },
   {
    "duration": 3,
    "start_time": "2024-04-26T09:19:10.806Z"
   },
   {
    "duration": 15,
    "start_time": "2024-04-26T09:19:15.370Z"
   },
   {
    "duration": 20,
    "start_time": "2024-04-26T09:19:32.393Z"
   },
   {
    "duration": 15,
    "start_time": "2024-04-26T09:19:36.008Z"
   },
   {
    "duration": 10,
    "start_time": "2024-04-26T09:19:55.773Z"
   },
   {
    "duration": 18,
    "start_time": "2024-04-26T09:22:01.791Z"
   },
   {
    "duration": 4,
    "start_time": "2024-04-26T09:23:51.518Z"
   },
   {
    "duration": 6,
    "start_time": "2024-04-26T09:23:53.110Z"
   },
   {
    "duration": 8,
    "start_time": "2024-04-26T09:23:56.145Z"
   },
   {
    "duration": 3,
    "start_time": "2024-04-26T09:23:58.299Z"
   },
   {
    "duration": 20,
    "start_time": "2024-04-26T09:23:59.348Z"
   },
   {
    "duration": 19,
    "start_time": "2024-04-26T09:24:00.813Z"
   },
   {
    "duration": 12,
    "start_time": "2024-04-26T09:24:01.408Z"
   },
   {
    "duration": 6,
    "start_time": "2024-04-26T09:32:32.549Z"
   },
   {
    "duration": 4,
    "start_time": "2024-04-26T09:39:54.069Z"
   },
   {
    "duration": 6,
    "start_time": "2024-04-26T09:41:59.804Z"
   },
   {
    "duration": 9,
    "start_time": "2024-04-26T09:42:14.578Z"
   },
   {
    "duration": 9,
    "start_time": "2024-04-26T09:42:29.471Z"
   },
   {
    "duration": 9,
    "start_time": "2024-04-26T09:42:49.271Z"
   },
   {
    "duration": 9,
    "start_time": "2024-04-26T09:44:07.839Z"
   },
   {
    "duration": 1857,
    "start_time": "2024-04-26T09:46:33.723Z"
   },
   {
    "duration": 56,
    "start_time": "2024-04-26T09:46:35.582Z"
   },
   {
    "duration": 19,
    "start_time": "2024-04-26T09:46:35.639Z"
   },
   {
    "duration": 23,
    "start_time": "2024-04-26T09:46:35.660Z"
   },
   {
    "duration": 29,
    "start_time": "2024-04-26T09:46:35.684Z"
   },
   {
    "duration": 26,
    "start_time": "2024-04-26T09:46:35.714Z"
   },
   {
    "duration": 26,
    "start_time": "2024-04-26T09:46:35.741Z"
   },
   {
    "duration": 21,
    "start_time": "2024-04-26T09:46:36.606Z"
   },
   {
    "duration": 6,
    "start_time": "2024-04-26T09:46:38.471Z"
   },
   {
    "duration": 6,
    "start_time": "2024-04-26T09:46:40.442Z"
   },
   {
    "duration": 9,
    "start_time": "2024-04-26T09:46:40.955Z"
   },
   {
    "duration": 4,
    "start_time": "2024-04-26T09:46:42.138Z"
   },
   {
    "duration": 21,
    "start_time": "2024-04-26T09:46:43.489Z"
   },
   {
    "duration": 19,
    "start_time": "2024-04-26T09:46:46.889Z"
   },
   {
    "duration": 10,
    "start_time": "2024-04-26T09:46:48.630Z"
   },
   {
    "duration": 19,
    "start_time": "2024-04-26T09:46:50.738Z"
   },
   {
    "duration": 8,
    "start_time": "2024-04-26T09:47:58.459Z"
   },
   {
    "duration": 345,
    "start_time": "2024-04-26T09:47:59.209Z"
   },
   {
    "duration": 83,
    "start_time": "2024-04-26T09:48:43.492Z"
   },
   {
    "duration": 545,
    "start_time": "2024-04-26T09:48:54.488Z"
   },
   {
    "duration": 71,
    "start_time": "2024-04-26T09:49:03.553Z"
   },
   {
    "duration": 67,
    "start_time": "2024-04-26T09:49:25.670Z"
   },
   {
    "duration": 69,
    "start_time": "2024-04-26T09:50:39.820Z"
   },
   {
    "duration": 91,
    "start_time": "2024-04-26T09:50:45.094Z"
   },
   {
    "duration": 1203,
    "start_time": "2024-04-26T09:51:10.079Z"
   },
   {
    "duration": 56,
    "start_time": "2024-04-26T09:51:11.284Z"
   },
   {
    "duration": 19,
    "start_time": "2024-04-26T09:51:11.342Z"
   },
   {
    "duration": 21,
    "start_time": "2024-04-26T09:51:11.363Z"
   },
   {
    "duration": 51,
    "start_time": "2024-04-26T09:51:11.386Z"
   },
   {
    "duration": 26,
    "start_time": "2024-04-26T09:51:11.439Z"
   },
   {
    "duration": 19,
    "start_time": "2024-04-26T09:51:11.467Z"
   },
   {
    "duration": 17,
    "start_time": "2024-04-26T09:51:11.964Z"
   },
   {
    "duration": 5,
    "start_time": "2024-04-26T09:51:12.699Z"
   },
   {
    "duration": 7,
    "start_time": "2024-04-26T09:51:12.978Z"
   },
   {
    "duration": 8,
    "start_time": "2024-04-26T09:51:13.261Z"
   },
   {
    "duration": 4,
    "start_time": "2024-04-26T09:51:13.748Z"
   },
   {
    "duration": 25,
    "start_time": "2024-04-26T09:51:14.003Z"
   },
   {
    "duration": 19,
    "start_time": "2024-04-26T09:51:14.311Z"
   },
   {
    "duration": 11,
    "start_time": "2024-04-26T09:51:15.028Z"
   },
   {
    "duration": 19,
    "start_time": "2024-04-26T09:51:15.565Z"
   },
   {
    "duration": 11,
    "start_time": "2024-04-26T09:51:16.125Z"
   },
   {
    "duration": 69,
    "start_time": "2024-04-26T09:51:16.893Z"
   },
   {
    "duration": 73,
    "start_time": "2024-04-26T09:51:28.121Z"
   },
   {
    "duration": 71,
    "start_time": "2024-04-26T09:51:45.931Z"
   },
   {
    "duration": 10,
    "start_time": "2024-04-26T09:52:23.737Z"
   },
   {
    "duration": 83,
    "start_time": "2024-04-26T09:52:24.294Z"
   },
   {
    "duration": 365,
    "start_time": "2024-04-26T09:53:23.661Z"
   },
   {
    "duration": 16,
    "start_time": "2024-04-26T09:56:44.013Z"
   },
   {
    "duration": 141,
    "start_time": "2024-04-26T09:56:48.329Z"
   },
   {
    "duration": 150,
    "start_time": "2024-04-26T09:56:48.495Z"
   },
   {
    "duration": 159,
    "start_time": "2024-04-26T09:56:49.613Z"
   },
   {
    "duration": 147,
    "start_time": "2024-04-26T09:56:49.913Z"
   },
   {
    "duration": 148,
    "start_time": "2024-04-26T09:59:15.949Z"
   },
   {
    "duration": 191,
    "start_time": "2024-04-26T09:59:51.065Z"
   },
   {
    "duration": 170,
    "start_time": "2024-04-26T10:00:11.940Z"
   },
   {
    "duration": 238,
    "start_time": "2024-04-26T10:00:56.138Z"
   },
   {
    "duration": 147,
    "start_time": "2024-04-26T10:01:09.237Z"
   },
   {
    "duration": 145,
    "start_time": "2024-04-26T10:01:11.702Z"
   },
   {
    "duration": 149,
    "start_time": "2024-04-26T10:01:18.619Z"
   },
   {
    "duration": 163,
    "start_time": "2024-04-26T10:01:32.568Z"
   },
   {
    "duration": 22,
    "start_time": "2024-04-26T10:05:20.521Z"
   },
   {
    "duration": 36,
    "start_time": "2024-04-26T10:06:11.225Z"
   },
   {
    "duration": 23,
    "start_time": "2024-04-26T10:07:13.027Z"
   },
   {
    "duration": 23,
    "start_time": "2024-04-26T10:07:21.639Z"
   },
   {
    "duration": 15,
    "start_time": "2024-04-26T10:08:17.858Z"
   },
   {
    "duration": 154,
    "start_time": "2024-04-26T10:09:48.338Z"
   },
   {
    "duration": 153,
    "start_time": "2024-04-26T10:10:06.916Z"
   },
   {
    "duration": 159,
    "start_time": "2024-04-26T10:10:13.223Z"
   },
   {
    "duration": 159,
    "start_time": "2024-04-26T10:11:21.181Z"
   },
   {
    "duration": 138,
    "start_time": "2024-04-26T10:11:40.172Z"
   },
   {
    "duration": 144,
    "start_time": "2024-04-26T10:12:17.788Z"
   },
   {
    "duration": 133,
    "start_time": "2024-04-26T10:12:42.798Z"
   },
   {
    "duration": 225,
    "start_time": "2024-04-26T10:13:05.414Z"
   },
   {
    "duration": 148,
    "start_time": "2024-04-26T10:13:15.974Z"
   },
   {
    "duration": 141,
    "start_time": "2024-04-26T10:13:26.687Z"
   },
   {
    "duration": 143,
    "start_time": "2024-04-26T10:13:42.299Z"
   },
   {
    "duration": 139,
    "start_time": "2024-04-26T10:13:48.785Z"
   },
   {
    "duration": 137,
    "start_time": "2024-04-26T10:13:54.542Z"
   },
   {
    "duration": 133,
    "start_time": "2024-04-26T10:14:37.684Z"
   },
   {
    "duration": 136,
    "start_time": "2024-04-26T10:14:51.743Z"
   },
   {
    "duration": 153,
    "start_time": "2024-04-26T10:14:59.926Z"
   },
   {
    "duration": 145,
    "start_time": "2024-04-26T10:15:19.467Z"
   },
   {
    "duration": 177,
    "start_time": "2024-04-26T10:15:36.187Z"
   },
   {
    "duration": 311,
    "start_time": "2024-04-26T10:16:22.622Z"
   },
   {
    "duration": 326,
    "start_time": "2024-04-26T10:18:26.079Z"
   },
   {
    "duration": 261,
    "start_time": "2024-04-26T10:18:52.011Z"
   },
   {
    "duration": 244,
    "start_time": "2024-04-26T10:19:14.347Z"
   },
   {
    "duration": 234,
    "start_time": "2024-04-26T10:19:19.825Z"
   },
   {
    "duration": 321,
    "start_time": "2024-04-26T10:19:59.328Z"
   },
   {
    "duration": 222,
    "start_time": "2024-04-26T10:20:19.014Z"
   },
   {
    "duration": 243,
    "start_time": "2024-04-26T10:20:32.738Z"
   },
   {
    "duration": 229,
    "start_time": "2024-04-26T10:20:39.830Z"
   },
   {
    "duration": 265,
    "start_time": "2024-04-26T10:20:50.595Z"
   },
   {
    "duration": 239,
    "start_time": "2024-04-26T10:23:32.737Z"
   },
   {
    "duration": 216,
    "start_time": "2024-04-26T10:25:07.849Z"
   },
   {
    "duration": 136,
    "start_time": "2024-04-26T10:25:11.138Z"
   },
   {
    "duration": 6,
    "start_time": "2024-04-26T10:25:11.282Z"
   },
   {
    "duration": 8,
    "start_time": "2024-04-26T10:25:14.365Z"
   },
   {
    "duration": 13,
    "start_time": "2024-04-26T10:25:16.881Z"
   },
   {
    "duration": 4311,
    "start_time": "2024-04-26T10:25:17.048Z"
   },
   {
    "duration": 103,
    "start_time": "2024-04-26T10:26:45.438Z"
   },
   {
    "duration": 73,
    "start_time": "2024-04-26T10:26:48.709Z"
   },
   {
    "duration": 595,
    "start_time": "2024-04-26T10:27:03.539Z"
   },
   {
    "duration": 578,
    "start_time": "2024-04-26T10:28:44.456Z"
   },
   {
    "duration": 129,
    "start_time": "2024-04-26T10:29:00.851Z"
   },
   {
    "duration": 135,
    "start_time": "2024-04-26T10:29:37.227Z"
   },
   {
    "duration": 134,
    "start_time": "2024-04-26T10:30:24.256Z"
   },
   {
    "duration": 6,
    "start_time": "2024-04-26T10:30:42.420Z"
   },
   {
    "duration": 8,
    "start_time": "2024-04-26T10:30:42.968Z"
   },
   {
    "duration": 15,
    "start_time": "2024-04-26T10:30:46.168Z"
   },
   {
    "duration": 4489,
    "start_time": "2024-04-26T10:30:50.885Z"
   },
   {
    "duration": 569,
    "start_time": "2024-04-26T10:34:27.312Z"
   },
   {
    "duration": 151,
    "start_time": "2024-04-26T10:34:36.785Z"
   },
   {
    "duration": 132,
    "start_time": "2024-04-26T10:34:49.252Z"
   },
   {
    "duration": 135,
    "start_time": "2024-04-26T10:35:22.211Z"
   },
   {
    "duration": 131,
    "start_time": "2024-04-26T10:35:23.221Z"
   },
   {
    "duration": 5,
    "start_time": "2024-04-26T10:41:20.981Z"
   },
   {
    "duration": 5,
    "start_time": "2024-04-26T10:41:52.161Z"
   },
   {
    "duration": 5,
    "start_time": "2024-04-26T10:42:25.681Z"
   },
   {
    "duration": 12,
    "start_time": "2024-04-26T10:44:19.262Z"
   },
   {
    "duration": 9,
    "start_time": "2024-04-26T10:44:45.715Z"
   },
   {
    "duration": 6,
    "start_time": "2024-04-26T10:45:58.361Z"
   },
   {
    "duration": 6,
    "start_time": "2024-04-26T10:46:06.113Z"
   },
   {
    "duration": 7,
    "start_time": "2024-04-26T10:46:23.096Z"
   },
   {
    "duration": 7,
    "start_time": "2024-04-26T10:46:36.184Z"
   },
   {
    "duration": 6,
    "start_time": "2024-04-26T10:46:42.596Z"
   },
   {
    "duration": 5,
    "start_time": "2024-04-26T10:46:57.865Z"
   },
   {
    "duration": 5,
    "start_time": "2024-04-26T10:48:44.669Z"
   },
   {
    "duration": 7,
    "start_time": "2024-04-26T10:49:09.875Z"
   },
   {
    "duration": 11,
    "start_time": "2024-04-26T10:50:12.735Z"
   },
   {
    "duration": 9,
    "start_time": "2024-04-26T10:50:20.598Z"
   },
   {
    "duration": 24,
    "start_time": "2024-04-26T10:50:30.580Z"
   },
   {
    "duration": 30,
    "start_time": "2024-04-26T10:51:30.984Z"
   },
   {
    "duration": 23,
    "start_time": "2024-04-26T10:52:42.784Z"
   },
   {
    "duration": 22,
    "start_time": "2024-04-26T10:53:24.450Z"
   },
   {
    "duration": 210,
    "start_time": "2024-04-26T10:55:33.984Z"
   },
   {
    "duration": 17,
    "start_time": "2024-04-26T10:58:16.359Z"
   },
   {
    "duration": 4,
    "start_time": "2024-04-26T10:58:59.861Z"
   },
   {
    "duration": 4,
    "start_time": "2024-04-26T10:59:20.206Z"
   },
   {
    "duration": 4,
    "start_time": "2024-04-26T10:59:28.239Z"
   },
   {
    "duration": 11,
    "start_time": "2024-04-26T11:00:13.611Z"
   },
   {
    "duration": 24,
    "start_time": "2024-04-26T11:00:32.047Z"
   },
   {
    "duration": 25,
    "start_time": "2024-04-26T11:00:54.905Z"
   },
   {
    "duration": 24,
    "start_time": "2024-04-26T11:02:25.127Z"
   },
   {
    "duration": 26,
    "start_time": "2024-04-26T11:02:25.343Z"
   },
   {
    "duration": 7,
    "start_time": "2024-04-26T11:02:42.260Z"
   },
   {
    "duration": 7,
    "start_time": "2024-04-26T11:02:48.916Z"
   },
   {
    "duration": 6,
    "start_time": "2024-04-26T11:03:15.573Z"
   },
   {
    "duration": 5,
    "start_time": "2024-04-26T11:03:41.458Z"
   },
   {
    "duration": 12,
    "start_time": "2024-04-26T11:05:08.282Z"
   },
   {
    "duration": 165,
    "start_time": "2024-04-26T11:11:43.916Z"
   },
   {
    "duration": 129,
    "start_time": "2024-04-26T11:12:49.880Z"
   },
   {
    "duration": 128,
    "start_time": "2024-04-26T11:14:17.694Z"
   },
   {
    "duration": 1208,
    "start_time": "2024-04-26T11:18:16.548Z"
   },
   {
    "duration": 58,
    "start_time": "2024-04-26T11:18:17.758Z"
   },
   {
    "duration": 19,
    "start_time": "2024-04-26T11:18:17.818Z"
   },
   {
    "duration": 19,
    "start_time": "2024-04-26T11:18:17.838Z"
   },
   {
    "duration": 53,
    "start_time": "2024-04-26T11:18:17.858Z"
   },
   {
    "duration": 32,
    "start_time": "2024-04-26T11:18:17.912Z"
   },
   {
    "duration": 36,
    "start_time": "2024-04-26T11:18:17.946Z"
   },
   {
    "duration": 18,
    "start_time": "2024-04-26T11:18:18.576Z"
   },
   {
    "duration": 5,
    "start_time": "2024-04-26T11:18:19.106Z"
   },
   {
    "duration": 6,
    "start_time": "2024-04-26T11:18:19.492Z"
   },
   {
    "duration": 7,
    "start_time": "2024-04-26T11:18:19.916Z"
   },
   {
    "duration": 4,
    "start_time": "2024-04-26T11:18:20.365Z"
   },
   {
    "duration": 20,
    "start_time": "2024-04-26T11:18:20.818Z"
   },
   {
    "duration": 18,
    "start_time": "2024-04-26T11:18:21.106Z"
   },
   {
    "duration": 10,
    "start_time": "2024-04-26T11:18:22.131Z"
   },
   {
    "duration": 18,
    "start_time": "2024-04-26T11:18:22.715Z"
   },
   {
    "duration": 9,
    "start_time": "2024-04-26T11:18:23.448Z"
   },
   {
    "duration": 344,
    "start_time": "2024-04-26T11:18:23.580Z"
   },
   {
    "duration": 14,
    "start_time": "2024-04-26T11:18:24.432Z"
   },
   {
    "duration": 146,
    "start_time": "2024-04-26T11:18:24.755Z"
   },
   {
    "duration": 157,
    "start_time": "2024-04-26T11:18:25.033Z"
   },
   {
    "duration": 155,
    "start_time": "2024-04-26T11:18:25.594Z"
   },
   {
    "duration": 142,
    "start_time": "2024-04-26T11:18:25.871Z"
   },
   {
    "duration": 160,
    "start_time": "2024-04-26T11:18:26.184Z"
   },
   {
    "duration": 23,
    "start_time": "2024-04-26T11:18:26.915Z"
   },
   {
    "duration": 17,
    "start_time": "2024-04-26T11:18:27.499Z"
   },
   {
    "duration": 134,
    "start_time": "2024-04-26T11:18:27.819Z"
   },
   {
    "duration": 143,
    "start_time": "2024-04-26T11:18:27.957Z"
   },
   {
    "duration": 236,
    "start_time": "2024-04-26T11:18:28.103Z"
   },
   {
    "duration": 135,
    "start_time": "2024-04-26T11:18:28.408Z"
   },
   {
    "duration": 162,
    "start_time": "2024-04-26T11:18:28.545Z"
   },
   {
    "duration": 238,
    "start_time": "2024-04-26T11:18:28.952Z"
   },
   {
    "duration": 138,
    "start_time": "2024-04-26T11:18:29.551Z"
   },
   {
    "duration": 157,
    "start_time": "2024-04-26T11:18:29.690Z"
   },
   {
    "duration": 148,
    "start_time": "2024-04-26T11:18:29.955Z"
   },
   {
    "duration": 127,
    "start_time": "2024-04-26T11:18:30.116Z"
   },
   {
    "duration": 93,
    "start_time": "2024-04-26T11:18:30.246Z"
   },
   {
    "duration": 5,
    "start_time": "2024-04-26T11:18:30.412Z"
   },
   {
    "duration": 6,
    "start_time": "2024-04-26T11:18:31.150Z"
   },
   {
    "duration": 4,
    "start_time": "2024-04-26T11:18:41.483Z"
   },
   {
    "duration": 5,
    "start_time": "2024-04-26T11:18:41.668Z"
   },
   {
    "duration": 167,
    "start_time": "2024-04-26T11:20:41.636Z"
   },
   {
    "duration": 146,
    "start_time": "2024-04-26T11:21:40.580Z"
   },
   {
    "duration": 66,
    "start_time": "2024-04-26T11:23:56.713Z"
   },
   {
    "duration": 87,
    "start_time": "2024-04-26T11:24:04.992Z"
   },
   {
    "duration": 70,
    "start_time": "2024-04-26T11:24:13.173Z"
   },
   {
    "duration": 76,
    "start_time": "2024-04-26T11:24:24.788Z"
   },
   {
    "duration": 81,
    "start_time": "2024-04-26T11:24:30.471Z"
   },
   {
    "duration": 8,
    "start_time": "2024-04-26T11:24:43.245Z"
   },
   {
    "duration": 12,
    "start_time": "2024-04-26T11:24:56.927Z"
   },
   {
    "duration": 12,
    "start_time": "2024-04-26T11:25:30.629Z"
   },
   {
    "duration": 205,
    "start_time": "2024-04-26T11:26:19.765Z"
   },
   {
    "duration": 141,
    "start_time": "2024-04-26T11:26:20.613Z"
   },
   {
    "duration": 74,
    "start_time": "2024-04-26T11:27:07.768Z"
   },
   {
    "duration": 25,
    "start_time": "2024-04-26T11:27:22.441Z"
   },
   {
    "duration": 167,
    "start_time": "2024-04-26T11:30:53.843Z"
   },
   {
    "duration": 152,
    "start_time": "2024-04-26T11:31:10.820Z"
   },
   {
    "duration": 133,
    "start_time": "2024-04-26T11:31:11.844Z"
   },
   {
    "duration": 5,
    "start_time": "2024-04-26T11:31:13.092Z"
   },
   {
    "duration": 5,
    "start_time": "2024-04-26T11:31:29.212Z"
   },
   {
    "duration": 5,
    "start_time": "2024-04-26T11:31:52.404Z"
   },
   {
    "duration": 155,
    "start_time": "2024-04-26T11:32:11.127Z"
   },
   {
    "duration": 157,
    "start_time": "2024-04-26T11:32:28.543Z"
   },
   {
    "duration": 5,
    "start_time": "2024-04-26T11:33:05.782Z"
   },
   {
    "duration": 5,
    "start_time": "2024-04-26T11:33:19.609Z"
   },
   {
    "duration": 173,
    "start_time": "2024-04-26T11:34:17.963Z"
   },
   {
    "duration": 153,
    "start_time": "2024-04-26T11:34:41.009Z"
   },
   {
    "duration": 6,
    "start_time": "2024-04-26T11:35:13.052Z"
   },
   {
    "duration": 5,
    "start_time": "2024-04-26T11:35:33.049Z"
   },
   {
    "duration": 98,
    "start_time": "2024-04-26T11:36:07.193Z"
   },
   {
    "duration": 5,
    "start_time": "2024-04-26T11:36:11.901Z"
   },
   {
    "duration": 8,
    "start_time": "2024-04-26T11:36:12.447Z"
   },
   {
    "duration": 1129,
    "start_time": "2024-04-26T11:36:42.409Z"
   },
   {
    "duration": 58,
    "start_time": "2024-04-26T11:36:43.540Z"
   },
   {
    "duration": 19,
    "start_time": "2024-04-26T11:36:43.600Z"
   },
   {
    "duration": 8,
    "start_time": "2024-04-26T11:36:43.621Z"
   },
   {
    "duration": 22,
    "start_time": "2024-04-26T11:36:43.630Z"
   },
   {
    "duration": 39,
    "start_time": "2024-04-26T11:36:43.654Z"
   },
   {
    "duration": 9,
    "start_time": "2024-04-26T11:36:43.694Z"
   },
   {
    "duration": 17,
    "start_time": "2024-04-26T11:36:44.262Z"
   },
   {
    "duration": 5,
    "start_time": "2024-04-26T11:36:44.778Z"
   },
   {
    "duration": 6,
    "start_time": "2024-04-26T11:36:45.194Z"
   },
   {
    "duration": 9,
    "start_time": "2024-04-26T11:36:45.463Z"
   },
   {
    "duration": 4,
    "start_time": "2024-04-26T11:36:46.027Z"
   },
   {
    "duration": 21,
    "start_time": "2024-04-26T11:36:46.277Z"
   },
   {
    "duration": 20,
    "start_time": "2024-04-26T11:36:46.573Z"
   },
   {
    "duration": 10,
    "start_time": "2024-04-26T11:36:47.249Z"
   },
   {
    "duration": 18,
    "start_time": "2024-04-26T11:36:47.820Z"
   },
   {
    "duration": 9,
    "start_time": "2024-04-26T11:36:48.385Z"
   },
   {
    "duration": 337,
    "start_time": "2024-04-26T11:36:48.521Z"
   },
   {
    "duration": 13,
    "start_time": "2024-04-26T11:36:49.826Z"
   },
   {
    "duration": 153,
    "start_time": "2024-04-26T11:36:50.117Z"
   },
   {
    "duration": 175,
    "start_time": "2024-04-26T11:36:50.383Z"
   },
   {
    "duration": 164,
    "start_time": "2024-04-26T11:36:50.931Z"
   },
   {
    "duration": 148,
    "start_time": "2024-04-26T11:36:51.220Z"
   },
   {
    "duration": 186,
    "start_time": "2024-04-26T11:36:51.480Z"
   },
   {
    "duration": 23,
    "start_time": "2024-04-26T11:36:52.663Z"
   },
   {
    "duration": 14,
    "start_time": "2024-04-26T11:36:53.216Z"
   },
   {
    "duration": 138,
    "start_time": "2024-04-26T11:36:54.245Z"
   },
   {
    "duration": 127,
    "start_time": "2024-04-26T11:36:54.410Z"
   },
   {
    "duration": 206,
    "start_time": "2024-04-26T11:36:54.549Z"
   },
   {
    "duration": 146,
    "start_time": "2024-04-26T11:36:54.758Z"
   },
   {
    "duration": 150,
    "start_time": "2024-04-26T11:36:54.906Z"
   },
   {
    "duration": 235,
    "start_time": "2024-04-26T11:36:55.259Z"
   },
   {
    "duration": 133,
    "start_time": "2024-04-26T11:36:56.665Z"
   },
   {
    "duration": 135,
    "start_time": "2024-04-26T11:36:56.817Z"
   },
   {
    "duration": 6,
    "start_time": "2024-04-26T11:36:57.015Z"
   },
   {
    "duration": 6,
    "start_time": "2024-04-26T11:36:57.342Z"
   },
   {
    "duration": 148,
    "start_time": "2024-04-26T11:36:57.645Z"
   },
   {
    "duration": 149,
    "start_time": "2024-04-26T11:36:59.111Z"
   },
   {
    "duration": 4,
    "start_time": "2024-04-26T11:36:59.965Z"
   },
   {
    "duration": 4,
    "start_time": "2024-04-26T11:37:00.489Z"
   },
   {
    "duration": 155,
    "start_time": "2024-04-26T11:37:01.014Z"
   },
   {
    "duration": 167,
    "start_time": "2024-04-26T11:37:01.235Z"
   },
   {
    "duration": 6,
    "start_time": "2024-04-26T11:37:01.538Z"
   },
   {
    "duration": 5,
    "start_time": "2024-04-26T11:37:02.278Z"
   },
   {
    "duration": 6,
    "start_time": "2024-04-26T11:37:08.352Z"
   },
   {
    "duration": 5,
    "start_time": "2024-04-26T11:37:09.410Z"
   },
   {
    "duration": 5,
    "start_time": "2024-04-26T11:37:33.895Z"
   },
   {
    "duration": 6,
    "start_time": "2024-04-26T11:41:20.612Z"
   },
   {
    "duration": 5,
    "start_time": "2024-04-26T11:41:20.740Z"
   },
   {
    "duration": 7,
    "start_time": "2024-04-26T11:46:35.049Z"
   },
   {
    "duration": 7,
    "start_time": "2024-04-26T11:46:47.507Z"
   },
   {
    "duration": 22,
    "start_time": "2024-04-26T11:47:01.440Z"
   },
   {
    "duration": 6,
    "start_time": "2024-04-26T11:47:03.917Z"
   },
   {
    "duration": 342,
    "start_time": "2024-04-26T11:47:05.393Z"
   },
   {
    "duration": 22,
    "start_time": "2024-04-26T12:11:32.612Z"
   },
   {
    "duration": 112,
    "start_time": "2024-04-26T12:12:21.021Z"
   },
   {
    "duration": 20,
    "start_time": "2024-04-26T12:12:32.948Z"
   },
   {
    "duration": 5,
    "start_time": "2024-04-26T12:12:55.099Z"
   },
   {
    "duration": 248,
    "start_time": "2024-04-26T12:15:19.850Z"
   },
   {
    "duration": 248,
    "start_time": "2024-04-26T12:17:05.278Z"
   },
   {
    "duration": 246,
    "start_time": "2024-04-26T12:17:11.795Z"
   },
   {
    "duration": 252,
    "start_time": "2024-04-26T12:17:15.632Z"
   },
   {
    "duration": 258,
    "start_time": "2024-04-26T12:18:17.055Z"
   },
   {
    "duration": 247,
    "start_time": "2024-04-26T12:18:36.536Z"
   },
   {
    "duration": 23,
    "start_time": "2024-04-26T12:20:19.859Z"
   },
   {
    "duration": 21,
    "start_time": "2024-04-26T12:20:29.483Z"
   },
   {
    "duration": 10,
    "start_time": "2024-04-26T12:20:43.574Z"
   },
   {
    "duration": 28,
    "start_time": "2024-04-26T12:26:04.550Z"
   },
   {
    "duration": 6,
    "start_time": "2024-04-26T12:26:08.787Z"
   },
   {
    "duration": 30,
    "start_time": "2024-04-26T12:27:38.312Z"
   },
   {
    "duration": 31,
    "start_time": "2024-04-26T12:31:07.878Z"
   },
   {
    "duration": 30,
    "start_time": "2024-04-26T12:32:47.514Z"
   },
   {
    "duration": 1185,
    "start_time": "2024-04-26T12:33:05.824Z"
   },
   {
    "duration": 1207,
    "start_time": "2024-04-26T12:33:53.962Z"
   },
   {
    "duration": 59,
    "start_time": "2024-04-26T12:33:55.171Z"
   },
   {
    "duration": 20,
    "start_time": "2024-04-26T12:33:55.232Z"
   },
   {
    "duration": 3,
    "start_time": "2024-04-26T12:33:55.254Z"
   },
   {
    "duration": 20,
    "start_time": "2024-04-26T12:33:55.259Z"
   },
   {
    "duration": 24,
    "start_time": "2024-04-26T12:33:55.280Z"
   },
   {
    "duration": 10,
    "start_time": "2024-04-26T12:33:55.306Z"
   },
   {
    "duration": 19,
    "start_time": "2024-04-26T12:33:55.955Z"
   },
   {
    "duration": 5,
    "start_time": "2024-04-26T12:33:56.494Z"
   },
   {
    "duration": 6,
    "start_time": "2024-04-26T12:33:56.900Z"
   },
   {
    "duration": 8,
    "start_time": "2024-04-26T12:33:57.129Z"
   },
   {
    "duration": 4,
    "start_time": "2024-04-26T12:33:57.587Z"
   },
   {
    "duration": 20,
    "start_time": "2024-04-26T12:33:57.837Z"
   },
   {
    "duration": 20,
    "start_time": "2024-04-26T12:33:58.189Z"
   },
   {
    "duration": 10,
    "start_time": "2024-04-26T12:33:58.812Z"
   },
   {
    "duration": 19,
    "start_time": "2024-04-26T12:33:59.349Z"
   },
   {
    "duration": 10,
    "start_time": "2024-04-26T12:33:59.914Z"
   },
   {
    "duration": 345,
    "start_time": "2024-04-26T12:34:00.058Z"
   },
   {
    "duration": 15,
    "start_time": "2024-04-26T12:34:01.386Z"
   },
   {
    "duration": 151,
    "start_time": "2024-04-26T12:34:01.713Z"
   },
   {
    "duration": 173,
    "start_time": "2024-04-26T12:34:01.967Z"
   },
   {
    "duration": 163,
    "start_time": "2024-04-26T12:34:02.561Z"
   },
   {
    "duration": 149,
    "start_time": "2024-04-26T12:34:02.831Z"
   },
   {
    "duration": 164,
    "start_time": "2024-04-26T12:34:03.159Z"
   },
   {
    "duration": 26,
    "start_time": "2024-04-26T12:34:03.847Z"
   },
   {
    "duration": 14,
    "start_time": "2024-04-26T12:34:04.427Z"
   },
   {
    "duration": 137,
    "start_time": "2024-04-26T12:34:04.713Z"
   },
   {
    "duration": 146,
    "start_time": "2024-04-26T12:34:04.976Z"
   },
   {
    "duration": 213,
    "start_time": "2024-04-26T12:34:05.127Z"
   },
   {
    "duration": 146,
    "start_time": "2024-04-26T12:34:05.342Z"
   },
   {
    "duration": 139,
    "start_time": "2024-04-26T12:34:05.591Z"
   },
   {
    "duration": 246,
    "start_time": "2024-04-26T12:34:06.030Z"
   },
   {
    "duration": 141,
    "start_time": "2024-04-26T12:34:06.608Z"
   },
   {
    "duration": 156,
    "start_time": "2024-04-26T12:34:06.777Z"
   },
   {
    "duration": 5,
    "start_time": "2024-04-26T12:34:07.460Z"
   },
   {
    "duration": 5,
    "start_time": "2024-04-26T12:34:07.629Z"
   },
   {
    "duration": 158,
    "start_time": "2024-04-26T12:34:07.943Z"
   },
   {
    "duration": 143,
    "start_time": "2024-04-26T12:34:08.224Z"
   },
   {
    "duration": 4,
    "start_time": "2024-04-26T12:34:08.441Z"
   },
   {
    "duration": 4,
    "start_time": "2024-04-26T12:34:08.775Z"
   },
   {
    "duration": 148,
    "start_time": "2024-04-26T12:34:09.108Z"
   },
   {
    "duration": 159,
    "start_time": "2024-04-26T12:34:09.262Z"
   },
   {
    "duration": 5,
    "start_time": "2024-04-26T12:34:09.442Z"
   },
   {
    "duration": 7,
    "start_time": "2024-04-26T12:34:09.928Z"
   },
   {
    "duration": 6,
    "start_time": "2024-04-26T12:34:10.276Z"
   },
   {
    "duration": 4,
    "start_time": "2024-04-26T12:34:10.709Z"
   },
   {
    "duration": 20,
    "start_time": "2024-04-26T12:34:12.762Z"
   },
   {
    "duration": 6,
    "start_time": "2024-04-26T12:34:13.575Z"
   },
   {
    "duration": 355,
    "start_time": "2024-04-26T12:34:14.092Z"
   },
   {
    "duration": 8,
    "start_time": "2024-04-26T12:34:14.476Z"
   },
   {
    "duration": 30,
    "start_time": "2024-04-26T12:34:16.942Z"
   },
   {
    "duration": 1184,
    "start_time": "2024-04-26T12:34:18.612Z"
   },
   {
    "duration": 1245,
    "start_time": "2024-04-26T12:34:57.979Z"
   },
   {
    "duration": 1254,
    "start_time": "2024-04-26T12:35:02.459Z"
   },
   {
    "duration": 1186,
    "start_time": "2024-04-26T12:35:11.002Z"
   },
   {
    "duration": 1110,
    "start_time": "2024-04-26T12:35:44.980Z"
   },
   {
    "duration": 33,
    "start_time": "2024-04-26T12:35:57.993Z"
   },
   {
    "duration": 1163,
    "start_time": "2024-04-26T12:36:13.703Z"
   },
   {
    "duration": 6,
    "start_time": "2024-04-26T12:36:22.303Z"
   },
   {
    "duration": 31,
    "start_time": "2024-04-26T12:37:50.814Z"
   },
   {
    "duration": 5,
    "start_time": "2024-04-26T12:37:56.697Z"
   },
   {
    "duration": 26,
    "start_time": "2024-04-26T12:39:02.968Z"
   },
   {
    "duration": 39,
    "start_time": "2024-04-26T12:41:19.196Z"
   },
   {
    "duration": 35,
    "start_time": "2024-04-26T12:42:33.812Z"
   },
   {
    "duration": 6,
    "start_time": "2024-04-26T12:43:21.386Z"
   },
   {
    "duration": 1077,
    "start_time": "2024-04-26T12:44:57.715Z"
   },
   {
    "duration": 6,
    "start_time": "2024-04-26T12:45:17.907Z"
   },
   {
    "duration": 30,
    "start_time": "2024-04-26T12:46:41.195Z"
   },
   {
    "duration": 5,
    "start_time": "2024-04-26T12:46:43.772Z"
   },
   {
    "duration": 6,
    "start_time": "2024-04-26T12:48:15.940Z"
   },
   {
    "duration": 5,
    "start_time": "2024-04-26T12:48:23.584Z"
   },
   {
    "duration": 68,
    "start_time": "2024-04-26T12:56:42.816Z"
   },
   {
    "duration": 78,
    "start_time": "2024-04-26T12:56:51.863Z"
   },
   {
    "duration": 107,
    "start_time": "2024-04-26T12:57:04.641Z"
   },
   {
    "duration": 216,
    "start_time": "2024-04-26T12:57:13.299Z"
   },
   {
    "duration": 260,
    "start_time": "2024-04-26T12:57:34.117Z"
   },
   {
    "duration": 238,
    "start_time": "2024-04-26T12:58:21.558Z"
   },
   {
    "duration": 223,
    "start_time": "2024-04-26T12:58:33.474Z"
   },
   {
    "duration": 182,
    "start_time": "2024-04-26T12:59:17.834Z"
   },
   {
    "duration": 151,
    "start_time": "2024-04-26T12:59:40.203Z"
   },
   {
    "duration": 142,
    "start_time": "2024-04-26T12:59:52.412Z"
   },
   {
    "duration": 144,
    "start_time": "2024-04-26T12:59:56.075Z"
   },
   {
    "duration": 9,
    "start_time": "2024-04-26T13:00:42.669Z"
   },
   {
    "duration": 9,
    "start_time": "2024-04-26T13:01:38.522Z"
   },
   {
    "duration": 183,
    "start_time": "2024-04-26T13:05:43.465Z"
   },
   {
    "duration": 129,
    "start_time": "2024-04-26T13:06:41.407Z"
   },
   {
    "duration": 124,
    "start_time": "2024-04-26T13:07:07.623Z"
   },
   {
    "duration": 216,
    "start_time": "2024-04-26T13:08:03.237Z"
   },
   {
    "duration": 14,
    "start_time": "2024-04-26T13:08:56.034Z"
   },
   {
    "duration": 137,
    "start_time": "2024-04-26T13:09:04.370Z"
   },
   {
    "duration": 141,
    "start_time": "2024-04-26T13:13:18.839Z"
   },
   {
    "duration": 133,
    "start_time": "2024-04-26T13:14:20.641Z"
   },
   {
    "duration": 125,
    "start_time": "2024-04-26T13:14:58.311Z"
   },
   {
    "duration": 154,
    "start_time": "2024-04-26T13:15:47.350Z"
   },
   {
    "duration": 156,
    "start_time": "2024-04-26T13:15:53.487Z"
   },
   {
    "duration": 151,
    "start_time": "2024-04-26T13:18:46.322Z"
   },
   {
    "duration": 128,
    "start_time": "2024-04-26T13:26:17.133Z"
   },
   {
    "duration": 3,
    "start_time": "2024-04-26T13:26:26.866Z"
   },
   {
    "duration": 4,
    "start_time": "2024-04-26T13:27:45.018Z"
   },
   {
    "duration": 6,
    "start_time": "2024-04-26T13:28:53.580Z"
   },
   {
    "duration": 25,
    "start_time": "2024-04-26T13:39:20.645Z"
   },
   {
    "duration": 5,
    "start_time": "2024-04-26T13:39:28.250Z"
   },
   {
    "duration": 6,
    "start_time": "2024-04-26T13:39:31.829Z"
   },
   {
    "duration": 5,
    "start_time": "2024-04-26T13:39:32.354Z"
   },
   {
    "duration": 17,
    "start_time": "2024-04-26T13:39:33.605Z"
   },
   {
    "duration": 6,
    "start_time": "2024-04-26T13:39:35.201Z"
   },
   {
    "duration": 26,
    "start_time": "2024-04-26T13:40:54.370Z"
   },
   {
    "duration": 6,
    "start_time": "2024-04-26T13:41:30.456Z"
   },
   {
    "duration": 6,
    "start_time": "2024-04-26T13:41:42.237Z"
   },
   {
    "duration": 6,
    "start_time": "2024-04-26T13:41:48.353Z"
   },
   {
    "duration": 121,
    "start_time": "2024-04-26T13:45:21.413Z"
   },
   {
    "duration": 194,
    "start_time": "2024-04-26T13:45:53.873Z"
   },
   {
    "duration": 131,
    "start_time": "2024-04-26T13:46:32.390Z"
   },
   {
    "duration": 125,
    "start_time": "2024-04-26T13:46:44.184Z"
   },
   {
    "duration": 15,
    "start_time": "2024-04-26T13:46:57.923Z"
   },
   {
    "duration": 6,
    "start_time": "2024-04-26T13:46:58.938Z"
   },
   {
    "duration": 6,
    "start_time": "2024-04-26T13:46:59.492Z"
   },
   {
    "duration": 6,
    "start_time": "2024-04-26T13:47:00.122Z"
   },
   {
    "duration": 23,
    "start_time": "2024-04-26T13:52:39.662Z"
   },
   {
    "duration": 6,
    "start_time": "2024-04-26T13:52:44.452Z"
   },
   {
    "duration": 126,
    "start_time": "2024-04-26T13:52:45.627Z"
   },
   {
    "duration": 6,
    "start_time": "2024-04-26T13:52:46.609Z"
   },
   {
    "duration": 218,
    "start_time": "2024-04-26T13:52:48.793Z"
   },
   {
    "duration": 6,
    "start_time": "2024-04-26T13:52:49.529Z"
   },
   {
    "duration": 128,
    "start_time": "2024-04-26T13:52:49.811Z"
   },
   {
    "duration": 15,
    "start_time": "2024-04-26T13:52:50.502Z"
   },
   {
    "duration": 14,
    "start_time": "2024-04-26T13:52:59.329Z"
   },
   {
    "duration": 5,
    "start_time": "2024-04-26T13:53:01.851Z"
   },
   {
    "duration": 6,
    "start_time": "2024-04-26T13:53:02.033Z"
   },
   {
    "duration": 5,
    "start_time": "2024-04-26T13:53:02.197Z"
   },
   {
    "duration": 16,
    "start_time": "2024-04-26T13:57:39.744Z"
   },
   {
    "duration": 70,
    "start_time": "2024-04-26T13:58:56.004Z"
   },
   {
    "duration": 103,
    "start_time": "2024-04-26T14:07:21.559Z"
   },
   {
    "duration": 204,
    "start_time": "2024-04-26T14:07:27.645Z"
   },
   {
    "duration": 255,
    "start_time": "2024-04-26T14:08:09.972Z"
   },
   {
    "duration": 8,
    "start_time": "2024-04-26T14:15:45.239Z"
   },
   {
    "duration": 5,
    "start_time": "2024-04-26T14:15:45.958Z"
   },
   {
    "duration": 7,
    "start_time": "2024-04-26T14:16:34.731Z"
   },
   {
    "duration": 5,
    "start_time": "2024-04-26T14:16:36.257Z"
   },
   {
    "duration": 8,
    "start_time": "2024-04-26T14:17:18.109Z"
   },
   {
    "duration": 5,
    "start_time": "2024-04-26T14:17:18.551Z"
   },
   {
    "duration": 10,
    "start_time": "2024-04-26T14:18:57.848Z"
   },
   {
    "duration": 1158,
    "start_time": "2024-04-26T14:20:32.096Z"
   },
   {
    "duration": 57,
    "start_time": "2024-04-26T14:20:33.578Z"
   },
   {
    "duration": 19,
    "start_time": "2024-04-26T14:20:34.463Z"
   },
   {
    "duration": 3,
    "start_time": "2024-04-26T14:20:34.724Z"
   },
   {
    "duration": 15,
    "start_time": "2024-04-26T14:20:35.084Z"
   },
   {
    "duration": 21,
    "start_time": "2024-04-26T14:20:35.553Z"
   },
   {
    "duration": 10,
    "start_time": "2024-04-26T14:20:36.323Z"
   },
   {
    "duration": 20,
    "start_time": "2024-04-26T14:20:36.334Z"
   },
   {
    "duration": 5,
    "start_time": "2024-04-26T14:20:36.844Z"
   },
   {
    "duration": 7,
    "start_time": "2024-04-26T14:20:37.305Z"
   },
   {
    "duration": 7,
    "start_time": "2024-04-26T14:20:37.578Z"
   },
   {
    "duration": 3,
    "start_time": "2024-04-26T14:20:38.111Z"
   },
   {
    "duration": 22,
    "start_time": "2024-04-26T14:20:38.421Z"
   },
   {
    "duration": 19,
    "start_time": "2024-04-26T14:20:38.766Z"
   },
   {
    "duration": 10,
    "start_time": "2024-04-26T14:20:39.620Z"
   },
   {
    "duration": 18,
    "start_time": "2024-04-26T14:20:40.203Z"
   },
   {
    "duration": 9,
    "start_time": "2024-04-26T14:20:41.002Z"
   },
   {
    "duration": 348,
    "start_time": "2024-04-26T14:20:41.170Z"
   },
   {
    "duration": 14,
    "start_time": "2024-04-26T14:20:42.087Z"
   },
   {
    "duration": 149,
    "start_time": "2024-04-26T14:20:42.478Z"
   },
   {
    "duration": 161,
    "start_time": "2024-04-26T14:20:42.820Z"
   },
   {
    "duration": 158,
    "start_time": "2024-04-26T14:20:43.402Z"
   },
   {
    "duration": 143,
    "start_time": "2024-04-26T14:20:43.736Z"
   },
   {
    "duration": 154,
    "start_time": "2024-04-26T14:20:44.340Z"
   },
   {
    "duration": 23,
    "start_time": "2024-04-26T14:21:03.370Z"
   },
   {
    "duration": 14,
    "start_time": "2024-04-26T14:21:05.994Z"
   },
   {
    "duration": 134,
    "start_time": "2024-04-26T14:21:06.252Z"
   },
   {
    "duration": 156,
    "start_time": "2024-04-26T14:21:06.388Z"
   },
   {
    "duration": 217,
    "start_time": "2024-04-26T14:21:06.546Z"
   },
   {
    "duration": 157,
    "start_time": "2024-04-26T14:21:06.765Z"
   },
   {
    "duration": 152,
    "start_time": "2024-04-26T14:21:06.924Z"
   },
   {
    "duration": 239,
    "start_time": "2024-04-26T14:21:07.210Z"
   },
   {
    "duration": 138,
    "start_time": "2024-04-26T14:21:07.762Z"
   },
   {
    "duration": 155,
    "start_time": "2024-04-26T14:21:07.902Z"
   },
   {
    "duration": 4,
    "start_time": "2024-04-26T14:21:08.286Z"
   },
   {
    "duration": 4,
    "start_time": "2024-04-26T14:21:08.368Z"
   },
   {
    "duration": 158,
    "start_time": "2024-04-26T14:21:08.684Z"
   },
   {
    "duration": 140,
    "start_time": "2024-04-26T14:21:09.138Z"
   },
   {
    "duration": 5,
    "start_time": "2024-04-26T14:21:09.996Z"
   },
   {
    "duration": 4,
    "start_time": "2024-04-26T14:21:10.280Z"
   },
   {
    "duration": 157,
    "start_time": "2024-04-26T14:21:10.908Z"
   },
   {
    "duration": 157,
    "start_time": "2024-04-26T14:21:11.067Z"
   },
   {
    "duration": 5,
    "start_time": "2024-04-26T14:21:11.432Z"
   },
   {
    "duration": 5,
    "start_time": "2024-04-26T14:21:11.667Z"
   },
   {
    "duration": 5,
    "start_time": "2024-04-26T14:21:11.956Z"
   },
   {
    "duration": 5,
    "start_time": "2024-04-26T14:21:12.024Z"
   },
   {
    "duration": 23,
    "start_time": "2024-04-26T14:21:12.539Z"
   },
   {
    "duration": 5,
    "start_time": "2024-04-26T14:21:12.810Z"
   },
   {
    "duration": 350,
    "start_time": "2024-04-26T14:21:13.005Z"
   },
   {
    "duration": 10,
    "start_time": "2024-04-26T14:21:13.356Z"
   },
   {
    "duration": 31,
    "start_time": "2024-04-26T14:21:13.856Z"
   },
   {
    "duration": 5,
    "start_time": "2024-04-26T14:21:14.190Z"
   },
   {
    "duration": 130,
    "start_time": "2024-04-26T14:21:14.382Z"
   },
   {
    "duration": 163,
    "start_time": "2024-04-26T14:21:14.513Z"
   },
   {
    "duration": 9,
    "start_time": "2024-04-26T14:21:14.906Z"
   },
   {
    "duration": 6,
    "start_time": "2024-04-26T14:21:15.064Z"
   },
   {
    "duration": 131,
    "start_time": "2024-04-26T14:21:15.271Z"
   },
   {
    "duration": 159,
    "start_time": "2024-04-26T14:21:15.404Z"
   },
   {
    "duration": 6,
    "start_time": "2024-04-26T14:21:15.588Z"
   },
   {
    "duration": 125,
    "start_time": "2024-04-26T14:21:16.136Z"
   },
   {
    "duration": 147,
    "start_time": "2024-04-26T14:21:16.280Z"
   },
   {
    "duration": 6,
    "start_time": "2024-04-26T14:21:16.616Z"
   },
   {
    "duration": 24,
    "start_time": "2024-04-26T14:21:16.883Z"
   },
   {
    "duration": 6,
    "start_time": "2024-04-26T14:21:17.155Z"
   },
   {
    "duration": 146,
    "start_time": "2024-04-26T14:21:17.255Z"
   },
   {
    "duration": 6,
    "start_time": "2024-04-26T14:21:17.402Z"
   },
   {
    "duration": 130,
    "start_time": "2024-04-26T14:21:17.495Z"
   },
   {
    "duration": 6,
    "start_time": "2024-04-26T14:21:17.626Z"
   },
   {
    "duration": 143,
    "start_time": "2024-04-26T14:21:17.757Z"
   },
   {
    "duration": 14,
    "start_time": "2024-04-26T14:21:18.056Z"
   },
   {
    "duration": 5,
    "start_time": "2024-04-26T14:21:18.288Z"
   },
   {
    "duration": 5,
    "start_time": "2024-04-26T14:21:18.506Z"
   },
   {
    "duration": 5,
    "start_time": "2024-04-26T14:21:18.620Z"
   },
   {
    "duration": 226,
    "start_time": "2024-04-26T14:21:18.714Z"
   },
   {
    "duration": 10,
    "start_time": "2024-04-26T14:21:19.789Z"
   },
   {
    "duration": 6,
    "start_time": "2024-04-26T14:21:19.946Z"
   },
   {
    "duration": 5,
    "start_time": "2024-04-26T14:21:20.113Z"
   },
   {
    "duration": 7,
    "start_time": "2024-04-26T14:21:20.711Z"
   },
   {
    "duration": 6,
    "start_time": "2024-04-26T14:21:20.854Z"
   },
   {
    "duration": 1187,
    "start_time": "2024-04-26T14:28:13.105Z"
   },
   {
    "duration": 15,
    "start_time": "2024-04-26T14:28:27.181Z"
   },
   {
    "duration": 1304,
    "start_time": "2024-04-26T14:28:40.020Z"
   },
   {
    "duration": 17,
    "start_time": "2024-04-26T14:29:28.317Z"
   },
   {
    "duration": 4,
    "start_time": "2024-04-26T14:30:12.551Z"
   },
   {
    "duration": 94,
    "start_time": "2024-04-26T14:30:31.052Z"
   },
   {
    "duration": 12,
    "start_time": "2024-04-26T14:32:29.930Z"
   },
   {
    "duration": 7,
    "start_time": "2024-04-26T14:32:50.043Z"
   },
   {
    "duration": 5,
    "start_time": "2024-04-26T14:32:50.986Z"
   },
   {
    "duration": 7,
    "start_time": "2024-04-26T14:33:15.357Z"
   },
   {
    "duration": 8,
    "start_time": "2024-04-26T14:33:35.220Z"
   },
   {
    "duration": 6,
    "start_time": "2024-04-26T14:33:36.744Z"
   },
   {
    "duration": 8,
    "start_time": "2024-04-26T14:36:28.637Z"
   },
   {
    "duration": 4,
    "start_time": "2024-04-26T14:36:43.212Z"
   },
   {
    "duration": 5,
    "start_time": "2024-04-26T14:37:00.607Z"
   },
   {
    "duration": 1187,
    "start_time": "2024-04-26T15:02:56.079Z"
   },
   {
    "duration": 59,
    "start_time": "2024-04-26T15:02:57.268Z"
   },
   {
    "duration": 19,
    "start_time": "2024-04-26T15:02:57.329Z"
   },
   {
    "duration": 4,
    "start_time": "2024-04-26T15:02:57.350Z"
   },
   {
    "duration": 28,
    "start_time": "2024-04-26T15:02:57.355Z"
   },
   {
    "duration": 20,
    "start_time": "2024-04-26T15:02:57.384Z"
   },
   {
    "duration": 10,
    "start_time": "2024-04-26T15:02:57.469Z"
   },
   {
    "duration": 18,
    "start_time": "2024-04-26T15:02:58.160Z"
   },
   {
    "duration": 5,
    "start_time": "2024-04-26T15:02:58.774Z"
   },
   {
    "duration": 7,
    "start_time": "2024-04-26T15:02:59.222Z"
   },
   {
    "duration": 8,
    "start_time": "2024-04-26T15:02:59.556Z"
   },
   {
    "duration": 4,
    "start_time": "2024-04-26T15:03:00.003Z"
   },
   {
    "duration": 22,
    "start_time": "2024-04-26T15:03:00.344Z"
   },
   {
    "duration": 18,
    "start_time": "2024-04-26T15:03:00.675Z"
   },
   {
    "duration": 12,
    "start_time": "2024-04-26T15:03:01.573Z"
   },
   {
    "duration": 19,
    "start_time": "2024-04-26T15:03:02.220Z"
   },
   {
    "duration": 9,
    "start_time": "2024-04-26T15:03:02.845Z"
   },
   {
    "duration": 328,
    "start_time": "2024-04-26T15:03:03.009Z"
   },
   {
    "duration": 17,
    "start_time": "2024-04-26T15:03:03.990Z"
   },
   {
    "duration": 150,
    "start_time": "2024-04-26T15:03:04.388Z"
   },
   {
    "duration": 154,
    "start_time": "2024-04-26T15:03:04.789Z"
   },
   {
    "duration": 159,
    "start_time": "2024-04-26T15:03:05.476Z"
   },
   {
    "duration": 139,
    "start_time": "2024-04-26T15:03:05.830Z"
   },
   {
    "duration": 170,
    "start_time": "2024-04-26T15:03:06.134Z"
   },
   {
    "duration": 23,
    "start_time": "2024-04-26T15:03:07.175Z"
   },
   {
    "duration": 14,
    "start_time": "2024-04-26T15:03:07.821Z"
   },
   {
    "duration": 138,
    "start_time": "2024-04-26T15:03:08.163Z"
   },
   {
    "duration": 134,
    "start_time": "2024-04-26T15:03:08.338Z"
   },
   {
    "duration": 206,
    "start_time": "2024-04-26T15:03:08.579Z"
   },
   {
    "duration": 139,
    "start_time": "2024-04-26T15:03:08.787Z"
   },
   {
    "duration": 144,
    "start_time": "2024-04-26T15:03:09.071Z"
   },
   {
    "duration": 246,
    "start_time": "2024-04-26T15:03:09.543Z"
   },
   {
    "duration": 130,
    "start_time": "2024-04-26T15:03:10.159Z"
   },
   {
    "duration": 128,
    "start_time": "2024-04-26T15:03:10.338Z"
   },
   {
    "duration": 5,
    "start_time": "2024-04-26T15:03:10.493Z"
   },
   {
    "duration": 4,
    "start_time": "2024-04-26T15:03:10.615Z"
   },
   {
    "duration": 138,
    "start_time": "2024-04-26T15:03:11.040Z"
   },
   {
    "duration": 139,
    "start_time": "2024-04-26T15:03:11.234Z"
   },
   {
    "duration": 5,
    "start_time": "2024-04-26T15:03:11.638Z"
   },
   {
    "duration": 4,
    "start_time": "2024-04-26T15:03:11.764Z"
   },
   {
    "duration": 142,
    "start_time": "2024-04-26T15:03:12.142Z"
   },
   {
    "duration": 145,
    "start_time": "2024-04-26T15:03:12.423Z"
   },
   {
    "duration": 5,
    "start_time": "2024-04-26T15:03:12.594Z"
   },
   {
    "duration": 4,
    "start_time": "2024-04-26T15:03:12.776Z"
   },
   {
    "duration": 4,
    "start_time": "2024-04-26T15:03:13.239Z"
   },
   {
    "duration": 4,
    "start_time": "2024-04-26T15:03:13.423Z"
   },
   {
    "duration": 20,
    "start_time": "2024-04-26T15:03:14.257Z"
   },
   {
    "duration": 4,
    "start_time": "2024-04-26T15:03:14.520Z"
   },
   {
    "duration": 341,
    "start_time": "2024-04-26T15:03:14.822Z"
   },
   {
    "duration": 10,
    "start_time": "2024-04-26T15:03:15.164Z"
   },
   {
    "duration": 28,
    "start_time": "2024-04-26T15:03:16.173Z"
   },
   {
    "duration": 5,
    "start_time": "2024-04-26T15:03:16.549Z"
   },
   {
    "duration": 131,
    "start_time": "2024-04-26T15:03:16.758Z"
   },
   {
    "duration": 160,
    "start_time": "2024-04-26T15:03:16.949Z"
   },
   {
    "duration": 10,
    "start_time": "2024-04-26T15:03:17.863Z"
   },
   {
    "duration": 6,
    "start_time": "2024-04-26T15:03:18.208Z"
   },
   {
    "duration": 133,
    "start_time": "2024-04-26T15:03:18.399Z"
   },
   {
    "duration": 155,
    "start_time": "2024-04-26T15:03:18.838Z"
   },
   {
    "duration": 7,
    "start_time": "2024-04-26T15:03:19.170Z"
   },
   {
    "duration": 124,
    "start_time": "2024-04-26T15:03:19.346Z"
   },
   {
    "duration": 153,
    "start_time": "2024-04-26T15:03:19.531Z"
   },
   {
    "duration": 5,
    "start_time": "2024-04-26T15:03:19.908Z"
   },
   {
    "duration": 24,
    "start_time": "2024-04-26T15:03:20.268Z"
   },
   {
    "duration": 5,
    "start_time": "2024-04-26T15:03:20.551Z"
   },
   {
    "duration": 130,
    "start_time": "2024-04-26T15:03:20.717Z"
   },
   {
    "duration": 6,
    "start_time": "2024-04-26T15:03:21.756Z"
   },
   {
    "duration": 146,
    "start_time": "2024-04-26T15:03:21.940Z"
   },
   {
    "duration": 7,
    "start_time": "2024-04-26T15:03:22.254Z"
   },
   {
    "duration": 136,
    "start_time": "2024-04-26T15:03:22.441Z"
   },
   {
    "duration": 15,
    "start_time": "2024-04-26T15:03:22.959Z"
   },
   {
    "duration": 5,
    "start_time": "2024-04-26T15:03:23.219Z"
   },
   {
    "duration": 5,
    "start_time": "2024-04-26T15:03:23.372Z"
   },
   {
    "duration": 5,
    "start_time": "2024-04-26T15:03:23.654Z"
   },
   {
    "duration": 235,
    "start_time": "2024-04-26T15:03:24.028Z"
   },
   {
    "duration": 11,
    "start_time": "2024-04-26T15:03:26.639Z"
   },
   {
    "duration": 7,
    "start_time": "2024-04-26T15:03:26.954Z"
   },
   {
    "duration": 4,
    "start_time": "2024-04-26T15:03:27.273Z"
   },
   {
    "duration": 7,
    "start_time": "2024-04-26T15:03:28.840Z"
   },
   {
    "duration": 6,
    "start_time": "2024-04-26T15:03:29.025Z"
   },
   {
    "duration": 1332,
    "start_time": "2024-04-27T06:07:57.491Z"
   },
   {
    "duration": 199,
    "start_time": "2024-04-27T06:07:58.826Z"
   },
   {
    "duration": 22,
    "start_time": "2024-04-27T06:07:59.027Z"
   },
   {
    "duration": 50,
    "start_time": "2024-04-27T06:07:59.052Z"
   },
   {
    "duration": 26,
    "start_time": "2024-04-27T06:07:59.104Z"
   },
   {
    "duration": 40,
    "start_time": "2024-04-27T06:07:59.132Z"
   },
   {
    "duration": 11,
    "start_time": "2024-04-27T06:07:59.174Z"
   },
   {
    "duration": 29,
    "start_time": "2024-04-27T06:07:59.187Z"
   },
   {
    "duration": 5,
    "start_time": "2024-04-27T06:07:59.218Z"
   },
   {
    "duration": 16,
    "start_time": "2024-04-27T06:07:59.226Z"
   },
   {
    "duration": 26,
    "start_time": "2024-04-27T06:07:59.244Z"
   },
   {
    "duration": 10,
    "start_time": "2024-04-27T06:07:59.272Z"
   },
   {
    "duration": 41,
    "start_time": "2024-04-27T06:07:59.284Z"
   },
   {
    "duration": 30,
    "start_time": "2024-04-27T06:07:59.327Z"
   },
   {
    "duration": 41,
    "start_time": "2024-04-27T06:07:59.359Z"
   },
   {
    "duration": 56,
    "start_time": "2024-04-27T06:07:59.401Z"
   },
   {
    "duration": 53,
    "start_time": "2024-04-27T06:07:59.458Z"
   },
   {
    "duration": 380,
    "start_time": "2024-04-27T06:07:59.514Z"
   },
   {
    "duration": 16,
    "start_time": "2024-04-27T06:07:59.895Z"
   },
   {
    "duration": 183,
    "start_time": "2024-04-27T06:07:59.912Z"
   },
   {
    "duration": 186,
    "start_time": "2024-04-27T06:08:00.097Z"
   },
   {
    "duration": 182,
    "start_time": "2024-04-27T06:08:00.285Z"
   },
   {
    "duration": 201,
    "start_time": "2024-04-27T06:08:00.469Z"
   },
   {
    "duration": 173,
    "start_time": "2024-04-27T06:08:00.673Z"
   },
   {
    "duration": 34,
    "start_time": "2024-04-27T06:08:00.847Z"
   },
   {
    "duration": 76,
    "start_time": "2024-04-27T06:08:00.883Z"
   },
   {
    "duration": 215,
    "start_time": "2024-04-27T06:08:00.961Z"
   },
   {
    "duration": 162,
    "start_time": "2024-04-27T06:08:01.183Z"
   },
   {
    "duration": 245,
    "start_time": "2024-04-27T06:08:01.347Z"
   },
   {
    "duration": 159,
    "start_time": "2024-04-27T06:08:01.593Z"
   },
   {
    "duration": 171,
    "start_time": "2024-04-27T06:08:01.754Z"
   },
   {
    "duration": 306,
    "start_time": "2024-04-27T06:08:01.928Z"
   },
   {
    "duration": 182,
    "start_time": "2024-04-27T06:08:02.236Z"
   },
   {
    "duration": 218,
    "start_time": "2024-04-27T06:08:02.420Z"
   },
   {
    "duration": 6,
    "start_time": "2024-04-27T06:08:02.639Z"
   },
   {
    "duration": 21,
    "start_time": "2024-04-27T06:08:02.647Z"
   },
   {
    "duration": 191,
    "start_time": "2024-04-27T06:08:02.670Z"
   },
   {
    "duration": 167,
    "start_time": "2024-04-27T06:08:02.863Z"
   },
   {
    "duration": 105,
    "start_time": "2024-04-27T06:08:03.032Z"
   },
   {
    "duration": 42,
    "start_time": "2024-04-27T06:08:03.139Z"
   },
   {
    "duration": 180,
    "start_time": "2024-04-27T06:08:03.183Z"
   },
   {
    "duration": 172,
    "start_time": "2024-04-27T06:08:03.365Z"
   },
   {
    "duration": 5,
    "start_time": "2024-04-27T06:08:03.539Z"
   },
   {
    "duration": 21,
    "start_time": "2024-04-27T06:08:03.545Z"
   },
   {
    "duration": 13,
    "start_time": "2024-04-27T06:08:03.568Z"
   },
   {
    "duration": 5,
    "start_time": "2024-04-27T06:08:03.583Z"
   },
   {
    "duration": 25,
    "start_time": "2024-04-27T06:08:03.589Z"
   },
   {
    "duration": 7,
    "start_time": "2024-04-27T06:08:03.616Z"
   },
   {
    "duration": 407,
    "start_time": "2024-04-27T06:08:03.625Z"
   },
   {
    "duration": 11,
    "start_time": "2024-04-27T06:08:04.034Z"
   },
   {
    "duration": 50,
    "start_time": "2024-04-27T06:08:04.047Z"
   },
   {
    "duration": 7,
    "start_time": "2024-04-27T06:08:04.099Z"
   },
   {
    "duration": 171,
    "start_time": "2024-04-27T06:08:04.109Z"
   },
   {
    "duration": 206,
    "start_time": "2024-04-27T06:08:04.282Z"
   },
   {
    "duration": 12,
    "start_time": "2024-04-27T06:08:04.490Z"
   },
   {
    "duration": 6,
    "start_time": "2024-04-27T06:08:04.504Z"
   },
   {
    "duration": 179,
    "start_time": "2024-04-27T06:08:04.512Z"
   },
   {
    "duration": 179,
    "start_time": "2024-04-27T06:08:04.693Z"
   },
   {
    "duration": 10,
    "start_time": "2024-04-27T06:08:04.874Z"
   },
   {
    "duration": 154,
    "start_time": "2024-04-27T06:08:04.885Z"
   },
   {
    "duration": 175,
    "start_time": "2024-04-27T06:08:05.040Z"
   },
   {
    "duration": 6,
    "start_time": "2024-04-27T06:08:05.217Z"
   },
   {
    "duration": 41,
    "start_time": "2024-04-27T06:08:05.224Z"
   },
   {
    "duration": 6,
    "start_time": "2024-04-27T06:08:05.267Z"
   },
   {
    "duration": 168,
    "start_time": "2024-04-27T06:08:05.274Z"
   },
   {
    "duration": 6,
    "start_time": "2024-04-27T06:08:05.444Z"
   },
   {
    "duration": 159,
    "start_time": "2024-04-27T06:08:05.451Z"
   },
   {
    "duration": 8,
    "start_time": "2024-04-27T06:08:05.611Z"
   },
   {
    "duration": 168,
    "start_time": "2024-04-27T06:08:05.620Z"
   },
   {
    "duration": 16,
    "start_time": "2024-04-27T06:08:05.790Z"
   },
   {
    "duration": 6,
    "start_time": "2024-04-27T06:08:05.808Z"
   },
   {
    "duration": 9,
    "start_time": "2024-04-27T06:08:05.816Z"
   },
   {
    "duration": 12,
    "start_time": "2024-04-27T06:08:05.827Z"
   },
   {
    "duration": 290,
    "start_time": "2024-04-27T06:08:05.841Z"
   },
   {
    "duration": 14,
    "start_time": "2024-04-27T06:08:06.133Z"
   },
   {
    "duration": 34,
    "start_time": "2024-04-27T06:08:06.148Z"
   },
   {
    "duration": 17,
    "start_time": "2024-04-27T06:08:06.183Z"
   },
   {
    "duration": 29,
    "start_time": "2024-04-27T06:08:06.202Z"
   },
   {
    "duration": 6,
    "start_time": "2024-04-27T06:08:06.233Z"
   },
   {
    "duration": 478,
    "start_time": "2024-04-27T06:18:12.249Z"
   },
   {
    "duration": 287,
    "start_time": "2024-04-27T06:18:32.925Z"
   },
   {
    "duration": 297,
    "start_time": "2024-04-27T06:18:42.587Z"
   }
  ],
  "kernelspec": {
   "display_name": "Python 3 (ipykernel)",
   "language": "python",
   "name": "python3"
  },
  "language_info": {
   "codemirror_mode": {
    "name": "ipython",
    "version": 3
   },
   "file_extension": ".py",
   "mimetype": "text/x-python",
   "name": "python",
   "nbconvert_exporter": "python",
   "pygments_lexer": "ipython3",
   "version": "3.9.5"
  },
  "toc": {
   "base_numbering": 1,
   "nav_menu": {},
   "number_sections": true,
   "sideBar": true,
   "skip_h1_title": true,
   "title_cell": "Table of Contents",
   "title_sidebar": "Contents",
   "toc_cell": false,
   "toc_position": {},
   "toc_section_display": true,
   "toc_window_display": false
  }
 },
 "nbformat": 4,
 "nbformat_minor": 2
}
