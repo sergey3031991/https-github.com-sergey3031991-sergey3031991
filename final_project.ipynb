{
 "cells": [
  {
   "cell_type": "markdown",
   "id": "3daceae9",
   "metadata": {},
   "source": [
    "# **ПРОЕКТ -  Телекоммуникации**"
   ]
  },
  {
   "cell_type": "markdown",
   "id": "4564c3f8",
   "metadata": {},
   "source": [
    "\n",
    "Оператор связи «ТелеДом» хочет бороться с оттоком клиентов. Для этого его сотрудники начнут предлагать промокоды и специальные условия всем, кто планирует отказаться от услуг связи. Чтобы заранее находить таких пользователей, «ТелеДому» нужна модель, которая будет предсказывать, разорвёт ли абонент договор. Команда оператора собрала персональные данные о некоторых клиентах, информацию об их тарифах и услугах. Ваша задача — обучить на этих данных модель для прогноза оттока клиентов\n",
    "\n",
    "**Цель:**   \n",
    "Построить модель,которая  будет предсказывать, разорвёт ли абонент договор.\n",
    "\n",
    "**Задачи исследования:**   \n",
    "- Провести первичный анализ данных и привести их в соответсвие   \n",
    "- Разделить массив данных на  выборки.  \n",
    "- Провести исследование и построить несколько прогнозных моделей.  \n",
    "- Выбрать по метрикам подходящую модель. \n",
    "- Провести финальное тестирование этой модели на соответсвие и адекватность.  \n",
    "\n",
    "**Исходные данные:**\n",
    "\n",
    "Признаки  \n",
    "- customerID — идентификатор клиента/абонента;  \n",
    "- BeginDate — дата начала действия договора;  \n",
    "- EndDate — дата окончания действия договора;   \n",
    "- Type — тип оплаты: раз в год-два или ежемесячно;  \n",
    "- PaperlessBilling — электронный расчётный лист;  \n",
    "- PaymentMethod — тип платежа;  \n",
    "- MonthlyCharges — расходы за месяц;  \n",
    "- TotalCharges — общие расходы абонента  \n",
    "- gender — пол;  \n",
    "- SeniorCitizen — является ли абонент пенсионером;  \n",
    "- Partner — есть ли у абонента супруг или супруга;  \n",
    "- Dependents — есть ли у абонента дети;   \n",
    "- InternetService — тип подключения;  \n",
    "- OnlineSecurity — блокировка опасных сайтов;  \n",
    "- OnlineBackup — облачное хранилище файлов для резервного копирования данных;  \n",
    "- DeviceProtection — антивирус;  \n",
    "- TechSupport — выделенная линия технической поддержки;  \n",
    "- StreamingTV — стриминговое телевидение;  \n",
    "- StreamingMovies — каталог фильмов; \n",
    "- MultipleLines — подключение телефона к нескольким линиям одновременно. \n",
    "\n",
    "Целевой признак   \n",
    "- Exited — факт ухода клиента \n",
    "\n",
    "**Данное исследование разделим на несколько частей**\n",
    "\n",
    "***Часть 1. Подготовка данных и их исследование:***\n",
    "* [1.1 Загрузка библиотек и файлов](#1-bullet)\n",
    "* [1.2 Датасет contract_new.Изученеие файлов с данными, получение общей информации, график.](#2-bullet)\n",
    "* [1.3 Датасет personal_new.Изученеие файлов с данными, получение общей информации, график.](#3-bullet)\n",
    "* [1.4 Датасет internet_new.Изученеие файлов с данными, получение общей информации.](#4-bullet)\n",
    "* [1.5 Датасет phone_new.Изученеие файлов с данными, получение общей информации.](#5-bullet)\n",
    "* [1.6 Клиентский анализ.](#6-bullet)\n",
    "\n",
    "***Часть 2.Предобработка данных,разработка моделей:*** \n",
    "* [2.1 Объединение датасетов.](#7-bullet)\n",
    "* [2.2 Поиск и ликвидация пропусков.](#8-bullet)\n",
    "* [2.3 Создание новых признаков и удаление лишних признаков.](#9-bullet)\n",
    "* [2.4 Разделение массива на  выборки и масштабирование.](#10-bullet)\n",
    "* [2.5 Модель логистическая регрессия.](#11-bullet)\n",
    "* [2.6 Модель случайный лес.](#12-bullet)\n",
    "* [2.7 Модель CatBoost.](#13-bullet) \n",
    "* [2.8 Тестирование выбранной модели.](#14-bullet) \n",
    "* [2.9 Анализ выбранной(протестированной) модели.](#15-bullet)\n",
    "\n",
    "\n",
    "\n",
    "***Часть 3.Отчет:***  \n",
    "* [3.1 Выводы.](#16-bullet) \n",
    "\n",
    "\n",
    " \n",
    "\n"
   ]
  },
  {
   "cell_type": "markdown",
   "id": "05a41a94",
   "metadata": {},
   "source": [
    "## Подготовка данных и их исследование"
   ]
  },
  {
   "cell_type": "markdown",
   "id": "9aaa8f52",
   "metadata": {},
   "source": [
    "<a id='1-bullet'></a>"
   ]
  },
  {
   "cell_type": "markdown",
   "id": "83444ed0",
   "metadata": {},
   "source": [
    "ЗАГРУЗКА БИБЛИОТЕК"
   ]
  },
  {
   "cell_type": "code",
   "execution_count": 1,
   "id": "f8e5ae51",
   "metadata": {},
   "outputs": [],
   "source": [
    "import pandas as pd\n",
    "import numpy as np\n",
    "import os\n",
    "import matplotlib.pyplot as plt\n",
    "import seaborn as sns\n",
    "from sklearn.model_selection import train_test_split\n",
    "from sklearn.preprocessing import StandardScaler\n",
    "from sklearn.model_selection import GridSearchCV\n",
    "from sklearn.model_selection import cross_val_score\n",
    "from sklearn.preprocessing import OneHotEncoder\n",
    "from sklearn.metrics import make_scorer\n",
    "from sklearn.dummy import DummyClassifier\n",
    "from catboost import CatBoostClassifier\n",
    "from sklearn.ensemble import RandomForestClassifier\n",
    "from sklearn.linear_model import LogisticRegression\n",
    "from sklearn.metrics import recall_score\n",
    "from sklearn.metrics import precision_score\n",
    "from sklearn.metrics import accuracy_score\n",
    "from sklearn.metrics import confusion_matrix,ConfusionMatrixDisplay\n",
    "from sklearn.metrics import roc_auc_score\n",
    "from sklearn.metrics import roc_curve,auc"
   ]
  },
  {
   "cell_type": "code",
   "execution_count": 2,
   "id": "37cce897",
   "metadata": {},
   "outputs": [],
   "source": [
    "data_1 = '/datasets/contract_new.csv'\n",
    "data_2 = '/datasets/personal_new.csv'\n",
    "data_3 = '/datasets/internet_new.csv'\n",
    "data_4 = '/datasets/phone_new.csv'\n",
    "\n",
    "if os.path.exists(data_1):\n",
    "    data_contract = pd.read_csv(data_1)\n",
    "elif os.path.exists(data_2):\n",
    "    data_personal = pd.read_csv(data_2)\n",
    "\n",
    "else:\n",
    "    print('Something is wrong')"
   ]
  },
  {
   "cell_type": "code",
   "execution_count": 3,
   "id": "514d7122",
   "metadata": {},
   "outputs": [],
   "source": [
    "if os.path.exists(data_2):\n",
    "    data_personal = pd.read_csv(data_2)\n",
    "elif os.path.exists(data_3):\n",
    "    data_internet = pd.read_csv(data_3)\n",
    "\n",
    "else:\n",
    "    print('Something is wrong')"
   ]
  },
  {
   "cell_type": "code",
   "execution_count": 4,
   "id": "504706ed",
   "metadata": {},
   "outputs": [],
   "source": [
    "if os.path.exists(data_3):\n",
    "    data_internet = pd.read_csv(data_3)\n",
    "elif os.path.exists(data_4):\n",
    "    data_phone = pd.read_csv(data_4)\n",
    "\n",
    "else:\n",
    "    print('Something is wrong')"
   ]
  },
  {
   "cell_type": "code",
   "execution_count": 5,
   "id": "009f7292",
   "metadata": {},
   "outputs": [],
   "source": [
    "if os.path.exists(data_4):\n",
    "    data_phone = pd.read_csv(data_4)\n",
    "\n",
    "else:\n",
    "    print('Something is wrong')"
   ]
  },
  {
   "cell_type": "markdown",
   "id": "c0d5c86f",
   "metadata": {},
   "source": [
    "<a id='2-bullet'></a>"
   ]
  },
  {
   "cell_type": "markdown",
   "id": "0fbf6e27",
   "metadata": {},
   "source": [
    "ДАТАСЕТ data_contract_new"
   ]
  },
  {
   "cell_type": "code",
   "execution_count": 6,
   "id": "e1b6ef61",
   "metadata": {},
   "outputs": [
    {
     "data": {
      "text/html": [
       "<div>\n",
       "<style scoped>\n",
       "    .dataframe tbody tr th:only-of-type {\n",
       "        vertical-align: middle;\n",
       "    }\n",
       "\n",
       "    .dataframe tbody tr th {\n",
       "        vertical-align: top;\n",
       "    }\n",
       "\n",
       "    .dataframe thead th {\n",
       "        text-align: right;\n",
       "    }\n",
       "</style>\n",
       "<table border=\"1\" class=\"dataframe\">\n",
       "  <thead>\n",
       "    <tr style=\"text-align: right;\">\n",
       "      <th></th>\n",
       "      <th>customerID</th>\n",
       "      <th>BeginDate</th>\n",
       "      <th>EndDate</th>\n",
       "      <th>Type</th>\n",
       "      <th>PaperlessBilling</th>\n",
       "      <th>PaymentMethod</th>\n",
       "      <th>MonthlyCharges</th>\n",
       "      <th>TotalCharges</th>\n",
       "    </tr>\n",
       "  </thead>\n",
       "  <tbody>\n",
       "    <tr>\n",
       "      <th>0</th>\n",
       "      <td>7590-VHVEG</td>\n",
       "      <td>2020-01-01</td>\n",
       "      <td>No</td>\n",
       "      <td>Month-to-month</td>\n",
       "      <td>Yes</td>\n",
       "      <td>Electronic check</td>\n",
       "      <td>29.85</td>\n",
       "      <td>31.04</td>\n",
       "    </tr>\n",
       "    <tr>\n",
       "      <th>1</th>\n",
       "      <td>5575-GNVDE</td>\n",
       "      <td>2017-04-01</td>\n",
       "      <td>No</td>\n",
       "      <td>One year</td>\n",
       "      <td>No</td>\n",
       "      <td>Mailed check</td>\n",
       "      <td>56.95</td>\n",
       "      <td>2071.84</td>\n",
       "    </tr>\n",
       "    <tr>\n",
       "      <th>2</th>\n",
       "      <td>3668-QPYBK</td>\n",
       "      <td>2019-10-01</td>\n",
       "      <td>No</td>\n",
       "      <td>Month-to-month</td>\n",
       "      <td>Yes</td>\n",
       "      <td>Mailed check</td>\n",
       "      <td>53.85</td>\n",
       "      <td>226.17</td>\n",
       "    </tr>\n",
       "    <tr>\n",
       "      <th>3</th>\n",
       "      <td>7795-CFOCW</td>\n",
       "      <td>2016-05-01</td>\n",
       "      <td>No</td>\n",
       "      <td>One year</td>\n",
       "      <td>No</td>\n",
       "      <td>Bank transfer (automatic)</td>\n",
       "      <td>42.30</td>\n",
       "      <td>1960.6</td>\n",
       "    </tr>\n",
       "    <tr>\n",
       "      <th>4</th>\n",
       "      <td>9237-HQITU</td>\n",
       "      <td>2019-09-01</td>\n",
       "      <td>No</td>\n",
       "      <td>Month-to-month</td>\n",
       "      <td>Yes</td>\n",
       "      <td>Electronic check</td>\n",
       "      <td>70.70</td>\n",
       "      <td>353.5</td>\n",
       "    </tr>\n",
       "  </tbody>\n",
       "</table>\n",
       "</div>"
      ],
      "text/plain": [
       "   customerID   BeginDate EndDate            Type PaperlessBilling  \\\n",
       "0  7590-VHVEG  2020-01-01      No  Month-to-month              Yes   \n",
       "1  5575-GNVDE  2017-04-01      No        One year               No   \n",
       "2  3668-QPYBK  2019-10-01      No  Month-to-month              Yes   \n",
       "3  7795-CFOCW  2016-05-01      No        One year               No   \n",
       "4  9237-HQITU  2019-09-01      No  Month-to-month              Yes   \n",
       "\n",
       "               PaymentMethod  MonthlyCharges TotalCharges  \n",
       "0           Electronic check           29.85        31.04  \n",
       "1               Mailed check           56.95      2071.84  \n",
       "2               Mailed check           53.85       226.17  \n",
       "3  Bank transfer (automatic)           42.30       1960.6  \n",
       "4           Electronic check           70.70        353.5  "
      ]
     },
     "metadata": {},
     "output_type": "display_data"
    }
   ],
   "source": [
    "display(data_contract.head())"
   ]
  },
  {
   "cell_type": "code",
   "execution_count": 7,
   "id": "499539a2",
   "metadata": {},
   "outputs": [
    {
     "name": "stdout",
     "output_type": "stream",
     "text": [
      "<class 'pandas.core.frame.DataFrame'>\n",
      "RangeIndex: 7043 entries, 0 to 7042\n",
      "Data columns (total 8 columns):\n",
      " #   Column            Non-Null Count  Dtype  \n",
      "---  ------            --------------  -----  \n",
      " 0   customerID        7043 non-null   object \n",
      " 1   BeginDate         7043 non-null   object \n",
      " 2   EndDate           7043 non-null   object \n",
      " 3   Type              7043 non-null   object \n",
      " 4   PaperlessBilling  7043 non-null   object \n",
      " 5   PaymentMethod     7043 non-null   object \n",
      " 6   MonthlyCharges    7043 non-null   float64\n",
      " 7   TotalCharges      7043 non-null   object \n",
      "dtypes: float64(1), object(7)\n",
      "memory usage: 440.3+ KB\n"
     ]
    }
   ],
   "source": [
    "data_contract.info()"
   ]
  },
  {
   "cell_type": "code",
   "execution_count": 8,
   "id": "01f6459b",
   "metadata": {},
   "outputs": [
    {
     "data": {
      "text/plain": [
       "array([' ', '100.17', '100.19', ..., '998.89', '999.6', '999.9'],\n",
       "      dtype=object)"
      ]
     },
     "metadata": {},
     "output_type": "display_data"
    }
   ],
   "source": [
    "display(data_contract['TotalCharges'].sort_values().unique())"
   ]
  },
  {
   "cell_type": "markdown",
   "id": "a3cd483d",
   "metadata": {},
   "source": [
    "Поле TotalCharges имеет тип object и как видим в поле есть пробелы которые имеют текстовый формат, с данной проблемой будем бороться в следующем разделе"
   ]
  },
  {
   "cell_type": "code",
   "execution_count": 9,
   "id": "77768d49",
   "metadata": {},
   "outputs": [
    {
     "data": {
      "text/html": [
       "<div>\n",
       "<style scoped>\n",
       "    .dataframe tbody tr th:only-of-type {\n",
       "        vertical-align: middle;\n",
       "    }\n",
       "\n",
       "    .dataframe tbody tr th {\n",
       "        vertical-align: top;\n",
       "    }\n",
       "\n",
       "    .dataframe thead th {\n",
       "        text-align: right;\n",
       "    }\n",
       "</style>\n",
       "<table border=\"1\" class=\"dataframe\">\n",
       "  <thead>\n",
       "    <tr style=\"text-align: right;\">\n",
       "      <th></th>\n",
       "      <th>MonthlyCharges</th>\n",
       "    </tr>\n",
       "  </thead>\n",
       "  <tbody>\n",
       "    <tr>\n",
       "      <th>count</th>\n",
       "      <td>7043.000000</td>\n",
       "    </tr>\n",
       "    <tr>\n",
       "      <th>mean</th>\n",
       "      <td>64.761692</td>\n",
       "    </tr>\n",
       "    <tr>\n",
       "      <th>std</th>\n",
       "      <td>30.090047</td>\n",
       "    </tr>\n",
       "    <tr>\n",
       "      <th>min</th>\n",
       "      <td>18.250000</td>\n",
       "    </tr>\n",
       "    <tr>\n",
       "      <th>25%</th>\n",
       "      <td>35.500000</td>\n",
       "    </tr>\n",
       "    <tr>\n",
       "      <th>50%</th>\n",
       "      <td>70.350000</td>\n",
       "    </tr>\n",
       "    <tr>\n",
       "      <th>75%</th>\n",
       "      <td>89.850000</td>\n",
       "    </tr>\n",
       "    <tr>\n",
       "      <th>max</th>\n",
       "      <td>118.750000</td>\n",
       "    </tr>\n",
       "  </tbody>\n",
       "</table>\n",
       "</div>"
      ],
      "text/plain": [
       "       MonthlyCharges\n",
       "count     7043.000000\n",
       "mean        64.761692\n",
       "std         30.090047\n",
       "min         18.250000\n",
       "25%         35.500000\n",
       "50%         70.350000\n",
       "75%         89.850000\n",
       "max        118.750000"
      ]
     },
     "execution_count": 9,
     "metadata": {},
     "output_type": "execute_result"
    }
   ],
   "source": [
    "data_contract.describe()"
   ]
  },
  {
   "cell_type": "code",
   "execution_count": 10,
   "id": "72555216",
   "metadata": {},
   "outputs": [
    {
     "data": {
      "text/plain": [
       "0"
      ]
     },
     "metadata": {},
     "output_type": "display_data"
    }
   ],
   "source": [
    "display(data_contract.duplicated().sum())"
   ]
  },
  {
   "cell_type": "code",
   "execution_count": 11,
   "id": "ba7fb756",
   "metadata": {},
   "outputs": [
    {
     "data": {
      "image/png": "[encoded data removed]",
      "text/plain": [
       "<Figure size 432x288 with 1 Axes>"
      ]
     },
     "metadata": {
      "needs_background": "light"
     },
     "output_type": "display_data"
    }
   ],
   "source": [
    "plt.hist(data_contract['MonthlyCharges'],color='blue',edgecolor='black', bins=int(180/5))\n",
    "plt.title('Расходы за месяц')\n",
    "plt.xlabel('Расходы')\n",
    "plt.ylabel('Кол-во')\n",
    "plt.show();\n"
   ]
  },
  {
   "cell_type": "markdown",
   "id": "3125a3e9",
   "metadata": {},
   "source": [
    "В датасете 7 043 строк и 8 колонок.  \n",
    "Дубликатов не найдено. \n",
    "Ежемесячные платежи варируются от 18,25 до 118,75, где наиболее популярные платежи это 18,25 в мес., и можно сделать предположение что это базовая ежемесячная стоимость услуги"
   ]
  },
  {
   "cell_type": "markdown",
   "id": "e92f7994",
   "metadata": {},
   "source": [
    "ДАТАСЕТ data_personal_new"
   ]
  },
  {
   "cell_type": "markdown",
   "id": "7ef18062",
   "metadata": {},
   "source": [
    "<a id='3-bullet'></a>"
   ]
  },
  {
   "cell_type": "code",
   "execution_count": 12,
   "id": "4d280a46",
   "metadata": {},
   "outputs": [
    {
     "data": {
      "text/html": [
       "<div>\n",
       "<style scoped>\n",
       "    .dataframe tbody tr th:only-of-type {\n",
       "        vertical-align: middle;\n",
       "    }\n",
       "\n",
       "    .dataframe tbody tr th {\n",
       "        vertical-align: top;\n",
       "    }\n",
       "\n",
       "    .dataframe thead th {\n",
       "        text-align: right;\n",
       "    }\n",
       "</style>\n",
       "<table border=\"1\" class=\"dataframe\">\n",
       "  <thead>\n",
       "    <tr style=\"text-align: right;\">\n",
       "      <th></th>\n",
       "      <th>customerID</th>\n",
       "      <th>gender</th>\n",
       "      <th>SeniorCitizen</th>\n",
       "      <th>Partner</th>\n",
       "      <th>Dependents</th>\n",
       "    </tr>\n",
       "  </thead>\n",
       "  <tbody>\n",
       "    <tr>\n",
       "      <th>0</th>\n",
       "      <td>7590-VHVEG</td>\n",
       "      <td>Female</td>\n",
       "      <td>0</td>\n",
       "      <td>Yes</td>\n",
       "      <td>No</td>\n",
       "    </tr>\n",
       "    <tr>\n",
       "      <th>1</th>\n",
       "      <td>5575-GNVDE</td>\n",
       "      <td>Male</td>\n",
       "      <td>0</td>\n",
       "      <td>No</td>\n",
       "      <td>No</td>\n",
       "    </tr>\n",
       "    <tr>\n",
       "      <th>2</th>\n",
       "      <td>3668-QPYBK</td>\n",
       "      <td>Male</td>\n",
       "      <td>0</td>\n",
       "      <td>No</td>\n",
       "      <td>No</td>\n",
       "    </tr>\n",
       "    <tr>\n",
       "      <th>3</th>\n",
       "      <td>7795-CFOCW</td>\n",
       "      <td>Male</td>\n",
       "      <td>0</td>\n",
       "      <td>No</td>\n",
       "      <td>No</td>\n",
       "    </tr>\n",
       "    <tr>\n",
       "      <th>4</th>\n",
       "      <td>9237-HQITU</td>\n",
       "      <td>Female</td>\n",
       "      <td>0</td>\n",
       "      <td>No</td>\n",
       "      <td>No</td>\n",
       "    </tr>\n",
       "  </tbody>\n",
       "</table>\n",
       "</div>"
      ],
      "text/plain": [
       "   customerID  gender  SeniorCitizen Partner Dependents\n",
       "0  7590-VHVEG  Female              0     Yes         No\n",
       "1  5575-GNVDE    Male              0      No         No\n",
       "2  3668-QPYBK    Male              0      No         No\n",
       "3  7795-CFOCW    Male              0      No         No\n",
       "4  9237-HQITU  Female              0      No         No"
      ]
     },
     "metadata": {},
     "output_type": "display_data"
    }
   ],
   "source": [
    "display(data_personal.head())"
   ]
  },
  {
   "cell_type": "code",
   "execution_count": 13,
   "id": "dc859782",
   "metadata": {},
   "outputs": [
    {
     "name": "stdout",
     "output_type": "stream",
     "text": [
      "<class 'pandas.core.frame.DataFrame'>\n",
      "RangeIndex: 7043 entries, 0 to 7042\n",
      "Data columns (total 5 columns):\n",
      " #   Column         Non-Null Count  Dtype \n",
      "---  ------         --------------  ----- \n",
      " 0   customerID     7043 non-null   object\n",
      " 1   gender         7043 non-null   object\n",
      " 2   SeniorCitizen  7043 non-null   int64 \n",
      " 3   Partner        7043 non-null   object\n",
      " 4   Dependents     7043 non-null   object\n",
      "dtypes: int64(1), object(4)\n",
      "memory usage: 275.2+ KB\n"
     ]
    }
   ],
   "source": [
    "data_personal.info()"
   ]
  },
  {
   "cell_type": "code",
   "execution_count": 14,
   "id": "7fb20cc8",
   "metadata": {},
   "outputs": [
    {
     "data": {
      "text/html": [
       "<div>\n",
       "<style scoped>\n",
       "    .dataframe tbody tr th:only-of-type {\n",
       "        vertical-align: middle;\n",
       "    }\n",
       "\n",
       "    .dataframe tbody tr th {\n",
       "        vertical-align: top;\n",
       "    }\n",
       "\n",
       "    .dataframe thead th {\n",
       "        text-align: right;\n",
       "    }\n",
       "</style>\n",
       "<table border=\"1\" class=\"dataframe\">\n",
       "  <thead>\n",
       "    <tr style=\"text-align: right;\">\n",
       "      <th></th>\n",
       "      <th>SeniorCitizen</th>\n",
       "    </tr>\n",
       "  </thead>\n",
       "  <tbody>\n",
       "    <tr>\n",
       "      <th>count</th>\n",
       "      <td>7043.000000</td>\n",
       "    </tr>\n",
       "    <tr>\n",
       "      <th>mean</th>\n",
       "      <td>0.162147</td>\n",
       "    </tr>\n",
       "    <tr>\n",
       "      <th>std</th>\n",
       "      <td>0.368612</td>\n",
       "    </tr>\n",
       "    <tr>\n",
       "      <th>min</th>\n",
       "      <td>0.000000</td>\n",
       "    </tr>\n",
       "    <tr>\n",
       "      <th>25%</th>\n",
       "      <td>0.000000</td>\n",
       "    </tr>\n",
       "    <tr>\n",
       "      <th>50%</th>\n",
       "      <td>0.000000</td>\n",
       "    </tr>\n",
       "    <tr>\n",
       "      <th>75%</th>\n",
       "      <td>0.000000</td>\n",
       "    </tr>\n",
       "    <tr>\n",
       "      <th>max</th>\n",
       "      <td>1.000000</td>\n",
       "    </tr>\n",
       "  </tbody>\n",
       "</table>\n",
       "</div>"
      ],
      "text/plain": [
       "       SeniorCitizen\n",
       "count    7043.000000\n",
       "mean        0.162147\n",
       "std         0.368612\n",
       "min         0.000000\n",
       "25%         0.000000\n",
       "50%         0.000000\n",
       "75%         0.000000\n",
       "max         1.000000"
      ]
     },
     "execution_count": 14,
     "metadata": {},
     "output_type": "execute_result"
    }
   ],
   "source": [
    "data_personal.describe()"
   ]
  },
  {
   "cell_type": "code",
   "execution_count": 15,
   "id": "8a461e06",
   "metadata": {},
   "outputs": [
    {
     "data": {
      "text/plain": [
       "0"
      ]
     },
     "metadata": {},
     "output_type": "display_data"
    }
   ],
   "source": [
    "display(data_personal.duplicated().sum())"
   ]
  },
  {
   "cell_type": "code",
   "execution_count": 16,
   "id": "a4cc31f1",
   "metadata": {},
   "outputs": [
    {
     "name": "stdout",
     "output_type": "stream",
     "text": [
      "0    5901\n",
      "1    1142\n",
      "Name: SeniorCitizen, dtype: int64\n"
     ]
    },
    {
     "data": {
      "image/png": "[encoded data removed]",
      "text/plain": [
       "<Figure size 432x288 with 1 Axes>"
      ]
     },
     "metadata": {
      "needs_background": "light"
     },
     "output_type": "display_data"
    }
   ],
   "source": [
    "class_SeniorCitizen = data_personal['SeniorCitizen'].value_counts()\n",
    "print(class_SeniorCitizen)\n",
    "class_SeniorCitizen.plot(kind='bar')\n",
    "plt.title('Количество пенсионеров')\n",
    "plt.xlabel('Пенсионеры(0-нет,1-да)')\n",
    "plt.ylabel('Кол-во')\n",
    "plt.show();\n"
   ]
  },
  {
   "cell_type": "markdown",
   "id": "ca21fbb9",
   "metadata": {},
   "source": [
    "В датасете 7 043 строк и 5 колонок.  \n",
    "Дубликатов не найдено.   \n",
    "16% клиентов это пенсионеры  "
   ]
  },
  {
   "cell_type": "markdown",
   "id": "21b9c78c",
   "metadata": {},
   "source": [
    "ДАТАСЕТ data_internet_new"
   ]
  },
  {
   "cell_type": "markdown",
   "id": "30c89426",
   "metadata": {},
   "source": [
    "<a id='4-bullet'></a>"
   ]
  },
  {
   "cell_type": "code",
   "execution_count": 17,
   "id": "c102e2db",
   "metadata": {},
   "outputs": [
    {
     "data": {
      "text/html": [
       "<div>\n",
       "<style scoped>\n",
       "    .dataframe tbody tr th:only-of-type {\n",
       "        vertical-align: middle;\n",
       "    }\n",
       "\n",
       "    .dataframe tbody tr th {\n",
       "        vertical-align: top;\n",
       "    }\n",
       "\n",
       "    .dataframe thead th {\n",
       "        text-align: right;\n",
       "    }\n",
       "</style>\n",
       "<table border=\"1\" class=\"dataframe\">\n",
       "  <thead>\n",
       "    <tr style=\"text-align: right;\">\n",
       "      <th></th>\n",
       "      <th>customerID</th>\n",
       "      <th>InternetService</th>\n",
       "      <th>OnlineSecurity</th>\n",
       "      <th>OnlineBackup</th>\n",
       "      <th>DeviceProtection</th>\n",
       "      <th>TechSupport</th>\n",
       "      <th>StreamingTV</th>\n",
       "      <th>StreamingMovies</th>\n",
       "    </tr>\n",
       "  </thead>\n",
       "  <tbody>\n",
       "    <tr>\n",
       "      <th>0</th>\n",
       "      <td>7590-VHVEG</td>\n",
       "      <td>DSL</td>\n",
       "      <td>No</td>\n",
       "      <td>Yes</td>\n",
       "      <td>No</td>\n",
       "      <td>No</td>\n",
       "      <td>No</td>\n",
       "      <td>No</td>\n",
       "    </tr>\n",
       "    <tr>\n",
       "      <th>1</th>\n",
       "      <td>5575-GNVDE</td>\n",
       "      <td>DSL</td>\n",
       "      <td>Yes</td>\n",
       "      <td>No</td>\n",
       "      <td>Yes</td>\n",
       "      <td>No</td>\n",
       "      <td>No</td>\n",
       "      <td>No</td>\n",
       "    </tr>\n",
       "    <tr>\n",
       "      <th>2</th>\n",
       "      <td>3668-QPYBK</td>\n",
       "      <td>DSL</td>\n",
       "      <td>Yes</td>\n",
       "      <td>Yes</td>\n",
       "      <td>No</td>\n",
       "      <td>No</td>\n",
       "      <td>No</td>\n",
       "      <td>No</td>\n",
       "    </tr>\n",
       "    <tr>\n",
       "      <th>3</th>\n",
       "      <td>7795-CFOCW</td>\n",
       "      <td>DSL</td>\n",
       "      <td>Yes</td>\n",
       "      <td>No</td>\n",
       "      <td>Yes</td>\n",
       "      <td>Yes</td>\n",
       "      <td>No</td>\n",
       "      <td>No</td>\n",
       "    </tr>\n",
       "    <tr>\n",
       "      <th>4</th>\n",
       "      <td>9237-HQITU</td>\n",
       "      <td>Fiber optic</td>\n",
       "      <td>No</td>\n",
       "      <td>No</td>\n",
       "      <td>No</td>\n",
       "      <td>No</td>\n",
       "      <td>No</td>\n",
       "      <td>No</td>\n",
       "    </tr>\n",
       "  </tbody>\n",
       "</table>\n",
       "</div>"
      ],
      "text/plain": [
       "   customerID InternetService OnlineSecurity OnlineBackup DeviceProtection  \\\n",
       "0  7590-VHVEG             DSL             No          Yes               No   \n",
       "1  5575-GNVDE             DSL            Yes           No              Yes   \n",
       "2  3668-QPYBK             DSL            Yes          Yes               No   \n",
       "3  7795-CFOCW             DSL            Yes           No              Yes   \n",
       "4  9237-HQITU     Fiber optic             No           No               No   \n",
       "\n",
       "  TechSupport StreamingTV StreamingMovies  \n",
       "0          No          No              No  \n",
       "1          No          No              No  \n",
       "2          No          No              No  \n",
       "3         Yes          No              No  \n",
       "4          No          No              No  "
      ]
     },
     "metadata": {},
     "output_type": "display_data"
    }
   ],
   "source": [
    "display(data_internet.head())"
   ]
  },
  {
   "cell_type": "code",
   "execution_count": 18,
   "id": "2f4e2f99",
   "metadata": {},
   "outputs": [
    {
     "name": "stdout",
     "output_type": "stream",
     "text": [
      "<class 'pandas.core.frame.DataFrame'>\n",
      "RangeIndex: 5517 entries, 0 to 5516\n",
      "Data columns (total 8 columns):\n",
      " #   Column            Non-Null Count  Dtype \n",
      "---  ------            --------------  ----- \n",
      " 0   customerID        5517 non-null   object\n",
      " 1   InternetService   5517 non-null   object\n",
      " 2   OnlineSecurity    5517 non-null   object\n",
      " 3   OnlineBackup      5517 non-null   object\n",
      " 4   DeviceProtection  5517 non-null   object\n",
      " 5   TechSupport       5517 non-null   object\n",
      " 6   StreamingTV       5517 non-null   object\n",
      " 7   StreamingMovies   5517 non-null   object\n",
      "dtypes: object(8)\n",
      "memory usage: 344.9+ KB\n"
     ]
    }
   ],
   "source": [
    "data_internet.info()"
   ]
  },
  {
   "cell_type": "code",
   "execution_count": 19,
   "id": "5fe5c616",
   "metadata": {},
   "outputs": [
    {
     "data": {
      "text/html": [
       "<div>\n",
       "<style scoped>\n",
       "    .dataframe tbody tr th:only-of-type {\n",
       "        vertical-align: middle;\n",
       "    }\n",
       "\n",
       "    .dataframe tbody tr th {\n",
       "        vertical-align: top;\n",
       "    }\n",
       "\n",
       "    .dataframe thead th {\n",
       "        text-align: right;\n",
       "    }\n",
       "</style>\n",
       "<table border=\"1\" class=\"dataframe\">\n",
       "  <thead>\n",
       "    <tr style=\"text-align: right;\">\n",
       "      <th></th>\n",
       "      <th>customerID</th>\n",
       "      <th>InternetService</th>\n",
       "      <th>OnlineSecurity</th>\n",
       "      <th>OnlineBackup</th>\n",
       "      <th>DeviceProtection</th>\n",
       "      <th>TechSupport</th>\n",
       "      <th>StreamingTV</th>\n",
       "      <th>StreamingMovies</th>\n",
       "    </tr>\n",
       "  </thead>\n",
       "  <tbody>\n",
       "    <tr>\n",
       "      <th>count</th>\n",
       "      <td>5517</td>\n",
       "      <td>5517</td>\n",
       "      <td>5517</td>\n",
       "      <td>5517</td>\n",
       "      <td>5517</td>\n",
       "      <td>5517</td>\n",
       "      <td>5517</td>\n",
       "      <td>5517</td>\n",
       "    </tr>\n",
       "    <tr>\n",
       "      <th>unique</th>\n",
       "      <td>5517</td>\n",
       "      <td>2</td>\n",
       "      <td>2</td>\n",
       "      <td>2</td>\n",
       "      <td>2</td>\n",
       "      <td>2</td>\n",
       "      <td>2</td>\n",
       "      <td>2</td>\n",
       "    </tr>\n",
       "    <tr>\n",
       "      <th>top</th>\n",
       "      <td>2642-DTVCO</td>\n",
       "      <td>Fiber optic</td>\n",
       "      <td>No</td>\n",
       "      <td>No</td>\n",
       "      <td>No</td>\n",
       "      <td>No</td>\n",
       "      <td>No</td>\n",
       "      <td>No</td>\n",
       "    </tr>\n",
       "    <tr>\n",
       "      <th>freq</th>\n",
       "      <td>1</td>\n",
       "      <td>3096</td>\n",
       "      <td>3498</td>\n",
       "      <td>3088</td>\n",
       "      <td>3095</td>\n",
       "      <td>3473</td>\n",
       "      <td>2810</td>\n",
       "      <td>2785</td>\n",
       "    </tr>\n",
       "  </tbody>\n",
       "</table>\n",
       "</div>"
      ],
      "text/plain": [
       "        customerID InternetService OnlineSecurity OnlineBackup  \\\n",
       "count         5517            5517           5517         5517   \n",
       "unique        5517               2              2            2   \n",
       "top     2642-DTVCO     Fiber optic             No           No   \n",
       "freq             1            3096           3498         3088   \n",
       "\n",
       "       DeviceProtection TechSupport StreamingTV StreamingMovies  \n",
       "count              5517        5517        5517            5517  \n",
       "unique                2           2           2               2  \n",
       "top                  No          No          No              No  \n",
       "freq               3095        3473        2810            2785  "
      ]
     },
     "execution_count": 19,
     "metadata": {},
     "output_type": "execute_result"
    }
   ],
   "source": [
    "data_internet.describe()"
   ]
  },
  {
   "cell_type": "code",
   "execution_count": 20,
   "id": "d4ab3ca5",
   "metadata": {},
   "outputs": [
    {
     "data": {
      "text/plain": [
       "0"
      ]
     },
     "metadata": {},
     "output_type": "display_data"
    }
   ],
   "source": [
    "display(data_internet.duplicated().sum())"
   ]
  },
  {
   "cell_type": "markdown",
   "id": "869fab84",
   "metadata": {},
   "source": [
    "В датасете 5 517 строк и 8 колонок.  \n",
    "Дубликатов не найдено. "
   ]
  },
  {
   "cell_type": "markdown",
   "id": "ff597a6c",
   "metadata": {},
   "source": [
    "ДАТАСЕТ data_phone_new"
   ]
  },
  {
   "cell_type": "markdown",
   "id": "8e447589",
   "metadata": {},
   "source": [
    "<a id='5-bullet'></a>"
   ]
  },
  {
   "cell_type": "code",
   "execution_count": 21,
   "id": "fe74e4fb",
   "metadata": {},
   "outputs": [
    {
     "data": {
      "text/html": [
       "<div>\n",
       "<style scoped>\n",
       "    .dataframe tbody tr th:only-of-type {\n",
       "        vertical-align: middle;\n",
       "    }\n",
       "\n",
       "    .dataframe tbody tr th {\n",
       "        vertical-align: top;\n",
       "    }\n",
       "\n",
       "    .dataframe thead th {\n",
       "        text-align: right;\n",
       "    }\n",
       "</style>\n",
       "<table border=\"1\" class=\"dataframe\">\n",
       "  <thead>\n",
       "    <tr style=\"text-align: right;\">\n",
       "      <th></th>\n",
       "      <th>customerID</th>\n",
       "      <th>MultipleLines</th>\n",
       "    </tr>\n",
       "  </thead>\n",
       "  <tbody>\n",
       "    <tr>\n",
       "      <th>0</th>\n",
       "      <td>5575-GNVDE</td>\n",
       "      <td>No</td>\n",
       "    </tr>\n",
       "    <tr>\n",
       "      <th>1</th>\n",
       "      <td>3668-QPYBK</td>\n",
       "      <td>No</td>\n",
       "    </tr>\n",
       "    <tr>\n",
       "      <th>2</th>\n",
       "      <td>9237-HQITU</td>\n",
       "      <td>No</td>\n",
       "    </tr>\n",
       "    <tr>\n",
       "      <th>3</th>\n",
       "      <td>9305-CDSKC</td>\n",
       "      <td>Yes</td>\n",
       "    </tr>\n",
       "    <tr>\n",
       "      <th>4</th>\n",
       "      <td>1452-KIOVK</td>\n",
       "      <td>Yes</td>\n",
       "    </tr>\n",
       "  </tbody>\n",
       "</table>\n",
       "</div>"
      ],
      "text/plain": [
       "   customerID MultipleLines\n",
       "0  5575-GNVDE            No\n",
       "1  3668-QPYBK            No\n",
       "2  9237-HQITU            No\n",
       "3  9305-CDSKC           Yes\n",
       "4  1452-KIOVK           Yes"
      ]
     },
     "metadata": {},
     "output_type": "display_data"
    }
   ],
   "source": [
    "display(data_phone.head())"
   ]
  },
  {
   "cell_type": "code",
   "execution_count": 22,
   "id": "7f0b37a7",
   "metadata": {},
   "outputs": [
    {
     "name": "stdout",
     "output_type": "stream",
     "text": [
      "<class 'pandas.core.frame.DataFrame'>\n",
      "RangeIndex: 6361 entries, 0 to 6360\n",
      "Data columns (total 2 columns):\n",
      " #   Column         Non-Null Count  Dtype \n",
      "---  ------         --------------  ----- \n",
      " 0   customerID     6361 non-null   object\n",
      " 1   MultipleLines  6361 non-null   object\n",
      "dtypes: object(2)\n",
      "memory usage: 99.5+ KB\n"
     ]
    }
   ],
   "source": [
    "data_phone.info()"
   ]
  },
  {
   "cell_type": "code",
   "execution_count": 23,
   "id": "9c69f9a5",
   "metadata": {},
   "outputs": [
    {
     "data": {
      "text/html": [
       "<div>\n",
       "<style scoped>\n",
       "    .dataframe tbody tr th:only-of-type {\n",
       "        vertical-align: middle;\n",
       "    }\n",
       "\n",
       "    .dataframe tbody tr th {\n",
       "        vertical-align: top;\n",
       "    }\n",
       "\n",
       "    .dataframe thead th {\n",
       "        text-align: right;\n",
       "    }\n",
       "</style>\n",
       "<table border=\"1\" class=\"dataframe\">\n",
       "  <thead>\n",
       "    <tr style=\"text-align: right;\">\n",
       "      <th></th>\n",
       "      <th>customerID</th>\n",
       "      <th>MultipleLines</th>\n",
       "    </tr>\n",
       "  </thead>\n",
       "  <tbody>\n",
       "    <tr>\n",
       "      <th>count</th>\n",
       "      <td>6361</td>\n",
       "      <td>6361</td>\n",
       "    </tr>\n",
       "    <tr>\n",
       "      <th>unique</th>\n",
       "      <td>6361</td>\n",
       "      <td>2</td>\n",
       "    </tr>\n",
       "    <tr>\n",
       "      <th>top</th>\n",
       "      <td>2988-PLAHS</td>\n",
       "      <td>No</td>\n",
       "    </tr>\n",
       "    <tr>\n",
       "      <th>freq</th>\n",
       "      <td>1</td>\n",
       "      <td>3390</td>\n",
       "    </tr>\n",
       "  </tbody>\n",
       "</table>\n",
       "</div>"
      ],
      "text/plain": [
       "        customerID MultipleLines\n",
       "count         6361          6361\n",
       "unique        6361             2\n",
       "top     2988-PLAHS            No\n",
       "freq             1          3390"
      ]
     },
     "execution_count": 23,
     "metadata": {},
     "output_type": "execute_result"
    }
   ],
   "source": [
    "data_phone.describe()"
   ]
  },
  {
   "cell_type": "code",
   "execution_count": 24,
   "id": "8eb75d48",
   "metadata": {},
   "outputs": [
    {
     "data": {
      "text/plain": [
       "0"
      ]
     },
     "metadata": {},
     "output_type": "display_data"
    }
   ],
   "source": [
    "display(data_phone.duplicated().sum())"
   ]
  },
  {
   "cell_type": "markdown",
   "id": "c9bf05e7",
   "metadata": {},
   "source": [
    "В датасете 6 361 строка и 2 колоноки.  \n",
    "Дубликатов не найдено. "
   ]
  },
  {
   "cell_type": "markdown",
   "id": "75a13ef1",
   "metadata": {},
   "source": [
    "ПОРТРЕТ КЛИЕНТА"
   ]
  },
  {
   "cell_type": "markdown",
   "id": "06311506",
   "metadata": {},
   "source": [
    "<a id='6-bullet'></a>"
   ]
  },
  {
   "cell_type": "code",
   "execution_count": 25,
   "id": "45948697",
   "metadata": {},
   "outputs": [
    {
     "data": {
      "image/png": "[encoded data removed]",
      "text/plain": [
       "<Figure size 432x288 with 1 Axes>"
      ]
     },
     "metadata": {},
     "output_type": "display_data"
    }
   ],
   "source": [
    "data_personal['gender'].value_counts().plot(kind='pie',title = 'соотношение пользователей мужского и женского пола', \n",
    "                                      ylabel= 'доля пользователей(%)', autopct ='%1.0f%%');"
   ]
  },
  {
   "cell_type": "code",
   "execution_count": 26,
   "id": "7603f544",
   "metadata": {},
   "outputs": [
    {
     "data": {
      "text/html": [
       "<div>\n",
       "<style scoped>\n",
       "    .dataframe tbody tr th:only-of-type {\n",
       "        vertical-align: middle;\n",
       "    }\n",
       "\n",
       "    .dataframe tbody tr th {\n",
       "        vertical-align: top;\n",
       "    }\n",
       "\n",
       "    .dataframe thead th {\n",
       "        text-align: right;\n",
       "    }\n",
       "</style>\n",
       "<table border=\"1\" class=\"dataframe\">\n",
       "  <thead>\n",
       "    <tr style=\"text-align: right;\">\n",
       "      <th>Partner</th>\n",
       "      <th>No</th>\n",
       "      <th>Yes</th>\n",
       "    </tr>\n",
       "    <tr>\n",
       "      <th>gender</th>\n",
       "      <th></th>\n",
       "      <th></th>\n",
       "    </tr>\n",
       "  </thead>\n",
       "  <tbody>\n",
       "    <tr>\n",
       "      <th>Female</th>\n",
       "      <td>1800</td>\n",
       "      <td>1688</td>\n",
       "    </tr>\n",
       "    <tr>\n",
       "      <th>Male</th>\n",
       "      <td>1841</td>\n",
       "      <td>1714</td>\n",
       "    </tr>\n",
       "  </tbody>\n",
       "</table>\n",
       "</div>"
      ],
      "text/plain": [
       "Partner    No   Yes\n",
       "gender             \n",
       "Female   1800  1688\n",
       "Male     1841  1714"
      ]
     },
     "metadata": {},
     "output_type": "display_data"
    }
   ],
   "source": [
    "data_partner = pd.pivot_table(data_personal,index = 'gender',\n",
    "                                 values = 'Dependents',columns='Partner',\n",
    "                                 aggfunc = 'count')\n",
    "\n",
    "display(data_partner.head())"
   ]
  },
  {
   "cell_type": "code",
   "execution_count": 27,
   "id": "8c0f3293",
   "metadata": {},
   "outputs": [
    {
     "data": {
      "text/html": [
       "<div>\n",
       "<style scoped>\n",
       "    .dataframe tbody tr th:only-of-type {\n",
       "        vertical-align: middle;\n",
       "    }\n",
       "\n",
       "    .dataframe tbody tr th {\n",
       "        vertical-align: top;\n",
       "    }\n",
       "\n",
       "    .dataframe thead th {\n",
       "        text-align: right;\n",
       "    }\n",
       "</style>\n",
       "<table border=\"1\" class=\"dataframe\">\n",
       "  <thead>\n",
       "    <tr style=\"text-align: right;\">\n",
       "      <th>Dependents</th>\n",
       "      <th>No</th>\n",
       "      <th>Yes</th>\n",
       "    </tr>\n",
       "    <tr>\n",
       "      <th>gender</th>\n",
       "      <th></th>\n",
       "      <th></th>\n",
       "    </tr>\n",
       "  </thead>\n",
       "  <tbody>\n",
       "    <tr>\n",
       "      <th>Female</th>\n",
       "      <td>2460</td>\n",
       "      <td>1028</td>\n",
       "    </tr>\n",
       "    <tr>\n",
       "      <th>Male</th>\n",
       "      <td>2473</td>\n",
       "      <td>1082</td>\n",
       "    </tr>\n",
       "  </tbody>\n",
       "</table>\n",
       "</div>"
      ],
      "text/plain": [
       "Dependents    No   Yes\n",
       "gender                \n",
       "Female      2460  1028\n",
       "Male        2473  1082"
      ]
     },
     "metadata": {},
     "output_type": "display_data"
    }
   ],
   "source": [
    "data_partner = pd.pivot_table(data_personal,index = 'gender',\n",
    "                                 values = 'Partner',columns='Dependents',\n",
    "                                 aggfunc = 'count')\n",
    "\n",
    "display(data_partner.head())"
   ]
  },
  {
   "cell_type": "code",
   "execution_count": 28,
   "id": "617f5ad3",
   "metadata": {},
   "outputs": [
    {
     "data": {
      "text/html": [
       "<div>\n",
       "<style scoped>\n",
       "    .dataframe tbody tr th:only-of-type {\n",
       "        vertical-align: middle;\n",
       "    }\n",
       "\n",
       "    .dataframe tbody tr th {\n",
       "        vertical-align: top;\n",
       "    }\n",
       "\n",
       "    .dataframe thead th {\n",
       "        text-align: right;\n",
       "    }\n",
       "</style>\n",
       "<table border=\"1\" class=\"dataframe\">\n",
       "  <thead>\n",
       "    <tr style=\"text-align: right;\">\n",
       "      <th>SeniorCitizen</th>\n",
       "      <th>0</th>\n",
       "      <th>1</th>\n",
       "    </tr>\n",
       "    <tr>\n",
       "      <th>gender</th>\n",
       "      <th></th>\n",
       "      <th></th>\n",
       "    </tr>\n",
       "  </thead>\n",
       "  <tbody>\n",
       "    <tr>\n",
       "      <th>Female</th>\n",
       "      <td>2920</td>\n",
       "      <td>568</td>\n",
       "    </tr>\n",
       "    <tr>\n",
       "      <th>Male</th>\n",
       "      <td>2981</td>\n",
       "      <td>574</td>\n",
       "    </tr>\n",
       "  </tbody>\n",
       "</table>\n",
       "</div>"
      ],
      "text/plain": [
       "SeniorCitizen     0    1\n",
       "gender                  \n",
       "Female         2920  568\n",
       "Male           2981  574"
      ]
     },
     "metadata": {},
     "output_type": "display_data"
    }
   ],
   "source": [
    "data_partner = pd.pivot_table(data_personal,index = 'gender',\n",
    "                                 values = 'Partner',columns='SeniorCitizen',\n",
    "                                 aggfunc = 'count')\n",
    "\n",
    "display(data_partner.head())"
   ]
  },
  {
   "cell_type": "markdown",
   "id": "216be8cb",
   "metadata": {},
   "source": [
    "Собирательный образ пользователя выглядит примерно так:  \n",
    "Мужчина или женщина  до пенсионного возраста,имеющие  партнера, но не имеющие детей"
   ]
  },
  {
   "cell_type": "markdown",
   "id": "0420ee81",
   "metadata": {},
   "source": [
    "**Выводы 1:**  \n",
    "\n",
    "В датасете 7 043 строк их сохраним для построения модели. Количетсво столбцов определим после предобработки данных. \n",
    "Дубликатов не найдено.   \n",
    "Ежемесячные платежи варируются от 18,25 до 118,75, где наиболее популярные платежи это 18,25 в мес., и можно сделать предположение что это базовая ежемесячная стоимость услуги  \n",
    "Всего 16% клиентов это пенсионеры   \n",
    "Собирательный образ пользователя:  Мужчина или женщина  до пенсионного возраста,имеющие  партнера, но не имеющие детей  \n",
    "\n",
    "Ответим на вопросы:\n",
    "1) Верно ли,что пенсионеры реже расторгают контракт   \n",
    "2) Верно ли,что женщины и мужчины одинаково расторгают контракт   \n",
    "\n"
   ]
  },
  {
   "cell_type": "markdown",
   "id": "07e66066",
   "metadata": {},
   "source": [
    "##  Предобработка данных,разработка моделей"
   ]
  },
  {
   "cell_type": "markdown",
   "id": "6a40eeb0",
   "metadata": {},
   "source": [
    "ОБЪЕДИНЕНИЕ ДАТАСЕТОВ"
   ]
  },
  {
   "cell_type": "markdown",
   "id": "a48418b4",
   "metadata": {},
   "source": [
    "<a id='7-bullet'></a>"
   ]
  },
  {
   "cell_type": "code",
   "execution_count": 29,
   "id": "5609460f",
   "metadata": {},
   "outputs": [],
   "source": [
    "merget_data_0 = pd.merge(data_contract,data_personal,on=['customerID'],how='left')"
   ]
  },
  {
   "cell_type": "code",
   "execution_count": 30,
   "id": "28fa297e",
   "metadata": {},
   "outputs": [
    {
     "name": "stdout",
     "output_type": "stream",
     "text": [
      "<class 'pandas.core.frame.DataFrame'>\n",
      "Int64Index: 7043 entries, 0 to 7042\n",
      "Data columns (total 12 columns):\n",
      " #   Column            Non-Null Count  Dtype  \n",
      "---  ------            --------------  -----  \n",
      " 0   customerID        7043 non-null   object \n",
      " 1   BeginDate         7043 non-null   object \n",
      " 2   EndDate           7043 non-null   object \n",
      " 3   Type              7043 non-null   object \n",
      " 4   PaperlessBilling  7043 non-null   object \n",
      " 5   PaymentMethod     7043 non-null   object \n",
      " 6   MonthlyCharges    7043 non-null   float64\n",
      " 7   TotalCharges      7043 non-null   object \n",
      " 8   gender            7043 non-null   object \n",
      " 9   SeniorCitizen     7043 non-null   int64  \n",
      " 10  Partner           7043 non-null   object \n",
      " 11  Dependents        7043 non-null   object \n",
      "dtypes: float64(1), int64(1), object(10)\n",
      "memory usage: 715.3+ KB\n"
     ]
    }
   ],
   "source": [
    "merget_data_0.info()"
   ]
  },
  {
   "cell_type": "code",
   "execution_count": 31,
   "id": "2ba4f2df",
   "metadata": {},
   "outputs": [],
   "source": [
    "merget_data_1 = pd.merge(merget_data_0,data_phone,on=['customerID'],how='left')"
   ]
  },
  {
   "cell_type": "code",
   "execution_count": 32,
   "id": "5e9063dc",
   "metadata": {},
   "outputs": [],
   "source": [
    "merget_data = pd.merge(merget_data_1,data_internet,on=['customerID'],how='left')"
   ]
  },
  {
   "cell_type": "code",
   "execution_count": 33,
   "id": "28309b9e",
   "metadata": {},
   "outputs": [],
   "source": [
    "merget_data.columns = merget_data.columns.str.lower()"
   ]
  },
  {
   "cell_type": "code",
   "execution_count": 34,
   "id": "34d16c30",
   "metadata": {},
   "outputs": [
    {
     "name": "stdout",
     "output_type": "stream",
     "text": [
      "<class 'pandas.core.frame.DataFrame'>\n",
      "Int64Index: 7043 entries, 0 to 7042\n",
      "Data columns (total 20 columns):\n",
      " #   Column            Non-Null Count  Dtype  \n",
      "---  ------            --------------  -----  \n",
      " 0   customerid        7043 non-null   object \n",
      " 1   begindate         7043 non-null   object \n",
      " 2   enddate           7043 non-null   object \n",
      " 3   type              7043 non-null   object \n",
      " 4   paperlessbilling  7043 non-null   object \n",
      " 5   paymentmethod     7043 non-null   object \n",
      " 6   monthlycharges    7043 non-null   float64\n",
      " 7   totalcharges      7043 non-null   object \n",
      " 8   gender            7043 non-null   object \n",
      " 9   seniorcitizen     7043 non-null   int64  \n",
      " 10  partner           7043 non-null   object \n",
      " 11  dependents        7043 non-null   object \n",
      " 12  multiplelines     6361 non-null   object \n",
      " 13  internetservice   5517 non-null   object \n",
      " 14  onlinesecurity    5517 non-null   object \n",
      " 15  onlinebackup      5517 non-null   object \n",
      " 16  deviceprotection  5517 non-null   object \n",
      " 17  techsupport       5517 non-null   object \n",
      " 18  streamingtv       5517 non-null   object \n",
      " 19  streamingmovies   5517 non-null   object \n",
      "dtypes: float64(1), int64(1), object(18)\n",
      "memory usage: 1.1+ MB\n"
     ]
    }
   ],
   "source": [
    "merget_data.info()"
   ]
  },
  {
   "cell_type": "code",
   "execution_count": 35,
   "id": "bb12b1e6",
   "metadata": {},
   "outputs": [
    {
     "data": {
      "text/html": [
       "<div>\n",
       "<style scoped>\n",
       "    .dataframe tbody tr th:only-of-type {\n",
       "        vertical-align: middle;\n",
       "    }\n",
       "\n",
       "    .dataframe tbody tr th {\n",
       "        vertical-align: top;\n",
       "    }\n",
       "\n",
       "    .dataframe thead th {\n",
       "        text-align: right;\n",
       "    }\n",
       "</style>\n",
       "<table border=\"1\" class=\"dataframe\">\n",
       "  <thead>\n",
       "    <tr style=\"text-align: right;\">\n",
       "      <th></th>\n",
       "      <th>customerid</th>\n",
       "      <th>begindate</th>\n",
       "      <th>enddate</th>\n",
       "      <th>type</th>\n",
       "      <th>paperlessbilling</th>\n",
       "      <th>paymentmethod</th>\n",
       "      <th>monthlycharges</th>\n",
       "      <th>totalcharges</th>\n",
       "      <th>gender</th>\n",
       "      <th>seniorcitizen</th>\n",
       "      <th>partner</th>\n",
       "      <th>dependents</th>\n",
       "      <th>multiplelines</th>\n",
       "      <th>internetservice</th>\n",
       "      <th>onlinesecurity</th>\n",
       "      <th>onlinebackup</th>\n",
       "      <th>deviceprotection</th>\n",
       "      <th>techsupport</th>\n",
       "      <th>streamingtv</th>\n",
       "      <th>streamingmovies</th>\n",
       "    </tr>\n",
       "  </thead>\n",
       "  <tbody>\n",
       "    <tr>\n",
       "      <th>7033</th>\n",
       "      <td>9767-FFLEM</td>\n",
       "      <td>2016-12-01</td>\n",
       "      <td>No</td>\n",
       "      <td>Month-to-month</td>\n",
       "      <td>Yes</td>\n",
       "      <td>Credit card (automatic)</td>\n",
       "      <td>69.50</td>\n",
       "      <td>2693.82</td>\n",
       "      <td>Male</td>\n",
       "      <td>0</td>\n",
       "      <td>No</td>\n",
       "      <td>No</td>\n",
       "      <td>No</td>\n",
       "      <td>Fiber optic</td>\n",
       "      <td>No</td>\n",
       "      <td>No</td>\n",
       "      <td>No</td>\n",
       "      <td>No</td>\n",
       "      <td>No</td>\n",
       "      <td>No</td>\n",
       "    </tr>\n",
       "    <tr>\n",
       "      <th>7034</th>\n",
       "      <td>0639-TSIQW</td>\n",
       "      <td>2014-03-01</td>\n",
       "      <td>2015-11-01</td>\n",
       "      <td>Month-to-month</td>\n",
       "      <td>Yes</td>\n",
       "      <td>Credit card (automatic)</td>\n",
       "      <td>102.95</td>\n",
       "      <td>2059.0</td>\n",
       "      <td>Female</td>\n",
       "      <td>0</td>\n",
       "      <td>No</td>\n",
       "      <td>No</td>\n",
       "      <td>Yes</td>\n",
       "      <td>Fiber optic</td>\n",
       "      <td>Yes</td>\n",
       "      <td>Yes</td>\n",
       "      <td>Yes</td>\n",
       "      <td>No</td>\n",
       "      <td>Yes</td>\n",
       "      <td>No</td>\n",
       "    </tr>\n",
       "    <tr>\n",
       "      <th>7035</th>\n",
       "      <td>8456-QDAVC</td>\n",
       "      <td>2018-07-01</td>\n",
       "      <td>No</td>\n",
       "      <td>Month-to-month</td>\n",
       "      <td>Yes</td>\n",
       "      <td>Bank transfer (automatic)</td>\n",
       "      <td>78.70</td>\n",
       "      <td>1585.02</td>\n",
       "      <td>Male</td>\n",
       "      <td>0</td>\n",
       "      <td>No</td>\n",
       "      <td>No</td>\n",
       "      <td>No</td>\n",
       "      <td>Fiber optic</td>\n",
       "      <td>No</td>\n",
       "      <td>No</td>\n",
       "      <td>No</td>\n",
       "      <td>No</td>\n",
       "      <td>Yes</td>\n",
       "      <td>No</td>\n",
       "    </tr>\n",
       "    <tr>\n",
       "      <th>7036</th>\n",
       "      <td>7750-EYXWZ</td>\n",
       "      <td>2019-02-01</td>\n",
       "      <td>No</td>\n",
       "      <td>One year</td>\n",
       "      <td>No</td>\n",
       "      <td>Electronic check</td>\n",
       "      <td>60.65</td>\n",
       "      <td>727.8</td>\n",
       "      <td>Female</td>\n",
       "      <td>0</td>\n",
       "      <td>No</td>\n",
       "      <td>No</td>\n",
       "      <td>NaN</td>\n",
       "      <td>DSL</td>\n",
       "      <td>No</td>\n",
       "      <td>Yes</td>\n",
       "      <td>Yes</td>\n",
       "      <td>Yes</td>\n",
       "      <td>Yes</td>\n",
       "      <td>Yes</td>\n",
       "    </tr>\n",
       "    <tr>\n",
       "      <th>7037</th>\n",
       "      <td>2569-WGERO</td>\n",
       "      <td>2014-02-01</td>\n",
       "      <td>No</td>\n",
       "      <td>Two year</td>\n",
       "      <td>Yes</td>\n",
       "      <td>Bank transfer (automatic)</td>\n",
       "      <td>21.15</td>\n",
       "      <td>1553.26</td>\n",
       "      <td>Female</td>\n",
       "      <td>0</td>\n",
       "      <td>No</td>\n",
       "      <td>No</td>\n",
       "      <td>No</td>\n",
       "      <td>NaN</td>\n",
       "      <td>NaN</td>\n",
       "      <td>NaN</td>\n",
       "      <td>NaN</td>\n",
       "      <td>NaN</td>\n",
       "      <td>NaN</td>\n",
       "      <td>NaN</td>\n",
       "    </tr>\n",
       "    <tr>\n",
       "      <th>7038</th>\n",
       "      <td>6840-RESVB</td>\n",
       "      <td>2018-02-01</td>\n",
       "      <td>No</td>\n",
       "      <td>One year</td>\n",
       "      <td>Yes</td>\n",
       "      <td>Mailed check</td>\n",
       "      <td>84.80</td>\n",
       "      <td>2035.2</td>\n",
       "      <td>Male</td>\n",
       "      <td>0</td>\n",
       "      <td>Yes</td>\n",
       "      <td>Yes</td>\n",
       "      <td>Yes</td>\n",
       "      <td>DSL</td>\n",
       "      <td>Yes</td>\n",
       "      <td>No</td>\n",
       "      <td>Yes</td>\n",
       "      <td>Yes</td>\n",
       "      <td>Yes</td>\n",
       "      <td>Yes</td>\n",
       "    </tr>\n",
       "    <tr>\n",
       "      <th>7039</th>\n",
       "      <td>2234-XADUH</td>\n",
       "      <td>2014-02-01</td>\n",
       "      <td>No</td>\n",
       "      <td>One year</td>\n",
       "      <td>Yes</td>\n",
       "      <td>Credit card (automatic)</td>\n",
       "      <td>103.20</td>\n",
       "      <td>7430.4</td>\n",
       "      <td>Female</td>\n",
       "      <td>0</td>\n",
       "      <td>Yes</td>\n",
       "      <td>Yes</td>\n",
       "      <td>Yes</td>\n",
       "      <td>Fiber optic</td>\n",
       "      <td>No</td>\n",
       "      <td>Yes</td>\n",
       "      <td>Yes</td>\n",
       "      <td>No</td>\n",
       "      <td>Yes</td>\n",
       "      <td>Yes</td>\n",
       "    </tr>\n",
       "    <tr>\n",
       "      <th>7040</th>\n",
       "      <td>4801-JZAZL</td>\n",
       "      <td>2019-03-01</td>\n",
       "      <td>No</td>\n",
       "      <td>Month-to-month</td>\n",
       "      <td>Yes</td>\n",
       "      <td>Electronic check</td>\n",
       "      <td>29.60</td>\n",
       "      <td>325.6</td>\n",
       "      <td>Female</td>\n",
       "      <td>0</td>\n",
       "      <td>Yes</td>\n",
       "      <td>Yes</td>\n",
       "      <td>NaN</td>\n",
       "      <td>DSL</td>\n",
       "      <td>Yes</td>\n",
       "      <td>No</td>\n",
       "      <td>No</td>\n",
       "      <td>No</td>\n",
       "      <td>No</td>\n",
       "      <td>No</td>\n",
       "    </tr>\n",
       "    <tr>\n",
       "      <th>7041</th>\n",
       "      <td>8361-LTMKD</td>\n",
       "      <td>2019-07-01</td>\n",
       "      <td>No</td>\n",
       "      <td>Month-to-month</td>\n",
       "      <td>Yes</td>\n",
       "      <td>Mailed check</td>\n",
       "      <td>74.40</td>\n",
       "      <td>520.8</td>\n",
       "      <td>Male</td>\n",
       "      <td>1</td>\n",
       "      <td>Yes</td>\n",
       "      <td>No</td>\n",
       "      <td>Yes</td>\n",
       "      <td>Fiber optic</td>\n",
       "      <td>No</td>\n",
       "      <td>No</td>\n",
       "      <td>No</td>\n",
       "      <td>No</td>\n",
       "      <td>No</td>\n",
       "      <td>No</td>\n",
       "    </tr>\n",
       "    <tr>\n",
       "      <th>7042</th>\n",
       "      <td>3186-AJIEK</td>\n",
       "      <td>2014-08-01</td>\n",
       "      <td>No</td>\n",
       "      <td>Two year</td>\n",
       "      <td>Yes</td>\n",
       "      <td>Bank transfer (automatic)</td>\n",
       "      <td>105.65</td>\n",
       "      <td>7251.82</td>\n",
       "      <td>Male</td>\n",
       "      <td>0</td>\n",
       "      <td>No</td>\n",
       "      <td>No</td>\n",
       "      <td>No</td>\n",
       "      <td>Fiber optic</td>\n",
       "      <td>Yes</td>\n",
       "      <td>No</td>\n",
       "      <td>Yes</td>\n",
       "      <td>Yes</td>\n",
       "      <td>Yes</td>\n",
       "      <td>Yes</td>\n",
       "    </tr>\n",
       "  </tbody>\n",
       "</table>\n",
       "</div>"
      ],
      "text/plain": [
       "      customerid   begindate     enddate            type paperlessbilling  \\\n",
       "7033  9767-FFLEM  2016-12-01          No  Month-to-month              Yes   \n",
       "7034  0639-TSIQW  2014-03-01  2015-11-01  Month-to-month              Yes   \n",
       "7035  8456-QDAVC  2018-07-01          No  Month-to-month              Yes   \n",
       "7036  7750-EYXWZ  2019-02-01          No        One year               No   \n",
       "7037  2569-WGERO  2014-02-01          No        Two year              Yes   \n",
       "7038  6840-RESVB  2018-02-01          No        One year              Yes   \n",
       "7039  2234-XADUH  2014-02-01          No        One year              Yes   \n",
       "7040  4801-JZAZL  2019-03-01          No  Month-to-month              Yes   \n",
       "7041  8361-LTMKD  2019-07-01          No  Month-to-month              Yes   \n",
       "7042  3186-AJIEK  2014-08-01          No        Two year              Yes   \n",
       "\n",
       "                  paymentmethod  monthlycharges totalcharges  gender  \\\n",
       "7033    Credit card (automatic)           69.50      2693.82    Male   \n",
       "7034    Credit card (automatic)          102.95       2059.0  Female   \n",
       "7035  Bank transfer (automatic)           78.70      1585.02    Male   \n",
       "7036           Electronic check           60.65        727.8  Female   \n",
       "7037  Bank transfer (automatic)           21.15      1553.26  Female   \n",
       "7038               Mailed check           84.80       2035.2    Male   \n",
       "7039    Credit card (automatic)          103.20       7430.4  Female   \n",
       "7040           Electronic check           29.60        325.6  Female   \n",
       "7041               Mailed check           74.40        520.8    Male   \n",
       "7042  Bank transfer (automatic)          105.65      7251.82    Male   \n",
       "\n",
       "      seniorcitizen partner dependents multiplelines internetservice  \\\n",
       "7033              0      No         No            No     Fiber optic   \n",
       "7034              0      No         No           Yes     Fiber optic   \n",
       "7035              0      No         No            No     Fiber optic   \n",
       "7036              0      No         No           NaN             DSL   \n",
       "7037              0      No         No            No             NaN   \n",
       "7038              0     Yes        Yes           Yes             DSL   \n",
       "7039              0     Yes        Yes           Yes     Fiber optic   \n",
       "7040              0     Yes        Yes           NaN             DSL   \n",
       "7041              1     Yes         No           Yes     Fiber optic   \n",
       "7042              0      No         No            No     Fiber optic   \n",
       "\n",
       "     onlinesecurity onlinebackup deviceprotection techsupport streamingtv  \\\n",
       "7033             No           No               No          No          No   \n",
       "7034            Yes          Yes              Yes          No         Yes   \n",
       "7035             No           No               No          No         Yes   \n",
       "7036             No          Yes              Yes         Yes         Yes   \n",
       "7037            NaN          NaN              NaN         NaN         NaN   \n",
       "7038            Yes           No              Yes         Yes         Yes   \n",
       "7039             No          Yes              Yes          No         Yes   \n",
       "7040            Yes           No               No          No          No   \n",
       "7041             No           No               No          No          No   \n",
       "7042            Yes           No              Yes         Yes         Yes   \n",
       "\n",
       "     streamingmovies  \n",
       "7033              No  \n",
       "7034              No  \n",
       "7035              No  \n",
       "7036             Yes  \n",
       "7037             NaN  \n",
       "7038             Yes  \n",
       "7039             Yes  \n",
       "7040              No  \n",
       "7041              No  \n",
       "7042             Yes  "
      ]
     },
     "metadata": {},
     "output_type": "display_data"
    }
   ],
   "source": [
    "display(merget_data.tail(10))"
   ]
  },
  {
   "cell_type": "code",
   "execution_count": 36,
   "id": "147fc03f",
   "metadata": {},
   "outputs": [
    {
     "data": {
      "text/plain": [
       "customerid          0.000000\n",
       "begindate           0.000000\n",
       "enddate             0.000000\n",
       "type                0.000000\n",
       "paperlessbilling    0.000000\n",
       "paymentmethod       0.000000\n",
       "monthlycharges      0.000000\n",
       "totalcharges        0.000000\n",
       "gender              0.000000\n",
       "seniorcitizen       0.000000\n",
       "partner             0.000000\n",
       "dependents          0.000000\n",
       "multiplelines       0.096834\n",
       "internetservice     0.216669\n",
       "onlinesecurity      0.216669\n",
       "onlinebackup        0.216669\n",
       "deviceprotection    0.216669\n",
       "techsupport         0.216669\n",
       "streamingtv         0.216669\n",
       "streamingmovies     0.216669\n",
       "dtype: float64"
      ]
     },
     "execution_count": 36,
     "metadata": {},
     "output_type": "execute_result"
    }
   ],
   "source": [
    "merget_data.isna().mean()"
   ]
  },
  {
   "cell_type": "markdown",
   "id": "143843d4",
   "metadata": {},
   "source": [
    "<a id='8-bullet'></a>"
   ]
  },
  {
   "cell_type": "markdown",
   "id": "d7e5231e",
   "metadata": {},
   "source": [
    "ПОИСК И ЛИКВИДАЦИЯ ПРОПУСКОВ В ДАТАСЕТЕ"
   ]
  },
  {
   "cell_type": "markdown",
   "id": "7c9d2907",
   "metadata": {},
   "source": [
    "начнем с анамолий,вв п.1 было выявлено что столбец totalcharges содержит данные с пробелами (' ')   \n",
    "Так поле содержит  сильный разброс,то заменим на медианное значение"
   ]
  },
  {
   "cell_type": "code",
   "execution_count": 37,
   "id": "12d54b03",
   "metadata": {},
   "outputs": [
    {
     "name": "stderr",
     "output_type": "stream",
     "text": [
      "/tmp/ipykernel_31/3834482338.py:2: SettingWithCopyWarning: \n",
      "A value is trying to be set on a copy of a slice from a DataFrame.\n",
      "Try using .loc[row_indexer,col_indexer] = value instead\n",
      "\n",
      "See the caveats in the documentation: https://pandas.pydata.org/pandas-docs/stable/user_guide/indexing.html#returning-a-view-versus-a-copy\n",
      "  merget_data_totalcharges['totalcharges'] = merget_data_totalcharges['totalcharges'].astype(float)\n"
     ]
    }
   ],
   "source": [
    "merget_data_totalcharges=merget_data.loc[merget_data['totalcharges']!=' ']\n",
    "merget_data_totalcharges['totalcharges'] = merget_data_totalcharges['totalcharges'].astype(float)\n"
   ]
  },
  {
   "cell_type": "code",
   "execution_count": 38,
   "id": "52b1cea5",
   "metadata": {},
   "outputs": [
    {
     "data": {
      "image/png": "[encoded data removed]",
      "text/plain": [
       "<Figure size 432x288 with 1 Axes>"
      ]
     },
     "metadata": {
      "needs_background": "light"
     },
     "output_type": "display_data"
    }
   ],
   "source": [
    "plt.hist(merget_data_totalcharges['totalcharges'],color='blue',edgecolor='black', bins=int(180/5))\n",
    "plt.title('Расходы за год')\n",
    "plt.xlabel('Расходы')\n",
    "plt.ylabel('Кол-во')\n",
    "plt.show();"
   ]
  },
  {
   "cell_type": "code",
   "execution_count": 39,
   "id": "b30ab1bc",
   "metadata": {},
   "outputs": [
    {
     "data": {
      "text/plain": [
       "1345.275"
      ]
     },
     "metadata": {},
     "output_type": "display_data"
    }
   ],
   "source": [
    "sr = merget_data_totalcharges['totalcharges'].median()\n",
    "display(sr)"
   ]
  },
  {
   "cell_type": "code",
   "execution_count": 40,
   "id": "c5411c6e",
   "metadata": {},
   "outputs": [],
   "source": [
    "merget_data['totalcharges'] = merget_data['totalcharges'].replace(' ',sr)\n",
    "merget_data['totalcharges'] = merget_data['totalcharges'].astype(float)"
   ]
  },
  {
   "cell_type": "code",
   "execution_count": 41,
   "id": "d45f07df",
   "metadata": {},
   "outputs": [
    {
     "data": {
      "image/png": "[encoded data removed]",
      "text/plain": [
       "<Figure size 432x288 with 1 Axes>"
      ]
     },
     "metadata": {
      "needs_background": "light"
     },
     "output_type": "display_data"
    }
   ],
   "source": [
    "plt.hist(merget_data['totalcharges'],color='blue',edgecolor='black', bins=int(180/5))\n",
    "plt.title('Расходы за год')\n",
    "plt.xlabel('Расходы')\n",
    "plt.ylabel('Кол-во')\n",
    "plt.show();"
   ]
  },
  {
   "cell_type": "markdown",
   "id": "4e3bb9e2",
   "metadata": {},
   "source": [
    "Заменили пробелы средним значением и посомтрели как изменился график распределения значений   \n",
    "Далее заменим пропуски в других столбцах - multiplelines,internetservice,onlinesecurity,onlinebackup,deviceprotection,techsupport,streamingtv,streamingmovies\n"
   ]
  },
  {
   "cell_type": "code",
   "execution_count": 42,
   "id": "4b5de499",
   "metadata": {},
   "outputs": [
    {
     "data": {
      "text/html": [
       "<div>\n",
       "<style scoped>\n",
       "    .dataframe tbody tr th:only-of-type {\n",
       "        vertical-align: middle;\n",
       "    }\n",
       "\n",
       "    .dataframe tbody tr th {\n",
       "        vertical-align: top;\n",
       "    }\n",
       "\n",
       "    .dataframe thead th {\n",
       "        text-align: right;\n",
       "    }\n",
       "</style>\n",
       "<table border=\"1\" class=\"dataframe\">\n",
       "  <thead>\n",
       "    <tr style=\"text-align: right;\">\n",
       "      <th></th>\n",
       "      <th>customerid</th>\n",
       "      <th>begindate</th>\n",
       "      <th>enddate</th>\n",
       "      <th>type</th>\n",
       "      <th>paperlessbilling</th>\n",
       "      <th>paymentmethod</th>\n",
       "      <th>monthlycharges</th>\n",
       "      <th>totalcharges</th>\n",
       "      <th>gender</th>\n",
       "      <th>seniorcitizen</th>\n",
       "      <th>partner</th>\n",
       "      <th>dependents</th>\n",
       "      <th>multiplelines</th>\n",
       "      <th>internetservice</th>\n",
       "      <th>onlinesecurity</th>\n",
       "      <th>onlinebackup</th>\n",
       "      <th>deviceprotection</th>\n",
       "      <th>techsupport</th>\n",
       "      <th>streamingtv</th>\n",
       "      <th>streamingmovies</th>\n",
       "    </tr>\n",
       "  </thead>\n",
       "  <tbody>\n",
       "    <tr>\n",
       "      <th>11</th>\n",
       "      <td>7469-LKBCI</td>\n",
       "      <td>2018-10-01</td>\n",
       "      <td>No</td>\n",
       "      <td>Two year</td>\n",
       "      <td>No</td>\n",
       "      <td>Credit card (automatic)</td>\n",
       "      <td>18.95</td>\n",
       "      <td>312.30</td>\n",
       "      <td>Male</td>\n",
       "      <td>0</td>\n",
       "      <td>No</td>\n",
       "      <td>No</td>\n",
       "      <td>No</td>\n",
       "      <td>NaN</td>\n",
       "      <td>NaN</td>\n",
       "      <td>NaN</td>\n",
       "      <td>NaN</td>\n",
       "      <td>NaN</td>\n",
       "      <td>NaN</td>\n",
       "      <td>NaN</td>\n",
       "    </tr>\n",
       "    <tr>\n",
       "      <th>16</th>\n",
       "      <td>8191-XWSZG</td>\n",
       "      <td>2015-10-01</td>\n",
       "      <td>No</td>\n",
       "      <td>One year</td>\n",
       "      <td>No</td>\n",
       "      <td>Mailed check</td>\n",
       "      <td>20.65</td>\n",
       "      <td>1106.01</td>\n",
       "      <td>Female</td>\n",
       "      <td>0</td>\n",
       "      <td>No</td>\n",
       "      <td>No</td>\n",
       "      <td>No</td>\n",
       "      <td>NaN</td>\n",
       "      <td>NaN</td>\n",
       "      <td>NaN</td>\n",
       "      <td>NaN</td>\n",
       "      <td>NaN</td>\n",
       "      <td>NaN</td>\n",
       "      <td>NaN</td>\n",
       "    </tr>\n",
       "    <tr>\n",
       "      <th>21</th>\n",
       "      <td>1680-VDCWW</td>\n",
       "      <td>2019-02-01</td>\n",
       "      <td>No</td>\n",
       "      <td>One year</td>\n",
       "      <td>No</td>\n",
       "      <td>Bank transfer (automatic)</td>\n",
       "      <td>19.80</td>\n",
       "      <td>237.60</td>\n",
       "      <td>Male</td>\n",
       "      <td>0</td>\n",
       "      <td>Yes</td>\n",
       "      <td>No</td>\n",
       "      <td>No</td>\n",
       "      <td>NaN</td>\n",
       "      <td>NaN</td>\n",
       "      <td>NaN</td>\n",
       "      <td>NaN</td>\n",
       "      <td>NaN</td>\n",
       "      <td>NaN</td>\n",
       "      <td>NaN</td>\n",
       "    </tr>\n",
       "    <tr>\n",
       "      <th>22</th>\n",
       "      <td>1066-JKSGK</td>\n",
       "      <td>2019-11-01</td>\n",
       "      <td>No</td>\n",
       "      <td>Month-to-month</td>\n",
       "      <td>No</td>\n",
       "      <td>Mailed check</td>\n",
       "      <td>20.15</td>\n",
       "      <td>61.05</td>\n",
       "      <td>Male</td>\n",
       "      <td>0</td>\n",
       "      <td>No</td>\n",
       "      <td>No</td>\n",
       "      <td>No</td>\n",
       "      <td>NaN</td>\n",
       "      <td>NaN</td>\n",
       "      <td>NaN</td>\n",
       "      <td>NaN</td>\n",
       "      <td>NaN</td>\n",
       "      <td>NaN</td>\n",
       "      <td>NaN</td>\n",
       "    </tr>\n",
       "    <tr>\n",
       "      <th>33</th>\n",
       "      <td>7310-EGVHZ</td>\n",
       "      <td>2020-01-01</td>\n",
       "      <td>No</td>\n",
       "      <td>Month-to-month</td>\n",
       "      <td>No</td>\n",
       "      <td>Bank transfer (automatic)</td>\n",
       "      <td>20.20</td>\n",
       "      <td>22.22</td>\n",
       "      <td>Male</td>\n",
       "      <td>0</td>\n",
       "      <td>No</td>\n",
       "      <td>No</td>\n",
       "      <td>No</td>\n",
       "      <td>NaN</td>\n",
       "      <td>NaN</td>\n",
       "      <td>NaN</td>\n",
       "      <td>NaN</td>\n",
       "      <td>NaN</td>\n",
       "      <td>NaN</td>\n",
       "      <td>NaN</td>\n",
       "    </tr>\n",
       "    <tr>\n",
       "      <th>...</th>\n",
       "      <td>...</td>\n",
       "      <td>...</td>\n",
       "      <td>...</td>\n",
       "      <td>...</td>\n",
       "      <td>...</td>\n",
       "      <td>...</td>\n",
       "      <td>...</td>\n",
       "      <td>...</td>\n",
       "      <td>...</td>\n",
       "      <td>...</td>\n",
       "      <td>...</td>\n",
       "      <td>...</td>\n",
       "      <td>...</td>\n",
       "      <td>...</td>\n",
       "      <td>...</td>\n",
       "      <td>...</td>\n",
       "      <td>...</td>\n",
       "      <td>...</td>\n",
       "      <td>...</td>\n",
       "      <td>...</td>\n",
       "    </tr>\n",
       "    <tr>\n",
       "      <th>7017</th>\n",
       "      <td>4807-IZYOZ</td>\n",
       "      <td>2015-11-01</td>\n",
       "      <td>No</td>\n",
       "      <td>Two year</td>\n",
       "      <td>No</td>\n",
       "      <td>Bank transfer (automatic)</td>\n",
       "      <td>20.65</td>\n",
       "      <td>1053.15</td>\n",
       "      <td>Female</td>\n",
       "      <td>0</td>\n",
       "      <td>No</td>\n",
       "      <td>No</td>\n",
       "      <td>No</td>\n",
       "      <td>NaN</td>\n",
       "      <td>NaN</td>\n",
       "      <td>NaN</td>\n",
       "      <td>NaN</td>\n",
       "      <td>NaN</td>\n",
       "      <td>NaN</td>\n",
       "      <td>NaN</td>\n",
       "    </tr>\n",
       "    <tr>\n",
       "      <th>7019</th>\n",
       "      <td>9710-NJERN</td>\n",
       "      <td>2016-11-01</td>\n",
       "      <td>No</td>\n",
       "      <td>Two year</td>\n",
       "      <td>No</td>\n",
       "      <td>Mailed check</td>\n",
       "      <td>20.15</td>\n",
       "      <td>785.85</td>\n",
       "      <td>Female</td>\n",
       "      <td>0</td>\n",
       "      <td>No</td>\n",
       "      <td>No</td>\n",
       "      <td>No</td>\n",
       "      <td>NaN</td>\n",
       "      <td>NaN</td>\n",
       "      <td>NaN</td>\n",
       "      <td>NaN</td>\n",
       "      <td>NaN</td>\n",
       "      <td>NaN</td>\n",
       "      <td>NaN</td>\n",
       "    </tr>\n",
       "    <tr>\n",
       "      <th>7020</th>\n",
       "      <td>9837-FWLCH</td>\n",
       "      <td>2019-02-01</td>\n",
       "      <td>No</td>\n",
       "      <td>Month-to-month</td>\n",
       "      <td>Yes</td>\n",
       "      <td>Electronic check</td>\n",
       "      <td>19.20</td>\n",
       "      <td>246.53</td>\n",
       "      <td>Male</td>\n",
       "      <td>0</td>\n",
       "      <td>Yes</td>\n",
       "      <td>Yes</td>\n",
       "      <td>No</td>\n",
       "      <td>NaN</td>\n",
       "      <td>NaN</td>\n",
       "      <td>NaN</td>\n",
       "      <td>NaN</td>\n",
       "      <td>NaN</td>\n",
       "      <td>NaN</td>\n",
       "      <td>NaN</td>\n",
       "    </tr>\n",
       "    <tr>\n",
       "      <th>7030</th>\n",
       "      <td>0871-OPBXW</td>\n",
       "      <td>2019-12-01</td>\n",
       "      <td>No</td>\n",
       "      <td>Month-to-month</td>\n",
       "      <td>Yes</td>\n",
       "      <td>Mailed check</td>\n",
       "      <td>20.05</td>\n",
       "      <td>40.10</td>\n",
       "      <td>Female</td>\n",
       "      <td>0</td>\n",
       "      <td>No</td>\n",
       "      <td>No</td>\n",
       "      <td>No</td>\n",
       "      <td>NaN</td>\n",
       "      <td>NaN</td>\n",
       "      <td>NaN</td>\n",
       "      <td>NaN</td>\n",
       "      <td>NaN</td>\n",
       "      <td>NaN</td>\n",
       "      <td>NaN</td>\n",
       "    </tr>\n",
       "    <tr>\n",
       "      <th>7037</th>\n",
       "      <td>2569-WGERO</td>\n",
       "      <td>2014-02-01</td>\n",
       "      <td>No</td>\n",
       "      <td>Two year</td>\n",
       "      <td>Yes</td>\n",
       "      <td>Bank transfer (automatic)</td>\n",
       "      <td>21.15</td>\n",
       "      <td>1553.26</td>\n",
       "      <td>Female</td>\n",
       "      <td>0</td>\n",
       "      <td>No</td>\n",
       "      <td>No</td>\n",
       "      <td>No</td>\n",
       "      <td>NaN</td>\n",
       "      <td>NaN</td>\n",
       "      <td>NaN</td>\n",
       "      <td>NaN</td>\n",
       "      <td>NaN</td>\n",
       "      <td>NaN</td>\n",
       "      <td>NaN</td>\n",
       "    </tr>\n",
       "  </tbody>\n",
       "</table>\n",
       "<p>1184 rows × 20 columns</p>\n",
       "</div>"
      ],
      "text/plain": [
       "      customerid   begindate enddate            type paperlessbilling  \\\n",
       "11    7469-LKBCI  2018-10-01      No        Two year               No   \n",
       "16    8191-XWSZG  2015-10-01      No        One year               No   \n",
       "21    1680-VDCWW  2019-02-01      No        One year               No   \n",
       "22    1066-JKSGK  2019-11-01      No  Month-to-month               No   \n",
       "33    7310-EGVHZ  2020-01-01      No  Month-to-month               No   \n",
       "...          ...         ...     ...             ...              ...   \n",
       "7017  4807-IZYOZ  2015-11-01      No        Two year               No   \n",
       "7019  9710-NJERN  2016-11-01      No        Two year               No   \n",
       "7020  9837-FWLCH  2019-02-01      No  Month-to-month              Yes   \n",
       "7030  0871-OPBXW  2019-12-01      No  Month-to-month              Yes   \n",
       "7037  2569-WGERO  2014-02-01      No        Two year              Yes   \n",
       "\n",
       "                  paymentmethod  monthlycharges  totalcharges  gender  \\\n",
       "11      Credit card (automatic)           18.95        312.30    Male   \n",
       "16                 Mailed check           20.65       1106.01  Female   \n",
       "21    Bank transfer (automatic)           19.80        237.60    Male   \n",
       "22                 Mailed check           20.15         61.05    Male   \n",
       "33    Bank transfer (automatic)           20.20         22.22    Male   \n",
       "...                         ...             ...           ...     ...   \n",
       "7017  Bank transfer (automatic)           20.65       1053.15  Female   \n",
       "7019               Mailed check           20.15        785.85  Female   \n",
       "7020           Electronic check           19.20        246.53    Male   \n",
       "7030               Mailed check           20.05         40.10  Female   \n",
       "7037  Bank transfer (automatic)           21.15       1553.26  Female   \n",
       "\n",
       "      seniorcitizen partner dependents multiplelines internetservice  \\\n",
       "11                0      No         No            No             NaN   \n",
       "16                0      No         No            No             NaN   \n",
       "21                0     Yes         No            No             NaN   \n",
       "22                0      No         No            No             NaN   \n",
       "33                0      No         No            No             NaN   \n",
       "...             ...     ...        ...           ...             ...   \n",
       "7017              0      No         No            No             NaN   \n",
       "7019              0      No         No            No             NaN   \n",
       "7020              0     Yes        Yes            No             NaN   \n",
       "7030              0      No         No            No             NaN   \n",
       "7037              0      No         No            No             NaN   \n",
       "\n",
       "     onlinesecurity onlinebackup deviceprotection techsupport streamingtv  \\\n",
       "11              NaN          NaN              NaN         NaN         NaN   \n",
       "16              NaN          NaN              NaN         NaN         NaN   \n",
       "21              NaN          NaN              NaN         NaN         NaN   \n",
       "22              NaN          NaN              NaN         NaN         NaN   \n",
       "33              NaN          NaN              NaN         NaN         NaN   \n",
       "...             ...          ...              ...         ...         ...   \n",
       "7017            NaN          NaN              NaN         NaN         NaN   \n",
       "7019            NaN          NaN              NaN         NaN         NaN   \n",
       "7020            NaN          NaN              NaN         NaN         NaN   \n",
       "7030            NaN          NaN              NaN         NaN         NaN   \n",
       "7037            NaN          NaN              NaN         NaN         NaN   \n",
       "\n",
       "     streamingmovies  \n",
       "11               NaN  \n",
       "16               NaN  \n",
       "21               NaN  \n",
       "22               NaN  \n",
       "33               NaN  \n",
       "...              ...  \n",
       "7017             NaN  \n",
       "7019             NaN  \n",
       "7020             NaN  \n",
       "7030             NaN  \n",
       "7037             NaN  \n",
       "\n",
       "[1184 rows x 20 columns]"
      ]
     },
     "metadata": {},
     "output_type": "display_data"
    }
   ],
   "source": [
    "display(merget_data.loc[(merget_data['multiplelines']=='No')&(merget_data['internetservice'].isna())])\n"
   ]
  },
  {
   "cell_type": "markdown",
   "id": "32d43648",
   "metadata": {},
   "source": [
    "можно сделать предположение что у пользователей у которых нет подключения телефона к нескольким линиям одновременно и нет интернета и всех сопуствующих услуг привязанных к интернету"
   ]
  },
  {
   "cell_type": "code",
   "execution_count": 43,
   "id": "f0e02015",
   "metadata": {},
   "outputs": [],
   "source": [
    "merget_data['internetservice'] = np.where((merget_data['multiplelines']=='No')&\n",
    "                                          (merget_data['internetservice'].isna()),'No',\n",
    "                                          merget_data['internetservice'])"
   ]
  },
  {
   "cell_type": "code",
   "execution_count": 44,
   "id": "cbd11f02",
   "metadata": {},
   "outputs": [],
   "source": [
    "merget_data['onlinesecurity'] = np.where((merget_data['multiplelines']=='No')&\n",
    "                                          (merget_data['onlinesecurity'].isna()),'No',\n",
    "                                          merget_data['onlinesecurity'])"
   ]
  },
  {
   "cell_type": "code",
   "execution_count": 45,
   "id": "c11b2929",
   "metadata": {},
   "outputs": [],
   "source": [
    "merget_data['deviceprotection'] = np.where((merget_data['multiplelines']=='No')&\n",
    "                                          (merget_data['deviceprotection'].isna()),'No',\n",
    "                                          merget_data['deviceprotection'])"
   ]
  },
  {
   "cell_type": "code",
   "execution_count": 46,
   "id": "2c75f879",
   "metadata": {},
   "outputs": [],
   "source": [
    "merget_data['techsupport'] = np.where((merget_data['multiplelines']=='No')&\n",
    "                                          (merget_data['techsupport'].isna()),'No',\n",
    "                                          merget_data['techsupport'])"
   ]
  },
  {
   "cell_type": "code",
   "execution_count": 47,
   "id": "33230109",
   "metadata": {},
   "outputs": [],
   "source": [
    "merget_data['streamingtv'] = np.where((merget_data['multiplelines']=='No')&\n",
    "                                          (merget_data['streamingtv'].isna()),'No',\n",
    "                                          merget_data['streamingtv'])"
   ]
  },
  {
   "cell_type": "code",
   "execution_count": 48,
   "id": "03696212",
   "metadata": {},
   "outputs": [],
   "source": [
    "merget_data['streamingmovies'] = np.where((merget_data['multiplelines']=='No')&\n",
    "                                          (merget_data['streamingmovies'].isna()),'No',\n",
    "                                          merget_data['streamingmovies'])"
   ]
  },
  {
   "cell_type": "code",
   "execution_count": 49,
   "id": "5461903d",
   "metadata": {},
   "outputs": [],
   "source": [
    "merget_data['onlinebackup'] = np.where((merget_data['multiplelines']=='No')&\n",
    "                                          (merget_data['onlinebackup'].isna()),'No',\n",
    "                                          merget_data['onlinebackup'])"
   ]
  },
  {
   "cell_type": "code",
   "execution_count": 50,
   "id": "86c5b0e4",
   "metadata": {},
   "outputs": [
    {
     "data": {
      "text/plain": [
       "customerid          0.000000\n",
       "begindate           0.000000\n",
       "enddate             0.000000\n",
       "type                0.000000\n",
       "paperlessbilling    0.000000\n",
       "paymentmethod       0.000000\n",
       "monthlycharges      0.000000\n",
       "totalcharges        0.000000\n",
       "gender              0.000000\n",
       "seniorcitizen       0.000000\n",
       "partner             0.000000\n",
       "dependents          0.000000\n",
       "multiplelines       0.096834\n",
       "internetservice     0.048559\n",
       "onlinesecurity      0.048559\n",
       "onlinebackup        0.048559\n",
       "deviceprotection    0.048559\n",
       "techsupport         0.048559\n",
       "streamingtv         0.048559\n",
       "streamingmovies     0.048559\n",
       "dtype: float64"
      ]
     },
     "execution_count": 50,
     "metadata": {},
     "output_type": "execute_result"
    }
   ],
   "source": [
    "merget_data.isna().mean()"
   ]
  },
  {
   "cell_type": "markdown",
   "id": "0fd7f477",
   "metadata": {},
   "source": [
    "заменили пропуски на 'No',где были выявлены закономерности.   \n",
    "остальные пропуски <5% и препологается заменить их на пустые значения"
   ]
  },
  {
   "cell_type": "code",
   "execution_count": 51,
   "id": "22c404ca",
   "metadata": {},
   "outputs": [],
   "source": [
    "merget_data = merget_data.fillna(' ')"
   ]
  },
  {
   "cell_type": "code",
   "execution_count": 52,
   "id": "746c53bf",
   "metadata": {},
   "outputs": [
    {
     "data": {
      "text/plain": [
       "customerid          0.0\n",
       "begindate           0.0\n",
       "enddate             0.0\n",
       "type                0.0\n",
       "paperlessbilling    0.0\n",
       "paymentmethod       0.0\n",
       "monthlycharges      0.0\n",
       "totalcharges        0.0\n",
       "gender              0.0\n",
       "seniorcitizen       0.0\n",
       "partner             0.0\n",
       "dependents          0.0\n",
       "multiplelines       0.0\n",
       "internetservice     0.0\n",
       "onlinesecurity      0.0\n",
       "onlinebackup        0.0\n",
       "deviceprotection    0.0\n",
       "techsupport         0.0\n",
       "streamingtv         0.0\n",
       "streamingmovies     0.0\n",
       "dtype: float64"
      ]
     },
     "execution_count": 52,
     "metadata": {},
     "output_type": "execute_result"
    }
   ],
   "source": [
    "merget_data.isna().mean()"
   ]
  },
  {
   "cell_type": "markdown",
   "id": "7e1b256c",
   "metadata": {},
   "source": [
    "<a id='9-bullet'></a>"
   ]
  },
  {
   "cell_type": "markdown",
   "id": "ddb1a8b5",
   "metadata": {},
   "source": [
    "СОЗДАНИЕ НОВЫХ ПРИЗНАКОВ И ЦЕЛЕВОГО ПРИЗНАКА"
   ]
  },
  {
   "cell_type": "code",
   "execution_count": 53,
   "id": "bdf4a6ac",
   "metadata": {},
   "outputs": [],
   "source": [
    "merget_data['exited'] = 1\n",
    "merget_data['exited'] = np.where(merget_data['enddate']=='No',0,merget_data['exited'])"
   ]
  },
  {
   "cell_type": "code",
   "execution_count": 54,
   "id": "cf58ee96",
   "metadata": {},
   "outputs": [
    {
     "data": {
      "text/html": [
       "<div>\n",
       "<style scoped>\n",
       "    .dataframe tbody tr th:only-of-type {\n",
       "        vertical-align: middle;\n",
       "    }\n",
       "\n",
       "    .dataframe tbody tr th {\n",
       "        vertical-align: top;\n",
       "    }\n",
       "\n",
       "    .dataframe thead th {\n",
       "        text-align: right;\n",
       "    }\n",
       "</style>\n",
       "<table border=\"1\" class=\"dataframe\">\n",
       "  <thead>\n",
       "    <tr style=\"text-align: right;\">\n",
       "      <th></th>\n",
       "      <th>customerid</th>\n",
       "      <th>begindate</th>\n",
       "      <th>enddate</th>\n",
       "      <th>type</th>\n",
       "      <th>paperlessbilling</th>\n",
       "      <th>paymentmethod</th>\n",
       "      <th>monthlycharges</th>\n",
       "      <th>totalcharges</th>\n",
       "      <th>gender</th>\n",
       "      <th>seniorcitizen</th>\n",
       "      <th>...</th>\n",
       "      <th>dependents</th>\n",
       "      <th>multiplelines</th>\n",
       "      <th>internetservice</th>\n",
       "      <th>onlinesecurity</th>\n",
       "      <th>onlinebackup</th>\n",
       "      <th>deviceprotection</th>\n",
       "      <th>techsupport</th>\n",
       "      <th>streamingtv</th>\n",
       "      <th>streamingmovies</th>\n",
       "      <th>exited</th>\n",
       "    </tr>\n",
       "  </thead>\n",
       "  <tbody>\n",
       "    <tr>\n",
       "      <th>7033</th>\n",
       "      <td>9767-FFLEM</td>\n",
       "      <td>2016-12-01</td>\n",
       "      <td>No</td>\n",
       "      <td>Month-to-month</td>\n",
       "      <td>Yes</td>\n",
       "      <td>Credit card (automatic)</td>\n",
       "      <td>69.50</td>\n",
       "      <td>2693.82</td>\n",
       "      <td>Male</td>\n",
       "      <td>0</td>\n",
       "      <td>...</td>\n",
       "      <td>No</td>\n",
       "      <td>No</td>\n",
       "      <td>Fiber optic</td>\n",
       "      <td>No</td>\n",
       "      <td>No</td>\n",
       "      <td>No</td>\n",
       "      <td>No</td>\n",
       "      <td>No</td>\n",
       "      <td>No</td>\n",
       "      <td>0</td>\n",
       "    </tr>\n",
       "    <tr>\n",
       "      <th>7034</th>\n",
       "      <td>0639-TSIQW</td>\n",
       "      <td>2014-03-01</td>\n",
       "      <td>2015-11-01</td>\n",
       "      <td>Month-to-month</td>\n",
       "      <td>Yes</td>\n",
       "      <td>Credit card (automatic)</td>\n",
       "      <td>102.95</td>\n",
       "      <td>2059.00</td>\n",
       "      <td>Female</td>\n",
       "      <td>0</td>\n",
       "      <td>...</td>\n",
       "      <td>No</td>\n",
       "      <td>Yes</td>\n",
       "      <td>Fiber optic</td>\n",
       "      <td>Yes</td>\n",
       "      <td>Yes</td>\n",
       "      <td>Yes</td>\n",
       "      <td>No</td>\n",
       "      <td>Yes</td>\n",
       "      <td>No</td>\n",
       "      <td>1</td>\n",
       "    </tr>\n",
       "    <tr>\n",
       "      <th>7035</th>\n",
       "      <td>8456-QDAVC</td>\n",
       "      <td>2018-07-01</td>\n",
       "      <td>No</td>\n",
       "      <td>Month-to-month</td>\n",
       "      <td>Yes</td>\n",
       "      <td>Bank transfer (automatic)</td>\n",
       "      <td>78.70</td>\n",
       "      <td>1585.02</td>\n",
       "      <td>Male</td>\n",
       "      <td>0</td>\n",
       "      <td>...</td>\n",
       "      <td>No</td>\n",
       "      <td>No</td>\n",
       "      <td>Fiber optic</td>\n",
       "      <td>No</td>\n",
       "      <td>No</td>\n",
       "      <td>No</td>\n",
       "      <td>No</td>\n",
       "      <td>Yes</td>\n",
       "      <td>No</td>\n",
       "      <td>0</td>\n",
       "    </tr>\n",
       "    <tr>\n",
       "      <th>7036</th>\n",
       "      <td>7750-EYXWZ</td>\n",
       "      <td>2019-02-01</td>\n",
       "      <td>No</td>\n",
       "      <td>One year</td>\n",
       "      <td>No</td>\n",
       "      <td>Electronic check</td>\n",
       "      <td>60.65</td>\n",
       "      <td>727.80</td>\n",
       "      <td>Female</td>\n",
       "      <td>0</td>\n",
       "      <td>...</td>\n",
       "      <td>No</td>\n",
       "      <td></td>\n",
       "      <td>DSL</td>\n",
       "      <td>No</td>\n",
       "      <td>Yes</td>\n",
       "      <td>Yes</td>\n",
       "      <td>Yes</td>\n",
       "      <td>Yes</td>\n",
       "      <td>Yes</td>\n",
       "      <td>0</td>\n",
       "    </tr>\n",
       "    <tr>\n",
       "      <th>7037</th>\n",
       "      <td>2569-WGERO</td>\n",
       "      <td>2014-02-01</td>\n",
       "      <td>No</td>\n",
       "      <td>Two year</td>\n",
       "      <td>Yes</td>\n",
       "      <td>Bank transfer (automatic)</td>\n",
       "      <td>21.15</td>\n",
       "      <td>1553.26</td>\n",
       "      <td>Female</td>\n",
       "      <td>0</td>\n",
       "      <td>...</td>\n",
       "      <td>No</td>\n",
       "      <td>No</td>\n",
       "      <td>No</td>\n",
       "      <td>No</td>\n",
       "      <td>No</td>\n",
       "      <td>No</td>\n",
       "      <td>No</td>\n",
       "      <td>No</td>\n",
       "      <td>No</td>\n",
       "      <td>0</td>\n",
       "    </tr>\n",
       "    <tr>\n",
       "      <th>7038</th>\n",
       "      <td>6840-RESVB</td>\n",
       "      <td>2018-02-01</td>\n",
       "      <td>No</td>\n",
       "      <td>One year</td>\n",
       "      <td>Yes</td>\n",
       "      <td>Mailed check</td>\n",
       "      <td>84.80</td>\n",
       "      <td>2035.20</td>\n",
       "      <td>Male</td>\n",
       "      <td>0</td>\n",
       "      <td>...</td>\n",
       "      <td>Yes</td>\n",
       "      <td>Yes</td>\n",
       "      <td>DSL</td>\n",
       "      <td>Yes</td>\n",
       "      <td>No</td>\n",
       "      <td>Yes</td>\n",
       "      <td>Yes</td>\n",
       "      <td>Yes</td>\n",
       "      <td>Yes</td>\n",
       "      <td>0</td>\n",
       "    </tr>\n",
       "    <tr>\n",
       "      <th>7039</th>\n",
       "      <td>2234-XADUH</td>\n",
       "      <td>2014-02-01</td>\n",
       "      <td>No</td>\n",
       "      <td>One year</td>\n",
       "      <td>Yes</td>\n",
       "      <td>Credit card (automatic)</td>\n",
       "      <td>103.20</td>\n",
       "      <td>7430.40</td>\n",
       "      <td>Female</td>\n",
       "      <td>0</td>\n",
       "      <td>...</td>\n",
       "      <td>Yes</td>\n",
       "      <td>Yes</td>\n",
       "      <td>Fiber optic</td>\n",
       "      <td>No</td>\n",
       "      <td>Yes</td>\n",
       "      <td>Yes</td>\n",
       "      <td>No</td>\n",
       "      <td>Yes</td>\n",
       "      <td>Yes</td>\n",
       "      <td>0</td>\n",
       "    </tr>\n",
       "    <tr>\n",
       "      <th>7040</th>\n",
       "      <td>4801-JZAZL</td>\n",
       "      <td>2019-03-01</td>\n",
       "      <td>No</td>\n",
       "      <td>Month-to-month</td>\n",
       "      <td>Yes</td>\n",
       "      <td>Electronic check</td>\n",
       "      <td>29.60</td>\n",
       "      <td>325.60</td>\n",
       "      <td>Female</td>\n",
       "      <td>0</td>\n",
       "      <td>...</td>\n",
       "      <td>Yes</td>\n",
       "      <td></td>\n",
       "      <td>DSL</td>\n",
       "      <td>Yes</td>\n",
       "      <td>No</td>\n",
       "      <td>No</td>\n",
       "      <td>No</td>\n",
       "      <td>No</td>\n",
       "      <td>No</td>\n",
       "      <td>0</td>\n",
       "    </tr>\n",
       "    <tr>\n",
       "      <th>7041</th>\n",
       "      <td>8361-LTMKD</td>\n",
       "      <td>2019-07-01</td>\n",
       "      <td>No</td>\n",
       "      <td>Month-to-month</td>\n",
       "      <td>Yes</td>\n",
       "      <td>Mailed check</td>\n",
       "      <td>74.40</td>\n",
       "      <td>520.80</td>\n",
       "      <td>Male</td>\n",
       "      <td>1</td>\n",
       "      <td>...</td>\n",
       "      <td>No</td>\n",
       "      <td>Yes</td>\n",
       "      <td>Fiber optic</td>\n",
       "      <td>No</td>\n",
       "      <td>No</td>\n",
       "      <td>No</td>\n",
       "      <td>No</td>\n",
       "      <td>No</td>\n",
       "      <td>No</td>\n",
       "      <td>0</td>\n",
       "    </tr>\n",
       "    <tr>\n",
       "      <th>7042</th>\n",
       "      <td>3186-AJIEK</td>\n",
       "      <td>2014-08-01</td>\n",
       "      <td>No</td>\n",
       "      <td>Two year</td>\n",
       "      <td>Yes</td>\n",
       "      <td>Bank transfer (automatic)</td>\n",
       "      <td>105.65</td>\n",
       "      <td>7251.82</td>\n",
       "      <td>Male</td>\n",
       "      <td>0</td>\n",
       "      <td>...</td>\n",
       "      <td>No</td>\n",
       "      <td>No</td>\n",
       "      <td>Fiber optic</td>\n",
       "      <td>Yes</td>\n",
       "      <td>No</td>\n",
       "      <td>Yes</td>\n",
       "      <td>Yes</td>\n",
       "      <td>Yes</td>\n",
       "      <td>Yes</td>\n",
       "      <td>0</td>\n",
       "    </tr>\n",
       "  </tbody>\n",
       "</table>\n",
       "<p>10 rows × 21 columns</p>\n",
       "</div>"
      ],
      "text/plain": [
       "      customerid   begindate     enddate            type paperlessbilling  \\\n",
       "7033  9767-FFLEM  2016-12-01          No  Month-to-month              Yes   \n",
       "7034  0639-TSIQW  2014-03-01  2015-11-01  Month-to-month              Yes   \n",
       "7035  8456-QDAVC  2018-07-01          No  Month-to-month              Yes   \n",
       "7036  7750-EYXWZ  2019-02-01          No        One year               No   \n",
       "7037  2569-WGERO  2014-02-01          No        Two year              Yes   \n",
       "7038  6840-RESVB  2018-02-01          No        One year              Yes   \n",
       "7039  2234-XADUH  2014-02-01          No        One year              Yes   \n",
       "7040  4801-JZAZL  2019-03-01          No  Month-to-month              Yes   \n",
       "7041  8361-LTMKD  2019-07-01          No  Month-to-month              Yes   \n",
       "7042  3186-AJIEK  2014-08-01          No        Two year              Yes   \n",
       "\n",
       "                  paymentmethod  monthlycharges  totalcharges  gender  \\\n",
       "7033    Credit card (automatic)           69.50       2693.82    Male   \n",
       "7034    Credit card (automatic)          102.95       2059.00  Female   \n",
       "7035  Bank transfer (automatic)           78.70       1585.02    Male   \n",
       "7036           Electronic check           60.65        727.80  Female   \n",
       "7037  Bank transfer (automatic)           21.15       1553.26  Female   \n",
       "7038               Mailed check           84.80       2035.20    Male   \n",
       "7039    Credit card (automatic)          103.20       7430.40  Female   \n",
       "7040           Electronic check           29.60        325.60  Female   \n",
       "7041               Mailed check           74.40        520.80    Male   \n",
       "7042  Bank transfer (automatic)          105.65       7251.82    Male   \n",
       "\n",
       "      seniorcitizen  ... dependents multiplelines internetservice  \\\n",
       "7033              0  ...         No            No     Fiber optic   \n",
       "7034              0  ...         No           Yes     Fiber optic   \n",
       "7035              0  ...         No            No     Fiber optic   \n",
       "7036              0  ...         No                           DSL   \n",
       "7037              0  ...         No            No              No   \n",
       "7038              0  ...        Yes           Yes             DSL   \n",
       "7039              0  ...        Yes           Yes     Fiber optic   \n",
       "7040              0  ...        Yes                           DSL   \n",
       "7041              1  ...         No           Yes     Fiber optic   \n",
       "7042              0  ...         No            No     Fiber optic   \n",
       "\n",
       "     onlinesecurity onlinebackup deviceprotection techsupport streamingtv  \\\n",
       "7033             No           No               No          No          No   \n",
       "7034            Yes          Yes              Yes          No         Yes   \n",
       "7035             No           No               No          No         Yes   \n",
       "7036             No          Yes              Yes         Yes         Yes   \n",
       "7037             No           No               No          No          No   \n",
       "7038            Yes           No              Yes         Yes         Yes   \n",
       "7039             No          Yes              Yes          No         Yes   \n",
       "7040            Yes           No               No          No          No   \n",
       "7041             No           No               No          No          No   \n",
       "7042            Yes           No              Yes         Yes         Yes   \n",
       "\n",
       "     streamingmovies exited  \n",
       "7033              No      0  \n",
       "7034              No      1  \n",
       "7035              No      0  \n",
       "7036             Yes      0  \n",
       "7037              No      0  \n",
       "7038             Yes      0  \n",
       "7039             Yes      0  \n",
       "7040              No      0  \n",
       "7041              No      0  \n",
       "7042             Yes      0  \n",
       "\n",
       "[10 rows x 21 columns]"
      ]
     },
     "metadata": {},
     "output_type": "display_data"
    }
   ],
   "source": [
    "display(merget_data.tail(10))"
   ]
  },
  {
   "cell_type": "markdown",
   "id": "a414523d",
   "metadata": {},
   "source": [
    "Добавили новый признак(целевой) target.  по условию если контракт действует то 0,  а если расторгнут то 1"
   ]
  },
  {
   "cell_type": "code",
   "execution_count": 55,
   "id": "53d5a717",
   "metadata": {},
   "outputs": [],
   "source": [
    "merget_data['begindate'] = pd.to_datetime(merget_data['begindate'], format = '%Y-%m-%d')\n"
   ]
  },
  {
   "cell_type": "code",
   "execution_count": 56,
   "id": "776ff9db",
   "metadata": {},
   "outputs": [],
   "source": [
    "d= '2020-02-01'\n",
    "d = pd.to_datetime(d,format = '%Y-%m-%d')"
   ]
  },
  {
   "cell_type": "code",
   "execution_count": 57,
   "id": "7ebea8ca",
   "metadata": {},
   "outputs": [],
   "source": [
    "merget_data['enddate'] = np.where(merget_data['enddate']=='No',d,merget_data['enddate'])"
   ]
  },
  {
   "cell_type": "code",
   "execution_count": 58,
   "id": "1285a268",
   "metadata": {},
   "outputs": [],
   "source": [
    "merget_data['enddate'] = pd.to_datetime(merget_data['enddate'], format = '%Y-%m-%d')"
   ]
  },
  {
   "cell_type": "code",
   "execution_count": 59,
   "id": "56a4d13a",
   "metadata": {},
   "outputs": [],
   "source": [
    "\n",
    "merget_data['duration'] = merget_data['enddate'] - merget_data['begindate']\n"
   ]
  },
  {
   "cell_type": "markdown",
   "id": "68453dc8",
   "metadata": {},
   "source": [
    "Привели дату к нужному формату(также сделали вместо значения 'No' дату = 2020-02-01 для приведения к формату). \n",
    "\n",
    "затем вычли из даты выгрузки дату начала (далее добавим доп условие)"
   ]
  },
  {
   "cell_type": "code",
   "execution_count": 60,
   "id": "8dbe4248",
   "metadata": {},
   "outputs": [],
   "source": [
    "merget_data['duration'] = merget_data['duration'].dt.days"
   ]
  },
  {
   "cell_type": "code",
   "execution_count": 61,
   "id": "651c39a2",
   "metadata": {},
   "outputs": [
    {
     "data": {
      "text/html": [
       "<div>\n",
       "<style scoped>\n",
       "    .dataframe tbody tr th:only-of-type {\n",
       "        vertical-align: middle;\n",
       "    }\n",
       "\n",
       "    .dataframe tbody tr th {\n",
       "        vertical-align: top;\n",
       "    }\n",
       "\n",
       "    .dataframe thead th {\n",
       "        text-align: right;\n",
       "    }\n",
       "</style>\n",
       "<table border=\"1\" class=\"dataframe\">\n",
       "  <thead>\n",
       "    <tr style=\"text-align: right;\">\n",
       "      <th></th>\n",
       "      <th>customerid</th>\n",
       "      <th>begindate</th>\n",
       "      <th>enddate</th>\n",
       "      <th>type</th>\n",
       "      <th>paperlessbilling</th>\n",
       "      <th>paymentmethod</th>\n",
       "      <th>monthlycharges</th>\n",
       "      <th>totalcharges</th>\n",
       "      <th>gender</th>\n",
       "      <th>seniorcitizen</th>\n",
       "      <th>...</th>\n",
       "      <th>multiplelines</th>\n",
       "      <th>internetservice</th>\n",
       "      <th>onlinesecurity</th>\n",
       "      <th>onlinebackup</th>\n",
       "      <th>deviceprotection</th>\n",
       "      <th>techsupport</th>\n",
       "      <th>streamingtv</th>\n",
       "      <th>streamingmovies</th>\n",
       "      <th>exited</th>\n",
       "      <th>duration</th>\n",
       "    </tr>\n",
       "  </thead>\n",
       "  <tbody>\n",
       "    <tr>\n",
       "      <th>7033</th>\n",
       "      <td>9767-FFLEM</td>\n",
       "      <td>2016-12-01</td>\n",
       "      <td>2020-02-01</td>\n",
       "      <td>Month-to-month</td>\n",
       "      <td>Yes</td>\n",
       "      <td>Credit card (automatic)</td>\n",
       "      <td>69.50</td>\n",
       "      <td>2693.82</td>\n",
       "      <td>Male</td>\n",
       "      <td>0</td>\n",
       "      <td>...</td>\n",
       "      <td>No</td>\n",
       "      <td>Fiber optic</td>\n",
       "      <td>No</td>\n",
       "      <td>No</td>\n",
       "      <td>No</td>\n",
       "      <td>No</td>\n",
       "      <td>No</td>\n",
       "      <td>No</td>\n",
       "      <td>0</td>\n",
       "      <td>1157</td>\n",
       "    </tr>\n",
       "    <tr>\n",
       "      <th>7034</th>\n",
       "      <td>0639-TSIQW</td>\n",
       "      <td>2014-03-01</td>\n",
       "      <td>2015-11-01</td>\n",
       "      <td>Month-to-month</td>\n",
       "      <td>Yes</td>\n",
       "      <td>Credit card (automatic)</td>\n",
       "      <td>102.95</td>\n",
       "      <td>2059.00</td>\n",
       "      <td>Female</td>\n",
       "      <td>0</td>\n",
       "      <td>...</td>\n",
       "      <td>Yes</td>\n",
       "      <td>Fiber optic</td>\n",
       "      <td>Yes</td>\n",
       "      <td>Yes</td>\n",
       "      <td>Yes</td>\n",
       "      <td>No</td>\n",
       "      <td>Yes</td>\n",
       "      <td>No</td>\n",
       "      <td>1</td>\n",
       "      <td>610</td>\n",
       "    </tr>\n",
       "    <tr>\n",
       "      <th>7035</th>\n",
       "      <td>8456-QDAVC</td>\n",
       "      <td>2018-07-01</td>\n",
       "      <td>2020-02-01</td>\n",
       "      <td>Month-to-month</td>\n",
       "      <td>Yes</td>\n",
       "      <td>Bank transfer (automatic)</td>\n",
       "      <td>78.70</td>\n",
       "      <td>1585.02</td>\n",
       "      <td>Male</td>\n",
       "      <td>0</td>\n",
       "      <td>...</td>\n",
       "      <td>No</td>\n",
       "      <td>Fiber optic</td>\n",
       "      <td>No</td>\n",
       "      <td>No</td>\n",
       "      <td>No</td>\n",
       "      <td>No</td>\n",
       "      <td>Yes</td>\n",
       "      <td>No</td>\n",
       "      <td>0</td>\n",
       "      <td>580</td>\n",
       "    </tr>\n",
       "    <tr>\n",
       "      <th>7036</th>\n",
       "      <td>7750-EYXWZ</td>\n",
       "      <td>2019-02-01</td>\n",
       "      <td>2020-02-01</td>\n",
       "      <td>One year</td>\n",
       "      <td>No</td>\n",
       "      <td>Electronic check</td>\n",
       "      <td>60.65</td>\n",
       "      <td>727.80</td>\n",
       "      <td>Female</td>\n",
       "      <td>0</td>\n",
       "      <td>...</td>\n",
       "      <td></td>\n",
       "      <td>DSL</td>\n",
       "      <td>No</td>\n",
       "      <td>Yes</td>\n",
       "      <td>Yes</td>\n",
       "      <td>Yes</td>\n",
       "      <td>Yes</td>\n",
       "      <td>Yes</td>\n",
       "      <td>0</td>\n",
       "      <td>365</td>\n",
       "    </tr>\n",
       "    <tr>\n",
       "      <th>7037</th>\n",
       "      <td>2569-WGERO</td>\n",
       "      <td>2014-02-01</td>\n",
       "      <td>2020-02-01</td>\n",
       "      <td>Two year</td>\n",
       "      <td>Yes</td>\n",
       "      <td>Bank transfer (automatic)</td>\n",
       "      <td>21.15</td>\n",
       "      <td>1553.26</td>\n",
       "      <td>Female</td>\n",
       "      <td>0</td>\n",
       "      <td>...</td>\n",
       "      <td>No</td>\n",
       "      <td>No</td>\n",
       "      <td>No</td>\n",
       "      <td>No</td>\n",
       "      <td>No</td>\n",
       "      <td>No</td>\n",
       "      <td>No</td>\n",
       "      <td>No</td>\n",
       "      <td>0</td>\n",
       "      <td>2191</td>\n",
       "    </tr>\n",
       "    <tr>\n",
       "      <th>7038</th>\n",
       "      <td>6840-RESVB</td>\n",
       "      <td>2018-02-01</td>\n",
       "      <td>2020-02-01</td>\n",
       "      <td>One year</td>\n",
       "      <td>Yes</td>\n",
       "      <td>Mailed check</td>\n",
       "      <td>84.80</td>\n",
       "      <td>2035.20</td>\n",
       "      <td>Male</td>\n",
       "      <td>0</td>\n",
       "      <td>...</td>\n",
       "      <td>Yes</td>\n",
       "      <td>DSL</td>\n",
       "      <td>Yes</td>\n",
       "      <td>No</td>\n",
       "      <td>Yes</td>\n",
       "      <td>Yes</td>\n",
       "      <td>Yes</td>\n",
       "      <td>Yes</td>\n",
       "      <td>0</td>\n",
       "      <td>730</td>\n",
       "    </tr>\n",
       "    <tr>\n",
       "      <th>7039</th>\n",
       "      <td>2234-XADUH</td>\n",
       "      <td>2014-02-01</td>\n",
       "      <td>2020-02-01</td>\n",
       "      <td>One year</td>\n",
       "      <td>Yes</td>\n",
       "      <td>Credit card (automatic)</td>\n",
       "      <td>103.20</td>\n",
       "      <td>7430.40</td>\n",
       "      <td>Female</td>\n",
       "      <td>0</td>\n",
       "      <td>...</td>\n",
       "      <td>Yes</td>\n",
       "      <td>Fiber optic</td>\n",
       "      <td>No</td>\n",
       "      <td>Yes</td>\n",
       "      <td>Yes</td>\n",
       "      <td>No</td>\n",
       "      <td>Yes</td>\n",
       "      <td>Yes</td>\n",
       "      <td>0</td>\n",
       "      <td>2191</td>\n",
       "    </tr>\n",
       "    <tr>\n",
       "      <th>7040</th>\n",
       "      <td>4801-JZAZL</td>\n",
       "      <td>2019-03-01</td>\n",
       "      <td>2020-02-01</td>\n",
       "      <td>Month-to-month</td>\n",
       "      <td>Yes</td>\n",
       "      <td>Electronic check</td>\n",
       "      <td>29.60</td>\n",
       "      <td>325.60</td>\n",
       "      <td>Female</td>\n",
       "      <td>0</td>\n",
       "      <td>...</td>\n",
       "      <td></td>\n",
       "      <td>DSL</td>\n",
       "      <td>Yes</td>\n",
       "      <td>No</td>\n",
       "      <td>No</td>\n",
       "      <td>No</td>\n",
       "      <td>No</td>\n",
       "      <td>No</td>\n",
       "      <td>0</td>\n",
       "      <td>337</td>\n",
       "    </tr>\n",
       "    <tr>\n",
       "      <th>7041</th>\n",
       "      <td>8361-LTMKD</td>\n",
       "      <td>2019-07-01</td>\n",
       "      <td>2020-02-01</td>\n",
       "      <td>Month-to-month</td>\n",
       "      <td>Yes</td>\n",
       "      <td>Mailed check</td>\n",
       "      <td>74.40</td>\n",
       "      <td>520.80</td>\n",
       "      <td>Male</td>\n",
       "      <td>1</td>\n",
       "      <td>...</td>\n",
       "      <td>Yes</td>\n",
       "      <td>Fiber optic</td>\n",
       "      <td>No</td>\n",
       "      <td>No</td>\n",
       "      <td>No</td>\n",
       "      <td>No</td>\n",
       "      <td>No</td>\n",
       "      <td>No</td>\n",
       "      <td>0</td>\n",
       "      <td>215</td>\n",
       "    </tr>\n",
       "    <tr>\n",
       "      <th>7042</th>\n",
       "      <td>3186-AJIEK</td>\n",
       "      <td>2014-08-01</td>\n",
       "      <td>2020-02-01</td>\n",
       "      <td>Two year</td>\n",
       "      <td>Yes</td>\n",
       "      <td>Bank transfer (automatic)</td>\n",
       "      <td>105.65</td>\n",
       "      <td>7251.82</td>\n",
       "      <td>Male</td>\n",
       "      <td>0</td>\n",
       "      <td>...</td>\n",
       "      <td>No</td>\n",
       "      <td>Fiber optic</td>\n",
       "      <td>Yes</td>\n",
       "      <td>No</td>\n",
       "      <td>Yes</td>\n",
       "      <td>Yes</td>\n",
       "      <td>Yes</td>\n",
       "      <td>Yes</td>\n",
       "      <td>0</td>\n",
       "      <td>2010</td>\n",
       "    </tr>\n",
       "  </tbody>\n",
       "</table>\n",
       "<p>10 rows × 22 columns</p>\n",
       "</div>"
      ],
      "text/plain": [
       "      customerid  begindate    enddate            type paperlessbilling  \\\n",
       "7033  9767-FFLEM 2016-12-01 2020-02-01  Month-to-month              Yes   \n",
       "7034  0639-TSIQW 2014-03-01 2015-11-01  Month-to-month              Yes   \n",
       "7035  8456-QDAVC 2018-07-01 2020-02-01  Month-to-month              Yes   \n",
       "7036  7750-EYXWZ 2019-02-01 2020-02-01        One year               No   \n",
       "7037  2569-WGERO 2014-02-01 2020-02-01        Two year              Yes   \n",
       "7038  6840-RESVB 2018-02-01 2020-02-01        One year              Yes   \n",
       "7039  2234-XADUH 2014-02-01 2020-02-01        One year              Yes   \n",
       "7040  4801-JZAZL 2019-03-01 2020-02-01  Month-to-month              Yes   \n",
       "7041  8361-LTMKD 2019-07-01 2020-02-01  Month-to-month              Yes   \n",
       "7042  3186-AJIEK 2014-08-01 2020-02-01        Two year              Yes   \n",
       "\n",
       "                  paymentmethod  monthlycharges  totalcharges  gender  \\\n",
       "7033    Credit card (automatic)           69.50       2693.82    Male   \n",
       "7034    Credit card (automatic)          102.95       2059.00  Female   \n",
       "7035  Bank transfer (automatic)           78.70       1585.02    Male   \n",
       "7036           Electronic check           60.65        727.80  Female   \n",
       "7037  Bank transfer (automatic)           21.15       1553.26  Female   \n",
       "7038               Mailed check           84.80       2035.20    Male   \n",
       "7039    Credit card (automatic)          103.20       7430.40  Female   \n",
       "7040           Electronic check           29.60        325.60  Female   \n",
       "7041               Mailed check           74.40        520.80    Male   \n",
       "7042  Bank transfer (automatic)          105.65       7251.82    Male   \n",
       "\n",
       "      seniorcitizen  ... multiplelines internetservice onlinesecurity  \\\n",
       "7033              0  ...            No     Fiber optic             No   \n",
       "7034              0  ...           Yes     Fiber optic            Yes   \n",
       "7035              0  ...            No     Fiber optic             No   \n",
       "7036              0  ...                           DSL             No   \n",
       "7037              0  ...            No              No             No   \n",
       "7038              0  ...           Yes             DSL            Yes   \n",
       "7039              0  ...           Yes     Fiber optic             No   \n",
       "7040              0  ...                           DSL            Yes   \n",
       "7041              1  ...           Yes     Fiber optic             No   \n",
       "7042              0  ...            No     Fiber optic            Yes   \n",
       "\n",
       "     onlinebackup deviceprotection techsupport streamingtv streamingmovies  \\\n",
       "7033           No               No          No          No              No   \n",
       "7034          Yes              Yes          No         Yes              No   \n",
       "7035           No               No          No         Yes              No   \n",
       "7036          Yes              Yes         Yes         Yes             Yes   \n",
       "7037           No               No          No          No              No   \n",
       "7038           No              Yes         Yes         Yes             Yes   \n",
       "7039          Yes              Yes          No         Yes             Yes   \n",
       "7040           No               No          No          No              No   \n",
       "7041           No               No          No          No              No   \n",
       "7042           No              Yes         Yes         Yes             Yes   \n",
       "\n",
       "     exited duration  \n",
       "7033      0     1157  \n",
       "7034      1      610  \n",
       "7035      0      580  \n",
       "7036      0      365  \n",
       "7037      0     2191  \n",
       "7038      0      730  \n",
       "7039      0     2191  \n",
       "7040      0      337  \n",
       "7041      0      215  \n",
       "7042      0     2010  \n",
       "\n",
       "[10 rows x 22 columns]"
      ]
     },
     "metadata": {},
     "output_type": "display_data"
    }
   ],
   "source": [
    "display(merget_data.tail(10))"
   ]
  },
  {
   "cell_type": "code",
   "execution_count": 62,
   "id": "1091acd1",
   "metadata": {},
   "outputs": [
    {
     "data": {
      "image/png": "[encoded data removed]",
      "text/plain": [
       "<Figure size 432x288 with 1 Axes>"
      ]
     },
     "metadata": {
      "needs_background": "light"
     },
     "output_type": "display_data"
    },
    {
     "data": {
      "image/png": "[encoded data removed]",
      "text/plain": [
       "<Figure size 432x288 with 1 Axes>"
      ]
     },
     "metadata": {
      "needs_background": "light"
     },
     "output_type": "display_data"
    }
   ],
   "source": [
    "columns = ['gender','seniorcitizen']\n",
    "for i in merget_data[columns]:\n",
    "    if i not in ['customer_id']:\n",
    "        for j in merget_data:\n",
    "            if i == j:\n",
    "\n",
    "                \n",
    "                t0 = merget_data.loc[merget_data['exited'] == 0, i] \n",
    "                t1 = merget_data.loc[merget_data['exited'] == 1, i] \n",
    "                \n",
    "                t0 = t0.rename('Класс 0') \n",
    "                t1 = t1.rename('Класс 1') \n",
    "                \n",
    "                t0.hist(legend=True, alpha=.7)\n",
    "                t1.hist(legend=True, alpha=.7) \n",
    "                plt.title(f'Соотношение целевого признака \"{i}\"')\n",
    "                plt.xlabel(f'Значения целевого признака \"{i}\"')\n",
    "                plt.ylabel('Кол-во значений')\n",
    "                plt.show() "
   ]
  },
  {
   "cell_type": "markdown",
   "id": "239e384c",
   "metadata": {},
   "source": [
    "Ответ на поставленные вопросы:   \n",
    "1) Пенсионеры реже расторгают контракты (но необходимо учитывать что их меньше в общем составе)  \n",
    "2) Мужчины и женщины одинаково расторгают контракты"
   ]
  },
  {
   "cell_type": "code",
   "execution_count": 63,
   "id": "96fce340",
   "metadata": {},
   "outputs": [],
   "source": [
    "merget_data = merget_data.drop(['customerid','begindate','enddate'],axis=1)"
   ]
  },
  {
   "cell_type": "markdown",
   "id": "35080aa8",
   "metadata": {},
   "source": [
    "Удалили столбцы которые не нужны при моделировании "
   ]
  },
  {
   "cell_type": "code",
   "execution_count": 64,
   "id": "65fe0dee",
   "metadata": {},
   "outputs": [],
   "source": [
    "merget_data = merget_data.drop(['gender','paperlessbilling'],axis=1)"
   ]
  },
  {
   "cell_type": "markdown",
   "id": "399aa303",
   "metadata": {},
   "source": [
    "Удалили столбцы которые мало значимые для модели"
   ]
  },
  {
   "cell_type": "markdown",
   "id": "f2e62574",
   "metadata": {},
   "source": [
    "<a id='10-bullet'></a>"
   ]
  },
  {
   "cell_type": "markdown",
   "id": "2b769808",
   "metadata": {},
   "source": [
    "РАЗДЕЛЕНИЕ МАССИВА НА ВЫБОРКИ И МАСШТАБИРОВАНИЕ"
   ]
  },
  {
   "cell_type": "code",
   "execution_count": 65,
   "id": "c1adf5b4",
   "metadata": {},
   "outputs": [
    {
     "data": {
      "text/plain": [
       "(5282, 16)"
      ]
     },
     "metadata": {},
     "output_type": "display_data"
    },
    {
     "data": {
      "text/plain": [
       "(1761, 16)"
      ]
     },
     "metadata": {},
     "output_type": "display_data"
    },
    {
     "data": {
      "text/plain": [
       "(5282,)"
      ]
     },
     "metadata": {},
     "output_type": "display_data"
    },
    {
     "data": {
      "text/plain": [
       "(1761,)"
      ]
     },
     "metadata": {},
     "output_type": "display_data"
    }
   ],
   "source": [
    "features = merget_data.drop('exited',axis=1)\n",
    "target = merget_data['exited']\n",
    "\n",
    "features_train,features_test,target_train,target_test = train_test_split(features,target,\n",
    "                                                                          random_state=20824, \n",
    "                                                                          test_size=0.25,stratify=target)\n",
    "\n",
    "\n",
    "\n",
    "\n",
    "display(features_train.shape)\n",
    "display(features_test.shape)\n",
    "display(target_train.shape)\n",
    "display(target_test.shape)"
   ]
  },
  {
   "cell_type": "markdown",
   "id": "52a3d287",
   "metadata": {},
   "source": [
    "Перед обучением проверим баланс или дисбаланс классов,для общего понимания картины и дальнейших выводов"
   ]
  },
  {
   "cell_type": "code",
   "execution_count": 66,
   "id": "9cfe16a3",
   "metadata": {},
   "outputs": [
    {
     "data": {
      "text/plain": [
       "{1: 0.1563801590306702, 0: 0.8436198409693298}"
      ]
     },
     "execution_count": 66,
     "metadata": {},
     "output_type": "execute_result"
    }
   ],
   "source": [
    "weights = {\n",
    "    1:target_train.loc[target_train == 1].count() / target_train.count(), \n",
    "    0:target_train.loc[target_train == 0].count() / target_train.count()\n",
    "}\n",
    "\n",
    "\n",
    "weights"
   ]
  },
  {
   "cell_type": "markdown",
   "id": "54a99951",
   "metadata": {},
   "source": [
    "Наблюдается дисбалансов классов в сторону клиентов которые не собираются разрывать контракт"
   ]
  },
  {
   "cell_type": "code",
   "execution_count": 67,
   "id": "3d0feeff",
   "metadata": {},
   "outputs": [
    {
     "data": {
      "text/plain": [
       "['type',\n",
       " 'paymentmethod',\n",
       " 'partner',\n",
       " 'dependents',\n",
       " 'multiplelines',\n",
       " 'internetservice',\n",
       " 'onlinesecurity',\n",
       " 'onlinebackup',\n",
       " 'deviceprotection',\n",
       " 'techsupport',\n",
       " 'streamingtv',\n",
       " 'streamingmovies']"
      ]
     },
     "metadata": {},
     "output_type": "display_data"
    }
   ],
   "source": [
    "features_ohe = features_train.select_dtypes(include='object').columns.to_list()\n",
    "display(features_ohe)"
   ]
  },
  {
   "cell_type": "code",
   "execution_count": 68,
   "id": "e51c2e41",
   "metadata": {},
   "outputs": [],
   "source": [
    "features_train_ohe = features_train.copy()\n",
    "\n",
    "features_test_ohe = features_test.copy()"
   ]
  },
  {
   "cell_type": "markdown",
   "id": "121f4681",
   "metadata": {},
   "source": [
    "Применим метод OneHotEncoder к обучающей выборке"
   ]
  },
  {
   "cell_type": "code",
   "execution_count": 69,
   "id": "025ba661",
   "metadata": {},
   "outputs": [],
   "source": [
    "encoder_ohe = OneHotEncoder(drop = 'first', sparse=False)\n",
    "encoder_ohe.fit(features_train_ohe[features_ohe])\n",
    "features_train_ohe[encoder_ohe.get_feature_names()\n",
    "                  ] = encoder_ohe.transform(features_train_ohe[features_ohe])\n",
    "features_train_ohe = features_train_ohe.drop(features_ohe, axis=1)\n"
   ]
  },
  {
   "cell_type": "markdown",
   "id": "64a5bf62",
   "metadata": {},
   "source": [
    "Применим метод OneHotEncoder к тестовой выборке"
   ]
  },
  {
   "cell_type": "code",
   "execution_count": 70,
   "id": "8bf7b3cc",
   "metadata": {},
   "outputs": [],
   "source": [
    "features_test_ohe[encoder_ohe.get_feature_names()\n",
    "                 ] = encoder_ohe.transform(features_test_ohe[features_ohe])\n",
    "\n",
    "features_test_ohe = features_test_ohe.drop(features_ohe, axis=1)\n"
   ]
  },
  {
   "cell_type": "markdown",
   "id": "702b2710",
   "metadata": {},
   "source": [
    "МОДЕЛЬ ЛОГИСТИЧЕСКАЯ РЕГРЕССИЯ"
   ]
  },
  {
   "cell_type": "markdown",
   "id": "42cc1fa4",
   "metadata": {},
   "source": [
    "<a id='11-bullet'></a>"
   ]
  },
  {
   "cell_type": "code",
   "execution_count": 71,
   "id": "d76754f0",
   "metadata": {
    "scrolled": true
   },
   "outputs": [
    {
     "name": "stderr",
     "output_type": "stream",
     "text": [
      "/opt/conda/lib/python3.9/site-packages/sklearn/linear_model/_logistic.py:763: ConvergenceWarning: lbfgs failed to converge (status=1):\n",
      "STOP: TOTAL NO. of ITERATIONS REACHED LIMIT.\n",
      "\n",
      "Increase the number of iterations (max_iter) or scale the data as shown in:\n",
      "    https://scikit-learn.org/stable/modules/preprocessing.html\n",
      "Please also refer to the documentation for alternative solver options:\n",
      "    https://scikit-learn.org/stable/modules/linear_model.html#logistic-regression\n",
      "  n_iter_i = _check_optimize_result(\n",
      "/opt/conda/lib/python3.9/site-packages/sklearn/linear_model/_logistic.py:763: ConvergenceWarning: lbfgs failed to converge (status=1):\n",
      "STOP: TOTAL NO. of ITERATIONS REACHED LIMIT.\n",
      "\n",
      "Increase the number of iterations (max_iter) or scale the data as shown in:\n",
      "    https://scikit-learn.org/stable/modules/preprocessing.html\n",
      "Please also refer to the documentation for alternative solver options:\n",
      "    https://scikit-learn.org/stable/modules/linear_model.html#logistic-regression\n",
      "  n_iter_i = _check_optimize_result(\n",
      "/opt/conda/lib/python3.9/site-packages/sklearn/linear_model/_logistic.py:763: ConvergenceWarning: lbfgs failed to converge (status=1):\n",
      "STOP: TOTAL NO. of ITERATIONS REACHED LIMIT.\n",
      "\n",
      "Increase the number of iterations (max_iter) or scale the data as shown in:\n",
      "    https://scikit-learn.org/stable/modules/preprocessing.html\n",
      "Please also refer to the documentation for alternative solver options:\n",
      "    https://scikit-learn.org/stable/modules/linear_model.html#logistic-regression\n",
      "  n_iter_i = _check_optimize_result(\n",
      "/opt/conda/lib/python3.9/site-packages/sklearn/linear_model/_logistic.py:763: ConvergenceWarning: lbfgs failed to converge (status=1):\n",
      "STOP: TOTAL NO. of ITERATIONS REACHED LIMIT.\n",
      "\n",
      "Increase the number of iterations (max_iter) or scale the data as shown in:\n",
      "    https://scikit-learn.org/stable/modules/preprocessing.html\n",
      "Please also refer to the documentation for alternative solver options:\n",
      "    https://scikit-learn.org/stable/modules/linear_model.html#logistic-regression\n",
      "  n_iter_i = _check_optimize_result(\n",
      "/opt/conda/lib/python3.9/site-packages/sklearn/linear_model/_logistic.py:763: ConvergenceWarning: lbfgs failed to converge (status=1):\n",
      "STOP: TOTAL NO. of ITERATIONS REACHED LIMIT.\n",
      "\n",
      "Increase the number of iterations (max_iter) or scale the data as shown in:\n",
      "    https://scikit-learn.org/stable/modules/preprocessing.html\n",
      "Please also refer to the documentation for alternative solver options:\n",
      "    https://scikit-learn.org/stable/modules/linear_model.html#logistic-regression\n",
      "  n_iter_i = _check_optimize_result(\n",
      "/opt/conda/lib/python3.9/site-packages/sklearn/linear_model/_sag.py:328: ConvergenceWarning: The max_iter was reached which means the coef_ did not converge\n",
      "  warnings.warn(\"The max_iter was reached which means \"\n",
      "/opt/conda/lib/python3.9/site-packages/sklearn/linear_model/_sag.py:328: ConvergenceWarning: The max_iter was reached which means the coef_ did not converge\n",
      "  warnings.warn(\"The max_iter was reached which means \"\n",
      "/opt/conda/lib/python3.9/site-packages/sklearn/linear_model/_sag.py:328: ConvergenceWarning: The max_iter was reached which means the coef_ did not converge\n",
      "  warnings.warn(\"The max_iter was reached which means \"\n",
      "/opt/conda/lib/python3.9/site-packages/sklearn/linear_model/_sag.py:328: ConvergenceWarning: The max_iter was reached which means the coef_ did not converge\n",
      "  warnings.warn(\"The max_iter was reached which means \"\n",
      "/opt/conda/lib/python3.9/site-packages/sklearn/linear_model/_sag.py:328: ConvergenceWarning: The max_iter was reached which means the coef_ did not converge\n",
      "  warnings.warn(\"The max_iter was reached which means \"\n",
      "/opt/conda/lib/python3.9/site-packages/sklearn/linear_model/_sag.py:328: ConvergenceWarning: The max_iter was reached which means the coef_ did not converge\n",
      "  warnings.warn(\"The max_iter was reached which means \"\n",
      "/opt/conda/lib/python3.9/site-packages/sklearn/linear_model/_sag.py:328: ConvergenceWarning: The max_iter was reached which means the coef_ did not converge\n",
      "  warnings.warn(\"The max_iter was reached which means \"\n",
      "/opt/conda/lib/python3.9/site-packages/sklearn/linear_model/_sag.py:328: ConvergenceWarning: The max_iter was reached which means the coef_ did not converge\n",
      "  warnings.warn(\"The max_iter was reached which means \"\n",
      "/opt/conda/lib/python3.9/site-packages/sklearn/linear_model/_sag.py:328: ConvergenceWarning: The max_iter was reached which means the coef_ did not converge\n",
      "  warnings.warn(\"The max_iter was reached which means \"\n"
     ]
    },
    {
     "name": "stdout",
     "output_type": "stream",
     "text": [
      "{'solver': 'liblinear'}\n",
      "0.6927770222379152\n"
     ]
    },
    {
     "name": "stderr",
     "output_type": "stream",
     "text": [
      "/opt/conda/lib/python3.9/site-packages/sklearn/linear_model/_sag.py:328: ConvergenceWarning: The max_iter was reached which means the coef_ did not converge\n",
      "  warnings.warn(\"The max_iter was reached which means \"\n"
     ]
    }
   ],
   "source": [
    "model_lr = LogisticRegression(random_state=20824,class_weight='balanced')\n",
    "parameters = {'solver': ['newton-cg', 'lbfgs', 'liblinear', 'sag', 'saga']}\n",
    "           \n",
    "grid_lr = GridSearchCV(model_lr, parameters,cv=5, scoring=make_scorer(roc_auc_score, greater_is_better=True))\n",
    "grid_lr.fit(features_train_ohe, target_train)\n",
    "\n",
    "        \n",
    "print(grid_lr.best_params_)\n",
    "print(grid_lr.best_score_)"
   ]
  },
  {
   "cell_type": "markdown",
   "id": "d028cdc6",
   "metadata": {},
   "source": [
    "МОЕДЕЛЬ СЛУЧАЙНЫЙ ЛЕС"
   ]
  },
  {
   "cell_type": "markdown",
   "id": "7ee3e6a5",
   "metadata": {},
   "source": [
    "<a id='12-bullet'></a>"
   ]
  },
  {
   "cell_type": "code",
   "execution_count": 73,
   "id": "cb22581e",
   "metadata": {},
   "outputs": [
    {
     "data": {
      "text/plain": [
       "0.6033227818492645"
      ]
     },
     "execution_count": 73,
     "metadata": {},
     "output_type": "execute_result"
    }
   ],
   "source": [
    "model_rfс = RandomForestClassifier(random_state=20824)\n",
    "parameters = {'n_estimators':range(1,51,10),'max_depth':range(1,11,1)}\n",
    "grid_rfс = GridSearchCV(model_rfс,parameters,cv=5,scoring=make_scorer(roc_auc_score, greater_is_better=True))\n",
    "grid_rfс.fit(features_train_ohe, target_train) \n",
    "grid_rfс.best_params_\n",
    "grid_rfс.best_score_"
   ]
  },
  {
   "cell_type": "markdown",
   "id": "5441ea28",
   "metadata": {},
   "source": [
    "МОДЕЛЬ CatBoostClassifier"
   ]
  },
  {
   "cell_type": "markdown",
   "id": "c1027522",
   "metadata": {},
   "source": [
    "<a id='13-bullet'></a>"
   ]
  },
  {
   "cell_type": "code",
   "execution_count": 76,
   "id": "8109ea53",
   "metadata": {},
   "outputs": [],
   "source": [
    "cat_features = ['type','paymentmethod','partner','dependents',\n",
    "               'multiplelines','internetservice','onlinesecurity','onlinebackup','deviceprotection',\n",
    "               'techsupport','streamingtv','streamingmovies']"
   ]
  },
  {
   "cell_type": "code",
   "execution_count": 77,
   "id": "55d72344",
   "metadata": {},
   "outputs": [
    {
     "data": {
      "text/plain": [
       "0.9089925711990435"
      ]
     },
     "execution_count": 77,
     "metadata": {},
     "output_type": "execute_result"
    }
   ],
   "source": [
    "\n",
    "model_borders = CatBoostClassifier(random_seed=20824,\n",
    "                                   logging_level='Silent',boosting_type = 'Ordered',\n",
    "                                   one_hot_max_size=2,l2_leaf_reg=3,leaf_estimation_method='Newton')\n",
    "                                 \n",
    "GridParams = {'learning_rate':[.001, .5],\n",
    "              'depth':[1,4],\n",
    "              'n_estimators':[100,1100,100]\n",
    "             }\n",
    "grid_borders = GridSearchCV(model_borders,GridParams,cv=5,scoring='roc_auc')\n",
    "grid_borders.fit(features_train, target_train,cat_features=cat_features)\n",
    "grid_borders.best_params_\n",
    "grid_borders.best_score_"
   ]
  },
  {
   "cell_type": "code",
   "execution_count": 78,
   "id": "2c5f883c",
   "metadata": {},
   "outputs": [
    {
     "data": {
      "text/plain": [
       "{'depth': 4, 'learning_rate': 0.5, 'n_estimators': 1100}"
      ]
     },
     "metadata": {},
     "output_type": "display_data"
    }
   ],
   "source": [
    "display(grid_borders.best_params_)"
   ]
  },
  {
   "cell_type": "markdown",
   "id": "870dd93d",
   "metadata": {},
   "source": [
    "Вывод:    \n",
    "\n",
    "\n",
    "\n",
    "Тренировочная выборка feature_train, полученная из объединенного датафрейма merget_data содержит 18 столбцов и 5 282 строк.   \n",
    "\n",
    "Тестовая выборка feature_test, полученная из объединенного датафрейма merget_data содержит 18 столбцов и 1 761 строк.    \n",
    "\n",
    "Признак exited является целевым для обучения.  Целевой признак имеет дисбаланс. . Данный признак не содержит пропусков.   \n",
    "\n",
    "Многие категориальные признаки содержат пропуски. Эти пропуски были обработаны и заполнены пробелами (либо NO). \n",
    "\n",
    "На основе метрики ROC AUC лучшие результат показала модель CatBoostClassifier    \n",
    "гиперпараметры модели: {random_seed=20824,logging_level='Silent',boosting_type = 'Ordered',\n",
    "                                   one_hot_max_size=2,l2_leaf_reg=3,leaf_estimation_method='Newton','depth': 4, 'n_estimators': 1100, 'learning_rate': 0.5}     \n",
    " ROC AUC =  0.9089925711990435\n",
    " \n",
    " "
   ]
  },
  {
   "cell_type": "markdown",
   "id": "8167ceef",
   "metadata": {},
   "source": [
    "ТЕСТИРОВАНИЕ ЛУЧШЕЙ МОДЕЛИ (модель CatBoostClassifier)"
   ]
  },
  {
   "cell_type": "markdown",
   "id": "7172e937",
   "metadata": {},
   "source": [
    "<a id='14-bullet'></a>"
   ]
  },
  {
   "cell_type": "code",
   "execution_count": 79,
   "id": "06cb1f9d",
   "metadata": {},
   "outputs": [],
   "source": [
    "predict_test = grid_borders.predict(features_test)\n",
    "predict_proba = grid_borders.predict_proba(features_test)\n"
   ]
  },
  {
   "cell_type": "markdown",
   "id": "531d6ce6",
   "metadata": {},
   "source": [
    "АНАЛИЗ МОДЕЛИ"
   ]
  },
  {
   "cell_type": "markdown",
   "id": "ece5a9f4",
   "metadata": {},
   "source": [
    "<a id='15-bullet'></a>"
   ]
  },
  {
   "cell_type": "markdown",
   "id": "f9468edc",
   "metadata": {},
   "source": [
    "Расчет \"ROC AUC\" "
   ]
  },
  {
   "cell_type": "code",
   "execution_count": 80,
   "id": "84bfd808",
   "metadata": {},
   "outputs": [
    {
     "name": "stdout",
     "output_type": "stream",
     "text": [
      "Показатель ROC AUC: 0.9013348831518414\n"
     ]
    }
   ],
   "source": [
    "\n",
    "auc_roc = roc_auc_score(target_test,predict_proba[:, 1])\n",
    "print('Показатель ROC AUC:',auc_roc)"
   ]
  },
  {
   "cell_type": "markdown",
   "id": "48cfc24a",
   "metadata": {},
   "source": [
    "Цель проекта телеком достигнута. В результате тестирования выбранной модели(CatBoostClassifier) с подобранными гиперпараметрами получена метрика ROC AUC > параметра (0.85) более чем на 0.05."
   ]
  },
  {
   "cell_type": "markdown",
   "id": "1e0f0127",
   "metadata": {},
   "source": [
    "Мерика confusion_matrix"
   ]
  },
  {
   "cell_type": "code",
   "execution_count": 81,
   "id": "41ac652f",
   "metadata": {},
   "outputs": [
    {
     "data": {
      "image/png": "[encoded data removed]",
      "text/plain": [
       "<Figure size 432x288 with 2 Axes>"
      ]
     },
     "metadata": {
      "needs_background": "light"
     },
     "output_type": "display_data"
    }
   ],
   "source": [
    "c_matrix = confusion_matrix(target_test, predict_test)\n",
    "cmd = ConfusionMatrixDisplay(confusion_matrix=c_matrix, display_labels=[\"Negative\", \"Positive\"])\n",
    "cmd.plot()\n",
    "plt.show()"
   ]
  },
  {
   "cell_type": "markdown",
   "id": "110e26aa",
   "metadata": {},
   "source": [
    "Модель правильно предсказывает большую часть класса 0 (договор который не планируют расторгать). Ошибки в этом случае составляют около 1%. Предсказания класса 1 (договор расторгнут) не удовлитворительные,правильно предсказано около 65% всех значений => Модель  предскажет пользователя, который не собирается расторгать договор, с остальными пользователя лучше потратить ресурс на их удержание"
   ]
  },
  {
   "cell_type": "markdown",
   "id": "70d2238c",
   "metadata": {},
   "source": [
    "Метрики recall(полнота) и precision(точность)"
   ]
  },
  {
   "cell_type": "code",
   "execution_count": 82,
   "id": "02438fe3",
   "metadata": {},
   "outputs": [
    {
     "name": "stdout",
     "output_type": "stream",
     "text": [
      "Метрика Recall 0.5454545454545454\n"
     ]
    }
   ],
   "source": [
    "print('Метрика Recall',recall_score(target_test, predict_test))"
   ]
  },
  {
   "cell_type": "markdown",
   "id": "1d9e4ece",
   "metadata": {},
   "source": [
    "Полнота выявляет, какую долю положительных среди всех ответов выделила модель. В данном случае модель предсказывает всего 2 из 3 клиентов,которые планируют расторгнуть контракт (класс 1)"
   ]
  },
  {
   "cell_type": "code",
   "execution_count": 83,
   "id": "69e11427",
   "metadata": {},
   "outputs": [
    {
     "name": "stdout",
     "output_type": "stream",
     "text": [
      "Метрика Precision 0.8620689655172413\n"
     ]
    }
   ],
   "source": [
    "print('Метрика Precision',precision_score(target_test, predict_test))"
   ]
  },
  {
   "cell_type": "markdown",
   "id": "46ffcd53",
   "metadata": {},
   "source": [
    "Точность определяет, как много отрицательных ответов нашла модель, пока искала положительные. Чем больше отрицательных, тем ниже точность  \n"
   ]
  },
  {
   "cell_type": "markdown",
   "id": "20076d62",
   "metadata": {},
   "source": [
    "ROC кривая(график)"
   ]
  },
  {
   "cell_type": "code",
   "execution_count": 84,
   "id": "63e0a7a3",
   "metadata": {},
   "outputs": [
    {
     "data": {
      "image/png": "[encoded data removed]",
      "text/plain": [
       "<Figure size 432x288 with 1 Axes>"
      ]
     },
     "metadata": {
      "needs_background": "light"
     },
     "output_type": "display_data"
    }
   ],
   "source": [
    "fpr, tpr, treshold = roc_curve(target_test, predict_proba[:, 1])\n",
    "roc_auc = auc(fpr, tpr)\n",
    "\n",
    "plt.plot(fpr, tpr,\n",
    "         label='ROC кривая (площадь под кривой = %0.4f)' % roc_auc\n",
    ")\n",
    "plt.plot([0, 1], [0, 1], linestyle='--')\n",
    "plt.xlim([0.0, 1.0])\n",
    "plt.ylim([0.0, 1.03])\n",
    "plt.xlabel('False Positive Rate')\n",
    "plt.ylabel('True Positive Rate')\n",
    "plt.title('ROC кривая')\n",
    "plt.legend(loc=\"lower left\")\n",
    "plt.show()"
   ]
  },
  {
   "cell_type": "markdown",
   "id": "86365cb1",
   "metadata": {},
   "source": [
    "ROC кривая сильно выпуклая вверх. Модель с высоким процентом  правильно предсказывает целевые значения"
   ]
  },
  {
   "cell_type": "markdown",
   "id": "a0c43d05",
   "metadata": {},
   "source": [
    "Анализ важности признаков"
   ]
  },
  {
   "cell_type": "code",
   "execution_count": 85,
   "id": "73016f6f",
   "metadata": {},
   "outputs": [
    {
     "data": {
      "text/plain": [
       "<catboost.core.CatBoostClassifier at 0x7f1462437bb0>"
      ]
     },
     "execution_count": 85,
     "metadata": {},
     "output_type": "execute_result"
    }
   ],
   "source": [
    "model = CatBoostClassifier(random_seed=20824,logging_level='Silent',\n",
    "                           boosting_type = 'Ordered',one_hot_max_size=2,\n",
    "                           l2_leaf_reg=3,leaf_estimation_method='Newton',depth=4,\n",
    "                           n_estimators= 1100, learning_rate = 0.5)\n",
    "model.fit(features_train,target_train,cat_features=cat_features)\n"
   ]
  },
  {
   "cell_type": "code",
   "execution_count": 86,
   "id": "d366dbe2",
   "metadata": {},
   "outputs": [],
   "source": [
    "cat_importance=pd.Series(model.get_feature_importance(),features_train.columns).sort_values()"
   ]
  },
  {
   "cell_type": "code",
   "execution_count": 87,
   "id": "b5d0f717",
   "metadata": {},
   "outputs": [
    {
     "data": {
      "image/png": "[encoded data removed]",
      "text/plain": [
       "<Figure size 1152x1008 with 1 Axes>"
      ]
     },
     "metadata": {
      "needs_background": "light"
     },
     "output_type": "display_data"
    }
   ],
   "source": [
    "fig,ax = plt.subplots(figsize=(16,14))\n",
    "cat_importance.plot.bar(ax=ax)\n",
    "ax.set_title(\"Важность признаков\")\n",
    "ax.set_ylabel('Важность,%')\n",
    "fig.tight_layout()"
   ]
  },
  {
   "cell_type": "markdown",
   "id": "47604ad2",
   "metadata": {},
   "source": [
    "Наиболее значимые признаки являются числовые признаки: \n",
    "- duration(срок действия договора)  \n",
    "- monthlycharges(расходы за месяц)  \n",
    "- total_charges (общие расходы абонента).   \n",
    "\n",
    "Из категориальных выделим признак - type(тип оплаты)"
   ]
  },
  {
   "cell_type": "markdown",
   "id": "47c2044f",
   "metadata": {},
   "source": [
    "\n",
    "##  Отчет"
   ]
  },
  {
   "cell_type": "markdown",
   "id": "f5bf6fbc",
   "metadata": {},
   "source": [
    "<a id='16-bullet'></a>"
   ]
  },
  {
   "cell_type": "markdown",
   "id": "6eb669fe",
   "metadata": {},
   "source": [
    "ОБЩИЙ ВЫВОД"
   ]
  },
  {
   "cell_type": "markdown",
   "id": "4a2ceb95",
   "metadata": {},
   "source": [
    "Для предсказания ухода клиентов из компании \"ТелеДом\" в промышленной эксплуатации рекоммендуется использовать модель машинного обучения CatBoostClassifier с гиперпараметрами:{random_seed=20824,logging_level='Silent',boosting_type = 'Ordered', one_hot_max_size=2,l2_leaf_reg=3,leaf_estimation_method='Newton''depth': 4, 'n_estimators': 1100, 'learning_rate': 0.5}.   \n",
    "При тестировании данная модель имеет значение показателя ROC AUC: 0.9013348831518414, что ~ 0,05 выше требуемого уровня заявленного заказчиком в 0.85.\n",
    "\n",
    "Рекоммендации заказчику\n",
    "\n",
    "Необходимо ввести автоматическое поле duration в таблицу и не упускать это поле из выгрузки. Данное поле значимое для построения модели обучения.  В дальнейшем требуется хранить целевой признак exited (он указывает на наличие или отсутствие действующего договора с клиентом)  в  системе в бинарном виде для получения исторических данных и применения в дальнейшем обучение с учителем\n",
    "\n",
    "\n",
    "По выбранной модели стоит обращать внимание на пользователей, которых модель определяет как тех кто склонен к уходу. Рекомедуется делать рассылки и давать промо коды пользователям, которых модель определила с кодом 1. На пользователей,которых модель определяет (с кодом 0) не стоит затрачивать финансовые ресурсы так как модель с 99% опрееляет их как надежных (которые не обираются разрывать контракт)\n",
    "Также можно расчитать бизнес-метрику такие как  финансовые потери от ухода клиента.Этот показатель важен для бизнеса и может сэкономить денежные средства собственнику. \n",
    "\n",
    "Работа с базой данных.Рекомендации Data инженеру.  \n",
    "Типы данных стоит привести в соответсвие.  Столбец TotalCharges из файла contract_new.csv должен содержать только числовые данные(без пропусков) и без пробелов.  Стоит обратить вниманеи на пропуски в двух таблицах internet_new и phone_new, заполненные данные позволят обучать модель без предобработки и возможно улучшит ее качество.\n",
    "\n",
    "Модель CatBoostClassifier с подобранными гиперпараметрами дает хорошие результаты метрики. На данный момент выше результаты могут показывать только нейронные сети (например  TensorFlow), заказчику стоит обратить внимание на разработку данной модели,которая может улучшить полноту и качество предсказаний.\n",
    "Если заказчик решит применить только модель CatBoostClassifier,то рекомендуется поработать с дополнительными гиперпараметрами(feature_border_type,bootstrap_type)\n",
    "\n",
    "Целевой признак: exited. \n",
    "Категориальные признаки: type,paperlessbilling,paymentmethod,gender,partner,dependents,multiplelines, internetservice,onlinesecurity,onlinebackup,deviceprotection,techsupport,streamingtv,streamingmovies  \n",
    "Числовые признаки: monthlycharges,total_charges, duration.\t"
   ]
  },
  {
   "cell_type": "markdown",
   "id": "04c54079",
   "metadata": {},
   "source": [
    "ВЫВОДЫ О РАБОТЕ С ПРОЕКТОМ"
   ]
  },
  {
   "cell_type": "markdown",
   "id": "93b435c7",
   "metadata": {},
   "source": [
    "\n",
    "\n",
    "В проекте были выбраны и задействованы модели машинного обучения LogisticRegression, RandomForestRegressor и CatBoostClassifier. По метрике ROC AUC выбрана только модель CatBoostClassifier. В перспективе ее промышленной эксплуатации на схожих данных ей будет помогать задействованные в проекте кросс-валидация и оптимизация показателей с использованием GridSearchCV.  \n",
    "Удалось добиться качества модели ~ 0.9. \n",
    "\n",
    "\n",
    "Для достижения поставленной цели проекта было выполнено:\n",
    "\n",
    "1)  В тетрадь загружены требуемые в проекте библиотеки.   \n",
    "2) Загружены и проверены данные из файлов.  \n",
    "3) Проведен исследовательский анализ и предобработка данных исходных датафреймов:   \n",
    "    - contract_new (информация о договоре)    \n",
    "    - personal_new (персональные данные клиента)  \n",
    "    - internet_new (информация об интернет-услугах)  \n",
    "    - phone_new (информация об услугах телефонии).    \n",
    "4) Данные исходных датафреймов объеденены в единый датафрейм.    \n",
    "5) Выделены тренировочные и тестовые выборки для анализа.    \n",
    "6) Осуществлен исследовательский анализ и предобработка данных.   \n",
    "7) Добавлен целевой признак - exited.   \n",
    "8) Перед обучением удалены лишние признаки.   \n",
    "9) Обучены модели машинного обучения LogisticRegression, RandomForestRegressor и CatBoostClassifier.    \n",
    "10) На основе метрики ROC AUC на кросс-валидации выбрана  лучшая модель.   \n",
    "11) Протестирована лучшая модель.  \n",
    "12) Проведен анализ модели по основным метрикам.  \n",
    "13) Сделан общий вывод по проекту \"Телеком\" и даны рекомендации заказчику.   \n",
    "\n",
    "В процессе реализации проекта столкнулся со сложнастями подбора параметров в модели CatBoostClassifier, но изучив более подрбно как устроена и работает модель удалось достигнуть высокой метрики качества за счет подбора оптимальных параметров"
   ]
  }
 ],
 "metadata": {
  "ExecuteTimeLog": [
   {
    "duration": 1898,
    "start_time": "2024-08-02T09:28:56.712Z"
   },
   {
    "duration": 147,
    "start_time": "2024-08-02T09:31:21.008Z"
   },
   {
    "duration": 132,
    "start_time": "2024-08-02T09:31:48.468Z"
   },
   {
    "duration": 127,
    "start_time": "2024-08-02T09:32:34.511Z"
   },
   {
    "duration": 94,
    "start_time": "2024-08-02T09:33:02.045Z"
   },
   {
    "duration": 15,
    "start_time": "2024-08-02T09:37:51.530Z"
   },
   {
    "duration": 13,
    "start_time": "2024-08-02T09:38:11.253Z"
   },
   {
    "duration": 12,
    "start_time": "2024-08-02T09:38:30.906Z"
   },
   {
    "duration": 11,
    "start_time": "2024-08-02T09:38:49.245Z"
   },
   {
    "duration": 1515,
    "start_time": "2024-08-02T09:57:22.283Z"
   },
   {
    "duration": 53,
    "start_time": "2024-08-02T09:57:23.800Z"
   },
   {
    "duration": 20,
    "start_time": "2024-08-02T09:57:23.855Z"
   },
   {
    "duration": 52,
    "start_time": "2024-08-02T09:57:23.877Z"
   },
   {
    "duration": 13,
    "start_time": "2024-08-02T09:57:24.314Z"
   },
   {
    "duration": 33,
    "start_time": "2024-08-02T09:57:24.839Z"
   },
   {
    "duration": 13,
    "start_time": "2024-08-02T09:57:25.593Z"
   },
   {
    "duration": 29,
    "start_time": "2024-08-02T09:57:26.937Z"
   },
   {
    "duration": 10,
    "start_time": "2024-08-02T09:57:27.744Z"
   },
   {
    "duration": 6,
    "start_time": "2024-08-02T09:59:17.123Z"
   },
   {
    "duration": 16,
    "start_time": "2024-08-02T09:59:30.742Z"
   },
   {
    "duration": 1562,
    "start_time": "2024-08-02T10:00:12.710Z"
   },
   {
    "duration": 41,
    "start_time": "2024-08-02T10:00:14.274Z"
   },
   {
    "duration": 18,
    "start_time": "2024-08-02T10:00:14.317Z"
   },
   {
    "duration": 29,
    "start_time": "2024-08-02T10:00:14.337Z"
   },
   {
    "duration": 18,
    "start_time": "2024-08-02T10:00:14.367Z"
   },
   {
    "duration": 92,
    "start_time": "2024-08-02T10:00:14.387Z"
   },
   {
    "duration": 21,
    "start_time": "2024-08-02T10:00:14.481Z"
   },
   {
    "duration": 19,
    "start_time": "2024-08-02T10:00:14.750Z"
   },
   {
    "duration": 11,
    "start_time": "2024-08-02T10:00:15.169Z"
   },
   {
    "duration": 7,
    "start_time": "2024-08-02T10:00:15.440Z"
   },
   {
    "duration": 19,
    "start_time": "2024-08-02T10:00:16.231Z"
   },
   {
    "duration": 1483,
    "start_time": "2024-08-02T10:02:10.937Z"
   },
   {
    "duration": 42,
    "start_time": "2024-08-02T10:02:12.421Z"
   },
   {
    "duration": 14,
    "start_time": "2024-08-02T10:02:12.465Z"
   },
   {
    "duration": 22,
    "start_time": "2024-08-02T10:02:12.481Z"
   },
   {
    "duration": 12,
    "start_time": "2024-08-02T10:02:12.504Z"
   },
   {
    "duration": 22,
    "start_time": "2024-08-02T10:02:12.689Z"
   },
   {
    "duration": 12,
    "start_time": "2024-08-02T10:02:12.933Z"
   },
   {
    "duration": 23,
    "start_time": "2024-08-02T10:02:13.313Z"
   },
   {
    "duration": 11,
    "start_time": "2024-08-02T10:02:14.077Z"
   },
   {
    "duration": 6,
    "start_time": "2024-08-02T10:02:14.672Z"
   },
   {
    "duration": 15,
    "start_time": "2024-08-02T10:02:15.001Z"
   },
   {
    "duration": 1505,
    "start_time": "2024-08-02T10:06:53.623Z"
   },
   {
    "duration": 42,
    "start_time": "2024-08-02T10:06:55.130Z"
   },
   {
    "duration": 16,
    "start_time": "2024-08-02T10:06:55.174Z"
   },
   {
    "duration": 66,
    "start_time": "2024-08-02T10:06:55.192Z"
   },
   {
    "duration": 14,
    "start_time": "2024-08-02T10:06:55.260Z"
   },
   {
    "duration": 29,
    "start_time": "2024-08-02T10:06:55.478Z"
   },
   {
    "duration": 12,
    "start_time": "2024-08-02T10:06:56.237Z"
   },
   {
    "duration": 30,
    "start_time": "2024-08-02T10:06:56.506Z"
   },
   {
    "duration": 10,
    "start_time": "2024-08-02T10:06:56.738Z"
   },
   {
    "duration": 16,
    "start_time": "2024-08-02T10:06:57.434Z"
   },
   {
    "duration": 15,
    "start_time": "2024-08-02T10:06:58.334Z"
   },
   {
    "duration": 1530,
    "start_time": "2024-08-02T10:07:43.115Z"
   },
   {
    "duration": 41,
    "start_time": "2024-08-02T10:07:44.647Z"
   },
   {
    "duration": 44,
    "start_time": "2024-08-02T10:07:44.690Z"
   },
   {
    "duration": 25,
    "start_time": "2024-08-02T10:07:44.736Z"
   },
   {
    "duration": 12,
    "start_time": "2024-08-02T10:07:44.763Z"
   },
   {
    "duration": 28,
    "start_time": "2024-08-02T10:07:44.777Z"
   },
   {
    "duration": 13,
    "start_time": "2024-08-02T10:07:44.807Z"
   },
   {
    "duration": 29,
    "start_time": "2024-08-02T10:07:44.821Z"
   },
   {
    "duration": 12,
    "start_time": "2024-08-02T10:07:45.735Z"
   },
   {
    "duration": 153,
    "start_time": "2024-08-02T10:07:45.936Z"
   },
   {
    "duration": 9,
    "start_time": "2024-08-02T10:07:46.654Z"
   },
   {
    "duration": 18,
    "start_time": "2024-08-02T10:08:03.643Z"
   },
   {
    "duration": 12,
    "start_time": "2024-08-02T10:08:18.768Z"
   },
   {
    "duration": 14,
    "start_time": "2024-08-02T10:08:18.782Z"
   },
   {
    "duration": 1469,
    "start_time": "2024-08-02T10:09:47.709Z"
   },
   {
    "duration": 43,
    "start_time": "2024-08-02T10:09:49.180Z"
   },
   {
    "duration": 15,
    "start_time": "2024-08-02T10:09:49.224Z"
   },
   {
    "duration": 31,
    "start_time": "2024-08-02T10:09:49.241Z"
   },
   {
    "duration": 13,
    "start_time": "2024-08-02T10:09:49.273Z"
   },
   {
    "duration": 32,
    "start_time": "2024-08-02T10:09:49.288Z"
   },
   {
    "duration": 12,
    "start_time": "2024-08-02T10:09:49.322Z"
   },
   {
    "duration": 23,
    "start_time": "2024-08-02T10:09:49.335Z"
   },
   {
    "duration": 11,
    "start_time": "2024-08-02T10:09:49.658Z"
   },
   {
    "duration": 11,
    "start_time": "2024-08-02T10:09:50.391Z"
   },
   {
    "duration": 15,
    "start_time": "2024-08-02T10:09:51.254Z"
   },
   {
    "duration": 10,
    "start_time": "2024-08-02T10:09:52.145Z"
   },
   {
    "duration": 11,
    "start_time": "2024-08-02T10:09:53.428Z"
   },
   {
    "duration": 20,
    "start_time": "2024-08-02T10:10:04.196Z"
   },
   {
    "duration": 1521,
    "start_time": "2024-08-02T10:30:21.309Z"
   },
   {
    "duration": 42,
    "start_time": "2024-08-02T10:30:22.832Z"
   },
   {
    "duration": 14,
    "start_time": "2024-08-02T10:30:22.876Z"
   },
   {
    "duration": 40,
    "start_time": "2024-08-02T10:30:22.892Z"
   },
   {
    "duration": 36,
    "start_time": "2024-08-02T10:30:22.934Z"
   },
   {
    "duration": 54,
    "start_time": "2024-08-02T10:30:22.972Z"
   },
   {
    "duration": 13,
    "start_time": "2024-08-02T10:30:23.028Z"
   },
   {
    "duration": 19,
    "start_time": "2024-08-02T10:30:23.409Z"
   },
   {
    "duration": 10,
    "start_time": "2024-08-02T10:30:23.693Z"
   },
   {
    "duration": 12,
    "start_time": "2024-08-02T10:30:24.092Z"
   },
   {
    "duration": 16,
    "start_time": "2024-08-02T10:30:24.273Z"
   },
   {
    "duration": 10,
    "start_time": "2024-08-02T10:30:24.442Z"
   },
   {
    "duration": 15,
    "start_time": "2024-08-02T10:30:24.890Z"
   },
   {
    "duration": 21,
    "start_time": "2024-08-02T10:30:25.160Z"
   },
   {
    "duration": 26,
    "start_time": "2024-08-02T10:30:25.812Z"
   },
   {
    "duration": 1571,
    "start_time": "2024-08-02T16:51:08.626Z"
   },
   {
    "duration": 194,
    "start_time": "2024-08-02T16:51:10.200Z"
   },
   {
    "duration": 1328,
    "start_time": "2024-08-02T17:02:23.950Z"
   },
   {
    "duration": 47,
    "start_time": "2024-08-02T17:02:25.280Z"
   },
   {
    "duration": 143,
    "start_time": "2024-08-02T17:02:26.981Z"
   },
   {
    "duration": 81,
    "start_time": "2024-08-02T17:02:35.181Z"
   },
   {
    "duration": 35,
    "start_time": "2024-08-02T17:02:36.050Z"
   },
   {
    "duration": 82,
    "start_time": "2024-08-02T17:02:41.016Z"
   },
   {
    "duration": 128,
    "start_time": "2024-08-02T17:02:42.766Z"
   },
   {
    "duration": 14,
    "start_time": "2024-08-02T17:02:51.998Z"
   },
   {
    "duration": 12,
    "start_time": "2024-08-02T17:03:01.180Z"
   },
   {
    "duration": 1344,
    "start_time": "2024-08-02T17:03:35.532Z"
   },
   {
    "duration": 48,
    "start_time": "2024-08-02T17:03:36.878Z"
   },
   {
    "duration": 23,
    "start_time": "2024-08-02T17:03:36.928Z"
   },
   {
    "duration": 25,
    "start_time": "2024-08-02T17:03:37.730Z"
   },
   {
    "duration": 35,
    "start_time": "2024-08-02T17:03:38.649Z"
   },
   {
    "duration": 13,
    "start_time": "2024-08-02T17:03:39.488Z"
   },
   {
    "duration": 11,
    "start_time": "2024-08-02T17:03:41.413Z"
   },
   {
    "duration": 11,
    "start_time": "2024-08-02T17:03:48.264Z"
   },
   {
    "duration": 10,
    "start_time": "2024-08-02T17:04:00.019Z"
   },
   {
    "duration": 12,
    "start_time": "2024-08-02T17:04:06.807Z"
   },
   {
    "duration": 14,
    "start_time": "2024-08-02T17:04:07.864Z"
   },
   {
    "duration": 9,
    "start_time": "2024-08-02T17:04:12.996Z"
   },
   {
    "duration": 10,
    "start_time": "2024-08-02T17:04:14.584Z"
   },
   {
    "duration": 3,
    "start_time": "2024-08-02T17:04:15.298Z"
   },
   {
    "duration": 18,
    "start_time": "2024-08-02T17:04:16.347Z"
   },
   {
    "duration": 22,
    "start_time": "2024-08-02T17:04:19.032Z"
   },
   {
    "duration": 11,
    "start_time": "2024-08-02T17:04:22.581Z"
   },
   {
    "duration": 60,
    "start_time": "2024-08-02T17:04:27.115Z"
   },
   {
    "duration": 1681,
    "start_time": "2024-08-03T07:07:28.305Z"
   },
   {
    "duration": 144,
    "start_time": "2024-08-03T07:07:30.719Z"
   },
   {
    "duration": 123,
    "start_time": "2024-08-03T07:07:31.517Z"
   },
   {
    "duration": 137,
    "start_time": "2024-08-03T07:07:32.814Z"
   },
   {
    "duration": 87,
    "start_time": "2024-08-03T07:07:33.339Z"
   },
   {
    "duration": 15,
    "start_time": "2024-08-03T07:07:34.524Z"
   },
   {
    "duration": 17,
    "start_time": "2024-08-03T07:07:57.444Z"
   },
   {
    "duration": 12,
    "start_time": "2024-08-03T07:08:02.436Z"
   },
   {
    "duration": 12,
    "start_time": "2024-08-03T07:08:17.352Z"
   },
   {
    "duration": 13,
    "start_time": "2024-08-03T07:08:22.123Z"
   },
   {
    "duration": 32,
    "start_time": "2024-08-03T07:08:41.744Z"
   },
   {
    "duration": 9,
    "start_time": "2024-08-03T07:08:45.014Z"
   },
   {
    "duration": 15,
    "start_time": "2024-08-03T07:08:59.921Z"
   },
   {
    "duration": 115,
    "start_time": "2024-08-03T07:10:52.325Z"
   },
   {
    "duration": 8,
    "start_time": "2024-08-03T07:11:50.861Z"
   },
   {
    "duration": 16624,
    "start_time": "2024-08-03T07:13:54.811Z"
   },
   {
    "duration": 175,
    "start_time": "2024-08-03T07:14:12.222Z"
   },
   {
    "duration": 1455,
    "start_time": "2024-08-03T07:19:46.183Z"
   },
   {
    "duration": 42,
    "start_time": "2024-08-03T07:19:47.640Z"
   },
   {
    "duration": 22,
    "start_time": "2024-08-03T07:19:47.684Z"
   },
   {
    "duration": 24,
    "start_time": "2024-08-03T07:19:47.807Z"
   },
   {
    "duration": 20,
    "start_time": "2024-08-03T07:19:48.109Z"
   },
   {
    "duration": 14,
    "start_time": "2024-08-03T07:19:48.376Z"
   },
   {
    "duration": 16,
    "start_time": "2024-08-03T07:19:49.033Z"
   },
   {
    "duration": 217,
    "start_time": "2024-08-03T07:19:49.916Z"
   },
   {
    "duration": 1554,
    "start_time": "2024-08-03T07:21:53.008Z"
   },
   {
    "duration": 43,
    "start_time": "2024-08-03T07:21:54.564Z"
   },
   {
    "duration": 23,
    "start_time": "2024-08-03T07:21:54.608Z"
   },
   {
    "duration": 24,
    "start_time": "2024-08-03T07:21:54.633Z"
   },
   {
    "duration": 20,
    "start_time": "2024-08-03T07:21:54.743Z"
   },
   {
    "duration": 16,
    "start_time": "2024-08-03T07:21:57.444Z"
   },
   {
    "duration": 17,
    "start_time": "2024-08-03T07:21:58.647Z"
   },
   {
    "duration": 176,
    "start_time": "2024-08-03T07:22:00.465Z"
   },
   {
    "duration": 83104,
    "start_time": "2024-08-03T07:23:19.443Z"
   },
   {
    "duration": 1505,
    "start_time": "2024-08-03T07:27:20.020Z"
   },
   {
    "duration": 43,
    "start_time": "2024-08-03T07:27:21.527Z"
   },
   {
    "duration": 23,
    "start_time": "2024-08-03T07:27:22.196Z"
   },
   {
    "duration": 35,
    "start_time": "2024-08-03T07:27:23.147Z"
   },
   {
    "duration": 19,
    "start_time": "2024-08-03T07:27:23.700Z"
   },
   {
    "duration": 15,
    "start_time": "2024-08-03T07:27:24.429Z"
   },
   {
    "duration": 16,
    "start_time": "2024-08-03T07:27:25.080Z"
   },
   {
    "duration": 223,
    "start_time": "2024-08-03T07:27:25.848Z"
   },
   {
    "duration": 12,
    "start_time": "2024-08-03T07:27:26.844Z"
   },
   {
    "duration": 12,
    "start_time": "2024-08-03T07:27:27.747Z"
   },
   {
    "duration": 112,
    "start_time": "2024-08-03T07:27:28.730Z"
   },
   {
    "duration": 76,
    "start_time": "2024-08-03T07:27:44.978Z"
   },
   {
    "duration": 10,
    "start_time": "2024-08-03T07:27:55.271Z"
   },
   {
    "duration": 112,
    "start_time": "2024-08-03T07:28:05.648Z"
   },
   {
    "duration": 114,
    "start_time": "2024-08-03T07:28:15.200Z"
   },
   {
    "duration": 182,
    "start_time": "2024-08-03T07:28:22.200Z"
   },
   {
    "duration": 128,
    "start_time": "2024-08-03T07:29:49.300Z"
   },
   {
    "duration": 10,
    "start_time": "2024-08-03T07:35:49.372Z"
   },
   {
    "duration": 5,
    "start_time": "2024-08-03T07:36:07.730Z"
   },
   {
    "duration": 11,
    "start_time": "2024-08-03T07:36:21.538Z"
   },
   {
    "duration": 8,
    "start_time": "2024-08-03T07:39:52.945Z"
   },
   {
    "duration": 111,
    "start_time": "2024-08-03T07:39:54.764Z"
   },
   {
    "duration": 9,
    "start_time": "2024-08-03T07:42:26.624Z"
   },
   {
    "duration": 16,
    "start_time": "2024-08-03T07:42:34.307Z"
   },
   {
    "duration": 20,
    "start_time": "2024-08-03T07:42:34.501Z"
   },
   {
    "duration": 6,
    "start_time": "2024-08-03T07:42:56.420Z"
   },
   {
    "duration": 13,
    "start_time": "2024-08-03T07:46:13.116Z"
   },
   {
    "duration": 15,
    "start_time": "2024-08-03T07:46:37.978Z"
   },
   {
    "duration": 11,
    "start_time": "2024-08-03T07:46:58.570Z"
   },
   {
    "duration": 8,
    "start_time": "2024-08-03T07:47:22.262Z"
   },
   {
    "duration": 12,
    "start_time": "2024-08-03T07:56:29.225Z"
   },
   {
    "duration": 8,
    "start_time": "2024-08-03T07:56:37.942Z"
   },
   {
    "duration": 17,
    "start_time": "2024-08-03T07:56:53.054Z"
   },
   {
    "duration": 14,
    "start_time": "2024-08-03T07:57:15.827Z"
   },
   {
    "duration": 1578,
    "start_time": "2024-08-03T07:57:29.673Z"
   },
   {
    "duration": 44,
    "start_time": "2024-08-03T07:57:31.253Z"
   },
   {
    "duration": 23,
    "start_time": "2024-08-03T07:57:31.299Z"
   },
   {
    "duration": 31,
    "start_time": "2024-08-03T07:57:31.324Z"
   },
   {
    "duration": 21,
    "start_time": "2024-08-03T07:57:31.695Z"
   },
   {
    "duration": 16,
    "start_time": "2024-08-03T07:57:32.079Z"
   },
   {
    "duration": 13,
    "start_time": "2024-08-03T07:57:32.629Z"
   },
   {
    "duration": 123,
    "start_time": "2024-08-03T07:57:33.545Z"
   },
   {
    "duration": 254,
    "start_time": "2024-08-03T07:57:49.083Z"
   },
   {
    "duration": 10,
    "start_time": "2024-08-03T07:59:13.709Z"
   },
   {
    "duration": 6,
    "start_time": "2024-08-03T07:59:47.790Z"
   },
   {
    "duration": 11,
    "start_time": "2024-08-03T08:00:17.167Z"
   },
   {
    "duration": 10,
    "start_time": "2024-08-03T08:00:29.266Z"
   },
   {
    "duration": 6,
    "start_time": "2024-08-03T08:00:54.448Z"
   },
   {
    "duration": 4,
    "start_time": "2024-08-03T08:01:03.223Z"
   },
   {
    "duration": 11,
    "start_time": "2024-08-03T08:03:06.689Z"
   },
   {
    "duration": 23,
    "start_time": "2024-08-03T08:12:13.118Z"
   },
   {
    "duration": 20,
    "start_time": "2024-08-03T08:12:24.740Z"
   },
   {
    "duration": 19,
    "start_time": "2024-08-03T08:12:38.604Z"
   },
   {
    "duration": 68,
    "start_time": "2024-08-03T08:14:13.206Z"
   },
   {
    "duration": 62,
    "start_time": "2024-08-03T08:14:26.012Z"
   },
   {
    "duration": 243,
    "start_time": "2024-08-03T08:14:36.466Z"
   },
   {
    "duration": 17,
    "start_time": "2024-08-03T08:18:47.496Z"
   },
   {
    "duration": 20,
    "start_time": "2024-08-03T08:19:12.391Z"
   },
   {
    "duration": 21,
    "start_time": "2024-08-03T08:19:19.513Z"
   },
   {
    "duration": 12,
    "start_time": "2024-08-03T08:20:10.235Z"
   },
   {
    "duration": 17,
    "start_time": "2024-08-03T08:21:43.267Z"
   },
   {
    "duration": 274,
    "start_time": "2024-08-03T08:22:15.097Z"
   },
   {
    "duration": 33,
    "start_time": "2024-08-03T08:22:46.562Z"
   },
   {
    "duration": 27,
    "start_time": "2024-08-03T08:22:58.650Z"
   },
   {
    "duration": 12,
    "start_time": "2024-08-03T08:26:34.805Z"
   },
   {
    "duration": 26,
    "start_time": "2024-08-03T08:30:27.049Z"
   },
   {
    "duration": 14,
    "start_time": "2024-08-03T08:31:04.981Z"
   },
   {
    "duration": 298,
    "start_time": "2024-08-03T08:36:42.871Z"
   },
   {
    "duration": 287,
    "start_time": "2024-08-03T08:38:05.286Z"
   },
   {
    "duration": 357,
    "start_time": "2024-08-03T08:38:21.384Z"
   },
   {
    "duration": 227,
    "start_time": "2024-08-03T08:38:42.030Z"
   },
   {
    "duration": 202,
    "start_time": "2024-08-03T08:39:37.377Z"
   },
   {
    "duration": 332,
    "start_time": "2024-08-03T08:39:53.924Z"
   },
   {
    "duration": 191,
    "start_time": "2024-08-03T08:39:59.092Z"
   },
   {
    "duration": 1476,
    "start_time": "2024-08-03T08:43:46.736Z"
   },
   {
    "duration": 54,
    "start_time": "2024-08-03T08:43:48.214Z"
   },
   {
    "duration": 28,
    "start_time": "2024-08-03T08:43:48.270Z"
   },
   {
    "duration": 29,
    "start_time": "2024-08-03T08:43:48.301Z"
   },
   {
    "duration": 22,
    "start_time": "2024-08-03T08:43:48.332Z"
   },
   {
    "duration": 21,
    "start_time": "2024-08-03T08:43:48.356Z"
   },
   {
    "duration": 15,
    "start_time": "2024-08-03T08:43:48.379Z"
   },
   {
    "duration": 11,
    "start_time": "2024-08-03T08:43:48.395Z"
   },
   {
    "duration": 12,
    "start_time": "2024-08-03T08:43:48.635Z"
   },
   {
    "duration": 12,
    "start_time": "2024-08-03T08:43:48.793Z"
   },
   {
    "duration": 182,
    "start_time": "2024-08-03T08:43:48.951Z"
   },
   {
    "duration": 8,
    "start_time": "2024-08-03T08:43:49.350Z"
   },
   {
    "duration": 12,
    "start_time": "2024-08-03T08:43:49.553Z"
   },
   {
    "duration": 12,
    "start_time": "2024-08-03T08:43:49.677Z"
   },
   {
    "duration": 9,
    "start_time": "2024-08-03T08:43:49.810Z"
   },
   {
    "duration": 129,
    "start_time": "2024-08-03T08:43:49.955Z"
   },
   {
    "duration": 11,
    "start_time": "2024-08-03T08:43:50.890Z"
   },
   {
    "duration": 16,
    "start_time": "2024-08-03T08:43:51.119Z"
   },
   {
    "duration": 45,
    "start_time": "2024-08-03T08:43:51.517Z"
   },
   {
    "duration": 13,
    "start_time": "2024-08-03T08:43:51.918Z"
   },
   {
    "duration": 7,
    "start_time": "2024-08-03T08:43:52.822Z"
   },
   {
    "duration": 14,
    "start_time": "2024-08-03T08:43:53.366Z"
   },
   {
    "duration": 23,
    "start_time": "2024-08-03T08:43:53.965Z"
   },
   {
    "duration": 7,
    "start_time": "2024-08-03T08:43:54.390Z"
   },
   {
    "duration": 13,
    "start_time": "2024-08-03T08:43:55.633Z"
   },
   {
    "duration": 2,
    "start_time": "2024-08-03T08:43:56.820Z"
   },
   {
    "duration": 60,
    "start_time": "2024-08-03T08:43:57.474Z"
   },
   {
    "duration": 3,
    "start_time": "2024-08-03T08:44:04.179Z"
   },
   {
    "duration": 4,
    "start_time": "2024-08-03T08:44:16.554Z"
   },
   {
    "duration": 12,
    "start_time": "2024-08-03T08:44:27.753Z"
   },
   {
    "duration": 56,
    "start_time": "2024-08-03T08:47:12.989Z"
   },
   {
    "duration": 117,
    "start_time": "2024-08-03T08:47:23.736Z"
   },
   {
    "duration": 125,
    "start_time": "2024-08-03T08:47:30.334Z"
   },
   {
    "duration": 182,
    "start_time": "2024-08-03T08:47:52.313Z"
   },
   {
    "duration": 112,
    "start_time": "2024-08-03T08:48:09.374Z"
   },
   {
    "duration": 7,
    "start_time": "2024-08-03T08:51:29.875Z"
   },
   {
    "duration": 10,
    "start_time": "2024-08-03T08:51:55.841Z"
   },
   {
    "duration": 11,
    "start_time": "2024-08-03T08:52:12.506Z"
   },
   {
    "duration": 3,
    "start_time": "2024-08-03T08:52:27.854Z"
   },
   {
    "duration": 64,
    "start_time": "2024-08-03T08:52:56.102Z"
   },
   {
    "duration": 19,
    "start_time": "2024-08-03T08:53:01.176Z"
   },
   {
    "duration": 10,
    "start_time": "2024-08-03T08:53:51.437Z"
   },
   {
    "duration": 7,
    "start_time": "2024-08-03T08:57:10.890Z"
   },
   {
    "duration": 15,
    "start_time": "2024-08-03T08:57:37.715Z"
   },
   {
    "duration": 7,
    "start_time": "2024-08-03T08:58:07.197Z"
   },
   {
    "duration": 7,
    "start_time": "2024-08-03T08:58:36.397Z"
   },
   {
    "duration": 3,
    "start_time": "2024-08-03T08:59:46.789Z"
   },
   {
    "duration": 10,
    "start_time": "2024-08-03T08:59:55.904Z"
   },
   {
    "duration": 9,
    "start_time": "2024-08-03T09:00:04.072Z"
   },
   {
    "duration": 7,
    "start_time": "2024-08-03T09:00:21.431Z"
   },
   {
    "duration": 13,
    "start_time": "2024-08-03T09:01:03.884Z"
   },
   {
    "duration": 13,
    "start_time": "2024-08-03T09:01:19.731Z"
   },
   {
    "duration": 13,
    "start_time": "2024-08-03T09:02:02.826Z"
   },
   {
    "duration": 62,
    "start_time": "2024-08-03T09:03:14.639Z"
   },
   {
    "duration": 17,
    "start_time": "2024-08-03T09:03:20.594Z"
   },
   {
    "duration": 13,
    "start_time": "2024-08-03T09:03:36.747Z"
   },
   {
    "duration": 18,
    "start_time": "2024-08-03T09:05:59.148Z"
   },
   {
    "duration": 16,
    "start_time": "2024-08-03T09:06:38.015Z"
   },
   {
    "duration": 19,
    "start_time": "2024-08-03T09:06:55.782Z"
   },
   {
    "duration": 16,
    "start_time": "2024-08-03T09:07:43.599Z"
   },
   {
    "duration": 16,
    "start_time": "2024-08-03T09:07:46.878Z"
   },
   {
    "duration": 22,
    "start_time": "2024-08-03T09:08:13.432Z"
   },
   {
    "duration": 17,
    "start_time": "2024-08-03T09:09:33.361Z"
   },
   {
    "duration": 23,
    "start_time": "2024-08-03T09:09:41.566Z"
   },
   {
    "duration": 17,
    "start_time": "2024-08-03T09:09:57.097Z"
   },
   {
    "duration": 18,
    "start_time": "2024-08-03T09:10:21.829Z"
   },
   {
    "duration": 16,
    "start_time": "2024-08-03T09:10:51.685Z"
   },
   {
    "duration": 15,
    "start_time": "2024-08-03T09:11:24.488Z"
   },
   {
    "duration": 329,
    "start_time": "2024-08-03T09:12:27.492Z"
   },
   {
    "duration": 11,
    "start_time": "2024-08-03T09:12:34.790Z"
   },
   {
    "duration": 14,
    "start_time": "2024-08-03T09:27:08.241Z"
   },
   {
    "duration": 16,
    "start_time": "2024-08-03T09:27:09.231Z"
   },
   {
    "duration": 10,
    "start_time": "2024-08-03T09:27:29.103Z"
   },
   {
    "duration": 18,
    "start_time": "2024-08-03T09:27:29.773Z"
   },
   {
    "duration": 3,
    "start_time": "2024-08-03T09:27:36.928Z"
   },
   {
    "duration": 18,
    "start_time": "2024-08-03T09:27:41.318Z"
   },
   {
    "duration": 15,
    "start_time": "2024-08-03T09:27:46.761Z"
   },
   {
    "duration": 19,
    "start_time": "2024-08-03T09:27:53.787Z"
   },
   {
    "duration": 14,
    "start_time": "2024-08-03T09:28:00.335Z"
   },
   {
    "duration": 1584,
    "start_time": "2024-08-03T10:07:14.589Z"
   },
   {
    "duration": 47,
    "start_time": "2024-08-03T10:07:16.175Z"
   },
   {
    "duration": 23,
    "start_time": "2024-08-03T10:07:16.223Z"
   },
   {
    "duration": 23,
    "start_time": "2024-08-03T10:07:16.248Z"
   },
   {
    "duration": 26,
    "start_time": "2024-08-03T10:07:16.273Z"
   },
   {
    "duration": 16,
    "start_time": "2024-08-03T10:07:16.301Z"
   },
   {
    "duration": 24,
    "start_time": "2024-08-03T10:07:16.319Z"
   },
   {
    "duration": 25,
    "start_time": "2024-08-03T10:07:16.345Z"
   },
   {
    "duration": 12,
    "start_time": "2024-08-03T10:07:17.233Z"
   },
   {
    "duration": 10,
    "start_time": "2024-08-03T10:07:17.528Z"
   },
   {
    "duration": 209,
    "start_time": "2024-08-03T10:07:17.719Z"
   },
   {
    "duration": 9,
    "start_time": "2024-08-03T10:07:18.796Z"
   },
   {
    "duration": 13,
    "start_time": "2024-08-03T10:07:19.125Z"
   },
   {
    "duration": 13,
    "start_time": "2024-08-03T10:07:19.342Z"
   },
   {
    "duration": 8,
    "start_time": "2024-08-03T10:07:19.608Z"
   },
   {
    "duration": 144,
    "start_time": "2024-08-03T10:07:19.826Z"
   },
   {
    "duration": 11,
    "start_time": "2024-08-03T10:07:20.528Z"
   },
   {
    "duration": 13,
    "start_time": "2024-08-03T10:07:20.762Z"
   },
   {
    "duration": 37,
    "start_time": "2024-08-03T10:07:21.063Z"
   },
   {
    "duration": 16,
    "start_time": "2024-08-03T10:07:21.275Z"
   },
   {
    "duration": 9,
    "start_time": "2024-08-03T10:07:21.695Z"
   },
   {
    "duration": 11,
    "start_time": "2024-08-03T10:07:22.395Z"
   },
   {
    "duration": 17,
    "start_time": "2024-08-03T10:07:23.012Z"
   },
   {
    "duration": 7,
    "start_time": "2024-08-03T10:07:23.225Z"
   },
   {
    "duration": 10,
    "start_time": "2024-08-03T10:07:24.936Z"
   },
   {
    "duration": 25,
    "start_time": "2024-08-03T10:07:25.142Z"
   },
   {
    "duration": 17,
    "start_time": "2024-08-03T10:07:25.312Z"
   },
   {
    "duration": 21,
    "start_time": "2024-08-03T10:07:25.484Z"
   },
   {
    "duration": 11,
    "start_time": "2024-08-03T10:07:28.429Z"
   },
   {
    "duration": 17,
    "start_time": "2024-08-03T10:07:28.927Z"
   },
   {
    "duration": 14,
    "start_time": "2024-08-03T10:07:29.181Z"
   },
   {
    "duration": 15,
    "start_time": "2024-08-03T10:07:29.376Z"
   },
   {
    "duration": 4,
    "start_time": "2024-08-03T10:07:29.808Z"
   },
   {
    "duration": 20,
    "start_time": "2024-08-03T10:07:29.993Z"
   },
   {
    "duration": 26,
    "start_time": "2024-08-03T10:07:31.077Z"
   },
   {
    "duration": 15,
    "start_time": "2024-08-03T10:07:32.001Z"
   },
   {
    "duration": 149,
    "start_time": "2024-08-03T10:16:37.606Z"
   },
   {
    "duration": 62,
    "start_time": "2024-08-03T10:17:39.435Z"
   },
   {
    "duration": 32,
    "start_time": "2024-08-03T10:24:59.578Z"
   },
   {
    "duration": 5,
    "start_time": "2024-08-03T10:25:21.852Z"
   },
   {
    "duration": 3,
    "start_time": "2024-08-03T10:26:44.059Z"
   },
   {
    "duration": 19,
    "start_time": "2024-08-03T10:26:50.330Z"
   },
   {
    "duration": 61,
    "start_time": "2024-08-03T10:28:03.908Z"
   },
   {
    "duration": 58,
    "start_time": "2024-08-03T10:28:25.494Z"
   },
   {
    "duration": 61,
    "start_time": "2024-08-03T10:28:46.543Z"
   },
   {
    "duration": 9,
    "start_time": "2024-08-03T10:29:30.338Z"
   },
   {
    "duration": 85,
    "start_time": "2024-08-03T10:29:38.202Z"
   },
   {
    "duration": 84,
    "start_time": "2024-08-03T10:29:48.536Z"
   },
   {
    "duration": 89,
    "start_time": "2024-08-03T10:29:52.611Z"
   },
   {
    "duration": 27,
    "start_time": "2024-08-03T10:31:07.995Z"
   },
   {
    "duration": 5,
    "start_time": "2024-08-03T10:31:27.843Z"
   },
   {
    "duration": 267,
    "start_time": "2024-08-03T10:31:54.913Z"
   },
   {
    "duration": 263,
    "start_time": "2024-08-03T10:32:15.038Z"
   },
   {
    "duration": 10,
    "start_time": "2024-08-03T10:32:27.997Z"
   },
   {
    "duration": 9,
    "start_time": "2024-08-03T10:32:36.168Z"
   },
   {
    "duration": 72,
    "start_time": "2024-08-03T10:33:42.954Z"
   },
   {
    "duration": 185,
    "start_time": "2024-08-03T10:33:50.371Z"
   },
   {
    "duration": 10,
    "start_time": "2024-08-03T10:34:18.028Z"
   },
   {
    "duration": 8,
    "start_time": "2024-08-03T10:34:38.700Z"
   },
   {
    "duration": 246,
    "start_time": "2024-08-03T10:34:39.116Z"
   },
   {
    "duration": 5,
    "start_time": "2024-08-03T10:34:54.008Z"
   },
   {
    "duration": 3,
    "start_time": "2024-08-03T10:34:54.152Z"
   },
   {
    "duration": 132,
    "start_time": "2024-08-03T10:35:12.401Z"
   },
   {
    "duration": 6,
    "start_time": "2024-08-03T10:36:04.204Z"
   },
   {
    "duration": 180,
    "start_time": "2024-08-03T10:36:05.096Z"
   },
   {
    "duration": 6,
    "start_time": "2024-08-03T10:37:41.437Z"
   },
   {
    "duration": 203,
    "start_time": "2024-08-03T10:37:41.599Z"
   },
   {
    "duration": 6,
    "start_time": "2024-08-03T10:37:41.805Z"
   },
   {
    "duration": 4,
    "start_time": "2024-08-03T10:37:42.565Z"
   },
   {
    "duration": 191,
    "start_time": "2024-08-03T10:37:43.299Z"
   },
   {
    "duration": 10,
    "start_time": "2024-08-03T10:45:24.095Z"
   },
   {
    "duration": 17,
    "start_time": "2024-08-03T10:45:34.481Z"
   },
   {
    "duration": 13,
    "start_time": "2024-08-03T10:45:55.627Z"
   },
   {
    "duration": 32,
    "start_time": "2024-08-03T10:46:02.682Z"
   },
   {
    "duration": 63,
    "start_time": "2024-08-03T10:46:51.988Z"
   },
   {
    "duration": 10,
    "start_time": "2024-08-03T10:47:09.200Z"
   },
   {
    "duration": 26,
    "start_time": "2024-08-03T10:47:30.033Z"
   },
   {
    "duration": 31,
    "start_time": "2024-08-03T10:52:36.024Z"
   },
   {
    "duration": 14,
    "start_time": "2024-08-03T10:57:48.960Z"
   },
   {
    "duration": 11,
    "start_time": "2024-08-03T10:58:11.311Z"
   },
   {
    "duration": 11,
    "start_time": "2024-08-03T11:05:59.617Z"
   },
   {
    "duration": 15,
    "start_time": "2024-08-03T11:06:09.718Z"
   },
   {
    "duration": 15,
    "start_time": "2024-08-03T11:06:25.417Z"
   },
   {
    "duration": 4,
    "start_time": "2024-08-03T11:06:52.021Z"
   },
   {
    "duration": 6,
    "start_time": "2024-08-03T11:07:01.292Z"
   },
   {
    "duration": 18,
    "start_time": "2024-08-03T11:07:02.000Z"
   },
   {
    "duration": 26,
    "start_time": "2024-08-03T11:07:16.667Z"
   },
   {
    "duration": 3,
    "start_time": "2024-08-03T11:07:24.865Z"
   },
   {
    "duration": 12,
    "start_time": "2024-08-03T11:08:11.670Z"
   },
   {
    "duration": 14,
    "start_time": "2024-08-03T11:08:18.957Z"
   },
   {
    "duration": 10,
    "start_time": "2024-08-03T11:08:23.373Z"
   },
   {
    "duration": 12,
    "start_time": "2024-08-03T11:08:35.615Z"
   },
   {
    "duration": 11,
    "start_time": "2024-08-03T11:08:47.221Z"
   },
   {
    "duration": 26,
    "start_time": "2024-08-03T11:08:58.368Z"
   },
   {
    "duration": 16,
    "start_time": "2024-08-03T11:10:41.060Z"
   },
   {
    "duration": 12,
    "start_time": "2024-08-03T11:10:45.603Z"
   },
   {
    "duration": 18,
    "start_time": "2024-08-03T11:10:51.047Z"
   },
   {
    "duration": 18,
    "start_time": "2024-08-03T11:11:11.496Z"
   },
   {
    "duration": 22,
    "start_time": "2024-08-03T11:13:28.117Z"
   },
   {
    "duration": 26,
    "start_time": "2024-08-03T11:15:01.223Z"
   },
   {
    "duration": 29,
    "start_time": "2024-08-03T11:15:23.881Z"
   },
   {
    "duration": 13,
    "start_time": "2024-08-03T11:15:52.905Z"
   },
   {
    "duration": 25,
    "start_time": "2024-08-03T11:16:13.919Z"
   },
   {
    "duration": 17,
    "start_time": "2024-08-03T11:17:16.392Z"
   },
   {
    "duration": 5,
    "start_time": "2024-08-03T11:18:30.289Z"
   },
   {
    "duration": 26,
    "start_time": "2024-08-03T11:18:40.365Z"
   },
   {
    "duration": 24,
    "start_time": "2024-08-03T11:19:04.216Z"
   },
   {
    "duration": 63,
    "start_time": "2024-08-03T11:19:53.726Z"
   },
   {
    "duration": 961,
    "start_time": "2024-08-03T11:19:58.261Z"
   },
   {
    "duration": 26,
    "start_time": "2024-08-03T11:20:09.073Z"
   },
   {
    "duration": 28,
    "start_time": "2024-08-03T11:21:17.685Z"
   },
   {
    "duration": 27,
    "start_time": "2024-08-03T11:21:55.804Z"
   },
   {
    "duration": 28,
    "start_time": "2024-08-03T11:23:11.642Z"
   },
   {
    "duration": 29,
    "start_time": "2024-08-03T11:23:31.928Z"
   },
   {
    "duration": 28,
    "start_time": "2024-08-03T11:24:48.462Z"
   },
   {
    "duration": 27,
    "start_time": "2024-08-03T11:25:06.364Z"
   },
   {
    "duration": 25,
    "start_time": "2024-08-03T11:25:15.670Z"
   },
   {
    "duration": 26,
    "start_time": "2024-08-03T11:25:56.323Z"
   },
   {
    "duration": 28,
    "start_time": "2024-08-03T11:26:38.202Z"
   },
   {
    "duration": 26,
    "start_time": "2024-08-03T11:27:04.483Z"
   },
   {
    "duration": 11,
    "start_time": "2024-08-03T11:28:53.200Z"
   },
   {
    "duration": 25,
    "start_time": "2024-08-03T11:28:58.973Z"
   },
   {
    "duration": 26,
    "start_time": "2024-08-03T11:29:28.168Z"
   },
   {
    "duration": 29,
    "start_time": "2024-08-03T11:33:03.939Z"
   },
   {
    "duration": 24,
    "start_time": "2024-08-03T11:33:56.934Z"
   },
   {
    "duration": 98,
    "start_time": "2024-08-03T11:43:04.099Z"
   },
   {
    "duration": 89,
    "start_time": "2024-08-03T11:44:13.602Z"
   },
   {
    "duration": 89,
    "start_time": "2024-08-03T11:50:38.444Z"
   },
   {
    "duration": 20,
    "start_time": "2024-08-03T11:51:12.639Z"
   },
   {
    "duration": 13,
    "start_time": "2024-08-03T11:53:35.033Z"
   },
   {
    "duration": 12,
    "start_time": "2024-08-03T11:53:56.180Z"
   },
   {
    "duration": 12,
    "start_time": "2024-08-03T11:55:37.642Z"
   },
   {
    "duration": 14,
    "start_time": "2024-08-03T12:00:48.275Z"
   },
   {
    "duration": 12,
    "start_time": "2024-08-03T12:08:22.284Z"
   },
   {
    "duration": 12,
    "start_time": "2024-08-03T12:08:40.285Z"
   },
   {
    "duration": 72,
    "start_time": "2024-08-03T12:11:51.874Z"
   },
   {
    "duration": 9,
    "start_time": "2024-08-03T12:12:05.985Z"
   },
   {
    "duration": 10,
    "start_time": "2024-08-03T12:12:17.285Z"
   },
   {
    "duration": 10,
    "start_time": "2024-08-03T12:12:22.888Z"
   },
   {
    "duration": 10,
    "start_time": "2024-08-03T12:13:19.839Z"
   },
   {
    "duration": 13,
    "start_time": "2024-08-03T12:15:23.861Z"
   },
   {
    "duration": 9,
    "start_time": "2024-08-03T12:18:33.736Z"
   },
   {
    "duration": 10,
    "start_time": "2024-08-03T12:19:54.805Z"
   },
   {
    "duration": 10,
    "start_time": "2024-08-03T12:21:20.807Z"
   },
   {
    "duration": 1523,
    "start_time": "2024-08-03T12:22:03.166Z"
   },
   {
    "duration": 43,
    "start_time": "2024-08-03T12:22:04.692Z"
   },
   {
    "duration": 23,
    "start_time": "2024-08-03T12:22:04.737Z"
   },
   {
    "duration": 28,
    "start_time": "2024-08-03T12:22:04.762Z"
   },
   {
    "duration": 18,
    "start_time": "2024-08-03T12:22:04.792Z"
   },
   {
    "duration": 14,
    "start_time": "2024-08-03T12:22:04.812Z"
   },
   {
    "duration": 36,
    "start_time": "2024-08-03T12:22:04.827Z"
   },
   {
    "duration": 12,
    "start_time": "2024-08-03T12:22:04.865Z"
   },
   {
    "duration": 13,
    "start_time": "2024-08-03T12:22:04.878Z"
   },
   {
    "duration": 10,
    "start_time": "2024-08-03T12:22:04.894Z"
   },
   {
    "duration": 181,
    "start_time": "2024-08-03T12:22:05.006Z"
   },
   {
    "duration": 9,
    "start_time": "2024-08-03T12:22:05.338Z"
   },
   {
    "duration": 11,
    "start_time": "2024-08-03T12:22:05.512Z"
   },
   {
    "duration": 11,
    "start_time": "2024-08-03T12:22:05.699Z"
   },
   {
    "duration": 8,
    "start_time": "2024-08-03T12:22:05.939Z"
   },
   {
    "duration": 134,
    "start_time": "2024-08-03T12:22:06.111Z"
   },
   {
    "duration": 20,
    "start_time": "2024-08-03T12:22:06.405Z"
   },
   {
    "duration": 13,
    "start_time": "2024-08-03T12:22:06.612Z"
   },
   {
    "duration": 32,
    "start_time": "2024-08-03T12:22:06.780Z"
   },
   {
    "duration": 9,
    "start_time": "2024-08-03T12:22:06.944Z"
   },
   {
    "duration": 8,
    "start_time": "2024-08-03T12:22:07.265Z"
   },
   {
    "duration": 14,
    "start_time": "2024-08-03T12:22:07.433Z"
   },
   {
    "duration": 24,
    "start_time": "2024-08-03T12:22:07.626Z"
   },
   {
    "duration": 10,
    "start_time": "2024-08-03T12:22:07.799Z"
   },
   {
    "duration": 91,
    "start_time": "2024-08-03T12:22:08.432Z"
   },
   {
    "duration": 17,
    "start_time": "2024-08-03T12:22:09.020Z"
   },
   {
    "duration": 24,
    "start_time": "2024-08-03T12:22:09.452Z"
   },
   {
    "duration": 18,
    "start_time": "2024-08-03T12:22:10.064Z"
   },
   {
    "duration": 12,
    "start_time": "2024-08-03T12:22:11.937Z"
   },
   {
    "duration": 15,
    "start_time": "2024-08-03T12:22:12.241Z"
   },
   {
    "duration": 78,
    "start_time": "2024-08-03T12:22:12.732Z"
   },
   {
    "duration": 13,
    "start_time": "2024-08-03T12:22:13.097Z"
   },
   {
    "duration": 4,
    "start_time": "2024-08-03T12:22:13.267Z"
   },
   {
    "duration": 26,
    "start_time": "2024-08-03T12:22:13.430Z"
   },
   {
    "duration": 21,
    "start_time": "2024-08-03T12:22:13.671Z"
   },
   {
    "duration": 22,
    "start_time": "2024-08-03T12:22:14.026Z"
   },
   {
    "duration": 13,
    "start_time": "2024-08-03T12:22:15.022Z"
   },
   {
    "duration": 160,
    "start_time": "2024-08-03T12:22:15.566Z"
   },
   {
    "duration": 5,
    "start_time": "2024-08-03T12:22:29.897Z"
   },
   {
    "duration": 6,
    "start_time": "2024-08-03T12:22:30.863Z"
   },
   {
    "duration": 181,
    "start_time": "2024-08-03T12:22:31.544Z"
   },
   {
    "duration": 26,
    "start_time": "2024-08-03T12:22:33.637Z"
   },
   {
    "duration": 5,
    "start_time": "2024-08-03T12:23:09.888Z"
   },
   {
    "duration": 162,
    "start_time": "2024-08-03T12:23:10.853Z"
   },
   {
    "duration": 4,
    "start_time": "2024-08-03T12:23:12.332Z"
   },
   {
    "duration": 4,
    "start_time": "2024-08-03T12:23:13.302Z"
   },
   {
    "duration": 166,
    "start_time": "2024-08-03T12:23:14.422Z"
   },
   {
    "duration": 1663,
    "start_time": "2024-08-03T12:28:27.467Z"
   },
   {
    "duration": 44,
    "start_time": "2024-08-03T12:28:29.132Z"
   },
   {
    "duration": 22,
    "start_time": "2024-08-03T12:28:29.177Z"
   },
   {
    "duration": 23,
    "start_time": "2024-08-03T12:28:29.201Z"
   },
   {
    "duration": 19,
    "start_time": "2024-08-03T12:28:29.225Z"
   },
   {
    "duration": 16,
    "start_time": "2024-08-03T12:28:29.246Z"
   },
   {
    "duration": 19,
    "start_time": "2024-08-03T12:28:29.263Z"
   },
   {
    "duration": 10,
    "start_time": "2024-08-03T12:28:29.283Z"
   },
   {
    "duration": 14,
    "start_time": "2024-08-03T12:28:30.668Z"
   },
   {
    "duration": 12,
    "start_time": "2024-08-03T12:28:30.834Z"
   },
   {
    "duration": 184,
    "start_time": "2024-08-03T12:28:31.100Z"
   },
   {
    "duration": 9,
    "start_time": "2024-08-03T12:28:31.451Z"
   },
   {
    "duration": 13,
    "start_time": "2024-08-03T12:28:31.652Z"
   },
   {
    "duration": 12,
    "start_time": "2024-08-03T12:28:31.789Z"
   },
   {
    "duration": 10,
    "start_time": "2024-08-03T12:28:32.115Z"
   },
   {
    "duration": 138,
    "start_time": "2024-08-03T12:28:32.278Z"
   },
   {
    "duration": 11,
    "start_time": "2024-08-03T12:28:32.614Z"
   },
   {
    "duration": 12,
    "start_time": "2024-08-03T12:28:32.873Z"
   },
   {
    "duration": 31,
    "start_time": "2024-08-03T12:28:33.045Z"
   },
   {
    "duration": 10,
    "start_time": "2024-08-03T12:28:33.222Z"
   },
   {
    "duration": 7,
    "start_time": "2024-08-03T12:28:33.572Z"
   },
   {
    "duration": 11,
    "start_time": "2024-08-03T12:28:33.779Z"
   },
   {
    "duration": 26,
    "start_time": "2024-08-03T12:28:33.966Z"
   },
   {
    "duration": 6,
    "start_time": "2024-08-03T12:28:34.176Z"
   },
   {
    "duration": 89,
    "start_time": "2024-08-03T12:28:35.587Z"
   },
   {
    "duration": 17,
    "start_time": "2024-08-03T12:28:36.168Z"
   },
   {
    "duration": 27,
    "start_time": "2024-08-03T12:28:36.403Z"
   },
   {
    "duration": 28,
    "start_time": "2024-08-03T12:28:36.936Z"
   },
   {
    "duration": 11,
    "start_time": "2024-08-03T12:28:38.701Z"
   },
   {
    "duration": 23,
    "start_time": "2024-08-03T12:28:39.101Z"
   },
   {
    "duration": 91,
    "start_time": "2024-08-03T12:28:39.451Z"
   },
   {
    "duration": 17,
    "start_time": "2024-08-03T12:28:40.086Z"
   },
   {
    "duration": 4,
    "start_time": "2024-08-03T12:28:40.333Z"
   },
   {
    "duration": 18,
    "start_time": "2024-08-03T12:28:40.500Z"
   },
   {
    "duration": 27,
    "start_time": "2024-08-03T12:28:41.020Z"
   },
   {
    "duration": 14,
    "start_time": "2024-08-03T12:28:41.884Z"
   },
   {
    "duration": 9,
    "start_time": "2024-08-03T12:28:43.386Z"
   },
   {
    "duration": 81782,
    "start_time": "2024-08-03T12:28:43.657Z"
   },
   {
    "duration": 6,
    "start_time": "2024-08-03T12:30:05.440Z"
   },
   {
    "duration": 56,
    "start_time": "2024-08-03T12:30:05.448Z"
   },
   {
    "duration": 187,
    "start_time": "2024-08-03T12:30:05.506Z"
   },
   {
    "duration": 26,
    "start_time": "2024-08-03T12:30:05.694Z"
   },
   {
    "duration": 64,
    "start_time": "2024-08-03T12:30:05.721Z"
   },
   {
    "duration": 6,
    "start_time": "2024-08-03T12:30:35.488Z"
   },
   {
    "duration": 187,
    "start_time": "2024-08-03T12:30:36.187Z"
   },
   {
    "duration": 7,
    "start_time": "2024-08-03T12:31:06.304Z"
   },
   {
    "duration": 5,
    "start_time": "2024-08-03T12:31:25.374Z"
   },
   {
    "duration": 13,
    "start_time": "2024-08-03T12:31:45.046Z"
   },
   {
    "duration": 34,
    "start_time": "2024-08-03T12:32:02.978Z"
   },
   {
    "duration": 17,
    "start_time": "2024-08-03T12:32:28.182Z"
   },
   {
    "duration": 5,
    "start_time": "2024-08-03T12:33:27.574Z"
   },
   {
    "duration": 7,
    "start_time": "2024-08-03T12:34:03.910Z"
   },
   {
    "duration": 5,
    "start_time": "2024-08-03T12:34:37.056Z"
   },
   {
    "duration": 5,
    "start_time": "2024-08-03T12:35:09.293Z"
   },
   {
    "duration": 6,
    "start_time": "2024-08-03T12:35:39.228Z"
   },
   {
    "duration": 20,
    "start_time": "2024-08-03T12:36:07.144Z"
   },
   {
    "duration": 8,
    "start_time": "2024-08-03T12:36:52.822Z"
   },
   {
    "duration": 13,
    "start_time": "2024-08-03T12:36:53.341Z"
   },
   {
    "duration": 17,
    "start_time": "2024-08-03T12:48:25.974Z"
   },
   {
    "duration": 11,
    "start_time": "2024-08-03T12:48:45.219Z"
   },
   {
    "duration": 29,
    "start_time": "2024-08-03T12:48:57.612Z"
   },
   {
    "duration": 28,
    "start_time": "2024-08-03T12:49:15.004Z"
   },
   {
    "duration": 49,
    "start_time": "2024-08-03T12:49:26.477Z"
   },
   {
    "duration": 15,
    "start_time": "2024-08-03T12:49:31.478Z"
   },
   {
    "duration": 4,
    "start_time": "2024-08-03T12:50:03.327Z"
   },
   {
    "duration": 28,
    "start_time": "2024-08-03T12:50:10.430Z"
   },
   {
    "duration": 6,
    "start_time": "2024-08-03T12:50:53.788Z"
   },
   {
    "duration": 7,
    "start_time": "2024-08-03T12:51:24.421Z"
   },
   {
    "duration": 8,
    "start_time": "2024-08-03T12:51:32.601Z"
   },
   {
    "duration": 9,
    "start_time": "2024-08-03T12:51:50.801Z"
   },
   {
    "duration": 10,
    "start_time": "2024-08-03T12:52:10.328Z"
   },
   {
    "duration": 11,
    "start_time": "2024-08-03T12:52:21.867Z"
   },
   {
    "duration": 139,
    "start_time": "2024-08-03T12:54:33.130Z"
   },
   {
    "duration": 16,
    "start_time": "2024-08-03T12:54:39.789Z"
   },
   {
    "duration": 4,
    "start_time": "2024-08-03T12:57:35.204Z"
   },
   {
    "duration": 31,
    "start_time": "2024-08-03T12:57:46.052Z"
   },
   {
    "duration": 29,
    "start_time": "2024-08-03T12:58:40.666Z"
   },
   {
    "duration": 12,
    "start_time": "2024-08-03T13:01:02.872Z"
   },
   {
    "duration": 16,
    "start_time": "2024-08-03T13:01:11.529Z"
   },
   {
    "duration": 1014,
    "start_time": "2024-08-03T13:04:31.984Z"
   },
   {
    "duration": 78,
    "start_time": "2024-08-03T13:04:46.298Z"
   },
   {
    "duration": 62,
    "start_time": "2024-08-03T13:08:17.801Z"
   },
   {
    "duration": 58,
    "start_time": "2024-08-03T13:08:24.179Z"
   },
   {
    "duration": 9,
    "start_time": "2024-08-03T13:11:32.970Z"
   },
   {
    "duration": 27,
    "start_time": "2024-08-03T13:12:13.533Z"
   },
   {
    "duration": 12,
    "start_time": "2024-08-03T13:13:02.660Z"
   },
   {
    "duration": 27,
    "start_time": "2024-08-03T13:13:02.822Z"
   },
   {
    "duration": 1642,
    "start_time": "2024-08-03T13:47:22.200Z"
   },
   {
    "duration": 48,
    "start_time": "2024-08-03T13:47:23.844Z"
   },
   {
    "duration": 81,
    "start_time": "2024-08-03T13:47:23.895Z"
   },
   {
    "duration": 60,
    "start_time": "2024-08-03T13:47:23.978Z"
   },
   {
    "duration": 22,
    "start_time": "2024-08-03T13:47:24.041Z"
   },
   {
    "duration": 17,
    "start_time": "2024-08-03T13:47:24.064Z"
   },
   {
    "duration": 33,
    "start_time": "2024-08-03T13:47:24.083Z"
   },
   {
    "duration": 16,
    "start_time": "2024-08-03T13:47:24.118Z"
   },
   {
    "duration": 22,
    "start_time": "2024-08-03T13:47:24.136Z"
   },
   {
    "duration": 30,
    "start_time": "2024-08-03T13:47:24.161Z"
   },
   {
    "duration": 219,
    "start_time": "2024-08-03T13:47:24.193Z"
   },
   {
    "duration": 9,
    "start_time": "2024-08-03T13:47:24.414Z"
   },
   {
    "duration": 14,
    "start_time": "2024-08-03T13:47:24.571Z"
   },
   {
    "duration": 14,
    "start_time": "2024-08-03T13:47:24.668Z"
   },
   {
    "duration": 8,
    "start_time": "2024-08-03T13:47:24.837Z"
   },
   {
    "duration": 120,
    "start_time": "2024-08-03T13:47:25.015Z"
   },
   {
    "duration": 11,
    "start_time": "2024-08-03T13:47:25.279Z"
   },
   {
    "duration": 13,
    "start_time": "2024-08-03T13:47:25.429Z"
   },
   {
    "duration": 33,
    "start_time": "2024-08-03T13:47:25.598Z"
   },
   {
    "duration": 8,
    "start_time": "2024-08-03T13:47:25.756Z"
   },
   {
    "duration": 8,
    "start_time": "2024-08-03T13:47:26.040Z"
   },
   {
    "duration": 14,
    "start_time": "2024-08-03T13:47:26.265Z"
   },
   {
    "duration": 16,
    "start_time": "2024-08-03T13:47:26.399Z"
   },
   {
    "duration": 6,
    "start_time": "2024-08-03T13:47:26.583Z"
   },
   {
    "duration": 90,
    "start_time": "2024-08-03T13:47:27.144Z"
   },
   {
    "duration": 16,
    "start_time": "2024-08-03T13:47:27.283Z"
   },
   {
    "duration": 16,
    "start_time": "2024-08-03T13:47:27.555Z"
   },
   {
    "duration": 16,
    "start_time": "2024-08-03T13:47:28.066Z"
   },
   {
    "duration": 12,
    "start_time": "2024-08-03T13:47:30.234Z"
   },
   {
    "duration": 15,
    "start_time": "2024-08-03T13:47:30.432Z"
   },
   {
    "duration": 84,
    "start_time": "2024-08-03T13:47:30.916Z"
   },
   {
    "duration": 11,
    "start_time": "2024-08-03T13:47:31.365Z"
   },
   {
    "duration": 3,
    "start_time": "2024-08-03T13:47:31.915Z"
   },
   {
    "duration": 18,
    "start_time": "2024-08-03T13:47:32.321Z"
   },
   {
    "duration": 21,
    "start_time": "2024-08-03T13:47:32.967Z"
   },
   {
    "duration": 15,
    "start_time": "2024-08-03T13:47:33.448Z"
   },
   {
    "duration": 13,
    "start_time": "2024-08-03T13:47:35.099Z"
   },
   {
    "duration": 158,
    "start_time": "2024-08-03T13:47:35.447Z"
   },
   {
    "duration": 5,
    "start_time": "2024-08-03T13:47:35.698Z"
   },
   {
    "duration": 6,
    "start_time": "2024-08-03T13:47:36.368Z"
   },
   {
    "duration": 172,
    "start_time": "2024-08-03T13:47:36.751Z"
   },
   {
    "duration": 27,
    "start_time": "2024-08-03T13:47:37.648Z"
   },
   {
    "duration": 5,
    "start_time": "2024-08-03T13:47:38.886Z"
   },
   {
    "duration": 6,
    "start_time": "2024-08-03T13:47:39.093Z"
   },
   {
    "duration": 5,
    "start_time": "2024-08-03T13:47:39.261Z"
   },
   {
    "duration": 6,
    "start_time": "2024-08-03T13:47:39.435Z"
   },
   {
    "duration": 5,
    "start_time": "2024-08-03T13:47:39.589Z"
   },
   {
    "duration": 4,
    "start_time": "2024-08-03T13:47:39.764Z"
   },
   {
    "duration": 5,
    "start_time": "2024-08-03T13:47:40.273Z"
   },
   {
    "duration": 12,
    "start_time": "2024-08-03T13:47:40.499Z"
   },
   {
    "duration": 12,
    "start_time": "2024-08-03T13:47:41.789Z"
   },
   {
    "duration": 17,
    "start_time": "2024-08-03T13:47:42.131Z"
   },
   {
    "duration": 13,
    "start_time": "2024-08-03T13:47:43.627Z"
   },
   {
    "duration": 33,
    "start_time": "2024-08-03T13:47:44.183Z"
   },
   {
    "duration": 20,
    "start_time": "2024-08-03T13:47:45.231Z"
   },
   {
    "duration": 9,
    "start_time": "2024-08-03T13:48:00.863Z"
   },
   {
    "duration": 172,
    "start_time": "2024-08-03T13:48:02.193Z"
   },
   {
    "duration": 6,
    "start_time": "2024-08-03T13:48:06.564Z"
   },
   {
    "duration": 167,
    "start_time": "2024-08-03T13:48:06.604Z"
   },
   {
    "duration": 11,
    "start_time": "2024-08-03T13:53:39.768Z"
   },
   {
    "duration": 121,
    "start_time": "2024-08-03T13:53:54.921Z"
   },
   {
    "duration": 26,
    "start_time": "2024-08-03T13:54:07.071Z"
   },
   {
    "duration": 10,
    "start_time": "2024-08-03T13:54:14.054Z"
   },
   {
    "duration": 1967,
    "start_time": "2024-08-03T13:56:11.932Z"
   },
   {
    "duration": 11,
    "start_time": "2024-08-03T14:01:06.674Z"
   },
   {
    "duration": 3,
    "start_time": "2024-08-03T14:02:12.149Z"
   },
   {
    "duration": 3,
    "start_time": "2024-08-03T14:05:12.160Z"
   },
   {
    "duration": 16,
    "start_time": "2024-08-03T14:05:18.700Z"
   },
   {
    "duration": 3,
    "start_time": "2024-08-03T14:05:53.316Z"
   },
   {
    "duration": 5,
    "start_time": "2024-08-03T14:05:57.219Z"
   },
   {
    "duration": 34,
    "start_time": "2024-08-03T14:06:13.916Z"
   },
   {
    "duration": 727,
    "start_time": "2024-08-03T14:10:43.482Z"
   },
   {
    "duration": 4,
    "start_time": "2024-08-03T14:11:58.402Z"
   },
   {
    "duration": 68,
    "start_time": "2024-08-03T14:12:16.715Z"
   },
   {
    "duration": 4,
    "start_time": "2024-08-03T14:12:47.602Z"
   },
   {
    "duration": 61,
    "start_time": "2024-08-03T14:12:57.152Z"
   },
   {
    "duration": 25,
    "start_time": "2024-08-03T14:12:58.373Z"
   },
   {
    "duration": 1509,
    "start_time": "2024-08-03T14:13:33.595Z"
   },
   {
    "duration": 44,
    "start_time": "2024-08-03T14:13:35.106Z"
   },
   {
    "duration": 25,
    "start_time": "2024-08-03T14:13:35.151Z"
   },
   {
    "duration": 24,
    "start_time": "2024-08-03T14:13:35.178Z"
   },
   {
    "duration": 19,
    "start_time": "2024-08-03T14:13:35.204Z"
   },
   {
    "duration": 16,
    "start_time": "2024-08-03T14:13:35.224Z"
   },
   {
    "duration": 17,
    "start_time": "2024-08-03T14:13:35.241Z"
   },
   {
    "duration": 27,
    "start_time": "2024-08-03T14:13:35.261Z"
   },
   {
    "duration": 16,
    "start_time": "2024-08-03T14:13:35.290Z"
   },
   {
    "duration": 10,
    "start_time": "2024-08-03T14:13:35.438Z"
   },
   {
    "duration": 183,
    "start_time": "2024-08-03T14:13:35.635Z"
   },
   {
    "duration": 9,
    "start_time": "2024-08-03T14:13:35.962Z"
   },
   {
    "duration": 13,
    "start_time": "2024-08-03T14:13:36.159Z"
   },
   {
    "duration": 11,
    "start_time": "2024-08-03T14:13:36.310Z"
   },
   {
    "duration": 8,
    "start_time": "2024-08-03T14:13:36.506Z"
   },
   {
    "duration": 124,
    "start_time": "2024-08-03T14:13:36.698Z"
   },
   {
    "duration": 10,
    "start_time": "2024-08-03T14:13:37.011Z"
   },
   {
    "duration": 12,
    "start_time": "2024-08-03T14:13:37.216Z"
   },
   {
    "duration": 30,
    "start_time": "2024-08-03T14:13:37.376Z"
   },
   {
    "duration": 9,
    "start_time": "2024-08-03T14:13:37.632Z"
   },
   {
    "duration": 7,
    "start_time": "2024-08-03T14:13:37.921Z"
   },
   {
    "duration": 11,
    "start_time": "2024-08-03T14:13:38.255Z"
   },
   {
    "duration": 17,
    "start_time": "2024-08-03T14:13:38.343Z"
   },
   {
    "duration": 6,
    "start_time": "2024-08-03T14:13:38.603Z"
   },
   {
    "duration": 91,
    "start_time": "2024-08-03T14:13:39.108Z"
   },
   {
    "duration": 17,
    "start_time": "2024-08-03T14:13:39.304Z"
   },
   {
    "duration": 17,
    "start_time": "2024-08-03T14:13:39.468Z"
   },
   {
    "duration": 17,
    "start_time": "2024-08-03T14:13:39.661Z"
   },
   {
    "duration": 12,
    "start_time": "2024-08-03T14:13:40.353Z"
   },
   {
    "duration": 15,
    "start_time": "2024-08-03T14:13:40.398Z"
   },
   {
    "duration": 96,
    "start_time": "2024-08-03T14:13:40.534Z"
   },
   {
    "duration": 13,
    "start_time": "2024-08-03T14:13:40.680Z"
   },
   {
    "duration": 4,
    "start_time": "2024-08-03T14:13:40.731Z"
   },
   {
    "duration": 22,
    "start_time": "2024-08-03T14:13:41.809Z"
   },
   {
    "duration": 20,
    "start_time": "2024-08-03T14:13:42.021Z"
   },
   {
    "duration": 13,
    "start_time": "2024-08-03T14:13:42.254Z"
   },
   {
    "duration": 12,
    "start_time": "2024-08-03T14:13:43.435Z"
   },
   {
    "duration": 158,
    "start_time": "2024-08-03T14:13:43.585Z"
   },
   {
    "duration": 5,
    "start_time": "2024-08-03T14:13:43.955Z"
   },
   {
    "duration": 6,
    "start_time": "2024-08-03T14:13:44.171Z"
   },
   {
    "duration": 161,
    "start_time": "2024-08-03T14:13:44.925Z"
   },
   {
    "duration": 23,
    "start_time": "2024-08-03T14:13:45.309Z"
   },
   {
    "duration": 5,
    "start_time": "2024-08-03T14:13:46.338Z"
   },
   {
    "duration": 5,
    "start_time": "2024-08-03T14:13:46.782Z"
   },
   {
    "duration": 5,
    "start_time": "2024-08-03T14:13:46.941Z"
   },
   {
    "duration": 5,
    "start_time": "2024-08-03T14:13:47.107Z"
   },
   {
    "duration": 5,
    "start_time": "2024-08-03T14:13:47.245Z"
   },
   {
    "duration": 5,
    "start_time": "2024-08-03T14:13:47.411Z"
   },
   {
    "duration": 5,
    "start_time": "2024-08-03T14:13:48.133Z"
   },
   {
    "duration": 15,
    "start_time": "2024-08-03T14:13:48.289Z"
   },
   {
    "duration": 12,
    "start_time": "2024-08-03T14:13:49.030Z"
   },
   {
    "duration": 15,
    "start_time": "2024-08-03T14:13:49.643Z"
   },
   {
    "duration": 8,
    "start_time": "2024-08-03T14:13:50.704Z"
   },
   {
    "duration": 27,
    "start_time": "2024-08-03T14:13:50.938Z"
   },
   {
    "duration": 6,
    "start_time": "2024-08-03T14:13:51.705Z"
   },
   {
    "duration": 3,
    "start_time": "2024-08-03T14:13:52.506Z"
   },
   {
    "duration": 5,
    "start_time": "2024-08-03T14:13:53.155Z"
   },
   {
    "duration": 68,
    "start_time": "2024-08-03T14:13:53.672Z"
   },
   {
    "duration": 6,
    "start_time": "2024-08-03T14:14:35.663Z"
   },
   {
    "duration": 82,
    "start_time": "2024-08-03T14:15:38.804Z"
   },
   {
    "duration": 3,
    "start_time": "2024-08-03T14:15:44.481Z"
   },
   {
    "duration": 117,
    "start_time": "2024-08-03T14:15:51.356Z"
   },
   {
    "duration": 12,
    "start_time": "2024-08-03T14:17:28.102Z"
   },
   {
    "duration": 82,
    "start_time": "2024-08-03T14:17:34.830Z"
   },
   {
    "duration": 10,
    "start_time": "2024-08-03T14:17:44.269Z"
   },
   {
    "duration": 14,
    "start_time": "2024-08-03T14:18:45.893Z"
   },
   {
    "duration": 1491,
    "start_time": "2024-08-03T14:19:21.216Z"
   },
   {
    "duration": 43,
    "start_time": "2024-08-03T14:19:22.709Z"
   },
   {
    "duration": 23,
    "start_time": "2024-08-03T14:19:22.753Z"
   },
   {
    "duration": 24,
    "start_time": "2024-08-03T14:19:22.778Z"
   },
   {
    "duration": 19,
    "start_time": "2024-08-03T14:19:22.804Z"
   },
   {
    "duration": 15,
    "start_time": "2024-08-03T14:19:22.825Z"
   },
   {
    "duration": 14,
    "start_time": "2024-08-03T14:19:22.842Z"
   },
   {
    "duration": 35,
    "start_time": "2024-08-03T14:19:22.858Z"
   },
   {
    "duration": 13,
    "start_time": "2024-08-03T14:19:23.083Z"
   },
   {
    "duration": 11,
    "start_time": "2024-08-03T14:19:23.336Z"
   },
   {
    "duration": 179,
    "start_time": "2024-08-03T14:19:23.530Z"
   },
   {
    "duration": 9,
    "start_time": "2024-08-03T14:19:23.826Z"
   },
   {
    "duration": 12,
    "start_time": "2024-08-03T14:19:24.032Z"
   },
   {
    "duration": 13,
    "start_time": "2024-08-03T14:19:24.177Z"
   },
   {
    "duration": 9,
    "start_time": "2024-08-03T14:19:24.426Z"
   },
   {
    "duration": 137,
    "start_time": "2024-08-03T14:19:24.826Z"
   },
   {
    "duration": 10,
    "start_time": "2024-08-03T14:19:25.195Z"
   },
   {
    "duration": 12,
    "start_time": "2024-08-03T14:19:25.428Z"
   },
   {
    "duration": 30,
    "start_time": "2024-08-03T14:19:25.609Z"
   },
   {
    "duration": 9,
    "start_time": "2024-08-03T14:19:25.780Z"
   },
   {
    "duration": 9,
    "start_time": "2024-08-03T14:19:26.221Z"
   },
   {
    "duration": 11,
    "start_time": "2024-08-03T14:19:26.404Z"
   },
   {
    "duration": 21,
    "start_time": "2024-08-03T14:19:26.612Z"
   },
   {
    "duration": 7,
    "start_time": "2024-08-03T14:19:26.863Z"
   },
   {
    "duration": 88,
    "start_time": "2024-08-03T14:19:27.510Z"
   },
   {
    "duration": 18,
    "start_time": "2024-08-03T14:19:27.709Z"
   },
   {
    "duration": 17,
    "start_time": "2024-08-03T14:19:27.895Z"
   },
   {
    "duration": 19,
    "start_time": "2024-08-03T14:19:28.121Z"
   },
   {
    "duration": 13,
    "start_time": "2024-08-03T14:19:29.408Z"
   },
   {
    "duration": 15,
    "start_time": "2024-08-03T14:19:29.610Z"
   },
   {
    "duration": 99,
    "start_time": "2024-08-03T14:19:29.789Z"
   },
   {
    "duration": 15,
    "start_time": "2024-08-03T14:19:29.974Z"
   },
   {
    "duration": 3,
    "start_time": "2024-08-03T14:19:30.188Z"
   },
   {
    "duration": 19,
    "start_time": "2024-08-03T14:19:30.380Z"
   },
   {
    "duration": 21,
    "start_time": "2024-08-03T14:19:30.576Z"
   },
   {
    "duration": 14,
    "start_time": "2024-08-03T14:19:30.804Z"
   },
   {
    "duration": 13,
    "start_time": "2024-08-03T14:19:31.401Z"
   },
   {
    "duration": 162,
    "start_time": "2024-08-03T14:19:34.797Z"
   },
   {
    "duration": 5,
    "start_time": "2024-08-03T14:19:34.989Z"
   },
   {
    "duration": 5,
    "start_time": "2024-08-03T14:19:40.948Z"
   },
   {
    "duration": 1502,
    "start_time": "2024-08-03T14:20:19.783Z"
   },
   {
    "duration": 43,
    "start_time": "2024-08-03T14:20:21.287Z"
   },
   {
    "duration": 22,
    "start_time": "2024-08-03T14:20:21.332Z"
   },
   {
    "duration": 24,
    "start_time": "2024-08-03T14:20:21.356Z"
   },
   {
    "duration": 19,
    "start_time": "2024-08-03T14:20:21.381Z"
   },
   {
    "duration": 14,
    "start_time": "2024-08-03T14:20:21.402Z"
   },
   {
    "duration": 14,
    "start_time": "2024-08-03T14:20:21.418Z"
   },
   {
    "duration": 15,
    "start_time": "2024-08-03T14:20:21.433Z"
   },
   {
    "duration": 14,
    "start_time": "2024-08-03T14:20:21.449Z"
   },
   {
    "duration": 10,
    "start_time": "2024-08-03T14:20:21.623Z"
   },
   {
    "duration": 188,
    "start_time": "2024-08-03T14:20:21.801Z"
   },
   {
    "duration": 9,
    "start_time": "2024-08-03T14:20:22.136Z"
   },
   {
    "duration": 12,
    "start_time": "2024-08-03T14:20:22.840Z"
   },
   {
    "duration": 11,
    "start_time": "2024-08-03T14:20:22.854Z"
   },
   {
    "duration": 12,
    "start_time": "2024-08-03T14:20:22.866Z"
   },
   {
    "duration": 129,
    "start_time": "2024-08-03T14:20:23.015Z"
   },
   {
    "duration": 11,
    "start_time": "2024-08-03T14:20:23.389Z"
   },
   {
    "duration": 12,
    "start_time": "2024-08-03T14:20:23.603Z"
   },
   {
    "duration": 31,
    "start_time": "2024-08-03T14:20:23.798Z"
   },
   {
    "duration": 11,
    "start_time": "2024-08-03T14:20:24.008Z"
   },
   {
    "duration": 7,
    "start_time": "2024-08-03T14:20:24.330Z"
   },
   {
    "duration": 10,
    "start_time": "2024-08-03T14:20:24.536Z"
   },
   {
    "duration": 16,
    "start_time": "2024-08-03T14:20:24.729Z"
   },
   {
    "duration": 7,
    "start_time": "2024-08-03T14:20:24.908Z"
   },
   {
    "duration": 86,
    "start_time": "2024-08-03T14:20:25.423Z"
   },
   {
    "duration": 22,
    "start_time": "2024-08-03T14:20:25.585Z"
   },
   {
    "duration": 18,
    "start_time": "2024-08-03T14:20:25.815Z"
   },
   {
    "duration": 14,
    "start_time": "2024-08-03T14:20:26.071Z"
   },
   {
    "duration": 13,
    "start_time": "2024-08-03T14:20:26.776Z"
   },
   {
    "duration": 16,
    "start_time": "2024-08-03T14:20:26.938Z"
   },
   {
    "duration": 84,
    "start_time": "2024-08-03T14:20:27.098Z"
   },
   {
    "duration": 11,
    "start_time": "2024-08-03T14:20:27.258Z"
   },
   {
    "duration": 3,
    "start_time": "2024-08-03T14:20:27.418Z"
   },
   {
    "duration": 21,
    "start_time": "2024-08-03T14:20:27.580Z"
   },
   {
    "duration": 21,
    "start_time": "2024-08-03T14:20:27.778Z"
   },
   {
    "duration": 14,
    "start_time": "2024-08-03T14:20:27.977Z"
   },
   {
    "duration": 13,
    "start_time": "2024-08-03T14:20:28.235Z"
   },
   {
    "duration": 160,
    "start_time": "2024-08-03T14:20:28.428Z"
   },
   {
    "duration": 5,
    "start_time": "2024-08-03T14:20:28.599Z"
   },
   {
    "duration": 6,
    "start_time": "2024-08-03T14:20:28.902Z"
   },
   {
    "duration": 177,
    "start_time": "2024-08-03T14:20:29.081Z"
   },
   {
    "duration": 38,
    "start_time": "2024-08-03T14:20:29.341Z"
   },
   {
    "duration": 5,
    "start_time": "2024-08-03T14:20:29.706Z"
   },
   {
    "duration": 6,
    "start_time": "2024-08-03T14:20:29.837Z"
   },
   {
    "duration": 6,
    "start_time": "2024-08-03T14:20:29.988Z"
   },
   {
    "duration": 5,
    "start_time": "2024-08-03T14:20:30.107Z"
   },
   {
    "duration": 5,
    "start_time": "2024-08-03T14:20:30.250Z"
   },
   {
    "duration": 5,
    "start_time": "2024-08-03T14:20:30.341Z"
   },
   {
    "duration": 5,
    "start_time": "2024-08-03T14:20:30.514Z"
   },
   {
    "duration": 19,
    "start_time": "2024-08-03T14:20:30.618Z"
   },
   {
    "duration": 17,
    "start_time": "2024-08-03T14:20:30.944Z"
   },
   {
    "duration": 59,
    "start_time": "2024-08-03T14:20:31.106Z"
   },
   {
    "duration": 8,
    "start_time": "2024-08-03T14:20:31.391Z"
   },
   {
    "duration": 25,
    "start_time": "2024-08-03T14:20:31.561Z"
   },
   {
    "duration": 6,
    "start_time": "2024-08-03T14:20:31.769Z"
   },
   {
    "duration": 3,
    "start_time": "2024-08-03T14:20:31.869Z"
   },
   {
    "duration": 5,
    "start_time": "2024-08-03T14:20:32.033Z"
   },
   {
    "duration": 6,
    "start_time": "2024-08-03T14:20:32.203Z"
   },
   {
    "duration": 138,
    "start_time": "2024-08-03T14:20:32.270Z"
   },
   {
    "duration": 29,
    "start_time": "2024-08-03T14:20:32.437Z"
   },
   {
    "duration": 19,
    "start_time": "2024-08-03T14:21:49.333Z"
   },
   {
    "duration": 76,
    "start_time": "2024-08-03T14:22:17.486Z"
   },
   {
    "duration": 83,
    "start_time": "2024-08-03T14:22:23.777Z"
   },
   {
    "duration": 16,
    "start_time": "2024-08-03T14:22:29.851Z"
   },
   {
    "duration": 11,
    "start_time": "2024-08-03T14:23:01.154Z"
   },
   {
    "duration": 11,
    "start_time": "2024-08-03T14:23:10.316Z"
   },
   {
    "duration": 12,
    "start_time": "2024-08-03T14:23:17.647Z"
   },
   {
    "duration": 26,
    "start_time": "2024-08-03T14:23:20.560Z"
   },
   {
    "duration": 13,
    "start_time": "2024-08-03T14:23:39.137Z"
   },
   {
    "duration": 11,
    "start_time": "2024-08-03T14:23:48.241Z"
   },
   {
    "duration": 13,
    "start_time": "2024-08-03T14:24:57.106Z"
   },
   {
    "duration": 16,
    "start_time": "2024-08-03T14:27:35.151Z"
   },
   {
    "duration": 14,
    "start_time": "2024-08-03T14:28:02.822Z"
   },
   {
    "duration": 5,
    "start_time": "2024-08-03T14:30:01.700Z"
   },
   {
    "duration": 29,
    "start_time": "2024-08-03T14:30:03.206Z"
   },
   {
    "duration": 6,
    "start_time": "2024-08-03T14:31:29.200Z"
   },
   {
    "duration": 27,
    "start_time": "2024-08-03T14:31:31.585Z"
   },
   {
    "duration": 5,
    "start_time": "2024-08-03T14:32:14.576Z"
   },
   {
    "duration": 27,
    "start_time": "2024-08-03T14:32:15.397Z"
   },
   {
    "duration": 1505,
    "start_time": "2024-08-03T14:34:02.588Z"
   },
   {
    "duration": 44,
    "start_time": "2024-08-03T14:34:04.095Z"
   },
   {
    "duration": 23,
    "start_time": "2024-08-03T14:34:04.141Z"
   },
   {
    "duration": 24,
    "start_time": "2024-08-03T14:34:04.166Z"
   },
   {
    "duration": 19,
    "start_time": "2024-08-03T14:34:04.192Z"
   },
   {
    "duration": 14,
    "start_time": "2024-08-03T14:34:04.212Z"
   },
   {
    "duration": 15,
    "start_time": "2024-08-03T14:34:04.228Z"
   },
   {
    "duration": 11,
    "start_time": "2024-08-03T14:34:04.245Z"
   },
   {
    "duration": 32,
    "start_time": "2024-08-03T14:34:04.258Z"
   },
   {
    "duration": 10,
    "start_time": "2024-08-03T14:34:04.340Z"
   },
   {
    "duration": 192,
    "start_time": "2024-08-03T14:34:04.520Z"
   },
   {
    "duration": 9,
    "start_time": "2024-08-03T14:34:04.765Z"
   },
   {
    "duration": 11,
    "start_time": "2024-08-03T14:34:05.044Z"
   },
   {
    "duration": 12,
    "start_time": "2024-08-03T14:34:05.240Z"
   },
   {
    "duration": 9,
    "start_time": "2024-08-03T14:34:05.383Z"
   },
   {
    "duration": 123,
    "start_time": "2024-08-03T14:34:06.635Z"
   },
   {
    "duration": 11,
    "start_time": "2024-08-03T14:34:07.141Z"
   },
   {
    "duration": 13,
    "start_time": "2024-08-03T14:34:07.485Z"
   },
   {
    "duration": 44,
    "start_time": "2024-08-03T14:34:07.666Z"
   },
   {
    "duration": 9,
    "start_time": "2024-08-03T14:34:07.861Z"
   },
   {
    "duration": 7,
    "start_time": "2024-08-03T14:34:08.106Z"
   },
   {
    "duration": 10,
    "start_time": "2024-08-03T14:34:08.503Z"
   },
   {
    "duration": 16,
    "start_time": "2024-08-03T14:34:08.947Z"
   },
   {
    "duration": 7,
    "start_time": "2024-08-03T14:34:09.151Z"
   },
   {
    "duration": 105,
    "start_time": "2024-08-03T14:34:09.704Z"
   },
   {
    "duration": 18,
    "start_time": "2024-08-03T14:34:09.908Z"
   },
   {
    "duration": 15,
    "start_time": "2024-08-03T14:34:10.181Z"
   },
   {
    "duration": 15,
    "start_time": "2024-08-03T14:34:10.390Z"
   },
   {
    "duration": 11,
    "start_time": "2024-08-03T14:34:11.577Z"
   },
   {
    "duration": 17,
    "start_time": "2024-08-03T14:34:11.741Z"
   },
   {
    "duration": 83,
    "start_time": "2024-08-03T14:34:11.915Z"
   },
   {
    "duration": 10,
    "start_time": "2024-08-03T14:34:12.090Z"
   },
   {
    "duration": 4,
    "start_time": "2024-08-03T14:34:12.284Z"
   },
   {
    "duration": 17,
    "start_time": "2024-08-03T14:34:12.456Z"
   },
   {
    "duration": 20,
    "start_time": "2024-08-03T14:34:12.753Z"
   },
   {
    "duration": 14,
    "start_time": "2024-08-03T14:34:12.983Z"
   },
   {
    "duration": 13,
    "start_time": "2024-08-03T14:34:13.446Z"
   },
   {
    "duration": 159,
    "start_time": "2024-08-03T14:34:13.611Z"
   },
   {
    "duration": 4,
    "start_time": "2024-08-03T14:34:13.796Z"
   },
   {
    "duration": 6,
    "start_time": "2024-08-03T14:34:14.282Z"
   },
   {
    "duration": 165,
    "start_time": "2024-08-03T14:34:14.548Z"
   },
   {
    "duration": 27,
    "start_time": "2024-08-03T14:34:14.926Z"
   },
   {
    "duration": 5,
    "start_time": "2024-08-03T14:34:15.464Z"
   },
   {
    "duration": 5,
    "start_time": "2024-08-03T14:34:15.847Z"
   },
   {
    "duration": 5,
    "start_time": "2024-08-03T14:34:16.030Z"
   },
   {
    "duration": 6,
    "start_time": "2024-08-03T14:34:16.169Z"
   },
   {
    "duration": 5,
    "start_time": "2024-08-03T14:34:16.308Z"
   },
   {
    "duration": 5,
    "start_time": "2024-08-03T14:34:16.500Z"
   },
   {
    "duration": 5,
    "start_time": "2024-08-03T14:34:16.797Z"
   },
   {
    "duration": 12,
    "start_time": "2024-08-03T14:34:17.076Z"
   },
   {
    "duration": 11,
    "start_time": "2024-08-03T14:34:17.848Z"
   },
   {
    "duration": 15,
    "start_time": "2024-08-03T14:34:18.081Z"
   },
   {
    "duration": 9,
    "start_time": "2024-08-03T14:34:19.048Z"
   },
   {
    "duration": 25,
    "start_time": "2024-08-03T14:34:19.431Z"
   },
   {
    "duration": 5,
    "start_time": "2024-08-03T14:34:19.797Z"
   },
   {
    "duration": 4,
    "start_time": "2024-08-03T14:34:20.543Z"
   },
   {
    "duration": 5,
    "start_time": "2024-08-03T14:34:21.201Z"
   },
   {
    "duration": 6,
    "start_time": "2024-08-03T14:34:21.845Z"
   },
   {
    "duration": 4,
    "start_time": "2024-08-03T14:34:22.813Z"
   },
   {
    "duration": 28,
    "start_time": "2024-08-03T14:34:23.447Z"
   },
   {
    "duration": 5,
    "start_time": "2024-08-03T14:34:25.365Z"
   },
   {
    "duration": 27,
    "start_time": "2024-08-03T14:34:27.368Z"
   },
   {
    "duration": 6,
    "start_time": "2024-08-03T14:42:36.316Z"
   },
   {
    "duration": 117,
    "start_time": "2024-08-03T14:44:31.703Z"
   },
   {
    "duration": 8,
    "start_time": "2024-08-03T14:44:51.187Z"
   },
   {
    "duration": 20,
    "start_time": "2024-08-03T14:45:03.397Z"
   },
   {
    "duration": 1705,
    "start_time": "2024-08-04T07:06:58.491Z"
   },
   {
    "duration": 160,
    "start_time": "2024-08-04T07:07:00.198Z"
   },
   {
    "duration": 123,
    "start_time": "2024-08-04T07:07:00.360Z"
   },
   {
    "duration": 98,
    "start_time": "2024-08-04T07:07:00.497Z"
   },
   {
    "duration": 70,
    "start_time": "2024-08-04T07:07:00.812Z"
   },
   {
    "duration": 16,
    "start_time": "2024-08-04T07:07:01.438Z"
   },
   {
    "duration": 15,
    "start_time": "2024-08-04T07:07:01.794Z"
   },
   {
    "duration": 99,
    "start_time": "2024-08-04T07:07:01.837Z"
   },
   {
    "duration": 18,
    "start_time": "2024-08-04T07:07:02.318Z"
   },
   {
    "duration": 10,
    "start_time": "2024-08-04T07:07:03.086Z"
   },
   {
    "duration": 208,
    "start_time": "2024-08-04T07:07:03.891Z"
   },
   {
    "duration": 9,
    "start_time": "2024-08-04T07:07:04.460Z"
   },
   {
    "duration": 12,
    "start_time": "2024-08-04T07:07:04.703Z"
   },
   {
    "duration": 11,
    "start_time": "2024-08-04T07:07:04.940Z"
   },
   {
    "duration": 8,
    "start_time": "2024-08-04T07:07:05.067Z"
   },
   {
    "duration": 129,
    "start_time": "2024-08-04T07:07:05.557Z"
   },
   {
    "duration": 10,
    "start_time": "2024-08-04T07:07:06.512Z"
   },
   {
    "duration": 12,
    "start_time": "2024-08-04T07:07:06.641Z"
   },
   {
    "duration": 30,
    "start_time": "2024-08-04T07:07:06.845Z"
   },
   {
    "duration": 8,
    "start_time": "2024-08-04T07:07:07.035Z"
   },
   {
    "duration": 9,
    "start_time": "2024-08-04T07:07:07.563Z"
   },
   {
    "duration": 14,
    "start_time": "2024-08-04T07:07:07.657Z"
   },
   {
    "duration": 17,
    "start_time": "2024-08-04T07:07:07.831Z"
   },
   {
    "duration": 7,
    "start_time": "2024-08-04T07:07:07.974Z"
   },
   {
    "duration": 89,
    "start_time": "2024-08-04T07:07:09.215Z"
   },
   {
    "duration": 17,
    "start_time": "2024-08-04T07:07:09.432Z"
   },
   {
    "duration": 16,
    "start_time": "2024-08-04T07:07:09.657Z"
   },
   {
    "duration": 15,
    "start_time": "2024-08-04T07:07:09.772Z"
   },
   {
    "duration": 11,
    "start_time": "2024-08-04T07:07:11.319Z"
   },
   {
    "duration": 16,
    "start_time": "2024-08-04T07:07:12.280Z"
   },
   {
    "duration": 77,
    "start_time": "2024-08-04T07:07:12.385Z"
   },
   {
    "duration": 11,
    "start_time": "2024-08-04T07:07:12.803Z"
   },
   {
    "duration": 3,
    "start_time": "2024-08-04T07:07:12.874Z"
   },
   {
    "duration": 18,
    "start_time": "2024-08-04T07:07:13.137Z"
   },
   {
    "duration": 19,
    "start_time": "2024-08-04T07:07:13.357Z"
   },
   {
    "duration": 13,
    "start_time": "2024-08-04T07:07:13.572Z"
   },
   {
    "duration": 13,
    "start_time": "2024-08-04T07:07:14.901Z"
   },
   {
    "duration": 174,
    "start_time": "2024-08-04T07:07:16.077Z"
   },
   {
    "duration": 5,
    "start_time": "2024-08-04T07:07:16.536Z"
   },
   {
    "duration": 8,
    "start_time": "2024-08-04T07:07:16.870Z"
   },
   {
    "duration": 159,
    "start_time": "2024-08-04T07:07:17.353Z"
   },
   {
    "duration": 27,
    "start_time": "2024-08-04T07:07:17.864Z"
   },
   {
    "duration": 5,
    "start_time": "2024-08-04T07:07:18.737Z"
   },
   {
    "duration": 6,
    "start_time": "2024-08-04T07:07:19.015Z"
   },
   {
    "duration": 5,
    "start_time": "2024-08-04T07:07:19.354Z"
   },
   {
    "duration": 6,
    "start_time": "2024-08-04T07:07:19.591Z"
   },
   {
    "duration": 6,
    "start_time": "2024-08-04T07:07:19.791Z"
   },
   {
    "duration": 5,
    "start_time": "2024-08-04T07:07:20.014Z"
   },
   {
    "duration": 5,
    "start_time": "2024-08-04T07:07:20.794Z"
   },
   {
    "duration": 13,
    "start_time": "2024-08-04T07:07:20.990Z"
   },
   {
    "duration": 15,
    "start_time": "2024-08-04T07:07:21.433Z"
   },
   {
    "duration": 22,
    "start_time": "2024-08-04T07:07:21.610Z"
   },
   {
    "duration": 12,
    "start_time": "2024-08-04T07:07:22.180Z"
   },
   {
    "duration": 24,
    "start_time": "2024-08-04T07:07:22.639Z"
   },
   {
    "duration": 6,
    "start_time": "2024-08-04T07:07:23.016Z"
   },
   {
    "duration": 3,
    "start_time": "2024-08-04T07:07:23.449Z"
   },
   {
    "duration": 5,
    "start_time": "2024-08-04T07:07:23.854Z"
   },
   {
    "duration": 5,
    "start_time": "2024-08-04T07:07:24.486Z"
   },
   {
    "duration": 4,
    "start_time": "2024-08-04T07:07:24.804Z"
   },
   {
    "duration": 5,
    "start_time": "2024-08-04T07:07:25.337Z"
   },
   {
    "duration": 37,
    "start_time": "2024-08-04T07:07:25.924Z"
   },
   {
    "duration": 7,
    "start_time": "2024-08-04T07:07:26.170Z"
   },
   {
    "duration": 14,
    "start_time": "2024-08-04T07:17:09.191Z"
   },
   {
    "duration": 8,
    "start_time": "2024-08-04T07:31:08.262Z"
   },
   {
    "duration": 16,
    "start_time": "2024-08-04T07:31:34.871Z"
   },
   {
    "duration": 6,
    "start_time": "2024-08-04T07:34:05.077Z"
   },
   {
    "duration": 3,
    "start_time": "2024-08-04T07:35:08.475Z"
   },
   {
    "duration": 280,
    "start_time": "2024-08-04T07:37:02.260Z"
   },
   {
    "duration": 4,
    "start_time": "2024-08-04T07:41:25.130Z"
   },
   {
    "duration": 20,
    "start_time": "2024-08-04T07:41:27.566Z"
   },
   {
    "duration": 5,
    "start_time": "2024-08-04T07:42:11.189Z"
   },
   {
    "duration": 21,
    "start_time": "2024-08-04T07:42:12.179Z"
   },
   {
    "duration": 1493,
    "start_time": "2024-08-04T07:44:11.839Z"
   },
   {
    "duration": 41,
    "start_time": "2024-08-04T07:44:13.335Z"
   },
   {
    "duration": 22,
    "start_time": "2024-08-04T07:44:13.378Z"
   },
   {
    "duration": 22,
    "start_time": "2024-08-04T07:44:13.402Z"
   },
   {
    "duration": 18,
    "start_time": "2024-08-04T07:44:13.427Z"
   },
   {
    "duration": 16,
    "start_time": "2024-08-04T07:44:13.762Z"
   },
   {
    "duration": 17,
    "start_time": "2024-08-04T07:44:13.967Z"
   },
   {
    "duration": 11,
    "start_time": "2024-08-04T07:44:14.132Z"
   },
   {
    "duration": 13,
    "start_time": "2024-08-04T07:44:14.426Z"
   },
   {
    "duration": 14,
    "start_time": "2024-08-04T07:44:14.699Z"
   },
   {
    "duration": 199,
    "start_time": "2024-08-04T07:44:14.859Z"
   },
   {
    "duration": 9,
    "start_time": "2024-08-04T07:44:15.280Z"
   },
   {
    "duration": 13,
    "start_time": "2024-08-04T07:44:15.551Z"
   },
   {
    "duration": 12,
    "start_time": "2024-08-04T07:44:15.647Z"
   },
   {
    "duration": 10,
    "start_time": "2024-08-04T07:44:15.852Z"
   },
   {
    "duration": 124,
    "start_time": "2024-08-04T07:44:16.042Z"
   },
   {
    "duration": 11,
    "start_time": "2024-08-04T07:44:16.477Z"
   },
   {
    "duration": 17,
    "start_time": "2024-08-04T07:44:16.743Z"
   },
   {
    "duration": 29,
    "start_time": "2024-08-04T07:44:16.913Z"
   },
   {
    "duration": 7,
    "start_time": "2024-08-04T07:44:17.109Z"
   },
   {
    "duration": 6,
    "start_time": "2024-08-04T07:44:17.571Z"
   },
   {
    "duration": 9,
    "start_time": "2024-08-04T07:44:17.775Z"
   },
   {
    "duration": 25,
    "start_time": "2024-08-04T07:44:17.957Z"
   },
   {
    "duration": 8,
    "start_time": "2024-08-04T07:44:18.195Z"
   },
   {
    "duration": 88,
    "start_time": "2024-08-04T07:44:38.807Z"
   },
   {
    "duration": 16,
    "start_time": "2024-08-04T07:44:38.997Z"
   },
   {
    "duration": 23,
    "start_time": "2024-08-04T07:44:39.243Z"
   },
   {
    "duration": 15,
    "start_time": "2024-08-04T07:44:39.444Z"
   },
   {
    "duration": 11,
    "start_time": "2024-08-04T07:44:40.258Z"
   },
   {
    "duration": 16,
    "start_time": "2024-08-04T07:44:40.423Z"
   },
   {
    "duration": 80,
    "start_time": "2024-08-04T07:44:40.595Z"
   },
   {
    "duration": 17,
    "start_time": "2024-08-04T07:44:40.761Z"
   },
   {
    "duration": 3,
    "start_time": "2024-08-04T07:44:40.933Z"
   },
   {
    "duration": 21,
    "start_time": "2024-08-04T07:44:41.100Z"
   },
   {
    "duration": 21,
    "start_time": "2024-08-04T07:44:41.208Z"
   },
   {
    "duration": 14,
    "start_time": "2024-08-04T07:44:41.488Z"
   },
   {
    "duration": 13,
    "start_time": "2024-08-04T07:44:41.990Z"
   },
   {
    "duration": 171,
    "start_time": "2024-08-04T07:44:42.181Z"
   },
   {
    "duration": 6,
    "start_time": "2024-08-04T07:44:42.354Z"
   },
   {
    "duration": 7,
    "start_time": "2024-08-04T07:44:42.513Z"
   },
   {
    "duration": 167,
    "start_time": "2024-08-04T07:44:42.710Z"
   },
   {
    "duration": 27,
    "start_time": "2024-08-04T07:44:42.977Z"
   },
   {
    "duration": 6,
    "start_time": "2024-08-04T07:44:43.379Z"
   },
   {
    "duration": 5,
    "start_time": "2024-08-04T07:44:43.552Z"
   },
   {
    "duration": 5,
    "start_time": "2024-08-04T07:44:43.756Z"
   },
   {
    "duration": 9,
    "start_time": "2024-08-04T07:44:43.922Z"
   },
   {
    "duration": 5,
    "start_time": "2024-08-04T07:44:44.085Z"
   },
   {
    "duration": 5,
    "start_time": "2024-08-04T07:44:44.252Z"
   },
   {
    "duration": 5,
    "start_time": "2024-08-04T07:44:44.422Z"
   },
   {
    "duration": 20,
    "start_time": "2024-08-04T07:44:44.584Z"
   },
   {
    "duration": 12,
    "start_time": "2024-08-04T07:44:44.879Z"
   },
   {
    "duration": 16,
    "start_time": "2024-08-04T07:44:45.049Z"
   },
   {
    "duration": 10,
    "start_time": "2024-08-04T07:44:45.470Z"
   },
   {
    "duration": 26,
    "start_time": "2024-08-04T07:44:45.631Z"
   },
   {
    "duration": 6,
    "start_time": "2024-08-04T07:44:45.965Z"
   },
   {
    "duration": 3,
    "start_time": "2024-08-04T07:44:46.136Z"
   },
   {
    "duration": 5,
    "start_time": "2024-08-04T07:44:46.298Z"
   },
   {
    "duration": 6,
    "start_time": "2024-08-04T07:44:46.463Z"
   },
   {
    "duration": 5,
    "start_time": "2024-08-04T07:44:46.625Z"
   },
   {
    "duration": 8,
    "start_time": "2024-08-04T07:44:46.917Z"
   },
   {
    "duration": 34,
    "start_time": "2024-08-04T07:44:47.015Z"
   },
   {
    "duration": 7,
    "start_time": "2024-08-04T07:44:47.225Z"
   },
   {
    "duration": 14,
    "start_time": "2024-08-04T07:44:47.589Z"
   },
   {
    "duration": 6,
    "start_time": "2024-08-04T07:44:47.792Z"
   },
   {
    "duration": 6,
    "start_time": "2024-08-04T07:44:47.961Z"
   },
   {
    "duration": 3,
    "start_time": "2024-08-04T07:44:48.066Z"
   },
   {
    "duration": 94,
    "start_time": "2024-08-04T07:44:48.425Z"
   },
   {
    "duration": 116,
    "start_time": "2024-08-04T07:44:48.631Z"
   },
   {
    "duration": 28,
    "start_time": "2024-08-04T07:54:11.715Z"
   },
   {
    "duration": 36,
    "start_time": "2024-08-04T07:56:04.830Z"
   },
   {
    "duration": 37,
    "start_time": "2024-08-04T07:56:42.626Z"
   },
   {
    "duration": 846,
    "start_time": "2024-08-04T07:57:32.490Z"
   },
   {
    "duration": 9,
    "start_time": "2024-08-04T07:59:21.555Z"
   },
   {
    "duration": 4,
    "start_time": "2024-08-04T07:59:35.637Z"
   },
   {
    "duration": 18123,
    "start_time": "2024-08-04T07:59:37.463Z"
   },
   {
    "duration": 1522,
    "start_time": "2024-08-04T08:09:13.077Z"
   },
   {
    "duration": 42,
    "start_time": "2024-08-04T08:09:14.601Z"
   },
   {
    "duration": 134,
    "start_time": "2024-08-04T08:09:14.645Z"
   },
   {
    "duration": 23,
    "start_time": "2024-08-04T08:09:14.781Z"
   },
   {
    "duration": 55,
    "start_time": "2024-08-04T08:09:14.806Z"
   },
   {
    "duration": 18,
    "start_time": "2024-08-04T08:09:16.048Z"
   },
   {
    "duration": 13,
    "start_time": "2024-08-04T08:09:16.282Z"
   },
   {
    "duration": 11,
    "start_time": "2024-08-04T08:09:16.455Z"
   },
   {
    "duration": 14,
    "start_time": "2024-08-04T08:09:16.764Z"
   },
   {
    "duration": 10,
    "start_time": "2024-08-04T08:09:17.029Z"
   },
   {
    "duration": 187,
    "start_time": "2024-08-04T08:09:17.190Z"
   },
   {
    "duration": 10,
    "start_time": "2024-08-04T08:09:17.624Z"
   },
   {
    "duration": 14,
    "start_time": "2024-08-04T08:09:17.893Z"
   },
   {
    "duration": 12,
    "start_time": "2024-08-04T08:09:18.059Z"
   },
   {
    "duration": 8,
    "start_time": "2024-08-04T08:09:18.260Z"
   },
   {
    "duration": 125,
    "start_time": "2024-08-04T08:09:18.464Z"
   },
   {
    "duration": 12,
    "start_time": "2024-08-04T08:09:18.925Z"
   },
   {
    "duration": 13,
    "start_time": "2024-08-04T08:09:19.199Z"
   },
   {
    "duration": 31,
    "start_time": "2024-08-04T08:09:19.361Z"
   },
   {
    "duration": 8,
    "start_time": "2024-08-04T08:09:19.635Z"
   },
   {
    "duration": 8,
    "start_time": "2024-08-04T08:09:20.052Z"
   },
   {
    "duration": 16,
    "start_time": "2024-08-04T08:09:20.318Z"
   },
   {
    "duration": 17,
    "start_time": "2024-08-04T08:09:20.531Z"
   },
   {
    "duration": 8,
    "start_time": "2024-08-04T08:09:20.912Z"
   },
   {
    "duration": 91,
    "start_time": "2024-08-04T08:09:21.529Z"
   },
   {
    "duration": 18,
    "start_time": "2024-08-04T08:09:21.635Z"
   },
   {
    "duration": 22,
    "start_time": "2024-08-04T08:09:21.842Z"
   },
   {
    "duration": 20,
    "start_time": "2024-08-04T08:09:22.131Z"
   },
   {
    "duration": 12,
    "start_time": "2024-08-04T08:09:22.839Z"
   },
   {
    "duration": 16,
    "start_time": "2024-08-04T08:09:22.936Z"
   },
   {
    "duration": 84,
    "start_time": "2024-08-04T08:09:23.138Z"
   },
   {
    "duration": 11,
    "start_time": "2024-08-04T08:09:23.232Z"
   },
   {
    "duration": 3,
    "start_time": "2024-08-04T08:09:23.408Z"
   },
   {
    "duration": 20,
    "start_time": "2024-08-04T08:09:23.570Z"
   },
   {
    "duration": 28,
    "start_time": "2024-08-04T08:09:23.711Z"
   },
   {
    "duration": 22,
    "start_time": "2024-08-04T08:09:23.834Z"
   },
   {
    "duration": 14,
    "start_time": "2024-08-04T08:09:24.087Z"
   },
   {
    "duration": 168,
    "start_time": "2024-08-04T08:09:25.237Z"
   },
   {
    "duration": 6,
    "start_time": "2024-08-04T08:09:25.407Z"
   },
   {
    "duration": 7,
    "start_time": "2024-08-04T08:09:25.525Z"
   },
   {
    "duration": 171,
    "start_time": "2024-08-04T08:09:25.706Z"
   },
   {
    "duration": 29,
    "start_time": "2024-08-04T08:09:26.020Z"
   },
   {
    "duration": 5,
    "start_time": "2024-08-04T08:09:26.417Z"
   },
   {
    "duration": 5,
    "start_time": "2024-08-04T08:09:26.595Z"
   },
   {
    "duration": 5,
    "start_time": "2024-08-04T08:09:26.764Z"
   },
   {
    "duration": 5,
    "start_time": "2024-08-04T08:09:26.925Z"
   },
   {
    "duration": 4,
    "start_time": "2024-08-04T08:09:27.083Z"
   },
   {
    "duration": 6,
    "start_time": "2024-08-04T08:09:27.222Z"
   },
   {
    "duration": 5,
    "start_time": "2024-08-04T08:09:27.410Z"
   },
   {
    "duration": 13,
    "start_time": "2024-08-04T08:09:27.585Z"
   },
   {
    "duration": 15,
    "start_time": "2024-08-04T08:09:27.935Z"
   },
   {
    "duration": 17,
    "start_time": "2024-08-04T08:09:28.104Z"
   },
   {
    "duration": 8,
    "start_time": "2024-08-04T08:09:29.038Z"
   },
   {
    "duration": 27,
    "start_time": "2024-08-04T08:09:29.265Z"
   },
   {
    "duration": 6,
    "start_time": "2024-08-04T08:09:30.687Z"
   },
   {
    "duration": 3,
    "start_time": "2024-08-04T08:09:31.208Z"
   },
   {
    "duration": 4,
    "start_time": "2024-08-04T08:09:31.546Z"
   },
   {
    "duration": 6,
    "start_time": "2024-08-04T08:09:31.788Z"
   },
   {
    "duration": 4,
    "start_time": "2024-08-04T08:09:32.287Z"
   },
   {
    "duration": 6,
    "start_time": "2024-08-04T08:09:32.636Z"
   },
   {
    "duration": 114,
    "start_time": "2024-08-04T08:09:32.819Z"
   },
   {
    "duration": 7,
    "start_time": "2024-08-04T08:09:33.044Z"
   },
   {
    "duration": 15,
    "start_time": "2024-08-04T08:09:33.977Z"
   },
   {
    "duration": 6,
    "start_time": "2024-08-04T08:09:34.342Z"
   },
   {
    "duration": 6,
    "start_time": "2024-08-04T08:09:34.551Z"
   },
   {
    "duration": 3,
    "start_time": "2024-08-04T08:09:34.905Z"
   },
   {
    "duration": 81,
    "start_time": "2024-08-04T08:09:35.274Z"
   },
   {
    "duration": 28,
    "start_time": "2024-08-04T08:09:35.598Z"
   },
   {
    "duration": 987,
    "start_time": "2024-08-04T08:09:35.797Z"
   },
   {
    "duration": 4,
    "start_time": "2024-08-04T08:11:22.671Z"
   },
   {
    "duration": 21,
    "start_time": "2024-08-04T08:11:23.413Z"
   },
   {
    "duration": 19,
    "start_time": "2024-08-04T08:11:28.946Z"
   },
   {
    "duration": 1685,
    "start_time": "2024-08-04T08:12:00.413Z"
   },
   {
    "duration": 41,
    "start_time": "2024-08-04T08:12:02.100Z"
   },
   {
    "duration": 22,
    "start_time": "2024-08-04T08:12:02.143Z"
   },
   {
    "duration": 29,
    "start_time": "2024-08-04T08:12:02.167Z"
   },
   {
    "duration": 34,
    "start_time": "2024-08-04T08:12:02.198Z"
   },
   {
    "duration": 40,
    "start_time": "2024-08-04T08:12:02.234Z"
   },
   {
    "duration": 13,
    "start_time": "2024-08-04T08:12:03.507Z"
   },
   {
    "duration": 12,
    "start_time": "2024-08-04T08:12:03.570Z"
   },
   {
    "duration": 18,
    "start_time": "2024-08-04T08:12:03.767Z"
   },
   {
    "duration": 11,
    "start_time": "2024-08-04T08:12:05.470Z"
   },
   {
    "duration": 179,
    "start_time": "2024-08-04T08:12:05.525Z"
   },
   {
    "duration": 9,
    "start_time": "2024-08-04T08:12:06.914Z"
   },
   {
    "duration": 11,
    "start_time": "2024-08-04T08:12:08.580Z"
   },
   {
    "duration": 11,
    "start_time": "2024-08-04T08:12:09.516Z"
   },
   {
    "duration": 7,
    "start_time": "2024-08-04T08:12:11.322Z"
   },
   {
    "duration": 122,
    "start_time": "2024-08-04T08:12:11.331Z"
   },
   {
    "duration": 12,
    "start_time": "2024-08-04T08:12:11.847Z"
   },
   {
    "duration": 18,
    "start_time": "2024-08-04T08:12:13.174Z"
   },
   {
    "duration": 30,
    "start_time": "2024-08-04T08:12:13.229Z"
   },
   {
    "duration": 12,
    "start_time": "2024-08-04T08:12:14.914Z"
   },
   {
    "duration": 10,
    "start_time": "2024-08-04T08:12:15.154Z"
   },
   {
    "duration": 10,
    "start_time": "2024-08-04T08:12:15.991Z"
   },
   {
    "duration": 20,
    "start_time": "2024-08-04T08:12:16.846Z"
   },
   {
    "duration": 7,
    "start_time": "2024-08-04T08:12:18.450Z"
   },
   {
    "duration": 93,
    "start_time": "2024-08-04T08:12:23.616Z"
   },
   {
    "duration": 16,
    "start_time": "2024-08-04T08:12:24.391Z"
   },
   {
    "duration": 16,
    "start_time": "2024-08-04T08:12:26.049Z"
   },
   {
    "duration": 160,
    "start_time": "2024-08-04T08:12:37.474Z"
   },
   {
    "duration": 23,
    "start_time": "2024-08-04T08:12:37.890Z"
   },
   {
    "duration": 17,
    "start_time": "2024-08-04T08:12:39.598Z"
   },
   {
    "duration": 15,
    "start_time": "2024-08-04T08:12:41.300Z"
   },
   {
    "duration": 11,
    "start_time": "2024-08-04T08:12:43.136Z"
   },
   {
    "duration": 20,
    "start_time": "2024-08-04T08:12:43.273Z"
   },
   {
    "duration": 9,
    "start_time": "2024-08-04T08:12:43.446Z"
   },
   {
    "duration": 11,
    "start_time": "2024-08-04T08:12:44.307Z"
   },
   {
    "duration": 4,
    "start_time": "2024-08-04T08:12:44.842Z"
   },
   {
    "duration": 17,
    "start_time": "2024-08-04T08:12:45.857Z"
   },
   {
    "duration": 21,
    "start_time": "2024-08-04T08:12:45.967Z"
   },
   {
    "duration": 14,
    "start_time": "2024-08-04T08:12:47.621Z"
   },
   {
    "duration": 11,
    "start_time": "2024-08-04T08:12:53.278Z"
   },
   {
    "duration": 165,
    "start_time": "2024-08-04T08:12:54.129Z"
   },
   {
    "duration": 5,
    "start_time": "2024-08-04T08:12:55.106Z"
   },
   {
    "duration": 7,
    "start_time": "2024-08-04T08:12:55.575Z"
   },
   {
    "duration": 169,
    "start_time": "2024-08-04T08:12:55.823Z"
   },
   {
    "duration": 27,
    "start_time": "2024-08-04T08:12:56.591Z"
   },
   {
    "duration": 6,
    "start_time": "2024-08-04T08:12:59.930Z"
   },
   {
    "duration": 5,
    "start_time": "2024-08-04T08:13:00.310Z"
   },
   {
    "duration": 5,
    "start_time": "2024-08-04T08:13:00.512Z"
   },
   {
    "duration": 5,
    "start_time": "2024-08-04T08:13:00.692Z"
   },
   {
    "duration": 6,
    "start_time": "2024-08-04T08:13:00.879Z"
   },
   {
    "duration": 5,
    "start_time": "2024-08-04T08:13:01.079Z"
   },
   {
    "duration": 5,
    "start_time": "2024-08-04T08:13:01.625Z"
   },
   {
    "duration": 17,
    "start_time": "2024-08-04T08:13:02.160Z"
   },
   {
    "duration": 11,
    "start_time": "2024-08-04T08:13:03.207Z"
   },
   {
    "duration": 15,
    "start_time": "2024-08-04T08:13:03.425Z"
   },
   {
    "duration": 8,
    "start_time": "2024-08-04T08:13:04.873Z"
   },
   {
    "duration": 25,
    "start_time": "2024-08-04T08:13:05.378Z"
   },
   {
    "duration": 6,
    "start_time": "2024-08-04T08:13:12.423Z"
   },
   {
    "duration": 3,
    "start_time": "2024-08-04T08:13:12.580Z"
   },
   {
    "duration": 5,
    "start_time": "2024-08-04T08:13:13.280Z"
   },
   {
    "duration": 7,
    "start_time": "2024-08-04T08:13:13.827Z"
   },
   {
    "duration": 5,
    "start_time": "2024-08-04T08:13:14.524Z"
   },
   {
    "duration": 5,
    "start_time": "2024-08-04T08:13:16.206Z"
   },
   {
    "duration": 4,
    "start_time": "2024-08-04T08:13:16.791Z"
   },
   {
    "duration": 26,
    "start_time": "2024-08-04T08:13:17.940Z"
   },
   {
    "duration": 8,
    "start_time": "2024-08-04T08:13:21.544Z"
   },
   {
    "duration": 13,
    "start_time": "2024-08-04T08:13:24.731Z"
   },
   {
    "duration": 7,
    "start_time": "2024-08-04T08:13:25.575Z"
   },
   {
    "duration": 5,
    "start_time": "2024-08-04T08:13:26.077Z"
   },
   {
    "duration": 4,
    "start_time": "2024-08-04T08:13:26.796Z"
   },
   {
    "duration": 66,
    "start_time": "2024-08-04T08:13:27.439Z"
   },
   {
    "duration": 26,
    "start_time": "2024-08-04T08:13:28.777Z"
   },
   {
    "duration": 18788,
    "start_time": "2024-08-04T08:13:29.774Z"
   },
   {
    "duration": 4,
    "start_time": "2024-08-04T08:14:54.517Z"
   },
   {
    "duration": 40,
    "start_time": "2024-08-04T08:14:55.044Z"
   },
   {
    "duration": 22,
    "start_time": "2024-08-04T08:14:55.443Z"
   },
   {
    "duration": 24,
    "start_time": "2024-08-04T08:14:55.941Z"
   },
   {
    "duration": 29,
    "start_time": "2024-08-04T08:14:56.693Z"
   },
   {
    "duration": 1507,
    "start_time": "2024-08-04T08:15:05.079Z"
   },
   {
    "duration": 47,
    "start_time": "2024-08-04T08:15:06.589Z"
   },
   {
    "duration": 26,
    "start_time": "2024-08-04T08:15:07.177Z"
   },
   {
    "duration": 34,
    "start_time": "2024-08-04T08:15:07.843Z"
   },
   {
    "duration": 19,
    "start_time": "2024-08-04T08:15:08.542Z"
   },
   {
    "duration": 15,
    "start_time": "2024-08-04T08:15:09.745Z"
   },
   {
    "duration": 14,
    "start_time": "2024-08-04T08:15:10.294Z"
   },
   {
    "duration": 11,
    "start_time": "2024-08-04T08:15:11.061Z"
   },
   {
    "duration": 17,
    "start_time": "2024-08-04T08:15:12.276Z"
   },
   {
    "duration": 11,
    "start_time": "2024-08-04T08:15:13.445Z"
   },
   {
    "duration": 202,
    "start_time": "2024-08-04T08:15:14.330Z"
   },
   {
    "duration": 9,
    "start_time": "2024-08-04T08:15:16.177Z"
   },
   {
    "duration": 12,
    "start_time": "2024-08-04T08:15:16.911Z"
   },
   {
    "duration": 12,
    "start_time": "2024-08-04T08:15:17.411Z"
   },
   {
    "duration": 9,
    "start_time": "2024-08-04T08:15:18.125Z"
   },
   {
    "duration": 124,
    "start_time": "2024-08-04T08:15:18.743Z"
   },
   {
    "duration": 11,
    "start_time": "2024-08-04T08:15:20.362Z"
   },
   {
    "duration": 13,
    "start_time": "2024-08-04T08:15:20.950Z"
   },
   {
    "duration": 32,
    "start_time": "2024-08-04T08:15:21.549Z"
   },
   {
    "duration": 8,
    "start_time": "2024-08-04T08:15:22.093Z"
   },
   {
    "duration": 7,
    "start_time": "2024-08-04T08:15:23.615Z"
   },
   {
    "duration": 10,
    "start_time": "2024-08-04T08:15:24.243Z"
   },
   {
    "duration": 17,
    "start_time": "2024-08-04T08:15:24.977Z"
   },
   {
    "duration": 6,
    "start_time": "2024-08-04T08:15:25.643Z"
   },
   {
    "duration": 96,
    "start_time": "2024-08-04T08:16:11.130Z"
   },
   {
    "duration": 18,
    "start_time": "2024-08-04T08:16:11.598Z"
   },
   {
    "duration": 17,
    "start_time": "2024-08-04T08:16:11.895Z"
   },
   {
    "duration": 15,
    "start_time": "2024-08-04T08:16:12.676Z"
   },
   {
    "duration": 12,
    "start_time": "2024-08-04T08:16:15.510Z"
   },
   {
    "duration": 14,
    "start_time": "2024-08-04T08:16:15.667Z"
   },
   {
    "duration": 85,
    "start_time": "2024-08-04T08:16:16.361Z"
   },
   {
    "duration": 10,
    "start_time": "2024-08-04T08:16:17.155Z"
   },
   {
    "duration": 3,
    "start_time": "2024-08-04T08:16:17.759Z"
   },
   {
    "duration": 26,
    "start_time": "2024-08-04T08:16:18.149Z"
   },
   {
    "duration": 21,
    "start_time": "2024-08-04T08:16:18.732Z"
   },
   {
    "duration": 15,
    "start_time": "2024-08-04T08:16:19.928Z"
   },
   {
    "duration": 13,
    "start_time": "2024-08-04T08:16:22.230Z"
   },
   {
    "duration": 165,
    "start_time": "2024-08-04T08:16:23.644Z"
   },
   {
    "duration": 5,
    "start_time": "2024-08-04T08:16:24.379Z"
   },
   {
    "duration": 6,
    "start_time": "2024-08-04T08:16:24.729Z"
   },
   {
    "duration": 172,
    "start_time": "2024-08-04T08:16:24.971Z"
   },
   {
    "duration": 24,
    "start_time": "2024-08-04T08:16:25.661Z"
   },
   {
    "duration": 7,
    "start_time": "2024-08-04T08:16:26.588Z"
   },
   {
    "duration": 6,
    "start_time": "2024-08-04T08:16:26.918Z"
   },
   {
    "duration": 6,
    "start_time": "2024-08-04T08:16:27.182Z"
   },
   {
    "duration": 5,
    "start_time": "2024-08-04T08:16:27.548Z"
   },
   {
    "duration": 5,
    "start_time": "2024-08-04T08:16:27.950Z"
   },
   {
    "duration": 5,
    "start_time": "2024-08-04T08:16:28.576Z"
   },
   {
    "duration": 5,
    "start_time": "2024-08-04T08:16:28.926Z"
   },
   {
    "duration": 12,
    "start_time": "2024-08-04T08:16:29.662Z"
   },
   {
    "duration": 11,
    "start_time": "2024-08-04T08:16:32.879Z"
   },
   {
    "duration": 15,
    "start_time": "2024-08-04T08:16:33.545Z"
   },
   {
    "duration": 9,
    "start_time": "2024-08-04T08:16:35.460Z"
   },
   {
    "duration": 24,
    "start_time": "2024-08-04T08:16:36.253Z"
   },
   {
    "duration": 6,
    "start_time": "2024-08-04T08:16:38.518Z"
   },
   {
    "duration": 3,
    "start_time": "2024-08-04T08:16:39.259Z"
   },
   {
    "duration": 4,
    "start_time": "2024-08-04T08:16:39.892Z"
   },
   {
    "duration": 5,
    "start_time": "2024-08-04T08:16:40.529Z"
   },
   {
    "duration": 4,
    "start_time": "2024-08-04T08:16:41.178Z"
   },
   {
    "duration": 5,
    "start_time": "2024-08-04T08:16:44.562Z"
   },
   {
    "duration": 27,
    "start_time": "2024-08-04T08:16:45.747Z"
   },
   {
    "duration": 4,
    "start_time": "2024-08-04T08:18:37.510Z"
   },
   {
    "duration": 29,
    "start_time": "2024-08-04T08:18:39.101Z"
   },
   {
    "duration": 7,
    "start_time": "2024-08-04T08:19:05.248Z"
   },
   {
    "duration": 15,
    "start_time": "2024-08-04T08:19:06.012Z"
   },
   {
    "duration": 7,
    "start_time": "2024-08-04T08:19:06.812Z"
   },
   {
    "duration": 5,
    "start_time": "2024-08-04T08:19:06.984Z"
   },
   {
    "duration": 3,
    "start_time": "2024-08-04T08:19:07.143Z"
   },
   {
    "duration": 69,
    "start_time": "2024-08-04T08:19:07.858Z"
   },
   {
    "duration": 26,
    "start_time": "2024-08-04T08:19:08.195Z"
   },
   {
    "duration": 18728,
    "start_time": "2024-08-04T08:19:08.550Z"
   },
   {
    "duration": 29733,
    "start_time": "2024-08-04T08:28:55.649Z"
   },
   {
    "duration": 116719,
    "start_time": "2024-08-04T08:30:06.710Z"
   },
   {
    "duration": 45186,
    "start_time": "2024-08-04T08:32:15.486Z"
   },
   {
    "duration": 1511,
    "start_time": "2024-08-04T08:38:49.404Z"
   },
   {
    "duration": 42,
    "start_time": "2024-08-04T08:38:51.572Z"
   },
   {
    "duration": 22,
    "start_time": "2024-08-04T08:38:51.757Z"
   },
   {
    "duration": 27,
    "start_time": "2024-08-04T08:38:51.914Z"
   },
   {
    "duration": 19,
    "start_time": "2024-08-04T08:38:52.112Z"
   },
   {
    "duration": 16,
    "start_time": "2024-08-04T08:38:52.415Z"
   },
   {
    "duration": 14,
    "start_time": "2024-08-04T08:38:52.651Z"
   },
   {
    "duration": 11,
    "start_time": "2024-08-04T08:38:52.830Z"
   },
   {
    "duration": 13,
    "start_time": "2024-08-04T08:38:53.164Z"
   },
   {
    "duration": 10,
    "start_time": "2024-08-04T08:38:53.459Z"
   },
   {
    "duration": 170,
    "start_time": "2024-08-04T08:38:53.627Z"
   },
   {
    "duration": 12,
    "start_time": "2024-08-04T08:38:54.053Z"
   },
   {
    "duration": 15,
    "start_time": "2024-08-04T08:38:54.354Z"
   },
   {
    "duration": 13,
    "start_time": "2024-08-04T08:38:54.549Z"
   },
   {
    "duration": 8,
    "start_time": "2024-08-04T08:38:54.842Z"
   },
   {
    "duration": 124,
    "start_time": "2024-08-04T08:38:55.040Z"
   },
   {
    "duration": 12,
    "start_time": "2024-08-04T08:38:55.501Z"
   },
   {
    "duration": 14,
    "start_time": "2024-08-04T08:38:55.745Z"
   },
   {
    "duration": 44,
    "start_time": "2024-08-04T08:38:55.938Z"
   },
   {
    "duration": 10,
    "start_time": "2024-08-04T08:38:56.235Z"
   },
   {
    "duration": 7,
    "start_time": "2024-08-04T08:38:56.690Z"
   },
   {
    "duration": 9,
    "start_time": "2024-08-04T08:38:56.991Z"
   },
   {
    "duration": 15,
    "start_time": "2024-08-04T08:38:57.181Z"
   },
   {
    "duration": 6,
    "start_time": "2024-08-04T08:38:57.437Z"
   },
   {
    "duration": 103,
    "start_time": "2024-08-04T08:38:57.902Z"
   },
   {
    "duration": 16,
    "start_time": "2024-08-04T08:38:58.071Z"
   },
   {
    "duration": 15,
    "start_time": "2024-08-04T08:38:58.426Z"
   },
   {
    "duration": 15,
    "start_time": "2024-08-04T08:38:58.712Z"
   },
   {
    "duration": 12,
    "start_time": "2024-08-04T08:38:59.422Z"
   },
   {
    "duration": 14,
    "start_time": "2024-08-04T08:38:59.628Z"
   },
   {
    "duration": 85,
    "start_time": "2024-08-04T08:38:59.821Z"
   },
   {
    "duration": 11,
    "start_time": "2024-08-04T08:38:59.989Z"
   },
   {
    "duration": 4,
    "start_time": "2024-08-04T08:39:00.199Z"
   },
   {
    "duration": 18,
    "start_time": "2024-08-04T08:39:00.398Z"
   },
   {
    "duration": 20,
    "start_time": "2024-08-04T08:39:00.595Z"
   },
   {
    "duration": 16,
    "start_time": "2024-08-04T08:39:00.834Z"
   },
   {
    "duration": 15,
    "start_time": "2024-08-04T08:39:01.270Z"
   },
   {
    "duration": 316,
    "start_time": "2024-08-04T08:39:01.470Z"
   },
   {
    "duration": 5,
    "start_time": "2024-08-04T08:39:01.788Z"
   },
   {
    "duration": 45,
    "start_time": "2024-08-04T08:39:01.796Z"
   },
   {
    "duration": 163,
    "start_time": "2024-08-04T08:39:02.002Z"
   },
   {
    "duration": 25,
    "start_time": "2024-08-04T08:39:02.297Z"
   },
   {
    "duration": 5,
    "start_time": "2024-08-04T08:39:02.588Z"
   },
   {
    "duration": 62,
    "start_time": "2024-08-04T08:39:02.672Z"
   },
   {
    "duration": 5,
    "start_time": "2024-08-04T08:39:02.796Z"
   },
   {
    "duration": 61,
    "start_time": "2024-08-04T08:39:02.898Z"
   },
   {
    "duration": 24,
    "start_time": "2024-08-04T08:39:03.044Z"
   },
   {
    "duration": 27,
    "start_time": "2024-08-04T08:39:03.127Z"
   },
   {
    "duration": 5,
    "start_time": "2024-08-04T08:39:03.260Z"
   },
   {
    "duration": 12,
    "start_time": "2024-08-04T08:39:03.428Z"
   },
   {
    "duration": 11,
    "start_time": "2024-08-04T08:39:03.728Z"
   },
   {
    "duration": 19,
    "start_time": "2024-08-04T08:39:03.932Z"
   },
   {
    "duration": 9,
    "start_time": "2024-08-04T08:39:04.354Z"
   },
   {
    "duration": 24,
    "start_time": "2024-08-04T08:39:04.554Z"
   },
   {
    "duration": 6,
    "start_time": "2024-08-04T08:39:04.963Z"
   },
   {
    "duration": 4,
    "start_time": "2024-08-04T08:39:05.118Z"
   },
   {
    "duration": 4,
    "start_time": "2024-08-04T08:39:05.288Z"
   },
   {
    "duration": 6,
    "start_time": "2024-08-04T08:39:05.459Z"
   },
   {
    "duration": 5,
    "start_time": "2024-08-04T08:39:05.624Z"
   },
   {
    "duration": 5,
    "start_time": "2024-08-04T08:39:05.958Z"
   },
   {
    "duration": 4,
    "start_time": "2024-08-04T08:39:06.164Z"
   },
   {
    "duration": 29,
    "start_time": "2024-08-04T08:39:06.327Z"
   },
   {
    "duration": 8,
    "start_time": "2024-08-04T08:39:06.598Z"
   },
   {
    "duration": 15,
    "start_time": "2024-08-04T08:39:06.800Z"
   },
   {
    "duration": 7,
    "start_time": "2024-08-04T08:39:06.904Z"
   },
   {
    "duration": 6,
    "start_time": "2024-08-04T08:39:07.103Z"
   },
   {
    "duration": 3,
    "start_time": "2024-08-04T08:39:07.192Z"
   },
   {
    "duration": 69,
    "start_time": "2024-08-04T08:39:07.420Z"
   },
   {
    "duration": 26,
    "start_time": "2024-08-04T08:39:07.720Z"
   },
   {
    "duration": 28620,
    "start_time": "2024-08-04T08:39:08.363Z"
   },
   {
    "duration": 45055,
    "start_time": "2024-08-04T08:39:36.989Z"
   },
   {
    "duration": 43,
    "start_time": "2024-08-04T08:52:49.952Z"
   },
   {
    "duration": 1525,
    "start_time": "2024-08-04T08:58:22.722Z"
   },
   {
    "duration": 42,
    "start_time": "2024-08-04T08:58:25.565Z"
   },
   {
    "duration": 22,
    "start_time": "2024-08-04T08:58:26.147Z"
   },
   {
    "duration": 23,
    "start_time": "2024-08-04T08:58:26.531Z"
   },
   {
    "duration": 29,
    "start_time": "2024-08-04T08:58:26.832Z"
   },
   {
    "duration": 15,
    "start_time": "2024-08-04T08:58:27.381Z"
   },
   {
    "duration": 14,
    "start_time": "2024-08-04T08:58:41.722Z"
   },
   {
    "duration": 14,
    "start_time": "2024-08-04T08:58:41.949Z"
   },
   {
    "duration": 12,
    "start_time": "2024-08-04T08:58:42.329Z"
   },
   {
    "duration": 11,
    "start_time": "2024-08-04T08:58:42.598Z"
   },
   {
    "duration": 195,
    "start_time": "2024-08-04T08:58:42.763Z"
   },
   {
    "duration": 9,
    "start_time": "2024-08-04T08:58:43.386Z"
   },
   {
    "duration": 12,
    "start_time": "2024-08-04T08:58:43.656Z"
   },
   {
    "duration": 16,
    "start_time": "2024-08-04T08:58:43.851Z"
   },
   {
    "duration": 8,
    "start_time": "2024-08-04T08:58:44.190Z"
   },
   {
    "duration": 139,
    "start_time": "2024-08-04T08:58:44.389Z"
   },
   {
    "duration": 11,
    "start_time": "2024-08-04T08:58:44.823Z"
   },
   {
    "duration": 15,
    "start_time": "2024-08-04T08:58:45.103Z"
   },
   {
    "duration": 32,
    "start_time": "2024-08-04T08:58:45.264Z"
   },
   {
    "duration": 9,
    "start_time": "2024-08-04T08:58:45.520Z"
   },
   {
    "duration": 7,
    "start_time": "2024-08-04T08:58:45.779Z"
   },
   {
    "duration": 11,
    "start_time": "2024-08-04T08:58:46.021Z"
   },
   {
    "duration": 16,
    "start_time": "2024-08-04T08:58:46.170Z"
   },
   {
    "duration": 6,
    "start_time": "2024-08-04T08:58:46.420Z"
   },
   {
    "duration": 89,
    "start_time": "2024-08-04T08:58:47.983Z"
   },
   {
    "duration": 18,
    "start_time": "2024-08-04T08:58:49.420Z"
   },
   {
    "duration": 16,
    "start_time": "2024-08-04T08:58:49.645Z"
   },
   {
    "duration": 16,
    "start_time": "2024-08-04T08:58:49.917Z"
   },
   {
    "duration": 12,
    "start_time": "2024-08-04T08:58:50.880Z"
   },
   {
    "duration": 15,
    "start_time": "2024-08-04T08:58:50.988Z"
   },
   {
    "duration": 86,
    "start_time": "2024-08-04T08:58:51.138Z"
   },
   {
    "duration": 11,
    "start_time": "2024-08-04T08:58:51.237Z"
   },
   {
    "duration": 3,
    "start_time": "2024-08-04T08:58:51.438Z"
   },
   {
    "duration": 25,
    "start_time": "2024-08-04T08:58:51.643Z"
   },
   {
    "duration": 29,
    "start_time": "2024-08-04T08:58:51.834Z"
   },
   {
    "duration": 14,
    "start_time": "2024-08-04T08:58:52.114Z"
   },
   {
    "duration": 13,
    "start_time": "2024-08-04T08:58:52.615Z"
   },
   {
    "duration": 172,
    "start_time": "2024-08-04T08:58:52.858Z"
   },
   {
    "duration": 6,
    "start_time": "2024-08-04T08:58:53.083Z"
   },
   {
    "duration": 9,
    "start_time": "2024-08-04T08:58:53.215Z"
   },
   {
    "duration": 165,
    "start_time": "2024-08-04T08:58:53.318Z"
   },
   {
    "duration": 25,
    "start_time": "2024-08-04T08:58:53.988Z"
   },
   {
    "duration": 6,
    "start_time": "2024-08-04T08:58:54.429Z"
   },
   {
    "duration": 5,
    "start_time": "2024-08-04T08:58:54.592Z"
   },
   {
    "duration": 5,
    "start_time": "2024-08-04T08:58:54.762Z"
   },
   {
    "duration": 5,
    "start_time": "2024-08-04T08:58:54.968Z"
   },
   {
    "duration": 5,
    "start_time": "2024-08-04T08:58:55.145Z"
   },
   {
    "duration": 5,
    "start_time": "2024-08-04T08:58:55.410Z"
   },
   {
    "duration": 4,
    "start_time": "2024-08-04T08:58:55.645Z"
   },
   {
    "duration": 13,
    "start_time": "2024-08-04T08:58:55.849Z"
   },
   {
    "duration": 12,
    "start_time": "2024-08-04T08:58:56.260Z"
   },
   {
    "duration": 14,
    "start_time": "2024-08-04T08:58:56.434Z"
   },
   {
    "duration": 10,
    "start_time": "2024-08-04T08:58:57.299Z"
   },
   {
    "duration": 26,
    "start_time": "2024-08-04T08:58:57.720Z"
   },
   {
    "duration": 6,
    "start_time": "2024-08-04T08:58:58.146Z"
   },
   {
    "duration": 3,
    "start_time": "2024-08-04T08:58:58.290Z"
   },
   {
    "duration": 4,
    "start_time": "2024-08-04T08:58:58.496Z"
   },
   {
    "duration": 6,
    "start_time": "2024-08-04T08:58:58.675Z"
   },
   {
    "duration": 5,
    "start_time": "2024-08-04T08:58:58.873Z"
   },
   {
    "duration": 5,
    "start_time": "2024-08-04T08:58:59.212Z"
   },
   {
    "duration": 4,
    "start_time": "2024-08-04T08:58:59.401Z"
   },
   {
    "duration": 27,
    "start_time": "2024-08-04T08:58:59.574Z"
   },
   {
    "duration": 8,
    "start_time": "2024-08-04T08:59:00.020Z"
   },
   {
    "duration": 14,
    "start_time": "2024-08-04T08:59:00.139Z"
   },
   {
    "duration": 7,
    "start_time": "2024-08-04T08:59:00.320Z"
   },
   {
    "duration": 6,
    "start_time": "2024-08-04T08:59:00.543Z"
   },
   {
    "duration": 4,
    "start_time": "2024-08-04T08:59:00.717Z"
   },
   {
    "duration": 70,
    "start_time": "2024-08-04T08:59:01.068Z"
   },
   {
    "duration": 27,
    "start_time": "2024-08-04T08:59:01.364Z"
   },
   {
    "duration": 27369,
    "start_time": "2024-08-04T08:59:02.116Z"
   },
   {
    "duration": 45158,
    "start_time": "2024-08-04T08:59:29.581Z"
   },
   {
    "duration": 54,
    "start_time": "2024-08-04T09:00:14.741Z"
   },
   {
    "duration": 13517,
    "start_time": "2024-08-04T09:02:08.879Z"
   },
   {
    "duration": 10999,
    "start_time": "2024-08-04T09:03:02.191Z"
   },
   {
    "duration": 13265,
    "start_time": "2024-08-04T09:04:29.321Z"
   },
   {
    "duration": 31344,
    "start_time": "2024-08-04T09:05:51.365Z"
   },
   {
    "duration": 1525,
    "start_time": "2024-08-04T09:08:03.897Z"
   },
   {
    "duration": 42,
    "start_time": "2024-08-04T09:08:05.465Z"
   },
   {
    "duration": 33,
    "start_time": "2024-08-04T09:08:08.823Z"
   },
   {
    "duration": 34,
    "start_time": "2024-08-04T09:08:14.100Z"
   },
   {
    "duration": 20,
    "start_time": "2024-08-04T09:08:14.283Z"
   },
   {
    "duration": 17,
    "start_time": "2024-08-04T09:08:14.774Z"
   },
   {
    "duration": 15,
    "start_time": "2024-08-04T09:08:15.044Z"
   },
   {
    "duration": 13,
    "start_time": "2024-08-04T09:08:15.205Z"
   },
   {
    "duration": 13,
    "start_time": "2024-08-04T09:08:15.599Z"
   },
   {
    "duration": 11,
    "start_time": "2024-08-04T09:08:16.561Z"
   },
   {
    "duration": 209,
    "start_time": "2024-08-04T09:08:16.758Z"
   },
   {
    "duration": 9,
    "start_time": "2024-08-04T09:08:17.253Z"
   },
   {
    "duration": 17,
    "start_time": "2024-08-04T09:08:17.825Z"
   },
   {
    "duration": 15,
    "start_time": "2024-08-04T09:08:17.975Z"
   },
   {
    "duration": 8,
    "start_time": "2024-08-04T09:08:18.225Z"
   },
   {
    "duration": 125,
    "start_time": "2024-08-04T09:08:18.383Z"
   },
   {
    "duration": 15,
    "start_time": "2024-08-04T09:08:18.782Z"
   },
   {
    "duration": 13,
    "start_time": "2024-08-04T09:08:19.124Z"
   },
   {
    "duration": 31,
    "start_time": "2024-08-04T09:08:19.294Z"
   },
   {
    "duration": 9,
    "start_time": "2024-08-04T09:08:19.631Z"
   },
   {
    "duration": 9,
    "start_time": "2024-08-04T09:08:20.096Z"
   },
   {
    "duration": 10,
    "start_time": "2024-08-04T09:08:20.370Z"
   },
   {
    "duration": 24,
    "start_time": "2024-08-04T09:08:20.565Z"
   },
   {
    "duration": 7,
    "start_time": "2024-08-04T09:08:20.993Z"
   },
   {
    "duration": 189,
    "start_time": "2024-08-04T09:08:21.632Z"
   },
   {
    "duration": 17,
    "start_time": "2024-08-04T09:08:21.838Z"
   },
   {
    "duration": 20,
    "start_time": "2024-08-04T09:08:22.189Z"
   },
   {
    "duration": 18,
    "start_time": "2024-08-04T09:08:22.529Z"
   },
   {
    "duration": 13,
    "start_time": "2024-08-04T09:08:23.333Z"
   },
   {
    "duration": 16,
    "start_time": "2024-08-04T09:08:23.531Z"
   },
   {
    "duration": 10,
    "start_time": "2024-08-04T09:08:23.734Z"
   },
   {
    "duration": 18,
    "start_time": "2024-08-04T09:08:23.906Z"
   },
   {
    "duration": 5,
    "start_time": "2024-08-04T09:08:24.078Z"
   },
   {
    "duration": 19,
    "start_time": "2024-08-04T09:08:24.285Z"
   },
   {
    "duration": 21,
    "start_time": "2024-08-04T09:08:24.486Z"
   },
   {
    "duration": 14,
    "start_time": "2024-08-04T09:08:24.768Z"
   },
   {
    "duration": 13,
    "start_time": "2024-08-04T09:08:25.257Z"
   },
   {
    "duration": 159,
    "start_time": "2024-08-04T09:08:25.454Z"
   },
   {
    "duration": 5,
    "start_time": "2024-08-04T09:08:25.622Z"
   },
   {
    "duration": 9,
    "start_time": "2024-08-04T09:08:25.825Z"
   },
   {
    "duration": 165,
    "start_time": "2024-08-04T09:08:26.029Z"
   },
   {
    "duration": 27,
    "start_time": "2024-08-04T09:08:26.335Z"
   },
   {
    "duration": 6,
    "start_time": "2024-08-04T09:08:26.790Z"
   },
   {
    "duration": 5,
    "start_time": "2024-08-04T09:08:26.968Z"
   },
   {
    "duration": 5,
    "start_time": "2024-08-04T09:08:27.141Z"
   },
   {
    "duration": 5,
    "start_time": "2024-08-04T09:08:27.315Z"
   },
   {
    "duration": 7,
    "start_time": "2024-08-04T09:08:27.487Z"
   },
   {
    "duration": 6,
    "start_time": "2024-08-04T09:08:27.689Z"
   },
   {
    "duration": 5,
    "start_time": "2024-08-04T09:08:27.893Z"
   },
   {
    "duration": 12,
    "start_time": "2024-08-04T09:08:28.102Z"
   },
   {
    "duration": 12,
    "start_time": "2024-08-04T09:08:28.408Z"
   },
   {
    "duration": 16,
    "start_time": "2024-08-04T09:08:28.512Z"
   },
   {
    "duration": 9,
    "start_time": "2024-08-04T09:08:28.987Z"
   },
   {
    "duration": 25,
    "start_time": "2024-08-04T09:08:29.188Z"
   },
   {
    "duration": 6,
    "start_time": "2024-08-04T09:08:29.506Z"
   },
   {
    "duration": 3,
    "start_time": "2024-08-04T09:08:29.706Z"
   },
   {
    "duration": 5,
    "start_time": "2024-08-04T09:08:29.889Z"
   },
   {
    "duration": 6,
    "start_time": "2024-08-04T09:08:30.057Z"
   },
   {
    "duration": 4,
    "start_time": "2024-08-04T09:08:30.227Z"
   },
   {
    "duration": 5,
    "start_time": "2024-08-04T09:08:30.532Z"
   },
   {
    "duration": 4,
    "start_time": "2024-08-04T09:08:30.744Z"
   },
   {
    "duration": 28,
    "start_time": "2024-08-04T09:08:30.955Z"
   },
   {
    "duration": 8,
    "start_time": "2024-08-04T09:08:31.289Z"
   },
   {
    "duration": 18,
    "start_time": "2024-08-04T09:08:31.630Z"
   },
   {
    "duration": 9,
    "start_time": "2024-08-04T09:08:31.731Z"
   },
   {
    "duration": 6,
    "start_time": "2024-08-04T09:08:31.943Z"
   },
   {
    "duration": 4,
    "start_time": "2024-08-04T09:08:32.152Z"
   },
   {
    "duration": 67,
    "start_time": "2024-08-04T09:08:32.457Z"
   },
   {
    "duration": 27,
    "start_time": "2024-08-04T09:08:32.757Z"
   },
   {
    "duration": 31421,
    "start_time": "2024-08-04T09:08:33.068Z"
   },
   {
    "duration": 46872,
    "start_time": "2024-08-04T09:09:04.491Z"
   },
   {
    "duration": 50,
    "start_time": "2024-08-04T09:09:51.365Z"
   },
   {
    "duration": 33871,
    "start_time": "2024-08-04T09:09:51.418Z"
   },
   {
    "duration": 1544,
    "start_time": "2024-08-04T09:25:01.194Z"
   },
   {
    "duration": 43,
    "start_time": "2024-08-04T09:25:03.709Z"
   },
   {
    "duration": 30,
    "start_time": "2024-08-04T09:25:03.933Z"
   },
   {
    "duration": 23,
    "start_time": "2024-08-04T09:25:04.125Z"
   },
   {
    "duration": 18,
    "start_time": "2024-08-04T09:25:04.365Z"
   },
   {
    "duration": 15,
    "start_time": "2024-08-04T09:25:04.699Z"
   },
   {
    "duration": 14,
    "start_time": "2024-08-04T09:25:04.998Z"
   },
   {
    "duration": 17,
    "start_time": "2024-08-04T09:25:05.194Z"
   },
   {
    "duration": 12,
    "start_time": "2024-08-04T09:25:05.547Z"
   },
   {
    "duration": 15,
    "start_time": "2024-08-04T09:25:05.863Z"
   },
   {
    "duration": 181,
    "start_time": "2024-08-04T09:25:06.075Z"
   },
   {
    "duration": 9,
    "start_time": "2024-08-04T09:25:06.527Z"
   },
   {
    "duration": 13,
    "start_time": "2024-08-04T09:25:06.847Z"
   },
   {
    "duration": 16,
    "start_time": "2024-08-04T09:25:07.049Z"
   },
   {
    "duration": 11,
    "start_time": "2024-08-04T09:25:07.393Z"
   },
   {
    "duration": 132,
    "start_time": "2024-08-04T09:25:07.496Z"
   },
   {
    "duration": 11,
    "start_time": "2024-08-04T09:25:08.027Z"
   },
   {
    "duration": 14,
    "start_time": "2024-08-04T09:25:08.308Z"
   },
   {
    "duration": 34,
    "start_time": "2024-08-04T09:25:08.505Z"
   },
   {
    "duration": 12,
    "start_time": "2024-08-04T09:25:08.821Z"
   },
   {
    "duration": 7,
    "start_time": "2024-08-04T09:25:09.264Z"
   },
   {
    "duration": 10,
    "start_time": "2024-08-04T09:25:09.611Z"
   },
   {
    "duration": 16,
    "start_time": "2024-08-04T09:25:09.810Z"
   },
   {
    "duration": 7,
    "start_time": "2024-08-04T09:25:10.127Z"
   },
   {
    "duration": 166,
    "start_time": "2024-08-04T09:25:10.737Z"
   },
   {
    "duration": 17,
    "start_time": "2024-08-04T09:25:10.906Z"
   },
   {
    "duration": 30,
    "start_time": "2024-08-04T09:25:11.081Z"
   },
   {
    "duration": 15,
    "start_time": "2024-08-04T09:25:11.304Z"
   },
   {
    "duration": 12,
    "start_time": "2024-08-04T09:25:11.750Z"
   },
   {
    "duration": 21,
    "start_time": "2024-08-04T09:25:11.832Z"
   },
   {
    "duration": 9,
    "start_time": "2024-08-04T09:25:12.707Z"
   },
   {
    "duration": 12,
    "start_time": "2024-08-04T09:25:12.887Z"
   },
   {
    "duration": 3,
    "start_time": "2024-08-04T09:25:13.073Z"
   },
   {
    "duration": 19,
    "start_time": "2024-08-04T09:25:13.257Z"
   },
   {
    "duration": 21,
    "start_time": "2024-08-04T09:25:13.447Z"
   },
   {
    "duration": 13,
    "start_time": "2024-08-04T09:25:13.710Z"
   },
   {
    "duration": 12,
    "start_time": "2024-08-04T09:25:14.128Z"
   },
   {
    "duration": 169,
    "start_time": "2024-08-04T09:25:14.324Z"
   },
   {
    "duration": 5,
    "start_time": "2024-08-04T09:25:14.495Z"
   },
   {
    "duration": 8,
    "start_time": "2024-08-04T09:25:15.062Z"
   },
   {
    "duration": 164,
    "start_time": "2024-08-04T09:25:15.520Z"
   },
   {
    "duration": 25,
    "start_time": "2024-08-04T09:25:16.255Z"
   },
   {
    "duration": 5,
    "start_time": "2024-08-04T09:25:16.783Z"
   },
   {
    "duration": 5,
    "start_time": "2024-08-04T09:25:16.972Z"
   },
   {
    "duration": 5,
    "start_time": "2024-08-04T09:25:17.155Z"
   },
   {
    "duration": 5,
    "start_time": "2024-08-04T09:25:17.332Z"
   },
   {
    "duration": 6,
    "start_time": "2024-08-04T09:25:17.486Z"
   },
   {
    "duration": 5,
    "start_time": "2024-08-04T09:25:17.687Z"
   },
   {
    "duration": 7,
    "start_time": "2024-08-04T09:25:17.898Z"
   },
   {
    "duration": 13,
    "start_time": "2024-08-04T09:25:18.083Z"
   },
   {
    "duration": 12,
    "start_time": "2024-08-04T09:25:18.391Z"
   },
   {
    "duration": 15,
    "start_time": "2024-08-04T09:25:18.602Z"
   },
   {
    "duration": 9,
    "start_time": "2024-08-04T09:25:19.077Z"
   },
   {
    "duration": 35,
    "start_time": "2024-08-04T09:25:19.283Z"
   },
   {
    "duration": 6,
    "start_time": "2024-08-04T09:25:19.685Z"
   },
   {
    "duration": 3,
    "start_time": "2024-08-04T09:25:19.856Z"
   },
   {
    "duration": 6,
    "start_time": "2024-08-04T09:25:20.032Z"
   },
   {
    "duration": 5,
    "start_time": "2024-08-04T09:25:20.206Z"
   },
   {
    "duration": 5,
    "start_time": "2024-08-04T09:25:20.444Z"
   },
   {
    "duration": 6,
    "start_time": "2024-08-04T09:25:20.900Z"
   },
   {
    "duration": 93,
    "start_time": "2024-08-04T09:25:21.045Z"
   },
   {
    "duration": 29,
    "start_time": "2024-08-04T09:25:21.232Z"
   },
   {
    "duration": 7,
    "start_time": "2024-08-04T09:25:21.519Z"
   },
   {
    "duration": 14,
    "start_time": "2024-08-04T09:25:21.966Z"
   },
   {
    "duration": 6,
    "start_time": "2024-08-04T09:25:22.187Z"
   },
   {
    "duration": 6,
    "start_time": "2024-08-04T09:25:22.438Z"
   },
   {
    "duration": 3,
    "start_time": "2024-08-04T09:25:22.656Z"
   },
   {
    "duration": 73,
    "start_time": "2024-08-04T09:25:23.084Z"
   },
   {
    "duration": 31,
    "start_time": "2024-08-04T09:25:23.855Z"
   },
   {
    "duration": 29947,
    "start_time": "2024-08-04T09:25:24.741Z"
   },
   {
    "duration": 45639,
    "start_time": "2024-08-04T09:25:54.690Z"
   },
   {
    "duration": 3,
    "start_time": "2024-08-04T09:26:40.331Z"
   },
   {
    "duration": 1648,
    "start_time": "2024-08-04T09:26:40.336Z"
   },
   {
    "duration": 135,
    "start_time": "2024-08-04T09:27:59.804Z"
   },
   {
    "duration": 553,
    "start_time": "2024-08-04T09:31:05.478Z"
   },
   {
    "duration": 895,
    "start_time": "2024-08-04T09:32:12.365Z"
   },
   {
    "duration": 5972,
    "start_time": "2024-08-04T09:34:17.152Z"
   },
   {
    "duration": 5537,
    "start_time": "2024-08-04T09:34:40.981Z"
   },
   {
    "duration": 5876,
    "start_time": "2024-08-04T09:35:16.903Z"
   },
   {
    "duration": 5,
    "start_time": "2024-08-04T09:51:48.865Z"
   },
   {
    "duration": 1604,
    "start_time": "2024-08-04T09:52:36.552Z"
   },
   {
    "duration": 41,
    "start_time": "2024-08-04T09:52:38.159Z"
   },
   {
    "duration": 22,
    "start_time": "2024-08-04T09:52:38.202Z"
   },
   {
    "duration": 24,
    "start_time": "2024-08-04T09:52:38.226Z"
   },
   {
    "duration": 19,
    "start_time": "2024-08-04T09:52:38.252Z"
   },
   {
    "duration": 16,
    "start_time": "2024-08-04T09:52:38.272Z"
   },
   {
    "duration": 15,
    "start_time": "2024-08-04T09:52:39.085Z"
   },
   {
    "duration": 11,
    "start_time": "2024-08-04T09:52:39.254Z"
   },
   {
    "duration": 13,
    "start_time": "2024-08-04T09:52:39.589Z"
   },
   {
    "duration": 9,
    "start_time": "2024-08-04T09:52:39.956Z"
   },
   {
    "duration": 178,
    "start_time": "2024-08-04T09:52:40.139Z"
   },
   {
    "duration": 12,
    "start_time": "2024-08-04T09:52:40.593Z"
   },
   {
    "duration": 13,
    "start_time": "2024-08-04T09:52:40.978Z"
   },
   {
    "duration": 12,
    "start_time": "2024-08-04T09:52:41.188Z"
   },
   {
    "duration": 8,
    "start_time": "2024-08-04T09:52:41.582Z"
   },
   {
    "duration": 133,
    "start_time": "2024-08-04T09:52:41.793Z"
   },
   {
    "duration": 11,
    "start_time": "2024-08-04T09:52:42.252Z"
   },
   {
    "duration": 18,
    "start_time": "2024-08-04T09:52:42.645Z"
   },
   {
    "duration": 31,
    "start_time": "2024-08-04T09:52:42.819Z"
   },
   {
    "duration": 9,
    "start_time": "2024-08-04T09:52:43.206Z"
   },
   {
    "duration": 7,
    "start_time": "2024-08-04T09:52:43.679Z"
   },
   {
    "duration": 11,
    "start_time": "2024-08-04T09:52:43.984Z"
   },
   {
    "duration": 17,
    "start_time": "2024-08-04T09:52:44.203Z"
   },
   {
    "duration": 8,
    "start_time": "2024-08-04T09:52:44.727Z"
   },
   {
    "duration": 167,
    "start_time": "2024-08-04T09:52:45.252Z"
   },
   {
    "duration": 15,
    "start_time": "2024-08-04T09:52:45.421Z"
   },
   {
    "duration": 15,
    "start_time": "2024-08-04T09:52:45.619Z"
   },
   {
    "duration": 17,
    "start_time": "2024-08-04T09:52:45.972Z"
   },
   {
    "duration": 12,
    "start_time": "2024-08-04T09:52:46.824Z"
   },
   {
    "duration": 16,
    "start_time": "2024-08-04T09:52:46.964Z"
   },
   {
    "duration": 10,
    "start_time": "2024-08-04T09:52:47.154Z"
   },
   {
    "duration": 11,
    "start_time": "2024-08-04T09:52:47.349Z"
   },
   {
    "duration": 3,
    "start_time": "2024-08-04T09:52:47.362Z"
   },
   {
    "duration": 18,
    "start_time": "2024-08-04T09:52:47.555Z"
   },
   {
    "duration": 21,
    "start_time": "2024-08-04T09:52:47.744Z"
   },
   {
    "duration": 15,
    "start_time": "2024-08-04T09:52:48.120Z"
   },
   {
    "duration": 12,
    "start_time": "2024-08-04T09:52:48.611Z"
   },
   {
    "duration": 167,
    "start_time": "2024-08-04T09:52:48.921Z"
   },
   {
    "duration": 5,
    "start_time": "2024-08-04T09:52:49.091Z"
   },
   {
    "duration": 9,
    "start_time": "2024-08-04T09:52:49.170Z"
   },
   {
    "duration": 166,
    "start_time": "2024-08-04T09:52:49.447Z"
   },
   {
    "duration": 27,
    "start_time": "2024-08-04T09:52:49.658Z"
   },
   {
    "duration": 5,
    "start_time": "2024-08-04T09:52:50.023Z"
   },
   {
    "duration": 5,
    "start_time": "2024-08-04T09:52:50.167Z"
   },
   {
    "duration": 6,
    "start_time": "2024-08-04T09:52:50.240Z"
   },
   {
    "duration": 5,
    "start_time": "2024-08-04T09:52:50.318Z"
   },
   {
    "duration": 5,
    "start_time": "2024-08-04T09:52:50.494Z"
   },
   {
    "duration": 5,
    "start_time": "2024-08-04T09:52:50.556Z"
   },
   {
    "duration": 6,
    "start_time": "2024-08-04T09:52:51.018Z"
   },
   {
    "duration": 28,
    "start_time": "2024-08-04T09:52:51.075Z"
   },
   {
    "duration": 11,
    "start_time": "2024-08-04T09:52:51.304Z"
   },
   {
    "duration": 15,
    "start_time": "2024-08-04T09:52:51.449Z"
   },
   {
    "duration": 9,
    "start_time": "2024-08-04T09:52:51.803Z"
   },
   {
    "duration": 26,
    "start_time": "2024-08-04T09:52:52.079Z"
   },
   {
    "duration": 8,
    "start_time": "2024-08-04T09:52:53.401Z"
   },
   {
    "duration": 3,
    "start_time": "2024-08-04T09:52:53.640Z"
   },
   {
    "duration": 4,
    "start_time": "2024-08-04T09:52:54.164Z"
   },
   {
    "duration": 6,
    "start_time": "2024-08-04T09:52:54.271Z"
   },
   {
    "duration": 5,
    "start_time": "2024-08-04T09:52:54.744Z"
   },
   {
    "duration": 6,
    "start_time": "2024-08-04T09:52:55.212Z"
   },
   {
    "duration": 4,
    "start_time": "2024-08-04T09:52:55.557Z"
   },
   {
    "duration": 25,
    "start_time": "2024-08-04T09:52:55.773Z"
   },
   {
    "duration": 8,
    "start_time": "2024-08-04T09:52:56.261Z"
   },
   {
    "duration": 14,
    "start_time": "2024-08-04T09:52:56.786Z"
   },
   {
    "duration": 6,
    "start_time": "2024-08-04T09:52:57.834Z"
   },
   {
    "duration": 6,
    "start_time": "2024-08-04T09:52:58.438Z"
   },
   {
    "duration": 6,
    "start_time": "2024-08-04T09:52:59.069Z"
   },
   {
    "duration": 4,
    "start_time": "2024-08-04T09:53:00.510Z"
   },
   {
    "duration": 81,
    "start_time": "2024-08-04T09:53:01.637Z"
   },
   {
    "duration": 27,
    "start_time": "2024-08-04T09:53:02.872Z"
   },
   {
    "duration": 13449,
    "start_time": "2024-08-04T09:53:04.437Z"
   },
   {
    "duration": 45122,
    "start_time": "2024-08-04T09:53:17.890Z"
   },
   {
    "duration": 1557,
    "start_time": "2024-08-04T09:54:21.072Z"
   },
   {
    "duration": 41,
    "start_time": "2024-08-04T09:54:22.631Z"
   },
   {
    "duration": 22,
    "start_time": "2024-08-04T09:54:22.674Z"
   },
   {
    "duration": 22,
    "start_time": "2024-08-04T09:54:22.698Z"
   },
   {
    "duration": 18,
    "start_time": "2024-08-04T09:54:22.722Z"
   },
   {
    "duration": 14,
    "start_time": "2024-08-04T09:54:22.742Z"
   },
   {
    "duration": 13,
    "start_time": "2024-08-04T09:54:22.758Z"
   },
   {
    "duration": 13,
    "start_time": "2024-08-04T09:54:22.773Z"
   },
   {
    "duration": 12,
    "start_time": "2024-08-04T09:54:22.871Z"
   },
   {
    "duration": 10,
    "start_time": "2024-08-04T09:54:23.108Z"
   },
   {
    "duration": 197,
    "start_time": "2024-08-04T09:54:23.300Z"
   },
   {
    "duration": 10,
    "start_time": "2024-08-04T09:54:23.725Z"
   },
   {
    "duration": 12,
    "start_time": "2024-08-04T09:54:24.142Z"
   },
   {
    "duration": 12,
    "start_time": "2024-08-04T09:54:24.262Z"
   },
   {
    "duration": 8,
    "start_time": "2024-08-04T09:54:24.643Z"
   },
   {
    "duration": 121,
    "start_time": "2024-08-04T09:54:24.846Z"
   },
   {
    "duration": 16,
    "start_time": "2024-08-04T09:54:25.334Z"
   },
   {
    "duration": 17,
    "start_time": "2024-08-04T09:54:25.720Z"
   },
   {
    "duration": 31,
    "start_time": "2024-08-04T09:54:26.017Z"
   },
   {
    "duration": 8,
    "start_time": "2024-08-04T09:54:26.251Z"
   },
   {
    "duration": 7,
    "start_time": "2024-08-04T09:54:26.738Z"
   },
   {
    "duration": 11,
    "start_time": "2024-08-04T09:54:27.067Z"
   },
   {
    "duration": 15,
    "start_time": "2024-08-04T09:54:27.262Z"
   },
   {
    "duration": 6,
    "start_time": "2024-08-04T09:54:27.590Z"
   },
   {
    "duration": 173,
    "start_time": "2024-08-04T09:54:28.171Z"
   },
   {
    "duration": 16,
    "start_time": "2024-08-04T09:54:28.345Z"
   },
   {
    "duration": 23,
    "start_time": "2024-08-04T09:54:28.667Z"
   },
   {
    "duration": 17,
    "start_time": "2024-08-04T09:54:29.162Z"
   },
   {
    "duration": 13,
    "start_time": "2024-08-04T09:54:29.869Z"
   },
   {
    "duration": 14,
    "start_time": "2024-08-04T09:54:30.212Z"
   },
   {
    "duration": 10,
    "start_time": "2024-08-04T09:54:30.246Z"
   },
   {
    "duration": 11,
    "start_time": "2024-08-04T09:54:30.477Z"
   },
   {
    "duration": 4,
    "start_time": "2024-08-04T09:54:30.736Z"
   },
   {
    "duration": 21,
    "start_time": "2024-08-04T09:54:30.834Z"
   },
   {
    "duration": 28,
    "start_time": "2024-08-04T09:54:31.016Z"
   },
   {
    "duration": 15,
    "start_time": "2024-08-04T09:54:31.398Z"
   },
   {
    "duration": 12,
    "start_time": "2024-08-04T09:54:31.835Z"
   },
   {
    "duration": 174,
    "start_time": "2024-08-04T09:54:32.041Z"
   },
   {
    "duration": 4,
    "start_time": "2024-08-04T09:54:32.309Z"
   },
   {
    "duration": 420,
    "start_time": "2024-08-04T09:54:32.332Z"
   },
   {
    "duration": 189,
    "start_time": "2024-08-04T09:54:32.754Z"
   },
   {
    "duration": 25,
    "start_time": "2024-08-04T09:54:32.945Z"
   },
   {
    "duration": 5,
    "start_time": "2024-08-04T09:54:33.185Z"
   },
   {
    "duration": 6,
    "start_time": "2024-08-04T09:54:33.414Z"
   },
   {
    "duration": 5,
    "start_time": "2024-08-04T09:54:33.597Z"
   },
   {
    "duration": 7,
    "start_time": "2024-08-04T09:54:33.768Z"
   },
   {
    "duration": 12,
    "start_time": "2024-08-04T09:54:33.946Z"
   },
   {
    "duration": 8,
    "start_time": "2024-08-04T09:54:34.120Z"
   },
   {
    "duration": 6,
    "start_time": "2024-08-04T09:54:34.221Z"
   },
   {
    "duration": 19,
    "start_time": "2024-08-04T09:54:34.432Z"
   },
   {
    "duration": 14,
    "start_time": "2024-08-04T09:54:34.754Z"
   },
   {
    "duration": 16,
    "start_time": "2024-08-04T09:54:34.968Z"
   },
   {
    "duration": 8,
    "start_time": "2024-08-04T09:54:35.455Z"
   },
   {
    "duration": 26,
    "start_time": "2024-08-04T09:54:35.651Z"
   },
   {
    "duration": 7,
    "start_time": "2024-08-04T09:54:35.982Z"
   },
   {
    "duration": 3,
    "start_time": "2024-08-04T09:54:36.157Z"
   },
   {
    "duration": 4,
    "start_time": "2024-08-04T09:54:36.403Z"
   },
   {
    "duration": 6,
    "start_time": "2024-08-04T09:54:36.655Z"
   },
   {
    "duration": 4,
    "start_time": "2024-08-04T09:54:36.896Z"
   },
   {
    "duration": 4,
    "start_time": "2024-08-04T09:54:37.210Z"
   },
   {
    "duration": 4,
    "start_time": "2024-08-04T09:54:37.455Z"
   },
   {
    "duration": 27,
    "start_time": "2024-08-04T09:54:37.632Z"
   },
   {
    "duration": 7,
    "start_time": "2024-08-04T09:54:38.032Z"
   },
   {
    "duration": 13,
    "start_time": "2024-08-04T09:54:38.331Z"
   },
   {
    "duration": 6,
    "start_time": "2024-08-04T09:54:38.559Z"
   },
   {
    "duration": 5,
    "start_time": "2024-08-04T09:54:38.755Z"
   },
   {
    "duration": 4,
    "start_time": "2024-08-04T09:54:38.934Z"
   },
   {
    "duration": 68,
    "start_time": "2024-08-04T09:54:39.253Z"
   },
   {
    "duration": 28,
    "start_time": "2024-08-04T09:54:39.565Z"
   },
   {
    "duration": 29174,
    "start_time": "2024-08-04T09:54:39.916Z"
   },
   {
    "duration": 45223,
    "start_time": "2024-08-04T09:55:09.092Z"
   },
   {
    "duration": 41,
    "start_time": "2024-08-04T09:55:54.316Z"
   },
   {
    "duration": 13552,
    "start_time": "2024-08-04T09:55:54.359Z"
   },
   {
    "duration": 69,
    "start_time": "2024-08-04T09:56:07.913Z"
   },
   {
    "duration": 3,
    "start_time": "2024-08-04T09:56:07.984Z"
   },
   {
    "duration": 1509,
    "start_time": "2024-08-04T09:57:41.640Z"
   },
   {
    "duration": 42,
    "start_time": "2024-08-04T09:57:43.695Z"
   },
   {
    "duration": 23,
    "start_time": "2024-08-04T09:57:43.866Z"
   },
   {
    "duration": 24,
    "start_time": "2024-08-04T09:57:44.031Z"
   },
   {
    "duration": 23,
    "start_time": "2024-08-04T09:57:44.239Z"
   },
   {
    "duration": 16,
    "start_time": "2024-08-04T09:57:44.554Z"
   },
   {
    "duration": 16,
    "start_time": "2024-08-04T09:57:44.898Z"
   },
   {
    "duration": 11,
    "start_time": "2024-08-04T09:57:45.092Z"
   },
   {
    "duration": 12,
    "start_time": "2024-08-04T09:57:45.444Z"
   },
   {
    "duration": 14,
    "start_time": "2024-08-04T09:57:45.776Z"
   },
   {
    "duration": 192,
    "start_time": "2024-08-04T09:57:45.978Z"
   },
   {
    "duration": 9,
    "start_time": "2024-08-04T09:57:46.455Z"
   },
   {
    "duration": 12,
    "start_time": "2024-08-04T09:57:46.734Z"
   },
   {
    "duration": 12,
    "start_time": "2024-08-04T09:57:46.937Z"
   },
   {
    "duration": 8,
    "start_time": "2024-08-04T09:57:47.240Z"
   },
   {
    "duration": 121,
    "start_time": "2024-08-04T09:57:47.345Z"
   },
   {
    "duration": 14,
    "start_time": "2024-08-04T09:57:47.874Z"
   },
   {
    "duration": 18,
    "start_time": "2024-08-04T09:57:48.211Z"
   },
   {
    "duration": 33,
    "start_time": "2024-08-04T09:57:48.412Z"
   },
   {
    "duration": 9,
    "start_time": "2024-08-04T09:57:48.749Z"
   },
   {
    "duration": 7,
    "start_time": "2024-08-04T09:57:49.191Z"
   },
   {
    "duration": 11,
    "start_time": "2024-08-04T09:57:49.525Z"
   },
   {
    "duration": 17,
    "start_time": "2024-08-04T09:57:49.726Z"
   },
   {
    "duration": 8,
    "start_time": "2024-08-04T09:57:50.037Z"
   },
   {
    "duration": 158,
    "start_time": "2024-08-04T09:57:50.640Z"
   },
   {
    "duration": 17,
    "start_time": "2024-08-04T09:57:50.946Z"
   },
   {
    "duration": 15,
    "start_time": "2024-08-04T09:57:51.234Z"
   },
   {
    "duration": 15,
    "start_time": "2024-08-04T09:57:51.503Z"
   },
   {
    "duration": 13,
    "start_time": "2024-08-04T09:57:51.903Z"
   },
   {
    "duration": 21,
    "start_time": "2024-08-04T09:57:52.031Z"
   },
   {
    "duration": 11,
    "start_time": "2024-08-04T09:57:52.119Z"
   },
   {
    "duration": 11,
    "start_time": "2024-08-04T09:57:52.193Z"
   },
   {
    "duration": 4,
    "start_time": "2024-08-04T09:57:52.257Z"
   },
   {
    "duration": 18,
    "start_time": "2024-08-04T09:57:52.328Z"
   },
   {
    "duration": 21,
    "start_time": "2024-08-04T09:57:52.392Z"
   },
   {
    "duration": 14,
    "start_time": "2024-08-04T09:57:52.600Z"
   },
   {
    "duration": 12,
    "start_time": "2024-08-04T09:57:53.228Z"
   },
   {
    "duration": 173,
    "start_time": "2024-08-04T09:57:53.397Z"
   },
   {
    "duration": 6,
    "start_time": "2024-08-04T09:57:53.579Z"
   },
   {
    "duration": 7,
    "start_time": "2024-08-04T09:57:53.764Z"
   },
   {
    "duration": 192,
    "start_time": "2024-08-04T09:57:55.311Z"
   },
   {
    "duration": 34,
    "start_time": "2024-08-04T09:57:55.718Z"
   },
   {
    "duration": 7,
    "start_time": "2024-08-04T09:57:56.100Z"
   },
   {
    "duration": 7,
    "start_time": "2024-08-04T09:57:56.393Z"
   },
   {
    "duration": 5,
    "start_time": "2024-08-04T09:57:56.848Z"
   },
   {
    "duration": 5,
    "start_time": "2024-08-04T09:57:57.059Z"
   },
   {
    "duration": 8,
    "start_time": "2024-08-04T09:57:57.273Z"
   },
   {
    "duration": 5,
    "start_time": "2024-08-04T09:57:57.658Z"
   },
   {
    "duration": 5,
    "start_time": "2024-08-04T09:57:58.092Z"
   },
   {
    "duration": 12,
    "start_time": "2024-08-04T09:57:58.425Z"
   },
   {
    "duration": 12,
    "start_time": "2024-08-04T09:58:00.000Z"
   },
   {
    "duration": 18,
    "start_time": "2024-08-04T09:58:01.107Z"
   },
   {
    "duration": 9,
    "start_time": "2024-08-04T09:58:02.967Z"
   },
   {
    "duration": 25,
    "start_time": "2024-08-04T09:58:03.120Z"
   },
   {
    "duration": 6,
    "start_time": "2024-08-04T09:58:03.415Z"
   },
   {
    "duration": 4,
    "start_time": "2024-08-04T09:58:03.580Z"
   },
   {
    "duration": 4,
    "start_time": "2024-08-04T09:58:03.754Z"
   },
   {
    "duration": 6,
    "start_time": "2024-08-04T09:58:03.925Z"
   },
   {
    "duration": 6,
    "start_time": "2024-08-04T09:58:04.097Z"
   },
   {
    "duration": 7,
    "start_time": "2024-08-04T09:58:04.402Z"
   },
   {
    "duration": 4,
    "start_time": "2024-08-04T09:58:04.613Z"
   },
   {
    "duration": 28,
    "start_time": "2024-08-04T09:58:04.783Z"
   },
   {
    "duration": 7,
    "start_time": "2024-08-04T09:58:05.142Z"
   },
   {
    "duration": 18,
    "start_time": "2024-08-04T09:58:05.579Z"
   },
   {
    "duration": 6,
    "start_time": "2024-08-04T09:58:05.740Z"
   },
   {
    "duration": 7,
    "start_time": "2024-08-04T09:58:05.912Z"
   },
   {
    "duration": 4,
    "start_time": "2024-08-04T09:58:06.062Z"
   },
   {
    "duration": 88,
    "start_time": "2024-08-04T09:58:06.383Z"
   },
   {
    "duration": 34,
    "start_time": "2024-08-04T09:58:07.225Z"
   },
   {
    "duration": 28577,
    "start_time": "2024-08-04T09:58:08.210Z"
   },
   {
    "duration": 43858,
    "start_time": "2024-08-04T09:58:36.790Z"
   },
   {
    "duration": 48,
    "start_time": "2024-08-04T09:59:20.650Z"
   },
   {
    "duration": 16495,
    "start_time": "2024-08-04T09:59:20.699Z"
   },
   {
    "duration": 2,
    "start_time": "2024-08-04T09:59:37.196Z"
   },
   {
    "duration": 6,
    "start_time": "2024-08-04T09:59:37.200Z"
   },
   {
    "duration": 1543,
    "start_time": "2024-08-04T10:00:47.262Z"
   },
   {
    "duration": 42,
    "start_time": "2024-08-04T10:00:48.807Z"
   },
   {
    "duration": 22,
    "start_time": "2024-08-04T10:00:49.327Z"
   },
   {
    "duration": 24,
    "start_time": "2024-08-04T10:00:49.502Z"
   },
   {
    "duration": 19,
    "start_time": "2024-08-04T10:00:49.660Z"
   },
   {
    "duration": 16,
    "start_time": "2024-08-04T10:00:49.975Z"
   },
   {
    "duration": 14,
    "start_time": "2024-08-04T10:00:50.326Z"
   },
   {
    "duration": 10,
    "start_time": "2024-08-04T10:00:50.532Z"
   },
   {
    "duration": 13,
    "start_time": "2024-08-04T10:00:51.017Z"
   },
   {
    "duration": 11,
    "start_time": "2024-08-04T10:00:51.370Z"
   },
   {
    "duration": 189,
    "start_time": "2024-08-04T10:00:51.575Z"
   },
   {
    "duration": 9,
    "start_time": "2024-08-04T10:00:52.035Z"
   },
   {
    "duration": 12,
    "start_time": "2024-08-04T10:00:52.355Z"
   },
   {
    "duration": 12,
    "start_time": "2024-08-04T10:00:52.561Z"
   },
   {
    "duration": 8,
    "start_time": "2024-08-04T10:00:52.874Z"
   },
   {
    "duration": 143,
    "start_time": "2024-08-04T10:00:53.082Z"
   },
   {
    "duration": 11,
    "start_time": "2024-08-04T10:00:53.526Z"
   },
   {
    "duration": 15,
    "start_time": "2024-08-04T10:00:53.841Z"
   },
   {
    "duration": 29,
    "start_time": "2024-08-04T10:00:54.011Z"
   },
   {
    "duration": 8,
    "start_time": "2024-08-04T10:00:54.376Z"
   },
   {
    "duration": 7,
    "start_time": "2024-08-04T10:00:54.821Z"
   },
   {
    "duration": 9,
    "start_time": "2024-08-04T10:00:55.162Z"
   },
   {
    "duration": 18,
    "start_time": "2024-08-04T10:00:55.262Z"
   },
   {
    "duration": 6,
    "start_time": "2024-08-04T10:00:55.555Z"
   },
   {
    "duration": 160,
    "start_time": "2024-08-04T10:00:56.197Z"
   },
   {
    "duration": 17,
    "start_time": "2024-08-04T10:00:56.404Z"
   },
   {
    "duration": 17,
    "start_time": "2024-08-04T10:00:56.698Z"
   },
   {
    "duration": 15,
    "start_time": "2024-08-04T10:00:57.051Z"
   },
   {
    "duration": 17,
    "start_time": "2024-08-04T10:00:57.802Z"
   },
   {
    "duration": 16,
    "start_time": "2024-08-04T10:00:58.004Z"
   },
   {
    "duration": 15,
    "start_time": "2024-08-04T10:00:58.209Z"
   },
   {
    "duration": 15,
    "start_time": "2024-08-04T10:00:58.384Z"
   },
   {
    "duration": 3,
    "start_time": "2024-08-04T10:00:58.557Z"
   },
   {
    "duration": 17,
    "start_time": "2024-08-04T10:00:58.661Z"
   },
   {
    "duration": 20,
    "start_time": "2024-08-04T10:00:58.866Z"
   },
   {
    "duration": 13,
    "start_time": "2024-08-04T10:00:59.183Z"
   },
   {
    "duration": 12,
    "start_time": "2024-08-04T10:00:59.668Z"
   },
   {
    "duration": 171,
    "start_time": "2024-08-04T10:00:59.886Z"
   },
   {
    "duration": 6,
    "start_time": "2024-08-04T10:01:00.059Z"
   },
   {
    "duration": 7,
    "start_time": "2024-08-04T10:01:00.227Z"
   },
   {
    "duration": 165,
    "start_time": "2024-08-04T10:01:00.437Z"
   },
   {
    "duration": 25,
    "start_time": "2024-08-04T10:01:00.753Z"
   },
   {
    "duration": 6,
    "start_time": "2024-08-04T10:01:01.169Z"
   },
   {
    "duration": 5,
    "start_time": "2024-08-04T10:01:01.350Z"
   },
   {
    "duration": 6,
    "start_time": "2024-08-04T10:01:01.523Z"
   },
   {
    "duration": 55,
    "start_time": "2024-08-04T10:01:01.701Z"
   },
   {
    "duration": 120,
    "start_time": "2024-08-04T10:01:01.869Z"
   },
   {
    "duration": 6,
    "start_time": "2024-08-04T10:01:02.042Z"
   },
   {
    "duration": 5,
    "start_time": "2024-08-04T10:01:02.224Z"
   },
   {
    "duration": 12,
    "start_time": "2024-08-04T10:01:02.436Z"
   },
   {
    "duration": 11,
    "start_time": "2024-08-04T10:01:02.733Z"
   },
   {
    "duration": 15,
    "start_time": "2024-08-04T10:01:02.908Z"
   },
   {
    "duration": 10,
    "start_time": "2024-08-04T10:01:03.351Z"
   },
   {
    "duration": 108,
    "start_time": "2024-08-04T10:01:03.458Z"
   },
   {
    "duration": 7,
    "start_time": "2024-08-04T10:01:03.891Z"
   },
   {
    "duration": 3,
    "start_time": "2024-08-04T10:01:04.067Z"
   },
   {
    "duration": 5,
    "start_time": "2024-08-04T10:01:04.238Z"
   },
   {
    "duration": 5,
    "start_time": "2024-08-04T10:01:04.411Z"
   },
   {
    "duration": 5,
    "start_time": "2024-08-04T10:01:04.582Z"
   },
   {
    "duration": 6,
    "start_time": "2024-08-04T10:01:04.889Z"
   },
   {
    "duration": 4,
    "start_time": "2024-08-04T10:01:04.995Z"
   },
   {
    "duration": 26,
    "start_time": "2024-08-04T10:01:05.209Z"
   },
   {
    "duration": 8,
    "start_time": "2024-08-04T10:01:05.526Z"
   },
   {
    "duration": 16,
    "start_time": "2024-08-04T10:01:05.875Z"
   },
   {
    "duration": 7,
    "start_time": "2024-08-04T10:01:06.082Z"
   },
   {
    "duration": 6,
    "start_time": "2024-08-04T10:01:06.257Z"
   },
   {
    "duration": 3,
    "start_time": "2024-08-04T10:01:06.462Z"
   },
   {
    "duration": 71,
    "start_time": "2024-08-04T10:01:06.735Z"
   },
   {
    "duration": 27,
    "start_time": "2024-08-04T10:01:06.922Z"
   },
   {
    "duration": 28351,
    "start_time": "2024-08-04T10:01:07.132Z"
   },
   {
    "duration": 45349,
    "start_time": "2024-08-04T10:01:35.487Z"
   },
   {
    "duration": 52,
    "start_time": "2024-08-04T10:02:20.837Z"
   },
   {
    "duration": 12600,
    "start_time": "2024-08-04T10:02:20.891Z"
   },
   {
    "duration": 2,
    "start_time": "2024-08-04T10:02:33.493Z"
   },
   {
    "duration": 79,
    "start_time": "2024-08-04T10:02:33.497Z"
   },
   {
    "duration": 1129,
    "start_time": "2024-08-04T10:03:03.080Z"
   },
   {
    "duration": 918,
    "start_time": "2024-08-04T10:03:10.875Z"
   },
   {
    "duration": 1471,
    "start_time": "2024-08-04T10:03:29.330Z"
   },
   {
    "duration": 42,
    "start_time": "2024-08-04T10:03:30.803Z"
   },
   {
    "duration": 22,
    "start_time": "2024-08-04T10:03:31.526Z"
   },
   {
    "duration": 24,
    "start_time": "2024-08-04T10:03:31.707Z"
   },
   {
    "duration": 29,
    "start_time": "2024-08-04T10:03:31.949Z"
   },
   {
    "duration": 16,
    "start_time": "2024-08-04T10:03:32.308Z"
   },
   {
    "duration": 14,
    "start_time": "2024-08-04T10:03:32.649Z"
   },
   {
    "duration": 16,
    "start_time": "2024-08-04T10:03:32.857Z"
   },
   {
    "duration": 12,
    "start_time": "2024-08-04T10:03:33.209Z"
   },
   {
    "duration": 11,
    "start_time": "2024-08-04T10:03:33.545Z"
   },
   {
    "duration": 199,
    "start_time": "2024-08-04T10:03:33.749Z"
   },
   {
    "duration": 9,
    "start_time": "2024-08-04T10:03:34.195Z"
   },
   {
    "duration": 15,
    "start_time": "2024-08-04T10:03:34.539Z"
   },
   {
    "duration": 13,
    "start_time": "2024-08-04T10:03:34.740Z"
   },
   {
    "duration": 9,
    "start_time": "2024-08-04T10:03:35.073Z"
   },
   {
    "duration": 123,
    "start_time": "2024-08-04T10:03:35.274Z"
   },
   {
    "duration": 11,
    "start_time": "2024-08-04T10:03:35.723Z"
   },
   {
    "duration": 13,
    "start_time": "2024-08-04T10:03:36.068Z"
   },
   {
    "duration": 31,
    "start_time": "2024-08-04T10:03:36.237Z"
   },
   {
    "duration": 12,
    "start_time": "2024-08-04T10:03:36.473Z"
   },
   {
    "duration": 8,
    "start_time": "2024-08-04T10:03:36.697Z"
   },
   {
    "duration": 11,
    "start_time": "2024-08-04T10:03:36.934Z"
   },
   {
    "duration": 16,
    "start_time": "2024-08-04T10:03:36.993Z"
   },
   {
    "duration": 6,
    "start_time": "2024-08-04T10:03:37.201Z"
   },
   {
    "duration": 152,
    "start_time": "2024-08-04T10:03:40.613Z"
   },
   {
    "duration": 16,
    "start_time": "2024-08-04T10:03:40.929Z"
   },
   {
    "duration": 17,
    "start_time": "2024-08-04T10:03:42.260Z"
   },
   {
    "duration": 16,
    "start_time": "2024-08-04T10:03:42.946Z"
   },
   {
    "duration": 12,
    "start_time": "2024-08-04T10:03:45.397Z"
   },
   {
    "duration": 14,
    "start_time": "2024-08-04T10:03:45.607Z"
   },
   {
    "duration": 9,
    "start_time": "2024-08-04T10:03:45.800Z"
   },
   {
    "duration": 11,
    "start_time": "2024-08-04T10:03:46.149Z"
   },
   {
    "duration": 3,
    "start_time": "2024-08-04T10:03:47.061Z"
   },
   {
    "duration": 17,
    "start_time": "2024-08-04T10:03:47.613Z"
   },
   {
    "duration": 20,
    "start_time": "2024-08-04T10:03:47.802Z"
   },
   {
    "duration": 21,
    "start_time": "2024-08-04T10:03:48.263Z"
   },
   {
    "duration": 12,
    "start_time": "2024-08-04T10:03:50.330Z"
   },
   {
    "duration": 190,
    "start_time": "2024-08-04T10:03:50.534Z"
   },
   {
    "duration": 5,
    "start_time": "2024-08-04T10:03:50.726Z"
   },
   {
    "duration": 7,
    "start_time": "2024-08-04T10:03:51.088Z"
   },
   {
    "duration": 164,
    "start_time": "2024-08-04T10:03:51.209Z"
   },
   {
    "duration": 26,
    "start_time": "2024-08-04T10:03:52.265Z"
   },
   {
    "duration": 7,
    "start_time": "2024-08-04T10:03:53.560Z"
   },
   {
    "duration": 5,
    "start_time": "2024-08-04T10:03:53.749Z"
   },
   {
    "duration": 7,
    "start_time": "2024-08-04T10:03:54.082Z"
   },
   {
    "duration": 5,
    "start_time": "2024-08-04T10:03:54.847Z"
   },
   {
    "duration": 5,
    "start_time": "2024-08-04T10:03:55.231Z"
   },
   {
    "duration": 8,
    "start_time": "2024-08-04T10:03:55.878Z"
   },
   {
    "duration": 5,
    "start_time": "2024-08-04T10:03:56.443Z"
   },
   {
    "duration": 12,
    "start_time": "2024-08-04T10:03:56.813Z"
   },
   {
    "duration": 11,
    "start_time": "2024-08-04T10:03:58.695Z"
   },
   {
    "duration": 17,
    "start_time": "2024-08-04T10:03:59.633Z"
   },
   {
    "duration": 5,
    "start_time": "2024-08-04T10:04:02.044Z"
   },
   {
    "duration": 28,
    "start_time": "2024-08-04T10:04:05.030Z"
   },
   {
    "duration": 6,
    "start_time": "2024-08-04T10:04:07.079Z"
   },
   {
    "duration": 2,
    "start_time": "2024-08-04T10:04:08.496Z"
   },
   {
    "duration": 4,
    "start_time": "2024-08-04T10:04:08.741Z"
   },
   {
    "duration": 6,
    "start_time": "2024-08-04T10:04:08.957Z"
   },
   {
    "duration": 4,
    "start_time": "2024-08-04T10:04:09.147Z"
   },
   {
    "duration": 7,
    "start_time": "2024-08-04T10:04:09.533Z"
   },
   {
    "duration": 4,
    "start_time": "2024-08-04T10:04:09.709Z"
   },
   {
    "duration": 27,
    "start_time": "2024-08-04T10:04:09.898Z"
   },
   {
    "duration": 8,
    "start_time": "2024-08-04T10:04:10.288Z"
   },
   {
    "duration": 12,
    "start_time": "2024-08-04T10:04:10.647Z"
   },
   {
    "duration": 6,
    "start_time": "2024-08-04T10:04:10.813Z"
   },
   {
    "duration": 6,
    "start_time": "2024-08-04T10:04:11.017Z"
   },
   {
    "duration": 4,
    "start_time": "2024-08-04T10:04:11.155Z"
   },
   {
    "duration": 66,
    "start_time": "2024-08-04T10:04:12.195Z"
   },
   {
    "duration": 28,
    "start_time": "2024-08-04T10:04:12.779Z"
   },
   {
    "duration": 27597,
    "start_time": "2024-08-04T10:04:13.885Z"
   },
   {
    "duration": 42979,
    "start_time": "2024-08-04T10:04:41.485Z"
   },
   {
    "duration": 50,
    "start_time": "2024-08-04T10:05:24.466Z"
   },
   {
    "duration": 16989,
    "start_time": "2024-08-04T10:05:24.518Z"
   },
   {
    "duration": 1645,
    "start_time": "2024-08-04T10:58:40.556Z"
   },
   {
    "duration": 48,
    "start_time": "2024-08-04T10:58:42.203Z"
   },
   {
    "duration": 23,
    "start_time": "2024-08-04T10:58:42.330Z"
   },
   {
    "duration": 23,
    "start_time": "2024-08-04T10:58:42.549Z"
   },
   {
    "duration": 29,
    "start_time": "2024-08-04T10:58:43.371Z"
   },
   {
    "duration": 15,
    "start_time": "2024-08-04T10:58:44.403Z"
   },
   {
    "duration": 20,
    "start_time": "2024-08-04T10:58:45.049Z"
   },
   {
    "duration": 18,
    "start_time": "2024-08-04T10:58:51.966Z"
   },
   {
    "duration": 16,
    "start_time": "2024-08-04T10:58:53.916Z"
   },
   {
    "duration": 11,
    "start_time": "2024-08-04T10:58:54.669Z"
   },
   {
    "duration": 223,
    "start_time": "2024-08-04T10:58:55.949Z"
   },
   {
    "duration": 9,
    "start_time": "2024-08-04T10:58:58.017Z"
   },
   {
    "duration": 12,
    "start_time": "2024-08-04T10:58:58.617Z"
   },
   {
    "duration": 12,
    "start_time": "2024-08-04T10:59:00.434Z"
   },
   {
    "duration": 8,
    "start_time": "2024-08-04T10:59:02.285Z"
   },
   {
    "duration": 138,
    "start_time": "2024-08-04T10:59:03.067Z"
   },
   {
    "duration": 11,
    "start_time": "2024-08-04T10:59:05.580Z"
   },
   {
    "duration": 11,
    "start_time": "2024-08-04T10:59:08.451Z"
   },
   {
    "duration": 32,
    "start_time": "2024-08-04T10:59:09.258Z"
   },
   {
    "duration": 10,
    "start_time": "2024-08-04T10:59:10.682Z"
   },
   {
    "duration": 8,
    "start_time": "2024-08-04T10:59:13.135Z"
   },
   {
    "duration": 10,
    "start_time": "2024-08-04T10:59:14.100Z"
   },
   {
    "duration": 17,
    "start_time": "2024-08-04T10:59:16.721Z"
   },
   {
    "duration": 6,
    "start_time": "2024-08-04T10:59:18.753Z"
   },
   {
    "duration": 161,
    "start_time": "2024-08-04T10:59:27.250Z"
   },
   {
    "duration": 16,
    "start_time": "2024-08-04T10:59:27.982Z"
   },
   {
    "duration": 15,
    "start_time": "2024-08-04T10:59:28.584Z"
   },
   {
    "duration": 15,
    "start_time": "2024-08-04T10:59:29.249Z"
   },
   {
    "duration": 11,
    "start_time": "2024-08-04T11:00:00.772Z"
   },
   {
    "duration": 15,
    "start_time": "2024-08-04T11:00:02.434Z"
   },
   {
    "duration": 13,
    "start_time": "2024-08-04T11:00:03.970Z"
   },
   {
    "duration": 11,
    "start_time": "2024-08-04T11:00:05.545Z"
   },
   {
    "duration": 3,
    "start_time": "2024-08-04T11:00:07.152Z"
   },
   {
    "duration": 17,
    "start_time": "2024-08-04T11:00:08.169Z"
   },
   {
    "duration": 21,
    "start_time": "2024-08-04T11:00:09.735Z"
   },
   {
    "duration": 15,
    "start_time": "2024-08-04T11:00:11.450Z"
   },
   {
    "duration": 12,
    "start_time": "2024-08-04T11:00:14.601Z"
   },
   {
    "duration": 164,
    "start_time": "2024-08-04T11:00:15.318Z"
   },
   {
    "duration": 6,
    "start_time": "2024-08-04T11:00:16.638Z"
   },
   {
    "duration": 8,
    "start_time": "2024-08-04T11:00:17.682Z"
   },
   {
    "duration": 170,
    "start_time": "2024-08-04T11:00:32.170Z"
   },
   {
    "duration": 27,
    "start_time": "2024-08-04T11:00:34.970Z"
   },
   {
    "duration": 7,
    "start_time": "2024-08-04T11:00:41.542Z"
   },
   {
    "duration": 7,
    "start_time": "2024-08-04T11:00:41.936Z"
   },
   {
    "duration": 5,
    "start_time": "2024-08-04T11:00:42.088Z"
   },
   {
    "duration": 5,
    "start_time": "2024-08-04T11:00:42.241Z"
   },
   {
    "duration": 5,
    "start_time": "2024-08-04T11:00:42.811Z"
   },
   {
    "duration": 5,
    "start_time": "2024-08-04T11:00:42.986Z"
   },
   {
    "duration": 5,
    "start_time": "2024-08-04T11:00:44.286Z"
   },
   {
    "duration": 12,
    "start_time": "2024-08-04T11:00:45.369Z"
   },
   {
    "duration": 15,
    "start_time": "2024-08-04T11:00:47.178Z"
   },
   {
    "duration": 19,
    "start_time": "2024-08-04T11:00:48.555Z"
   },
   {
    "duration": 5,
    "start_time": "2024-08-04T11:00:50.671Z"
   },
   {
    "duration": 26,
    "start_time": "2024-08-04T11:00:50.901Z"
   },
   {
    "duration": 7,
    "start_time": "2024-08-04T11:01:07.940Z"
   },
   {
    "duration": 3,
    "start_time": "2024-08-04T11:01:08.671Z"
   },
   {
    "duration": 4,
    "start_time": "2024-08-04T11:01:09.435Z"
   },
   {
    "duration": 6,
    "start_time": "2024-08-04T11:01:10.201Z"
   },
   {
    "duration": 4,
    "start_time": "2024-08-04T11:01:10.916Z"
   },
   {
    "duration": 6,
    "start_time": "2024-08-04T11:01:12.934Z"
   },
   {
    "duration": 4,
    "start_time": "2024-08-04T11:01:13.469Z"
   },
   {
    "duration": 27,
    "start_time": "2024-08-04T11:01:14.384Z"
   },
   {
    "duration": 7,
    "start_time": "2024-08-04T11:01:15.517Z"
   },
   {
    "duration": 20,
    "start_time": "2024-08-04T11:01:35.875Z"
   },
   {
    "duration": 7,
    "start_time": "2024-08-04T11:02:26.056Z"
   },
   {
    "duration": 7,
    "start_time": "2024-08-04T11:02:28.985Z"
   },
   {
    "duration": 5,
    "start_time": "2024-08-04T11:02:30.310Z"
   },
   {
    "duration": 4,
    "start_time": "2024-08-04T11:02:56.257Z"
   },
   {
    "duration": 73,
    "start_time": "2024-08-04T11:02:57.271Z"
   },
   {
    "duration": 27,
    "start_time": "2024-08-04T11:02:58.969Z"
   },
   {
    "duration": 27358,
    "start_time": "2024-08-04T11:04:22.225Z"
   },
   {
    "duration": 42961,
    "start_time": "2024-08-04T11:04:49.586Z"
   },
   {
    "duration": 60,
    "start_time": "2024-08-04T11:05:32.548Z"
   },
   {
    "duration": 14194,
    "start_time": "2024-08-04T11:05:32.611Z"
   },
   {
    "duration": 3931,
    "start_time": "2024-08-04T11:09:15.794Z"
   },
   {
    "duration": 26,
    "start_time": "2024-08-04T11:10:09.813Z"
   },
   {
    "duration": 24,
    "start_time": "2024-08-04T11:10:20.527Z"
   },
   {
    "duration": 26,
    "start_time": "2024-08-04T11:14:46.782Z"
   },
   {
    "duration": 1616,
    "start_time": "2024-08-04T11:15:14.543Z"
   },
   {
    "duration": 43,
    "start_time": "2024-08-04T11:15:16.161Z"
   },
   {
    "duration": 23,
    "start_time": "2024-08-04T11:15:16.205Z"
   },
   {
    "duration": 22,
    "start_time": "2024-08-04T11:15:16.230Z"
   },
   {
    "duration": 18,
    "start_time": "2024-08-04T11:15:16.254Z"
   },
   {
    "duration": 20,
    "start_time": "2024-08-04T11:15:16.273Z"
   },
   {
    "duration": 16,
    "start_time": "2024-08-04T11:15:16.295Z"
   },
   {
    "duration": 10,
    "start_time": "2024-08-04T11:15:20.752Z"
   },
   {
    "duration": 15,
    "start_time": "2024-08-04T11:15:21.085Z"
   },
   {
    "duration": 15,
    "start_time": "2024-08-04T11:15:21.351Z"
   },
   {
    "duration": 178,
    "start_time": "2024-08-04T11:15:21.539Z"
   },
   {
    "duration": 8,
    "start_time": "2024-08-04T11:15:22.125Z"
   },
   {
    "duration": 12,
    "start_time": "2024-08-04T11:15:22.381Z"
   },
   {
    "duration": 14,
    "start_time": "2024-08-04T11:15:22.549Z"
   },
   {
    "duration": 8,
    "start_time": "2024-08-04T11:15:22.881Z"
   },
   {
    "duration": 134,
    "start_time": "2024-08-04T11:15:22.980Z"
   },
   {
    "duration": 12,
    "start_time": "2024-08-04T11:15:23.528Z"
   },
   {
    "duration": 15,
    "start_time": "2024-08-04T11:15:23.888Z"
   },
   {
    "duration": 34,
    "start_time": "2024-08-04T11:15:24.080Z"
   },
   {
    "duration": 9,
    "start_time": "2024-08-04T11:15:24.437Z"
   },
   {
    "duration": 8,
    "start_time": "2024-08-04T11:15:24.868Z"
   },
   {
    "duration": 11,
    "start_time": "2024-08-04T11:15:25.203Z"
   },
   {
    "duration": 15,
    "start_time": "2024-08-04T11:15:25.301Z"
   },
   {
    "duration": 7,
    "start_time": "2024-08-04T11:15:25.645Z"
   },
   {
    "duration": 156,
    "start_time": "2024-08-04T11:15:26.243Z"
   },
   {
    "duration": 16,
    "start_time": "2024-08-04T11:15:26.408Z"
   },
   {
    "duration": 16,
    "start_time": "2024-08-04T11:15:26.740Z"
   },
   {
    "duration": 15,
    "start_time": "2024-08-04T11:15:26.989Z"
   },
   {
    "duration": 11,
    "start_time": "2024-08-04T11:15:27.513Z"
   },
   {
    "duration": 25,
    "start_time": "2024-08-04T11:15:27.592Z"
   },
   {
    "duration": 10,
    "start_time": "2024-08-04T11:15:27.733Z"
   },
   {
    "duration": 12,
    "start_time": "2024-08-04T11:15:27.892Z"
   },
   {
    "duration": 3,
    "start_time": "2024-08-04T11:15:28.051Z"
   },
   {
    "duration": 18,
    "start_time": "2024-08-04T11:15:28.129Z"
   },
   {
    "duration": 22,
    "start_time": "2024-08-04T11:15:28.266Z"
   },
   {
    "duration": 13,
    "start_time": "2024-08-04T11:15:28.417Z"
   },
   {
    "duration": 13,
    "start_time": "2024-08-04T11:15:28.937Z"
   },
   {
    "duration": 165,
    "start_time": "2024-08-04T11:15:29.238Z"
   },
   {
    "duration": 7,
    "start_time": "2024-08-04T11:15:29.493Z"
   },
   {
    "duration": 7,
    "start_time": "2024-08-04T11:15:29.787Z"
   },
   {
    "duration": 180,
    "start_time": "2024-08-04T11:15:29.983Z"
   },
   {
    "duration": 27,
    "start_time": "2024-08-04T11:15:30.320Z"
   },
   {
    "duration": 5,
    "start_time": "2024-08-04T11:15:30.669Z"
   },
   {
    "duration": 5,
    "start_time": "2024-08-04T11:15:30.851Z"
   },
   {
    "duration": 7,
    "start_time": "2024-08-04T11:15:31.036Z"
   },
   {
    "duration": 6,
    "start_time": "2024-08-04T11:15:31.229Z"
   },
   {
    "duration": 7,
    "start_time": "2024-08-04T11:15:31.400Z"
   },
   {
    "duration": 5,
    "start_time": "2024-08-04T11:15:31.596Z"
   },
   {
    "duration": 5,
    "start_time": "2024-08-04T11:15:31.754Z"
   },
   {
    "duration": 18,
    "start_time": "2024-08-04T11:15:31.959Z"
   },
   {
    "duration": 10,
    "start_time": "2024-08-04T11:15:32.433Z"
   },
   {
    "duration": 15,
    "start_time": "2024-08-04T11:15:32.619Z"
   },
   {
    "duration": 5,
    "start_time": "2024-08-04T11:15:33.070Z"
   },
   {
    "duration": 25,
    "start_time": "2024-08-04T11:15:33.266Z"
   },
   {
    "duration": 5,
    "start_time": "2024-08-04T11:15:33.682Z"
   },
   {
    "duration": 4,
    "start_time": "2024-08-04T11:15:33.843Z"
   },
   {
    "duration": 4,
    "start_time": "2024-08-04T11:15:34.011Z"
   },
   {
    "duration": 6,
    "start_time": "2024-08-04T11:15:34.173Z"
   },
   {
    "duration": 4,
    "start_time": "2024-08-04T11:15:34.336Z"
   },
   {
    "duration": 5,
    "start_time": "2024-08-04T11:15:34.624Z"
   },
   {
    "duration": 6,
    "start_time": "2024-08-04T11:15:34.895Z"
   },
   {
    "duration": 27,
    "start_time": "2024-08-04T11:15:35.342Z"
   },
   {
    "duration": 7,
    "start_time": "2024-08-04T11:15:35.806Z"
   },
   {
    "duration": 12,
    "start_time": "2024-08-04T11:15:36.837Z"
   },
   {
    "duration": 6,
    "start_time": "2024-08-04T11:15:37.286Z"
   },
   {
    "duration": 3,
    "start_time": "2024-08-04T11:15:37.490Z"
   },
   {
    "duration": 67,
    "start_time": "2024-08-04T11:15:37.988Z"
   },
   {
    "duration": 26,
    "start_time": "2024-08-04T11:15:38.570Z"
   },
   {
    "duration": 26845,
    "start_time": "2024-08-04T11:15:38.938Z"
   },
   {
    "duration": 42944,
    "start_time": "2024-08-04T11:16:05.789Z"
   },
   {
    "duration": 56,
    "start_time": "2024-08-04T11:16:48.735Z"
   },
   {
    "duration": 148,
    "start_time": "2024-08-04T11:16:48.795Z"
   },
   {
    "duration": 28,
    "start_time": "2024-08-04T11:17:25.769Z"
   },
   {
    "duration": 37272,
    "start_time": "2024-08-04T11:18:15.213Z"
   },
   {
    "duration": 32654,
    "start_time": "2024-08-04T11:20:03.638Z"
   },
   {
    "duration": 2,
    "start_time": "2024-08-04T11:22:13.128Z"
   },
   {
    "duration": 15627,
    "start_time": "2024-08-04T11:23:33.426Z"
   },
   {
    "duration": 16131,
    "start_time": "2024-08-04T11:24:37.020Z"
   },
   {
    "duration": 64,
    "start_time": "2024-08-04T11:25:19.365Z"
   },
   {
    "duration": 15804,
    "start_time": "2024-08-04T11:25:35.728Z"
   },
   {
    "duration": 572047,
    "start_time": "2024-08-04T11:30:05.791Z"
   },
   {
    "duration": 6986,
    "start_time": "2024-08-04T11:40:56.993Z"
   },
   {
    "duration": 27474,
    "start_time": "2024-08-04T11:41:16.597Z"
   },
   {
    "duration": 238880,
    "start_time": "2024-08-04T11:43:11.283Z"
   },
   {
    "duration": 155571,
    "start_time": "2024-08-04T11:48:26.421Z"
   },
   {
    "duration": 11,
    "start_time": "2024-08-04T11:53:11.168Z"
   },
   {
    "duration": 11,
    "start_time": "2024-08-04T11:53:28.058Z"
   },
   {
    "duration": 67380,
    "start_time": "2024-08-04T11:54:23.107Z"
   },
   {
    "duration": 2,
    "start_time": "2024-08-04T11:56:10.026Z"
   },
   {
    "duration": 319237,
    "start_time": "2024-08-04T11:56:11.687Z"
   },
   {
    "duration": 836258,
    "start_time": "2024-08-04T12:01:57.784Z"
   },
   {
    "duration": 451681,
    "start_time": "2024-08-04T12:16:37.002Z"
   },
   {
    "duration": 148270,
    "start_time": "2024-08-04T12:24:43.636Z"
   },
   {
    "duration": 286326,
    "start_time": "2024-08-04T12:28:17.154Z"
   },
   {
    "duration": 178619,
    "start_time": "2024-08-04T12:33:32.979Z"
   },
   {
    "duration": 1564,
    "start_time": "2024-08-04T12:49:08.271Z"
   },
   {
    "duration": 42,
    "start_time": "2024-08-04T12:49:09.837Z"
   },
   {
    "duration": 50,
    "start_time": "2024-08-04T12:49:09.881Z"
   },
   {
    "duration": 164,
    "start_time": "2024-08-04T12:49:09.934Z"
   },
   {
    "duration": 18,
    "start_time": "2024-08-04T12:49:10.100Z"
   },
   {
    "duration": 21,
    "start_time": "2024-08-04T12:49:10.119Z"
   },
   {
    "duration": 25,
    "start_time": "2024-08-04T12:49:10.141Z"
   },
   {
    "duration": 16,
    "start_time": "2024-08-04T12:49:10.167Z"
   },
   {
    "duration": 11,
    "start_time": "2024-08-04T12:49:11.197Z"
   },
   {
    "duration": 14,
    "start_time": "2024-08-04T12:49:11.513Z"
   },
   {
    "duration": 188,
    "start_time": "2024-08-04T12:49:11.702Z"
   },
   {
    "duration": 9,
    "start_time": "2024-08-04T12:49:12.147Z"
   },
   {
    "duration": 11,
    "start_time": "2024-08-04T12:49:12.520Z"
   },
   {
    "duration": 11,
    "start_time": "2024-08-04T12:49:12.738Z"
   },
   {
    "duration": 9,
    "start_time": "2024-08-04T12:49:13.096Z"
   },
   {
    "duration": 132,
    "start_time": "2024-08-04T12:49:13.291Z"
   },
   {
    "duration": 11,
    "start_time": "2024-08-04T12:49:13.626Z"
   },
   {
    "duration": 14,
    "start_time": "2024-08-04T12:49:13.961Z"
   },
   {
    "duration": 31,
    "start_time": "2024-08-04T12:49:14.150Z"
   },
   {
    "duration": 10,
    "start_time": "2024-08-04T12:49:14.525Z"
   },
   {
    "duration": 8,
    "start_time": "2024-08-04T12:49:15.277Z"
   },
   {
    "duration": 10,
    "start_time": "2024-08-04T12:49:15.557Z"
   },
   {
    "duration": 16,
    "start_time": "2024-08-04T12:49:15.649Z"
   },
   {
    "duration": 6,
    "start_time": "2024-08-04T12:49:15.956Z"
   },
   {
    "duration": 165,
    "start_time": "2024-08-04T12:49:16.730Z"
   },
   {
    "duration": 17,
    "start_time": "2024-08-04T12:49:16.933Z"
   },
   {
    "duration": 17,
    "start_time": "2024-08-04T12:49:17.326Z"
   },
   {
    "duration": 18,
    "start_time": "2024-08-04T12:49:17.609Z"
   },
   {
    "duration": 11,
    "start_time": "2024-08-04T12:49:18.456Z"
   },
   {
    "duration": 15,
    "start_time": "2024-08-04T12:49:18.678Z"
   },
   {
    "duration": 11,
    "start_time": "2024-08-04T12:49:18.917Z"
   },
   {
    "duration": 11,
    "start_time": "2024-08-04T12:49:19.146Z"
   },
   {
    "duration": 4,
    "start_time": "2024-08-04T12:49:19.337Z"
   },
   {
    "duration": 17,
    "start_time": "2024-08-04T12:49:19.565Z"
   },
   {
    "duration": 20,
    "start_time": "2024-08-04T12:49:19.807Z"
   },
   {
    "duration": 14,
    "start_time": "2024-08-04T12:49:20.192Z"
   },
   {
    "duration": 13,
    "start_time": "2024-08-04T12:49:20.738Z"
   },
   {
    "duration": 189,
    "start_time": "2024-08-04T12:49:20.969Z"
   },
   {
    "duration": 8,
    "start_time": "2024-08-04T12:49:21.160Z"
   },
   {
    "duration": 8,
    "start_time": "2024-08-04T12:49:21.308Z"
   },
   {
    "duration": 162,
    "start_time": "2024-08-04T12:49:21.412Z"
   },
   {
    "duration": 26,
    "start_time": "2024-08-04T12:49:21.677Z"
   },
   {
    "duration": 5,
    "start_time": "2024-08-04T12:49:22.181Z"
   },
   {
    "duration": 5,
    "start_time": "2024-08-04T12:49:22.417Z"
   },
   {
    "duration": 5,
    "start_time": "2024-08-04T12:49:22.573Z"
   },
   {
    "duration": 5,
    "start_time": "2024-08-04T12:49:22.743Z"
   },
   {
    "duration": 5,
    "start_time": "2024-08-04T12:49:22.945Z"
   },
   {
    "duration": 5,
    "start_time": "2024-08-04T12:49:23.135Z"
   },
   {
    "duration": 5,
    "start_time": "2024-08-04T12:49:23.360Z"
   },
   {
    "duration": 20,
    "start_time": "2024-08-04T12:49:23.588Z"
   },
   {
    "duration": 16,
    "start_time": "2024-08-04T12:49:23.928Z"
   },
   {
    "duration": 18,
    "start_time": "2024-08-04T12:49:24.121Z"
   },
   {
    "duration": 5,
    "start_time": "2024-08-04T12:49:24.595Z"
   },
   {
    "duration": 25,
    "start_time": "2024-08-04T12:49:24.708Z"
   },
   {
    "duration": 5,
    "start_time": "2024-08-04T12:49:25.172Z"
   },
   {
    "duration": 3,
    "start_time": "2024-08-04T12:49:25.358Z"
   },
   {
    "duration": 5,
    "start_time": "2024-08-04T12:49:25.549Z"
   },
   {
    "duration": 5,
    "start_time": "2024-08-04T12:49:25.733Z"
   },
   {
    "duration": 5,
    "start_time": "2024-08-04T12:49:25.922Z"
   },
   {
    "duration": 5,
    "start_time": "2024-08-04T12:49:26.262Z"
   },
   {
    "duration": 4,
    "start_time": "2024-08-04T12:49:26.505Z"
   },
   {
    "duration": 26,
    "start_time": "2024-08-04T12:49:26.696Z"
   },
   {
    "duration": 8,
    "start_time": "2024-08-04T12:49:26.980Z"
   },
   {
    "duration": 12,
    "start_time": "2024-08-04T12:49:28.062Z"
   },
   {
    "duration": 6,
    "start_time": "2024-08-04T12:49:28.385Z"
   },
   {
    "duration": 4,
    "start_time": "2024-08-04T12:49:28.607Z"
   },
   {
    "duration": 68,
    "start_time": "2024-08-04T12:49:29.816Z"
   },
   {
    "duration": 27,
    "start_time": "2024-08-04T12:49:30.582Z"
   },
   {
    "duration": 27102,
    "start_time": "2024-08-04T12:49:31.180Z"
   },
   {
    "duration": 43434,
    "start_time": "2024-08-04T12:49:58.285Z"
   },
   {
    "duration": 41,
    "start_time": "2024-08-04T12:50:41.721Z"
   },
   {
    "duration": 20,
    "start_time": "2024-08-04T12:50:41.764Z"
   },
   {
    "duration": 0,
    "start_time": "2024-08-04T12:50:41.785Z"
   },
   {
    "duration": 43769,
    "start_time": "2024-08-04T12:50:59.160Z"
   },
   {
    "duration": 0,
    "start_time": "2024-08-04T12:51:42.930Z"
   },
   {
    "duration": 42379,
    "start_time": "2024-08-04T12:51:53.111Z"
   },
   {
    "duration": 3,
    "start_time": "2024-08-04T12:52:35.491Z"
   },
   {
    "duration": 53497,
    "start_time": "2024-08-04T12:53:16.896Z"
   },
   {
    "duration": 3,
    "start_time": "2024-08-04T12:54:24.369Z"
   },
   {
    "duration": 173200,
    "start_time": "2024-08-04T12:54:26.225Z"
   },
   {
    "duration": 4,
    "start_time": "2024-08-04T12:58:10.840Z"
   },
   {
    "duration": 34,
    "start_time": "2024-08-04T12:58:17.832Z"
   },
   {
    "duration": 1825,
    "start_time": "2024-08-04T13:33:43.272Z"
   },
   {
    "duration": 43,
    "start_time": "2024-08-04T13:33:45.099Z"
   },
   {
    "duration": 22,
    "start_time": "2024-08-04T13:33:45.516Z"
   },
   {
    "duration": 29,
    "start_time": "2024-08-04T13:33:46.037Z"
   },
   {
    "duration": 33,
    "start_time": "2024-08-04T13:33:46.220Z"
   },
   {
    "duration": 23,
    "start_time": "2024-08-04T13:33:46.520Z"
   },
   {
    "duration": 16,
    "start_time": "2024-08-04T13:33:46.788Z"
   },
   {
    "duration": 11,
    "start_time": "2024-08-04T13:33:46.965Z"
   },
   {
    "duration": 14,
    "start_time": "2024-08-04T13:33:47.382Z"
   },
   {
    "duration": 11,
    "start_time": "2024-08-04T13:33:47.716Z"
   },
   {
    "duration": 284,
    "start_time": "2024-08-04T13:33:47.827Z"
   },
   {
    "duration": 13,
    "start_time": "2024-08-04T13:33:48.346Z"
   },
   {
    "duration": 13,
    "start_time": "2024-08-04T13:33:48.720Z"
   },
   {
    "duration": 16,
    "start_time": "2024-08-04T13:33:48.916Z"
   },
   {
    "duration": 8,
    "start_time": "2024-08-04T13:33:49.255Z"
   },
   {
    "duration": 146,
    "start_time": "2024-08-04T13:33:49.368Z"
   },
   {
    "duration": 11,
    "start_time": "2024-08-04T13:33:49.940Z"
   },
   {
    "duration": 13,
    "start_time": "2024-08-04T13:33:50.313Z"
   },
   {
    "duration": 53,
    "start_time": "2024-08-04T13:33:50.537Z"
   },
   {
    "duration": 8,
    "start_time": "2024-08-04T13:33:50.909Z"
   },
   {
    "duration": 10,
    "start_time": "2024-08-04T13:33:51.388Z"
   },
   {
    "duration": 10,
    "start_time": "2024-08-04T13:33:51.700Z"
   },
   {
    "duration": 16,
    "start_time": "2024-08-04T13:33:51.913Z"
   },
   {
    "duration": 10,
    "start_time": "2024-08-04T13:33:52.196Z"
   },
   {
    "duration": 164,
    "start_time": "2024-08-04T13:33:52.894Z"
   },
   {
    "duration": 27,
    "start_time": "2024-08-04T13:33:53.060Z"
   },
   {
    "duration": 15,
    "start_time": "2024-08-04T13:33:53.324Z"
   },
   {
    "duration": 15,
    "start_time": "2024-08-04T13:33:53.606Z"
   },
   {
    "duration": 11,
    "start_time": "2024-08-04T13:33:54.498Z"
   },
   {
    "duration": 15,
    "start_time": "2024-08-04T13:33:54.610Z"
   },
   {
    "duration": 10,
    "start_time": "2024-08-04T13:33:54.832Z"
   },
   {
    "duration": 11,
    "start_time": "2024-08-04T13:33:55.029Z"
   },
   {
    "duration": 3,
    "start_time": "2024-08-04T13:33:55.213Z"
   },
   {
    "duration": 18,
    "start_time": "2024-08-04T13:33:55.400Z"
   },
   {
    "duration": 20,
    "start_time": "2024-08-04T13:33:55.630Z"
   },
   {
    "duration": 15,
    "start_time": "2024-08-04T13:33:55.934Z"
   },
   {
    "duration": 14,
    "start_time": "2024-08-04T13:33:56.414Z"
   },
   {
    "duration": 169,
    "start_time": "2024-08-04T13:33:56.637Z"
   },
   {
    "duration": 6,
    "start_time": "2024-08-04T13:33:56.838Z"
   },
   {
    "duration": 7,
    "start_time": "2024-08-04T13:33:57.020Z"
   },
   {
    "duration": 164,
    "start_time": "2024-08-04T13:33:57.242Z"
   },
   {
    "duration": 27,
    "start_time": "2024-08-04T13:33:57.578Z"
   },
   {
    "duration": 5,
    "start_time": "2024-08-04T13:33:58.002Z"
   },
   {
    "duration": 8,
    "start_time": "2024-08-04T13:33:58.188Z"
   },
   {
    "duration": 5,
    "start_time": "2024-08-04T13:33:58.379Z"
   },
   {
    "duration": 5,
    "start_time": "2024-08-04T13:33:58.566Z"
   },
   {
    "duration": 6,
    "start_time": "2024-08-04T13:33:58.753Z"
   },
   {
    "duration": 8,
    "start_time": "2024-08-04T13:33:58.949Z"
   },
   {
    "duration": 6,
    "start_time": "2024-08-04T13:33:59.171Z"
   },
   {
    "duration": 13,
    "start_time": "2024-08-04T13:33:59.397Z"
   },
   {
    "duration": 11,
    "start_time": "2024-08-04T13:33:59.731Z"
   },
   {
    "duration": 14,
    "start_time": "2024-08-04T13:33:59.919Z"
   },
   {
    "duration": 4,
    "start_time": "2024-08-04T13:34:00.401Z"
   },
   {
    "duration": 24,
    "start_time": "2024-08-04T13:34:00.517Z"
   },
   {
    "duration": 6,
    "start_time": "2024-08-04T13:34:00.865Z"
   },
   {
    "duration": 3,
    "start_time": "2024-08-04T13:34:01.090Z"
   },
   {
    "duration": 5,
    "start_time": "2024-08-04T13:34:01.283Z"
   },
   {
    "duration": 5,
    "start_time": "2024-08-04T13:34:01.468Z"
   },
   {
    "duration": 5,
    "start_time": "2024-08-04T13:34:01.653Z"
   },
   {
    "duration": 6,
    "start_time": "2024-08-04T13:34:01.984Z"
   },
   {
    "duration": 4,
    "start_time": "2024-08-04T13:34:02.096Z"
   },
   {
    "duration": 30,
    "start_time": "2024-08-04T13:34:02.334Z"
   },
   {
    "duration": 10,
    "start_time": "2024-08-04T13:34:02.639Z"
   },
   {
    "duration": 24,
    "start_time": "2024-08-04T13:34:02.977Z"
   },
   {
    "duration": 6,
    "start_time": "2024-08-04T13:34:03.092Z"
   },
   {
    "duration": 4,
    "start_time": "2024-08-04T13:34:03.333Z"
   },
   {
    "duration": 69,
    "start_time": "2024-08-04T13:34:03.602Z"
   },
   {
    "duration": 32,
    "start_time": "2024-08-04T13:34:03.967Z"
   },
   {
    "duration": 28178,
    "start_time": "2024-08-04T13:34:04.304Z"
   },
   {
    "duration": 17809,
    "start_time": "2024-08-04T13:34:32.491Z"
   },
   {
    "duration": 56,
    "start_time": "2024-08-04T13:34:50.302Z"
   },
   {
    "duration": 164127,
    "start_time": "2024-08-04T13:34:50.361Z"
   },
   {
    "duration": 3,
    "start_time": "2024-08-04T13:37:34.489Z"
   },
   {
    "duration": 99271,
    "start_time": "2024-08-04T13:37:34.494Z"
   },
   {
    "duration": 164,
    "start_time": "2024-08-04T13:48:31.114Z"
   },
   {
    "duration": 1518,
    "start_time": "2024-08-04T14:08:27.138Z"
   },
   {
    "duration": 41,
    "start_time": "2024-08-04T14:08:28.658Z"
   },
   {
    "duration": 22,
    "start_time": "2024-08-04T14:08:29.225Z"
   },
   {
    "duration": 23,
    "start_time": "2024-08-04T14:08:29.440Z"
   },
   {
    "duration": 30,
    "start_time": "2024-08-04T14:08:29.921Z"
   },
   {
    "duration": 17,
    "start_time": "2024-08-04T14:08:30.857Z"
   },
   {
    "duration": 13,
    "start_time": "2024-08-04T14:08:31.190Z"
   },
   {
    "duration": 10,
    "start_time": "2024-08-04T14:08:31.516Z"
   },
   {
    "duration": 13,
    "start_time": "2024-08-04T14:08:32.489Z"
   },
   {
    "duration": 11,
    "start_time": "2024-08-04T14:08:33.075Z"
   },
   {
    "duration": 183,
    "start_time": "2024-08-04T14:08:33.471Z"
   },
   {
    "duration": 9,
    "start_time": "2024-08-04T14:08:35.372Z"
   },
   {
    "duration": 12,
    "start_time": "2024-08-04T14:08:36.227Z"
   },
   {
    "duration": 13,
    "start_time": "2024-08-04T14:08:36.557Z"
   },
   {
    "duration": 11,
    "start_time": "2024-08-04T14:08:36.973Z"
   },
   {
    "duration": 120,
    "start_time": "2024-08-04T14:08:37.239Z"
   },
   {
    "duration": 11,
    "start_time": "2024-08-04T14:08:39.760Z"
   },
   {
    "duration": 13,
    "start_time": "2024-08-04T14:08:40.571Z"
   },
   {
    "duration": 29,
    "start_time": "2024-08-04T14:08:41.306Z"
   },
   {
    "duration": 8,
    "start_time": "2024-08-04T14:08:41.642Z"
   },
   {
    "duration": 7,
    "start_time": "2024-08-04T14:08:43.255Z"
   },
   {
    "duration": 10,
    "start_time": "2024-08-04T14:08:43.809Z"
   },
   {
    "duration": 16,
    "start_time": "2024-08-04T14:08:44.450Z"
   },
   {
    "duration": 6,
    "start_time": "2024-08-04T14:08:44.871Z"
   },
   {
    "duration": 163,
    "start_time": "2024-08-04T14:08:46.772Z"
   },
   {
    "duration": 15,
    "start_time": "2024-08-04T14:08:47.340Z"
   },
   {
    "duration": 16,
    "start_time": "2024-08-04T14:08:47.905Z"
   },
   {
    "duration": 16,
    "start_time": "2024-08-04T14:08:48.473Z"
   },
   {
    "duration": 11,
    "start_time": "2024-08-04T14:08:51.489Z"
   },
   {
    "duration": 15,
    "start_time": "2024-08-04T14:08:52.323Z"
   },
   {
    "duration": 11,
    "start_time": "2024-08-04T14:08:53.972Z"
   },
   {
    "duration": 12,
    "start_time": "2024-08-04T14:08:54.724Z"
   },
   {
    "duration": 3,
    "start_time": "2024-08-04T14:08:55.337Z"
   },
   {
    "duration": 18,
    "start_time": "2024-08-04T14:08:56.175Z"
   },
   {
    "duration": 20,
    "start_time": "2024-08-04T14:08:56.639Z"
   },
   {
    "duration": 13,
    "start_time": "2024-08-04T14:08:57.757Z"
   },
   {
    "duration": 12,
    "start_time": "2024-08-04T14:09:01.024Z"
   },
   {
    "duration": 212,
    "start_time": "2024-08-04T14:09:01.872Z"
   },
   {
    "duration": 2,
    "start_time": "2024-08-04T14:09:02.456Z"
   },
   {
    "duration": 7,
    "start_time": "2024-08-04T14:09:03.488Z"
   },
   {
    "duration": 162,
    "start_time": "2024-08-04T14:09:04.522Z"
   },
   {
    "duration": 25,
    "start_time": "2024-08-04T14:09:13.142Z"
   },
   {
    "duration": 2,
    "start_time": "2024-08-04T14:09:14.855Z"
   },
   {
    "duration": 3,
    "start_time": "2024-08-04T14:09:15.389Z"
   },
   {
    "duration": 2,
    "start_time": "2024-08-04T14:09:15.672Z"
   },
   {
    "duration": 3,
    "start_time": "2024-08-04T14:09:15.988Z"
   },
   {
    "duration": 4,
    "start_time": "2024-08-04T14:09:16.680Z"
   },
   {
    "duration": 3,
    "start_time": "2024-08-04T14:09:31.290Z"
   },
   {
    "duration": 3,
    "start_time": "2024-08-04T14:09:31.991Z"
   },
   {
    "duration": 3,
    "start_time": "2024-08-04T14:09:33.575Z"
   },
   {
    "duration": 13,
    "start_time": "2024-08-04T14:09:33.800Z"
   },
   {
    "duration": 11,
    "start_time": "2024-08-04T14:09:38.983Z"
   },
   {
    "duration": 15,
    "start_time": "2024-08-04T14:09:39.427Z"
   },
   {
    "duration": 5,
    "start_time": "2024-08-04T14:09:41.826Z"
   },
   {
    "duration": 33,
    "start_time": "2024-08-04T14:09:42.510Z"
   },
   {
    "duration": 6,
    "start_time": "2024-08-04T14:09:44.272Z"
   },
   {
    "duration": 3,
    "start_time": "2024-08-04T14:09:45.256Z"
   },
   {
    "duration": 4,
    "start_time": "2024-08-04T14:09:45.688Z"
   },
   {
    "duration": 6,
    "start_time": "2024-08-04T14:09:45.906Z"
   },
   {
    "duration": 4,
    "start_time": "2024-08-04T14:09:46.495Z"
   },
   {
    "duration": 6,
    "start_time": "2024-08-04T14:09:47.759Z"
   },
   {
    "duration": 5,
    "start_time": "2024-08-04T14:09:51.092Z"
   },
   {
    "duration": 27,
    "start_time": "2024-08-04T14:09:51.575Z"
   },
   {
    "duration": 8,
    "start_time": "2024-08-04T14:09:53.393Z"
   },
   {
    "duration": 14,
    "start_time": "2024-08-04T14:10:05.630Z"
   },
   {
    "duration": 6,
    "start_time": "2024-08-04T14:10:07.059Z"
   },
   {
    "duration": 4,
    "start_time": "2024-08-04T14:10:11.247Z"
   },
   {
    "duration": 70,
    "start_time": "2024-08-04T14:10:13.091Z"
   },
   {
    "duration": 26,
    "start_time": "2024-08-04T14:10:29.193Z"
   },
   {
    "duration": 24888,
    "start_time": "2024-08-04T14:10:30.706Z"
   },
   {
    "duration": 17137,
    "start_time": "2024-08-04T14:10:55.596Z"
   },
   {
    "duration": 52,
    "start_time": "2024-08-04T14:11:20.407Z"
   },
   {
    "duration": 38092,
    "start_time": "2024-08-04T14:11:22.395Z"
   },
   {
    "duration": 2,
    "start_time": "2024-08-04T14:12:00.489Z"
   },
   {
    "duration": 99295,
    "start_time": "2024-08-04T14:12:00.493Z"
   },
   {
    "duration": 1532,
    "start_time": "2024-08-04T14:29:46.743Z"
   },
   {
    "duration": 14,
    "start_time": "2024-08-04T14:30:55.318Z"
   },
   {
    "duration": 87,
    "start_time": "2024-08-04T14:31:12.618Z"
   },
   {
    "duration": 5,
    "start_time": "2024-08-04T14:32:22.057Z"
   },
   {
    "duration": 1546,
    "start_time": "2024-08-04T14:32:31.709Z"
   },
   {
    "duration": 8588,
    "start_time": "2024-08-04T14:34:59.474Z"
   },
   {
    "duration": 1450,
    "start_time": "2024-08-04T14:35:25.078Z"
   },
   {
    "duration": 2680,
    "start_time": "2024-08-04T14:35:47.015Z"
   },
   {
    "duration": 1385,
    "start_time": "2024-08-04T14:35:49.697Z"
   },
   {
    "duration": 7830,
    "start_time": "2024-08-04T14:38:43.590Z"
   },
   {
    "duration": 1416,
    "start_time": "2024-08-04T14:38:51.423Z"
   },
   {
    "duration": 42,
    "start_time": "2024-08-04T14:38:56.469Z"
   },
   {
    "duration": 36,
    "start_time": "2024-08-04T14:38:57.635Z"
   },
   {
    "duration": 24,
    "start_time": "2024-08-04T14:38:58.172Z"
   },
   {
    "duration": 19,
    "start_time": "2024-08-04T14:38:58.349Z"
   },
   {
    "duration": 16,
    "start_time": "2024-08-04T14:38:58.632Z"
   },
   {
    "duration": 14,
    "start_time": "2024-08-04T14:38:58.931Z"
   },
   {
    "duration": 12,
    "start_time": "2024-08-04T14:38:59.140Z"
   },
   {
    "duration": 16,
    "start_time": "2024-08-04T14:38:59.544Z"
   },
   {
    "duration": 11,
    "start_time": "2024-08-04T14:38:59.897Z"
   },
   {
    "duration": 182,
    "start_time": "2024-08-04T14:39:00.083Z"
   },
   {
    "duration": 9,
    "start_time": "2024-08-04T14:39:00.555Z"
   },
   {
    "duration": 23,
    "start_time": "2024-08-04T14:39:00.929Z"
   },
   {
    "duration": 13,
    "start_time": "2024-08-04T14:39:01.144Z"
   },
   {
    "duration": 11,
    "start_time": "2024-08-04T14:39:01.505Z"
   },
   {
    "duration": 136,
    "start_time": "2024-08-04T14:39:01.720Z"
   },
   {
    "duration": 10,
    "start_time": "2024-08-04T14:39:02.230Z"
   },
   {
    "duration": 13,
    "start_time": "2024-08-04T14:39:02.597Z"
   },
   {
    "duration": 31,
    "start_time": "2024-08-04T14:39:02.813Z"
   },
   {
    "duration": 8,
    "start_time": "2024-08-04T14:39:03.170Z"
   },
   {
    "duration": 8,
    "start_time": "2024-08-04T14:39:03.668Z"
   },
   {
    "duration": 11,
    "start_time": "2024-08-04T14:39:03.966Z"
   },
   {
    "duration": 16,
    "start_time": "2024-08-04T14:39:04.177Z"
   },
   {
    "duration": 6,
    "start_time": "2024-08-04T14:39:04.551Z"
   },
   {
    "duration": 174,
    "start_time": "2024-08-04T14:39:05.191Z"
   },
   {
    "duration": 26,
    "start_time": "2024-08-04T14:39:05.367Z"
   },
   {
    "duration": 17,
    "start_time": "2024-08-04T14:39:05.721Z"
   },
   {
    "duration": 17,
    "start_time": "2024-08-04T14:39:06.124Z"
   },
   {
    "duration": 13,
    "start_time": "2024-08-04T14:39:06.956Z"
   },
   {
    "duration": 16,
    "start_time": "2024-08-04T14:39:07.180Z"
   },
   {
    "duration": 11,
    "start_time": "2024-08-04T14:39:07.354Z"
   },
   {
    "duration": 13,
    "start_time": "2024-08-04T14:39:07.444Z"
   },
   {
    "duration": 3,
    "start_time": "2024-08-04T14:39:07.574Z"
   },
   {
    "duration": 18,
    "start_time": "2024-08-04T14:39:07.666Z"
   },
   {
    "duration": 20,
    "start_time": "2024-08-04T14:39:07.808Z"
   },
   {
    "duration": 19,
    "start_time": "2024-08-04T14:39:07.964Z"
   },
   {
    "duration": 14,
    "start_time": "2024-08-04T14:39:08.276Z"
   },
   {
    "duration": 172,
    "start_time": "2024-08-04T14:39:08.433Z"
   },
   {
    "duration": 5,
    "start_time": "2024-08-04T14:39:08.607Z"
   },
   {
    "duration": 7,
    "start_time": "2024-08-04T14:39:08.613Z"
   },
   {
    "duration": 232,
    "start_time": "2024-08-04T14:39:08.636Z"
   },
   {
    "duration": 27,
    "start_time": "2024-08-04T14:39:09.923Z"
   },
   {
    "duration": 5,
    "start_time": "2024-08-04T14:39:10.319Z"
   },
   {
    "duration": 6,
    "start_time": "2024-08-04T14:39:10.516Z"
   },
   {
    "duration": 5,
    "start_time": "2024-08-04T14:39:10.699Z"
   },
   {
    "duration": 5,
    "start_time": "2024-08-04T14:39:10.923Z"
   },
   {
    "duration": 5,
    "start_time": "2024-08-04T14:39:11.140Z"
   },
   {
    "duration": 6,
    "start_time": "2024-08-04T14:39:11.359Z"
   },
   {
    "duration": 6,
    "start_time": "2024-08-04T14:39:11.581Z"
   },
   {
    "duration": 12,
    "start_time": "2024-08-04T14:39:11.798Z"
   },
   {
    "duration": 18,
    "start_time": "2024-08-04T14:39:12.128Z"
   },
   {
    "duration": 14,
    "start_time": "2024-08-04T14:39:12.349Z"
   },
   {
    "duration": 6,
    "start_time": "2024-08-04T14:39:12.818Z"
   },
   {
    "duration": 30,
    "start_time": "2024-08-04T14:39:13.032Z"
   },
   {
    "duration": 6,
    "start_time": "2024-08-04T14:39:13.477Z"
   },
   {
    "duration": 3,
    "start_time": "2024-08-04T14:39:13.657Z"
   },
   {
    "duration": 5,
    "start_time": "2024-08-04T14:39:13.835Z"
   },
   {
    "duration": 5,
    "start_time": "2024-08-04T14:39:14.022Z"
   },
   {
    "duration": 4,
    "start_time": "2024-08-04T14:39:14.137Z"
   },
   {
    "duration": 8,
    "start_time": "2024-08-04T14:39:15.173Z"
   },
   {
    "duration": 4,
    "start_time": "2024-08-04T14:39:15.371Z"
   },
   {
    "duration": 35,
    "start_time": "2024-08-04T14:39:15.578Z"
   },
   {
    "duration": 7,
    "start_time": "2024-08-04T14:39:15.762Z"
   },
   {
    "duration": 14,
    "start_time": "2024-08-04T14:39:16.223Z"
   },
   {
    "duration": 7,
    "start_time": "2024-08-04T14:39:16.396Z"
   },
   {
    "duration": 3,
    "start_time": "2024-08-04T14:39:16.770Z"
   },
   {
    "duration": 125,
    "start_time": "2024-08-04T14:39:17.153Z"
   },
   {
    "duration": 9,
    "start_time": "2024-08-04T14:39:17.557Z"
   },
   {
    "duration": 121,
    "start_time": "2024-08-04T14:39:17.952Z"
   },
   {
    "duration": 42,
    "start_time": "2024-08-04T14:41:31.447Z"
   },
   {
    "duration": 10,
    "start_time": "2024-08-04T14:42:58.999Z"
   },
   {
    "duration": 1421,
    "start_time": "2024-08-04T14:45:08.230Z"
   },
   {
    "duration": 43,
    "start_time": "2024-08-04T14:45:14.794Z"
   },
   {
    "duration": 22,
    "start_time": "2024-08-04T14:45:15.555Z"
   },
   {
    "duration": 23,
    "start_time": "2024-08-04T14:45:15.783Z"
   },
   {
    "duration": 34,
    "start_time": "2024-08-04T14:45:15.929Z"
   },
   {
    "duration": 15,
    "start_time": "2024-08-04T14:45:16.255Z"
   },
   {
    "duration": 15,
    "start_time": "2024-08-04T14:45:16.601Z"
   },
   {
    "duration": 11,
    "start_time": "2024-08-04T14:45:16.828Z"
   },
   {
    "duration": 12,
    "start_time": "2024-08-04T14:45:17.163Z"
   },
   {
    "duration": 10,
    "start_time": "2024-08-04T14:45:17.527Z"
   },
   {
    "duration": 182,
    "start_time": "2024-08-04T14:45:17.743Z"
   },
   {
    "duration": 10,
    "start_time": "2024-08-04T14:45:18.249Z"
   },
   {
    "duration": 12,
    "start_time": "2024-08-04T14:45:18.616Z"
   },
   {
    "duration": 12,
    "start_time": "2024-08-04T14:45:18.835Z"
   },
   {
    "duration": 9,
    "start_time": "2024-08-04T14:45:19.197Z"
   },
   {
    "duration": 134,
    "start_time": "2024-08-04T14:45:19.416Z"
   },
   {
    "duration": 15,
    "start_time": "2024-08-04T14:45:19.895Z"
   },
   {
    "duration": 13,
    "start_time": "2024-08-04T14:45:20.231Z"
   },
   {
    "duration": 30,
    "start_time": "2024-08-04T14:45:20.443Z"
   },
   {
    "duration": 8,
    "start_time": "2024-08-04T14:45:20.811Z"
   },
   {
    "duration": 8,
    "start_time": "2024-08-04T14:45:21.280Z"
   },
   {
    "duration": 10,
    "start_time": "2024-08-04T14:45:21.676Z"
   },
   {
    "duration": 22,
    "start_time": "2024-08-04T14:45:21.895Z"
   },
   {
    "duration": 6,
    "start_time": "2024-08-04T14:45:22.191Z"
   },
   {
    "duration": 168,
    "start_time": "2024-08-04T14:45:22.779Z"
   },
   {
    "duration": 16,
    "start_time": "2024-08-04T14:45:22.948Z"
   },
   {
    "duration": 15,
    "start_time": "2024-08-04T14:45:23.161Z"
   },
   {
    "duration": 16,
    "start_time": "2024-08-04T14:45:23.404Z"
   },
   {
    "duration": 16,
    "start_time": "2024-08-04T14:45:23.907Z"
   },
   {
    "duration": 15,
    "start_time": "2024-08-04T14:45:23.991Z"
   },
   {
    "duration": 11,
    "start_time": "2024-08-04T14:45:25.118Z"
   },
   {
    "duration": 13,
    "start_time": "2024-08-04T14:45:25.283Z"
   },
   {
    "duration": 3,
    "start_time": "2024-08-04T14:45:25.432Z"
   },
   {
    "duration": 16,
    "start_time": "2024-08-04T14:45:25.629Z"
   },
   {
    "duration": 21,
    "start_time": "2024-08-04T14:45:25.854Z"
   },
   {
    "duration": 14,
    "start_time": "2024-08-04T14:45:26.194Z"
   },
   {
    "duration": 12,
    "start_time": "2024-08-04T14:45:28.537Z"
   },
   {
    "duration": 172,
    "start_time": "2024-08-04T14:45:29.286Z"
   },
   {
    "duration": 6,
    "start_time": "2024-08-04T14:45:29.606Z"
   },
   {
    "duration": 8,
    "start_time": "2024-08-04T14:45:29.965Z"
   },
   {
    "duration": 191,
    "start_time": "2024-08-04T14:45:30.179Z"
   },
   {
    "duration": 27,
    "start_time": "2024-08-04T14:45:30.754Z"
   },
   {
    "duration": 5,
    "start_time": "2024-08-04T14:45:31.663Z"
   },
   {
    "duration": 5,
    "start_time": "2024-08-04T14:45:31.832Z"
   },
   {
    "duration": 7,
    "start_time": "2024-08-04T14:45:32.276Z"
   },
   {
    "duration": 159,
    "start_time": "2024-08-04T14:45:32.464Z"
   },
   {
    "duration": 53,
    "start_time": "2024-08-04T14:45:32.657Z"
   },
   {
    "duration": 6,
    "start_time": "2024-08-04T14:45:33.497Z"
   },
   {
    "duration": 8,
    "start_time": "2024-08-04T14:45:33.921Z"
   },
   {
    "duration": 16,
    "start_time": "2024-08-04T14:45:34.370Z"
   },
   {
    "duration": 11,
    "start_time": "2024-08-04T14:45:34.805Z"
   },
   {
    "duration": 16,
    "start_time": "2024-08-04T14:45:35.269Z"
   },
   {
    "duration": 6,
    "start_time": "2024-08-04T14:45:36.126Z"
   },
   {
    "duration": 26,
    "start_time": "2024-08-04T14:45:36.774Z"
   },
   {
    "duration": 6,
    "start_time": "2024-08-04T14:45:38.056Z"
   },
   {
    "duration": 3,
    "start_time": "2024-08-04T14:45:38.521Z"
   },
   {
    "duration": 4,
    "start_time": "2024-08-04T14:45:38.705Z"
   },
   {
    "duration": 6,
    "start_time": "2024-08-04T14:45:38.891Z"
   },
   {
    "duration": 5,
    "start_time": "2024-08-04T14:45:39.603Z"
   },
   {
    "duration": 5,
    "start_time": "2024-08-04T14:45:40.621Z"
   },
   {
    "duration": 4,
    "start_time": "2024-08-04T14:45:41.275Z"
   },
   {
    "duration": 28,
    "start_time": "2024-08-04T14:45:41.909Z"
   },
   {
    "duration": 8,
    "start_time": "2024-08-04T14:45:42.737Z"
   },
   {
    "duration": 14,
    "start_time": "2024-08-04T14:45:44.488Z"
   },
   {
    "duration": 6,
    "start_time": "2024-08-04T14:45:45.287Z"
   },
   {
    "duration": 4,
    "start_time": "2024-08-04T14:45:46.021Z"
   },
   {
    "duration": 126,
    "start_time": "2024-08-04T14:45:47.436Z"
   },
   {
    "duration": 1337,
    "start_time": "2024-08-04T14:47:25.840Z"
   },
   {
    "duration": 42,
    "start_time": "2024-08-04T14:47:27.182Z"
   },
   {
    "duration": 22,
    "start_time": "2024-08-04T14:47:27.226Z"
   },
   {
    "duration": 23,
    "start_time": "2024-08-04T14:47:27.250Z"
   },
   {
    "duration": 19,
    "start_time": "2024-08-04T14:47:27.274Z"
   },
   {
    "duration": 15,
    "start_time": "2024-08-04T14:47:27.294Z"
   },
   {
    "duration": 14,
    "start_time": "2024-08-04T14:47:28.189Z"
   },
   {
    "duration": 11,
    "start_time": "2024-08-04T14:47:28.422Z"
   },
   {
    "duration": 14,
    "start_time": "2024-08-04T14:47:28.940Z"
   },
   {
    "duration": 11,
    "start_time": "2024-08-04T14:47:29.238Z"
   },
   {
    "duration": 193,
    "start_time": "2024-08-04T14:47:29.436Z"
   },
   {
    "duration": 9,
    "start_time": "2024-08-04T14:47:29.838Z"
   },
   {
    "duration": 13,
    "start_time": "2024-08-04T14:47:30.287Z"
   },
   {
    "duration": 65,
    "start_time": "2024-08-04T14:47:30.380Z"
   },
   {
    "duration": 8,
    "start_time": "2024-08-04T14:47:30.678Z"
   },
   {
    "duration": 133,
    "start_time": "2024-08-04T14:47:30.889Z"
   },
   {
    "duration": 11,
    "start_time": "2024-08-04T14:47:31.401Z"
   },
   {
    "duration": 12,
    "start_time": "2024-08-04T14:47:31.709Z"
   },
   {
    "duration": 33,
    "start_time": "2024-08-04T14:47:31.860Z"
   },
   {
    "duration": 8,
    "start_time": "2024-08-04T14:47:32.090Z"
   },
   {
    "duration": 6,
    "start_time": "2024-08-04T14:47:32.469Z"
   },
   {
    "duration": 13,
    "start_time": "2024-08-04T14:47:32.909Z"
   },
   {
    "duration": 17,
    "start_time": "2024-08-04T14:47:33.004Z"
   },
   {
    "duration": 7,
    "start_time": "2024-08-04T14:47:33.432Z"
   },
   {
    "duration": 94,
    "start_time": "2024-08-04T14:47:33.957Z"
   },
   {
    "duration": 18,
    "start_time": "2024-08-04T14:47:34.164Z"
   },
   {
    "duration": 16,
    "start_time": "2024-08-04T14:47:34.482Z"
   },
   {
    "duration": 18,
    "start_time": "2024-08-04T14:47:34.779Z"
   },
   {
    "duration": 12,
    "start_time": "2024-08-04T14:47:35.795Z"
   },
   {
    "duration": 15,
    "start_time": "2024-08-04T14:47:36.054Z"
   },
   {
    "duration": 88,
    "start_time": "2024-08-04T14:47:36.182Z"
   },
   {
    "duration": 17,
    "start_time": "2024-08-04T14:47:36.275Z"
   },
   {
    "duration": 3,
    "start_time": "2024-08-04T14:47:36.579Z"
   },
   {
    "duration": 71,
    "start_time": "2024-08-04T14:47:36.584Z"
   },
   {
    "duration": 20,
    "start_time": "2024-08-04T14:47:36.769Z"
   },
   {
    "duration": 13,
    "start_time": "2024-08-04T14:47:37.103Z"
   },
   {
    "duration": 14,
    "start_time": "2024-08-04T14:47:37.627Z"
   },
   {
    "duration": 174,
    "start_time": "2024-08-04T14:47:37.824Z"
   },
   {
    "duration": 6,
    "start_time": "2024-08-04T14:47:38.000Z"
   },
   {
    "duration": 6,
    "start_time": "2024-08-04T14:47:38.153Z"
   },
   {
    "duration": 162,
    "start_time": "2024-08-04T14:47:38.205Z"
   },
   {
    "duration": 26,
    "start_time": "2024-08-04T14:47:38.424Z"
   },
   {
    "duration": 6,
    "start_time": "2024-08-04T14:47:39.867Z"
   },
   {
    "duration": 7,
    "start_time": "2024-08-04T14:47:40.039Z"
   },
   {
    "duration": 7,
    "start_time": "2024-08-04T14:47:40.234Z"
   },
   {
    "duration": 5,
    "start_time": "2024-08-04T14:47:40.436Z"
   },
   {
    "duration": 5,
    "start_time": "2024-08-04T14:47:40.655Z"
   },
   {
    "duration": 5,
    "start_time": "2024-08-04T14:47:40.845Z"
   },
   {
    "duration": 5,
    "start_time": "2024-08-04T14:47:41.067Z"
   },
   {
    "duration": 12,
    "start_time": "2024-08-04T14:47:41.295Z"
   },
   {
    "duration": 12,
    "start_time": "2024-08-04T14:47:41.608Z"
   },
   {
    "duration": 23,
    "start_time": "2024-08-04T14:47:42.006Z"
   },
   {
    "duration": 5,
    "start_time": "2024-08-04T14:47:42.689Z"
   },
   {
    "duration": 24,
    "start_time": "2024-08-04T14:47:43.608Z"
   },
   {
    "duration": 6,
    "start_time": "2024-08-04T14:47:44.624Z"
   },
   {
    "duration": 3,
    "start_time": "2024-08-04T14:47:44.955Z"
   },
   {
    "duration": 4,
    "start_time": "2024-08-04T14:47:45.319Z"
   },
   {
    "duration": 5,
    "start_time": "2024-08-04T14:47:45.605Z"
   },
   {
    "duration": 5,
    "start_time": "2024-08-04T14:47:45.887Z"
   },
   {
    "duration": 6,
    "start_time": "2024-08-04T14:47:46.554Z"
   },
   {
    "duration": 4,
    "start_time": "2024-08-04T14:47:47.248Z"
   },
   {
    "duration": 27,
    "start_time": "2024-08-04T14:47:47.975Z"
   },
   {
    "duration": 8,
    "start_time": "2024-08-04T14:47:48.943Z"
   },
   {
    "duration": 13,
    "start_time": "2024-08-04T14:47:49.639Z"
   },
   {
    "duration": 6,
    "start_time": "2024-08-04T14:47:50.195Z"
   },
   {
    "duration": 4,
    "start_time": "2024-08-04T14:47:50.573Z"
   },
   {
    "duration": 153,
    "start_time": "2024-08-04T14:47:52.504Z"
   },
   {
    "duration": 4,
    "start_time": "2024-08-04T14:48:24.741Z"
   },
   {
    "duration": 1424,
    "start_time": "2024-08-04T14:48:26.158Z"
   },
   {
    "duration": 43,
    "start_time": "2024-08-04T14:48:27.584Z"
   },
   {
    "duration": 23,
    "start_time": "2024-08-04T14:48:28.323Z"
   },
   {
    "duration": 34,
    "start_time": "2024-08-04T14:48:28.703Z"
   },
   {
    "duration": 19,
    "start_time": "2024-08-04T14:48:28.940Z"
   },
   {
    "duration": 15,
    "start_time": "2024-08-04T14:48:29.267Z"
   },
   {
    "duration": 15,
    "start_time": "2024-08-04T14:48:29.581Z"
   },
   {
    "duration": 10,
    "start_time": "2024-08-04T14:48:29.789Z"
   },
   {
    "duration": 14,
    "start_time": "2024-08-04T14:48:30.148Z"
   },
   {
    "duration": 10,
    "start_time": "2024-08-04T14:48:30.510Z"
   },
   {
    "duration": 194,
    "start_time": "2024-08-04T14:48:30.724Z"
   },
   {
    "duration": 9,
    "start_time": "2024-08-04T14:48:31.194Z"
   },
   {
    "duration": 12,
    "start_time": "2024-08-04T14:48:31.567Z"
   },
   {
    "duration": 12,
    "start_time": "2024-08-04T14:48:31.783Z"
   },
   {
    "duration": 8,
    "start_time": "2024-08-04T14:48:32.150Z"
   },
   {
    "duration": 122,
    "start_time": "2024-08-04T14:48:32.365Z"
   },
   {
    "duration": 10,
    "start_time": "2024-08-04T14:48:32.887Z"
   },
   {
    "duration": 12,
    "start_time": "2024-08-04T14:48:33.218Z"
   },
   {
    "duration": 32,
    "start_time": "2024-08-04T14:48:33.435Z"
   },
   {
    "duration": 12,
    "start_time": "2024-08-04T14:48:33.832Z"
   },
   {
    "duration": 8,
    "start_time": "2024-08-04T14:48:34.293Z"
   },
   {
    "duration": 11,
    "start_time": "2024-08-04T14:48:34.656Z"
   },
   {
    "duration": 15,
    "start_time": "2024-08-04T14:48:34.872Z"
   },
   {
    "duration": 7,
    "start_time": "2024-08-04T14:48:35.244Z"
   },
   {
    "duration": 88,
    "start_time": "2024-08-04T14:48:36.088Z"
   },
   {
    "duration": 16,
    "start_time": "2024-08-04T14:48:36.300Z"
   },
   {
    "duration": 17,
    "start_time": "2024-08-04T14:48:36.896Z"
   },
   {
    "duration": 24,
    "start_time": "2024-08-04T14:48:37.048Z"
   },
   {
    "duration": 13,
    "start_time": "2024-08-04T14:48:37.943Z"
   },
   {
    "duration": 14,
    "start_time": "2024-08-04T14:48:38.109Z"
   },
   {
    "duration": 84,
    "start_time": "2024-08-04T14:48:38.468Z"
   },
   {
    "duration": 11,
    "start_time": "2024-08-04T14:48:38.554Z"
   },
   {
    "duration": 3,
    "start_time": "2024-08-04T14:48:38.699Z"
   },
   {
    "duration": 17,
    "start_time": "2024-08-04T14:48:38.994Z"
   },
   {
    "duration": 20,
    "start_time": "2024-08-04T14:48:39.013Z"
   },
   {
    "duration": 13,
    "start_time": "2024-08-04T14:48:39.291Z"
   },
   {
    "duration": 13,
    "start_time": "2024-08-04T14:48:39.469Z"
   },
   {
    "duration": 168,
    "start_time": "2024-08-04T14:48:39.549Z"
   },
   {
    "duration": 5,
    "start_time": "2024-08-04T14:48:39.719Z"
   },
   {
    "duration": 6,
    "start_time": "2024-08-04T14:48:39.812Z"
   },
   {
    "duration": 190,
    "start_time": "2024-08-04T14:48:39.846Z"
   },
   {
    "duration": 25,
    "start_time": "2024-08-04T14:48:40.040Z"
   },
   {
    "duration": 5,
    "start_time": "2024-08-04T14:48:40.335Z"
   },
   {
    "duration": 7,
    "start_time": "2024-08-04T14:48:40.406Z"
   },
   {
    "duration": 7,
    "start_time": "2024-08-04T14:48:40.518Z"
   },
   {
    "duration": 6,
    "start_time": "2024-08-04T14:48:40.892Z"
   },
   {
    "duration": 5,
    "start_time": "2024-08-04T14:48:41.083Z"
   },
   {
    "duration": 5,
    "start_time": "2024-08-04T14:48:41.270Z"
   },
   {
    "duration": 5,
    "start_time": "2024-08-04T14:48:41.378Z"
   },
   {
    "duration": 12,
    "start_time": "2024-08-04T14:48:41.558Z"
   },
   {
    "duration": 11,
    "start_time": "2024-08-04T14:48:41.905Z"
   },
   {
    "duration": 15,
    "start_time": "2024-08-04T14:48:42.099Z"
   },
   {
    "duration": 5,
    "start_time": "2024-08-04T14:48:43.345Z"
   },
   {
    "duration": 26,
    "start_time": "2024-08-04T14:48:43.646Z"
   },
   {
    "duration": 6,
    "start_time": "2024-08-04T14:48:44.169Z"
   },
   {
    "duration": 3,
    "start_time": "2024-08-04T14:48:44.526Z"
   },
   {
    "duration": 4,
    "start_time": "2024-08-04T14:48:44.939Z"
   },
   {
    "duration": 6,
    "start_time": "2024-08-04T14:48:45.323Z"
   },
   {
    "duration": 4,
    "start_time": "2024-08-04T14:48:45.571Z"
   },
   {
    "duration": 5,
    "start_time": "2024-08-04T14:48:46.267Z"
   },
   {
    "duration": 15,
    "start_time": "2024-08-04T14:48:46.274Z"
   },
   {
    "duration": 25,
    "start_time": "2024-08-04T14:48:46.793Z"
   },
   {
    "duration": 7,
    "start_time": "2024-08-04T14:48:47.316Z"
   },
   {
    "duration": 14,
    "start_time": "2024-08-04T14:48:48.988Z"
   },
   {
    "duration": 6,
    "start_time": "2024-08-04T14:48:49.282Z"
   },
   {
    "duration": 4,
    "start_time": "2024-08-04T14:48:49.656Z"
   },
   {
    "duration": 132,
    "start_time": "2024-08-04T14:48:50.787Z"
   },
   {
    "duration": 3,
    "start_time": "2024-08-04T14:53:46.614Z"
   },
   {
    "duration": 1388,
    "start_time": "2024-08-04T14:53:47.547Z"
   },
   {
    "duration": 42,
    "start_time": "2024-08-04T14:54:03.027Z"
   },
   {
    "duration": 22,
    "start_time": "2024-08-04T14:54:03.658Z"
   },
   {
    "duration": 34,
    "start_time": "2024-08-04T14:54:04.490Z"
   },
   {
    "duration": 19,
    "start_time": "2024-08-04T14:54:05.106Z"
   },
   {
    "duration": 18,
    "start_time": "2024-08-04T14:54:06.003Z"
   },
   {
    "duration": 14,
    "start_time": "2024-08-04T14:54:06.282Z"
   },
   {
    "duration": 11,
    "start_time": "2024-08-04T14:54:06.591Z"
   },
   {
    "duration": 13,
    "start_time": "2024-08-04T14:54:07.294Z"
   },
   {
    "duration": 11,
    "start_time": "2024-08-04T14:54:07.991Z"
   },
   {
    "duration": 173,
    "start_time": "2024-08-04T14:54:08.442Z"
   },
   {
    "duration": 12,
    "start_time": "2024-08-04T14:54:10.011Z"
   },
   {
    "duration": 11,
    "start_time": "2024-08-04T14:54:10.454Z"
   },
   {
    "duration": 11,
    "start_time": "2024-08-04T14:54:10.656Z"
   },
   {
    "duration": 8,
    "start_time": "2024-08-04T14:54:10.854Z"
   },
   {
    "duration": 121,
    "start_time": "2024-08-04T14:54:11.072Z"
   },
   {
    "duration": 20,
    "start_time": "2024-08-04T14:54:11.840Z"
   },
   {
    "duration": 11,
    "start_time": "2024-08-04T14:54:12.189Z"
   },
   {
    "duration": 30,
    "start_time": "2024-08-04T14:54:12.389Z"
   },
   {
    "duration": 8,
    "start_time": "2024-08-04T14:54:12.721Z"
   },
   {
    "duration": 9,
    "start_time": "2024-08-04T14:54:13.415Z"
   },
   {
    "duration": 10,
    "start_time": "2024-08-04T14:54:13.726Z"
   },
   {
    "duration": 18,
    "start_time": "2024-08-04T14:54:13.955Z"
   },
   {
    "duration": 6,
    "start_time": "2024-08-04T14:54:14.193Z"
   },
   {
    "duration": 90,
    "start_time": "2024-08-04T14:54:15.453Z"
   },
   {
    "duration": 18,
    "start_time": "2024-08-04T14:54:16.275Z"
   },
   {
    "duration": 16,
    "start_time": "2024-08-04T14:54:16.561Z"
   },
   {
    "duration": 17,
    "start_time": "2024-08-04T14:54:16.793Z"
   },
   {
    "duration": 11,
    "start_time": "2024-08-04T14:54:19.509Z"
   },
   {
    "duration": 14,
    "start_time": "2024-08-04T14:54:20.043Z"
   },
   {
    "duration": 87,
    "start_time": "2024-08-04T14:54:21.273Z"
   },
   {
    "duration": 11,
    "start_time": "2024-08-04T14:54:25.707Z"
   },
   {
    "duration": 3,
    "start_time": "2024-08-04T14:54:28.722Z"
   },
   {
    "duration": 18,
    "start_time": "2024-08-04T14:54:29.089Z"
   },
   {
    "duration": 20,
    "start_time": "2024-08-04T14:54:29.709Z"
   },
   {
    "duration": 15,
    "start_time": "2024-08-04T14:54:30.339Z"
   },
   {
    "duration": 17,
    "start_time": "2024-08-04T14:54:32.493Z"
   },
   {
    "duration": 163,
    "start_time": "2024-08-04T14:54:35.060Z"
   },
   {
    "duration": 6,
    "start_time": "2024-08-04T14:54:36.200Z"
   },
   {
    "duration": 6,
    "start_time": "2024-08-04T14:54:36.793Z"
   },
   {
    "duration": 163,
    "start_time": "2024-08-04T14:54:37.524Z"
   },
   {
    "duration": 26,
    "start_time": "2024-08-04T14:54:39.309Z"
   },
   {
    "duration": 5,
    "start_time": "2024-08-04T14:54:41.907Z"
   },
   {
    "duration": 5,
    "start_time": "2024-08-04T14:54:42.290Z"
   },
   {
    "duration": 6,
    "start_time": "2024-08-04T14:54:42.608Z"
   },
   {
    "duration": 4,
    "start_time": "2024-08-04T14:54:42.873Z"
   },
   {
    "duration": 6,
    "start_time": "2024-08-04T14:54:43.107Z"
   },
   {
    "duration": 5,
    "start_time": "2024-08-04T14:54:43.357Z"
   },
   {
    "duration": 5,
    "start_time": "2024-08-04T14:54:43.594Z"
   },
   {
    "duration": 16,
    "start_time": "2024-08-04T14:54:43.945Z"
   },
   {
    "duration": 11,
    "start_time": "2024-08-04T14:54:44.617Z"
   },
   {
    "duration": 16,
    "start_time": "2024-08-04T14:54:44.897Z"
   },
   {
    "duration": 5,
    "start_time": "2024-08-04T14:54:46.109Z"
   },
   {
    "duration": 24,
    "start_time": "2024-08-04T14:54:46.657Z"
   },
   {
    "duration": 6,
    "start_time": "2024-08-04T14:54:48.371Z"
   },
   {
    "duration": 3,
    "start_time": "2024-08-04T14:54:49.308Z"
   },
   {
    "duration": 4,
    "start_time": "2024-08-04T14:54:49.922Z"
   },
   {
    "duration": 6,
    "start_time": "2024-08-04T14:54:51.093Z"
   },
   {
    "duration": 4,
    "start_time": "2024-08-04T14:54:51.674Z"
   },
   {
    "duration": 5,
    "start_time": "2024-08-04T14:54:53.421Z"
   },
   {
    "duration": 4,
    "start_time": "2024-08-04T14:54:54.009Z"
   },
   {
    "duration": 27,
    "start_time": "2024-08-04T14:54:54.627Z"
   },
   {
    "duration": 8,
    "start_time": "2024-08-04T14:54:55.956Z"
   },
   {
    "duration": 17,
    "start_time": "2024-08-04T14:54:58.148Z"
   },
   {
    "duration": 7,
    "start_time": "2024-08-04T14:55:00.445Z"
   },
   {
    "duration": 4,
    "start_time": "2024-08-04T14:55:01.189Z"
   },
   {
    "duration": 125,
    "start_time": "2024-08-04T14:55:02.543Z"
   },
   {
    "duration": 12,
    "start_time": "2024-08-04T14:58:21.996Z"
   },
   {
    "duration": 41,
    "start_time": "2024-08-04T14:58:30.019Z"
   },
   {
    "duration": 10,
    "start_time": "2024-08-04T15:02:32.116Z"
   },
   {
    "duration": 10,
    "start_time": "2024-08-04T15:03:55.602Z"
   },
   {
    "duration": 11,
    "start_time": "2024-08-04T15:04:09.375Z"
   },
   {
    "duration": 41,
    "start_time": "2024-08-04T15:04:14.965Z"
   },
   {
    "duration": 64,
    "start_time": "2024-08-04T15:08:11.151Z"
   },
   {
    "duration": 1195,
    "start_time": "2024-08-04T15:08:17.405Z"
   },
   {
    "duration": 1643,
    "start_time": "2024-08-04T15:08:29.487Z"
   },
   {
    "duration": 1468,
    "start_time": "2024-08-04T15:08:39.150Z"
   },
   {
    "duration": 5211,
    "start_time": "2024-08-04T15:10:22.251Z"
   },
   {
    "duration": 1423,
    "start_time": "2024-08-04T15:10:27.465Z"
   },
   {
    "duration": 41,
    "start_time": "2024-08-04T15:10:35.694Z"
   },
   {
    "duration": 22,
    "start_time": "2024-08-04T15:10:36.190Z"
   },
   {
    "duration": 24,
    "start_time": "2024-08-04T15:10:36.466Z"
   },
   {
    "duration": 32,
    "start_time": "2024-08-04T15:10:36.710Z"
   },
   {
    "duration": 14,
    "start_time": "2024-08-04T15:10:37.165Z"
   },
   {
    "duration": 13,
    "start_time": "2024-08-04T15:10:37.485Z"
   },
   {
    "duration": 10,
    "start_time": "2024-08-04T15:10:37.680Z"
   },
   {
    "duration": 13,
    "start_time": "2024-08-04T15:10:38.297Z"
   },
   {
    "duration": 10,
    "start_time": "2024-08-04T15:10:38.657Z"
   },
   {
    "duration": 182,
    "start_time": "2024-08-04T15:10:38.881Z"
   },
   {
    "duration": 9,
    "start_time": "2024-08-04T15:10:39.377Z"
   },
   {
    "duration": 12,
    "start_time": "2024-08-04T15:10:39.744Z"
   },
   {
    "duration": 13,
    "start_time": "2024-08-04T15:10:39.959Z"
   },
   {
    "duration": 9,
    "start_time": "2024-08-04T15:10:40.320Z"
   },
   {
    "duration": 121,
    "start_time": "2024-08-04T15:10:40.544Z"
   },
   {
    "duration": 11,
    "start_time": "2024-08-04T15:10:41.016Z"
   },
   {
    "duration": 12,
    "start_time": "2024-08-04T15:10:41.352Z"
   },
   {
    "duration": 31,
    "start_time": "2024-08-04T15:10:41.535Z"
   },
   {
    "duration": 11,
    "start_time": "2024-08-04T15:10:41.895Z"
   },
   {
    "duration": 7,
    "start_time": "2024-08-04T15:10:42.405Z"
   },
   {
    "duration": 10,
    "start_time": "2024-08-04T15:10:42.774Z"
   },
   {
    "duration": 15,
    "start_time": "2024-08-04T15:10:42.985Z"
   },
   {
    "duration": 9,
    "start_time": "2024-08-04T15:10:43.248Z"
   },
   {
    "duration": 117,
    "start_time": "2024-08-04T15:10:43.898Z"
   },
   {
    "duration": 17,
    "start_time": "2024-08-04T15:10:44.123Z"
   },
   {
    "duration": 16,
    "start_time": "2024-08-04T15:10:44.423Z"
   },
   {
    "duration": 15,
    "start_time": "2024-08-04T15:10:44.729Z"
   },
   {
    "duration": 15,
    "start_time": "2024-08-04T15:10:45.597Z"
   },
   {
    "duration": 16,
    "start_time": "2024-08-04T15:10:45.781Z"
   },
   {
    "duration": 87,
    "start_time": "2024-08-04T15:10:45.966Z"
   },
   {
    "duration": 12,
    "start_time": "2024-08-04T15:10:46.149Z"
   },
   {
    "duration": 3,
    "start_time": "2024-08-04T15:10:46.333Z"
   },
   {
    "duration": 18,
    "start_time": "2024-08-04T15:10:46.518Z"
   },
   {
    "duration": 20,
    "start_time": "2024-08-04T15:10:46.734Z"
   },
   {
    "duration": 13,
    "start_time": "2024-08-04T15:10:47.030Z"
   },
   {
    "duration": 14,
    "start_time": "2024-08-04T15:10:47.517Z"
   },
   {
    "duration": 185,
    "start_time": "2024-08-04T15:10:47.741Z"
   },
   {
    "duration": 5,
    "start_time": "2024-08-04T15:10:47.928Z"
   },
   {
    "duration": 7,
    "start_time": "2024-08-04T15:10:48.104Z"
   },
   {
    "duration": 164,
    "start_time": "2024-08-04T15:10:48.323Z"
   },
   {
    "duration": 27,
    "start_time": "2024-08-04T15:10:48.652Z"
   },
   {
    "duration": 5,
    "start_time": "2024-08-04T15:10:49.099Z"
   },
   {
    "duration": 6,
    "start_time": "2024-08-04T15:10:49.286Z"
   },
   {
    "duration": 5,
    "start_time": "2024-08-04T15:10:49.473Z"
   },
   {
    "duration": 5,
    "start_time": "2024-08-04T15:10:49.659Z"
   },
   {
    "duration": 5,
    "start_time": "2024-08-04T15:10:49.835Z"
   },
   {
    "duration": 5,
    "start_time": "2024-08-04T15:10:50.027Z"
   },
   {
    "duration": 5,
    "start_time": "2024-08-04T15:10:50.205Z"
   },
   {
    "duration": 14,
    "start_time": "2024-08-04T15:10:50.376Z"
   },
   {
    "duration": 11,
    "start_time": "2024-08-04T15:10:50.615Z"
   },
   {
    "duration": 15,
    "start_time": "2024-08-04T15:10:50.684Z"
   },
   {
    "duration": 5,
    "start_time": "2024-08-04T15:10:51.003Z"
   },
   {
    "duration": 29,
    "start_time": "2024-08-04T15:10:51.082Z"
   },
   {
    "duration": 7,
    "start_time": "2024-08-04T15:10:52.854Z"
   },
   {
    "duration": 3,
    "start_time": "2024-08-04T15:10:53.005Z"
   },
   {
    "duration": 5,
    "start_time": "2024-08-04T15:10:53.208Z"
   },
   {
    "duration": 6,
    "start_time": "2024-08-04T15:10:53.387Z"
   },
   {
    "duration": 4,
    "start_time": "2024-08-04T15:10:53.560Z"
   },
   {
    "duration": 6,
    "start_time": "2024-08-04T15:10:53.885Z"
   },
   {
    "duration": 5,
    "start_time": "2024-08-04T15:10:54.076Z"
   },
   {
    "duration": 35,
    "start_time": "2024-08-04T15:10:54.213Z"
   },
   {
    "duration": 9,
    "start_time": "2024-08-04T15:10:54.700Z"
   },
   {
    "duration": 13,
    "start_time": "2024-08-04T15:10:55.644Z"
   },
   {
    "duration": 9,
    "start_time": "2024-08-04T15:10:55.832Z"
   },
   {
    "duration": 4,
    "start_time": "2024-08-04T15:10:56.034Z"
   },
   {
    "duration": 147,
    "start_time": "2024-08-04T15:10:56.995Z"
   },
   {
    "duration": 11,
    "start_time": "2024-08-04T15:11:09.129Z"
   },
   {
    "duration": 42,
    "start_time": "2024-08-04T15:12:18.310Z"
   },
   {
    "duration": 46,
    "start_time": "2024-08-04T15:13:02.348Z"
   },
   {
    "duration": 9,
    "start_time": "2024-08-04T15:15:38.400Z"
   },
   {
    "duration": 1408,
    "start_time": "2024-08-04T15:16:07.975Z"
   },
   {
    "duration": 42,
    "start_time": "2024-08-04T15:16:09.385Z"
   },
   {
    "duration": 33,
    "start_time": "2024-08-04T15:16:10.621Z"
   },
   {
    "duration": 23,
    "start_time": "2024-08-04T15:16:10.846Z"
   },
   {
    "duration": 18,
    "start_time": "2024-08-04T15:16:11.038Z"
   },
   {
    "duration": 14,
    "start_time": "2024-08-04T15:16:11.346Z"
   },
   {
    "duration": 15,
    "start_time": "2024-08-04T15:16:11.649Z"
   },
   {
    "duration": 13,
    "start_time": "2024-08-04T15:16:11.862Z"
   },
   {
    "duration": 13,
    "start_time": "2024-08-04T15:16:12.225Z"
   },
   {
    "duration": 15,
    "start_time": "2024-08-04T15:16:12.582Z"
   },
   {
    "duration": 177,
    "start_time": "2024-08-04T15:16:12.795Z"
   },
   {
    "duration": 8,
    "start_time": "2024-08-04T15:16:13.263Z"
   },
   {
    "duration": 13,
    "start_time": "2024-08-04T15:16:13.631Z"
   },
   {
    "duration": 12,
    "start_time": "2024-08-04T15:16:13.738Z"
   },
   {
    "duration": 7,
    "start_time": "2024-08-04T15:16:14.104Z"
   },
   {
    "duration": 135,
    "start_time": "2024-08-04T15:16:14.323Z"
   },
   {
    "duration": 11,
    "start_time": "2024-08-04T15:16:14.820Z"
   },
   {
    "duration": 13,
    "start_time": "2024-08-04T15:16:15.186Z"
   },
   {
    "duration": 29,
    "start_time": "2024-08-04T15:16:15.365Z"
   },
   {
    "duration": 9,
    "start_time": "2024-08-04T15:16:15.657Z"
   },
   {
    "duration": 11,
    "start_time": "2024-08-04T15:16:16.151Z"
   },
   {
    "duration": 10,
    "start_time": "2024-08-04T15:16:16.506Z"
   },
   {
    "duration": 16,
    "start_time": "2024-08-04T15:16:16.719Z"
   },
   {
    "duration": 6,
    "start_time": "2024-08-04T15:16:17.050Z"
   },
   {
    "duration": 91,
    "start_time": "2024-08-04T15:16:17.684Z"
   },
   {
    "duration": 19,
    "start_time": "2024-08-04T15:16:17.865Z"
   },
   {
    "duration": 16,
    "start_time": "2024-08-04T15:16:18.161Z"
   },
   {
    "duration": 16,
    "start_time": "2024-08-04T15:16:18.467Z"
   },
   {
    "duration": 14,
    "start_time": "2024-08-04T15:16:19.282Z"
   },
   {
    "duration": 15,
    "start_time": "2024-08-04T15:16:19.494Z"
   },
   {
    "duration": 89,
    "start_time": "2024-08-04T15:16:19.677Z"
   },
   {
    "duration": 11,
    "start_time": "2024-08-04T15:16:19.860Z"
   },
   {
    "duration": 3,
    "start_time": "2024-08-04T15:16:20.039Z"
   },
   {
    "duration": 18,
    "start_time": "2024-08-04T15:16:20.221Z"
   },
   {
    "duration": 21,
    "start_time": "2024-08-04T15:16:20.371Z"
   },
   {
    "duration": 14,
    "start_time": "2024-08-04T15:16:20.649Z"
   },
   {
    "duration": 13,
    "start_time": "2024-08-04T15:16:20.824Z"
   },
   {
    "duration": 177,
    "start_time": "2024-08-04T15:16:20.944Z"
   },
   {
    "duration": 5,
    "start_time": "2024-08-04T15:16:21.123Z"
   },
   {
    "duration": 6,
    "start_time": "2024-08-04T15:16:21.142Z"
   },
   {
    "duration": 166,
    "start_time": "2024-08-04T15:16:21.232Z"
   },
   {
    "duration": 26,
    "start_time": "2024-08-04T15:16:21.400Z"
   },
   {
    "duration": 7,
    "start_time": "2024-08-04T15:16:23.020Z"
   },
   {
    "duration": 5,
    "start_time": "2024-08-04T15:16:23.210Z"
   },
   {
    "duration": 5,
    "start_time": "2024-08-04T15:16:23.423Z"
   },
   {
    "duration": 5,
    "start_time": "2024-08-04T15:16:23.600Z"
   },
   {
    "duration": 5,
    "start_time": "2024-08-04T15:16:23.813Z"
   },
   {
    "duration": 5,
    "start_time": "2024-08-04T15:16:24.032Z"
   },
   {
    "duration": 6,
    "start_time": "2024-08-04T15:16:24.214Z"
   },
   {
    "duration": 12,
    "start_time": "2024-08-04T15:16:24.652Z"
   },
   {
    "duration": 13,
    "start_time": "2024-08-04T15:16:25.865Z"
   },
   {
    "duration": 15,
    "start_time": "2024-08-04T15:16:26.052Z"
   },
   {
    "duration": 7,
    "start_time": "2024-08-04T15:16:28.555Z"
   },
   {
    "duration": 24,
    "start_time": "2024-08-04T15:16:28.955Z"
   },
   {
    "duration": 6,
    "start_time": "2024-08-04T15:16:30.388Z"
   },
   {
    "duration": 4,
    "start_time": "2024-08-04T15:16:32.274Z"
   },
   {
    "duration": 4,
    "start_time": "2024-08-04T15:16:32.772Z"
   },
   {
    "duration": 5,
    "start_time": "2024-08-04T15:16:32.989Z"
   },
   {
    "duration": 4,
    "start_time": "2024-08-04T15:16:34.071Z"
   },
   {
    "duration": 5,
    "start_time": "2024-08-04T15:16:34.941Z"
   },
   {
    "duration": 4,
    "start_time": "2024-08-04T15:16:36.619Z"
   },
   {
    "duration": 26,
    "start_time": "2024-08-04T15:16:36.820Z"
   },
   {
    "duration": 8,
    "start_time": "2024-08-04T15:16:37.123Z"
   },
   {
    "duration": 14,
    "start_time": "2024-08-04T15:16:38.106Z"
   },
   {
    "duration": 6,
    "start_time": "2024-08-04T15:16:38.439Z"
   },
   {
    "duration": 3,
    "start_time": "2024-08-04T15:16:39.476Z"
   },
   {
    "duration": 33,
    "start_time": "2024-08-04T15:16:40.567Z"
   },
   {
    "duration": 5,
    "start_time": "2024-08-04T15:16:58.584Z"
   },
   {
    "duration": 132,
    "start_time": "2024-08-04T15:17:43.152Z"
   },
   {
    "duration": 1406,
    "start_time": "2024-08-04T15:22:11.786Z"
   },
   {
    "duration": 41,
    "start_time": "2024-08-04T15:22:13.212Z"
   },
   {
    "duration": 5,
    "start_time": "2024-08-04T15:22:31.006Z"
   },
   {
    "duration": 1435,
    "start_time": "2024-08-04T15:22:41.188Z"
   },
   {
    "duration": 42,
    "start_time": "2024-08-04T15:22:42.624Z"
   },
   {
    "duration": 42,
    "start_time": "2024-08-04T15:22:42.668Z"
   },
   {
    "duration": 23,
    "start_time": "2024-08-04T15:22:42.712Z"
   },
   {
    "duration": 19,
    "start_time": "2024-08-04T15:22:42.737Z"
   },
   {
    "duration": 15,
    "start_time": "2024-08-04T15:22:42.773Z"
   },
   {
    "duration": 15,
    "start_time": "2024-08-04T15:22:43.142Z"
   },
   {
    "duration": 11,
    "start_time": "2024-08-04T15:22:43.359Z"
   },
   {
    "duration": 12,
    "start_time": "2024-08-04T15:22:43.726Z"
   },
   {
    "duration": 9,
    "start_time": "2024-08-04T15:22:44.088Z"
   },
   {
    "duration": 185,
    "start_time": "2024-08-04T15:22:44.265Z"
   },
   {
    "duration": 9,
    "start_time": "2024-08-04T15:22:44.736Z"
   },
   {
    "duration": 11,
    "start_time": "2024-08-04T15:22:45.102Z"
   },
   {
    "duration": 12,
    "start_time": "2024-08-04T15:22:45.331Z"
   },
   {
    "duration": 7,
    "start_time": "2024-08-04T15:22:45.619Z"
   },
   {
    "duration": 132,
    "start_time": "2024-08-04T15:22:45.844Z"
   },
   {
    "duration": 10,
    "start_time": "2024-08-04T15:22:46.352Z"
   },
   {
    "duration": 12,
    "start_time": "2024-08-04T15:22:46.681Z"
   },
   {
    "duration": 30,
    "start_time": "2024-08-04T15:22:46.860Z"
   },
   {
    "duration": 8,
    "start_time": "2024-08-04T15:22:47.165Z"
   },
   {
    "duration": 7,
    "start_time": "2024-08-04T15:22:47.655Z"
   },
   {
    "duration": 11,
    "start_time": "2024-08-04T15:22:47.950Z"
   },
   {
    "duration": 16,
    "start_time": "2024-08-04T15:22:48.159Z"
   },
   {
    "duration": 6,
    "start_time": "2024-08-04T15:22:48.537Z"
   },
   {
    "duration": 87,
    "start_time": "2024-08-04T15:22:49.170Z"
   },
   {
    "duration": 16,
    "start_time": "2024-08-04T15:22:49.384Z"
   },
   {
    "duration": 16,
    "start_time": "2024-08-04T15:22:49.751Z"
   },
   {
    "duration": 15,
    "start_time": "2024-08-04T15:22:50.021Z"
   },
   {
    "duration": 12,
    "start_time": "2024-08-04T15:22:50.886Z"
   },
   {
    "duration": 15,
    "start_time": "2024-08-04T15:22:51.063Z"
   },
   {
    "duration": 89,
    "start_time": "2024-08-04T15:22:51.237Z"
   },
   {
    "duration": 13,
    "start_time": "2024-08-04T15:22:51.424Z"
   },
   {
    "duration": 3,
    "start_time": "2024-08-04T15:22:51.604Z"
   },
   {
    "duration": 19,
    "start_time": "2024-08-04T15:22:51.790Z"
   },
   {
    "duration": 26,
    "start_time": "2024-08-04T15:22:52.009Z"
   },
   {
    "duration": 15,
    "start_time": "2024-08-04T15:22:52.367Z"
   },
   {
    "duration": 12,
    "start_time": "2024-08-04T15:22:52.755Z"
   },
   {
    "duration": 165,
    "start_time": "2024-08-04T15:22:52.850Z"
   },
   {
    "duration": 5,
    "start_time": "2024-08-04T15:22:53.016Z"
   },
   {
    "duration": 6,
    "start_time": "2024-08-04T15:22:53.060Z"
   },
   {
    "duration": 161,
    "start_time": "2024-08-04T15:22:53.140Z"
   },
   {
    "duration": 25,
    "start_time": "2024-08-04T15:22:53.320Z"
   },
   {
    "duration": 7,
    "start_time": "2024-08-04T15:22:53.630Z"
   },
   {
    "duration": 7,
    "start_time": "2024-08-04T15:22:53.716Z"
   },
   {
    "duration": 7,
    "start_time": "2024-08-04T15:22:53.852Z"
   },
   {
    "duration": 6,
    "start_time": "2024-08-04T15:22:54.979Z"
   },
   {
    "duration": 5,
    "start_time": "2024-08-04T15:22:55.137Z"
   },
   {
    "duration": 5,
    "start_time": "2024-08-04T15:22:55.311Z"
   },
   {
    "duration": 7,
    "start_time": "2024-08-04T15:22:55.484Z"
   },
   {
    "duration": 12,
    "start_time": "2024-08-04T15:22:56.214Z"
   },
   {
    "duration": 12,
    "start_time": "2024-08-04T15:22:56.735Z"
   },
   {
    "duration": 15,
    "start_time": "2024-08-04T15:22:56.926Z"
   },
   {
    "duration": 5,
    "start_time": "2024-08-04T15:22:58.314Z"
   },
   {
    "duration": 27,
    "start_time": "2024-08-04T15:22:58.476Z"
   },
   {
    "duration": 6,
    "start_time": "2024-08-04T15:22:59.628Z"
   },
   {
    "duration": 4,
    "start_time": "2024-08-04T15:23:00.039Z"
   },
   {
    "duration": 3,
    "start_time": "2024-08-04T15:23:00.272Z"
   },
   {
    "duration": 7,
    "start_time": "2024-08-04T15:23:00.962Z"
   },
   {
    "duration": 5,
    "start_time": "2024-08-04T15:23:01.146Z"
   },
   {
    "duration": 5,
    "start_time": "2024-08-04T15:23:01.529Z"
   },
   {
    "duration": 5,
    "start_time": "2024-08-04T15:23:01.913Z"
   },
   {
    "duration": 25,
    "start_time": "2024-08-04T15:23:02.439Z"
   },
   {
    "duration": 8,
    "start_time": "2024-08-04T15:23:02.963Z"
   },
   {
    "duration": 18,
    "start_time": "2024-08-04T15:23:04.080Z"
   },
   {
    "duration": 7,
    "start_time": "2024-08-04T15:23:04.994Z"
   },
   {
    "duration": 3,
    "start_time": "2024-08-04T15:23:06.721Z"
   },
   {
    "duration": 123,
    "start_time": "2024-08-04T15:23:08.680Z"
   },
   {
    "duration": 11,
    "start_time": "2024-08-04T15:26:25.578Z"
   },
   {
    "duration": 42,
    "start_time": "2024-08-04T15:26:52.522Z"
   },
   {
    "duration": 59,
    "start_time": "2024-08-04T15:30:38.316Z"
   },
   {
    "duration": 2347,
    "start_time": "2024-08-04T15:30:49.308Z"
   },
   {
    "duration": 2341,
    "start_time": "2024-08-04T15:31:15.065Z"
   },
   {
    "duration": 1181,
    "start_time": "2024-08-04T15:38:13.184Z"
   },
   {
    "duration": 1305,
    "start_time": "2024-08-04T15:38:21.767Z"
   },
   {
    "duration": 1618,
    "start_time": "2024-08-04T15:38:38.869Z"
   },
   {
    "duration": 3224,
    "start_time": "2024-08-04T15:39:28.144Z"
   },
   {
    "duration": 3033,
    "start_time": "2024-08-04T15:39:37.995Z"
   },
   {
    "duration": 2807,
    "start_time": "2024-08-04T15:39:49.704Z"
   },
   {
    "duration": 2648,
    "start_time": "2024-08-04T15:39:57.526Z"
   },
   {
    "duration": 2624,
    "start_time": "2024-08-04T15:40:07.780Z"
   },
   {
    "duration": 2628,
    "start_time": "2024-08-04T15:40:19.881Z"
   },
   {
    "duration": 3158,
    "start_time": "2024-08-04T15:40:30.324Z"
   },
   {
    "duration": 1388,
    "start_time": "2024-08-04T15:41:30.949Z"
   },
   {
    "duration": 44,
    "start_time": "2024-08-04T15:41:32.339Z"
   },
   {
    "duration": 28,
    "start_time": "2024-08-04T15:41:32.980Z"
   },
   {
    "duration": 23,
    "start_time": "2024-08-04T15:41:33.188Z"
   },
   {
    "duration": 29,
    "start_time": "2024-08-04T15:41:34.718Z"
   },
   {
    "duration": 15,
    "start_time": "2024-08-04T15:41:35.022Z"
   },
   {
    "duration": 14,
    "start_time": "2024-08-04T15:41:35.326Z"
   },
   {
    "duration": 10,
    "start_time": "2024-08-04T15:41:35.723Z"
   },
   {
    "duration": 12,
    "start_time": "2024-08-04T15:41:36.101Z"
   },
   {
    "duration": 11,
    "start_time": "2024-08-04T15:41:36.466Z"
   },
   {
    "duration": 186,
    "start_time": "2024-08-04T15:41:36.680Z"
   },
   {
    "duration": 9,
    "start_time": "2024-08-04T15:41:37.101Z"
   },
   {
    "duration": 15,
    "start_time": "2024-08-04T15:41:37.639Z"
   },
   {
    "duration": 12,
    "start_time": "2024-08-04T15:41:37.707Z"
   },
   {
    "duration": 8,
    "start_time": "2024-08-04T15:41:38.073Z"
   },
   {
    "duration": 126,
    "start_time": "2024-08-04T15:41:38.291Z"
   },
   {
    "duration": 11,
    "start_time": "2024-08-04T15:41:38.812Z"
   },
   {
    "duration": 18,
    "start_time": "2024-08-04T15:41:39.174Z"
   },
   {
    "duration": 33,
    "start_time": "2024-08-04T15:41:39.390Z"
   },
   {
    "duration": 12,
    "start_time": "2024-08-04T15:41:39.753Z"
   },
   {
    "duration": 7,
    "start_time": "2024-08-04T15:41:40.215Z"
   },
   {
    "duration": 10,
    "start_time": "2024-08-04T15:41:40.512Z"
   },
   {
    "duration": 23,
    "start_time": "2024-08-04T15:41:40.691Z"
   },
   {
    "duration": 7,
    "start_time": "2024-08-04T15:41:41.049Z"
   },
   {
    "duration": 94,
    "start_time": "2024-08-04T15:41:41.662Z"
   },
   {
    "duration": 18,
    "start_time": "2024-08-04T15:41:41.881Z"
   },
   {
    "duration": 16,
    "start_time": "2024-08-04T15:41:42.335Z"
   },
   {
    "duration": 17,
    "start_time": "2024-08-04T15:41:42.616Z"
   },
   {
    "duration": 12,
    "start_time": "2024-08-04T15:41:43.312Z"
   },
   {
    "duration": 98,
    "start_time": "2024-08-04T15:41:43.492Z"
   },
   {
    "duration": 10,
    "start_time": "2024-08-04T15:41:43.674Z"
   },
   {
    "duration": 14,
    "start_time": "2024-08-04T15:41:43.864Z"
   },
   {
    "duration": 3,
    "start_time": "2024-08-04T15:41:44.038Z"
   },
   {
    "duration": 19,
    "start_time": "2024-08-04T15:41:44.223Z"
   },
   {
    "duration": 33,
    "start_time": "2024-08-04T15:41:44.402Z"
   },
   {
    "duration": 15,
    "start_time": "2024-08-04T15:41:44.702Z"
   },
   {
    "duration": 18,
    "start_time": "2024-08-04T15:41:45.172Z"
   },
   {
    "duration": 170,
    "start_time": "2024-08-04T15:41:45.384Z"
   },
   {
    "duration": 5,
    "start_time": "2024-08-04T15:41:45.561Z"
   },
   {
    "duration": 6,
    "start_time": "2024-08-04T15:41:45.741Z"
   },
   {
    "duration": 202,
    "start_time": "2024-08-04T15:41:45.931Z"
   },
   {
    "duration": 27,
    "start_time": "2024-08-04T15:41:46.149Z"
   },
   {
    "duration": 5,
    "start_time": "2024-08-04T15:41:46.485Z"
   },
   {
    "duration": 5,
    "start_time": "2024-08-04T15:41:46.644Z"
   },
   {
    "duration": 5,
    "start_time": "2024-08-04T15:41:46.727Z"
   },
   {
    "duration": 5,
    "start_time": "2024-08-04T15:41:46.863Z"
   },
   {
    "duration": 8,
    "start_time": "2024-08-04T15:41:46.981Z"
   },
   {
    "duration": 5,
    "start_time": "2024-08-04T15:41:47.153Z"
   },
   {
    "duration": 5,
    "start_time": "2024-08-04T15:41:47.236Z"
   },
   {
    "duration": 13,
    "start_time": "2024-08-04T15:41:47.408Z"
   },
   {
    "duration": 11,
    "start_time": "2024-08-04T15:41:47.665Z"
   },
   {
    "duration": 25,
    "start_time": "2024-08-04T15:41:47.987Z"
   },
   {
    "duration": 5,
    "start_time": "2024-08-04T15:41:49.408Z"
   },
   {
    "duration": 26,
    "start_time": "2024-08-04T15:41:49.635Z"
   },
   {
    "duration": 5,
    "start_time": "2024-08-04T15:41:50.744Z"
   },
   {
    "duration": 3,
    "start_time": "2024-08-04T15:41:51.109Z"
   },
   {
    "duration": 4,
    "start_time": "2024-08-04T15:41:51.513Z"
   },
   {
    "duration": 6,
    "start_time": "2024-08-04T15:41:51.723Z"
   },
   {
    "duration": 6,
    "start_time": "2024-08-04T15:41:51.924Z"
   },
   {
    "duration": 5,
    "start_time": "2024-08-04T15:41:52.546Z"
   },
   {
    "duration": 4,
    "start_time": "2024-08-04T15:41:52.993Z"
   },
   {
    "duration": 25,
    "start_time": "2024-08-04T15:41:53.344Z"
   },
   {
    "duration": 8,
    "start_time": "2024-08-04T15:41:53.613Z"
   },
   {
    "duration": 15,
    "start_time": "2024-08-04T15:41:54.661Z"
   },
   {
    "duration": 6,
    "start_time": "2024-08-04T15:41:55.095Z"
   },
   {
    "duration": 4,
    "start_time": "2024-08-04T15:41:55.729Z"
   },
   {
    "duration": 154,
    "start_time": "2024-08-04T15:41:56.727Z"
   },
   {
    "duration": 71,
    "start_time": "2024-08-04T15:42:40.844Z"
   },
   {
    "duration": 23,
    "start_time": "2024-08-04T15:42:48.293Z"
   },
   {
    "duration": 29,
    "start_time": "2024-08-04T15:43:00.823Z"
   },
   {
    "duration": 20558,
    "start_time": "2024-08-04T15:43:03.029Z"
   },
   {
    "duration": 19950,
    "start_time": "2024-08-04T15:43:23.591Z"
   },
   {
    "duration": 42,
    "start_time": "2024-08-04T15:43:43.543Z"
   },
   {
    "duration": 40698,
    "start_time": "2024-08-04T15:43:43.587Z"
   },
   {
    "duration": 3,
    "start_time": "2024-08-04T15:44:24.288Z"
   },
   {
    "duration": 73253,
    "start_time": "2024-08-04T15:45:53.298Z"
   },
   {
    "duration": 82,
    "start_time": "2024-08-04T15:47:42.941Z"
   },
   {
    "duration": 29,
    "start_time": "2024-08-04T15:47:52.029Z"
   },
   {
    "duration": 75468,
    "start_time": "2024-08-04T15:48:33.656Z"
   },
   {
    "duration": 26,
    "start_time": "2024-08-04T15:50:13.775Z"
   },
   {
    "duration": 12559,
    "start_time": "2024-08-04T15:52:17.058Z"
   },
   {
    "duration": 109061,
    "start_time": "2024-08-04T15:52:37.970Z"
   },
   {
    "duration": 150724,
    "start_time": "2024-08-04T15:54:33.260Z"
   },
   {
    "duration": 229970,
    "start_time": "2024-08-04T15:57:25.615Z"
   },
   {
    "duration": 117595,
    "start_time": "2024-08-04T16:01:26.718Z"
   },
   {
    "duration": 152550,
    "start_time": "2024-08-04T16:03:42.767Z"
   },
   {
    "duration": 143432,
    "start_time": "2024-08-04T16:08:48.152Z"
   },
   {
    "duration": 289065,
    "start_time": "2024-08-04T16:16:38.402Z"
   },
   {
    "duration": 47,
    "start_time": "2024-08-04T16:21:32.750Z"
   },
   {
    "duration": 43,
    "start_time": "2024-08-04T16:21:51.314Z"
   },
   {
    "duration": 121,
    "start_time": "2024-08-04T16:22:13.862Z"
   },
   {
    "duration": 78,
    "start_time": "2024-08-04T16:22:29.568Z"
   },
   {
    "duration": 44,
    "start_time": "2024-08-04T16:25:52.437Z"
   },
   {
    "duration": 44,
    "start_time": "2024-08-04T16:26:05.220Z"
   },
   {
    "duration": 215608,
    "start_time": "2024-08-04T16:28:06.477Z"
   },
   {
    "duration": 252625,
    "start_time": "2024-08-04T16:32:31.692Z"
   },
   {
    "duration": 256687,
    "start_time": "2024-08-04T16:39:29.772Z"
   },
   {
    "duration": 6,
    "start_time": "2024-08-04T16:44:12.593Z"
   },
   {
    "duration": 18,
    "start_time": "2024-08-04T16:52:09.004Z"
   },
   {
    "duration": 21,
    "start_time": "2024-08-04T16:55:39.195Z"
   },
   {
    "duration": 23,
    "start_time": "2024-08-04T16:55:48.788Z"
   },
   {
    "duration": 17,
    "start_time": "2024-08-04T16:56:00.415Z"
   },
   {
    "duration": 1796,
    "start_time": "2024-08-05T07:43:36.657Z"
   },
   {
    "duration": 134,
    "start_time": "2024-08-05T07:43:38.455Z"
   },
   {
    "duration": 118,
    "start_time": "2024-08-05T07:43:39.325Z"
   },
   {
    "duration": 1561,
    "start_time": "2024-08-05T07:44:06.505Z"
   },
   {
    "duration": 42,
    "start_time": "2024-08-05T07:44:08.067Z"
   },
   {
    "duration": 22,
    "start_time": "2024-08-05T07:44:08.111Z"
   },
   {
    "duration": 118,
    "start_time": "2024-08-05T07:44:08.845Z"
   },
   {
    "duration": 83,
    "start_time": "2024-08-05T07:44:09.060Z"
   },
   {
    "duration": 15,
    "start_time": "2024-08-05T07:44:09.498Z"
   },
   {
    "duration": 14,
    "start_time": "2024-08-05T07:44:09.735Z"
   },
   {
    "duration": 11,
    "start_time": "2024-08-05T07:44:09.933Z"
   },
   {
    "duration": 13,
    "start_time": "2024-08-05T07:44:10.283Z"
   },
   {
    "duration": 11,
    "start_time": "2024-08-05T07:44:10.469Z"
   },
   {
    "duration": 185,
    "start_time": "2024-08-05T07:44:10.638Z"
   },
   {
    "duration": 12,
    "start_time": "2024-08-05T07:44:11.067Z"
   },
   {
    "duration": 12,
    "start_time": "2024-08-05T07:44:11.256Z"
   },
   {
    "duration": 12,
    "start_time": "2024-08-05T07:44:11.419Z"
   },
   {
    "duration": 8,
    "start_time": "2024-08-05T07:44:11.642Z"
   },
   {
    "duration": 126,
    "start_time": "2024-08-05T07:44:11.834Z"
   },
   {
    "duration": 11,
    "start_time": "2024-08-05T07:44:12.254Z"
   },
   {
    "duration": 13,
    "start_time": "2024-08-05T07:44:12.449Z"
   },
   {
    "duration": 32,
    "start_time": "2024-08-05T07:44:12.609Z"
   },
   {
    "duration": 9,
    "start_time": "2024-08-05T07:44:12.836Z"
   },
   {
    "duration": 8,
    "start_time": "2024-08-05T07:44:13.255Z"
   },
   {
    "duration": 10,
    "start_time": "2024-08-05T07:44:13.476Z"
   },
   {
    "duration": 16,
    "start_time": "2024-08-05T07:44:13.665Z"
   },
   {
    "duration": 8,
    "start_time": "2024-08-05T07:44:13.892Z"
   },
   {
    "duration": 180,
    "start_time": "2024-08-05T07:44:14.464Z"
   },
   {
    "duration": 47,
    "start_time": "2024-08-05T07:44:14.647Z"
   },
   {
    "duration": 17,
    "start_time": "2024-08-05T07:44:14.795Z"
   },
   {
    "duration": 16,
    "start_time": "2024-08-05T07:44:14.972Z"
   },
   {
    "duration": 12,
    "start_time": "2024-08-05T07:44:15.500Z"
   },
   {
    "duration": 15,
    "start_time": "2024-08-05T07:44:15.653Z"
   },
   {
    "duration": 10,
    "start_time": "2024-08-05T07:44:15.854Z"
   },
   {
    "duration": 11,
    "start_time": "2024-08-05T07:44:16.054Z"
   },
   {
    "duration": 4,
    "start_time": "2024-08-05T07:44:16.235Z"
   },
   {
    "duration": 19,
    "start_time": "2024-08-05T07:44:16.411Z"
   },
   {
    "duration": 25,
    "start_time": "2024-08-05T07:44:16.730Z"
   },
   {
    "duration": 21,
    "start_time": "2024-08-05T07:44:16.945Z"
   },
   {
    "duration": 12,
    "start_time": "2024-08-05T07:44:17.586Z"
   },
   {
    "duration": 167,
    "start_time": "2024-08-05T07:44:17.787Z"
   },
   {
    "duration": 5,
    "start_time": "2024-08-05T07:44:17.956Z"
   },
   {
    "duration": 7,
    "start_time": "2024-08-05T07:44:18.122Z"
   },
   {
    "duration": 173,
    "start_time": "2024-08-05T07:44:18.291Z"
   },
   {
    "duration": 27,
    "start_time": "2024-08-05T07:44:18.726Z"
   },
   {
    "duration": 7,
    "start_time": "2024-08-05T07:44:19.221Z"
   },
   {
    "duration": 7,
    "start_time": "2024-08-05T07:44:19.410Z"
   },
   {
    "duration": 6,
    "start_time": "2024-08-05T07:44:19.604Z"
   },
   {
    "duration": 7,
    "start_time": "2024-08-05T07:44:19.793Z"
   },
   {
    "duration": 7,
    "start_time": "2024-08-05T07:44:19.960Z"
   },
   {
    "duration": 6,
    "start_time": "2024-08-05T07:44:20.124Z"
   },
   {
    "duration": 7,
    "start_time": "2024-08-05T07:44:20.292Z"
   },
   {
    "duration": 16,
    "start_time": "2024-08-05T07:44:20.670Z"
   },
   {
    "duration": 13,
    "start_time": "2024-08-05T07:44:20.977Z"
   },
   {
    "duration": 16,
    "start_time": "2024-08-05T07:44:21.174Z"
   },
   {
    "duration": 5,
    "start_time": "2024-08-05T07:44:21.468Z"
   },
   {
    "duration": 27,
    "start_time": "2024-08-05T07:44:21.862Z"
   },
   {
    "duration": 7,
    "start_time": "2024-08-05T07:44:22.705Z"
   },
   {
    "duration": 2,
    "start_time": "2024-08-05T07:44:23.063Z"
   },
   {
    "duration": 3,
    "start_time": "2024-08-05T07:44:23.248Z"
   },
   {
    "duration": 6,
    "start_time": "2024-08-05T07:44:23.416Z"
   },
   {
    "duration": 4,
    "start_time": "2024-08-05T07:44:23.714Z"
   },
   {
    "duration": 6,
    "start_time": "2024-08-05T07:44:24.167Z"
   },
   {
    "duration": 4,
    "start_time": "2024-08-05T07:44:24.778Z"
   },
   {
    "duration": 30,
    "start_time": "2024-08-05T07:44:25.139Z"
   },
   {
    "duration": 7,
    "start_time": "2024-08-05T07:44:25.489Z"
   },
   {
    "duration": 14,
    "start_time": "2024-08-05T07:44:26.097Z"
   },
   {
    "duration": 7,
    "start_time": "2024-08-05T07:44:26.591Z"
   },
   {
    "duration": 3,
    "start_time": "2024-08-05T07:44:26.792Z"
   },
   {
    "duration": 121,
    "start_time": "2024-08-05T07:44:27.319Z"
   },
   {
    "duration": 12,
    "start_time": "2024-08-05T07:44:27.885Z"
   },
   {
    "duration": 127,
    "start_time": "2024-08-05T07:44:28.232Z"
   },
   {
    "duration": 1168,
    "start_time": "2024-08-05T07:44:29.716Z"
   },
   {
    "duration": 49,
    "start_time": "2024-08-05T07:44:30.994Z"
   },
   {
    "duration": 66,
    "start_time": "2024-08-05T07:45:27.841Z"
   },
   {
    "duration": 1576,
    "start_time": "2024-08-05T07:45:59.168Z"
   },
   {
    "duration": 42,
    "start_time": "2024-08-05T07:46:02.116Z"
   },
   {
    "duration": 33,
    "start_time": "2024-08-05T07:46:09.649Z"
   },
   {
    "duration": 23,
    "start_time": "2024-08-05T07:46:09.850Z"
   },
   {
    "duration": 18,
    "start_time": "2024-08-05T07:46:10.058Z"
   },
   {
    "duration": 16,
    "start_time": "2024-08-05T07:46:10.504Z"
   },
   {
    "duration": 14,
    "start_time": "2024-08-05T07:46:11.553Z"
   },
   {
    "duration": 10,
    "start_time": "2024-08-05T07:46:11.680Z"
   },
   {
    "duration": 12,
    "start_time": "2024-08-05T07:46:12.077Z"
   },
   {
    "duration": 11,
    "start_time": "2024-08-05T07:46:13.125Z"
   },
   {
    "duration": 181,
    "start_time": "2024-08-05T07:46:13.322Z"
   },
   {
    "duration": 10,
    "start_time": "2024-08-05T07:46:13.697Z"
   },
   {
    "duration": 12,
    "start_time": "2024-08-05T07:46:14.744Z"
   },
   {
    "duration": 12,
    "start_time": "2024-08-05T07:46:14.878Z"
   },
   {
    "duration": 10,
    "start_time": "2024-08-05T07:46:15.907Z"
   },
   {
    "duration": 148,
    "start_time": "2024-08-05T07:46:16.030Z"
   },
   {
    "duration": 11,
    "start_time": "2024-08-05T07:46:16.285Z"
   },
   {
    "duration": 12,
    "start_time": "2024-08-05T07:46:17.279Z"
   },
   {
    "duration": 31,
    "start_time": "2024-08-05T07:46:17.407Z"
   },
   {
    "duration": 8,
    "start_time": "2024-08-05T07:46:18.440Z"
   },
   {
    "duration": 7,
    "start_time": "2024-08-05T07:46:18.673Z"
   },
   {
    "duration": 10,
    "start_time": "2024-08-05T07:46:19.697Z"
   },
   {
    "duration": 18,
    "start_time": "2024-08-05T07:46:19.831Z"
   },
   {
    "duration": 6,
    "start_time": "2024-08-05T07:46:20.834Z"
   },
   {
    "duration": 193,
    "start_time": "2024-08-05T07:46:21.741Z"
   },
   {
    "duration": 21,
    "start_time": "2024-08-05T07:46:21.936Z"
   },
   {
    "duration": 18,
    "start_time": "2024-08-05T07:46:22.842Z"
   },
   {
    "duration": 17,
    "start_time": "2024-08-05T07:46:24.299Z"
   },
   {
    "duration": 13,
    "start_time": "2024-08-05T07:46:25.495Z"
   },
   {
    "duration": 16,
    "start_time": "2024-08-05T07:46:25.577Z"
   },
   {
    "duration": 10,
    "start_time": "2024-08-05T07:46:25.686Z"
   },
   {
    "duration": 12,
    "start_time": "2024-08-05T07:46:25.752Z"
   },
   {
    "duration": 3,
    "start_time": "2024-08-05T07:46:25.825Z"
   },
   {
    "duration": 19,
    "start_time": "2024-08-05T07:46:25.934Z"
   },
   {
    "duration": 21,
    "start_time": "2024-08-05T07:46:26.008Z"
   },
   {
    "duration": 15,
    "start_time": "2024-08-05T07:46:26.998Z"
   },
   {
    "duration": 12,
    "start_time": "2024-08-05T07:46:27.240Z"
   },
   {
    "duration": 169,
    "start_time": "2024-08-05T07:46:27.314Z"
   },
   {
    "duration": 6,
    "start_time": "2024-08-05T07:46:27.485Z"
   },
   {
    "duration": 13,
    "start_time": "2024-08-05T07:46:27.493Z"
   },
   {
    "duration": 167,
    "start_time": "2024-08-05T07:46:27.598Z"
   },
   {
    "duration": 34,
    "start_time": "2024-08-05T07:46:27.768Z"
   },
   {
    "duration": 4,
    "start_time": "2024-08-05T07:46:28.770Z"
   },
   {
    "duration": 5,
    "start_time": "2024-08-05T07:46:28.871Z"
   },
   {
    "duration": 5,
    "start_time": "2024-08-05T07:46:28.990Z"
   },
   {
    "duration": 5,
    "start_time": "2024-08-05T07:46:29.096Z"
   },
   {
    "duration": 4,
    "start_time": "2024-08-05T07:46:29.149Z"
   },
   {
    "duration": 5,
    "start_time": "2024-08-05T07:46:29.455Z"
   },
   {
    "duration": 6,
    "start_time": "2024-08-05T07:46:29.696Z"
   },
   {
    "duration": 20,
    "start_time": "2024-08-05T07:46:29.884Z"
   },
   {
    "duration": 12,
    "start_time": "2024-08-05T07:46:30.764Z"
   },
   {
    "duration": 15,
    "start_time": "2024-08-05T07:46:30.944Z"
   },
   {
    "duration": 5,
    "start_time": "2024-08-05T07:46:32.746Z"
   },
   {
    "duration": 24,
    "start_time": "2024-08-05T07:46:33.609Z"
   },
   {
    "duration": 5,
    "start_time": "2024-08-05T07:46:34.785Z"
   },
   {
    "duration": 3,
    "start_time": "2024-08-05T07:46:35.542Z"
   },
   {
    "duration": 6,
    "start_time": "2024-08-05T07:46:35.765Z"
   },
   {
    "duration": 6,
    "start_time": "2024-08-05T07:46:36.002Z"
   },
   {
    "duration": 4,
    "start_time": "2024-08-05T07:46:36.474Z"
   },
   {
    "duration": 5,
    "start_time": "2024-08-05T07:46:37.428Z"
   },
   {
    "duration": 4,
    "start_time": "2024-08-05T07:46:38.350Z"
   },
   {
    "duration": 25,
    "start_time": "2024-08-05T07:46:38.958Z"
   },
   {
    "duration": 8,
    "start_time": "2024-08-05T07:46:40.005Z"
   },
   {
    "duration": 14,
    "start_time": "2024-08-05T07:46:40.157Z"
   },
   {
    "duration": 6,
    "start_time": "2024-08-05T07:46:41.249Z"
   },
   {
    "duration": 3,
    "start_time": "2024-08-05T07:46:41.898Z"
   },
   {
    "duration": 69,
    "start_time": "2024-08-05T07:46:43.528Z"
   },
   {
    "duration": 28,
    "start_time": "2024-08-05T07:46:54.242Z"
   },
   {
    "duration": 28003,
    "start_time": "2024-08-05T07:46:55.980Z"
   },
   {
    "duration": 17815,
    "start_time": "2024-08-05T07:47:23.986Z"
   },
   {
    "duration": 3,
    "start_time": "2024-08-05T07:47:41.802Z"
   },
   {
    "duration": 267505,
    "start_time": "2024-08-05T07:47:41.807Z"
   },
   {
    "duration": 4,
    "start_time": "2024-08-05T07:52:09.313Z"
   },
   {
    "duration": 28,
    "start_time": "2024-08-05T07:52:09.319Z"
   },
   {
    "duration": 327737,
    "start_time": "2024-08-05T07:52:30.293Z"
   },
   {
    "duration": 4,
    "start_time": "2024-08-05T07:57:58.032Z"
   },
   {
    "duration": 22,
    "start_time": "2024-08-05T07:57:58.037Z"
   },
   {
    "duration": 1588,
    "start_time": "2024-08-05T08:13:07.475Z"
   },
   {
    "duration": 43,
    "start_time": "2024-08-05T08:13:09.065Z"
   },
   {
    "duration": 73,
    "start_time": "2024-08-05T08:13:09.110Z"
   },
   {
    "duration": 27,
    "start_time": "2024-08-05T08:13:09.797Z"
   },
   {
    "duration": 19,
    "start_time": "2024-08-05T08:13:09.997Z"
   },
   {
    "duration": 16,
    "start_time": "2024-08-05T08:13:10.412Z"
   },
   {
    "duration": 16,
    "start_time": "2024-08-05T08:13:10.631Z"
   },
   {
    "duration": 11,
    "start_time": "2024-08-05T08:13:10.817Z"
   },
   {
    "duration": 18,
    "start_time": "2024-08-05T08:13:11.294Z"
   },
   {
    "duration": 13,
    "start_time": "2024-08-05T08:13:11.581Z"
   },
   {
    "duration": 210,
    "start_time": "2024-08-05T08:13:11.823Z"
   },
   {
    "duration": 11,
    "start_time": "2024-08-05T08:13:12.503Z"
   },
   {
    "duration": 18,
    "start_time": "2024-08-05T08:13:12.784Z"
   },
   {
    "duration": 12,
    "start_time": "2024-08-05T08:13:12.961Z"
   },
   {
    "duration": 9,
    "start_time": "2024-08-05T08:13:13.275Z"
   },
   {
    "duration": 148,
    "start_time": "2024-08-05T08:13:13.486Z"
   },
   {
    "duration": 11,
    "start_time": "2024-08-05T08:13:14.154Z"
   },
   {
    "duration": 13,
    "start_time": "2024-08-05T08:13:14.435Z"
   },
   {
    "duration": 32,
    "start_time": "2024-08-05T08:13:14.555Z"
   },
   {
    "duration": 13,
    "start_time": "2024-08-05T08:13:14.823Z"
   },
   {
    "duration": 8,
    "start_time": "2024-08-05T08:13:15.462Z"
   },
   {
    "duration": 10,
    "start_time": "2024-08-05T08:13:15.743Z"
   },
   {
    "duration": 18,
    "start_time": "2024-08-05T08:13:15.927Z"
   },
   {
    "duration": 6,
    "start_time": "2024-08-05T08:13:16.219Z"
   },
   {
    "duration": 94,
    "start_time": "2024-08-05T08:13:16.890Z"
   },
   {
    "duration": 39,
    "start_time": "2024-08-05T08:13:17.074Z"
   },
   {
    "duration": 15,
    "start_time": "2024-08-05T08:13:17.367Z"
   },
   {
    "duration": 17,
    "start_time": "2024-08-05T08:13:17.673Z"
   },
   {
    "duration": 12,
    "start_time": "2024-08-05T08:13:18.436Z"
   },
   {
    "duration": 15,
    "start_time": "2024-08-05T08:13:18.654Z"
   },
   {
    "duration": 135,
    "start_time": "2024-08-05T08:13:18.862Z"
   },
   {
    "duration": 17,
    "start_time": "2024-08-05T08:13:19.485Z"
   },
   {
    "duration": 12,
    "start_time": "2024-08-05T08:13:19.504Z"
   },
   {
    "duration": 21,
    "start_time": "2024-08-05T08:13:19.517Z"
   },
   {
    "duration": 21,
    "start_time": "2024-08-05T08:13:19.630Z"
   },
   {
    "duration": 14,
    "start_time": "2024-08-05T08:13:19.957Z"
   },
   {
    "duration": 13,
    "start_time": "2024-08-05T08:13:20.740Z"
   },
   {
    "duration": 171,
    "start_time": "2024-08-05T08:13:20.980Z"
   },
   {
    "duration": 5,
    "start_time": "2024-08-05T08:13:21.158Z"
   },
   {
    "duration": 6,
    "start_time": "2024-08-05T08:13:21.341Z"
   },
   {
    "duration": 176,
    "start_time": "2024-08-05T08:13:21.522Z"
   },
   {
    "duration": 27,
    "start_time": "2024-08-05T08:13:21.801Z"
   },
   {
    "duration": 6,
    "start_time": "2024-08-05T08:13:22.117Z"
   },
   {
    "duration": 5,
    "start_time": "2024-08-05T08:13:22.287Z"
   },
   {
    "duration": 5,
    "start_time": "2024-08-05T08:13:22.364Z"
   },
   {
    "duration": 7,
    "start_time": "2024-08-05T08:13:22.448Z"
   },
   {
    "duration": 5,
    "start_time": "2024-08-05T08:13:22.577Z"
   },
   {
    "duration": 5,
    "start_time": "2024-08-05T08:13:22.960Z"
   },
   {
    "duration": 6,
    "start_time": "2024-08-05T08:13:23.127Z"
   },
   {
    "duration": 18,
    "start_time": "2024-08-05T08:13:23.295Z"
   },
   {
    "duration": 14,
    "start_time": "2024-08-05T08:13:23.843Z"
   },
   {
    "duration": 17,
    "start_time": "2024-08-05T08:13:24.091Z"
   },
   {
    "duration": 7,
    "start_time": "2024-08-05T08:13:25.524Z"
   },
   {
    "duration": 29,
    "start_time": "2024-08-05T08:13:25.739Z"
   },
   {
    "duration": 6,
    "start_time": "2024-08-05T08:13:26.065Z"
   },
   {
    "duration": 3,
    "start_time": "2024-08-05T08:13:26.235Z"
   },
   {
    "duration": 5,
    "start_time": "2024-08-05T08:13:26.418Z"
   },
   {
    "duration": 6,
    "start_time": "2024-08-05T08:13:27.334Z"
   },
   {
    "duration": 4,
    "start_time": "2024-08-05T08:13:27.531Z"
   },
   {
    "duration": 8,
    "start_time": "2024-08-05T08:13:27.923Z"
   },
   {
    "duration": 5,
    "start_time": "2024-08-05T08:13:28.196Z"
   },
   {
    "duration": 27,
    "start_time": "2024-08-05T08:13:28.424Z"
   },
   {
    "duration": 7,
    "start_time": "2024-08-05T08:13:28.652Z"
   },
   {
    "duration": 15,
    "start_time": "2024-08-05T08:13:30.062Z"
   },
   {
    "duration": 7,
    "start_time": "2024-08-05T08:13:30.815Z"
   },
   {
    "duration": 4,
    "start_time": "2024-08-05T08:13:31.046Z"
   },
   {
    "duration": 67,
    "start_time": "2024-08-05T08:13:32.059Z"
   },
   {
    "duration": 29,
    "start_time": "2024-08-05T08:13:33.279Z"
   },
   {
    "duration": 25926,
    "start_time": "2024-08-05T08:13:34.260Z"
   },
   {
    "duration": 19065,
    "start_time": "2024-08-05T08:14:00.193Z"
   },
   {
    "duration": 3,
    "start_time": "2024-08-05T08:14:19.260Z"
   },
   {
    "duration": 266307,
    "start_time": "2024-08-05T08:14:19.265Z"
   },
   {
    "duration": 4,
    "start_time": "2024-08-05T08:18:45.574Z"
   },
   {
    "duration": 29,
    "start_time": "2024-08-05T08:18:45.579Z"
   },
   {
    "duration": 140,
    "start_time": "2024-08-05T08:21:29.328Z"
   },
   {
    "duration": 6,
    "start_time": "2024-08-05T08:21:47.455Z"
   },
   {
    "duration": 11,
    "start_time": "2024-08-05T08:24:34.679Z"
   },
   {
    "duration": 23,
    "start_time": "2024-08-05T08:29:36.254Z"
   },
   {
    "duration": 6,
    "start_time": "2024-08-05T08:29:49.788Z"
   },
   {
    "duration": 6,
    "start_time": "2024-08-05T08:29:55.808Z"
   },
   {
    "duration": 12,
    "start_time": "2024-08-05T08:30:04.086Z"
   },
   {
    "duration": 16,
    "start_time": "2024-08-05T08:30:39.820Z"
   },
   {
    "duration": 1552,
    "start_time": "2024-08-05T08:32:12.975Z"
   },
   {
    "duration": 41,
    "start_time": "2024-08-05T08:32:14.529Z"
   },
   {
    "duration": 22,
    "start_time": "2024-08-05T08:32:14.572Z"
   },
   {
    "duration": 23,
    "start_time": "2024-08-05T08:32:14.596Z"
   },
   {
    "duration": 19,
    "start_time": "2024-08-05T08:32:14.620Z"
   },
   {
    "duration": 15,
    "start_time": "2024-08-05T08:32:14.641Z"
   },
   {
    "duration": 14,
    "start_time": "2024-08-05T08:32:15.372Z"
   },
   {
    "duration": 12,
    "start_time": "2024-08-05T08:32:15.550Z"
   },
   {
    "duration": 15,
    "start_time": "2024-08-05T08:32:15.905Z"
   },
   {
    "duration": 10,
    "start_time": "2024-08-05T08:32:16.259Z"
   },
   {
    "duration": 179,
    "start_time": "2024-08-05T08:32:16.473Z"
   },
   {
    "duration": 9,
    "start_time": "2024-08-05T08:32:16.989Z"
   },
   {
    "duration": 11,
    "start_time": "2024-08-05T08:32:17.299Z"
   },
   {
    "duration": 14,
    "start_time": "2024-08-05T08:32:17.515Z"
   },
   {
    "duration": 10,
    "start_time": "2024-08-05T08:32:17.852Z"
   },
   {
    "duration": 121,
    "start_time": "2024-08-05T08:32:17.963Z"
   },
   {
    "duration": 11,
    "start_time": "2024-08-05T08:32:18.671Z"
   },
   {
    "duration": 12,
    "start_time": "2024-08-05T08:32:19.004Z"
   },
   {
    "duration": 32,
    "start_time": "2024-08-05T08:32:19.227Z"
   },
   {
    "duration": 8,
    "start_time": "2024-08-05T08:32:19.494Z"
   },
   {
    "duration": 7,
    "start_time": "2024-08-05T08:32:20.147Z"
   },
   {
    "duration": 10,
    "start_time": "2024-08-05T08:32:20.472Z"
   },
   {
    "duration": 18,
    "start_time": "2024-08-05T08:32:20.814Z"
   },
   {
    "duration": 7,
    "start_time": "2024-08-05T08:32:21.180Z"
   },
   {
    "duration": 96,
    "start_time": "2024-08-05T08:32:21.859Z"
   },
   {
    "duration": 17,
    "start_time": "2024-08-05T08:32:22.078Z"
   },
   {
    "duration": 16,
    "start_time": "2024-08-05T08:32:22.427Z"
   },
   {
    "duration": 16,
    "start_time": "2024-08-05T08:32:22.790Z"
   },
   {
    "duration": 12,
    "start_time": "2024-08-05T08:32:23.781Z"
   },
   {
    "duration": 15,
    "start_time": "2024-08-05T08:32:23.892Z"
   },
   {
    "duration": 82,
    "start_time": "2024-08-05T08:32:24.110Z"
   },
   {
    "duration": 15,
    "start_time": "2024-08-05T08:32:24.317Z"
   },
   {
    "duration": 4,
    "start_time": "2024-08-05T08:32:24.512Z"
   },
   {
    "duration": 26,
    "start_time": "2024-08-05T08:32:24.623Z"
   },
   {
    "duration": 21,
    "start_time": "2024-08-05T08:32:24.840Z"
   },
   {
    "duration": 14,
    "start_time": "2024-08-05T08:32:25.105Z"
   },
   {
    "duration": 13,
    "start_time": "2024-08-05T08:32:25.756Z"
   },
   {
    "duration": 167,
    "start_time": "2024-08-05T08:32:25.966Z"
   },
   {
    "duration": 6,
    "start_time": "2024-08-05T08:32:26.181Z"
   },
   {
    "duration": 7,
    "start_time": "2024-08-05T08:32:26.408Z"
   },
   {
    "duration": 180,
    "start_time": "2024-08-05T08:32:26.556Z"
   },
   {
    "duration": 25,
    "start_time": "2024-08-05T08:32:26.950Z"
   },
   {
    "duration": 5,
    "start_time": "2024-08-05T08:32:27.389Z"
   },
   {
    "duration": 5,
    "start_time": "2024-08-05T08:32:27.607Z"
   },
   {
    "duration": 6,
    "start_time": "2024-08-05T08:32:27.787Z"
   },
   {
    "duration": 5,
    "start_time": "2024-08-05T08:32:28.001Z"
   },
   {
    "duration": 8,
    "start_time": "2024-08-05T08:32:28.182Z"
   },
   {
    "duration": 5,
    "start_time": "2024-08-05T08:32:28.399Z"
   },
   {
    "duration": 5,
    "start_time": "2024-08-05T08:32:28.615Z"
   },
   {
    "duration": 13,
    "start_time": "2024-08-05T08:32:28.833Z"
   },
   {
    "duration": 10,
    "start_time": "2024-08-05T08:32:29.149Z"
   },
   {
    "duration": 16,
    "start_time": "2024-08-05T08:32:29.345Z"
   },
   {
    "duration": 6,
    "start_time": "2024-08-05T08:32:29.849Z"
   },
   {
    "duration": 27,
    "start_time": "2024-08-05T08:32:30.067Z"
   },
   {
    "duration": 8,
    "start_time": "2024-08-05T08:32:30.505Z"
   },
   {
    "duration": 4,
    "start_time": "2024-08-05T08:32:30.688Z"
   },
   {
    "duration": 137,
    "start_time": "2024-08-05T08:32:30.865Z"
   },
   {
    "duration": 6,
    "start_time": "2024-08-05T08:32:31.045Z"
   },
   {
    "duration": 4,
    "start_time": "2024-08-05T08:32:31.228Z"
   },
   {
    "duration": 9,
    "start_time": "2024-08-05T08:32:31.547Z"
   },
   {
    "duration": 4,
    "start_time": "2024-08-05T08:32:31.758Z"
   },
   {
    "duration": 27,
    "start_time": "2024-08-05T08:32:31.976Z"
   },
   {
    "duration": 7,
    "start_time": "2024-08-05T08:32:32.262Z"
   },
   {
    "duration": 13,
    "start_time": "2024-08-05T08:32:32.872Z"
   },
   {
    "duration": 6,
    "start_time": "2024-08-05T08:32:33.055Z"
   },
   {
    "duration": 4,
    "start_time": "2024-08-05T08:32:33.238Z"
   },
   {
    "duration": 71,
    "start_time": "2024-08-05T08:32:33.566Z"
   },
   {
    "duration": 29,
    "start_time": "2024-08-05T08:32:33.877Z"
   },
   {
    "duration": 27850,
    "start_time": "2024-08-05T08:32:34.333Z"
   },
   {
    "duration": 18007,
    "start_time": "2024-08-05T08:33:02.189Z"
   },
   {
    "duration": 3,
    "start_time": "2024-08-05T08:33:20.197Z"
   },
   {
    "duration": 255906,
    "start_time": "2024-08-05T08:33:20.203Z"
   },
   {
    "duration": 3,
    "start_time": "2024-08-05T08:37:36.111Z"
   },
   {
    "duration": 46,
    "start_time": "2024-08-05T08:37:36.116Z"
   },
   {
    "duration": 6,
    "start_time": "2024-08-05T08:37:36.163Z"
   },
   {
    "duration": 267,
    "start_time": "2024-08-05T08:37:36.312Z"
   },
   {
    "duration": 166,
    "start_time": "2024-08-05T08:38:17.991Z"
   },
   {
    "duration": 140,
    "start_time": "2024-08-05T08:38:32.611Z"
   },
   {
    "duration": 142,
    "start_time": "2024-08-05T08:38:40.479Z"
   },
   {
    "duration": 134,
    "start_time": "2024-08-05T08:38:52.719Z"
   },
   {
    "duration": 150,
    "start_time": "2024-08-05T08:38:59.981Z"
   },
   {
    "duration": 140,
    "start_time": "2024-08-05T08:39:06.223Z"
   },
   {
    "duration": 11,
    "start_time": "2024-08-05T08:42:17.352Z"
   },
   {
    "duration": 1530,
    "start_time": "2024-08-05T08:44:37.019Z"
   },
   {
    "duration": 43,
    "start_time": "2024-08-05T08:44:39.149Z"
   },
   {
    "duration": 23,
    "start_time": "2024-08-05T08:44:39.633Z"
   },
   {
    "duration": 23,
    "start_time": "2024-08-05T08:44:39.825Z"
   },
   {
    "duration": 18,
    "start_time": "2024-08-05T08:44:40.144Z"
   },
   {
    "duration": 22,
    "start_time": "2024-08-05T08:44:40.670Z"
   },
   {
    "duration": 15,
    "start_time": "2024-08-05T08:44:40.840Z"
   },
   {
    "duration": 12,
    "start_time": "2024-08-05T08:44:41.022Z"
   },
   {
    "duration": 13,
    "start_time": "2024-08-05T08:44:41.535Z"
   },
   {
    "duration": 11,
    "start_time": "2024-08-05T08:44:41.913Z"
   },
   {
    "duration": 182,
    "start_time": "2024-08-05T08:44:42.012Z"
   },
   {
    "duration": 11,
    "start_time": "2024-08-05T08:44:42.631Z"
   },
   {
    "duration": 18,
    "start_time": "2024-08-05T08:44:42.962Z"
   },
   {
    "duration": 12,
    "start_time": "2024-08-05T08:44:43.174Z"
   },
   {
    "duration": 7,
    "start_time": "2024-08-05T08:44:43.500Z"
   },
   {
    "duration": 125,
    "start_time": "2024-08-05T08:44:43.680Z"
   },
   {
    "duration": 13,
    "start_time": "2024-08-05T08:44:44.340Z"
   },
   {
    "duration": 16,
    "start_time": "2024-08-05T08:44:44.627Z"
   },
   {
    "duration": 41,
    "start_time": "2024-08-05T08:44:44.863Z"
   },
   {
    "duration": 10,
    "start_time": "2024-08-05T08:44:45.077Z"
   },
   {
    "duration": 7,
    "start_time": "2024-08-05T08:44:45.685Z"
   },
   {
    "duration": 11,
    "start_time": "2024-08-05T08:44:46.008Z"
   },
   {
    "duration": 16,
    "start_time": "2024-08-05T08:44:46.436Z"
   },
   {
    "duration": 8,
    "start_time": "2024-08-05T08:44:46.567Z"
   },
   {
    "duration": 88,
    "start_time": "2024-08-05T08:44:47.304Z"
   },
   {
    "duration": 26,
    "start_time": "2024-08-05T08:44:47.483Z"
   },
   {
    "duration": 17,
    "start_time": "2024-08-05T08:44:47.751Z"
   },
   {
    "duration": 26,
    "start_time": "2024-08-05T08:44:48.078Z"
   },
   {
    "duration": 12,
    "start_time": "2024-08-05T08:44:49.057Z"
   },
   {
    "duration": 14,
    "start_time": "2024-08-05T08:44:49.253Z"
   },
   {
    "duration": 93,
    "start_time": "2024-08-05T08:44:49.581Z"
   },
   {
    "duration": 14,
    "start_time": "2024-08-05T08:44:49.676Z"
   },
   {
    "duration": 4,
    "start_time": "2024-08-05T08:44:49.762Z"
   },
   {
    "duration": 18,
    "start_time": "2024-08-05T08:44:50.105Z"
   },
   {
    "duration": 21,
    "start_time": "2024-08-05T08:44:50.199Z"
   },
   {
    "duration": 22,
    "start_time": "2024-08-05T08:44:50.693Z"
   },
   {
    "duration": 15,
    "start_time": "2024-08-05T08:44:51.380Z"
   },
   {
    "duration": 193,
    "start_time": "2024-08-05T08:44:51.677Z"
   },
   {
    "duration": 6,
    "start_time": "2024-08-05T08:44:51.881Z"
   },
   {
    "duration": 40,
    "start_time": "2024-08-05T08:44:51.969Z"
   },
   {
    "duration": 166,
    "start_time": "2024-08-05T08:44:52.202Z"
   },
   {
    "duration": 26,
    "start_time": "2024-08-05T08:44:52.924Z"
   },
   {
    "duration": 9,
    "start_time": "2024-08-05T08:44:52.952Z"
   },
   {
    "duration": 5,
    "start_time": "2024-08-05T08:44:53.447Z"
   },
   {
    "duration": 28,
    "start_time": "2024-08-05T08:44:53.454Z"
   },
   {
    "duration": 30,
    "start_time": "2024-08-05T08:44:53.484Z"
   },
   {
    "duration": 12,
    "start_time": "2024-08-05T08:44:53.973Z"
   },
   {
    "duration": 9,
    "start_time": "2024-08-05T08:44:53.987Z"
   },
   {
    "duration": 25,
    "start_time": "2024-08-05T08:44:53.998Z"
   },
   {
    "duration": 65,
    "start_time": "2024-08-05T08:44:54.025Z"
   },
   {
    "duration": 13,
    "start_time": "2024-08-05T08:44:54.315Z"
   },
   {
    "duration": 15,
    "start_time": "2024-08-05T08:44:54.828Z"
   },
   {
    "duration": 6,
    "start_time": "2024-08-05T08:44:54.991Z"
   },
   {
    "duration": 26,
    "start_time": "2024-08-05T08:44:55.091Z"
   },
   {
    "duration": 7,
    "start_time": "2024-08-05T08:44:55.445Z"
   },
   {
    "duration": 4,
    "start_time": "2024-08-05T08:44:55.552Z"
   },
   {
    "duration": 5,
    "start_time": "2024-08-05T08:44:55.697Z"
   },
   {
    "duration": 5,
    "start_time": "2024-08-05T08:44:55.775Z"
   },
   {
    "duration": 5,
    "start_time": "2024-08-05T08:44:55.908Z"
   },
   {
    "duration": 5,
    "start_time": "2024-08-05T08:44:56.132Z"
   },
   {
    "duration": 4,
    "start_time": "2024-08-05T08:44:56.384Z"
   },
   {
    "duration": 26,
    "start_time": "2024-08-05T08:44:56.568Z"
   },
   {
    "duration": 10,
    "start_time": "2024-08-05T08:44:56.976Z"
   },
   {
    "duration": 14,
    "start_time": "2024-08-05T08:44:57.506Z"
   },
   {
    "duration": 7,
    "start_time": "2024-08-05T08:44:57.696Z"
   },
   {
    "duration": 4,
    "start_time": "2024-08-05T08:44:58.765Z"
   },
   {
    "duration": 69,
    "start_time": "2024-08-05T08:44:59.099Z"
   },
   {
    "duration": 40,
    "start_time": "2024-08-05T08:44:59.417Z"
   },
   {
    "duration": 28517,
    "start_time": "2024-08-05T08:45:00.072Z"
   },
   {
    "duration": 18387,
    "start_time": "2024-08-05T08:45:28.591Z"
   },
   {
    "duration": 4,
    "start_time": "2024-08-05T08:45:46.982Z"
   },
   {
    "duration": 264626,
    "start_time": "2024-08-05T08:45:46.988Z"
   },
   {
    "duration": 4,
    "start_time": "2024-08-05T08:50:11.616Z"
   },
   {
    "duration": 26,
    "start_time": "2024-08-05T08:50:11.621Z"
   },
   {
    "duration": 6,
    "start_time": "2024-08-05T08:50:11.649Z"
   },
   {
    "duration": 176,
    "start_time": "2024-08-05T08:50:11.656Z"
   },
   {
    "duration": 168,
    "start_time": "2024-08-05T08:50:11.834Z"
   },
   {
    "duration": 8,
    "start_time": "2024-08-05T09:00:49.508Z"
   },
   {
    "duration": 5,
    "start_time": "2024-08-05T09:01:38.957Z"
   },
   {
    "duration": 5,
    "start_time": "2024-08-05T09:06:06.252Z"
   },
   {
    "duration": 138,
    "start_time": "2024-08-05T09:13:42.614Z"
   },
   {
    "duration": 10,
    "start_time": "2024-08-05T09:14:01.386Z"
   },
   {
    "duration": 9,
    "start_time": "2024-08-05T09:14:43.755Z"
   },
   {
    "duration": 10,
    "start_time": "2024-08-05T09:15:01.001Z"
   },
   {
    "duration": 11,
    "start_time": "2024-08-05T09:16:34.908Z"
   },
   {
    "duration": 11,
    "start_time": "2024-08-05T09:16:58.288Z"
   },
   {
    "duration": 10,
    "start_time": "2024-08-05T09:17:21.179Z"
   },
   {
    "duration": 9,
    "start_time": "2024-08-05T09:18:51.023Z"
   },
   {
    "duration": 4,
    "start_time": "2024-08-05T09:18:56.199Z"
   },
   {
    "duration": 10,
    "start_time": "2024-08-05T09:22:58.513Z"
   },
   {
    "duration": 11,
    "start_time": "2024-08-05T09:24:49.333Z"
   },
   {
    "duration": 10,
    "start_time": "2024-08-05T09:24:57.191Z"
   },
   {
    "duration": 257647,
    "start_time": "2024-08-05T09:29:22.228Z"
   },
   {
    "duration": 4,
    "start_time": "2024-08-05T09:33:39.878Z"
   },
   {
    "duration": 33,
    "start_time": "2024-08-05T09:33:39.884Z"
   },
   {
    "duration": 7,
    "start_time": "2024-08-05T09:33:39.919Z"
   },
   {
    "duration": 150,
    "start_time": "2024-08-05T09:34:49.588Z"
   },
   {
    "duration": 6,
    "start_time": "2024-08-05T09:34:50.798Z"
   },
   {
    "duration": 5,
    "start_time": "2024-08-05T09:34:51.094Z"
   },
   {
    "duration": 151,
    "start_time": "2024-08-05T09:34:51.829Z"
   },
   {
    "duration": 10,
    "start_time": "2024-08-05T09:34:53.004Z"
   },
   {
    "duration": 9,
    "start_time": "2024-08-05T09:35:34.561Z"
   },
   {
    "duration": 9,
    "start_time": "2024-08-05T09:35:40.532Z"
   },
   {
    "duration": 10,
    "start_time": "2024-08-05T09:36:06.191Z"
   },
   {
    "duration": 11,
    "start_time": "2024-08-05T09:37:16.668Z"
   },
   {
    "duration": 10,
    "start_time": "2024-08-05T09:37:26.896Z"
   },
   {
    "duration": 14,
    "start_time": "2024-08-05T09:38:14.917Z"
   },
   {
    "duration": 1525,
    "start_time": "2024-08-05T09:41:05.835Z"
   },
   {
    "duration": 43,
    "start_time": "2024-08-05T09:41:08.192Z"
   },
   {
    "duration": 23,
    "start_time": "2024-08-05T09:41:08.458Z"
   },
   {
    "duration": 23,
    "start_time": "2024-08-05T09:41:08.675Z"
   },
   {
    "duration": 20,
    "start_time": "2024-08-05T09:41:08.863Z"
   },
   {
    "duration": 15,
    "start_time": "2024-08-05T09:41:09.361Z"
   },
   {
    "duration": 16,
    "start_time": "2024-08-05T09:41:09.616Z"
   },
   {
    "duration": 11,
    "start_time": "2024-08-05T09:41:09.796Z"
   },
   {
    "duration": 13,
    "start_time": "2024-08-05T09:41:10.149Z"
   },
   {
    "duration": 11,
    "start_time": "2024-08-05T09:41:10.486Z"
   },
   {
    "duration": 193,
    "start_time": "2024-08-05T09:41:10.671Z"
   },
   {
    "duration": 9,
    "start_time": "2024-08-05T09:41:11.485Z"
   },
   {
    "duration": 12,
    "start_time": "2024-08-05T09:41:11.785Z"
   },
   {
    "duration": 12,
    "start_time": "2024-08-05T09:41:12.006Z"
   },
   {
    "duration": 8,
    "start_time": "2024-08-05T09:41:12.301Z"
   },
   {
    "duration": 140,
    "start_time": "2024-08-05T09:41:12.421Z"
   },
   {
    "duration": 12,
    "start_time": "2024-08-05T09:41:13.126Z"
   },
   {
    "duration": 13,
    "start_time": "2024-08-05T09:41:13.453Z"
   },
   {
    "duration": 36,
    "start_time": "2024-08-05T09:41:13.664Z"
   },
   {
    "duration": 11,
    "start_time": "2024-08-05T09:41:13.907Z"
   },
   {
    "duration": 7,
    "start_time": "2024-08-05T09:41:14.501Z"
   },
   {
    "duration": 10,
    "start_time": "2024-08-05T09:41:14.773Z"
   },
   {
    "duration": 17,
    "start_time": "2024-08-05T09:41:14.989Z"
   },
   {
    "duration": 7,
    "start_time": "2024-08-05T09:41:15.256Z"
   },
   {
    "duration": 111,
    "start_time": "2024-08-05T09:41:15.936Z"
   },
   {
    "duration": 17,
    "start_time": "2024-08-05T09:41:16.112Z"
   },
   {
    "duration": 15,
    "start_time": "2024-08-05T09:41:16.249Z"
   },
   {
    "duration": 16,
    "start_time": "2024-08-05T09:41:16.448Z"
   },
   {
    "duration": 11,
    "start_time": "2024-08-05T09:41:20.169Z"
   },
   {
    "duration": 14,
    "start_time": "2024-08-05T09:41:20.360Z"
   },
   {
    "duration": 85,
    "start_time": "2024-08-05T09:41:20.701Z"
   },
   {
    "duration": 12,
    "start_time": "2024-08-05T09:41:20.847Z"
   },
   {
    "duration": 3,
    "start_time": "2024-08-05T09:41:21.023Z"
   },
   {
    "duration": 18,
    "start_time": "2024-08-05T09:41:21.392Z"
   },
   {
    "duration": 21,
    "start_time": "2024-08-05T09:41:21.617Z"
   },
   {
    "duration": 15,
    "start_time": "2024-08-05T09:41:21.958Z"
   },
   {
    "duration": 14,
    "start_time": "2024-08-05T09:41:22.569Z"
   },
   {
    "duration": 166,
    "start_time": "2024-08-05T09:41:22.790Z"
   },
   {
    "duration": 5,
    "start_time": "2024-08-05T09:41:22.989Z"
   },
   {
    "duration": 7,
    "start_time": "2024-08-05T09:41:23.165Z"
   },
   {
    "duration": 168,
    "start_time": "2024-08-05T09:41:23.361Z"
   },
   {
    "duration": 26,
    "start_time": "2024-08-05T09:41:23.733Z"
   },
   {
    "duration": 5,
    "start_time": "2024-08-05T09:41:24.143Z"
   },
   {
    "duration": 5,
    "start_time": "2024-08-05T09:41:24.954Z"
   },
   {
    "duration": 10,
    "start_time": "2024-08-05T09:41:24.961Z"
   },
   {
    "duration": 16,
    "start_time": "2024-08-05T09:41:24.973Z"
   },
   {
    "duration": 5,
    "start_time": "2024-08-05T09:41:25.160Z"
   },
   {
    "duration": 5,
    "start_time": "2024-08-05T09:41:25.366Z"
   },
   {
    "duration": 6,
    "start_time": "2024-08-05T09:41:25.863Z"
   },
   {
    "duration": 18,
    "start_time": "2024-08-05T09:41:26.143Z"
   },
   {
    "duration": 11,
    "start_time": "2024-08-05T09:41:26.533Z"
   },
   {
    "duration": 21,
    "start_time": "2024-08-05T09:41:26.728Z"
   },
   {
    "duration": 5,
    "start_time": "2024-08-05T09:41:27.545Z"
   },
   {
    "duration": 26,
    "start_time": "2024-08-05T09:41:27.763Z"
   },
   {
    "duration": 6,
    "start_time": "2024-08-05T09:41:31.543Z"
   },
   {
    "duration": 3,
    "start_time": "2024-08-05T09:41:31.717Z"
   },
   {
    "duration": 6,
    "start_time": "2024-08-05T09:41:31.909Z"
   },
   {
    "duration": 5,
    "start_time": "2024-08-05T09:41:32.088Z"
   },
   {
    "duration": 119,
    "start_time": "2024-08-05T09:41:32.305Z"
   },
   {
    "duration": 5,
    "start_time": "2024-08-05T09:41:32.635Z"
   },
   {
    "duration": 4,
    "start_time": "2024-08-05T09:41:32.858Z"
   },
   {
    "duration": 25,
    "start_time": "2024-08-05T09:41:33.072Z"
   },
   {
    "duration": 8,
    "start_time": "2024-08-05T09:41:33.333Z"
   },
   {
    "duration": 14,
    "start_time": "2024-08-05T09:41:38.932Z"
   },
   {
    "duration": 7,
    "start_time": "2024-08-05T09:41:39.138Z"
   },
   {
    "duration": 4,
    "start_time": "2024-08-05T09:41:39.338Z"
   },
   {
    "duration": 67,
    "start_time": "2024-08-05T09:41:39.779Z"
   },
   {
    "duration": 27,
    "start_time": "2024-08-05T09:41:40.154Z"
   },
   {
    "duration": 28312,
    "start_time": "2024-08-05T09:41:40.669Z"
   },
   {
    "duration": 17770,
    "start_time": "2024-08-05T09:42:08.984Z"
   },
   {
    "duration": 3,
    "start_time": "2024-08-05T09:42:26.755Z"
   },
   {
    "duration": 259977,
    "start_time": "2024-08-05T09:42:26.760Z"
   },
   {
    "duration": 4,
    "start_time": "2024-08-05T09:46:46.739Z"
   },
   {
    "duration": 44,
    "start_time": "2024-08-05T09:46:46.745Z"
   },
   {
    "duration": 7,
    "start_time": "2024-08-05T09:46:46.790Z"
   },
   {
    "duration": 172,
    "start_time": "2024-08-05T09:46:46.798Z"
   },
   {
    "duration": 11,
    "start_time": "2024-08-05T09:46:46.972Z"
   },
   {
    "duration": 6,
    "start_time": "2024-08-05T09:46:46.985Z"
   },
   {
    "duration": 146,
    "start_time": "2024-08-05T09:46:46.992Z"
   },
   {
    "duration": 0,
    "start_time": "2024-08-05T09:46:47.270Z"
   },
   {
    "duration": 14,
    "start_time": "2024-08-05T09:47:01.051Z"
   },
   {
    "duration": 9,
    "start_time": "2024-08-05T09:49:50.961Z"
   },
   {
    "duration": 178,
    "start_time": "2024-08-05T09:49:58.420Z"
   },
   {
    "duration": 11,
    "start_time": "2024-08-05T09:50:50.241Z"
   },
   {
    "duration": 10,
    "start_time": "2024-08-05T09:56:07.556Z"
   },
   {
    "duration": 11,
    "start_time": "2024-08-05T10:02:20.313Z"
   },
   {
    "duration": 15,
    "start_time": "2024-08-05T11:05:58.913Z"
   },
   {
    "duration": 13,
    "start_time": "2024-08-05T11:16:18.230Z"
   },
   {
    "duration": 10,
    "start_time": "2024-08-05T11:16:37.097Z"
   },
   {
    "duration": 9,
    "start_time": "2024-08-05T11:16:47.368Z"
   },
   {
    "duration": 2427,
    "start_time": "2024-08-05T11:28:02.268Z"
   },
   {
    "duration": 5,
    "start_time": "2024-08-05T11:28:25.769Z"
   },
   {
    "duration": 2671,
    "start_time": "2024-08-05T11:28:45.678Z"
   },
   {
    "duration": 2277,
    "start_time": "2024-08-05T11:29:21.067Z"
   },
   {
    "duration": 2471,
    "start_time": "2024-08-05T11:32:17.199Z"
   },
   {
    "duration": 2325,
    "start_time": "2024-08-05T11:33:12.108Z"
   },
   {
    "duration": 2548,
    "start_time": "2024-08-05T11:33:32.598Z"
   },
   {
    "duration": 2405,
    "start_time": "2024-08-05T11:34:11.512Z"
   },
   {
    "duration": 19028,
    "start_time": "2024-08-05T11:35:32.815Z"
   },
   {
    "duration": 6,
    "start_time": "2024-08-05T11:36:09.712Z"
   },
   {
    "duration": 481,
    "start_time": "2024-08-05T11:36:14.095Z"
   },
   {
    "duration": 6,
    "start_time": "2024-08-05T11:37:02.224Z"
   },
   {
    "duration": 480,
    "start_time": "2024-08-05T11:37:06.161Z"
   },
   {
    "duration": 11039,
    "start_time": "2024-08-05T11:44:24.129Z"
   },
   {
    "duration": 6,
    "start_time": "2024-08-05T11:44:35.170Z"
   },
   {
    "duration": 487,
    "start_time": "2024-08-05T11:44:35.180Z"
   },
   {
    "duration": 16,
    "start_time": "2024-08-05T11:45:48.023Z"
   },
   {
    "duration": 10,
    "start_time": "2024-08-05T11:46:01.397Z"
   },
   {
    "duration": 19027,
    "start_time": "2024-08-05T11:46:35.605Z"
   },
   {
    "duration": 5,
    "start_time": "2024-08-05T11:46:54.634Z"
   },
   {
    "duration": 441,
    "start_time": "2024-08-05T11:46:54.641Z"
   },
   {
    "duration": 7,
    "start_time": "2024-08-05T11:55:01.284Z"
   },
   {
    "duration": 16,
    "start_time": "2024-08-05T12:14:57.853Z"
   },
   {
    "duration": 4158,
    "start_time": "2024-08-05T12:15:18.582Z"
   },
   {
    "duration": 14,
    "start_time": "2024-08-05T12:17:37.850Z"
   },
   {
    "duration": 61,
    "start_time": "2024-08-05T12:17:48.133Z"
   },
   {
    "duration": 1022,
    "start_time": "2024-08-05T12:18:07.789Z"
   },
   {
    "duration": 19,
    "start_time": "2024-08-05T12:18:28.481Z"
   },
   {
    "duration": 4391,
    "start_time": "2024-08-05T12:20:11.334Z"
   },
   {
    "duration": 3901,
    "start_time": "2024-08-05T12:23:03.697Z"
   },
   {
    "duration": 3641,
    "start_time": "2024-08-05T12:24:07.472Z"
   },
   {
    "duration": 3696,
    "start_time": "2024-08-05T12:24:57.956Z"
   },
   {
    "duration": 3737,
    "start_time": "2024-08-05T12:25:21.972Z"
   },
   {
    "duration": 15,
    "start_time": "2024-08-05T12:27:44.178Z"
   },
   {
    "duration": 380,
    "start_time": "2024-08-05T12:28:04.449Z"
   },
   {
    "duration": 1563,
    "start_time": "2024-08-05T12:33:57.144Z"
   },
   {
    "duration": 47,
    "start_time": "2024-08-05T12:33:58.708Z"
   },
   {
    "duration": 27,
    "start_time": "2024-08-05T12:33:58.756Z"
   },
   {
    "duration": 24,
    "start_time": "2024-08-05T12:33:59.008Z"
   },
   {
    "duration": 19,
    "start_time": "2024-08-05T12:33:59.192Z"
   },
   {
    "duration": 16,
    "start_time": "2024-08-05T12:34:01.105Z"
   },
   {
    "duration": 15,
    "start_time": "2024-08-05T12:34:01.740Z"
   },
   {
    "duration": 13,
    "start_time": "2024-08-05T12:34:02.359Z"
   },
   {
    "duration": 13,
    "start_time": "2024-08-05T12:34:02.804Z"
   },
   {
    "duration": 10,
    "start_time": "2024-08-05T12:34:07.543Z"
   },
   {
    "duration": 210,
    "start_time": "2024-08-05T12:34:07.921Z"
   },
   {
    "duration": 9,
    "start_time": "2024-08-05T12:34:10.312Z"
   },
   {
    "duration": 16,
    "start_time": "2024-08-05T12:34:10.773Z"
   },
   {
    "duration": 13,
    "start_time": "2024-08-05T12:34:11.107Z"
   },
   {
    "duration": 8,
    "start_time": "2024-08-05T12:34:11.460Z"
   },
   {
    "duration": 125,
    "start_time": "2024-08-05T12:34:11.591Z"
   },
   {
    "duration": 12,
    "start_time": "2024-08-05T12:34:13.557Z"
   },
   {
    "duration": 13,
    "start_time": "2024-08-05T12:34:13.793Z"
   },
   {
    "duration": 42,
    "start_time": "2024-08-05T12:34:14.292Z"
   },
   {
    "duration": 8,
    "start_time": "2024-08-05T12:34:14.941Z"
   },
   {
    "duration": 7,
    "start_time": "2024-08-05T12:34:16.877Z"
   },
   {
    "duration": 12,
    "start_time": "2024-08-05T12:34:17.557Z"
   },
   {
    "duration": 17,
    "start_time": "2024-08-05T12:34:17.785Z"
   },
   {
    "duration": 7,
    "start_time": "2024-08-05T12:34:18.098Z"
   },
   {
    "duration": 102,
    "start_time": "2024-08-05T12:34:20.026Z"
   },
   {
    "duration": 23,
    "start_time": "2024-08-05T12:34:20.252Z"
   },
   {
    "duration": 18,
    "start_time": "2024-08-05T12:34:20.784Z"
   },
   {
    "duration": 16,
    "start_time": "2024-08-05T12:34:21.053Z"
   },
   {
    "duration": 12,
    "start_time": "2024-08-05T12:34:24.525Z"
   },
   {
    "duration": 90,
    "start_time": "2024-08-05T12:34:25.010Z"
   },
   {
    "duration": 10,
    "start_time": "2024-08-05T12:34:25.744Z"
   },
   {
    "duration": 11,
    "start_time": "2024-08-05T12:34:26.241Z"
   },
   {
    "duration": 4,
    "start_time": "2024-08-05T12:34:26.765Z"
   },
   {
    "duration": 19,
    "start_time": "2024-08-05T12:34:27.230Z"
   },
   {
    "duration": 21,
    "start_time": "2024-08-05T12:34:28.026Z"
   },
   {
    "duration": 14,
    "start_time": "2024-08-05T12:34:28.366Z"
   },
   {
    "duration": 14,
    "start_time": "2024-08-05T12:34:31.315Z"
   },
   {
    "duration": 182,
    "start_time": "2024-08-05T12:34:31.660Z"
   },
   {
    "duration": 5,
    "start_time": "2024-08-05T12:34:32.261Z"
   },
   {
    "duration": 7,
    "start_time": "2024-08-05T12:34:32.858Z"
   },
   {
    "duration": 169,
    "start_time": "2024-08-05T12:34:33.230Z"
   },
   {
    "duration": 26,
    "start_time": "2024-08-05T12:34:34.442Z"
   },
   {
    "duration": 5,
    "start_time": "2024-08-05T12:34:35.625Z"
   },
   {
    "duration": 5,
    "start_time": "2024-08-05T12:34:35.825Z"
   },
   {
    "duration": 5,
    "start_time": "2024-08-05T12:34:36.224Z"
   },
   {
    "duration": 5,
    "start_time": "2024-08-05T12:34:36.810Z"
   },
   {
    "duration": 5,
    "start_time": "2024-08-05T12:34:37.093Z"
   },
   {
    "duration": 5,
    "start_time": "2024-08-05T12:34:37.661Z"
   },
   {
    "duration": 6,
    "start_time": "2024-08-05T12:34:37.960Z"
   },
   {
    "duration": 18,
    "start_time": "2024-08-05T12:34:38.479Z"
   },
   {
    "duration": 12,
    "start_time": "2024-08-05T12:34:39.642Z"
   },
   {
    "duration": 15,
    "start_time": "2024-08-05T12:34:40.443Z"
   },
   {
    "duration": 5,
    "start_time": "2024-08-05T12:34:41.759Z"
   },
   {
    "duration": 27,
    "start_time": "2024-08-05T12:34:47.628Z"
   },
   {
    "duration": 6,
    "start_time": "2024-08-05T12:34:48.459Z"
   },
   {
    "duration": 3,
    "start_time": "2024-08-05T12:34:49.386Z"
   },
   {
    "duration": 5,
    "start_time": "2024-08-05T12:34:49.591Z"
   },
   {
    "duration": 6,
    "start_time": "2024-08-05T12:34:49.794Z"
   },
   {
    "duration": 4,
    "start_time": "2024-08-05T12:34:50.129Z"
   },
   {
    "duration": 5,
    "start_time": "2024-08-05T12:34:50.910Z"
   },
   {
    "duration": 4,
    "start_time": "2024-08-05T12:34:51.563Z"
   },
   {
    "duration": 28,
    "start_time": "2024-08-05T12:34:52.163Z"
   },
   {
    "duration": 385,
    "start_time": "2024-08-05T12:34:52.848Z"
   },
   {
    "duration": 5,
    "start_time": "2024-08-05T12:34:54.159Z"
   },
   {
    "duration": 14,
    "start_time": "2024-08-05T12:35:16.611Z"
   },
   {
    "duration": 7,
    "start_time": "2024-08-05T12:35:22.895Z"
   },
   {
    "duration": 7,
    "start_time": "2024-08-05T12:35:24.423Z"
   },
   {
    "duration": 3,
    "start_time": "2024-08-05T12:35:24.816Z"
   },
   {
    "duration": 72,
    "start_time": "2024-08-05T12:35:25.864Z"
   },
   {
    "duration": 40,
    "start_time": "2024-08-05T12:35:27.075Z"
   },
   {
    "duration": 32074,
    "start_time": "2024-08-05T12:35:28.809Z"
   },
   {
    "duration": 17982,
    "start_time": "2024-08-05T12:36:00.885Z"
   },
   {
    "duration": 3,
    "start_time": "2024-08-05T12:36:18.869Z"
   },
   {
    "duration": 261254,
    "start_time": "2024-08-05T12:36:18.874Z"
   },
   {
    "duration": 4,
    "start_time": "2024-08-05T12:40:40.130Z"
   },
   {
    "duration": 29,
    "start_time": "2024-08-05T12:40:40.136Z"
   },
   {
    "duration": 5,
    "start_time": "2024-08-05T12:40:40.168Z"
   },
   {
    "duration": 182,
    "start_time": "2024-08-05T12:40:40.175Z"
   },
   {
    "duration": 6,
    "start_time": "2024-08-05T12:40:40.360Z"
   },
   {
    "duration": 18,
    "start_time": "2024-08-05T12:40:40.368Z"
   },
   {
    "duration": 173,
    "start_time": "2024-08-05T12:40:40.388Z"
   },
   {
    "duration": 18334,
    "start_time": "2024-08-05T12:40:40.563Z"
   },
   {
    "duration": 6,
    "start_time": "2024-08-05T12:40:58.898Z"
   },
   {
    "duration": 483,
    "start_time": "2024-08-05T12:40:58.905Z"
   },
   {
    "duration": 2983,
    "start_time": "2024-08-05T19:59:21.803Z"
   },
   {
    "duration": 159,
    "start_time": "2024-08-05T19:59:25.657Z"
   },
   {
    "duration": 82,
    "start_time": "2024-08-05T19:59:31.488Z"
   },
   {
    "duration": 83,
    "start_time": "2024-08-05T19:59:32.900Z"
   },
   {
    "duration": 98,
    "start_time": "2024-08-05T19:59:33.452Z"
   },
   {
    "duration": 16,
    "start_time": "2024-08-05T20:03:17.347Z"
   },
   {
    "duration": 14,
    "start_time": "2024-08-05T20:03:18.381Z"
   },
   {
    "duration": 10,
    "start_time": "2024-08-05T20:03:19.027Z"
   },
   {
    "duration": 12,
    "start_time": "2024-08-05T20:11:28.687Z"
   },
   {
    "duration": 9,
    "start_time": "2024-08-05T20:11:29.610Z"
   },
   {
    "duration": 173,
    "start_time": "2024-08-05T20:11:30.643Z"
   },
   {
    "duration": 9,
    "start_time": "2024-08-05T20:13:07.628Z"
   },
   {
    "duration": 12,
    "start_time": "2024-08-05T20:13:08.313Z"
   },
   {
    "duration": 12,
    "start_time": "2024-08-05T20:13:09.186Z"
   },
   {
    "duration": 9,
    "start_time": "2024-08-05T20:13:09.860Z"
   },
   {
    "duration": 120,
    "start_time": "2024-08-05T20:13:10.756Z"
   },
   {
    "duration": 10,
    "start_time": "2024-08-05T20:15:27.243Z"
   },
   {
    "duration": 12,
    "start_time": "2024-08-05T20:15:27.970Z"
   },
   {
    "duration": 29,
    "start_time": "2024-08-05T20:15:28.850Z"
   },
   {
    "duration": 8,
    "start_time": "2024-08-05T20:15:30.200Z"
   },
   {
    "duration": 7,
    "start_time": "2024-08-05T20:16:40.275Z"
   },
   {
    "duration": 10,
    "start_time": "2024-08-05T20:16:41.050Z"
   },
   {
    "duration": 16,
    "start_time": "2024-08-05T20:16:41.725Z"
   },
   {
    "duration": 6,
    "start_time": "2024-08-05T20:16:42.809Z"
   },
   {
    "duration": 85,
    "start_time": "2024-08-05T20:18:11.559Z"
   },
   {
    "duration": 20,
    "start_time": "2024-08-05T20:18:13.684Z"
   },
   {
    "duration": 17,
    "start_time": "2024-08-05T20:18:17.757Z"
   },
   {
    "duration": 15,
    "start_time": "2024-08-05T20:18:19.247Z"
   },
   {
    "duration": 11,
    "start_time": "2024-08-05T20:23:51.770Z"
   },
   {
    "duration": 14,
    "start_time": "2024-08-05T20:23:53.207Z"
   },
   {
    "duration": 84,
    "start_time": "2024-08-05T20:23:53.882Z"
   },
   {
    "duration": 11,
    "start_time": "2024-08-05T20:23:55.078Z"
   },
   {
    "duration": 3,
    "start_time": "2024-08-05T20:23:59.807Z"
   },
   {
    "duration": 18,
    "start_time": "2024-08-05T20:24:00.981Z"
   },
   {
    "duration": 19,
    "start_time": "2024-08-05T20:24:05.930Z"
   },
   {
    "duration": 13,
    "start_time": "2024-08-05T20:24:06.635Z"
   },
   {
    "duration": 12,
    "start_time": "2024-08-05T20:33:15.901Z"
   },
   {
    "duration": 167,
    "start_time": "2024-08-05T20:33:18.099Z"
   },
   {
    "duration": 5,
    "start_time": "2024-08-05T20:33:22.777Z"
   },
   {
    "duration": 7,
    "start_time": "2024-08-05T20:33:25.018Z"
   },
   {
    "duration": 161,
    "start_time": "2024-08-05T20:33:25.557Z"
   },
   {
    "duration": 31,
    "start_time": "2024-08-05T20:33:27.201Z"
   },
   {
    "duration": 5,
    "start_time": "2024-08-05T20:33:31.332Z"
   },
   {
    "duration": 5,
    "start_time": "2024-08-05T20:33:31.539Z"
   },
   {
    "duration": 5,
    "start_time": "2024-08-05T20:33:31.754Z"
   },
   {
    "duration": 5,
    "start_time": "2024-08-05T20:33:31.959Z"
   },
   {
    "duration": 4,
    "start_time": "2024-08-05T20:33:32.204Z"
   },
   {
    "duration": 6,
    "start_time": "2024-08-05T20:33:32.451Z"
   },
   {
    "duration": 4,
    "start_time": "2024-08-05T20:33:33.434Z"
   },
   {
    "duration": 12,
    "start_time": "2024-08-05T20:33:33.712Z"
   },
   {
    "duration": 10,
    "start_time": "2024-08-05T20:39:52.096Z"
   },
   {
    "duration": 15,
    "start_time": "2024-08-05T20:39:52.863Z"
   },
   {
    "duration": 5,
    "start_time": "2024-08-05T20:40:03.291Z"
   },
   {
    "duration": 24,
    "start_time": "2024-08-05T20:40:04.188Z"
   },
   {
    "duration": 6,
    "start_time": "2024-08-05T20:40:57.163Z"
   },
   {
    "duration": 3,
    "start_time": "2024-08-05T20:40:57.859Z"
   },
   {
    "duration": 5,
    "start_time": "2024-08-05T20:41:00.353Z"
   },
   {
    "duration": 6,
    "start_time": "2024-08-05T20:41:01.144Z"
   },
   {
    "duration": 5,
    "start_time": "2024-08-05T20:41:02.245Z"
   },
   {
    "duration": 5,
    "start_time": "2024-08-05T20:52:13.932Z"
   },
   {
    "duration": 26,
    "start_time": "2024-08-05T20:52:14.784Z"
   },
   {
    "duration": 1717,
    "start_time": "2024-08-06T04:10:56.029Z"
   },
   {
    "duration": 157,
    "start_time": "2024-08-06T04:10:57.749Z"
   },
   {
    "duration": 122,
    "start_time": "2024-08-06T04:10:57.908Z"
   },
   {
    "duration": 103,
    "start_time": "2024-08-06T04:10:58.032Z"
   },
   {
    "duration": 73,
    "start_time": "2024-08-06T04:10:58.136Z"
   },
   {
    "duration": 15,
    "start_time": "2024-08-06T04:10:58.210Z"
   },
   {
    "duration": 13,
    "start_time": "2024-08-06T04:11:06.020Z"
   },
   {
    "duration": 10,
    "start_time": "2024-08-06T04:11:06.456Z"
   },
   {
    "duration": 11,
    "start_time": "2024-08-06T04:11:07.015Z"
   },
   {
    "duration": 10,
    "start_time": "2024-08-06T04:11:07.281Z"
   },
   {
    "duration": 167,
    "start_time": "2024-08-06T04:11:07.506Z"
   },
   {
    "duration": 8,
    "start_time": "2024-08-06T04:11:08.417Z"
   },
   {
    "duration": 14,
    "start_time": "2024-08-06T04:11:08.819Z"
   },
   {
    "duration": 12,
    "start_time": "2024-08-06T04:11:09.032Z"
   },
   {
    "duration": 8,
    "start_time": "2024-08-06T04:11:09.227Z"
   },
   {
    "duration": 116,
    "start_time": "2024-08-06T04:11:09.454Z"
   },
   {
    "duration": 15,
    "start_time": "2024-08-06T04:11:10.252Z"
   },
   {
    "duration": 12,
    "start_time": "2024-08-06T04:11:10.457Z"
   },
   {
    "duration": 29,
    "start_time": "2024-08-06T04:11:11.517Z"
   },
   {
    "duration": 9,
    "start_time": "2024-08-06T04:11:11.710Z"
   },
   {
    "duration": 7,
    "start_time": "2024-08-06T04:11:12.861Z"
   },
   {
    "duration": 9,
    "start_time": "2024-08-06T04:11:13.187Z"
   },
   {
    "duration": 15,
    "start_time": "2024-08-06T04:11:13.456Z"
   },
   {
    "duration": 5,
    "start_time": "2024-08-06T04:11:13.671Z"
   },
   {
    "duration": 82,
    "start_time": "2024-08-06T04:11:14.719Z"
   },
   {
    "duration": 16,
    "start_time": "2024-08-06T04:11:15.003Z"
   },
   {
    "duration": 17,
    "start_time": "2024-08-06T04:11:15.499Z"
   },
   {
    "duration": 17,
    "start_time": "2024-08-06T04:11:15.722Z"
   },
   {
    "duration": 11,
    "start_time": "2024-08-06T04:11:18.031Z"
   },
   {
    "duration": 15,
    "start_time": "2024-08-06T04:11:18.465Z"
   },
   {
    "duration": 79,
    "start_time": "2024-08-06T04:11:18.672Z"
   },
   {
    "duration": 11,
    "start_time": "2024-08-06T04:11:18.853Z"
   },
   {
    "duration": 4,
    "start_time": "2024-08-06T04:11:19.013Z"
   },
   {
    "duration": 17,
    "start_time": "2024-08-06T04:11:19.263Z"
   },
   {
    "duration": 21,
    "start_time": "2024-08-06T04:11:20.813Z"
   },
   {
    "duration": 14,
    "start_time": "2024-08-06T04:11:21.639Z"
   },
   {
    "duration": 13,
    "start_time": "2024-08-06T04:11:24.484Z"
   },
   {
    "duration": 153,
    "start_time": "2024-08-06T04:11:24.712Z"
   },
   {
    "duration": 4,
    "start_time": "2024-08-06T04:11:24.981Z"
   },
   {
    "duration": 6,
    "start_time": "2024-08-06T04:11:26.140Z"
   },
   {
    "duration": 155,
    "start_time": "2024-08-06T04:11:27.151Z"
   },
   {
    "duration": 26,
    "start_time": "2024-08-06T04:11:27.934Z"
   },
   {
    "duration": 6,
    "start_time": "2024-08-06T04:11:30.566Z"
   },
   {
    "duration": 6,
    "start_time": "2024-08-06T04:11:30.865Z"
   },
   {
    "duration": 6,
    "start_time": "2024-08-06T04:11:31.117Z"
   },
   {
    "duration": 5,
    "start_time": "2024-08-06T04:11:31.311Z"
   },
   {
    "duration": 5,
    "start_time": "2024-08-06T04:11:31.515Z"
   },
   {
    "duration": 5,
    "start_time": "2024-08-06T04:11:31.723Z"
   },
   {
    "duration": 5,
    "start_time": "2024-08-06T04:11:32.401Z"
   },
   {
    "duration": 16,
    "start_time": "2024-08-06T04:11:32.881Z"
   },
   {
    "duration": 14,
    "start_time": "2024-08-06T04:11:34.231Z"
   },
   {
    "duration": 14,
    "start_time": "2024-08-06T04:11:35.625Z"
   },
   {
    "duration": 5,
    "start_time": "2024-08-06T04:11:39.486Z"
   },
   {
    "duration": 25,
    "start_time": "2024-08-06T04:11:39.899Z"
   },
   {
    "duration": 6,
    "start_time": "2024-08-06T04:11:43.197Z"
   },
   {
    "duration": 3,
    "start_time": "2024-08-06T04:11:45.932Z"
   },
   {
    "duration": 5,
    "start_time": "2024-08-06T04:11:48.236Z"
   },
   {
    "duration": 10,
    "start_time": "2024-08-06T04:11:49.819Z"
   },
   {
    "duration": 4,
    "start_time": "2024-08-06T04:11:55.375Z"
   },
   {
    "duration": 4,
    "start_time": "2024-08-06T04:12:11.235Z"
   },
   {
    "duration": 26,
    "start_time": "2024-08-06T04:12:13.806Z"
   },
   {
    "duration": 24,
    "start_time": "2024-08-06T04:13:56.664Z"
   },
   {
    "duration": 361,
    "start_time": "2024-08-06T04:13:57.806Z"
   },
   {
    "duration": 6,
    "start_time": "2024-08-06T04:13:59.392Z"
   },
   {
    "duration": 13,
    "start_time": "2024-08-06T04:14:06.651Z"
   },
   {
    "duration": 15,
    "start_time": "2024-08-06T04:18:05.644Z"
   },
   {
    "duration": 17,
    "start_time": "2024-08-06T04:18:50.878Z"
   },
   {
    "duration": 14,
    "start_time": "2024-08-06T04:20:32.528Z"
   },
   {
    "duration": 7,
    "start_time": "2024-08-06T04:20:36.222Z"
   },
   {
    "duration": 5,
    "start_time": "2024-08-06T04:20:41.088Z"
   },
   {
    "duration": 3,
    "start_time": "2024-08-06T04:20:42.186Z"
   },
   {
    "duration": 62,
    "start_time": "2024-08-06T04:20:44.004Z"
   },
   {
    "duration": 34,
    "start_time": "2024-08-06T04:20:45.423Z"
   },
   {
    "duration": 26607,
    "start_time": "2024-08-06T04:20:48.492Z"
   },
   {
    "duration": 16493,
    "start_time": "2024-08-06T04:21:15.101Z"
   },
   {
    "duration": 3,
    "start_time": "2024-08-06T04:21:31.596Z"
   },
   {
    "duration": 237267,
    "start_time": "2024-08-06T04:21:31.601Z"
   },
   {
    "duration": 3,
    "start_time": "2024-08-06T04:25:28.870Z"
   },
   {
    "duration": 22,
    "start_time": "2024-08-06T04:25:28.875Z"
   },
   {
    "duration": 6,
    "start_time": "2024-08-06T04:25:28.899Z"
   },
   {
    "duration": 159,
    "start_time": "2024-08-06T04:25:28.907Z"
   },
   {
    "duration": 6,
    "start_time": "2024-08-06T04:25:29.068Z"
   },
   {
    "duration": 5,
    "start_time": "2024-08-06T04:25:29.077Z"
   },
   {
    "duration": 153,
    "start_time": "2024-08-06T04:25:29.084Z"
   },
   {
    "duration": 16767,
    "start_time": "2024-08-06T04:25:29.239Z"
   },
   {
    "duration": 5,
    "start_time": "2024-08-06T04:25:46.008Z"
   },
   {
    "duration": 472,
    "start_time": "2024-08-06T04:25:46.014Z"
   },
   {
    "duration": 1426,
    "start_time": "2024-08-06T04:35:50.631Z"
   },
   {
    "duration": 42,
    "start_time": "2024-08-06T04:35:52.059Z"
   },
   {
    "duration": 22,
    "start_time": "2024-08-06T04:35:52.103Z"
   },
   {
    "duration": 24,
    "start_time": "2024-08-06T04:35:52.127Z"
   },
   {
    "duration": 19,
    "start_time": "2024-08-06T04:35:52.152Z"
   },
   {
    "duration": 17,
    "start_time": "2024-08-06T04:35:52.258Z"
   },
   {
    "duration": 14,
    "start_time": "2024-08-06T04:35:52.536Z"
   },
   {
    "duration": 10,
    "start_time": "2024-08-06T04:35:52.752Z"
   },
   {
    "duration": 15,
    "start_time": "2024-08-06T04:35:53.306Z"
   },
   {
    "duration": 11,
    "start_time": "2024-08-06T04:35:53.524Z"
   },
   {
    "duration": 182,
    "start_time": "2024-08-06T04:35:54.718Z"
   },
   {
    "duration": 8,
    "start_time": "2024-08-06T04:35:55.616Z"
   },
   {
    "duration": 12,
    "start_time": "2024-08-06T04:35:55.929Z"
   },
   {
    "duration": 11,
    "start_time": "2024-08-06T04:35:56.120Z"
   },
   {
    "duration": 8,
    "start_time": "2024-08-06T04:35:56.473Z"
   },
   {
    "duration": 139,
    "start_time": "2024-08-06T04:35:56.701Z"
   },
   {
    "duration": 10,
    "start_time": "2024-08-06T04:35:57.589Z"
   },
   {
    "duration": 13,
    "start_time": "2024-08-06T04:35:57.896Z"
   },
   {
    "duration": 31,
    "start_time": "2024-08-06T04:35:58.055Z"
   },
   {
    "duration": 11,
    "start_time": "2024-08-06T04:35:58.303Z"
   },
   {
    "duration": 8,
    "start_time": "2024-08-06T04:35:59.965Z"
   },
   {
    "duration": 13,
    "start_time": "2024-08-06T04:36:00.241Z"
   },
   {
    "duration": 16,
    "start_time": "2024-08-06T04:36:01.552Z"
   },
   {
    "duration": 7,
    "start_time": "2024-08-06T04:36:01.819Z"
   },
   {
    "duration": 90,
    "start_time": "2024-08-06T04:36:03.696Z"
   },
   {
    "duration": 16,
    "start_time": "2024-08-06T04:36:03.995Z"
   },
   {
    "duration": 17,
    "start_time": "2024-08-06T04:36:04.249Z"
   },
   {
    "duration": 16,
    "start_time": "2024-08-06T04:36:04.650Z"
   },
   {
    "duration": 11,
    "start_time": "2024-08-06T04:36:06.528Z"
   },
   {
    "duration": 13,
    "start_time": "2024-08-06T04:36:06.723Z"
   },
   {
    "duration": 79,
    "start_time": "2024-08-06T04:36:06.921Z"
   },
   {
    "duration": 11,
    "start_time": "2024-08-06T04:36:07.516Z"
   },
   {
    "duration": 3,
    "start_time": "2024-08-06T04:36:07.707Z"
   },
   {
    "duration": 17,
    "start_time": "2024-08-06T04:36:07.937Z"
   },
   {
    "duration": 20,
    "start_time": "2024-08-06T04:36:08.112Z"
   },
   {
    "duration": 15,
    "start_time": "2024-08-06T04:36:08.416Z"
   },
   {
    "duration": 15,
    "start_time": "2024-08-06T04:36:10.150Z"
   },
   {
    "duration": 161,
    "start_time": "2024-08-06T04:36:10.392Z"
   },
   {
    "duration": 6,
    "start_time": "2024-08-06T04:36:10.661Z"
   },
   {
    "duration": 8,
    "start_time": "2024-08-06T04:36:10.961Z"
   },
   {
    "duration": 156,
    "start_time": "2024-08-06T04:36:11.263Z"
   },
   {
    "duration": 26,
    "start_time": "2024-08-06T04:36:12.236Z"
   },
   {
    "duration": 5,
    "start_time": "2024-08-06T04:36:12.895Z"
   },
   {
    "duration": 5,
    "start_time": "2024-08-06T04:36:13.366Z"
   },
   {
    "duration": 5,
    "start_time": "2024-08-06T04:36:13.816Z"
   },
   {
    "duration": 6,
    "start_time": "2024-08-06T04:36:13.985Z"
   },
   {
    "duration": 4,
    "start_time": "2024-08-06T04:36:14.175Z"
   },
   {
    "duration": 6,
    "start_time": "2024-08-06T04:36:14.309Z"
   },
   {
    "duration": 5,
    "start_time": "2024-08-06T04:36:14.527Z"
   },
   {
    "duration": 11,
    "start_time": "2024-08-06T04:36:14.788Z"
   },
   {
    "duration": 11,
    "start_time": "2024-08-06T04:36:15.462Z"
   },
   {
    "duration": 43,
    "start_time": "2024-08-06T04:36:15.529Z"
   },
   {
    "duration": 6,
    "start_time": "2024-08-06T04:36:16.027Z"
   },
   {
    "duration": 24,
    "start_time": "2024-08-06T04:36:16.246Z"
   },
   {
    "duration": 5,
    "start_time": "2024-08-06T04:36:16.821Z"
   },
   {
    "duration": 3,
    "start_time": "2024-08-06T04:36:17.004Z"
   },
   {
    "duration": 6,
    "start_time": "2024-08-06T04:36:17.346Z"
   },
   {
    "duration": 10,
    "start_time": "2024-08-06T04:36:17.819Z"
   },
   {
    "duration": 4,
    "start_time": "2024-08-06T04:36:18.917Z"
   },
   {
    "duration": 4,
    "start_time": "2024-08-06T04:36:26.702Z"
   },
   {
    "duration": 26,
    "start_time": "2024-08-06T04:36:28.026Z"
   },
   {
    "duration": 335,
    "start_time": "2024-08-06T04:36:28.318Z"
   },
   {
    "duration": 5,
    "start_time": "2024-08-06T04:36:30.098Z"
   },
   {
    "duration": 123,
    "start_time": "2024-08-06T04:36:31.597Z"
   },
   {
    "duration": 4,
    "start_time": "2024-08-06T04:36:57.684Z"
   },
   {
    "duration": 16,
    "start_time": "2024-08-06T04:37:02.065Z"
   },
   {
    "duration": 10,
    "start_time": "2024-08-06T04:37:05.814Z"
   },
   {
    "duration": 7,
    "start_time": "2024-08-06T04:37:07.512Z"
   },
   {
    "duration": 4,
    "start_time": "2024-08-06T04:37:09.281Z"
   },
   {
    "duration": 59,
    "start_time": "2024-08-06T04:37:10.821Z"
   },
   {
    "duration": 30,
    "start_time": "2024-08-06T04:37:11.813Z"
   },
   {
    "duration": 22589,
    "start_time": "2024-08-06T04:37:14.114Z"
   },
   {
    "duration": 17414,
    "start_time": "2024-08-06T04:37:36.704Z"
   },
   {
    "duration": 3,
    "start_time": "2024-08-06T04:37:54.119Z"
   },
   {
    "duration": 151,
    "start_time": "2024-08-06T04:37:54.124Z"
   },
   {
    "duration": 0,
    "start_time": "2024-08-06T04:37:54.305Z"
   },
   {
    "duration": 0,
    "start_time": "2024-08-06T04:37:54.306Z"
   },
   {
    "duration": 0,
    "start_time": "2024-08-06T04:37:54.307Z"
   },
   {
    "duration": 0,
    "start_time": "2024-08-06T04:37:54.308Z"
   },
   {
    "duration": 0,
    "start_time": "2024-08-06T04:37:54.309Z"
   },
   {
    "duration": 0,
    "start_time": "2024-08-06T04:37:54.310Z"
   },
   {
    "duration": 0,
    "start_time": "2024-08-06T04:37:54.311Z"
   },
   {
    "duration": 1,
    "start_time": "2024-08-06T04:37:54.311Z"
   },
   {
    "duration": 1,
    "start_time": "2024-08-06T04:37:54.312Z"
   },
   {
    "duration": 0,
    "start_time": "2024-08-06T04:37:54.313Z"
   },
   {
    "duration": 3,
    "start_time": "2024-08-06T04:38:29.082Z"
   },
   {
    "duration": 235449,
    "start_time": "2024-08-06T04:38:30.317Z"
   },
   {
    "duration": 5,
    "start_time": "2024-08-06T04:42:25.768Z"
   },
   {
    "duration": 28,
    "start_time": "2024-08-06T04:42:25.775Z"
   },
   {
    "duration": 6,
    "start_time": "2024-08-06T04:42:25.805Z"
   },
   {
    "duration": 184,
    "start_time": "2024-08-06T04:42:25.813Z"
   },
   {
    "duration": 5,
    "start_time": "2024-08-06T04:42:25.999Z"
   },
   {
    "duration": 26,
    "start_time": "2024-08-06T04:42:26.005Z"
   },
   {
    "duration": 132,
    "start_time": "2024-08-06T04:42:26.033Z"
   },
   {
    "duration": 16455,
    "start_time": "2024-08-06T04:42:26.166Z"
   },
   {
    "duration": 6,
    "start_time": "2024-08-06T04:42:42.624Z"
   },
   {
    "duration": 406,
    "start_time": "2024-08-06T04:42:42.632Z"
   },
   {
    "duration": 3296,
    "start_time": "2024-08-06T04:51:25.879Z"
   },
   {
    "duration": 158,
    "start_time": "2024-08-06T04:51:29.177Z"
   },
   {
    "duration": 133,
    "start_time": "2024-08-06T04:51:29.336Z"
   },
   {
    "duration": 97,
    "start_time": "2024-08-06T04:51:29.471Z"
   },
   {
    "duration": 72,
    "start_time": "2024-08-06T04:51:29.570Z"
   },
   {
    "duration": 26,
    "start_time": "2024-08-06T04:51:29.644Z"
   },
   {
    "duration": 15,
    "start_time": "2024-08-06T04:51:29.672Z"
   },
   {
    "duration": 11,
    "start_time": "2024-08-06T04:51:30.568Z"
   },
   {
    "duration": 13,
    "start_time": "2024-08-06T04:51:31.998Z"
   },
   {
    "duration": 10,
    "start_time": "2024-08-06T04:51:32.208Z"
   },
   {
    "duration": 196,
    "start_time": "2024-08-06T04:51:32.456Z"
   },
   {
    "duration": 12,
    "start_time": "2024-08-06T04:51:33.604Z"
   },
   {
    "duration": 12,
    "start_time": "2024-08-06T04:51:33.912Z"
   },
   {
    "duration": 15,
    "start_time": "2024-08-06T04:51:34.364Z"
   },
   {
    "duration": 8,
    "start_time": "2024-08-06T04:51:34.588Z"
   },
   {
    "duration": 131,
    "start_time": "2024-08-06T04:51:35.392Z"
   },
   {
    "duration": 11,
    "start_time": "2024-08-06T04:51:38.242Z"
   },
   {
    "duration": 12,
    "start_time": "2024-08-06T04:51:38.468Z"
   },
   {
    "duration": 29,
    "start_time": "2024-08-06T04:51:38.677Z"
   },
   {
    "duration": 8,
    "start_time": "2024-08-06T04:51:38.949Z"
   },
   {
    "duration": 7,
    "start_time": "2024-08-06T04:51:40.204Z"
   },
   {
    "duration": 12,
    "start_time": "2024-08-06T04:51:40.369Z"
   },
   {
    "duration": 16,
    "start_time": "2024-08-06T04:51:40.716Z"
   },
   {
    "duration": 6,
    "start_time": "2024-08-06T04:51:41.080Z"
   },
   {
    "duration": 91,
    "start_time": "2024-08-06T04:51:43.536Z"
   },
   {
    "duration": 22,
    "start_time": "2024-08-06T04:51:43.795Z"
   },
   {
    "duration": 16,
    "start_time": "2024-08-06T04:51:43.983Z"
   },
   {
    "duration": 15,
    "start_time": "2024-08-06T04:51:44.175Z"
   },
   {
    "duration": 12,
    "start_time": "2024-08-06T04:51:49.891Z"
   },
   {
    "duration": 95,
    "start_time": "2024-08-06T04:51:50.210Z"
   },
   {
    "duration": 15,
    "start_time": "2024-08-06T04:51:51.458Z"
   },
   {
    "duration": 14,
    "start_time": "2024-08-06T04:51:51.973Z"
   },
   {
    "duration": 3,
    "start_time": "2024-08-06T04:51:52.541Z"
   },
   {
    "duration": 17,
    "start_time": "2024-08-06T04:51:52.712Z"
   },
   {
    "duration": 21,
    "start_time": "2024-08-06T04:51:53.516Z"
   },
   {
    "duration": 16,
    "start_time": "2024-08-06T04:51:54.865Z"
   },
   {
    "duration": 14,
    "start_time": "2024-08-06T04:51:59.220Z"
   },
   {
    "duration": 178,
    "start_time": "2024-08-06T04:52:00.592Z"
   },
   {
    "duration": 5,
    "start_time": "2024-08-06T04:52:01.029Z"
   },
   {
    "duration": 7,
    "start_time": "2024-08-06T04:52:06.040Z"
   },
   {
    "duration": 205,
    "start_time": "2024-08-06T04:52:07.487Z"
   },
   {
    "duration": 32,
    "start_time": "2024-08-06T04:52:09.754Z"
   },
   {
    "duration": 5,
    "start_time": "2024-08-06T04:52:11.248Z"
   },
   {
    "duration": 5,
    "start_time": "2024-08-06T04:52:11.424Z"
   },
   {
    "duration": 6,
    "start_time": "2024-08-06T04:52:11.802Z"
   },
   {
    "duration": 5,
    "start_time": "2024-08-06T04:52:11.973Z"
   },
   {
    "duration": 7,
    "start_time": "2024-08-06T04:52:12.563Z"
   },
   {
    "duration": 5,
    "start_time": "2024-08-06T04:52:13.289Z"
   },
   {
    "duration": 5,
    "start_time": "2024-08-06T04:52:13.793Z"
   },
   {
    "duration": 12,
    "start_time": "2024-08-06T04:52:14.012Z"
   },
   {
    "duration": 12,
    "start_time": "2024-08-06T04:52:15.369Z"
   },
   {
    "duration": 16,
    "start_time": "2024-08-06T04:52:15.968Z"
   },
   {
    "duration": 5,
    "start_time": "2024-08-06T04:52:17.179Z"
   },
   {
    "duration": 24,
    "start_time": "2024-08-06T04:52:17.768Z"
   },
   {
    "duration": 8,
    "start_time": "2024-08-06T04:52:21.337Z"
   },
   {
    "duration": 3,
    "start_time": "2024-08-06T04:52:21.566Z"
   },
   {
    "duration": 5,
    "start_time": "2024-08-06T04:52:21.848Z"
   },
   {
    "duration": 10,
    "start_time": "2024-08-06T04:52:22.090Z"
   },
   {
    "duration": 4,
    "start_time": "2024-08-06T04:52:22.573Z"
   },
   {
    "duration": 4,
    "start_time": "2024-08-06T04:53:13.334Z"
   },
   {
    "duration": 26,
    "start_time": "2024-08-06T04:53:14.129Z"
   },
   {
    "duration": 400,
    "start_time": "2024-08-06T04:53:28.637Z"
   },
   {
    "duration": 5,
    "start_time": "2024-08-06T04:53:30.094Z"
   },
   {
    "duration": 5,
    "start_time": "2024-08-06T04:53:31.751Z"
   },
   {
    "duration": 14,
    "start_time": "2024-08-06T04:53:38.081Z"
   },
   {
    "duration": 11,
    "start_time": "2024-08-06T04:54:23.648Z"
   },
   {
    "duration": 6,
    "start_time": "2024-08-06T04:54:25.540Z"
   },
   {
    "duration": 3,
    "start_time": "2024-08-06T04:54:32.616Z"
   },
   {
    "duration": 68,
    "start_time": "2024-08-06T04:54:33.727Z"
   },
   {
    "duration": 26,
    "start_time": "2024-08-06T04:54:34.664Z"
   },
   {
    "duration": 49511,
    "start_time": "2024-08-06T04:54:48.968Z"
   }
  ],
  "kernelspec": {
   "display_name": "Python 3 (ipykernel)",
   "language": "python",
   "name": "python3"
  },
  "language_info": {
   "codemirror_mode": {
    "name": "ipython",
    "version": 3
   },
   "file_extension": ".py",
   "mimetype": "text/x-python",
   "name": "python",
   "nbconvert_exporter": "python",
   "pygments_lexer": "ipython3",
   "version": "3.9.5"
  },
  "toc": {
   "base_numbering": 1,
   "nav_menu": {},
   "number_sections": true,
   "sideBar": true,
   "skip_h1_title": true,
   "title_cell": "Table of Contents",
   "title_sidebar": "Contents",
   "toc_cell": false,
   "toc_position": {},
   "toc_section_display": true,
   "toc_window_display": false
  }
 },
 "nbformat": 4,
 "nbformat_minor": 5
}
